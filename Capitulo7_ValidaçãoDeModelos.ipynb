{
 "cells": [
  {
   "cell_type": "code",
   "execution_count": 1,
   "metadata": {},
   "outputs": [
    {
     "data": {
      "text/html": [
       "<div>\n",
       "<style scoped>\n",
       "    .dataframe tbody tr th:only-of-type {\n",
       "        vertical-align: middle;\n",
       "    }\n",
       "\n",
       "    .dataframe tbody tr th {\n",
       "        vertical-align: top;\n",
       "    }\n",
       "\n",
       "    .dataframe thead th {\n",
       "        text-align: right;\n",
       "    }\n",
       "</style>\n",
       "<table border=\"1\" class=\"dataframe\">\n",
       "  <thead>\n",
       "    <tr style=\"text-align: right;\">\n",
       "      <th></th>\n",
       "      <th>preco</th>\n",
       "      <th>vendido</th>\n",
       "      <th>idade_do_modelo</th>\n",
       "      <th>km_por_ano</th>\n",
       "    </tr>\n",
       "  </thead>\n",
       "  <tbody>\n",
       "    <tr>\n",
       "      <th>0</th>\n",
       "      <td>30941.02</td>\n",
       "      <td>1</td>\n",
       "      <td>18</td>\n",
       "      <td>35085.22134</td>\n",
       "    </tr>\n",
       "    <tr>\n",
       "      <th>1</th>\n",
       "      <td>40557.96</td>\n",
       "      <td>1</td>\n",
       "      <td>20</td>\n",
       "      <td>12622.05362</td>\n",
       "    </tr>\n",
       "    <tr>\n",
       "      <th>2</th>\n",
       "      <td>89627.50</td>\n",
       "      <td>0</td>\n",
       "      <td>12</td>\n",
       "      <td>11440.79806</td>\n",
       "    </tr>\n",
       "    <tr>\n",
       "      <th>3</th>\n",
       "      <td>95276.14</td>\n",
       "      <td>0</td>\n",
       "      <td>3</td>\n",
       "      <td>43167.32682</td>\n",
       "    </tr>\n",
       "    <tr>\n",
       "      <th>4</th>\n",
       "      <td>117384.68</td>\n",
       "      <td>1</td>\n",
       "      <td>4</td>\n",
       "      <td>12770.11290</td>\n",
       "    </tr>\n",
       "  </tbody>\n",
       "</table>\n",
       "</div>"
      ],
      "text/plain": [
       "       preco  vendido  idade_do_modelo   km_por_ano\n",
       "0   30941.02        1               18  35085.22134\n",
       "1   40557.96        1               20  12622.05362\n",
       "2   89627.50        0               12  11440.79806\n",
       "3   95276.14        0                3  43167.32682\n",
       "4  117384.68        1                4  12770.11290"
      ]
     },
     "execution_count": 1,
     "metadata": {},
     "output_type": "execute_result"
    }
   ],
   "source": [
    "import pandas as pd\n",
    "\n",
    "uri = \"https://gist.githubusercontent.com/guilhermesilveira/e99a526b2e7ccc6c3b70f53db43a87d2/raw/1605fc74aa778066bf2e6695e24d53cf65f2f447/machine-learning-carros-simulacao.csv\"\n",
    "dados = pd.read_csv(uri).drop(columns = [\"Unnamed: 0\"], axis=1)\n",
    "dados.head()"
   ]
  },
  {
   "cell_type": "markdown",
   "metadata": {},
   "source": [
    "preco: preço desejado de venda;\n",
    "\n",
    "vendido: se foi vendido ou não (0 ou 1);\n",
    "\n",
    "idade_do_modelo: indica de quantos anos atrás é esse carro;\n",
    "\n",
    "km_por_ano: Mostra a média de quilometragem que esse carro andou por ano."
   ]
  },
  {
   "cell_type": "markdown",
   "metadata": {},
   "source": [
    "vendido é uma categoria, a classificação que vamos utilizar são das classe 0 e 1. preco, idade_do_modeloe km_por_ano são as variáveis que temos de features para analisar.\n"
   ]
  },
  {
   "cell_type": "code",
   "execution_count": 2,
   "metadata": {},
   "outputs": [],
   "source": [
    "x = dados[[\"preco\", \"idade_do_modelo\", \"km_por_ano\"]]\n",
    "y = dados[\"vendido\"]\n"
   ]
  },
  {
   "cell_type": "markdown",
   "metadata": {},
   "source": [
    "Sendo x o que queremos analisar, e y a nossa classificação. Também vamos separar \"treino\" e \"teste\", usando o SKLearn. Vamos separar 75% para treino e 25% pra teste."
   ]
  },
  {
   "cell_type": "code",
   "execution_count": 3,
   "metadata": {},
   "outputs": [
    {
     "name": "stdout",
     "output_type": "stream",
     "text": [
      "Treinaremos com 7500 elementos e testaremos com 2500 elementos\n"
     ]
    }
   ],
   "source": [
    "import numpy as np\n",
    "from sklearn.model_selection import train_test_split\n",
    "from sklearn.svm import LinearSVC\n",
    "from sklearn.metrics import accuracy_score\n",
    "\n",
    "x = dados[[\"preco\", \"idade_do_modelo\", \"km_por_ano\"]]\n",
    "y = dados[\"vendido\"]\n",
    "\n",
    "SEED = 158020\n",
    "np.random.seed(SEED)\n",
    "train_x, test_x, train_y, test_y = train_test_split(x,y, test_size=0.25, stratify= y)\n",
    "print(\"Treinaremos com %d elementos e testaremos com %d elementos\" % (len(train_x), len(test_x)))"
   ]
  },
  {
   "cell_type": "markdown",
   "metadata": {},
   "source": [
    "Código acima realiza um teste em todos o elementos e realiza um teste com acada um deles\n"
   ]
  },
  {
   "cell_type": "code",
   "execution_count": 4,
   "metadata": {},
   "outputs": [
    {
     "name": "stdout",
     "output_type": "stream",
     "text": [
      "A acurácia do dummy stratified foi 50.96%\n"
     ]
    }
   ],
   "source": [
    "from sklearn.dummy import DummyClassifier\n",
    "\n",
    "dummy_stratified = DummyClassifier(strategy=\"stratified\")\n",
    "dummy_stratified.fit(train_x, train_y)\n",
    "acuracia = dummy_stratified.score(test_x, test_y) * 100\n",
    "\n",
    "print(\"A acurácia do dummy stratified foi %.2f%%\" % acuracia)"
   ]
  },
  {
   "cell_type": "code",
   "execution_count": 5,
   "metadata": {},
   "outputs": [
    {
     "name": "stdout",
     "output_type": "stream",
     "text": [
      "A acurácia foi 71.92%\n"
     ]
    }
   ],
   "source": [
    "from sklearn.tree import DecisionTreeClassifier\n",
    "\n",
    "SEED = 158020\n",
    "np.random.seed(SEED)\n",
    "modelo = DecisionTreeClassifier(max_depth=2)\n",
    "modelo.fit(train_x, train_y)\n",
    "previsoes = modelo.predict(test_x)\n",
    "\n",
    "acuracia = accuracy_score(test_y, previsoes) * 100\n",
    "print (\"A acurácia foi %.2f%%\" % acuracia)"
   ]
  },
  {
   "cell_type": "markdown",
   "metadata": {},
   "source": [
    "Aproximadamente 72%\n"
   ]
  },
  {
   "cell_type": "markdown",
   "metadata": {},
   "source": [
    "Entretanto, reparem que o código tem um SEED de 158020, que é um número qualquer escolhido aleatoriamente, para que pudéssemos rodar várias vezes, obtendo o mesmo resultado"
   ]
  },
  {
   "cell_type": "code",
   "execution_count": 6,
   "metadata": {},
   "outputs": [
    {
     "name": "stdout",
     "output_type": "stream",
     "text": [
      "Treinaremos com 7500 elementos e testaremos com 2500 elementos\n",
      "A acurácia foi 71.92%\n"
     ]
    }
   ],
   "source": [
    "x = dados[[\"preco\", \"idade_do_modelo\", \"km_por_ano\"]]\n",
    "y = dados[\"vendido\"]\n",
    "\n",
    "SEED = 158020\n",
    "np.random.seed(SEED)\n",
    "train_x, test_x, train_y, test_y = train_test_split(x,y, test_size=0.25, stratify= y)\n",
    "print(\"Treinaremos com %d elementos e testaremos com %d elementos\" % (len(train_x), len(test_x)))\n",
    "\n",
    "modelo = DecisionTreeClassifier(max_depth=2)\n",
    "modelo.fit(train_x, train_y)\n",
    "previsoes = modelo.predict(test_x)\n",
    "\n",
    "acuracia = accuracy_score(test_y, previsoes) * 100\n",
    "print (\"A acurácia foi %.2f%%\" % acuracia)"
   ]
  },
  {
   "cell_type": "code",
   "execution_count": 7,
   "metadata": {},
   "outputs": [
    {
     "name": "stdout",
     "output_type": "stream",
     "text": [
      "Treinaremos com 7500 elementos e testaremos com 2500 elementos\n",
      "A acurácia foi 76.84%\n"
     ]
    }
   ],
   "source": [
    "x = dados[[\"preco\", \"idade_do_modelo\", \"km_por_ano\"]]\n",
    "y = dados[\"vendido\"]\n",
    "\n",
    "SEED = 5\n",
    "np.random.seed(SEED)\n",
    "train_x, test_x, train_y, test_y = train_test_split(x,y, test_size=0.25, stratify= y)\n",
    "print(\"Treinaremos com %d elementos e testaremos com %d elementos\" % (len(train_x), len(test_x)))\n",
    "\n",
    "modelo = DecisionTreeClassifier(max_depth=2)\n",
    "modelo.fit(train_x, train_y)\n",
    "previsoes = modelo.predict(test_x)\n",
    "\n",
    "acuracia = accuracy_score(test_y, previsoes) * 100\n",
    "print (\"A acurácia foi %.2f%%\" % acuracia)"
   ]
  },
  {
   "cell_type": "markdown",
   "metadata": {},
   "source": [
    "Ao analisar os dois percebe que a SEED influencia no resultado.\n",
    "\n",
    "OBS: A acurácia sobe para 76.84%, quase 77%. Então, aquela decisão de julgar isso como bom ou ruim em comparação ao que obtínhamos com Dummy Classifier está melhor, entretanto, ainda estamos vulneráveis a tomar uma decisão baseada em uma aleatoriedade. Não faz sentido validar, julgar se é bom ou ruim, de acordo com um número aleatório. Queremos minimizar o efeito dessa aleatoriedade, dessa escolha aleatória do treino, do teste e da DecisionTreeClassifier, na nossa decisão."
   ]
  },
  {
   "cell_type": "code",
   "execution_count": 8,
   "metadata": {},
   "outputs": [
    {
     "data": {
      "text/plain": [
       "{'fit_time': array([0.00600052, 0.00599885, 0.00599861]),\n",
       " 'score_time': array([0.00199986, 0.00100136, 0.00200295]),\n",
       " 'test_score': array([0.75704859, 0.7629763 , 0.75337534])}"
      ]
     },
     "execution_count": 8,
     "metadata": {},
     "output_type": "execute_result"
    }
   ],
   "source": [
    "from sklearn.model_selection import cross_validate\n",
    "\n",
    "modelo = DecisionTreeClassifier(max_depth=2)\n",
    "results = cross_validate(modelo, x, y, cv=3, return_train_score=False)\n",
    "results"
   ]
  },
  {
   "cell_type": "markdown",
   "metadata": {},
   "source": [
    "tempo de execução (fit_time);\n",
    "\n",
    "tempo para nota (score_time);\n",
    "\n",
    "resultados de teste (test_score);\n",
    "\n",
    "resultados de treino (train_score).\n"
   ]
  },
  {
   "cell_type": "markdown",
   "metadata": {},
   "source": [
    "return_train_score=False fez com que o treino_score fosse removido"
   ]
  },
  {
   "cell_type": "code",
   "execution_count": 9,
   "metadata": {},
   "outputs": [
    {
     "data": {
      "text/plain": [
       "array([0.75704859, 0.7629763 , 0.75337534])"
      ]
     },
     "execution_count": 9,
     "metadata": {},
     "output_type": "execute_result"
    }
   ],
   "source": [
    "results[\"test_score\"]"
   ]
  },
  {
   "cell_type": "code",
   "execution_count": 10,
   "metadata": {},
   "outputs": [
    {
     "name": "stdout",
     "output_type": "stream",
     "text": [
      "Accuracy 0.75 0.77\n"
     ]
    }
   ],
   "source": [
    "media = results[\"test_score\"].mean()\n",
    "desvio_padrao = results[\"test_score\"].std()\n",
    "print(\"Accuracy %.2f %.2f\" % (media - 2 * desvio_padrao, media + 2 * desvio_padrao))"
   ]
  },
  {
   "cell_type": "markdown",
   "metadata": {},
   "source": [
    "colocando %.2f %.2f entre colchetes ([]);\n",
    "\n",
    "adicionando uma vírgula (,) entre %.2f %.2f;\n",
    "\n",
    "multiplicando (*) os resultados da subtração e adição da média por 100 para que o Accuracy — intervalo que desejamos utilizar — não seja um número decimal.\n"
   ]
  },
  {
   "cell_type": "code",
   "execution_count": 11,
   "metadata": {},
   "outputs": [
    {
     "name": "stdout",
     "output_type": "stream",
     "text": [
      "Accuracy com cross validation, 3 = [74.99, 76.57]\n"
     ]
    }
   ],
   "source": [
    "from sklearn.model_selection import cross_validate\n",
    "\n",
    "SEED = 158020\n",
    "np.random.seed(SEED)\n",
    "\n",
    "modelo = DecisionTreeClassifier(max_depth=2)\n",
    "results = cross_validate(modelo, x, y, cv = 3, return_train_score=False)\n",
    "media = results ['test_score'].mean()\n",
    "desvio_padrao = results['test_score'].std()\n",
    "print(\"Accuracy com cross validation, 3 = [%.2f, %.2f]\" % ((media - 2 *desvio_padrao) * 100, (media + 2 * desvio_padrao) * 100))"
   ]
  },
  {
   "cell_type": "markdown",
   "metadata": {},
   "source": [
    "OBS: Se alterarmos o valor do SEED, de 158020 para 5, continuaremos obtendo como resultado:"
   ]
  },
  {
   "cell_type": "code",
   "execution_count": 12,
   "metadata": {},
   "outputs": [
    {
     "name": "stdout",
     "output_type": "stream",
     "text": [
      "Accuracy com cross validation, 10 = [74.99, 76.57]\n"
     ]
    }
   ],
   "source": [
    "from sklearn.model_selection import cross_validate\n",
    "\n",
    "SEED = 301\n",
    "np.random.seed(SEED)\n",
    "\n",
    "modelo = DecisionTreeClassifier(max_depth=2)\n",
    "results = cross_validate(modelo, x, y, cv = 3, return_train_score=False)\n",
    "media = results ['test_score'].mean()\n",
    "desvio_padrao = results['test_score'].std()\n",
    "print(\"Accuracy com cross validation, 10 = [%.2f, %.2f]\" % ((media - 2 *desvio_padrao) * 100, (media + 2 * desvio_padrao) * 100))"
   ]
  },
  {
   "cell_type": "markdown",
   "metadata": {},
   "source": [
    "Percebam que mudamos o valor de SEED — número aleatório que influencia o algorítmo —, mas Accuracy se mantém. Podemos alterar novamente SEED, para 301, por exemplo, e o intervalo permanecerá o mesmo, de 74.99 a 76.57. Ou seja, nosso algorítimo não está mais tão suscetível a essa aleatoriedade! Contudo, estamos suscetíveis ao número de cv."
   ]
  },
  {
   "cell_type": "markdown",
   "metadata": {},
   "source": [
    "Mudemos cv de 10 para 5."
   ]
  },
  {
   "cell_type": "code",
   "execution_count": 13,
   "metadata": {},
   "outputs": [
    {
     "name": "stdout",
     "output_type": "stream",
     "text": [
      "Accuracy com cross validation, 5 = [74.99, 76.57]\n"
     ]
    }
   ],
   "source": [
    "from sklearn.model_selection import cross_validate\n",
    "\n",
    "SEED = 301\n",
    "np.random.seed(SEED)\n",
    "\n",
    "modelo = DecisionTreeClassifier(max_depth=2)\n",
    "results = cross_validate(modelo, x, y, cv = 3, return_train_score=False)\n",
    "media = results ['test_score'].mean()\n",
    "desvio_padrao = results['test_score'].std()\n",
    "print(\"Accuracy com cross validation, 5 = [%.2f, %.2f]\" % ((media - 2 *desvio_padrao) * 100, (media + 2 * desvio_padrao) * 100))"
   ]
  },
  {
   "cell_type": "markdown",
   "metadata": {},
   "source": [
    "OBS:A partir da versão 0.22 do SKLearn, passou-se a adotar 5 como padrão, em vez de 3, de acordo com o seguinte trecho da documentação:\n",
    "\n",
    "\"Changed in version 0.20: cv default value if None will change from 3-fold to 5-fold in v0.22.\""
   ]
  },
  {
   "cell_type": "markdown",
   "metadata": {},
   "source": [
    "NOTA:  O cross_validate() não recebe o parâmetro de aleatoriedade, e esse é o padrão. Da maneira utilizada por nós, ele é determinístico, e nós sabemos em quantos pedaços ele quebrará os dados, porque somos nós quem decidimos essa quantidade. Portanto, a realidade é que a aleatoriedade (random) só é aplicada em DecisionTreeClassifier(). E, por padrão, ele só a usará em um caso específico e raro. Por estas razões, mesmo que mudemos constantemente o valor de SEED, obteremos basicamente sempre os mesmos números.\n",
    "    A ideia era rodar aleatoriamente, de fato. Por mais que recebamos todos os dados em uma sequência, não queremos quebrar eles em 5 pedaços e, a partir disso, fazer o cross_validate. O ideal seria embaralhar estes dados e, então executar a validação cruzada. O algorítimo pode fazer isso de maneira mais inteligente, sem embaralhar e copiar todo o espaço de memória e todos os objetos que estiverem dentro, e assim por diante. Mas o importante é a ideia de embaralhar esses dados de alguma maneira, e o cross_validate não faz isso de verdade."
   ]
  },
  {
   "cell_type": "code",
   "execution_count": 14,
   "metadata": {},
   "outputs": [],
   "source": [
    "def imprime_resultados(results):\n",
    "    media = results['test_score'].mean()\n",
    "    desvio_padrao = results['test_score'].std()\n",
    "    print(\"Accuracy médio: %.2f\" % (media * 100))\n",
    "    print(\"Accuracy intervalo = [%.2f, %.2f]\" % ((media - 2 * desvio_padrao)*100, (media + 2 * desvio_padrao) * 100))"
   ]
  },
  {
   "cell_type": "code",
   "execution_count": 15,
   "metadata": {},
   "outputs": [
    {
     "name": "stdout",
     "output_type": "stream",
     "text": [
      "Accuracy médio: 75.76\n",
      "Accuracy intervalo = [73.26, 78.26]\n"
     ]
    }
   ],
   "source": [
    "#==========Aleatoriedade no cross validate==========#\n",
    "from sklearn.model_selection import KFold\n",
    "\n",
    "\n",
    "\n",
    "SEED = 301\n",
    "np.random.seed(SEED)\n",
    "\n",
    "cv = KFold(n_splits = 10, shuffle = True)\n",
    "modelo = DecisionTreeClassifier(max_depth=2)\n",
    "results = cross_validate(modelo, x, y, cv = cv, return_train_score=False)\n",
    "imprime_resultados(results)\n"
   ]
  },
  {
   "cell_type": "markdown",
   "metadata": {},
   "source": [
    "É importante ressaltar que se rodarmos diversas vezes, Accuracy se mantém, pois continua sendo determinístico. Mas ainda assim, é diferente dos valores apresentados sem o shuffle. No entanto, repare que a média obtida por meio dos dois algorítimos é bastante próxima, mas o intervalo é diferente. Na prática, se os dados não possuem alguma estrutura interna, como uma sequência por datas, por exemplo, primeiro gera-se um sequência aleatória desses dados e, em seguida, quebra-se em 10 pedaços ou faz-se ambos ao mesmo tempo. Esta é a forma tradicional de execução com shuffle e n_splits.\n",
    "\n",
    "Assim, podemos usar não somente o KFold, mas, em seu Model Selection, encontraremos o KFold e diversos outros \"quebradores\" de grupos, que são as Splitter classes."
   ]
  },
  {
   "cell_type": "code",
   "execution_count": 16,
   "metadata": {},
   "outputs": [
    {
     "data": {
      "text/html": [
       "<div>\n",
       "<style scoped>\n",
       "    .dataframe tbody tr th:only-of-type {\n",
       "        vertical-align: middle;\n",
       "    }\n",
       "\n",
       "    .dataframe tbody tr th {\n",
       "        vertical-align: top;\n",
       "    }\n",
       "\n",
       "    .dataframe thead th {\n",
       "        text-align: right;\n",
       "    }\n",
       "</style>\n",
       "<table border=\"1\" class=\"dataframe\">\n",
       "  <thead>\n",
       "    <tr style=\"text-align: right;\">\n",
       "      <th></th>\n",
       "      <th>preco</th>\n",
       "      <th>vendido</th>\n",
       "      <th>idade_do_modelo</th>\n",
       "      <th>km_por_ano</th>\n",
       "    </tr>\n",
       "  </thead>\n",
       "  <tbody>\n",
       "    <tr>\n",
       "      <th>4999</th>\n",
       "      <td>74023.29</td>\n",
       "      <td>0</td>\n",
       "      <td>12</td>\n",
       "      <td>24812.80412</td>\n",
       "    </tr>\n",
       "    <tr>\n",
       "      <th>5322</th>\n",
       "      <td>84843.49</td>\n",
       "      <td>0</td>\n",
       "      <td>13</td>\n",
       "      <td>23095.63834</td>\n",
       "    </tr>\n",
       "    <tr>\n",
       "      <th>5319</th>\n",
       "      <td>83100.27</td>\n",
       "      <td>0</td>\n",
       "      <td>19</td>\n",
       "      <td>36240.72746</td>\n",
       "    </tr>\n",
       "    <tr>\n",
       "      <th>5316</th>\n",
       "      <td>87932.13</td>\n",
       "      <td>0</td>\n",
       "      <td>16</td>\n",
       "      <td>32249.56426</td>\n",
       "    </tr>\n",
       "    <tr>\n",
       "      <th>5315</th>\n",
       "      <td>77937.01</td>\n",
       "      <td>0</td>\n",
       "      <td>15</td>\n",
       "      <td>28414.50704</td>\n",
       "    </tr>\n",
       "    <tr>\n",
       "      <th>...</th>\n",
       "      <td>...</td>\n",
       "      <td>...</td>\n",
       "      <td>...</td>\n",
       "      <td>...</td>\n",
       "    </tr>\n",
       "    <tr>\n",
       "      <th>5491</th>\n",
       "      <td>71910.43</td>\n",
       "      <td>1</td>\n",
       "      <td>9</td>\n",
       "      <td>25778.40812</td>\n",
       "    </tr>\n",
       "    <tr>\n",
       "      <th>1873</th>\n",
       "      <td>30456.53</td>\n",
       "      <td>1</td>\n",
       "      <td>6</td>\n",
       "      <td>15468.97608</td>\n",
       "    </tr>\n",
       "    <tr>\n",
       "      <th>1874</th>\n",
       "      <td>69342.41</td>\n",
       "      <td>1</td>\n",
       "      <td>11</td>\n",
       "      <td>16909.33538</td>\n",
       "    </tr>\n",
       "    <tr>\n",
       "      <th>5499</th>\n",
       "      <td>70520.39</td>\n",
       "      <td>1</td>\n",
       "      <td>16</td>\n",
       "      <td>19622.68262</td>\n",
       "    </tr>\n",
       "    <tr>\n",
       "      <th>0</th>\n",
       "      <td>30941.02</td>\n",
       "      <td>1</td>\n",
       "      <td>18</td>\n",
       "      <td>35085.22134</td>\n",
       "    </tr>\n",
       "  </tbody>\n",
       "</table>\n",
       "<p>10000 rows × 4 columns</p>\n",
       "</div>"
      ],
      "text/plain": [
       "         preco  vendido  idade_do_modelo   km_por_ano\n",
       "4999  74023.29        0               12  24812.80412\n",
       "5322  84843.49        0               13  23095.63834\n",
       "5319  83100.27        0               19  36240.72746\n",
       "5316  87932.13        0               16  32249.56426\n",
       "5315  77937.01        0               15  28414.50704\n",
       "...        ...      ...              ...          ...\n",
       "5491  71910.43        1                9  25778.40812\n",
       "1873  30456.53        1                6  15468.97608\n",
       "1874  69342.41        1               11  16909.33538\n",
       "5499  70520.39        1               16  19622.68262\n",
       "0     30941.02        1               18  35085.22134\n",
       "\n",
       "[10000 rows x 4 columns]"
      ]
     },
     "execution_count": 16,
     "metadata": {},
     "output_type": "execute_result"
    }
   ],
   "source": [
    "#========Simulando uma situação horrivel========#\n",
    "#pode ser uma situação de azar ou de desbalanceamento de classes\n",
    "\n",
    "dados.sort_values(\"vendido\", ascending=True)\n"
   ]
  },
  {
   "cell_type": "markdown",
   "metadata": {},
   "source": [
    "O comando ascending fazcom que os 0 \"Não vendidos\" venham antes dos 1 \"Vendidos\""
   ]
  },
  {
   "cell_type": "code",
   "execution_count": 17,
   "metadata": {},
   "outputs": [
    {
     "data": {
      "text/html": [
       "<div>\n",
       "<style scoped>\n",
       "    .dataframe tbody tr th:only-of-type {\n",
       "        vertical-align: middle;\n",
       "    }\n",
       "\n",
       "    .dataframe tbody tr th {\n",
       "        vertical-align: top;\n",
       "    }\n",
       "\n",
       "    .dataframe thead th {\n",
       "        text-align: right;\n",
       "    }\n",
       "</style>\n",
       "<table border=\"1\" class=\"dataframe\">\n",
       "  <thead>\n",
       "    <tr style=\"text-align: right;\">\n",
       "      <th></th>\n",
       "      <th>preco</th>\n",
       "      <th>vendido</th>\n",
       "      <th>idade_do_modelo</th>\n",
       "      <th>km_por_ano</th>\n",
       "    </tr>\n",
       "  </thead>\n",
       "  <tbody>\n",
       "    <tr>\n",
       "      <th>4999</th>\n",
       "      <td>74023.29</td>\n",
       "      <td>0</td>\n",
       "      <td>12</td>\n",
       "      <td>24812.80412</td>\n",
       "    </tr>\n",
       "    <tr>\n",
       "      <th>5322</th>\n",
       "      <td>84843.49</td>\n",
       "      <td>0</td>\n",
       "      <td>13</td>\n",
       "      <td>23095.63834</td>\n",
       "    </tr>\n",
       "    <tr>\n",
       "      <th>5319</th>\n",
       "      <td>83100.27</td>\n",
       "      <td>0</td>\n",
       "      <td>19</td>\n",
       "      <td>36240.72746</td>\n",
       "    </tr>\n",
       "    <tr>\n",
       "      <th>5316</th>\n",
       "      <td>87932.13</td>\n",
       "      <td>0</td>\n",
       "      <td>16</td>\n",
       "      <td>32249.56426</td>\n",
       "    </tr>\n",
       "    <tr>\n",
       "      <th>5315</th>\n",
       "      <td>77937.01</td>\n",
       "      <td>0</td>\n",
       "      <td>15</td>\n",
       "      <td>28414.50704</td>\n",
       "    </tr>\n",
       "  </tbody>\n",
       "</table>\n",
       "</div>"
      ],
      "text/plain": [
       "         preco  vendido  idade_do_modelo   km_por_ano\n",
       "4999  74023.29        0               12  24812.80412\n",
       "5322  84843.49        0               13  23095.63834\n",
       "5319  83100.27        0               19  36240.72746\n",
       "5316  87932.13        0               16  32249.56426\n",
       "5315  77937.01        0               15  28414.50704"
      ]
     },
     "execution_count": 17,
     "metadata": {},
     "output_type": "execute_result"
    }
   ],
   "source": [
    "dados_azar = dados.sort_values(\"vendido\", ascending=True)\n",
    "\n",
    "x_azar = dados[[\"preco\", \"idade_do_modelo\", \"km_por_ano\"]]\n",
    "y_azar = dados[\"vendido\"]\n",
    "dados_azar.head()"
   ]
  },
  {
   "cell_type": "markdown",
   "metadata": {},
   "source": [
    "Alterando os contigos para que continuamos com o exemolo de azar além disso mostrando na tela apenas os 5 primeiros dados."
   ]
  },
  {
   "cell_type": "code",
   "execution_count": 18,
   "metadata": {},
   "outputs": [
    {
     "name": "stdout",
     "output_type": "stream",
     "text": [
      "Accuracy médio: 75.78\n",
      "Accuracy intervalo = [74.37, 77.19]\n"
     ]
    }
   ],
   "source": [
    "from sklearn.model_selection import KFold\n",
    "\n",
    "SEED = 301\n",
    "np.random.seed(SEED)\n",
    "\n",
    "cv = KFold(n_splits = 10)\n",
    "modelo = DecisionTreeClassifier(max_depth=2)\n",
    "results = cross_validate(modelo, x_azar, y_azar, cv = cv, return_train_score=False)\n",
    "imprime_resultados(results)"
   ]
  },
  {
   "cell_type": "markdown",
   "metadata": {},
   "source": [
    "OBS: Sem o shuffle\n"
   ]
  },
  {
   "cell_type": "code",
   "execution_count": 19,
   "metadata": {},
   "outputs": [
    {
     "name": "stdout",
     "output_type": "stream",
     "text": [
      "Accuracy médio: 75.76\n",
      "Accuracy intervalo = [73.26, 78.26]\n"
     ]
    }
   ],
   "source": [
    "from sklearn.model_selection import KFold\n",
    "\n",
    "SEED = 301\n",
    "np.random.seed(SEED)\n",
    "\n",
    "cv = KFold(n_splits = 10, shuffle=True)\n",
    "modelo = DecisionTreeClassifier(max_depth=2)\n",
    "results = cross_validate(modelo, x_azar, y_azar, cv = cv, return_train_score=False)\n",
    "imprime_resultados(results)"
   ]
  },
  {
   "cell_type": "markdown",
   "metadata": {},
   "source": [
    "OBS: Com o Shuffle\n"
   ]
  },
  {
   "cell_type": "code",
   "execution_count": 20,
   "metadata": {},
   "outputs": [
    {
     "name": "stdout",
     "output_type": "stream",
     "text": [
      "Accuracy médio: 75.78\n",
      "Accuracy intervalo = [74.24, 77.32]\n"
     ]
    }
   ],
   "source": [
    "from sklearn.model_selection import StratifiedKFold\n",
    "\n",
    "SEED = 301\n",
    "np.random.seed(SEED)\n",
    "\n",
    "cv = StratifiedKFold(n_splits = 10)\n",
    "modelo = DecisionTreeClassifier(max_depth=2)\n",
    "results = cross_validate(modelo, x_azar, y_azar, cv = cv, return_train_score=False)\n",
    "imprime_resultados(results)"
   ]
  },
  {
   "cell_type": "markdown",
   "metadata": {},
   "source": [
    "Ultilizaremos outro codigo chamado StratifiedKFold, que recebe um número de n_splits, shuffle e depois separa, mantendo a proporção entre as classes. Depois de realizar essa demonstração, podemos voltar o shuffle ao código, mas será o StrafiedKFold que mais usaremos em casos de desbalanço entre as classes."
   ]
  },
  {
   "cell_type": "markdown",
   "metadata": {},
   "source": [
    "Agora sera criada uma coluna de dados aleatorios para que possamos testa o código"
   ]
  },
  {
   "cell_type": "code",
   "execution_count": 21,
   "metadata": {},
   "outputs": [
    {
     "data": {
      "text/html": [
       "<div>\n",
       "<style scoped>\n",
       "    .dataframe tbody tr th:only-of-type {\n",
       "        vertical-align: middle;\n",
       "    }\n",
       "\n",
       "    .dataframe tbody tr th {\n",
       "        vertical-align: top;\n",
       "    }\n",
       "\n",
       "    .dataframe thead th {\n",
       "        text-align: right;\n",
       "    }\n",
       "</style>\n",
       "<table border=\"1\" class=\"dataframe\">\n",
       "  <thead>\n",
       "    <tr style=\"text-align: right;\">\n",
       "      <th></th>\n",
       "      <th>preco</th>\n",
       "      <th>vendido</th>\n",
       "      <th>idade_do_modelo</th>\n",
       "      <th>km_por_ano</th>\n",
       "      <th>modelo</th>\n",
       "    </tr>\n",
       "  </thead>\n",
       "  <tbody>\n",
       "    <tr>\n",
       "      <th>0</th>\n",
       "      <td>30941.02</td>\n",
       "      <td>1</td>\n",
       "      <td>18</td>\n",
       "      <td>35085.22134</td>\n",
       "      <td>18</td>\n",
       "    </tr>\n",
       "    <tr>\n",
       "      <th>1</th>\n",
       "      <td>40557.96</td>\n",
       "      <td>1</td>\n",
       "      <td>20</td>\n",
       "      <td>12622.05362</td>\n",
       "      <td>24</td>\n",
       "    </tr>\n",
       "    <tr>\n",
       "      <th>2</th>\n",
       "      <td>89627.50</td>\n",
       "      <td>0</td>\n",
       "      <td>12</td>\n",
       "      <td>11440.79806</td>\n",
       "      <td>14</td>\n",
       "    </tr>\n",
       "    <tr>\n",
       "      <th>3</th>\n",
       "      <td>95276.14</td>\n",
       "      <td>0</td>\n",
       "      <td>3</td>\n",
       "      <td>43167.32682</td>\n",
       "      <td>6</td>\n",
       "    </tr>\n",
       "    <tr>\n",
       "      <th>4</th>\n",
       "      <td>117384.68</td>\n",
       "      <td>1</td>\n",
       "      <td>4</td>\n",
       "      <td>12770.11290</td>\n",
       "      <td>5</td>\n",
       "    </tr>\n",
       "  </tbody>\n",
       "</table>\n",
       "</div>"
      ],
      "text/plain": [
       "       preco  vendido  idade_do_modelo   km_por_ano  modelo\n",
       "0   30941.02        1               18  35085.22134      18\n",
       "1   40557.96        1               20  12622.05362      24\n",
       "2   89627.50        0               12  11440.79806      14\n",
       "3   95276.14        0                3  43167.32682       6\n",
       "4  117384.68        1                4  12770.11290       5"
      ]
     },
     "execution_count": 21,
     "metadata": {},
     "output_type": "execute_result"
    }
   ],
   "source": [
    "#Gerando dados aleatórios de modelo de carro para simulação de agrupamento ao usar nosso estimador\n",
    "\n",
    "np.random.seed(SEED)\n",
    "dados[\"modelo\"] = dados.idade_do_modelo + np.random.randint(-2, 3, size=10000)\n",
    "dados.modelo = dados.modelo + abs(dados.modelo.min()) + 1\n",
    "dados.head()"
   ]
  },
  {
   "cell_type": "markdown",
   "metadata": {},
   "source": [
    "Usando a idade_do_modelo do carro como dados de testa para testamos o código, sendo assim esse teste tera que ser modificado para ser uma aleatoriedade. Com isso o np ira gera uma aleatoriedade de -2 ate 2, ou seja, ira reproduzir os valors com -2 ate +2 com as 10.000 linhas dados que temos.Com isso, percebemos que, agora, temos um pouco de aleatoriedade, de acordo com a idade_do_modelo. Isso será suficiente para trabalharmos com modelos de carros. Uma única característica em que queremos destacar são os modelos gerados. Analisemos este modo aleatório, de forma única.\n",
    "  \n",
    "Pare que nosso codigo não comece com -2 ou 0 usamos o abs que pega o valor absoluto e somamos +1 assim nosso valor minimo se tornou 1:\n",
    "\"dados.modelo_aleatorio = dados.modelo_aleatorio + abs(dados.modelo_aleatorio.min()) + 1\""
   ]
  },
  {
   "cell_type": "code",
   "execution_count": 22,
   "metadata": {},
   "outputs": [
    {
     "data": {
      "text/plain": [
       "array([18, 24, 14,  6,  5, 13, 20, 19, 15,  2, 17, 12, 11, 16,  3,  7, 21,\n",
       "       23, 10,  9, 22,  8,  4,  1], dtype=int64)"
      ]
     },
     "execution_count": 22,
     "metadata": {},
     "output_type": "execute_result"
    }
   ],
   "source": [
    "dados.modelo.unique()"
   ]
  },
  {
   "cell_type": "markdown",
   "metadata": {},
   "source": [
    "Agora modelo_aleatório não tem necessariamente todos os valores entre 1 e 24:"
   ]
  },
  {
   "cell_type": "code",
   "execution_count": 23,
   "metadata": {},
   "outputs": [
    {
     "data": {
      "text/plain": [
       "20    901\n",
       "19    798\n",
       "18    771\n",
       "21    723\n",
       "17    709\n",
       "16    668\n",
       "14    621\n",
       "22    575\n",
       "15    573\n",
       "13    557\n",
       "12    511\n",
       "11    401\n",
       "10    371\n",
       "23    370\n",
       "9     336\n",
       "8     278\n",
       "7     206\n",
       "24    199\n",
       "6     181\n",
       "5     108\n",
       "4      76\n",
       "3      44\n",
       "2      17\n",
       "1       6\n",
       "Name: modelo, dtype: int64"
      ]
     },
     "execution_count": 23,
     "metadata": {},
     "output_type": "execute_result"
    }
   ],
   "source": [
    "dados.modelo.value_counts()"
   ]
  },
  {
   "cell_type": "markdown",
   "metadata": {},
   "source": [
    "Nela, encontramos que o modelo número 20 apareceu 901 vezes, o modelo 19 apareceu 798, e assim por diante. Analisando-a, perceberemos que alguns modelos aparecem mais que outros."
   ]
  },
  {
   "cell_type": "code",
   "execution_count": 24,
   "metadata": {},
   "outputs": [
    {
     "name": "stdout",
     "output_type": "stream",
     "text": [
      "Accuracy médio: 75.80\n",
      "Accuracy intervalo = [72.00, 79.60]\n"
     ]
    }
   ],
   "source": [
    "#Testando validação cruzada com GroupKFold\n",
    "\n",
    "from sklearn.model_selection import GroupKFold\n",
    "\n",
    "SEED = 301\n",
    "np.random.seed(SEED)\n",
    "\n",
    "cv = GroupKFold(n_splits = 10)\n",
    "modelo = DecisionTreeClassifier(max_depth=2)\n",
    "results = cross_validate(modelo, x_azar, y_azar, cv = cv, groups = dados.modelo, return_train_score=False)\n",
    "imprime_resultados(results)"
   ]
  },
  {
   "cell_type": "code",
   "execution_count": 25,
   "metadata": {},
   "outputs": [
    {
     "name": "stdout",
     "output_type": "stream",
     "text": [
      "A acurácia de 77.48 %\n"
     ]
    }
   ],
   "source": [
    "#Cross validation com StandardScaler\n",
    "\n",
    "from sklearn.preprocessing import StandardScaler\n",
    "from sklearn.svm import SVC\n",
    "\n",
    "SEED = 301\n",
    "np.random.seed(SEED)\n",
    "\n",
    "scaler = StandardScaler()\n",
    "scaler.fit(train_x)\n",
    "train_x_scale = scaler.transform(train_x)\n",
    "test_x_scale = scaler.transform(test_x)\n",
    "\n",
    "modelo = SVC()\n",
    "modelo.fit(train_x_scale, train_y)\n",
    "previsoes = modelo.predict(test_x_scale)\n",
    "\n",
    "acuracia = accuracy_score(test_y, previsoes) * 100\n",
    "print(\"A acurácia de %.2f %%\" % acuracia)"
   ]
  },
  {
   "cell_type": "markdown",
   "metadata": {},
   "source": [
    "O SVC está sendo usando principalmente pela quantidade de dados que temos"
   ]
  },
  {
   "cell_type": "code",
   "execution_count": 26,
   "metadata": {},
   "outputs": [],
   "source": [
    "scaler = StandardScaler()\n",
    "\n",
    "scaler.fit(x_azar)\n",
    "x_azar_escalado = scaler.transform(x_azar)"
   ]
  },
  {
   "cell_type": "markdown",
   "metadata": {},
   "source": [
    "Passamos o nosse x_azar para x_azar_escalado"
   ]
  },
  {
   "cell_type": "code",
   "execution_count": 27,
   "metadata": {},
   "outputs": [
    {
     "data": {
      "text/plain": [
       "array([[-1.34266351,  0.88412517,  1.52099053],\n",
       "       [-0.96178449,  1.31080591, -1.26597141],\n",
       "       [ 0.98161521, -0.39591706, -1.41252752],\n",
       "       ...,\n",
       "       [ 1.14912421, -2.10264004, -0.232691  ],\n",
       "       [-0.53830354, -1.46261892, -0.74264234],\n",
       "       [ 0.91500869,  1.09746554, -0.36367302]])"
      ]
     },
     "execution_count": 27,
     "metadata": {},
     "output_type": "execute_result"
    }
   ],
   "source": [
    "x_azar_escalado"
   ]
  },
  {
   "cell_type": "code",
   "execution_count": 28,
   "metadata": {},
   "outputs": [
    {
     "name": "stdout",
     "output_type": "stream",
     "text": [
      "Accuracy médio: 78.67\n",
      "Accuracy intervalo = [75.88, 81.47]\n"
     ]
    }
   ],
   "source": [
    "from sklearn.model_selection import GroupKFold\n",
    "\n",
    "SEED = 301\n",
    "np.random.seed(SEED)\n",
    "\n",
    "cv = GroupKFold(n_splits = 10)\n",
    "modelo = DecisionTreeClassifier(max_depth=3)\n",
    "results = cross_validate(modelo, x_azar, y_azar, cv = cv, groups = dados.modelo, return_train_score=False)\n",
    "imprime_resultados(results)"
   ]
  },
  {
   "cell_type": "code",
   "execution_count": 29,
   "metadata": {},
   "outputs": [
    {
     "data": {
      "image/svg+xml": "<?xml version=\"1.0\" encoding=\"UTF-8\" standalone=\"no\"?>\n<!DOCTYPE svg PUBLIC \"-//W3C//DTD SVG 1.1//EN\"\n \"http://www.w3.org/Graphics/SVG/1.1/DTD/svg11.dtd\">\n<!-- Generated by graphviz version 3.0.0 (20220226.1711)\n -->\n<!-- Title: Tree Pages: 1 -->\n<svg width=\"899pt\" height=\"433pt\"\n viewBox=\"0.00 0.00 899.00 433.00\" xmlns=\"http://www.w3.org/2000/svg\" xmlns:xlink=\"http://www.w3.org/1999/xlink\">\n<g id=\"graph0\" class=\"graph\" transform=\"scale(1 1) rotate(0) translate(4 429)\">\n<title>Tree</title>\n<polygon fill=\"white\" stroke=\"transparent\" points=\"-4,4 -4,-429 895,-429 895,4 -4,4\"/>\n<!-- 0 -->\n<g id=\"node1\" class=\"node\">\n<title>0</title>\n<path fill=\"#c8e4f8\" stroke=\"black\" d=\"M368.5,-425C368.5,-425 245.5,-425 245.5,-425 239.5,-425 233.5,-419 233.5,-413 233.5,-413 233.5,-354 233.5,-354 233.5,-348 239.5,-342 245.5,-342 245.5,-342 368.5,-342 368.5,-342 374.5,-342 380.5,-348 380.5,-354 380.5,-354 380.5,-413 380.5,-413 380.5,-419 374.5,-425 368.5,-425\"/>\n<text text-anchor=\"middle\" x=\"307\" y=\"-409.8\" font-family=\"Helvetica,sans-Serif\" font-size=\"14.00\">preco &lt;= 59982.246</text>\n<text text-anchor=\"middle\" x=\"307\" y=\"-394.8\" font-family=\"Helvetica,sans-Serif\" font-size=\"14.00\">gini = 0.487</text>\n<text text-anchor=\"middle\" x=\"307\" y=\"-379.8\" font-family=\"Helvetica,sans-Serif\" font-size=\"14.00\">samples = 10000</text>\n<text text-anchor=\"middle\" x=\"307\" y=\"-364.8\" font-family=\"Helvetica,sans-Serif\" font-size=\"14.00\">value = [4200, 5800]</text>\n<text text-anchor=\"middle\" x=\"307\" y=\"-349.8\" font-family=\"Helvetica,sans-Serif\" font-size=\"14.00\">class = sim</text>\n</g>\n<!-- 1 -->\n<g id=\"node2\" class=\"node\">\n<title>1</title>\n<path fill=\"#52a9e8\" stroke=\"black\" d=\"M275.5,-306C275.5,-306 152.5,-306 152.5,-306 146.5,-306 140.5,-300 140.5,-294 140.5,-294 140.5,-235 140.5,-235 140.5,-229 146.5,-223 152.5,-223 152.5,-223 275.5,-223 275.5,-223 281.5,-223 287.5,-229 287.5,-235 287.5,-235 287.5,-294 287.5,-294 287.5,-300 281.5,-306 275.5,-306\"/>\n<text text-anchor=\"middle\" x=\"214\" y=\"-290.8\" font-family=\"Helvetica,sans-Serif\" font-size=\"14.00\">preco &lt;= 40083.385</text>\n<text text-anchor=\"middle\" x=\"214\" y=\"-275.8\" font-family=\"Helvetica,sans-Serif\" font-size=\"14.00\">gini = 0.198</text>\n<text text-anchor=\"middle\" x=\"214\" y=\"-260.8\" font-family=\"Helvetica,sans-Serif\" font-size=\"14.00\">samples = 4347</text>\n<text text-anchor=\"middle\" x=\"214\" y=\"-245.8\" font-family=\"Helvetica,sans-Serif\" font-size=\"14.00\">value = [484, 3863]</text>\n<text text-anchor=\"middle\" x=\"214\" y=\"-230.8\" font-family=\"Helvetica,sans-Serif\" font-size=\"14.00\">class = sim</text>\n</g>\n<!-- 0&#45;&gt;1 -->\n<g id=\"edge1\" class=\"edge\">\n<title>0&#45;&gt;1</title>\n<path fill=\"none\" stroke=\"black\" d=\"M274.73,-341.91C267.59,-332.92 259.96,-323.32 252.59,-314.05\"/>\n<polygon fill=\"black\" stroke=\"black\" points=\"255.17,-311.67 246.21,-306.02 249.69,-316.03 255.17,-311.67\"/>\n<text text-anchor=\"middle\" x=\"243.37\" y=\"-327.16\" font-family=\"Helvetica,sans-Serif\" font-size=\"14.00\">True</text>\n</g>\n<!-- 6 -->\n<g id=\"node7\" class=\"node\">\n<title>6</title>\n<path fill=\"#f3c3a0\" stroke=\"black\" d=\"M538,-306C538,-306 372,-306 372,-306 366,-306 360,-300 360,-294 360,-294 360,-235 360,-235 360,-229 366,-223 372,-223 372,-223 538,-223 538,-223 544,-223 550,-229 550,-235 550,-235 550,-294 550,-294 550,-300 544,-306 538,-306\"/>\n<text text-anchor=\"middle\" x=\"455\" y=\"-290.8\" font-family=\"Helvetica,sans-Serif\" font-size=\"14.00\">km_por_ano &lt;= 24124.006</text>\n<text text-anchor=\"middle\" x=\"455\" y=\"-275.8\" font-family=\"Helvetica,sans-Serif\" font-size=\"14.00\">gini = 0.45</text>\n<text text-anchor=\"middle\" x=\"455\" y=\"-260.8\" font-family=\"Helvetica,sans-Serif\" font-size=\"14.00\">samples = 5653</text>\n<text text-anchor=\"middle\" x=\"455\" y=\"-245.8\" font-family=\"Helvetica,sans-Serif\" font-size=\"14.00\">value = [3716, 1937]</text>\n<text text-anchor=\"middle\" x=\"455\" y=\"-230.8\" font-family=\"Helvetica,sans-Serif\" font-size=\"14.00\">class = não</text>\n</g>\n<!-- 0&#45;&gt;6 -->\n<g id=\"edge6\" class=\"edge\">\n<title>0&#45;&gt;6</title>\n<path fill=\"none\" stroke=\"black\" d=\"M358.35,-341.91C370.4,-332.38 383.34,-322.15 395.71,-312.37\"/>\n<polygon fill=\"black\" stroke=\"black\" points=\"398.07,-314.97 403.74,-306.02 393.73,-309.48 398.07,-314.97\"/>\n<text text-anchor=\"middle\" x=\"400.84\" y=\"-327.15\" font-family=\"Helvetica,sans-Serif\" font-size=\"14.00\">False</text>\n</g>\n<!-- 2 -->\n<g id=\"node3\" class=\"node\">\n<title>2</title>\n<path fill=\"#399de5\" stroke=\"black\" d=\"M110,-179.5C110,-179.5 12,-179.5 12,-179.5 6,-179.5 0,-173.5 0,-167.5 0,-167.5 0,-123.5 0,-123.5 0,-117.5 6,-111.5 12,-111.5 12,-111.5 110,-111.5 110,-111.5 116,-111.5 122,-117.5 122,-123.5 122,-123.5 122,-167.5 122,-167.5 122,-173.5 116,-179.5 110,-179.5\"/>\n<text text-anchor=\"middle\" x=\"61\" y=\"-164.3\" font-family=\"Helvetica,sans-Serif\" font-size=\"14.00\">gini = 0.0</text>\n<text text-anchor=\"middle\" x=\"61\" y=\"-149.3\" font-family=\"Helvetica,sans-Serif\" font-size=\"14.00\">samples = 1935</text>\n<text text-anchor=\"middle\" x=\"61\" y=\"-134.3\" font-family=\"Helvetica,sans-Serif\" font-size=\"14.00\">value = [0, 1935]</text>\n<text text-anchor=\"middle\" x=\"61\" y=\"-119.3\" font-family=\"Helvetica,sans-Serif\" font-size=\"14.00\">class = sim</text>\n</g>\n<!-- 1&#45;&gt;2 -->\n<g id=\"edge2\" class=\"edge\">\n<title>1&#45;&gt;2</title>\n<path fill=\"none\" stroke=\"black\" d=\"M160.92,-222.91C145.19,-210.88 128,-197.73 112.38,-185.79\"/>\n<polygon fill=\"black\" stroke=\"black\" points=\"114.44,-182.96 104.37,-179.67 110.19,-188.52 114.44,-182.96\"/>\n</g>\n<!-- 3 -->\n<g id=\"node4\" class=\"node\">\n<title>3</title>\n<path fill=\"#6bb6ec\" stroke=\"black\" d=\"M275.5,-187C275.5,-187 152.5,-187 152.5,-187 146.5,-187 140.5,-181 140.5,-175 140.5,-175 140.5,-116 140.5,-116 140.5,-110 146.5,-104 152.5,-104 152.5,-104 275.5,-104 275.5,-104 281.5,-104 287.5,-110 287.5,-116 287.5,-116 287.5,-175 287.5,-175 287.5,-181 281.5,-187 275.5,-187\"/>\n<text text-anchor=\"middle\" x=\"214\" y=\"-171.8\" font-family=\"Helvetica,sans-Serif\" font-size=\"14.00\">preco &lt;= 41083.029</text>\n<text text-anchor=\"middle\" x=\"214\" y=\"-156.8\" font-family=\"Helvetica,sans-Serif\" font-size=\"14.00\">gini = 0.321</text>\n<text text-anchor=\"middle\" x=\"214\" y=\"-141.8\" font-family=\"Helvetica,sans-Serif\" font-size=\"14.00\">samples = 2412</text>\n<text text-anchor=\"middle\" x=\"214\" y=\"-126.8\" font-family=\"Helvetica,sans-Serif\" font-size=\"14.00\">value = [484, 1928]</text>\n<text text-anchor=\"middle\" x=\"214\" y=\"-111.8\" font-family=\"Helvetica,sans-Serif\" font-size=\"14.00\">class = sim</text>\n</g>\n<!-- 1&#45;&gt;3 -->\n<g id=\"edge3\" class=\"edge\">\n<title>1&#45;&gt;3</title>\n<path fill=\"none\" stroke=\"black\" d=\"M214,-222.91C214,-214.65 214,-205.86 214,-197.3\"/>\n<polygon fill=\"black\" stroke=\"black\" points=\"217.5,-197.02 214,-187.02 210.5,-197.02 217.5,-197.02\"/>\n</g>\n<!-- 4 -->\n<g id=\"node5\" class=\"node\">\n<title>4</title>\n<path fill=\"#95cbf1\" stroke=\"black\" d=\"M114.5,-68C114.5,-68 25.5,-68 25.5,-68 19.5,-68 13.5,-62 13.5,-56 13.5,-56 13.5,-12 13.5,-12 13.5,-6 19.5,0 25.5,0 25.5,0 114.5,0 114.5,0 120.5,0 126.5,-6 126.5,-12 126.5,-12 126.5,-56 126.5,-56 126.5,-62 120.5,-68 114.5,-68\"/>\n<text text-anchor=\"middle\" x=\"70\" y=\"-52.8\" font-family=\"Helvetica,sans-Serif\" font-size=\"14.00\">gini = 0.434</text>\n<text text-anchor=\"middle\" x=\"70\" y=\"-37.8\" font-family=\"Helvetica,sans-Serif\" font-size=\"14.00\">samples = 110</text>\n<text text-anchor=\"middle\" x=\"70\" y=\"-22.8\" font-family=\"Helvetica,sans-Serif\" font-size=\"14.00\">value = [35, 75]</text>\n<text text-anchor=\"middle\" x=\"70\" y=\"-7.8\" font-family=\"Helvetica,sans-Serif\" font-size=\"14.00\">class = sim</text>\n</g>\n<!-- 3&#45;&gt;4 -->\n<g id=\"edge4\" class=\"edge\">\n<title>3&#45;&gt;4</title>\n<path fill=\"none\" stroke=\"black\" d=\"M160.38,-103.73C147.79,-94.15 134.39,-83.96 121.87,-74.44\"/>\n<polygon fill=\"black\" stroke=\"black\" points=\"123.87,-71.57 113.79,-68.3 119.63,-77.14 123.87,-71.57\"/>\n</g>\n<!-- 5 -->\n<g id=\"node6\" class=\"node\">\n<title>5</title>\n<path fill=\"#69b5eb\" stroke=\"black\" d=\"M271,-68C271,-68 157,-68 157,-68 151,-68 145,-62 145,-56 145,-56 145,-12 145,-12 145,-6 151,0 157,0 157,0 271,0 271,0 277,0 283,-6 283,-12 283,-12 283,-56 283,-56 283,-62 277,-68 271,-68\"/>\n<text text-anchor=\"middle\" x=\"214\" y=\"-52.8\" font-family=\"Helvetica,sans-Serif\" font-size=\"14.00\">gini = 0.314</text>\n<text text-anchor=\"middle\" x=\"214\" y=\"-37.8\" font-family=\"Helvetica,sans-Serif\" font-size=\"14.00\">samples = 2302</text>\n<text text-anchor=\"middle\" x=\"214\" y=\"-22.8\" font-family=\"Helvetica,sans-Serif\" font-size=\"14.00\">value = [449, 1853]</text>\n<text text-anchor=\"middle\" x=\"214\" y=\"-7.8\" font-family=\"Helvetica,sans-Serif\" font-size=\"14.00\">class = sim</text>\n</g>\n<!-- 3&#45;&gt;5 -->\n<g id=\"edge5\" class=\"edge\">\n<title>3&#45;&gt;5</title>\n<path fill=\"none\" stroke=\"black\" d=\"M214,-103.73C214,-95.52 214,-86.86 214,-78.56\"/>\n<polygon fill=\"black\" stroke=\"black\" points=\"217.5,-78.3 214,-68.3 210.5,-78.3 217.5,-78.3\"/>\n</g>\n<!-- 7 -->\n<g id=\"node8\" class=\"node\">\n<title>7</title>\n<path fill=\"#fcefe5\" stroke=\"black\" d=\"M516,-187C516,-187 394,-187 394,-187 388,-187 382,-181 382,-175 382,-175 382,-116 382,-116 382,-110 388,-104 394,-104 394,-104 516,-104 516,-104 522,-104 528,-110 528,-116 528,-116 528,-175 528,-175 528,-181 522,-187 516,-187\"/>\n<text text-anchor=\"middle\" x=\"455\" y=\"-171.8\" font-family=\"Helvetica,sans-Serif\" font-size=\"14.00\">preco &lt;= 99974.41</text>\n<text text-anchor=\"middle\" x=\"455\" y=\"-156.8\" font-family=\"Helvetica,sans-Serif\" font-size=\"14.00\">gini = 0.498</text>\n<text text-anchor=\"middle\" x=\"455\" y=\"-141.8\" font-family=\"Helvetica,sans-Serif\" font-size=\"14.00\">samples = 3513</text>\n<text text-anchor=\"middle\" x=\"455\" y=\"-126.8\" font-family=\"Helvetica,sans-Serif\" font-size=\"14.00\">value = [1879, 1634]</text>\n<text text-anchor=\"middle\" x=\"455\" y=\"-111.8\" font-family=\"Helvetica,sans-Serif\" font-size=\"14.00\">class = não</text>\n</g>\n<!-- 6&#45;&gt;7 -->\n<g id=\"edge7\" class=\"edge\">\n<title>6&#45;&gt;7</title>\n<path fill=\"none\" stroke=\"black\" d=\"M455,-222.91C455,-214.65 455,-205.86 455,-197.3\"/>\n<polygon fill=\"black\" stroke=\"black\" points=\"458.5,-197.02 455,-187.02 451.5,-197.02 458.5,-197.02\"/>\n</g>\n<!-- 10 -->\n<g id=\"node11\" class=\"node\">\n<title>10</title>\n<path fill=\"#e9965a\" stroke=\"black\" d=\"M743.5,-187C743.5,-187 612.5,-187 612.5,-187 606.5,-187 600.5,-181 600.5,-175 600.5,-175 600.5,-116 600.5,-116 600.5,-110 606.5,-104 612.5,-104 612.5,-104 743.5,-104 743.5,-104 749.5,-104 755.5,-110 755.5,-116 755.5,-116 755.5,-175 755.5,-175 755.5,-181 749.5,-187 743.5,-187\"/>\n<text text-anchor=\"middle\" x=\"678\" y=\"-171.8\" font-family=\"Helvetica,sans-Serif\" font-size=\"14.00\">preco &lt;= 100076.957</text>\n<text text-anchor=\"middle\" x=\"678\" y=\"-156.8\" font-family=\"Helvetica,sans-Serif\" font-size=\"14.00\">gini = 0.243</text>\n<text text-anchor=\"middle\" x=\"678\" y=\"-141.8\" font-family=\"Helvetica,sans-Serif\" font-size=\"14.00\">samples = 2140</text>\n<text text-anchor=\"middle\" x=\"678\" y=\"-126.8\" font-family=\"Helvetica,sans-Serif\" font-size=\"14.00\">value = [1837, 303]</text>\n<text text-anchor=\"middle\" x=\"678\" y=\"-111.8\" font-family=\"Helvetica,sans-Serif\" font-size=\"14.00\">class = não</text>\n</g>\n<!-- 6&#45;&gt;10 -->\n<g id=\"edge10\" class=\"edge\">\n<title>6&#45;&gt;10</title>\n<path fill=\"none\" stroke=\"black\" d=\"M532.37,-222.91C551.57,-212.83 572.26,-201.98 591.85,-191.7\"/>\n<polygon fill=\"black\" stroke=\"black\" points=\"593.54,-194.77 600.77,-187.02 590.29,-188.57 593.54,-194.77\"/>\n</g>\n<!-- 8 -->\n<g id=\"node9\" class=\"node\">\n<title>8</title>\n<path fill=\"#f9e0ce\" stroke=\"black\" d=\"M435,-68C435,-68 313,-68 313,-68 307,-68 301,-62 301,-56 301,-56 301,-12 301,-12 301,-6 307,0 313,0 313,0 435,0 435,0 441,0 447,-6 447,-12 447,-12 447,-56 447,-56 447,-62 441,-68 435,-68\"/>\n<text text-anchor=\"middle\" x=\"374\" y=\"-52.8\" font-family=\"Helvetica,sans-Serif\" font-size=\"14.00\">gini = 0.49</text>\n<text text-anchor=\"middle\" x=\"374\" y=\"-37.8\" font-family=\"Helvetica,sans-Serif\" font-size=\"14.00\">samples = 2944</text>\n<text text-anchor=\"middle\" x=\"374\" y=\"-22.8\" font-family=\"Helvetica,sans-Serif\" font-size=\"14.00\">value = [1682, 1262]</text>\n<text text-anchor=\"middle\" x=\"374\" y=\"-7.8\" font-family=\"Helvetica,sans-Serif\" font-size=\"14.00\">class = não</text>\n</g>\n<!-- 7&#45;&gt;8 -->\n<g id=\"edge8\" class=\"edge\">\n<title>7&#45;&gt;8</title>\n<path fill=\"none\" stroke=\"black\" d=\"M424.84,-103.73C418.23,-94.79 411.22,-85.32 404.59,-76.36\"/>\n<polygon fill=\"black\" stroke=\"black\" points=\"407.39,-74.26 398.63,-68.3 401.77,-78.42 407.39,-74.26\"/>\n</g>\n<!-- 9 -->\n<g id=\"node10\" class=\"node\">\n<title>9</title>\n<path fill=\"#a2d1f3\" stroke=\"black\" d=\"M583,-68C583,-68 477,-68 477,-68 471,-68 465,-62 465,-56 465,-56 465,-12 465,-12 465,-6 471,0 477,0 477,0 583,0 583,0 589,0 595,-6 595,-12 595,-12 595,-56 595,-56 595,-62 589,-68 583,-68\"/>\n<text text-anchor=\"middle\" x=\"530\" y=\"-52.8\" font-family=\"Helvetica,sans-Serif\" font-size=\"14.00\">gini = 0.453</text>\n<text text-anchor=\"middle\" x=\"530\" y=\"-37.8\" font-family=\"Helvetica,sans-Serif\" font-size=\"14.00\">samples = 569</text>\n<text text-anchor=\"middle\" x=\"530\" y=\"-22.8\" font-family=\"Helvetica,sans-Serif\" font-size=\"14.00\">value = [197, 372]</text>\n<text text-anchor=\"middle\" x=\"530\" y=\"-7.8\" font-family=\"Helvetica,sans-Serif\" font-size=\"14.00\">class = sim</text>\n</g>\n<!-- 7&#45;&gt;9 -->\n<g id=\"edge9\" class=\"edge\">\n<title>7&#45;&gt;9</title>\n<path fill=\"none\" stroke=\"black\" d=\"M482.93,-103.73C488.99,-94.88 495.4,-85.51 501.49,-76.63\"/>\n<polygon fill=\"black\" stroke=\"black\" points=\"504.43,-78.53 507.19,-68.3 498.65,-74.57 504.43,-78.53\"/>\n</g>\n<!-- 11 -->\n<g id=\"node12\" class=\"node\">\n<title>11</title>\n<path fill=\"#e68742\" stroke=\"black\" d=\"M731,-68C731,-68 625,-68 625,-68 619,-68 613,-62 613,-56 613,-56 613,-12 613,-12 613,-6 619,0 625,0 625,0 731,0 731,0 737,0 743,-6 743,-12 743,-12 743,-56 743,-56 743,-62 737,-68 731,-68\"/>\n<text text-anchor=\"middle\" x=\"678\" y=\"-52.8\" font-family=\"Helvetica,sans-Serif\" font-size=\"14.00\">gini = 0.082</text>\n<text text-anchor=\"middle\" x=\"678\" y=\"-37.8\" font-family=\"Helvetica,sans-Serif\" font-size=\"14.00\">samples = 1809</text>\n<text text-anchor=\"middle\" x=\"678\" y=\"-22.8\" font-family=\"Helvetica,sans-Serif\" font-size=\"14.00\">value = [1732, 77]</text>\n<text text-anchor=\"middle\" x=\"678\" y=\"-7.8\" font-family=\"Helvetica,sans-Serif\" font-size=\"14.00\">class = não</text>\n</g>\n<!-- 10&#45;&gt;11 -->\n<g id=\"edge11\" class=\"edge\">\n<title>10&#45;&gt;11</title>\n<path fill=\"none\" stroke=\"black\" d=\"M678,-103.73C678,-95.52 678,-86.86 678,-78.56\"/>\n<polygon fill=\"black\" stroke=\"black\" points=\"681.5,-78.3 678,-68.3 674.5,-78.3 681.5,-78.3\"/>\n</g>\n<!-- 12 -->\n<g id=\"node13\" class=\"node\">\n<title>12</title>\n<path fill=\"#95cbf1\" stroke=\"black\" d=\"M879,-68C879,-68 773,-68 773,-68 767,-68 761,-62 761,-56 761,-56 761,-12 761,-12 761,-6 767,0 773,0 773,0 879,0 879,0 885,0 891,-6 891,-12 891,-12 891,-56 891,-56 891,-62 885,-68 879,-68\"/>\n<text text-anchor=\"middle\" x=\"826\" y=\"-52.8\" font-family=\"Helvetica,sans-Serif\" font-size=\"14.00\">gini = 0.433</text>\n<text text-anchor=\"middle\" x=\"826\" y=\"-37.8\" font-family=\"Helvetica,sans-Serif\" font-size=\"14.00\">samples = 331</text>\n<text text-anchor=\"middle\" x=\"826\" y=\"-22.8\" font-family=\"Helvetica,sans-Serif\" font-size=\"14.00\">value = [105, 226]</text>\n<text text-anchor=\"middle\" x=\"826\" y=\"-7.8\" font-family=\"Helvetica,sans-Serif\" font-size=\"14.00\">class = sim</text>\n</g>\n<!-- 10&#45;&gt;12 -->\n<g id=\"edge12\" class=\"edge\">\n<title>10&#45;&gt;12</title>\n<path fill=\"none\" stroke=\"black\" d=\"M733.11,-103.73C746.05,-94.15 759.82,-83.96 772.69,-74.44\"/>\n<polygon fill=\"black\" stroke=\"black\" points=\"775.04,-77.06 780.99,-68.3 770.87,-71.43 775.04,-77.06\"/>\n</g>\n</g>\n</svg>\n",
      "text/plain": [
       "<graphviz.sources.Source at 0x20aab56c130>"
      ]
     },
     "execution_count": 29,
     "metadata": {},
     "output_type": "execute_result"
    }
   ],
   "source": [
    "from sklearn.tree import export_graphviz\n",
    "import graphviz\n",
    "\n",
    "modelo.fit(x_azar, y_azar)\n",
    "features = x_azar.columns\n",
    "dot_data = export_graphviz(modelo, out_file=None, filled=True, rounded=True,\n",
    "                          class_names=[\"não\",\"sim\"],\n",
    "                          feature_names = features)\n",
    "graph = graphviz.Source(dot_data)\n",
    "graph"
   ]
  },
  {
   "cell_type": "markdown",
   "metadata": {},
   "source": [
    "Precisamos melhora o codigo para que ele execute o fit mais de uma vez e assim pode chegar em uma resposta definitiva"
   ]
  },
  {
   "cell_type": "code",
   "execution_count": 30,
   "metadata": {},
   "outputs": [
    {
     "name": "stdout",
     "output_type": "stream",
     "text": [
      "Accuracy médio: 77.19\n",
      "Accuracy intervalo = [74.83, 79.54]\n"
     ]
    }
   ],
   "source": [
    "from sklearn.model_selection import GroupKFold\n",
    "\n",
    "SEED = 301\n",
    "np.random.seed(SEED)\n",
    "\n",
    "cv = GroupKFold(n_splits = 10)\n",
    "modelo = DecisionTreeClassifier(max_depth=10)\n",
    "results = cross_validate(modelo, x_azar, y_azar, cv = cv, groups = dados.modelo, return_train_score=False)\n",
    "imprime_resultados(results)"
   ]
  },
  {
   "cell_type": "markdown",
   "metadata": {},
   "source": [
    "Desse modo, se imprimirmos ou analisarmos por dentro, encontraremos: primeiro uma transformação, que é o Standrscaler(), e depois um estimador que é um SVC()."
   ]
  },
  {
   "cell_type": "markdown",
   "metadata": {},
   "source": [
    "E vamos rodar esse código. Agora sim, para cada um dos processos de fold, serão rodados tanto a transformacao, quanto o estimador. Depois, outro conjunto de dados será separado em dois, tanto a transformacao, quanto o estimador. Portanto, a execução do código vai demorar um pouco mais. O importante é que teremos uma estimativa mais realista do modelo SVC(), com StandardScaler, no mundo real, considerando agrupamentos"
   ]
  },
  {
   "cell_type": "markdown",
   "metadata": {},
   "source": [
    "OBS: Reparem que o valor anterior e este não são tão distantes, mas é preciso entender que a forma feita anteriormente estava errada, porque rodávamos o scaler somente uma vez, para depois rodar os KFolds. Não é questão de estar melhor ou pior, pois estamos falando de um processo, que deve ser rodado para cada uma das fases de treino. Portanto, se tivermos 10 fases de treino, teremos que rodar o scaler para cada uma do conjunto de treino. E é isso que o Pipeline faz para nós, de forma muito mais prática. Basta inserir todas as fases nele e rodar. Claro, pode demorar um pouco mais, mas é a opção que faz mais sentido.\n",
    "\n",
    "Para rodar algorítimos com cross_validate, que exigem pré processamento, vocês talvez queiram fazer o treino desse pré processamento somente na parte de treino. Para isso será necessário incluí-lo em um Pipeline."
   ]
  },
  {
   "cell_type": "markdown",
   "metadata": {},
   "source": [
    "Agora queremos visualizar essa árvore. Para isso, utilizaremos o Graphviz "
   ]
  },
  {
   "cell_type": "code",
   "execution_count": 31,
   "metadata": {},
   "outputs": [
    {
     "data": {
      "image/svg+xml": "<?xml version=\"1.0\" encoding=\"UTF-8\" standalone=\"no\"?>\n<!DOCTYPE svg PUBLIC \"-//W3C//DTD SVG 1.1//EN\"\n \"http://www.w3.org/Graphics/SVG/1.1/DTD/svg11.dtd\">\n<!-- Generated by graphviz version 3.0.0 (20220226.1711)\n -->\n<!-- Title: Tree Pages: 1 -->\n<svg width=\"13881pt\" height=\"1266pt\"\n viewBox=\"0.00 0.00 13881.00 1266.00\" xmlns=\"http://www.w3.org/2000/svg\" xmlns:xlink=\"http://www.w3.org/1999/xlink\">\n<g id=\"graph0\" class=\"graph\" transform=\"scale(1 1) rotate(0) translate(4 1262)\">\n<title>Tree</title>\n<polygon fill=\"white\" stroke=\"transparent\" points=\"-4,4 -4,-1262 13877,-1262 13877,4 -4,4\"/>\n<!-- 0 -->\n<g id=\"node1\" class=\"node\">\n<title>0</title>\n<path fill=\"#c8e4f8\" stroke=\"black\" d=\"M6084,-1258C6084,-1258 5961,-1258 5961,-1258 5955,-1258 5949,-1252 5949,-1246 5949,-1246 5949,-1187 5949,-1187 5949,-1181 5955,-1175 5961,-1175 5961,-1175 6084,-1175 6084,-1175 6090,-1175 6096,-1181 6096,-1187 6096,-1187 6096,-1246 6096,-1246 6096,-1252 6090,-1258 6084,-1258\"/>\n<text text-anchor=\"middle\" x=\"6022.5\" y=\"-1242.8\" font-family=\"Helvetica,sans-Serif\" font-size=\"14.00\">preco &lt;= 59982.246</text>\n<text text-anchor=\"middle\" x=\"6022.5\" y=\"-1227.8\" font-family=\"Helvetica,sans-Serif\" font-size=\"14.00\">gini = 0.487</text>\n<text text-anchor=\"middle\" x=\"6022.5\" y=\"-1212.8\" font-family=\"Helvetica,sans-Serif\" font-size=\"14.00\">samples = 10000</text>\n<text text-anchor=\"middle\" x=\"6022.5\" y=\"-1197.8\" font-family=\"Helvetica,sans-Serif\" font-size=\"14.00\">value = [4200, 5800]</text>\n<text text-anchor=\"middle\" x=\"6022.5\" y=\"-1182.8\" font-family=\"Helvetica,sans-Serif\" font-size=\"14.00\">class = sim</text>\n</g>\n<!-- 1 -->\n<g id=\"node2\" class=\"node\">\n<title>1</title>\n<path fill=\"#52a9e8\" stroke=\"black\" d=\"M3350,-1139C3350,-1139 3227,-1139 3227,-1139 3221,-1139 3215,-1133 3215,-1127 3215,-1127 3215,-1068 3215,-1068 3215,-1062 3221,-1056 3227,-1056 3227,-1056 3350,-1056 3350,-1056 3356,-1056 3362,-1062 3362,-1068 3362,-1068 3362,-1127 3362,-1127 3362,-1133 3356,-1139 3350,-1139\"/>\n<text text-anchor=\"middle\" x=\"3288.5\" y=\"-1123.8\" font-family=\"Helvetica,sans-Serif\" font-size=\"14.00\">preco &lt;= 40083.385</text>\n<text text-anchor=\"middle\" x=\"3288.5\" y=\"-1108.8\" font-family=\"Helvetica,sans-Serif\" font-size=\"14.00\">gini = 0.198</text>\n<text text-anchor=\"middle\" x=\"3288.5\" y=\"-1093.8\" font-family=\"Helvetica,sans-Serif\" font-size=\"14.00\">samples = 4347</text>\n<text text-anchor=\"middle\" x=\"3288.5\" y=\"-1078.8\" font-family=\"Helvetica,sans-Serif\" font-size=\"14.00\">value = [484, 3863]</text>\n<text text-anchor=\"middle\" x=\"3288.5\" y=\"-1063.8\" font-family=\"Helvetica,sans-Serif\" font-size=\"14.00\">class = sim</text>\n</g>\n<!-- 0&#45;&gt;1 -->\n<g id=\"edge1\" class=\"edge\">\n<title>0&#45;&gt;1</title>\n<path fill=\"none\" stroke=\"black\" d=\"M5948.66,-1212.34C5562.93,-1195.83 3781.39,-1119.59 3372.36,-1102.09\"/>\n<polygon fill=\"black\" stroke=\"black\" points=\"3372.24,-1098.58 3362.1,-1101.65 3371.94,-1105.57 3372.24,-1098.58\"/>\n<text text-anchor=\"middle\" x=\"3379\" y=\"-1116.37\" font-family=\"Helvetica,sans-Serif\" font-size=\"14.00\">True</text>\n</g>\n<!-- 148 -->\n<g id=\"node149\" class=\"node\">\n<title>148</title>\n<path fill=\"#f3c3a0\" stroke=\"black\" d=\"M7376.5,-1139C7376.5,-1139 7210.5,-1139 7210.5,-1139 7204.5,-1139 7198.5,-1133 7198.5,-1127 7198.5,-1127 7198.5,-1068 7198.5,-1068 7198.5,-1062 7204.5,-1056 7210.5,-1056 7210.5,-1056 7376.5,-1056 7376.5,-1056 7382.5,-1056 7388.5,-1062 7388.5,-1068 7388.5,-1068 7388.5,-1127 7388.5,-1127 7388.5,-1133 7382.5,-1139 7376.5,-1139\"/>\n<text text-anchor=\"middle\" x=\"7293.5\" y=\"-1123.8\" font-family=\"Helvetica,sans-Serif\" font-size=\"14.00\">km_por_ano &lt;= 24124.006</text>\n<text text-anchor=\"middle\" x=\"7293.5\" y=\"-1108.8\" font-family=\"Helvetica,sans-Serif\" font-size=\"14.00\">gini = 0.45</text>\n<text text-anchor=\"middle\" x=\"7293.5\" y=\"-1093.8\" font-family=\"Helvetica,sans-Serif\" font-size=\"14.00\">samples = 5653</text>\n<text text-anchor=\"middle\" x=\"7293.5\" y=\"-1078.8\" font-family=\"Helvetica,sans-Serif\" font-size=\"14.00\">value = [3716, 1937]</text>\n<text text-anchor=\"middle\" x=\"7293.5\" y=\"-1063.8\" font-family=\"Helvetica,sans-Serif\" font-size=\"14.00\">class = não</text>\n</g>\n<!-- 0&#45;&gt;148 -->\n<g id=\"edge148\" class=\"edge\">\n<title>0&#45;&gt;148</title>\n<path fill=\"none\" stroke=\"black\" d=\"M6096.33,-1208.7C6311.36,-1188.91 6937.79,-1131.24 7188.23,-1108.19\"/>\n<polygon fill=\"black\" stroke=\"black\" points=\"7188.79,-1111.65 7198.43,-1107.25 7188.15,-1104.68 7188.79,-1111.65\"/>\n<text text-anchor=\"middle\" x=\"7182.45\" y=\"-1122.78\" font-family=\"Helvetica,sans-Serif\" font-size=\"14.00\">False</text>\n</g>\n<!-- 2 -->\n<g id=\"node3\" class=\"node\">\n<title>2</title>\n<path fill=\"#399de5\" stroke=\"black\" d=\"M3184.5,-1012.5C3184.5,-1012.5 3086.5,-1012.5 3086.5,-1012.5 3080.5,-1012.5 3074.5,-1006.5 3074.5,-1000.5 3074.5,-1000.5 3074.5,-956.5 3074.5,-956.5 3074.5,-950.5 3080.5,-944.5 3086.5,-944.5 3086.5,-944.5 3184.5,-944.5 3184.5,-944.5 3190.5,-944.5 3196.5,-950.5 3196.5,-956.5 3196.5,-956.5 3196.5,-1000.5 3196.5,-1000.5 3196.5,-1006.5 3190.5,-1012.5 3184.5,-1012.5\"/>\n<text text-anchor=\"middle\" x=\"3135.5\" y=\"-997.3\" font-family=\"Helvetica,sans-Serif\" font-size=\"14.00\">gini = 0.0</text>\n<text text-anchor=\"middle\" x=\"3135.5\" y=\"-982.3\" font-family=\"Helvetica,sans-Serif\" font-size=\"14.00\">samples = 1935</text>\n<text text-anchor=\"middle\" x=\"3135.5\" y=\"-967.3\" font-family=\"Helvetica,sans-Serif\" font-size=\"14.00\">value = [0, 1935]</text>\n<text text-anchor=\"middle\" x=\"3135.5\" y=\"-952.3\" font-family=\"Helvetica,sans-Serif\" font-size=\"14.00\">class = sim</text>\n</g>\n<!-- 1&#45;&gt;2 -->\n<g id=\"edge2\" class=\"edge\">\n<title>1&#45;&gt;2</title>\n<path fill=\"none\" stroke=\"black\" d=\"M3235.42,-1055.91C3219.69,-1043.88 3202.5,-1030.73 3186.88,-1018.79\"/>\n<polygon fill=\"black\" stroke=\"black\" points=\"3188.94,-1015.96 3178.87,-1012.67 3184.69,-1021.52 3188.94,-1015.96\"/>\n</g>\n<!-- 3 -->\n<g id=\"node4\" class=\"node\">\n<title>3</title>\n<path fill=\"#6bb6ec\" stroke=\"black\" d=\"M3350,-1020C3350,-1020 3227,-1020 3227,-1020 3221,-1020 3215,-1014 3215,-1008 3215,-1008 3215,-949 3215,-949 3215,-943 3221,-937 3227,-937 3227,-937 3350,-937 3350,-937 3356,-937 3362,-943 3362,-949 3362,-949 3362,-1008 3362,-1008 3362,-1014 3356,-1020 3350,-1020\"/>\n<text text-anchor=\"middle\" x=\"3288.5\" y=\"-1004.8\" font-family=\"Helvetica,sans-Serif\" font-size=\"14.00\">preco &lt;= 41083.029</text>\n<text text-anchor=\"middle\" x=\"3288.5\" y=\"-989.8\" font-family=\"Helvetica,sans-Serif\" font-size=\"14.00\">gini = 0.321</text>\n<text text-anchor=\"middle\" x=\"3288.5\" y=\"-974.8\" font-family=\"Helvetica,sans-Serif\" font-size=\"14.00\">samples = 2412</text>\n<text text-anchor=\"middle\" x=\"3288.5\" y=\"-959.8\" font-family=\"Helvetica,sans-Serif\" font-size=\"14.00\">value = [484, 1928]</text>\n<text text-anchor=\"middle\" x=\"3288.5\" y=\"-944.8\" font-family=\"Helvetica,sans-Serif\" font-size=\"14.00\">class = sim</text>\n</g>\n<!-- 1&#45;&gt;3 -->\n<g id=\"edge3\" class=\"edge\">\n<title>1&#45;&gt;3</title>\n<path fill=\"none\" stroke=\"black\" d=\"M3288.5,-1055.91C3288.5,-1047.65 3288.5,-1038.86 3288.5,-1030.3\"/>\n<polygon fill=\"black\" stroke=\"black\" points=\"3292,-1030.02 3288.5,-1020.02 3285,-1030.02 3292,-1030.02\"/>\n</g>\n<!-- 4 -->\n<g id=\"node5\" class=\"node\">\n<title>4</title>\n<path fill=\"#95cbf1\" stroke=\"black\" d=\"M1715,-901C1715,-901 1592,-901 1592,-901 1586,-901 1580,-895 1580,-889 1580,-889 1580,-830 1580,-830 1580,-824 1586,-818 1592,-818 1592,-818 1715,-818 1715,-818 1721,-818 1727,-824 1727,-830 1727,-830 1727,-889 1727,-889 1727,-895 1721,-901 1715,-901\"/>\n<text text-anchor=\"middle\" x=\"1653.5\" y=\"-885.8\" font-family=\"Helvetica,sans-Serif\" font-size=\"14.00\">preco &lt;= 41041.311</text>\n<text text-anchor=\"middle\" x=\"1653.5\" y=\"-870.8\" font-family=\"Helvetica,sans-Serif\" font-size=\"14.00\">gini = 0.434</text>\n<text text-anchor=\"middle\" x=\"1653.5\" y=\"-855.8\" font-family=\"Helvetica,sans-Serif\" font-size=\"14.00\">samples = 110</text>\n<text text-anchor=\"middle\" x=\"1653.5\" y=\"-840.8\" font-family=\"Helvetica,sans-Serif\" font-size=\"14.00\">value = [35, 75]</text>\n<text text-anchor=\"middle\" x=\"1653.5\" y=\"-825.8\" font-family=\"Helvetica,sans-Serif\" font-size=\"14.00\">class = sim</text>\n</g>\n<!-- 3&#45;&gt;4 -->\n<g id=\"edge4\" class=\"edge\">\n<title>3&#45;&gt;4</title>\n<path fill=\"none\" stroke=\"black\" d=\"M3214.86,-939.74C3211.73,-938.72 3208.61,-937.8 3205.5,-937 2924.18,-864.69 2018,-859.9 1737.23,-860.2\"/>\n<polygon fill=\"black\" stroke=\"black\" points=\"1737.11,-856.7 1727.11,-860.22 1737.12,-863.7 1737.11,-856.7\"/>\n</g>\n<!-- 39 -->\n<g id=\"node40\" class=\"node\">\n<title>39</title>\n<path fill=\"#69b5eb\" stroke=\"black\" d=\"M3371.5,-901C3371.5,-901 3205.5,-901 3205.5,-901 3199.5,-901 3193.5,-895 3193.5,-889 3193.5,-889 3193.5,-830 3193.5,-830 3193.5,-824 3199.5,-818 3205.5,-818 3205.5,-818 3371.5,-818 3371.5,-818 3377.5,-818 3383.5,-824 3383.5,-830 3383.5,-830 3383.5,-889 3383.5,-889 3383.5,-895 3377.5,-901 3371.5,-901\"/>\n<text text-anchor=\"middle\" x=\"3288.5\" y=\"-885.8\" font-family=\"Helvetica,sans-Serif\" font-size=\"14.00\">km_por_ano &lt;= 35765.973</text>\n<text text-anchor=\"middle\" x=\"3288.5\" y=\"-870.8\" font-family=\"Helvetica,sans-Serif\" font-size=\"14.00\">gini = 0.314</text>\n<text text-anchor=\"middle\" x=\"3288.5\" y=\"-855.8\" font-family=\"Helvetica,sans-Serif\" font-size=\"14.00\">samples = 2302</text>\n<text text-anchor=\"middle\" x=\"3288.5\" y=\"-840.8\" font-family=\"Helvetica,sans-Serif\" font-size=\"14.00\">value = [449, 1853]</text>\n<text text-anchor=\"middle\" x=\"3288.5\" y=\"-825.8\" font-family=\"Helvetica,sans-Serif\" font-size=\"14.00\">class = sim</text>\n</g>\n<!-- 3&#45;&gt;39 -->\n<g id=\"edge39\" class=\"edge\">\n<title>3&#45;&gt;39</title>\n<path fill=\"none\" stroke=\"black\" d=\"M3288.5,-936.91C3288.5,-928.65 3288.5,-919.86 3288.5,-911.3\"/>\n<polygon fill=\"black\" stroke=\"black\" points=\"3292,-911.02 3288.5,-901.02 3285,-911.02 3292,-911.02\"/>\n</g>\n<!-- 5 -->\n<g id=\"node6\" class=\"node\">\n<title>5</title>\n<path fill=\"#90c8f0\" stroke=\"black\" d=\"M959,-782C959,-782 798,-782 798,-782 792,-782 786,-776 786,-770 786,-770 786,-711 786,-711 786,-705 792,-699 798,-699 798,-699 959,-699 959,-699 965,-699 971,-705 971,-711 971,-711 971,-770 971,-770 971,-776 965,-782 959,-782\"/>\n<text text-anchor=\"middle\" x=\"878.5\" y=\"-766.8\" font-family=\"Helvetica,sans-Serif\" font-size=\"14.00\">idade_do_modelo &lt;= 18.5</text>\n<text text-anchor=\"middle\" x=\"878.5\" y=\"-751.8\" font-family=\"Helvetica,sans-Serif\" font-size=\"14.00\">gini = 0.424</text>\n<text text-anchor=\"middle\" x=\"878.5\" y=\"-736.8\" font-family=\"Helvetica,sans-Serif\" font-size=\"14.00\">samples = 108</text>\n<text text-anchor=\"middle\" x=\"878.5\" y=\"-721.8\" font-family=\"Helvetica,sans-Serif\" font-size=\"14.00\">value = [33, 75]</text>\n<text text-anchor=\"middle\" x=\"878.5\" y=\"-706.8\" font-family=\"Helvetica,sans-Serif\" font-size=\"14.00\">class = sim</text>\n</g>\n<!-- 4&#45;&gt;5 -->\n<g id=\"edge5\" class=\"edge\">\n<title>4&#45;&gt;5</title>\n<path fill=\"none\" stroke=\"black\" d=\"M1579.89,-847.39C1441.06,-826.43 1140.27,-781.02 981.47,-757.05\"/>\n<polygon fill=\"black\" stroke=\"black\" points=\"981.63,-753.53 971.22,-755.5 980.59,-760.45 981.63,-753.53\"/>\n</g>\n<!-- 38 -->\n<g id=\"node39\" class=\"node\">\n<title>38</title>\n<path fill=\"#e58139\" stroke=\"black\" d=\"M1690,-774.5C1690,-774.5 1617,-774.5 1617,-774.5 1611,-774.5 1605,-768.5 1605,-762.5 1605,-762.5 1605,-718.5 1605,-718.5 1605,-712.5 1611,-706.5 1617,-706.5 1617,-706.5 1690,-706.5 1690,-706.5 1696,-706.5 1702,-712.5 1702,-718.5 1702,-718.5 1702,-762.5 1702,-762.5 1702,-768.5 1696,-774.5 1690,-774.5\"/>\n<text text-anchor=\"middle\" x=\"1653.5\" y=\"-759.3\" font-family=\"Helvetica,sans-Serif\" font-size=\"14.00\">gini = 0.0</text>\n<text text-anchor=\"middle\" x=\"1653.5\" y=\"-744.3\" font-family=\"Helvetica,sans-Serif\" font-size=\"14.00\">samples = 2</text>\n<text text-anchor=\"middle\" x=\"1653.5\" y=\"-729.3\" font-family=\"Helvetica,sans-Serif\" font-size=\"14.00\">value = [2, 0]</text>\n<text text-anchor=\"middle\" x=\"1653.5\" y=\"-714.3\" font-family=\"Helvetica,sans-Serif\" font-size=\"14.00\">class = não</text>\n</g>\n<!-- 4&#45;&gt;38 -->\n<g id=\"edge38\" class=\"edge\">\n<title>4&#45;&gt;38</title>\n<path fill=\"none\" stroke=\"black\" d=\"M1653.5,-817.91C1653.5,-807.2 1653.5,-795.62 1653.5,-784.78\"/>\n<polygon fill=\"black\" stroke=\"black\" points=\"1657,-784.67 1653.5,-774.67 1650,-784.67 1657,-784.67\"/>\n</g>\n<!-- 6 -->\n<g id=\"node7\" class=\"node\">\n<title>6</title>\n<path fill=\"#84c2ef\" stroke=\"black\" d=\"M496,-663C496,-663 373,-663 373,-663 367,-663 361,-657 361,-651 361,-651 361,-592 361,-592 361,-586 367,-580 373,-580 373,-580 496,-580 496,-580 502,-580 508,-586 508,-592 508,-592 508,-651 508,-651 508,-657 502,-663 496,-663\"/>\n<text text-anchor=\"middle\" x=\"434.5\" y=\"-647.8\" font-family=\"Helvetica,sans-Serif\" font-size=\"14.00\">preco &lt;= 40086.025</text>\n<text text-anchor=\"middle\" x=\"434.5\" y=\"-632.8\" font-family=\"Helvetica,sans-Serif\" font-size=\"14.00\">gini = 0.399</text>\n<text text-anchor=\"middle\" x=\"434.5\" y=\"-617.8\" font-family=\"Helvetica,sans-Serif\" font-size=\"14.00\">samples = 91</text>\n<text text-anchor=\"middle\" x=\"434.5\" y=\"-602.8\" font-family=\"Helvetica,sans-Serif\" font-size=\"14.00\">value = [25, 66]</text>\n<text text-anchor=\"middle\" x=\"434.5\" y=\"-587.8\" font-family=\"Helvetica,sans-Serif\" font-size=\"14.00\">class = sim</text>\n</g>\n<!-- 5&#45;&gt;6 -->\n<g id=\"edge6\" class=\"edge\">\n<title>5&#45;&gt;6</title>\n<path fill=\"none\" stroke=\"black\" d=\"M785.96,-715.12C707.04,-694.32 594.55,-664.68 518.25,-644.57\"/>\n<polygon fill=\"black\" stroke=\"black\" points=\"518.76,-641.09 508.2,-641.92 516.98,-647.85 518.76,-641.09\"/>\n</g>\n<!-- 25 -->\n<g id=\"node26\" class=\"node\">\n<title>25</title>\n<path fill=\"#e9f4fc\" stroke=\"black\" d=\"M961.5,-663C961.5,-663 795.5,-663 795.5,-663 789.5,-663 783.5,-657 783.5,-651 783.5,-651 783.5,-592 783.5,-592 783.5,-586 789.5,-580 795.5,-580 795.5,-580 961.5,-580 961.5,-580 967.5,-580 973.5,-586 973.5,-592 973.5,-592 973.5,-651 973.5,-651 973.5,-657 967.5,-663 961.5,-663\"/>\n<text text-anchor=\"middle\" x=\"878.5\" y=\"-647.8\" font-family=\"Helvetica,sans-Serif\" font-size=\"14.00\">km_por_ano &lt;= 22634.562</text>\n<text text-anchor=\"middle\" x=\"878.5\" y=\"-632.8\" font-family=\"Helvetica,sans-Serif\" font-size=\"14.00\">gini = 0.498</text>\n<text text-anchor=\"middle\" x=\"878.5\" y=\"-617.8\" font-family=\"Helvetica,sans-Serif\" font-size=\"14.00\">samples = 17</text>\n<text text-anchor=\"middle\" x=\"878.5\" y=\"-602.8\" font-family=\"Helvetica,sans-Serif\" font-size=\"14.00\">value = [8, 9]</text>\n<text text-anchor=\"middle\" x=\"878.5\" y=\"-587.8\" font-family=\"Helvetica,sans-Serif\" font-size=\"14.00\">class = sim</text>\n</g>\n<!-- 5&#45;&gt;25 -->\n<g id=\"edge25\" class=\"edge\">\n<title>5&#45;&gt;25</title>\n<path fill=\"none\" stroke=\"black\" d=\"M878.5,-698.91C878.5,-690.65 878.5,-681.86 878.5,-673.3\"/>\n<polygon fill=\"black\" stroke=\"black\" points=\"882,-673.02 878.5,-663.02 875,-673.02 882,-673.02\"/>\n</g>\n<!-- 7 -->\n<g id=\"node8\" class=\"node\">\n<title>7</title>\n<path fill=\"#e58139\" stroke=\"black\" d=\"M316,-536.5C316,-536.5 243,-536.5 243,-536.5 237,-536.5 231,-530.5 231,-524.5 231,-524.5 231,-480.5 231,-480.5 231,-474.5 237,-468.5 243,-468.5 243,-468.5 316,-468.5 316,-468.5 322,-468.5 328,-474.5 328,-480.5 328,-480.5 328,-524.5 328,-524.5 328,-530.5 322,-536.5 316,-536.5\"/>\n<text text-anchor=\"middle\" x=\"279.5\" y=\"-521.3\" font-family=\"Helvetica,sans-Serif\" font-size=\"14.00\">gini = 0.0</text>\n<text text-anchor=\"middle\" x=\"279.5\" y=\"-506.3\" font-family=\"Helvetica,sans-Serif\" font-size=\"14.00\">samples = 1</text>\n<text text-anchor=\"middle\" x=\"279.5\" y=\"-491.3\" font-family=\"Helvetica,sans-Serif\" font-size=\"14.00\">value = [1, 0]</text>\n<text text-anchor=\"middle\" x=\"279.5\" y=\"-476.3\" font-family=\"Helvetica,sans-Serif\" font-size=\"14.00\">class = não</text>\n</g>\n<!-- 6&#45;&gt;7 -->\n<g id=\"edge7\" class=\"edge\">\n<title>6&#45;&gt;7</title>\n<path fill=\"none\" stroke=\"black\" d=\"M380.72,-579.91C364.79,-567.88 347.37,-554.73 331.55,-542.79\"/>\n<polygon fill=\"black\" stroke=\"black\" points=\"333.53,-539.9 323.44,-536.67 329.31,-545.49 333.53,-539.9\"/>\n</g>\n<!-- 8 -->\n<g id=\"node9\" class=\"node\">\n<title>8</title>\n<path fill=\"#81c1ee\" stroke=\"black\" d=\"M511,-544C511,-544 358,-544 358,-544 352,-544 346,-538 346,-532 346,-532 346,-473 346,-473 346,-467 352,-461 358,-461 358,-461 511,-461 511,-461 517,-461 523,-467 523,-473 523,-473 523,-532 523,-532 523,-538 517,-544 511,-544\"/>\n<text text-anchor=\"middle\" x=\"434.5\" y=\"-528.8\" font-family=\"Helvetica,sans-Serif\" font-size=\"14.00\">idade_do_modelo &lt;= 3.5</text>\n<text text-anchor=\"middle\" x=\"434.5\" y=\"-513.8\" font-family=\"Helvetica,sans-Serif\" font-size=\"14.00\">gini = 0.391</text>\n<text text-anchor=\"middle\" x=\"434.5\" y=\"-498.8\" font-family=\"Helvetica,sans-Serif\" font-size=\"14.00\">samples = 90</text>\n<text text-anchor=\"middle\" x=\"434.5\" y=\"-483.8\" font-family=\"Helvetica,sans-Serif\" font-size=\"14.00\">value = [24, 66]</text>\n<text text-anchor=\"middle\" x=\"434.5\" y=\"-468.8\" font-family=\"Helvetica,sans-Serif\" font-size=\"14.00\">class = sim</text>\n</g>\n<!-- 6&#45;&gt;8 -->\n<g id=\"edge8\" class=\"edge\">\n<title>6&#45;&gt;8</title>\n<path fill=\"none\" stroke=\"black\" d=\"M434.5,-579.91C434.5,-571.65 434.5,-562.86 434.5,-554.3\"/>\n<polygon fill=\"black\" stroke=\"black\" points=\"438,-554.02 434.5,-544.02 431,-554.02 438,-554.02\"/>\n</g>\n<!-- 9 -->\n<g id=\"node10\" class=\"node\">\n<title>9</title>\n<path fill=\"#f2c09c\" stroke=\"black\" d=\"M221,-425C221,-425 106,-425 106,-425 100,-425 94,-419 94,-413 94,-413 94,-354 94,-354 94,-348 100,-342 106,-342 106,-342 221,-342 221,-342 227,-342 233,-348 233,-354 233,-354 233,-413 233,-413 233,-419 227,-425 221,-425\"/>\n<text text-anchor=\"middle\" x=\"163.5\" y=\"-409.8\" font-family=\"Helvetica,sans-Serif\" font-size=\"14.00\">preco &lt;= 40146.84</text>\n<text text-anchor=\"middle\" x=\"163.5\" y=\"-394.8\" font-family=\"Helvetica,sans-Serif\" font-size=\"14.00\">gini = 0.444</text>\n<text text-anchor=\"middle\" x=\"163.5\" y=\"-379.8\" font-family=\"Helvetica,sans-Serif\" font-size=\"14.00\">samples = 3</text>\n<text text-anchor=\"middle\" x=\"163.5\" y=\"-364.8\" font-family=\"Helvetica,sans-Serif\" font-size=\"14.00\">value = [2, 1]</text>\n<text text-anchor=\"middle\" x=\"163.5\" y=\"-349.8\" font-family=\"Helvetica,sans-Serif\" font-size=\"14.00\">class = não</text>\n</g>\n<!-- 8&#45;&gt;9 -->\n<g id=\"edge9\" class=\"edge\">\n<title>8&#45;&gt;9</title>\n<path fill=\"none\" stroke=\"black\" d=\"M345.76,-463.19C312.47,-448.81 274.87,-432.58 242.52,-418.61\"/>\n<polygon fill=\"black\" stroke=\"black\" points=\"243.66,-415.3 233.1,-414.55 240.89,-421.72 243.66,-415.3\"/>\n</g>\n<!-- 12 -->\n<g id=\"node13\" class=\"node\">\n<title>12</title>\n<path fill=\"#7cbeee\" stroke=\"black\" d=\"M496,-425C496,-425 373,-425 373,-425 367,-425 361,-419 361,-413 361,-413 361,-354 361,-354 361,-348 367,-342 373,-342 373,-342 496,-342 496,-342 502,-342 508,-348 508,-354 508,-354 508,-413 508,-413 508,-419 502,-425 496,-425\"/>\n<text text-anchor=\"middle\" x=\"434.5\" y=\"-409.8\" font-family=\"Helvetica,sans-Serif\" font-size=\"14.00\">preco &lt;= 40616.676</text>\n<text text-anchor=\"middle\" x=\"434.5\" y=\"-394.8\" font-family=\"Helvetica,sans-Serif\" font-size=\"14.00\">gini = 0.378</text>\n<text text-anchor=\"middle\" x=\"434.5\" y=\"-379.8\" font-family=\"Helvetica,sans-Serif\" font-size=\"14.00\">samples = 87</text>\n<text text-anchor=\"middle\" x=\"434.5\" y=\"-364.8\" font-family=\"Helvetica,sans-Serif\" font-size=\"14.00\">value = [22, 65]</text>\n<text text-anchor=\"middle\" x=\"434.5\" y=\"-349.8\" font-family=\"Helvetica,sans-Serif\" font-size=\"14.00\">class = sim</text>\n</g>\n<!-- 8&#45;&gt;12 -->\n<g id=\"edge12\" class=\"edge\">\n<title>8&#45;&gt;12</title>\n<path fill=\"none\" stroke=\"black\" d=\"M434.5,-460.91C434.5,-452.65 434.5,-443.86 434.5,-435.3\"/>\n<polygon fill=\"black\" stroke=\"black\" points=\"438,-435.02 434.5,-425.02 431,-435.02 438,-435.02\"/>\n</g>\n<!-- 10 -->\n<g id=\"node11\" class=\"node\">\n<title>10</title>\n<path fill=\"#399de5\" stroke=\"black\" d=\"M85,-298.5C85,-298.5 12,-298.5 12,-298.5 6,-298.5 0,-292.5 0,-286.5 0,-286.5 0,-242.5 0,-242.5 0,-236.5 6,-230.5 12,-230.5 12,-230.5 85,-230.5 85,-230.5 91,-230.5 97,-236.5 97,-242.5 97,-242.5 97,-286.5 97,-286.5 97,-292.5 91,-298.5 85,-298.5\"/>\n<text text-anchor=\"middle\" x=\"48.5\" y=\"-283.3\" font-family=\"Helvetica,sans-Serif\" font-size=\"14.00\">gini = 0.0</text>\n<text text-anchor=\"middle\" x=\"48.5\" y=\"-268.3\" font-family=\"Helvetica,sans-Serif\" font-size=\"14.00\">samples = 1</text>\n<text text-anchor=\"middle\" x=\"48.5\" y=\"-253.3\" font-family=\"Helvetica,sans-Serif\" font-size=\"14.00\">value = [0, 1]</text>\n<text text-anchor=\"middle\" x=\"48.5\" y=\"-238.3\" font-family=\"Helvetica,sans-Serif\" font-size=\"14.00\">class = sim</text>\n</g>\n<!-- 9&#45;&gt;10 -->\n<g id=\"edge10\" class=\"edge\">\n<title>9&#45;&gt;10</title>\n<path fill=\"none\" stroke=\"black\" d=\"M123.6,-341.91C112.21,-330.32 99.81,-317.7 88.42,-306.11\"/>\n<polygon fill=\"black\" stroke=\"black\" points=\"90.61,-303.35 81.1,-298.67 85.61,-308.25 90.61,-303.35\"/>\n</g>\n<!-- 11 -->\n<g id=\"node12\" class=\"node\">\n<title>11</title>\n<path fill=\"#e58139\" stroke=\"black\" d=\"M200,-298.5C200,-298.5 127,-298.5 127,-298.5 121,-298.5 115,-292.5 115,-286.5 115,-286.5 115,-242.5 115,-242.5 115,-236.5 121,-230.5 127,-230.5 127,-230.5 200,-230.5 200,-230.5 206,-230.5 212,-236.5 212,-242.5 212,-242.5 212,-286.5 212,-286.5 212,-292.5 206,-298.5 200,-298.5\"/>\n<text text-anchor=\"middle\" x=\"163.5\" y=\"-283.3\" font-family=\"Helvetica,sans-Serif\" font-size=\"14.00\">gini = 0.0</text>\n<text text-anchor=\"middle\" x=\"163.5\" y=\"-268.3\" font-family=\"Helvetica,sans-Serif\" font-size=\"14.00\">samples = 2</text>\n<text text-anchor=\"middle\" x=\"163.5\" y=\"-253.3\" font-family=\"Helvetica,sans-Serif\" font-size=\"14.00\">value = [2, 0]</text>\n<text text-anchor=\"middle\" x=\"163.5\" y=\"-238.3\" font-family=\"Helvetica,sans-Serif\" font-size=\"14.00\">class = não</text>\n</g>\n<!-- 9&#45;&gt;11 -->\n<g id=\"edge11\" class=\"edge\">\n<title>9&#45;&gt;11</title>\n<path fill=\"none\" stroke=\"black\" d=\"M163.5,-341.91C163.5,-331.2 163.5,-319.62 163.5,-308.78\"/>\n<polygon fill=\"black\" stroke=\"black\" points=\"167,-308.67 163.5,-298.67 160,-308.67 167,-308.67\"/>\n</g>\n<!-- 13 -->\n<g id=\"node14\" class=\"node\">\n<title>13</title>\n<path fill=\"#69b5eb\" stroke=\"black\" d=\"M365,-306C365,-306 242,-306 242,-306 236,-306 230,-300 230,-294 230,-294 230,-235 230,-235 230,-229 236,-223 242,-223 242,-223 365,-223 365,-223 371,-223 377,-229 377,-235 377,-235 377,-294 377,-294 377,-300 371,-306 365,-306\"/>\n<text text-anchor=\"middle\" x=\"303.5\" y=\"-290.8\" font-family=\"Helvetica,sans-Serif\" font-size=\"14.00\">preco &lt;= 40512.885</text>\n<text text-anchor=\"middle\" x=\"303.5\" y=\"-275.8\" font-family=\"Helvetica,sans-Serif\" font-size=\"14.00\">gini = 0.315</text>\n<text text-anchor=\"middle\" x=\"303.5\" y=\"-260.8\" font-family=\"Helvetica,sans-Serif\" font-size=\"14.00\">samples = 51</text>\n<text text-anchor=\"middle\" x=\"303.5\" y=\"-245.8\" font-family=\"Helvetica,sans-Serif\" font-size=\"14.00\">value = [10, 41]</text>\n<text text-anchor=\"middle\" x=\"303.5\" y=\"-230.8\" font-family=\"Helvetica,sans-Serif\" font-size=\"14.00\">class = sim</text>\n</g>\n<!-- 12&#45;&gt;13 -->\n<g id=\"edge13\" class=\"edge\">\n<title>12&#45;&gt;13</title>\n<path fill=\"none\" stroke=\"black\" d=\"M389.05,-341.91C378.58,-332.56 367.36,-322.54 356.6,-312.93\"/>\n<polygon fill=\"black\" stroke=\"black\" points=\"358.66,-310.07 348.87,-306.02 354,-315.29 358.66,-310.07\"/>\n</g>\n<!-- 18 -->\n<g id=\"node19\" class=\"node\">\n<title>18</title>\n<path fill=\"#9ccef2\" stroke=\"black\" d=\"M530,-306C530,-306 407,-306 407,-306 401,-306 395,-300 395,-294 395,-294 395,-235 395,-235 395,-229 401,-223 407,-223 407,-223 530,-223 530,-223 536,-223 542,-229 542,-235 542,-235 542,-294 542,-294 542,-300 536,-306 530,-306\"/>\n<text text-anchor=\"middle\" x=\"468.5\" y=\"-290.8\" font-family=\"Helvetica,sans-Serif\" font-size=\"14.00\">preco &lt;= 40723.646</text>\n<text text-anchor=\"middle\" x=\"468.5\" y=\"-275.8\" font-family=\"Helvetica,sans-Serif\" font-size=\"14.00\">gini = 0.444</text>\n<text text-anchor=\"middle\" x=\"468.5\" y=\"-260.8\" font-family=\"Helvetica,sans-Serif\" font-size=\"14.00\">samples = 36</text>\n<text text-anchor=\"middle\" x=\"468.5\" y=\"-245.8\" font-family=\"Helvetica,sans-Serif\" font-size=\"14.00\">value = [12, 24]</text>\n<text text-anchor=\"middle\" x=\"468.5\" y=\"-230.8\" font-family=\"Helvetica,sans-Serif\" font-size=\"14.00\">class = sim</text>\n</g>\n<!-- 12&#45;&gt;18 -->\n<g id=\"edge18\" class=\"edge\">\n<title>12&#45;&gt;18</title>\n<path fill=\"none\" stroke=\"black\" d=\"M446.3,-341.91C448.75,-333.47 451.36,-324.48 453.9,-315.74\"/>\n<polygon fill=\"black\" stroke=\"black\" points=\"457.3,-316.6 456.72,-306.02 450.57,-314.65 457.3,-316.6\"/>\n</g>\n<!-- 14 -->\n<g id=\"node15\" class=\"node\">\n<title>14</title>\n<path fill=\"#75bbed\" stroke=\"black\" d=\"M225,-187C225,-187 102,-187 102,-187 96,-187 90,-181 90,-175 90,-175 90,-116 90,-116 90,-110 96,-104 102,-104 102,-104 225,-104 225,-104 231,-104 237,-110 237,-116 237,-116 237,-175 237,-175 237,-181 231,-187 225,-187\"/>\n<text text-anchor=\"middle\" x=\"163.5\" y=\"-171.8\" font-family=\"Helvetica,sans-Serif\" font-size=\"14.00\">preco &lt;= 40507.455</text>\n<text text-anchor=\"middle\" x=\"163.5\" y=\"-156.8\" font-family=\"Helvetica,sans-Serif\" font-size=\"14.00\">gini = 0.357</text>\n<text text-anchor=\"middle\" x=\"163.5\" y=\"-141.8\" font-family=\"Helvetica,sans-Serif\" font-size=\"14.00\">samples = 43</text>\n<text text-anchor=\"middle\" x=\"163.5\" y=\"-126.8\" font-family=\"Helvetica,sans-Serif\" font-size=\"14.00\">value = [10, 33]</text>\n<text text-anchor=\"middle\" x=\"163.5\" y=\"-111.8\" font-family=\"Helvetica,sans-Serif\" font-size=\"14.00\">class = sim</text>\n</g>\n<!-- 13&#45;&gt;14 -->\n<g id=\"edge14\" class=\"edge\">\n<title>13&#45;&gt;14</title>\n<path fill=\"none\" stroke=\"black\" d=\"M254.93,-222.91C243.63,-213.47 231.52,-203.34 219.92,-193.65\"/>\n<polygon fill=\"black\" stroke=\"black\" points=\"221.9,-190.75 211.99,-187.02 217.42,-196.12 221.9,-190.75\"/>\n</g>\n<!-- 17 -->\n<g id=\"node18\" class=\"node\">\n<title>17</title>\n<path fill=\"#399de5\" stroke=\"black\" d=\"M340,-179.5C340,-179.5 267,-179.5 267,-179.5 261,-179.5 255,-173.5 255,-167.5 255,-167.5 255,-123.5 255,-123.5 255,-117.5 261,-111.5 267,-111.5 267,-111.5 340,-111.5 340,-111.5 346,-111.5 352,-117.5 352,-123.5 352,-123.5 352,-167.5 352,-167.5 352,-173.5 346,-179.5 340,-179.5\"/>\n<text text-anchor=\"middle\" x=\"303.5\" y=\"-164.3\" font-family=\"Helvetica,sans-Serif\" font-size=\"14.00\">gini = 0.0</text>\n<text text-anchor=\"middle\" x=\"303.5\" y=\"-149.3\" font-family=\"Helvetica,sans-Serif\" font-size=\"14.00\">samples = 8</text>\n<text text-anchor=\"middle\" x=\"303.5\" y=\"-134.3\" font-family=\"Helvetica,sans-Serif\" font-size=\"14.00\">value = [0, 8]</text>\n<text text-anchor=\"middle\" x=\"303.5\" y=\"-119.3\" font-family=\"Helvetica,sans-Serif\" font-size=\"14.00\">class = sim</text>\n</g>\n<!-- 13&#45;&gt;17 -->\n<g id=\"edge17\" class=\"edge\">\n<title>13&#45;&gt;17</title>\n<path fill=\"none\" stroke=\"black\" d=\"M303.5,-222.91C303.5,-212.2 303.5,-200.62 303.5,-189.78\"/>\n<polygon fill=\"black\" stroke=\"black\" points=\"307,-189.67 303.5,-179.67 300,-189.67 307,-189.67\"/>\n</g>\n<!-- 15 -->\n<g id=\"node16\" class=\"node\">\n<title>15</title>\n<path fill=\"#6fb8ec\" stroke=\"black\" d=\"M184,-68C184,-68 103,-68 103,-68 97,-68 91,-62 91,-56 91,-56 91,-12 91,-12 91,-6 97,0 103,0 103,0 184,0 184,0 190,0 196,-6 196,-12 196,-12 196,-56 196,-56 196,-62 190,-68 184,-68\"/>\n<text text-anchor=\"middle\" x=\"143.5\" y=\"-52.8\" font-family=\"Helvetica,sans-Serif\" font-size=\"14.00\">gini = 0.337</text>\n<text text-anchor=\"middle\" x=\"143.5\" y=\"-37.8\" font-family=\"Helvetica,sans-Serif\" font-size=\"14.00\">samples = 42</text>\n<text text-anchor=\"middle\" x=\"143.5\" y=\"-22.8\" font-family=\"Helvetica,sans-Serif\" font-size=\"14.00\">value = [9, 33]</text>\n<text text-anchor=\"middle\" x=\"143.5\" y=\"-7.8\" font-family=\"Helvetica,sans-Serif\" font-size=\"14.00\">class = sim</text>\n</g>\n<!-- 14&#45;&gt;15 -->\n<g id=\"edge15\" class=\"edge\">\n<title>14&#45;&gt;15</title>\n<path fill=\"none\" stroke=\"black\" d=\"M156.05,-103.73C154.54,-95.43 152.94,-86.67 151.41,-78.28\"/>\n<polygon fill=\"black\" stroke=\"black\" points=\"154.82,-77.51 149.58,-68.3 147.94,-78.77 154.82,-77.51\"/>\n</g>\n<!-- 16 -->\n<g id=\"node17\" class=\"node\">\n<title>16</title>\n<path fill=\"#e58139\" stroke=\"black\" d=\"M299,-68C299,-68 226,-68 226,-68 220,-68 214,-62 214,-56 214,-56 214,-12 214,-12 214,-6 220,0 226,0 226,0 299,0 299,0 305,0 311,-6 311,-12 311,-12 311,-56 311,-56 311,-62 305,-68 299,-68\"/>\n<text text-anchor=\"middle\" x=\"262.5\" y=\"-52.8\" font-family=\"Helvetica,sans-Serif\" font-size=\"14.00\">gini = 0.0</text>\n<text text-anchor=\"middle\" x=\"262.5\" y=\"-37.8\" font-family=\"Helvetica,sans-Serif\" font-size=\"14.00\">samples = 1</text>\n<text text-anchor=\"middle\" x=\"262.5\" y=\"-22.8\" font-family=\"Helvetica,sans-Serif\" font-size=\"14.00\">value = [1, 0]</text>\n<text text-anchor=\"middle\" x=\"262.5\" y=\"-7.8\" font-family=\"Helvetica,sans-Serif\" font-size=\"14.00\">class = não</text>\n</g>\n<!-- 14&#45;&gt;16 -->\n<g id=\"edge16\" class=\"edge\">\n<title>14&#45;&gt;16</title>\n<path fill=\"none\" stroke=\"black\" d=\"M200.36,-103.73C208.61,-94.61 217.36,-84.93 225.61,-75.81\"/>\n<polygon fill=\"black\" stroke=\"black\" points=\"228.28,-78.06 232.39,-68.3 223.09,-73.37 228.28,-78.06\"/>\n</g>\n<!-- 19 -->\n<g id=\"node20\" class=\"node\">\n<title>19</title>\n<path fill=\"#f2c09c\" stroke=\"black\" d=\"M548.5,-187C548.5,-187 382.5,-187 382.5,-187 376.5,-187 370.5,-181 370.5,-175 370.5,-175 370.5,-116 370.5,-116 370.5,-110 376.5,-104 382.5,-104 382.5,-104 548.5,-104 548.5,-104 554.5,-104 560.5,-110 560.5,-116 560.5,-116 560.5,-175 560.5,-175 560.5,-181 554.5,-187 548.5,-187\"/>\n<text text-anchor=\"middle\" x=\"465.5\" y=\"-171.8\" font-family=\"Helvetica,sans-Serif\" font-size=\"14.00\">km_por_ano &lt;= 22786.645</text>\n<text text-anchor=\"middle\" x=\"465.5\" y=\"-156.8\" font-family=\"Helvetica,sans-Serif\" font-size=\"14.00\">gini = 0.444</text>\n<text text-anchor=\"middle\" x=\"465.5\" y=\"-141.8\" font-family=\"Helvetica,sans-Serif\" font-size=\"14.00\">samples = 9</text>\n<text text-anchor=\"middle\" x=\"465.5\" y=\"-126.8\" font-family=\"Helvetica,sans-Serif\" font-size=\"14.00\">value = [6, 3]</text>\n<text text-anchor=\"middle\" x=\"465.5\" y=\"-111.8\" font-family=\"Helvetica,sans-Serif\" font-size=\"14.00\">class = não</text>\n</g>\n<!-- 18&#45;&gt;19 -->\n<g id=\"edge19\" class=\"edge\">\n<title>18&#45;&gt;19</title>\n<path fill=\"none\" stroke=\"black\" d=\"M467.46,-222.91C467.25,-214.56 467.02,-205.67 466.8,-197.02\"/>\n<polygon fill=\"black\" stroke=\"black\" points=\"470.29,-196.93 466.54,-187.02 463.3,-197.11 470.29,-196.93\"/>\n</g>\n<!-- 22 -->\n<g id=\"node23\" class=\"node\">\n<title>22</title>\n<path fill=\"#72b9ec\" stroke=\"black\" d=\"M714,-187C714,-187 591,-187 591,-187 585,-187 579,-181 579,-175 579,-175 579,-116 579,-116 579,-110 585,-104 591,-104 591,-104 714,-104 714,-104 720,-104 726,-110 726,-116 726,-116 726,-175 726,-175 726,-181 720,-187 714,-187\"/>\n<text text-anchor=\"middle\" x=\"652.5\" y=\"-171.8\" font-family=\"Helvetica,sans-Serif\" font-size=\"14.00\">preco &lt;= 40870.865</text>\n<text text-anchor=\"middle\" x=\"652.5\" y=\"-156.8\" font-family=\"Helvetica,sans-Serif\" font-size=\"14.00\">gini = 0.346</text>\n<text text-anchor=\"middle\" x=\"652.5\" y=\"-141.8\" font-family=\"Helvetica,sans-Serif\" font-size=\"14.00\">samples = 27</text>\n<text text-anchor=\"middle\" x=\"652.5\" y=\"-126.8\" font-family=\"Helvetica,sans-Serif\" font-size=\"14.00\">value = [6, 21]</text>\n<text text-anchor=\"middle\" x=\"652.5\" y=\"-111.8\" font-family=\"Helvetica,sans-Serif\" font-size=\"14.00\">class = sim</text>\n</g>\n<!-- 18&#45;&gt;22 -->\n<g id=\"edge22\" class=\"edge\">\n<title>18&#45;&gt;22</title>\n<path fill=\"none\" stroke=\"black\" d=\"M532.34,-222.91C547.75,-213.11 564.33,-202.56 580.11,-192.53\"/>\n<polygon fill=\"black\" stroke=\"black\" points=\"582.21,-195.34 588.77,-187.02 578.46,-189.43 582.21,-195.34\"/>\n</g>\n<!-- 20 -->\n<g id=\"node21\" class=\"node\">\n<title>20</title>\n<path fill=\"#e58139\" stroke=\"black\" d=\"M434,-68C434,-68 361,-68 361,-68 355,-68 349,-62 349,-56 349,-56 349,-12 349,-12 349,-6 355,0 361,0 361,0 434,0 434,0 440,0 446,-6 446,-12 446,-12 446,-56 446,-56 446,-62 440,-68 434,-68\"/>\n<text text-anchor=\"middle\" x=\"397.5\" y=\"-52.8\" font-family=\"Helvetica,sans-Serif\" font-size=\"14.00\">gini = 0.0</text>\n<text text-anchor=\"middle\" x=\"397.5\" y=\"-37.8\" font-family=\"Helvetica,sans-Serif\" font-size=\"14.00\">samples = 4</text>\n<text text-anchor=\"middle\" x=\"397.5\" y=\"-22.8\" font-family=\"Helvetica,sans-Serif\" font-size=\"14.00\">value = [4, 0]</text>\n<text text-anchor=\"middle\" x=\"397.5\" y=\"-7.8\" font-family=\"Helvetica,sans-Serif\" font-size=\"14.00\">class = não</text>\n</g>\n<!-- 19&#45;&gt;20 -->\n<g id=\"edge20\" class=\"edge\">\n<title>19&#45;&gt;20</title>\n<path fill=\"none\" stroke=\"black\" d=\"M440.18,-103.73C434.74,-94.97 428.99,-85.7 423.52,-76.91\"/>\n<polygon fill=\"black\" stroke=\"black\" points=\"426.43,-74.95 418.18,-68.3 420.48,-78.64 426.43,-74.95\"/>\n</g>\n<!-- 21 -->\n<g id=\"node22\" class=\"node\">\n<title>21</title>\n<path fill=\"#bddef6\" stroke=\"black\" d=\"M549,-68C549,-68 476,-68 476,-68 470,-68 464,-62 464,-56 464,-56 464,-12 464,-12 464,-6 470,0 476,0 476,0 549,0 549,0 555,0 561,-6 561,-12 561,-12 561,-56 561,-56 561,-62 555,-68 549,-68\"/>\n<text text-anchor=\"middle\" x=\"512.5\" y=\"-52.8\" font-family=\"Helvetica,sans-Serif\" font-size=\"14.00\">gini = 0.48</text>\n<text text-anchor=\"middle\" x=\"512.5\" y=\"-37.8\" font-family=\"Helvetica,sans-Serif\" font-size=\"14.00\">samples = 5</text>\n<text text-anchor=\"middle\" x=\"512.5\" y=\"-22.8\" font-family=\"Helvetica,sans-Serif\" font-size=\"14.00\">value = [2, 3]</text>\n<text text-anchor=\"middle\" x=\"512.5\" y=\"-7.8\" font-family=\"Helvetica,sans-Serif\" font-size=\"14.00\">class = sim</text>\n</g>\n<!-- 19&#45;&gt;21 -->\n<g id=\"edge21\" class=\"edge\">\n<title>19&#45;&gt;21</title>\n<path fill=\"none\" stroke=\"black\" d=\"M483,-103.73C486.64,-95.24 490.49,-86.28 494.16,-77.73\"/>\n<polygon fill=\"black\" stroke=\"black\" points=\"497.48,-78.87 498.21,-68.3 491.05,-76.11 497.48,-78.87\"/>\n</g>\n<!-- 23 -->\n<g id=\"node24\" class=\"node\">\n<title>23</title>\n<path fill=\"#4da7e8\" stroke=\"black\" d=\"M682,-68C682,-68 601,-68 601,-68 595,-68 589,-62 589,-56 589,-56 589,-12 589,-12 589,-6 595,0 601,0 601,0 682,0 682,0 688,0 694,-6 694,-12 694,-12 694,-56 694,-56 694,-62 688,-68 682,-68\"/>\n<text text-anchor=\"middle\" x=\"641.5\" y=\"-52.8\" font-family=\"Helvetica,sans-Serif\" font-size=\"14.00\">gini = 0.165</text>\n<text text-anchor=\"middle\" x=\"641.5\" y=\"-37.8\" font-family=\"Helvetica,sans-Serif\" font-size=\"14.00\">samples = 11</text>\n<text text-anchor=\"middle\" x=\"641.5\" y=\"-22.8\" font-family=\"Helvetica,sans-Serif\" font-size=\"14.00\">value = [1, 10]</text>\n<text text-anchor=\"middle\" x=\"641.5\" y=\"-7.8\" font-family=\"Helvetica,sans-Serif\" font-size=\"14.00\">class = sim</text>\n</g>\n<!-- 22&#45;&gt;23 -->\n<g id=\"edge23\" class=\"edge\">\n<title>22&#45;&gt;23</title>\n<path fill=\"none\" stroke=\"black\" d=\"M648.4,-103.73C647.57,-95.43 646.69,-86.67 645.85,-78.28\"/>\n<polygon fill=\"black\" stroke=\"black\" points=\"649.33,-77.9 644.85,-68.3 642.36,-78.6 649.33,-77.9\"/>\n</g>\n<!-- 24 -->\n<g id=\"node25\" class=\"node\">\n<title>24</title>\n<path fill=\"#93caf1\" stroke=\"black\" d=\"M805,-68C805,-68 724,-68 724,-68 718,-68 712,-62 712,-56 712,-56 712,-12 712,-12 712,-6 718,0 724,0 724,0 805,0 805,0 811,0 817,-6 817,-12 817,-12 817,-56 817,-56 817,-62 811,-68 805,-68\"/>\n<text text-anchor=\"middle\" x=\"764.5\" y=\"-52.8\" font-family=\"Helvetica,sans-Serif\" font-size=\"14.00\">gini = 0.43</text>\n<text text-anchor=\"middle\" x=\"764.5\" y=\"-37.8\" font-family=\"Helvetica,sans-Serif\" font-size=\"14.00\">samples = 16</text>\n<text text-anchor=\"middle\" x=\"764.5\" y=\"-22.8\" font-family=\"Helvetica,sans-Serif\" font-size=\"14.00\">value = [5, 11]</text>\n<text text-anchor=\"middle\" x=\"764.5\" y=\"-7.8\" font-family=\"Helvetica,sans-Serif\" font-size=\"14.00\">class = sim</text>\n</g>\n<!-- 22&#45;&gt;24 -->\n<g id=\"edge24\" class=\"edge\">\n<title>22&#45;&gt;24</title>\n<path fill=\"none\" stroke=\"black\" d=\"M694.2,-103.73C703.63,-94.51 713.63,-84.74 723.04,-75.53\"/>\n<polygon fill=\"black\" stroke=\"black\" points=\"725.74,-77.79 730.44,-68.3 720.84,-72.79 725.74,-77.79\"/>\n</g>\n<!-- 26 -->\n<g id=\"node27\" class=\"node\">\n<title>26</title>\n<path fill=\"#72b9ec\" stroke=\"black\" d=\"M843,-544C843,-544 728,-544 728,-544 722,-544 716,-538 716,-532 716,-532 716,-473 716,-473 716,-467 722,-461 728,-461 728,-461 843,-461 843,-461 849,-461 855,-467 855,-473 855,-473 855,-532 855,-532 855,-538 849,-544 843,-544\"/>\n<text text-anchor=\"middle\" x=\"785.5\" y=\"-528.8\" font-family=\"Helvetica,sans-Serif\" font-size=\"14.00\">preco &lt;= 40197.01</text>\n<text text-anchor=\"middle\" x=\"785.5\" y=\"-513.8\" font-family=\"Helvetica,sans-Serif\" font-size=\"14.00\">gini = 0.346</text>\n<text text-anchor=\"middle\" x=\"785.5\" y=\"-498.8\" font-family=\"Helvetica,sans-Serif\" font-size=\"14.00\">samples = 9</text>\n<text text-anchor=\"middle\" x=\"785.5\" y=\"-483.8\" font-family=\"Helvetica,sans-Serif\" font-size=\"14.00\">value = [2, 7]</text>\n<text text-anchor=\"middle\" x=\"785.5\" y=\"-468.8\" font-family=\"Helvetica,sans-Serif\" font-size=\"14.00\">class = sim</text>\n</g>\n<!-- 25&#45;&gt;26 -->\n<g id=\"edge26\" class=\"edge\">\n<title>25&#45;&gt;26</title>\n<path fill=\"none\" stroke=\"black\" d=\"M846.23,-579.91C839.09,-570.92 831.46,-561.32 824.09,-552.05\"/>\n<polygon fill=\"black\" stroke=\"black\" points=\"826.67,-549.67 817.71,-544.02 821.19,-554.03 826.67,-549.67\"/>\n</g>\n<!-- 33 -->\n<g id=\"node34\" class=\"node\">\n<title>33</title>\n<path fill=\"#eeab7b\" stroke=\"black\" d=\"M1034,-544C1034,-544 911,-544 911,-544 905,-544 899,-538 899,-532 899,-532 899,-473 899,-473 899,-467 905,-461 911,-461 911,-461 1034,-461 1034,-461 1040,-461 1046,-467 1046,-473 1046,-473 1046,-532 1046,-532 1046,-538 1040,-544 1034,-544\"/>\n<text text-anchor=\"middle\" x=\"972.5\" y=\"-528.8\" font-family=\"Helvetica,sans-Serif\" font-size=\"14.00\">preco &lt;= 40430.869</text>\n<text text-anchor=\"middle\" x=\"972.5\" y=\"-513.8\" font-family=\"Helvetica,sans-Serif\" font-size=\"14.00\">gini = 0.375</text>\n<text text-anchor=\"middle\" x=\"972.5\" y=\"-498.8\" font-family=\"Helvetica,sans-Serif\" font-size=\"14.00\">samples = 8</text>\n<text text-anchor=\"middle\" x=\"972.5\" y=\"-483.8\" font-family=\"Helvetica,sans-Serif\" font-size=\"14.00\">value = [6, 2]</text>\n<text text-anchor=\"middle\" x=\"972.5\" y=\"-468.8\" font-family=\"Helvetica,sans-Serif\" font-size=\"14.00\">class = não</text>\n</g>\n<!-- 25&#45;&gt;33 -->\n<g id=\"edge33\" class=\"edge\">\n<title>25&#45;&gt;33</title>\n<path fill=\"none\" stroke=\"black\" d=\"M911.11,-579.91C918.33,-570.92 926.05,-561.32 933.49,-552.05\"/>\n<polygon fill=\"black\" stroke=\"black\" points=\"936.41,-554.01 939.94,-544.02 930.95,-549.62 936.41,-554.01\"/>\n</g>\n<!-- 27 -->\n<g id=\"node28\" class=\"node\">\n<title>27</title>\n<path fill=\"#e58139\" stroke=\"black\" d=\"M682,-417.5C682,-417.5 609,-417.5 609,-417.5 603,-417.5 597,-411.5 597,-405.5 597,-405.5 597,-361.5 597,-361.5 597,-355.5 603,-349.5 609,-349.5 609,-349.5 682,-349.5 682,-349.5 688,-349.5 694,-355.5 694,-361.5 694,-361.5 694,-405.5 694,-405.5 694,-411.5 688,-417.5 682,-417.5\"/>\n<text text-anchor=\"middle\" x=\"645.5\" y=\"-402.3\" font-family=\"Helvetica,sans-Serif\" font-size=\"14.00\">gini = 0.0</text>\n<text text-anchor=\"middle\" x=\"645.5\" y=\"-387.3\" font-family=\"Helvetica,sans-Serif\" font-size=\"14.00\">samples = 1</text>\n<text text-anchor=\"middle\" x=\"645.5\" y=\"-372.3\" font-family=\"Helvetica,sans-Serif\" font-size=\"14.00\">value = [1, 0]</text>\n<text text-anchor=\"middle\" x=\"645.5\" y=\"-357.3\" font-family=\"Helvetica,sans-Serif\" font-size=\"14.00\">class = não</text>\n</g>\n<!-- 26&#45;&gt;27 -->\n<g id=\"edge27\" class=\"edge\">\n<title>26&#45;&gt;27</title>\n<path fill=\"none\" stroke=\"black\" d=\"M736.93,-460.91C722.67,-448.99 707.09,-435.98 692.91,-424.12\"/>\n<polygon fill=\"black\" stroke=\"black\" points=\"695.1,-421.39 685.19,-417.67 690.62,-426.77 695.1,-421.39\"/>\n</g>\n<!-- 28 -->\n<g id=\"node29\" class=\"node\">\n<title>28</title>\n<path fill=\"#55abe9\" stroke=\"black\" d=\"M847,-425C847,-425 724,-425 724,-425 718,-425 712,-419 712,-413 712,-413 712,-354 712,-354 712,-348 718,-342 724,-342 724,-342 847,-342 847,-342 853,-342 859,-348 859,-354 859,-354 859,-413 859,-413 859,-419 853,-425 847,-425\"/>\n<text text-anchor=\"middle\" x=\"785.5\" y=\"-409.8\" font-family=\"Helvetica,sans-Serif\" font-size=\"14.00\">preco &lt;= 40893.549</text>\n<text text-anchor=\"middle\" x=\"785.5\" y=\"-394.8\" font-family=\"Helvetica,sans-Serif\" font-size=\"14.00\">gini = 0.219</text>\n<text text-anchor=\"middle\" x=\"785.5\" y=\"-379.8\" font-family=\"Helvetica,sans-Serif\" font-size=\"14.00\">samples = 8</text>\n<text text-anchor=\"middle\" x=\"785.5\" y=\"-364.8\" font-family=\"Helvetica,sans-Serif\" font-size=\"14.00\">value = [1, 7]</text>\n<text text-anchor=\"middle\" x=\"785.5\" y=\"-349.8\" font-family=\"Helvetica,sans-Serif\" font-size=\"14.00\">class = sim</text>\n</g>\n<!-- 26&#45;&gt;28 -->\n<g id=\"edge28\" class=\"edge\">\n<title>26&#45;&gt;28</title>\n<path fill=\"none\" stroke=\"black\" d=\"M785.5,-460.91C785.5,-452.65 785.5,-443.86 785.5,-435.3\"/>\n<polygon fill=\"black\" stroke=\"black\" points=\"789,-435.02 785.5,-425.02 782,-435.02 789,-435.02\"/>\n</g>\n<!-- 29 -->\n<g id=\"node30\" class=\"node\">\n<title>29</title>\n<path fill=\"#399de5\" stroke=\"black\" d=\"M705,-298.5C705,-298.5 632,-298.5 632,-298.5 626,-298.5 620,-292.5 620,-286.5 620,-286.5 620,-242.5 620,-242.5 620,-236.5 626,-230.5 632,-230.5 632,-230.5 705,-230.5 705,-230.5 711,-230.5 717,-236.5 717,-242.5 717,-242.5 717,-286.5 717,-286.5 717,-292.5 711,-298.5 705,-298.5\"/>\n<text text-anchor=\"middle\" x=\"668.5\" y=\"-283.3\" font-family=\"Helvetica,sans-Serif\" font-size=\"14.00\">gini = 0.0</text>\n<text text-anchor=\"middle\" x=\"668.5\" y=\"-268.3\" font-family=\"Helvetica,sans-Serif\" font-size=\"14.00\">samples = 6</text>\n<text text-anchor=\"middle\" x=\"668.5\" y=\"-253.3\" font-family=\"Helvetica,sans-Serif\" font-size=\"14.00\">value = [0, 6]</text>\n<text text-anchor=\"middle\" x=\"668.5\" y=\"-238.3\" font-family=\"Helvetica,sans-Serif\" font-size=\"14.00\">class = sim</text>\n</g>\n<!-- 28&#45;&gt;29 -->\n<g id=\"edge29\" class=\"edge\">\n<title>28&#45;&gt;29</title>\n<path fill=\"none\" stroke=\"black\" d=\"M744.91,-341.91C733.21,-330.21 720.46,-317.46 708.78,-305.78\"/>\n<polygon fill=\"black\" stroke=\"black\" points=\"711.21,-303.26 701.67,-298.67 706.26,-308.21 711.21,-303.26\"/>\n</g>\n<!-- 30 -->\n<g id=\"node31\" class=\"node\">\n<title>30</title>\n<path fill=\"#ffffff\" stroke=\"black\" d=\"M870,-306C870,-306 747,-306 747,-306 741,-306 735,-300 735,-294 735,-294 735,-235 735,-235 735,-229 741,-223 747,-223 747,-223 870,-223 870,-223 876,-223 882,-229 882,-235 882,-235 882,-294 882,-294 882,-300 876,-306 870,-306\"/>\n<text text-anchor=\"middle\" x=\"808.5\" y=\"-290.8\" font-family=\"Helvetica,sans-Serif\" font-size=\"14.00\">preco &lt;= 40930.943</text>\n<text text-anchor=\"middle\" x=\"808.5\" y=\"-275.8\" font-family=\"Helvetica,sans-Serif\" font-size=\"14.00\">gini = 0.5</text>\n<text text-anchor=\"middle\" x=\"808.5\" y=\"-260.8\" font-family=\"Helvetica,sans-Serif\" font-size=\"14.00\">samples = 2</text>\n<text text-anchor=\"middle\" x=\"808.5\" y=\"-245.8\" font-family=\"Helvetica,sans-Serif\" font-size=\"14.00\">value = [1, 1]</text>\n<text text-anchor=\"middle\" x=\"808.5\" y=\"-230.8\" font-family=\"Helvetica,sans-Serif\" font-size=\"14.00\">class = não</text>\n</g>\n<!-- 28&#45;&gt;30 -->\n<g id=\"edge30\" class=\"edge\">\n<title>28&#45;&gt;30</title>\n<path fill=\"none\" stroke=\"black\" d=\"M793.48,-341.91C795.12,-333.56 796.87,-324.67 798.57,-316.02\"/>\n<polygon fill=\"black\" stroke=\"black\" points=\"802.04,-316.51 800.53,-306.02 795.17,-315.16 802.04,-316.51\"/>\n</g>\n<!-- 31 -->\n<g id=\"node32\" class=\"node\">\n<title>31</title>\n<path fill=\"#e58139\" stroke=\"black\" d=\"M829,-179.5C829,-179.5 756,-179.5 756,-179.5 750,-179.5 744,-173.5 744,-167.5 744,-167.5 744,-123.5 744,-123.5 744,-117.5 750,-111.5 756,-111.5 756,-111.5 829,-111.5 829,-111.5 835,-111.5 841,-117.5 841,-123.5 841,-123.5 841,-167.5 841,-167.5 841,-173.5 835,-179.5 829,-179.5\"/>\n<text text-anchor=\"middle\" x=\"792.5\" y=\"-164.3\" font-family=\"Helvetica,sans-Serif\" font-size=\"14.00\">gini = 0.0</text>\n<text text-anchor=\"middle\" x=\"792.5\" y=\"-149.3\" font-family=\"Helvetica,sans-Serif\" font-size=\"14.00\">samples = 1</text>\n<text text-anchor=\"middle\" x=\"792.5\" y=\"-134.3\" font-family=\"Helvetica,sans-Serif\" font-size=\"14.00\">value = [1, 0]</text>\n<text text-anchor=\"middle\" x=\"792.5\" y=\"-119.3\" font-family=\"Helvetica,sans-Serif\" font-size=\"14.00\">class = não</text>\n</g>\n<!-- 30&#45;&gt;31 -->\n<g id=\"edge31\" class=\"edge\">\n<title>30&#45;&gt;31</title>\n<path fill=\"none\" stroke=\"black\" d=\"M802.95,-222.91C801.49,-212.2 799.9,-200.62 798.42,-189.78\"/>\n<polygon fill=\"black\" stroke=\"black\" points=\"801.86,-189.1 797.04,-179.67 794.92,-190.05 801.86,-189.1\"/>\n</g>\n<!-- 32 -->\n<g id=\"node33\" class=\"node\">\n<title>32</title>\n<path fill=\"#399de5\" stroke=\"black\" d=\"M944,-179.5C944,-179.5 871,-179.5 871,-179.5 865,-179.5 859,-173.5 859,-167.5 859,-167.5 859,-123.5 859,-123.5 859,-117.5 865,-111.5 871,-111.5 871,-111.5 944,-111.5 944,-111.5 950,-111.5 956,-117.5 956,-123.5 956,-123.5 956,-167.5 956,-167.5 956,-173.5 950,-179.5 944,-179.5\"/>\n<text text-anchor=\"middle\" x=\"907.5\" y=\"-164.3\" font-family=\"Helvetica,sans-Serif\" font-size=\"14.00\">gini = 0.0</text>\n<text text-anchor=\"middle\" x=\"907.5\" y=\"-149.3\" font-family=\"Helvetica,sans-Serif\" font-size=\"14.00\">samples = 1</text>\n<text text-anchor=\"middle\" x=\"907.5\" y=\"-134.3\" font-family=\"Helvetica,sans-Serif\" font-size=\"14.00\">value = [0, 1]</text>\n<text text-anchor=\"middle\" x=\"907.5\" y=\"-119.3\" font-family=\"Helvetica,sans-Serif\" font-size=\"14.00\">class = sim</text>\n</g>\n<!-- 30&#45;&gt;32 -->\n<g id=\"edge32\" class=\"edge\">\n<title>30&#45;&gt;32</title>\n<path fill=\"none\" stroke=\"black\" d=\"M842.85,-222.91C852.56,-211.43 863.13,-198.94 872.86,-187.44\"/>\n<polygon fill=\"black\" stroke=\"black\" points=\"875.65,-189.56 879.44,-179.67 870.3,-185.04 875.65,-189.56\"/>\n</g>\n<!-- 34 -->\n<g id=\"node35\" class=\"node\">\n<title>34</title>\n<path fill=\"#9ccef2\" stroke=\"black\" d=\"M1055.5,-425C1055.5,-425 889.5,-425 889.5,-425 883.5,-425 877.5,-419 877.5,-413 877.5,-413 877.5,-354 877.5,-354 877.5,-348 883.5,-342 889.5,-342 889.5,-342 1055.5,-342 1055.5,-342 1061.5,-342 1067.5,-348 1067.5,-354 1067.5,-354 1067.5,-413 1067.5,-413 1067.5,-419 1061.5,-425 1055.5,-425\"/>\n<text text-anchor=\"middle\" x=\"972.5\" y=\"-409.8\" font-family=\"Helvetica,sans-Serif\" font-size=\"14.00\">km_por_ano &lt;= 28339.673</text>\n<text text-anchor=\"middle\" x=\"972.5\" y=\"-394.8\" font-family=\"Helvetica,sans-Serif\" font-size=\"14.00\">gini = 0.444</text>\n<text text-anchor=\"middle\" x=\"972.5\" y=\"-379.8\" font-family=\"Helvetica,sans-Serif\" font-size=\"14.00\">samples = 3</text>\n<text text-anchor=\"middle\" x=\"972.5\" y=\"-364.8\" font-family=\"Helvetica,sans-Serif\" font-size=\"14.00\">value = [1, 2]</text>\n<text text-anchor=\"middle\" x=\"972.5\" y=\"-349.8\" font-family=\"Helvetica,sans-Serif\" font-size=\"14.00\">class = sim</text>\n</g>\n<!-- 33&#45;&gt;34 -->\n<g id=\"edge34\" class=\"edge\">\n<title>33&#45;&gt;34</title>\n<path fill=\"none\" stroke=\"black\" d=\"M972.5,-460.91C972.5,-452.65 972.5,-443.86 972.5,-435.3\"/>\n<polygon fill=\"black\" stroke=\"black\" points=\"976,-435.02 972.5,-425.02 969,-435.02 976,-435.02\"/>\n</g>\n<!-- 37 -->\n<g id=\"node38\" class=\"node\">\n<title>37</title>\n<path fill=\"#e58139\" stroke=\"black\" d=\"M1171,-417.5C1171,-417.5 1098,-417.5 1098,-417.5 1092,-417.5 1086,-411.5 1086,-405.5 1086,-405.5 1086,-361.5 1086,-361.5 1086,-355.5 1092,-349.5 1098,-349.5 1098,-349.5 1171,-349.5 1171,-349.5 1177,-349.5 1183,-355.5 1183,-361.5 1183,-361.5 1183,-405.5 1183,-405.5 1183,-411.5 1177,-417.5 1171,-417.5\"/>\n<text text-anchor=\"middle\" x=\"1134.5\" y=\"-402.3\" font-family=\"Helvetica,sans-Serif\" font-size=\"14.00\">gini = 0.0</text>\n<text text-anchor=\"middle\" x=\"1134.5\" y=\"-387.3\" font-family=\"Helvetica,sans-Serif\" font-size=\"14.00\">samples = 5</text>\n<text text-anchor=\"middle\" x=\"1134.5\" y=\"-372.3\" font-family=\"Helvetica,sans-Serif\" font-size=\"14.00\">value = [5, 0]</text>\n<text text-anchor=\"middle\" x=\"1134.5\" y=\"-357.3\" font-family=\"Helvetica,sans-Serif\" font-size=\"14.00\">class = não</text>\n</g>\n<!-- 33&#45;&gt;37 -->\n<g id=\"edge37\" class=\"edge\">\n<title>33&#45;&gt;37</title>\n<path fill=\"none\" stroke=\"black\" d=\"M1028.71,-460.91C1045.36,-448.88 1063.56,-435.73 1080.1,-423.79\"/>\n<polygon fill=\"black\" stroke=\"black\" points=\"1082.52,-426.36 1088.58,-417.67 1078.42,-420.68 1082.52,-426.36\"/>\n</g>\n<!-- 35 -->\n<g id=\"node36\" class=\"node\">\n<title>35</title>\n<path fill=\"#e58139\" stroke=\"black\" d=\"M986,-298.5C986,-298.5 913,-298.5 913,-298.5 907,-298.5 901,-292.5 901,-286.5 901,-286.5 901,-242.5 901,-242.5 901,-236.5 907,-230.5 913,-230.5 913,-230.5 986,-230.5 986,-230.5 992,-230.5 998,-236.5 998,-242.5 998,-242.5 998,-286.5 998,-286.5 998,-292.5 992,-298.5 986,-298.5\"/>\n<text text-anchor=\"middle\" x=\"949.5\" y=\"-283.3\" font-family=\"Helvetica,sans-Serif\" font-size=\"14.00\">gini = 0.0</text>\n<text text-anchor=\"middle\" x=\"949.5\" y=\"-268.3\" font-family=\"Helvetica,sans-Serif\" font-size=\"14.00\">samples = 1</text>\n<text text-anchor=\"middle\" x=\"949.5\" y=\"-253.3\" font-family=\"Helvetica,sans-Serif\" font-size=\"14.00\">value = [1, 0]</text>\n<text text-anchor=\"middle\" x=\"949.5\" y=\"-238.3\" font-family=\"Helvetica,sans-Serif\" font-size=\"14.00\">class = não</text>\n</g>\n<!-- 34&#45;&gt;35 -->\n<g id=\"edge35\" class=\"edge\">\n<title>34&#45;&gt;35</title>\n<path fill=\"none\" stroke=\"black\" d=\"M964.52,-341.91C962.42,-331.2 960.14,-319.62 958.01,-308.78\"/>\n<polygon fill=\"black\" stroke=\"black\" points=\"961.38,-307.8 956.02,-298.67 954.51,-309.15 961.38,-307.8\"/>\n</g>\n<!-- 36 -->\n<g id=\"node37\" class=\"node\">\n<title>36</title>\n<path fill=\"#399de5\" stroke=\"black\" d=\"M1101,-298.5C1101,-298.5 1028,-298.5 1028,-298.5 1022,-298.5 1016,-292.5 1016,-286.5 1016,-286.5 1016,-242.5 1016,-242.5 1016,-236.5 1022,-230.5 1028,-230.5 1028,-230.5 1101,-230.5 1101,-230.5 1107,-230.5 1113,-236.5 1113,-242.5 1113,-242.5 1113,-286.5 1113,-286.5 1113,-292.5 1107,-298.5 1101,-298.5\"/>\n<text text-anchor=\"middle\" x=\"1064.5\" y=\"-283.3\" font-family=\"Helvetica,sans-Serif\" font-size=\"14.00\">gini = 0.0</text>\n<text text-anchor=\"middle\" x=\"1064.5\" y=\"-268.3\" font-family=\"Helvetica,sans-Serif\" font-size=\"14.00\">samples = 2</text>\n<text text-anchor=\"middle\" x=\"1064.5\" y=\"-253.3\" font-family=\"Helvetica,sans-Serif\" font-size=\"14.00\">value = [0, 2]</text>\n<text text-anchor=\"middle\" x=\"1064.5\" y=\"-238.3\" font-family=\"Helvetica,sans-Serif\" font-size=\"14.00\">class = sim</text>\n</g>\n<!-- 34&#45;&gt;36 -->\n<g id=\"edge36\" class=\"edge\">\n<title>34&#45;&gt;36</title>\n<path fill=\"none\" stroke=\"black\" d=\"M1004.42,-341.91C1013.36,-330.54 1023.08,-318.18 1032.05,-306.77\"/>\n<polygon fill=\"black\" stroke=\"black\" points=\"1034.99,-308.69 1038.42,-298.67 1029.49,-304.36 1034.99,-308.69\"/>\n</g>\n<!-- 40 -->\n<g id=\"node41\" class=\"node\">\n<title>40</title>\n<path fill=\"#67b4eb\" stroke=\"black\" d=\"M2528.5,-782C2528.5,-782 2370.5,-782 2370.5,-782 2364.5,-782 2358.5,-776 2358.5,-770 2358.5,-770 2358.5,-711 2358.5,-711 2358.5,-705 2364.5,-699 2370.5,-699 2370.5,-699 2528.5,-699 2528.5,-699 2534.5,-699 2540.5,-705 2540.5,-711 2540.5,-711 2540.5,-770 2540.5,-770 2540.5,-776 2534.5,-782 2528.5,-782\"/>\n<text text-anchor=\"middle\" x=\"2449.5\" y=\"-766.8\" font-family=\"Helvetica,sans-Serif\" font-size=\"14.00\">km_por_ano &lt;= 6267.575</text>\n<text text-anchor=\"middle\" x=\"2449.5\" y=\"-751.8\" font-family=\"Helvetica,sans-Serif\" font-size=\"14.00\">gini = 0.306</text>\n<text text-anchor=\"middle\" x=\"2449.5\" y=\"-736.8\" font-family=\"Helvetica,sans-Serif\" font-size=\"14.00\">samples = 2130</text>\n<text text-anchor=\"middle\" x=\"2449.5\" y=\"-721.8\" font-family=\"Helvetica,sans-Serif\" font-size=\"14.00\">value = [401, 1729]</text>\n<text text-anchor=\"middle\" x=\"2449.5\" y=\"-706.8\" font-family=\"Helvetica,sans-Serif\" font-size=\"14.00\">class = sim</text>\n</g>\n<!-- 39&#45;&gt;40 -->\n<g id=\"edge40\" class=\"edge\">\n<title>39&#45;&gt;40</title>\n<path fill=\"none\" stroke=\"black\" d=\"M3193.48,-845.25C3034.11,-823.02 2714.37,-778.44 2550.85,-755.63\"/>\n<polygon fill=\"black\" stroke=\"black\" points=\"2551.18,-752.15 2540.79,-754.23 2550.21,-759.08 2551.18,-752.15\"/>\n</g>\n<!-- 95 -->\n<g id=\"node96\" class=\"node\">\n<title>95</title>\n<path fill=\"#86c3ef\" stroke=\"black\" d=\"M4233,-782C4233,-782 4110,-782 4110,-782 4104,-782 4098,-776 4098,-770 4098,-770 4098,-711 4098,-711 4098,-705 4104,-699 4110,-699 4110,-699 4233,-699 4233,-699 4239,-699 4245,-705 4245,-711 4245,-711 4245,-770 4245,-770 4245,-776 4239,-782 4233,-782\"/>\n<text text-anchor=\"middle\" x=\"4171.5\" y=\"-766.8\" font-family=\"Helvetica,sans-Serif\" font-size=\"14.00\">preco &lt;= 53005.512</text>\n<text text-anchor=\"middle\" x=\"4171.5\" y=\"-751.8\" font-family=\"Helvetica,sans-Serif\" font-size=\"14.00\">gini = 0.402</text>\n<text text-anchor=\"middle\" x=\"4171.5\" y=\"-736.8\" font-family=\"Helvetica,sans-Serif\" font-size=\"14.00\">samples = 172</text>\n<text text-anchor=\"middle\" x=\"4171.5\" y=\"-721.8\" font-family=\"Helvetica,sans-Serif\" font-size=\"14.00\">value = [48, 124]</text>\n<text text-anchor=\"middle\" x=\"4171.5\" y=\"-706.8\" font-family=\"Helvetica,sans-Serif\" font-size=\"14.00\">class = sim</text>\n</g>\n<!-- 39&#45;&gt;95 -->\n<g id=\"edge95\" class=\"edge\">\n<title>39&#45;&gt;95</title>\n<path fill=\"none\" stroke=\"black\" d=\"M3383.84,-845.87C3557.57,-822.85 3922.97,-774.43 4087.76,-752.6\"/>\n<polygon fill=\"black\" stroke=\"black\" points=\"4088.38,-756.04 4097.84,-751.26 4087.47,-749.1 4088.38,-756.04\"/>\n</g>\n<!-- 41 -->\n<g id=\"node42\" class=\"node\">\n<title>41</title>\n<path fill=\"#eeab7b\" stroke=\"black\" d=\"M2185.5,-663C2185.5,-663 2027.5,-663 2027.5,-663 2021.5,-663 2015.5,-657 2015.5,-651 2015.5,-651 2015.5,-592 2015.5,-592 2015.5,-586 2021.5,-580 2027.5,-580 2027.5,-580 2185.5,-580 2185.5,-580 2191.5,-580 2197.5,-586 2197.5,-592 2197.5,-592 2197.5,-651 2197.5,-651 2197.5,-657 2191.5,-663 2185.5,-663\"/>\n<text text-anchor=\"middle\" x=\"2106.5\" y=\"-647.8\" font-family=\"Helvetica,sans-Serif\" font-size=\"14.00\">km_por_ano &lt;= 4049.099</text>\n<text text-anchor=\"middle\" x=\"2106.5\" y=\"-632.8\" font-family=\"Helvetica,sans-Serif\" font-size=\"14.00\">gini = 0.375</text>\n<text text-anchor=\"middle\" x=\"2106.5\" y=\"-617.8\" font-family=\"Helvetica,sans-Serif\" font-size=\"14.00\">samples = 4</text>\n<text text-anchor=\"middle\" x=\"2106.5\" y=\"-602.8\" font-family=\"Helvetica,sans-Serif\" font-size=\"14.00\">value = [3, 1]</text>\n<text text-anchor=\"middle\" x=\"2106.5\" y=\"-587.8\" font-family=\"Helvetica,sans-Serif\" font-size=\"14.00\">class = não</text>\n</g>\n<!-- 40&#45;&gt;41 -->\n<g id=\"edge41\" class=\"edge\">\n<title>40&#45;&gt;41</title>\n<path fill=\"none\" stroke=\"black\" d=\"M2358.48,-708.45C2311.97,-692.59 2255.25,-673.24 2207.4,-656.92\"/>\n<polygon fill=\"black\" stroke=\"black\" points=\"2208.24,-653.51 2197.64,-653.59 2205.98,-660.13 2208.24,-653.51\"/>\n</g>\n<!-- 44 -->\n<g id=\"node45\" class=\"node\">\n<title>44</title>\n<path fill=\"#67b4eb\" stroke=\"black\" d=\"M2530,-663C2530,-663 2369,-663 2369,-663 2363,-663 2357,-657 2357,-651 2357,-651 2357,-592 2357,-592 2357,-586 2363,-580 2369,-580 2369,-580 2530,-580 2530,-580 2536,-580 2542,-586 2542,-592 2542,-592 2542,-651 2542,-651 2542,-657 2536,-663 2530,-663\"/>\n<text text-anchor=\"middle\" x=\"2449.5\" y=\"-647.8\" font-family=\"Helvetica,sans-Serif\" font-size=\"14.00\">idade_do_modelo &lt;= 18.5</text>\n<text text-anchor=\"middle\" x=\"2449.5\" y=\"-632.8\" font-family=\"Helvetica,sans-Serif\" font-size=\"14.00\">gini = 0.304</text>\n<text text-anchor=\"middle\" x=\"2449.5\" y=\"-617.8\" font-family=\"Helvetica,sans-Serif\" font-size=\"14.00\">samples = 2126</text>\n<text text-anchor=\"middle\" x=\"2449.5\" y=\"-602.8\" font-family=\"Helvetica,sans-Serif\" font-size=\"14.00\">value = [398, 1728]</text>\n<text text-anchor=\"middle\" x=\"2449.5\" y=\"-587.8\" font-family=\"Helvetica,sans-Serif\" font-size=\"14.00\">class = sim</text>\n</g>\n<!-- 40&#45;&gt;44 -->\n<g id=\"edge44\" class=\"edge\">\n<title>40&#45;&gt;44</title>\n<path fill=\"none\" stroke=\"black\" d=\"M2449.5,-698.91C2449.5,-690.65 2449.5,-681.86 2449.5,-673.3\"/>\n<polygon fill=\"black\" stroke=\"black\" points=\"2453,-673.02 2449.5,-663.02 2446,-673.02 2453,-673.02\"/>\n</g>\n<!-- 42 -->\n<g id=\"node43\" class=\"node\">\n<title>42</title>\n<path fill=\"#399de5\" stroke=\"black\" d=\"M2028,-536.5C2028,-536.5 1955,-536.5 1955,-536.5 1949,-536.5 1943,-530.5 1943,-524.5 1943,-524.5 1943,-480.5 1943,-480.5 1943,-474.5 1949,-468.5 1955,-468.5 1955,-468.5 2028,-468.5 2028,-468.5 2034,-468.5 2040,-474.5 2040,-480.5 2040,-480.5 2040,-524.5 2040,-524.5 2040,-530.5 2034,-536.5 2028,-536.5\"/>\n<text text-anchor=\"middle\" x=\"1991.5\" y=\"-521.3\" font-family=\"Helvetica,sans-Serif\" font-size=\"14.00\">gini = 0.0</text>\n<text text-anchor=\"middle\" x=\"1991.5\" y=\"-506.3\" font-family=\"Helvetica,sans-Serif\" font-size=\"14.00\">samples = 1</text>\n<text text-anchor=\"middle\" x=\"1991.5\" y=\"-491.3\" font-family=\"Helvetica,sans-Serif\" font-size=\"14.00\">value = [0, 1]</text>\n<text text-anchor=\"middle\" x=\"1991.5\" y=\"-476.3\" font-family=\"Helvetica,sans-Serif\" font-size=\"14.00\">class = sim</text>\n</g>\n<!-- 41&#45;&gt;42 -->\n<g id=\"edge42\" class=\"edge\">\n<title>41&#45;&gt;42</title>\n<path fill=\"none\" stroke=\"black\" d=\"M2066.6,-579.91C2055.21,-568.32 2042.81,-555.7 2031.42,-544.11\"/>\n<polygon fill=\"black\" stroke=\"black\" points=\"2033.61,-541.35 2024.1,-536.67 2028.61,-546.25 2033.61,-541.35\"/>\n</g>\n<!-- 43 -->\n<g id=\"node44\" class=\"node\">\n<title>43</title>\n<path fill=\"#e58139\" stroke=\"black\" d=\"M2143,-536.5C2143,-536.5 2070,-536.5 2070,-536.5 2064,-536.5 2058,-530.5 2058,-524.5 2058,-524.5 2058,-480.5 2058,-480.5 2058,-474.5 2064,-468.5 2070,-468.5 2070,-468.5 2143,-468.5 2143,-468.5 2149,-468.5 2155,-474.5 2155,-480.5 2155,-480.5 2155,-524.5 2155,-524.5 2155,-530.5 2149,-536.5 2143,-536.5\"/>\n<text text-anchor=\"middle\" x=\"2106.5\" y=\"-521.3\" font-family=\"Helvetica,sans-Serif\" font-size=\"14.00\">gini = 0.0</text>\n<text text-anchor=\"middle\" x=\"2106.5\" y=\"-506.3\" font-family=\"Helvetica,sans-Serif\" font-size=\"14.00\">samples = 3</text>\n<text text-anchor=\"middle\" x=\"2106.5\" y=\"-491.3\" font-family=\"Helvetica,sans-Serif\" font-size=\"14.00\">value = [3, 0]</text>\n<text text-anchor=\"middle\" x=\"2106.5\" y=\"-476.3\" font-family=\"Helvetica,sans-Serif\" font-size=\"14.00\">class = não</text>\n</g>\n<!-- 41&#45;&gt;43 -->\n<g id=\"edge43\" class=\"edge\">\n<title>41&#45;&gt;43</title>\n<path fill=\"none\" stroke=\"black\" d=\"M2106.5,-579.91C2106.5,-569.2 2106.5,-557.62 2106.5,-546.78\"/>\n<polygon fill=\"black\" stroke=\"black\" points=\"2110,-546.67 2106.5,-536.67 2103,-546.67 2110,-546.67\"/>\n</g>\n<!-- 45 -->\n<g id=\"node46\" class=\"node\">\n<title>45</title>\n<path fill=\"#69b5eb\" stroke=\"black\" d=\"M2351.5,-544C2351.5,-544 2185.5,-544 2185.5,-544 2179.5,-544 2173.5,-538 2173.5,-532 2173.5,-532 2173.5,-473 2173.5,-473 2173.5,-467 2179.5,-461 2185.5,-461 2185.5,-461 2351.5,-461 2351.5,-461 2357.5,-461 2363.5,-467 2363.5,-473 2363.5,-473 2363.5,-532 2363.5,-532 2363.5,-538 2357.5,-544 2351.5,-544\"/>\n<text text-anchor=\"middle\" x=\"2268.5\" y=\"-528.8\" font-family=\"Helvetica,sans-Serif\" font-size=\"14.00\">km_por_ano &lt;= 33681.877</text>\n<text text-anchor=\"middle\" x=\"2268.5\" y=\"-513.8\" font-family=\"Helvetica,sans-Serif\" font-size=\"14.00\">gini = 0.316</text>\n<text text-anchor=\"middle\" x=\"2268.5\" y=\"-498.8\" font-family=\"Helvetica,sans-Serif\" font-size=\"14.00\">samples = 1713</text>\n<text text-anchor=\"middle\" x=\"2268.5\" y=\"-483.8\" font-family=\"Helvetica,sans-Serif\" font-size=\"14.00\">value = [337, 1376]</text>\n<text text-anchor=\"middle\" x=\"2268.5\" y=\"-468.8\" font-family=\"Helvetica,sans-Serif\" font-size=\"14.00\">class = sim</text>\n</g>\n<!-- 44&#45;&gt;45 -->\n<g id=\"edge45\" class=\"edge\">\n<title>44&#45;&gt;45</title>\n<path fill=\"none\" stroke=\"black\" d=\"M2386.7,-579.91C2371.54,-570.11 2355.23,-559.56 2339.71,-549.53\"/>\n<polygon fill=\"black\" stroke=\"black\" points=\"2341.48,-546.51 2331.19,-544.02 2337.68,-552.39 2341.48,-546.51\"/>\n</g>\n<!-- 70 -->\n<g id=\"node71\" class=\"node\">\n<title>70</title>\n<path fill=\"#5baeea\" stroke=\"black\" d=\"M2671,-544C2671,-544 2510,-544 2510,-544 2504,-544 2498,-538 2498,-532 2498,-532 2498,-473 2498,-473 2498,-467 2504,-461 2510,-461 2510,-461 2671,-461 2671,-461 2677,-461 2683,-467 2683,-473 2683,-473 2683,-532 2683,-532 2683,-538 2677,-544 2671,-544\"/>\n<text text-anchor=\"middle\" x=\"2590.5\" y=\"-528.8\" font-family=\"Helvetica,sans-Serif\" font-size=\"14.00\">idade_do_modelo &lt;= 19.5</text>\n<text text-anchor=\"middle\" x=\"2590.5\" y=\"-513.8\" font-family=\"Helvetica,sans-Serif\" font-size=\"14.00\">gini = 0.252</text>\n<text text-anchor=\"middle\" x=\"2590.5\" y=\"-498.8\" font-family=\"Helvetica,sans-Serif\" font-size=\"14.00\">samples = 413</text>\n<text text-anchor=\"middle\" x=\"2590.5\" y=\"-483.8\" font-family=\"Helvetica,sans-Serif\" font-size=\"14.00\">value = [61, 352]</text>\n<text text-anchor=\"middle\" x=\"2590.5\" y=\"-468.8\" font-family=\"Helvetica,sans-Serif\" font-size=\"14.00\">class = sim</text>\n</g>\n<!-- 44&#45;&gt;70 -->\n<g id=\"edge70\" class=\"edge\">\n<title>44&#45;&gt;70</title>\n<path fill=\"none\" stroke=\"black\" d=\"M2498.42,-579.91C2509.79,-570.47 2522,-560.34 2533.68,-550.65\"/>\n<polygon fill=\"black\" stroke=\"black\" points=\"2536.21,-553.1 2541.67,-544.02 2531.74,-547.71 2536.21,-553.1\"/>\n</g>\n<!-- 46 -->\n<g id=\"node47\" class=\"node\">\n<title>46</title>\n<path fill=\"#6bb6ec\" stroke=\"black\" d=\"M1637.5,-425C1637.5,-425 1471.5,-425 1471.5,-425 1465.5,-425 1459.5,-419 1459.5,-413 1459.5,-413 1459.5,-354 1459.5,-354 1459.5,-348 1465.5,-342 1471.5,-342 1471.5,-342 1637.5,-342 1637.5,-342 1643.5,-342 1649.5,-348 1649.5,-354 1649.5,-354 1649.5,-413 1649.5,-413 1649.5,-419 1643.5,-425 1637.5,-425\"/>\n<text text-anchor=\"middle\" x=\"1554.5\" y=\"-409.8\" font-family=\"Helvetica,sans-Serif\" font-size=\"14.00\">km_por_ano &lt;= 32892.496</text>\n<text text-anchor=\"middle\" x=\"1554.5\" y=\"-394.8\" font-family=\"Helvetica,sans-Serif\" font-size=\"14.00\">gini = 0.321</text>\n<text text-anchor=\"middle\" x=\"1554.5\" y=\"-379.8\" font-family=\"Helvetica,sans-Serif\" font-size=\"14.00\">samples = 1664</text>\n<text text-anchor=\"middle\" x=\"1554.5\" y=\"-364.8\" font-family=\"Helvetica,sans-Serif\" font-size=\"14.00\">value = [334, 1330]</text>\n<text text-anchor=\"middle\" x=\"1554.5\" y=\"-349.8\" font-family=\"Helvetica,sans-Serif\" font-size=\"14.00\">class = sim</text>\n</g>\n<!-- 45&#45;&gt;46 -->\n<g id=\"edge46\" class=\"edge\">\n<title>45&#45;&gt;46</title>\n<path fill=\"none\" stroke=\"black\" d=\"M2173.25,-463.63C2169.98,-462.69 2166.72,-461.81 2163.5,-461 1990.12,-417.37 1782.41,-398.07 1659.84,-389.95\"/>\n<polygon fill=\"black\" stroke=\"black\" points=\"1659.92,-386.44 1649.71,-389.29 1659.46,-393.43 1659.92,-386.44\"/>\n</g>\n<!-- 61 -->\n<g id=\"node62\" class=\"node\">\n<title>61</title>\n<path fill=\"#46a3e7\" stroke=\"black\" d=\"M2238,-425C2238,-425 2085,-425 2085,-425 2079,-425 2073,-419 2073,-413 2073,-413 2073,-354 2073,-354 2073,-348 2079,-342 2085,-342 2085,-342 2238,-342 2238,-342 2244,-342 2250,-348 2250,-354 2250,-354 2250,-413 2250,-413 2250,-419 2244,-425 2238,-425\"/>\n<text text-anchor=\"middle\" x=\"2161.5\" y=\"-409.8\" font-family=\"Helvetica,sans-Serif\" font-size=\"14.00\">idade_do_modelo &lt;= 7.0</text>\n<text text-anchor=\"middle\" x=\"2161.5\" y=\"-394.8\" font-family=\"Helvetica,sans-Serif\" font-size=\"14.00\">gini = 0.115</text>\n<text text-anchor=\"middle\" x=\"2161.5\" y=\"-379.8\" font-family=\"Helvetica,sans-Serif\" font-size=\"14.00\">samples = 49</text>\n<text text-anchor=\"middle\" x=\"2161.5\" y=\"-364.8\" font-family=\"Helvetica,sans-Serif\" font-size=\"14.00\">value = [3, 46]</text>\n<text text-anchor=\"middle\" x=\"2161.5\" y=\"-349.8\" font-family=\"Helvetica,sans-Serif\" font-size=\"14.00\">class = sim</text>\n</g>\n<!-- 45&#45;&gt;61 -->\n<g id=\"edge61\" class=\"edge\">\n<title>45&#45;&gt;61</title>\n<path fill=\"none\" stroke=\"black\" d=\"M2231.38,-460.91C2222.99,-451.74 2214.02,-441.93 2205.39,-432.49\"/>\n<polygon fill=\"black\" stroke=\"black\" points=\"2207.89,-430.04 2198.56,-425.02 2202.72,-434.76 2207.89,-430.04\"/>\n</g>\n<!-- 47 -->\n<g id=\"node48\" class=\"node\">\n<title>47</title>\n<path fill=\"#6ab5eb\" stroke=\"black\" d=\"M1350.5,-306C1350.5,-306 1184.5,-306 1184.5,-306 1178.5,-306 1172.5,-300 1172.5,-294 1172.5,-294 1172.5,-235 1172.5,-235 1172.5,-229 1178.5,-223 1184.5,-223 1184.5,-223 1350.5,-223 1350.5,-223 1356.5,-223 1362.5,-229 1362.5,-235 1362.5,-235 1362.5,-294 1362.5,-294 1362.5,-300 1356.5,-306 1350.5,-306\"/>\n<text text-anchor=\"middle\" x=\"1267.5\" y=\"-290.8\" font-family=\"Helvetica,sans-Serif\" font-size=\"14.00\">km_por_ano &lt;= 12675.967</text>\n<text text-anchor=\"middle\" x=\"1267.5\" y=\"-275.8\" font-family=\"Helvetica,sans-Serif\" font-size=\"14.00\">gini = 0.317</text>\n<text text-anchor=\"middle\" x=\"1267.5\" y=\"-260.8\" font-family=\"Helvetica,sans-Serif\" font-size=\"14.00\">samples = 1634</text>\n<text text-anchor=\"middle\" x=\"1267.5\" y=\"-245.8\" font-family=\"Helvetica,sans-Serif\" font-size=\"14.00\">value = [323, 1311]</text>\n<text text-anchor=\"middle\" x=\"1267.5\" y=\"-230.8\" font-family=\"Helvetica,sans-Serif\" font-size=\"14.00\">class = sim</text>\n</g>\n<!-- 46&#45;&gt;47 -->\n<g id=\"edge47\" class=\"edge\">\n<title>46&#45;&gt;47</title>\n<path fill=\"none\" stroke=\"black\" d=\"M1459.33,-343.7C1431.48,-332.35 1400.87,-319.87 1372.45,-308.28\"/>\n<polygon fill=\"black\" stroke=\"black\" points=\"1373.48,-304.93 1362.9,-304.39 1370.84,-311.41 1373.48,-304.93\"/>\n</g>\n<!-- 54 -->\n<g id=\"node55\" class=\"node\">\n<title>54</title>\n<path fill=\"#acd6f4\" stroke=\"black\" d=\"M1616,-306C1616,-306 1493,-306 1493,-306 1487,-306 1481,-300 1481,-294 1481,-294 1481,-235 1481,-235 1481,-229 1487,-223 1493,-223 1493,-223 1616,-223 1616,-223 1622,-223 1628,-229 1628,-235 1628,-235 1628,-294 1628,-294 1628,-300 1622,-306 1616,-306\"/>\n<text text-anchor=\"middle\" x=\"1554.5\" y=\"-290.8\" font-family=\"Helvetica,sans-Serif\" font-size=\"14.00\">preco &lt;= 48155.891</text>\n<text text-anchor=\"middle\" x=\"1554.5\" y=\"-275.8\" font-family=\"Helvetica,sans-Serif\" font-size=\"14.00\">gini = 0.464</text>\n<text text-anchor=\"middle\" x=\"1554.5\" y=\"-260.8\" font-family=\"Helvetica,sans-Serif\" font-size=\"14.00\">samples = 30</text>\n<text text-anchor=\"middle\" x=\"1554.5\" y=\"-245.8\" font-family=\"Helvetica,sans-Serif\" font-size=\"14.00\">value = [11, 19]</text>\n<text text-anchor=\"middle\" x=\"1554.5\" y=\"-230.8\" font-family=\"Helvetica,sans-Serif\" font-size=\"14.00\">class = sim</text>\n</g>\n<!-- 46&#45;&gt;54 -->\n<g id=\"edge54\" class=\"edge\">\n<title>46&#45;&gt;54</title>\n<path fill=\"none\" stroke=\"black\" d=\"M1554.5,-341.91C1554.5,-333.65 1554.5,-324.86 1554.5,-316.3\"/>\n<polygon fill=\"black\" stroke=\"black\" points=\"1558,-316.02 1554.5,-306.02 1551,-316.02 1558,-316.02\"/>\n</g>\n<!-- 48 -->\n<g id=\"node49\" class=\"node\">\n<title>48</title>\n<path fill=\"#87c4ef\" stroke=\"black\" d=\"M1101,-187C1101,-187 986,-187 986,-187 980,-187 974,-181 974,-175 974,-175 974,-116 974,-116 974,-110 980,-104 986,-104 986,-104 1101,-104 1101,-104 1107,-104 1113,-110 1113,-116 1113,-116 1113,-175 1113,-175 1113,-181 1107,-187 1101,-187\"/>\n<text text-anchor=\"middle\" x=\"1043.5\" y=\"-171.8\" font-family=\"Helvetica,sans-Serif\" font-size=\"14.00\">preco &lt;= 44172.74</text>\n<text text-anchor=\"middle\" x=\"1043.5\" y=\"-156.8\" font-family=\"Helvetica,sans-Serif\" font-size=\"14.00\">gini = 0.406</text>\n<text text-anchor=\"middle\" x=\"1043.5\" y=\"-141.8\" font-family=\"Helvetica,sans-Serif\" font-size=\"14.00\">samples = 106</text>\n<text text-anchor=\"middle\" x=\"1043.5\" y=\"-126.8\" font-family=\"Helvetica,sans-Serif\" font-size=\"14.00\">value = [30, 76]</text>\n<text text-anchor=\"middle\" x=\"1043.5\" y=\"-111.8\" font-family=\"Helvetica,sans-Serif\" font-size=\"14.00\">class = sim</text>\n</g>\n<!-- 47&#45;&gt;48 -->\n<g id=\"edge48\" class=\"edge\">\n<title>47&#45;&gt;48</title>\n<path fill=\"none\" stroke=\"black\" d=\"M1189.78,-222.91C1167.91,-211.48 1144.1,-199.04 1122.16,-187.59\"/>\n<polygon fill=\"black\" stroke=\"black\" points=\"1123.7,-184.44 1113.21,-182.91 1120.46,-190.64 1123.7,-184.44\"/>\n</g>\n<!-- 51 -->\n<g id=\"node52\" class=\"node\">\n<title>51</title>\n<path fill=\"#68b4eb\" stroke=\"black\" d=\"M1329,-187C1329,-187 1206,-187 1206,-187 1200,-187 1194,-181 1194,-175 1194,-175 1194,-116 1194,-116 1194,-110 1200,-104 1206,-104 1206,-104 1329,-104 1329,-104 1335,-104 1341,-110 1341,-116 1341,-116 1341,-175 1341,-175 1341,-181 1335,-187 1329,-187\"/>\n<text text-anchor=\"middle\" x=\"1267.5\" y=\"-171.8\" font-family=\"Helvetica,sans-Serif\" font-size=\"14.00\">preco &lt;= 47608.334</text>\n<text text-anchor=\"middle\" x=\"1267.5\" y=\"-156.8\" font-family=\"Helvetica,sans-Serif\" font-size=\"14.00\">gini = 0.31</text>\n<text text-anchor=\"middle\" x=\"1267.5\" y=\"-141.8\" font-family=\"Helvetica,sans-Serif\" font-size=\"14.00\">samples = 1528</text>\n<text text-anchor=\"middle\" x=\"1267.5\" y=\"-126.8\" font-family=\"Helvetica,sans-Serif\" font-size=\"14.00\">value = [293, 1235]</text>\n<text text-anchor=\"middle\" x=\"1267.5\" y=\"-111.8\" font-family=\"Helvetica,sans-Serif\" font-size=\"14.00\">class = sim</text>\n</g>\n<!-- 47&#45;&gt;51 -->\n<g id=\"edge51\" class=\"edge\">\n<title>47&#45;&gt;51</title>\n<path fill=\"none\" stroke=\"black\" d=\"M1267.5,-222.91C1267.5,-214.65 1267.5,-205.86 1267.5,-197.3\"/>\n<polygon fill=\"black\" stroke=\"black\" points=\"1271,-197.02 1267.5,-187.02 1264,-197.02 1271,-197.02\"/>\n</g>\n<!-- 49 -->\n<g id=\"node50\" class=\"node\">\n<title>49</title>\n<path fill=\"#f8dbc6\" stroke=\"black\" d=\"M941,-68C941,-68 862,-68 862,-68 856,-68 850,-62 850,-56 850,-56 850,-12 850,-12 850,-6 856,0 862,0 862,0 941,0 941,0 947,0 953,-6 953,-12 953,-12 953,-56 953,-56 953,-62 947,-68 941,-68\"/>\n<text text-anchor=\"middle\" x=\"901.5\" y=\"-52.8\" font-family=\"Helvetica,sans-Serif\" font-size=\"14.00\">gini = 0.486</text>\n<text text-anchor=\"middle\" x=\"901.5\" y=\"-37.8\" font-family=\"Helvetica,sans-Serif\" font-size=\"14.00\">samples = 12</text>\n<text text-anchor=\"middle\" x=\"901.5\" y=\"-22.8\" font-family=\"Helvetica,sans-Serif\" font-size=\"14.00\">value = [7, 5]</text>\n<text text-anchor=\"middle\" x=\"901.5\" y=\"-7.8\" font-family=\"Helvetica,sans-Serif\" font-size=\"14.00\">class = não</text>\n</g>\n<!-- 48&#45;&gt;49 -->\n<g id=\"edge49\" class=\"edge\">\n<title>48&#45;&gt;49</title>\n<path fill=\"none\" stroke=\"black\" d=\"M990.62,-103.73C978.21,-94.15 964.99,-83.96 952.65,-74.44\"/>\n<polygon fill=\"black\" stroke=\"black\" points=\"954.74,-71.63 944.68,-68.3 950.46,-77.18 954.74,-71.63\"/>\n</g>\n<!-- 50 -->\n<g id=\"node51\" class=\"node\">\n<title>50</title>\n<path fill=\"#79bded\" stroke=\"black\" d=\"M1072,-68C1072,-68 983,-68 983,-68 977,-68 971,-62 971,-56 971,-56 971,-12 971,-12 971,-6 977,0 983,0 983,0 1072,0 1072,0 1078,0 1084,-6 1084,-12 1084,-12 1084,-56 1084,-56 1084,-62 1078,-68 1072,-68\"/>\n<text text-anchor=\"middle\" x=\"1027.5\" y=\"-52.8\" font-family=\"Helvetica,sans-Serif\" font-size=\"14.00\">gini = 0.37</text>\n<text text-anchor=\"middle\" x=\"1027.5\" y=\"-37.8\" font-family=\"Helvetica,sans-Serif\" font-size=\"14.00\">samples = 94</text>\n<text text-anchor=\"middle\" x=\"1027.5\" y=\"-22.8\" font-family=\"Helvetica,sans-Serif\" font-size=\"14.00\">value = [23, 71]</text>\n<text text-anchor=\"middle\" x=\"1027.5\" y=\"-7.8\" font-family=\"Helvetica,sans-Serif\" font-size=\"14.00\">class = sim</text>\n</g>\n<!-- 48&#45;&gt;50 -->\n<g id=\"edge50\" class=\"edge\">\n<title>48&#45;&gt;50</title>\n<path fill=\"none\" stroke=\"black\" d=\"M1037.54,-103.73C1036.33,-95.43 1035.05,-86.67 1033.82,-78.28\"/>\n<polygon fill=\"black\" stroke=\"black\" points=\"1037.27,-77.69 1032.37,-68.3 1030.35,-78.7 1037.27,-77.69\"/>\n</g>\n<!-- 52 -->\n<g id=\"node53\" class=\"node\">\n<title>52</title>\n<path fill=\"#5fb0ea\" stroke=\"black\" d=\"M1212.5,-68C1212.5,-68 1114.5,-68 1114.5,-68 1108.5,-68 1102.5,-62 1102.5,-56 1102.5,-56 1102.5,-12 1102.5,-12 1102.5,-6 1108.5,0 1114.5,0 1114.5,0 1212.5,0 1212.5,0 1218.5,0 1224.5,-6 1224.5,-12 1224.5,-12 1224.5,-56 1224.5,-56 1224.5,-62 1218.5,-68 1212.5,-68\"/>\n<text text-anchor=\"middle\" x=\"1163.5\" y=\"-52.8\" font-family=\"Helvetica,sans-Serif\" font-size=\"14.00\">gini = 0.268</text>\n<text text-anchor=\"middle\" x=\"1163.5\" y=\"-37.8\" font-family=\"Helvetica,sans-Serif\" font-size=\"14.00\">samples = 508</text>\n<text text-anchor=\"middle\" x=\"1163.5\" y=\"-22.8\" font-family=\"Helvetica,sans-Serif\" font-size=\"14.00\">value = [81, 427]</text>\n<text text-anchor=\"middle\" x=\"1163.5\" y=\"-7.8\" font-family=\"Helvetica,sans-Serif\" font-size=\"14.00\">class = sim</text>\n</g>\n<!-- 51&#45;&gt;52 -->\n<g id=\"edge52\" class=\"edge\">\n<title>51&#45;&gt;52</title>\n<path fill=\"none\" stroke=\"black\" d=\"M1228.77,-103.73C1220.11,-94.61 1210.92,-84.93 1202.26,-75.81\"/>\n<polygon fill=\"black\" stroke=\"black\" points=\"1204.55,-73.14 1195.13,-68.3 1199.48,-77.96 1204.55,-73.14\"/>\n</g>\n<!-- 53 -->\n<g id=\"node54\" class=\"node\">\n<title>53</title>\n<path fill=\"#6db7ec\" stroke=\"black\" d=\"M1360.5,-68C1360.5,-68 1254.5,-68 1254.5,-68 1248.5,-68 1242.5,-62 1242.5,-56 1242.5,-56 1242.5,-12 1242.5,-12 1242.5,-6 1248.5,0 1254.5,0 1254.5,0 1360.5,0 1360.5,0 1366.5,0 1372.5,-6 1372.5,-12 1372.5,-12 1372.5,-56 1372.5,-56 1372.5,-62 1366.5,-68 1360.5,-68\"/>\n<text text-anchor=\"middle\" x=\"1307.5\" y=\"-52.8\" font-family=\"Helvetica,sans-Serif\" font-size=\"14.00\">gini = 0.329</text>\n<text text-anchor=\"middle\" x=\"1307.5\" y=\"-37.8\" font-family=\"Helvetica,sans-Serif\" font-size=\"14.00\">samples = 1020</text>\n<text text-anchor=\"middle\" x=\"1307.5\" y=\"-22.8\" font-family=\"Helvetica,sans-Serif\" font-size=\"14.00\">value = [212, 808]</text>\n<text text-anchor=\"middle\" x=\"1307.5\" y=\"-7.8\" font-family=\"Helvetica,sans-Serif\" font-size=\"14.00\">class = sim</text>\n</g>\n<!-- 51&#45;&gt;53 -->\n<g id=\"edge53\" class=\"edge\">\n<title>51&#45;&gt;53</title>\n<path fill=\"none\" stroke=\"black\" d=\"M1282.39,-103.73C1285.49,-95.24 1288.77,-86.28 1291.89,-77.73\"/>\n<polygon fill=\"black\" stroke=\"black\" points=\"1295.19,-78.89 1295.34,-68.3 1288.62,-76.49 1295.19,-78.89\"/>\n</g>\n<!-- 55 -->\n<g id=\"node56\" class=\"node\">\n<title>55</title>\n<path fill=\"#f4c9aa\" stroke=\"black\" d=\"M1526,-187C1526,-187 1403,-187 1403,-187 1397,-187 1391,-181 1391,-175 1391,-175 1391,-116 1391,-116 1391,-110 1397,-104 1403,-104 1403,-104 1526,-104 1526,-104 1532,-104 1538,-110 1538,-116 1538,-116 1538,-175 1538,-175 1538,-181 1532,-187 1526,-187\"/>\n<text text-anchor=\"middle\" x=\"1464.5\" y=\"-171.8\" font-family=\"Helvetica,sans-Serif\" font-size=\"14.00\">preco &lt;= 45260.775</text>\n<text text-anchor=\"middle\" x=\"1464.5\" y=\"-156.8\" font-family=\"Helvetica,sans-Serif\" font-size=\"14.00\">gini = 0.463</text>\n<text text-anchor=\"middle\" x=\"1464.5\" y=\"-141.8\" font-family=\"Helvetica,sans-Serif\" font-size=\"14.00\">samples = 11</text>\n<text text-anchor=\"middle\" x=\"1464.5\" y=\"-126.8\" font-family=\"Helvetica,sans-Serif\" font-size=\"14.00\">value = [7, 4]</text>\n<text text-anchor=\"middle\" x=\"1464.5\" y=\"-111.8\" font-family=\"Helvetica,sans-Serif\" font-size=\"14.00\">class = não</text>\n</g>\n<!-- 54&#45;&gt;55 -->\n<g id=\"edge55\" class=\"edge\">\n<title>54&#45;&gt;55</title>\n<path fill=\"none\" stroke=\"black\" d=\"M1523.27,-222.91C1516.36,-213.92 1508.97,-204.32 1501.85,-195.05\"/>\n<polygon fill=\"black\" stroke=\"black\" points=\"1504.54,-192.81 1495.67,-187.02 1498.99,-197.08 1504.54,-192.81\"/>\n</g>\n<!-- 58 -->\n<g id=\"node59\" class=\"node\">\n<title>58</title>\n<path fill=\"#6eb7ec\" stroke=\"black\" d=\"M1721,-187C1721,-187 1568,-187 1568,-187 1562,-187 1556,-181 1556,-175 1556,-175 1556,-116 1556,-116 1556,-110 1562,-104 1568,-104 1568,-104 1721,-104 1721,-104 1727,-104 1733,-110 1733,-116 1733,-116 1733,-175 1733,-175 1733,-181 1727,-187 1721,-187\"/>\n<text text-anchor=\"middle\" x=\"1644.5\" y=\"-171.8\" font-family=\"Helvetica,sans-Serif\" font-size=\"14.00\">idade_do_modelo &lt;= 4.5</text>\n<text text-anchor=\"middle\" x=\"1644.5\" y=\"-156.8\" font-family=\"Helvetica,sans-Serif\" font-size=\"14.00\">gini = 0.332</text>\n<text text-anchor=\"middle\" x=\"1644.5\" y=\"-141.8\" font-family=\"Helvetica,sans-Serif\" font-size=\"14.00\">samples = 19</text>\n<text text-anchor=\"middle\" x=\"1644.5\" y=\"-126.8\" font-family=\"Helvetica,sans-Serif\" font-size=\"14.00\">value = [4, 15]</text>\n<text text-anchor=\"middle\" x=\"1644.5\" y=\"-111.8\" font-family=\"Helvetica,sans-Serif\" font-size=\"14.00\">class = sim</text>\n</g>\n<!-- 54&#45;&gt;58 -->\n<g id=\"edge58\" class=\"edge\">\n<title>54&#45;&gt;58</title>\n<path fill=\"none\" stroke=\"black\" d=\"M1585.73,-222.91C1592.64,-213.92 1600.03,-204.32 1607.15,-195.05\"/>\n<polygon fill=\"black\" stroke=\"black\" points=\"1610.01,-197.08 1613.33,-187.02 1604.46,-192.81 1610.01,-197.08\"/>\n</g>\n<!-- 56 -->\n<g id=\"node57\" class=\"node\">\n<title>56</title>\n<path fill=\"#cee6f8\" stroke=\"black\" d=\"M1476,-68C1476,-68 1403,-68 1403,-68 1397,-68 1391,-62 1391,-56 1391,-56 1391,-12 1391,-12 1391,-6 1397,0 1403,0 1403,0 1476,0 1476,0 1482,0 1488,-6 1488,-12 1488,-12 1488,-56 1488,-56 1488,-62 1482,-68 1476,-68\"/>\n<text text-anchor=\"middle\" x=\"1439.5\" y=\"-52.8\" font-family=\"Helvetica,sans-Serif\" font-size=\"14.00\">gini = 0.49</text>\n<text text-anchor=\"middle\" x=\"1439.5\" y=\"-37.8\" font-family=\"Helvetica,sans-Serif\" font-size=\"14.00\">samples = 7</text>\n<text text-anchor=\"middle\" x=\"1439.5\" y=\"-22.8\" font-family=\"Helvetica,sans-Serif\" font-size=\"14.00\">value = [3, 4]</text>\n<text text-anchor=\"middle\" x=\"1439.5\" y=\"-7.8\" font-family=\"Helvetica,sans-Serif\" font-size=\"14.00\">class = sim</text>\n</g>\n<!-- 55&#45;&gt;56 -->\n<g id=\"edge56\" class=\"edge\">\n<title>55&#45;&gt;56</title>\n<path fill=\"none\" stroke=\"black\" d=\"M1455.19,-103.73C1453.3,-95.43 1451.3,-86.67 1449.38,-78.28\"/>\n<polygon fill=\"black\" stroke=\"black\" points=\"1452.74,-77.27 1447.1,-68.3 1445.92,-78.83 1452.74,-77.27\"/>\n</g>\n<!-- 57 -->\n<g id=\"node58\" class=\"node\">\n<title>57</title>\n<path fill=\"#e58139\" stroke=\"black\" d=\"M1591,-68C1591,-68 1518,-68 1518,-68 1512,-68 1506,-62 1506,-56 1506,-56 1506,-12 1506,-12 1506,-6 1512,0 1518,0 1518,0 1591,0 1591,0 1597,0 1603,-6 1603,-12 1603,-12 1603,-56 1603,-56 1603,-62 1597,-68 1591,-68\"/>\n<text text-anchor=\"middle\" x=\"1554.5\" y=\"-52.8\" font-family=\"Helvetica,sans-Serif\" font-size=\"14.00\">gini = 0.0</text>\n<text text-anchor=\"middle\" x=\"1554.5\" y=\"-37.8\" font-family=\"Helvetica,sans-Serif\" font-size=\"14.00\">samples = 4</text>\n<text text-anchor=\"middle\" x=\"1554.5\" y=\"-22.8\" font-family=\"Helvetica,sans-Serif\" font-size=\"14.00\">value = [4, 0]</text>\n<text text-anchor=\"middle\" x=\"1554.5\" y=\"-7.8\" font-family=\"Helvetica,sans-Serif\" font-size=\"14.00\">class = não</text>\n</g>\n<!-- 55&#45;&gt;57 -->\n<g id=\"edge57\" class=\"edge\">\n<title>55&#45;&gt;57</title>\n<path fill=\"none\" stroke=\"black\" d=\"M1498.01,-103.73C1505.43,-94.7 1513.3,-85.12 1520.73,-76.08\"/>\n<polygon fill=\"black\" stroke=\"black\" points=\"1523.48,-78.25 1527.13,-68.3 1518.08,-73.8 1523.48,-78.25\"/>\n</g>\n<!-- 59 -->\n<g id=\"node60\" class=\"node\">\n<title>59</title>\n<path fill=\"#e58139\" stroke=\"black\" d=\"M1706,-68C1706,-68 1633,-68 1633,-68 1627,-68 1621,-62 1621,-56 1621,-56 1621,-12 1621,-12 1621,-6 1627,0 1633,0 1633,0 1706,0 1706,0 1712,0 1718,-6 1718,-12 1718,-12 1718,-56 1718,-56 1718,-62 1712,-68 1706,-68\"/>\n<text text-anchor=\"middle\" x=\"1669.5\" y=\"-52.8\" font-family=\"Helvetica,sans-Serif\" font-size=\"14.00\">gini = 0.0</text>\n<text text-anchor=\"middle\" x=\"1669.5\" y=\"-37.8\" font-family=\"Helvetica,sans-Serif\" font-size=\"14.00\">samples = 1</text>\n<text text-anchor=\"middle\" x=\"1669.5\" y=\"-22.8\" font-family=\"Helvetica,sans-Serif\" font-size=\"14.00\">value = [1, 0]</text>\n<text text-anchor=\"middle\" x=\"1669.5\" y=\"-7.8\" font-family=\"Helvetica,sans-Serif\" font-size=\"14.00\">class = não</text>\n</g>\n<!-- 58&#45;&gt;59 -->\n<g id=\"edge59\" class=\"edge\">\n<title>58&#45;&gt;59</title>\n<path fill=\"none\" stroke=\"black\" d=\"M1653.81,-103.73C1655.7,-95.43 1657.7,-86.67 1659.62,-78.28\"/>\n<polygon fill=\"black\" stroke=\"black\" points=\"1663.08,-78.83 1661.9,-68.3 1656.26,-77.27 1663.08,-78.83\"/>\n</g>\n<!-- 60 -->\n<g id=\"node61\" class=\"node\">\n<title>60</title>\n<path fill=\"#61b1ea\" stroke=\"black\" d=\"M1829,-68C1829,-68 1748,-68 1748,-68 1742,-68 1736,-62 1736,-56 1736,-56 1736,-12 1736,-12 1736,-6 1742,0 1748,0 1748,0 1829,0 1829,0 1835,0 1841,-6 1841,-12 1841,-12 1841,-56 1841,-56 1841,-62 1835,-68 1829,-68\"/>\n<text text-anchor=\"middle\" x=\"1788.5\" y=\"-52.8\" font-family=\"Helvetica,sans-Serif\" font-size=\"14.00\">gini = 0.278</text>\n<text text-anchor=\"middle\" x=\"1788.5\" y=\"-37.8\" font-family=\"Helvetica,sans-Serif\" font-size=\"14.00\">samples = 18</text>\n<text text-anchor=\"middle\" x=\"1788.5\" y=\"-22.8\" font-family=\"Helvetica,sans-Serif\" font-size=\"14.00\">value = [3, 15]</text>\n<text text-anchor=\"middle\" x=\"1788.5\" y=\"-7.8\" font-family=\"Helvetica,sans-Serif\" font-size=\"14.00\">class = sim</text>\n</g>\n<!-- 58&#45;&gt;60 -->\n<g id=\"edge60\" class=\"edge\">\n<title>58&#45;&gt;60</title>\n<path fill=\"none\" stroke=\"black\" d=\"M1698.12,-103.73C1710.71,-94.15 1724.11,-83.96 1736.63,-74.44\"/>\n<polygon fill=\"black\" stroke=\"black\" points=\"1738.87,-77.14 1744.71,-68.3 1734.63,-71.57 1738.87,-77.14\"/>\n</g>\n<!-- 62 -->\n<g id=\"node63\" class=\"node\">\n<title>62</title>\n<path fill=\"#ffffff\" stroke=\"black\" d=\"M1997.5,-306C1997.5,-306 1831.5,-306 1831.5,-306 1825.5,-306 1819.5,-300 1819.5,-294 1819.5,-294 1819.5,-235 1819.5,-235 1819.5,-229 1825.5,-223 1831.5,-223 1831.5,-223 1997.5,-223 1997.5,-223 2003.5,-223 2009.5,-229 2009.5,-235 2009.5,-235 2009.5,-294 2009.5,-294 2009.5,-300 2003.5,-306 1997.5,-306\"/>\n<text text-anchor=\"middle\" x=\"1914.5\" y=\"-290.8\" font-family=\"Helvetica,sans-Serif\" font-size=\"14.00\">km_por_ano &lt;= 34958.889</text>\n<text text-anchor=\"middle\" x=\"1914.5\" y=\"-275.8\" font-family=\"Helvetica,sans-Serif\" font-size=\"14.00\">gini = 0.5</text>\n<text text-anchor=\"middle\" x=\"1914.5\" y=\"-260.8\" font-family=\"Helvetica,sans-Serif\" font-size=\"14.00\">samples = 2</text>\n<text text-anchor=\"middle\" x=\"1914.5\" y=\"-245.8\" font-family=\"Helvetica,sans-Serif\" font-size=\"14.00\">value = [1, 1]</text>\n<text text-anchor=\"middle\" x=\"1914.5\" y=\"-230.8\" font-family=\"Helvetica,sans-Serif\" font-size=\"14.00\">class = não</text>\n</g>\n<!-- 61&#45;&gt;62 -->\n<g id=\"edge62\" class=\"edge\">\n<title>61&#45;&gt;62</title>\n<path fill=\"none\" stroke=\"black\" d=\"M2075.8,-341.91C2054.35,-331.74 2031.2,-320.78 2009.33,-310.42\"/>\n<polygon fill=\"black\" stroke=\"black\" points=\"2010.58,-307.14 2000.04,-306.02 2007.58,-313.46 2010.58,-307.14\"/>\n</g>\n<!-- 65 -->\n<g id=\"node66\" class=\"node\">\n<title>65</title>\n<path fill=\"#42a1e6\" stroke=\"black\" d=\"M2244.5,-306C2244.5,-306 2078.5,-306 2078.5,-306 2072.5,-306 2066.5,-300 2066.5,-294 2066.5,-294 2066.5,-235 2066.5,-235 2066.5,-229 2072.5,-223 2078.5,-223 2078.5,-223 2244.5,-223 2244.5,-223 2250.5,-223 2256.5,-229 2256.5,-235 2256.5,-235 2256.5,-294 2256.5,-294 2256.5,-300 2250.5,-306 2244.5,-306\"/>\n<text text-anchor=\"middle\" x=\"2161.5\" y=\"-290.8\" font-family=\"Helvetica,sans-Serif\" font-size=\"14.00\">km_por_ano &lt;= 34956.475</text>\n<text text-anchor=\"middle\" x=\"2161.5\" y=\"-275.8\" font-family=\"Helvetica,sans-Serif\" font-size=\"14.00\">gini = 0.081</text>\n<text text-anchor=\"middle\" x=\"2161.5\" y=\"-260.8\" font-family=\"Helvetica,sans-Serif\" font-size=\"14.00\">samples = 47</text>\n<text text-anchor=\"middle\" x=\"2161.5\" y=\"-245.8\" font-family=\"Helvetica,sans-Serif\" font-size=\"14.00\">value = [2, 45]</text>\n<text text-anchor=\"middle\" x=\"2161.5\" y=\"-230.8\" font-family=\"Helvetica,sans-Serif\" font-size=\"14.00\">class = sim</text>\n</g>\n<!-- 61&#45;&gt;65 -->\n<g id=\"edge65\" class=\"edge\">\n<title>61&#45;&gt;65</title>\n<path fill=\"none\" stroke=\"black\" d=\"M2161.5,-341.91C2161.5,-333.65 2161.5,-324.86 2161.5,-316.3\"/>\n<polygon fill=\"black\" stroke=\"black\" points=\"2165,-316.02 2161.5,-306.02 2158,-316.02 2165,-316.02\"/>\n</g>\n<!-- 63 -->\n<g id=\"node64\" class=\"node\">\n<title>63</title>\n<path fill=\"#e58139\" stroke=\"black\" d=\"M1836,-179.5C1836,-179.5 1763,-179.5 1763,-179.5 1757,-179.5 1751,-173.5 1751,-167.5 1751,-167.5 1751,-123.5 1751,-123.5 1751,-117.5 1757,-111.5 1763,-111.5 1763,-111.5 1836,-111.5 1836,-111.5 1842,-111.5 1848,-117.5 1848,-123.5 1848,-123.5 1848,-167.5 1848,-167.5 1848,-173.5 1842,-179.5 1836,-179.5\"/>\n<text text-anchor=\"middle\" x=\"1799.5\" y=\"-164.3\" font-family=\"Helvetica,sans-Serif\" font-size=\"14.00\">gini = 0.0</text>\n<text text-anchor=\"middle\" x=\"1799.5\" y=\"-149.3\" font-family=\"Helvetica,sans-Serif\" font-size=\"14.00\">samples = 1</text>\n<text text-anchor=\"middle\" x=\"1799.5\" y=\"-134.3\" font-family=\"Helvetica,sans-Serif\" font-size=\"14.00\">value = [1, 0]</text>\n<text text-anchor=\"middle\" x=\"1799.5\" y=\"-119.3\" font-family=\"Helvetica,sans-Serif\" font-size=\"14.00\">class = não</text>\n</g>\n<!-- 62&#45;&gt;63 -->\n<g id=\"edge63\" class=\"edge\">\n<title>62&#45;&gt;63</title>\n<path fill=\"none\" stroke=\"black\" d=\"M1874.6,-222.91C1863.21,-211.32 1850.81,-198.7 1839.42,-187.11\"/>\n<polygon fill=\"black\" stroke=\"black\" points=\"1841.61,-184.35 1832.1,-179.67 1836.61,-189.25 1841.61,-184.35\"/>\n</g>\n<!-- 64 -->\n<g id=\"node65\" class=\"node\">\n<title>64</title>\n<path fill=\"#399de5\" stroke=\"black\" d=\"M1951,-179.5C1951,-179.5 1878,-179.5 1878,-179.5 1872,-179.5 1866,-173.5 1866,-167.5 1866,-167.5 1866,-123.5 1866,-123.5 1866,-117.5 1872,-111.5 1878,-111.5 1878,-111.5 1951,-111.5 1951,-111.5 1957,-111.5 1963,-117.5 1963,-123.5 1963,-123.5 1963,-167.5 1963,-167.5 1963,-173.5 1957,-179.5 1951,-179.5\"/>\n<text text-anchor=\"middle\" x=\"1914.5\" y=\"-164.3\" font-family=\"Helvetica,sans-Serif\" font-size=\"14.00\">gini = 0.0</text>\n<text text-anchor=\"middle\" x=\"1914.5\" y=\"-149.3\" font-family=\"Helvetica,sans-Serif\" font-size=\"14.00\">samples = 1</text>\n<text text-anchor=\"middle\" x=\"1914.5\" y=\"-134.3\" font-family=\"Helvetica,sans-Serif\" font-size=\"14.00\">value = [0, 1]</text>\n<text text-anchor=\"middle\" x=\"1914.5\" y=\"-119.3\" font-family=\"Helvetica,sans-Serif\" font-size=\"14.00\">class = sim</text>\n</g>\n<!-- 62&#45;&gt;64 -->\n<g id=\"edge64\" class=\"edge\">\n<title>62&#45;&gt;64</title>\n<path fill=\"none\" stroke=\"black\" d=\"M1914.5,-222.91C1914.5,-212.2 1914.5,-200.62 1914.5,-189.78\"/>\n<polygon fill=\"black\" stroke=\"black\" points=\"1918,-189.67 1914.5,-179.67 1911,-189.67 1918,-189.67\"/>\n</g>\n<!-- 66 -->\n<g id=\"node67\" class=\"node\">\n<title>66</title>\n<path fill=\"#399de5\" stroke=\"black\" d=\"M2074,-179.5C2074,-179.5 1993,-179.5 1993,-179.5 1987,-179.5 1981,-173.5 1981,-167.5 1981,-167.5 1981,-123.5 1981,-123.5 1981,-117.5 1987,-111.5 1993,-111.5 1993,-111.5 2074,-111.5 2074,-111.5 2080,-111.5 2086,-117.5 2086,-123.5 2086,-123.5 2086,-167.5 2086,-167.5 2086,-173.5 2080,-179.5 2074,-179.5\"/>\n<text text-anchor=\"middle\" x=\"2033.5\" y=\"-164.3\" font-family=\"Helvetica,sans-Serif\" font-size=\"14.00\">gini = 0.0</text>\n<text text-anchor=\"middle\" x=\"2033.5\" y=\"-149.3\" font-family=\"Helvetica,sans-Serif\" font-size=\"14.00\">samples = 30</text>\n<text text-anchor=\"middle\" x=\"2033.5\" y=\"-134.3\" font-family=\"Helvetica,sans-Serif\" font-size=\"14.00\">value = [0, 30]</text>\n<text text-anchor=\"middle\" x=\"2033.5\" y=\"-119.3\" font-family=\"Helvetica,sans-Serif\" font-size=\"14.00\">class = sim</text>\n</g>\n<!-- 65&#45;&gt;66 -->\n<g id=\"edge66\" class=\"edge\">\n<title>65&#45;&gt;66</title>\n<path fill=\"none\" stroke=\"black\" d=\"M2117.09,-222.91C2104.17,-211.1 2090.08,-198.22 2077.21,-186.45\"/>\n<polygon fill=\"black\" stroke=\"black\" points=\"2079.53,-183.83 2069.79,-179.67 2074.8,-189 2079.53,-183.83\"/>\n</g>\n<!-- 67 -->\n<g id=\"node68\" class=\"node\">\n<title>67</title>\n<path fill=\"#53aae8\" stroke=\"black\" d=\"M2282.5,-187C2282.5,-187 2116.5,-187 2116.5,-187 2110.5,-187 2104.5,-181 2104.5,-175 2104.5,-175 2104.5,-116 2104.5,-116 2104.5,-110 2110.5,-104 2116.5,-104 2116.5,-104 2282.5,-104 2282.5,-104 2288.5,-104 2294.5,-110 2294.5,-116 2294.5,-116 2294.5,-175 2294.5,-175 2294.5,-181 2288.5,-187 2282.5,-187\"/>\n<text text-anchor=\"middle\" x=\"2199.5\" y=\"-171.8\" font-family=\"Helvetica,sans-Serif\" font-size=\"14.00\">km_por_ano &lt;= 35093.268</text>\n<text text-anchor=\"middle\" x=\"2199.5\" y=\"-156.8\" font-family=\"Helvetica,sans-Serif\" font-size=\"14.00\">gini = 0.208</text>\n<text text-anchor=\"middle\" x=\"2199.5\" y=\"-141.8\" font-family=\"Helvetica,sans-Serif\" font-size=\"14.00\">samples = 17</text>\n<text text-anchor=\"middle\" x=\"2199.5\" y=\"-126.8\" font-family=\"Helvetica,sans-Serif\" font-size=\"14.00\">value = [2, 15]</text>\n<text text-anchor=\"middle\" x=\"2199.5\" y=\"-111.8\" font-family=\"Helvetica,sans-Serif\" font-size=\"14.00\">class = sim</text>\n</g>\n<!-- 65&#45;&gt;67 -->\n<g id=\"edge67\" class=\"edge\">\n<title>65&#45;&gt;67</title>\n<path fill=\"none\" stroke=\"black\" d=\"M2174.68,-222.91C2177.43,-214.47 2180.34,-205.48 2183.18,-196.74\"/>\n<polygon fill=\"black\" stroke=\"black\" points=\"2186.58,-197.61 2186.34,-187.02 2179.92,-195.45 2186.58,-197.61\"/>\n</g>\n<!-- 68 -->\n<g id=\"node69\" class=\"node\">\n<title>68</title>\n<path fill=\"#e58139\" stroke=\"black\" d=\"M2176,-68C2176,-68 2103,-68 2103,-68 2097,-68 2091,-62 2091,-56 2091,-56 2091,-12 2091,-12 2091,-6 2097,0 2103,0 2103,0 2176,0 2176,0 2182,0 2188,-6 2188,-12 2188,-12 2188,-56 2188,-56 2188,-62 2182,-68 2176,-68\"/>\n<text text-anchor=\"middle\" x=\"2139.5\" y=\"-52.8\" font-family=\"Helvetica,sans-Serif\" font-size=\"14.00\">gini = 0.0</text>\n<text text-anchor=\"middle\" x=\"2139.5\" y=\"-37.8\" font-family=\"Helvetica,sans-Serif\" font-size=\"14.00\">samples = 1</text>\n<text text-anchor=\"middle\" x=\"2139.5\" y=\"-22.8\" font-family=\"Helvetica,sans-Serif\" font-size=\"14.00\">value = [1, 0]</text>\n<text text-anchor=\"middle\" x=\"2139.5\" y=\"-7.8\" font-family=\"Helvetica,sans-Serif\" font-size=\"14.00\">class = não</text>\n</g>\n<!-- 67&#45;&gt;68 -->\n<g id=\"edge68\" class=\"edge\">\n<title>67&#45;&gt;68</title>\n<path fill=\"none\" stroke=\"black\" d=\"M2177.16,-103.73C2172.41,-95.06 2167.39,-85.9 2162.61,-77.18\"/>\n<polygon fill=\"black\" stroke=\"black\" points=\"2165.62,-75.39 2157.75,-68.3 2159.48,-78.75 2165.62,-75.39\"/>\n</g>\n<!-- 69 -->\n<g id=\"node70\" class=\"node\">\n<title>69</title>\n<path fill=\"#46a4e7\" stroke=\"black\" d=\"M2299,-68C2299,-68 2218,-68 2218,-68 2212,-68 2206,-62 2206,-56 2206,-56 2206,-12 2206,-12 2206,-6 2212,0 2218,0 2218,0 2299,0 2299,0 2305,0 2311,-6 2311,-12 2311,-12 2311,-56 2311,-56 2311,-62 2305,-68 2299,-68\"/>\n<text text-anchor=\"middle\" x=\"2258.5\" y=\"-52.8\" font-family=\"Helvetica,sans-Serif\" font-size=\"14.00\">gini = 0.117</text>\n<text text-anchor=\"middle\" x=\"2258.5\" y=\"-37.8\" font-family=\"Helvetica,sans-Serif\" font-size=\"14.00\">samples = 16</text>\n<text text-anchor=\"middle\" x=\"2258.5\" y=\"-22.8\" font-family=\"Helvetica,sans-Serif\" font-size=\"14.00\">value = [1, 15]</text>\n<text text-anchor=\"middle\" x=\"2258.5\" y=\"-7.8\" font-family=\"Helvetica,sans-Serif\" font-size=\"14.00\">class = sim</text>\n</g>\n<!-- 67&#45;&gt;69 -->\n<g id=\"edge69\" class=\"edge\">\n<title>67&#45;&gt;69</title>\n<path fill=\"none\" stroke=\"black\" d=\"M2221.47,-103.73C2226.14,-95.06 2231.08,-85.9 2235.77,-77.18\"/>\n<polygon fill=\"black\" stroke=\"black\" points=\"2238.9,-78.76 2240.56,-68.3 2232.73,-75.44 2238.9,-78.76\"/>\n</g>\n<!-- 71 -->\n<g id=\"node72\" class=\"node\">\n<title>71</title>\n<path fill=\"#4ea8e8\" stroke=\"black\" d=\"M2644,-425C2644,-425 2537,-425 2537,-425 2531,-425 2525,-419 2525,-413 2525,-413 2525,-354 2525,-354 2525,-348 2531,-342 2537,-342 2537,-342 2644,-342 2644,-342 2650,-342 2656,-348 2656,-354 2656,-354 2656,-413 2656,-413 2656,-419 2650,-425 2644,-425\"/>\n<text text-anchor=\"middle\" x=\"2590.5\" y=\"-409.8\" font-family=\"Helvetica,sans-Serif\" font-size=\"14.00\">preco &lt;= 41315.1</text>\n<text text-anchor=\"middle\" x=\"2590.5\" y=\"-394.8\" font-family=\"Helvetica,sans-Serif\" font-size=\"14.00\">gini = 0.176</text>\n<text text-anchor=\"middle\" x=\"2590.5\" y=\"-379.8\" font-family=\"Helvetica,sans-Serif\" font-size=\"14.00\">samples = 185</text>\n<text text-anchor=\"middle\" x=\"2590.5\" y=\"-364.8\" font-family=\"Helvetica,sans-Serif\" font-size=\"14.00\">value = [18, 167]</text>\n<text text-anchor=\"middle\" x=\"2590.5\" y=\"-349.8\" font-family=\"Helvetica,sans-Serif\" font-size=\"14.00\">class = sim</text>\n</g>\n<!-- 70&#45;&gt;71 -->\n<g id=\"edge71\" class=\"edge\">\n<title>70&#45;&gt;71</title>\n<path fill=\"none\" stroke=\"black\" d=\"M2590.5,-460.91C2590.5,-452.65 2590.5,-443.86 2590.5,-435.3\"/>\n<polygon fill=\"black\" stroke=\"black\" points=\"2594,-435.02 2590.5,-425.02 2587,-435.02 2594,-435.02\"/>\n</g>\n<!-- 82 -->\n<g id=\"node83\" class=\"node\">\n<title>82</title>\n<path fill=\"#67b4eb\" stroke=\"black\" d=\"M3197,-425C3197,-425 3074,-425 3074,-425 3068,-425 3062,-419 3062,-413 3062,-413 3062,-354 3062,-354 3062,-348 3068,-342 3074,-342 3074,-342 3197,-342 3197,-342 3203,-342 3209,-348 3209,-354 3209,-354 3209,-413 3209,-413 3209,-419 3203,-425 3197,-425\"/>\n<text text-anchor=\"middle\" x=\"3135.5\" y=\"-409.8\" font-family=\"Helvetica,sans-Serif\" font-size=\"14.00\">preco &lt;= 56654.145</text>\n<text text-anchor=\"middle\" x=\"3135.5\" y=\"-394.8\" font-family=\"Helvetica,sans-Serif\" font-size=\"14.00\">gini = 0.306</text>\n<text text-anchor=\"middle\" x=\"3135.5\" y=\"-379.8\" font-family=\"Helvetica,sans-Serif\" font-size=\"14.00\">samples = 228</text>\n<text text-anchor=\"middle\" x=\"3135.5\" y=\"-364.8\" font-family=\"Helvetica,sans-Serif\" font-size=\"14.00\">value = [43, 185]</text>\n<text text-anchor=\"middle\" x=\"3135.5\" y=\"-349.8\" font-family=\"Helvetica,sans-Serif\" font-size=\"14.00\">class = sim</text>\n</g>\n<!-- 70&#45;&gt;82 -->\n<g id=\"edge82\" class=\"edge\">\n<title>70&#45;&gt;82</title>\n<path fill=\"none\" stroke=\"black\" d=\"M2683.26,-481.59C2786.67,-459.39 2952.41,-423.81 3051.93,-402.44\"/>\n<polygon fill=\"black\" stroke=\"black\" points=\"3052.9,-405.81 3061.95,-400.29 3051.43,-398.97 3052.9,-405.81\"/>\n</g>\n<!-- 72 -->\n<g id=\"node73\" class=\"node\">\n<title>72</title>\n<path fill=\"#ffffff\" stroke=\"black\" d=\"M2523,-306C2523,-306 2408,-306 2408,-306 2402,-306 2396,-300 2396,-294 2396,-294 2396,-235 2396,-235 2396,-229 2402,-223 2408,-223 2408,-223 2523,-223 2523,-223 2529,-223 2535,-229 2535,-235 2535,-235 2535,-294 2535,-294 2535,-300 2529,-306 2523,-306\"/>\n<text text-anchor=\"middle\" x=\"2465.5\" y=\"-290.8\" font-family=\"Helvetica,sans-Serif\" font-size=\"14.00\">preco &lt;= 41137.85</text>\n<text text-anchor=\"middle\" x=\"2465.5\" y=\"-275.8\" font-family=\"Helvetica,sans-Serif\" font-size=\"14.00\">gini = 0.5</text>\n<text text-anchor=\"middle\" x=\"2465.5\" y=\"-260.8\" font-family=\"Helvetica,sans-Serif\" font-size=\"14.00\">samples = 4</text>\n<text text-anchor=\"middle\" x=\"2465.5\" y=\"-245.8\" font-family=\"Helvetica,sans-Serif\" font-size=\"14.00\">value = [2, 2]</text>\n<text text-anchor=\"middle\" x=\"2465.5\" y=\"-230.8\" font-family=\"Helvetica,sans-Serif\" font-size=\"14.00\">class = não</text>\n</g>\n<!-- 71&#45;&gt;72 -->\n<g id=\"edge72\" class=\"edge\">\n<title>71&#45;&gt;72</title>\n<path fill=\"none\" stroke=\"black\" d=\"M2547.13,-341.91C2537.15,-332.56 2526.44,-322.54 2516.17,-312.93\"/>\n<polygon fill=\"black\" stroke=\"black\" points=\"2518.48,-310.3 2508.79,-306.02 2513.7,-315.41 2518.48,-310.3\"/>\n</g>\n<!-- 75 -->\n<g id=\"node76\" class=\"node\">\n<title>75</title>\n<path fill=\"#4ca7e8\" stroke=\"black\" d=\"M2731.5,-306C2731.5,-306 2565.5,-306 2565.5,-306 2559.5,-306 2553.5,-300 2553.5,-294 2553.5,-294 2553.5,-235 2553.5,-235 2553.5,-229 2559.5,-223 2565.5,-223 2565.5,-223 2731.5,-223 2731.5,-223 2737.5,-223 2743.5,-229 2743.5,-235 2743.5,-235 2743.5,-294 2743.5,-294 2743.5,-300 2737.5,-306 2731.5,-306\"/>\n<text text-anchor=\"middle\" x=\"2648.5\" y=\"-290.8\" font-family=\"Helvetica,sans-Serif\" font-size=\"14.00\">km_por_ano &lt;= 34531.607</text>\n<text text-anchor=\"middle\" x=\"2648.5\" y=\"-275.8\" font-family=\"Helvetica,sans-Serif\" font-size=\"14.00\">gini = 0.161</text>\n<text text-anchor=\"middle\" x=\"2648.5\" y=\"-260.8\" font-family=\"Helvetica,sans-Serif\" font-size=\"14.00\">samples = 181</text>\n<text text-anchor=\"middle\" x=\"2648.5\" y=\"-245.8\" font-family=\"Helvetica,sans-Serif\" font-size=\"14.00\">value = [16, 165]</text>\n<text text-anchor=\"middle\" x=\"2648.5\" y=\"-230.8\" font-family=\"Helvetica,sans-Serif\" font-size=\"14.00\">class = sim</text>\n</g>\n<!-- 71&#45;&gt;75 -->\n<g id=\"edge75\" class=\"edge\">\n<title>71&#45;&gt;75</title>\n<path fill=\"none\" stroke=\"black\" d=\"M2610.62,-341.91C2614.9,-333.29 2619.46,-324.09 2623.87,-315.17\"/>\n<polygon fill=\"black\" stroke=\"black\" points=\"2627.11,-316.53 2628.41,-306.02 2620.84,-313.43 2627.11,-316.53\"/>\n</g>\n<!-- 73 -->\n<g id=\"node74\" class=\"node\">\n<title>73</title>\n<path fill=\"#399de5\" stroke=\"black\" d=\"M2398,-179.5C2398,-179.5 2325,-179.5 2325,-179.5 2319,-179.5 2313,-173.5 2313,-167.5 2313,-167.5 2313,-123.5 2313,-123.5 2313,-117.5 2319,-111.5 2325,-111.5 2325,-111.5 2398,-111.5 2398,-111.5 2404,-111.5 2410,-117.5 2410,-123.5 2410,-123.5 2410,-167.5 2410,-167.5 2410,-173.5 2404,-179.5 2398,-179.5\"/>\n<text text-anchor=\"middle\" x=\"2361.5\" y=\"-164.3\" font-family=\"Helvetica,sans-Serif\" font-size=\"14.00\">gini = 0.0</text>\n<text text-anchor=\"middle\" x=\"2361.5\" y=\"-149.3\" font-family=\"Helvetica,sans-Serif\" font-size=\"14.00\">samples = 2</text>\n<text text-anchor=\"middle\" x=\"2361.5\" y=\"-134.3\" font-family=\"Helvetica,sans-Serif\" font-size=\"14.00\">value = [0, 2]</text>\n<text text-anchor=\"middle\" x=\"2361.5\" y=\"-119.3\" font-family=\"Helvetica,sans-Serif\" font-size=\"14.00\">class = sim</text>\n</g>\n<!-- 72&#45;&gt;73 -->\n<g id=\"edge73\" class=\"edge\">\n<title>72&#45;&gt;73</title>\n<path fill=\"none\" stroke=\"black\" d=\"M2429.42,-222.91C2419.22,-211.43 2408.11,-198.94 2397.89,-187.44\"/>\n<polygon fill=\"black\" stroke=\"black\" points=\"2400.24,-184.82 2390.98,-179.67 2395.01,-189.47 2400.24,-184.82\"/>\n</g>\n<!-- 74 -->\n<g id=\"node75\" class=\"node\">\n<title>74</title>\n<path fill=\"#e58139\" stroke=\"black\" d=\"M2513,-179.5C2513,-179.5 2440,-179.5 2440,-179.5 2434,-179.5 2428,-173.5 2428,-167.5 2428,-167.5 2428,-123.5 2428,-123.5 2428,-117.5 2434,-111.5 2440,-111.5 2440,-111.5 2513,-111.5 2513,-111.5 2519,-111.5 2525,-117.5 2525,-123.5 2525,-123.5 2525,-167.5 2525,-167.5 2525,-173.5 2519,-179.5 2513,-179.5\"/>\n<text text-anchor=\"middle\" x=\"2476.5\" y=\"-164.3\" font-family=\"Helvetica,sans-Serif\" font-size=\"14.00\">gini = 0.0</text>\n<text text-anchor=\"middle\" x=\"2476.5\" y=\"-149.3\" font-family=\"Helvetica,sans-Serif\" font-size=\"14.00\">samples = 2</text>\n<text text-anchor=\"middle\" x=\"2476.5\" y=\"-134.3\" font-family=\"Helvetica,sans-Serif\" font-size=\"14.00\">value = [2, 0]</text>\n<text text-anchor=\"middle\" x=\"2476.5\" y=\"-119.3\" font-family=\"Helvetica,sans-Serif\" font-size=\"14.00\">class = não</text>\n</g>\n<!-- 72&#45;&gt;74 -->\n<g id=\"edge74\" class=\"edge\">\n<title>72&#45;&gt;74</title>\n<path fill=\"none\" stroke=\"black\" d=\"M2469.32,-222.91C2470.32,-212.2 2471.41,-200.62 2472.43,-189.78\"/>\n<polygon fill=\"black\" stroke=\"black\" points=\"2475.93,-189.95 2473.38,-179.67 2468.96,-189.3 2475.93,-189.95\"/>\n</g>\n<!-- 76 -->\n<g id=\"node77\" class=\"node\">\n<title>76</title>\n<path fill=\"#4aa6e7\" stroke=\"black\" d=\"M2721.5,-187C2721.5,-187 2555.5,-187 2555.5,-187 2549.5,-187 2543.5,-181 2543.5,-175 2543.5,-175 2543.5,-116 2543.5,-116 2543.5,-110 2549.5,-104 2555.5,-104 2555.5,-104 2721.5,-104 2721.5,-104 2727.5,-104 2733.5,-110 2733.5,-116 2733.5,-116 2733.5,-175 2733.5,-175 2733.5,-181 2727.5,-187 2721.5,-187\"/>\n<text text-anchor=\"middle\" x=\"2638.5\" y=\"-171.8\" font-family=\"Helvetica,sans-Serif\" font-size=\"14.00\">km_por_ano &lt;= 19369.211</text>\n<text text-anchor=\"middle\" x=\"2638.5\" y=\"-156.8\" font-family=\"Helvetica,sans-Serif\" font-size=\"14.00\">gini = 0.147</text>\n<text text-anchor=\"middle\" x=\"2638.5\" y=\"-141.8\" font-family=\"Helvetica,sans-Serif\" font-size=\"14.00\">samples = 175</text>\n<text text-anchor=\"middle\" x=\"2638.5\" y=\"-126.8\" font-family=\"Helvetica,sans-Serif\" font-size=\"14.00\">value = [14, 161]</text>\n<text text-anchor=\"middle\" x=\"2638.5\" y=\"-111.8\" font-family=\"Helvetica,sans-Serif\" font-size=\"14.00\">class = sim</text>\n</g>\n<!-- 75&#45;&gt;76 -->\n<g id=\"edge76\" class=\"edge\">\n<title>75&#45;&gt;76</title>\n<path fill=\"none\" stroke=\"black\" d=\"M2645.03,-222.91C2644.32,-214.56 2643.56,-205.67 2642.82,-197.02\"/>\n<polygon fill=\"black\" stroke=\"black\" points=\"2646.3,-196.69 2641.96,-187.02 2639.33,-197.28 2646.3,-196.69\"/>\n</g>\n<!-- 79 -->\n<g id=\"node80\" class=\"node\">\n<title>79</title>\n<path fill=\"#9ccef2\" stroke=\"black\" d=\"M2929.5,-187C2929.5,-187 2763.5,-187 2763.5,-187 2757.5,-187 2751.5,-181 2751.5,-175 2751.5,-175 2751.5,-116 2751.5,-116 2751.5,-110 2757.5,-104 2763.5,-104 2763.5,-104 2929.5,-104 2929.5,-104 2935.5,-104 2941.5,-110 2941.5,-116 2941.5,-116 2941.5,-175 2941.5,-175 2941.5,-181 2935.5,-187 2929.5,-187\"/>\n<text text-anchor=\"middle\" x=\"2846.5\" y=\"-171.8\" font-family=\"Helvetica,sans-Serif\" font-size=\"14.00\">km_por_ano &lt;= 34767.377</text>\n<text text-anchor=\"middle\" x=\"2846.5\" y=\"-156.8\" font-family=\"Helvetica,sans-Serif\" font-size=\"14.00\">gini = 0.444</text>\n<text text-anchor=\"middle\" x=\"2846.5\" y=\"-141.8\" font-family=\"Helvetica,sans-Serif\" font-size=\"14.00\">samples = 6</text>\n<text text-anchor=\"middle\" x=\"2846.5\" y=\"-126.8\" font-family=\"Helvetica,sans-Serif\" font-size=\"14.00\">value = [2, 4]</text>\n<text text-anchor=\"middle\" x=\"2846.5\" y=\"-111.8\" font-family=\"Helvetica,sans-Serif\" font-size=\"14.00\">class = sim</text>\n</g>\n<!-- 75&#45;&gt;79 -->\n<g id=\"edge79\" class=\"edge\">\n<title>75&#45;&gt;79</title>\n<path fill=\"none\" stroke=\"black\" d=\"M2717.2,-222.91C2733.94,-213.02 2751.95,-202.37 2769.07,-192.25\"/>\n<polygon fill=\"black\" stroke=\"black\" points=\"2771.1,-195.12 2777.93,-187.02 2767.54,-189.09 2771.1,-195.12\"/>\n</g>\n<!-- 77 -->\n<g id=\"node78\" class=\"node\">\n<title>77</title>\n<path fill=\"#5aade9\" stroke=\"black\" d=\"M2552,-68C2552,-68 2463,-68 2463,-68 2457,-68 2451,-62 2451,-56 2451,-56 2451,-12 2451,-12 2451,-6 2457,0 2463,0 2463,0 2552,0 2552,0 2558,0 2564,-6 2564,-12 2564,-12 2564,-56 2564,-56 2564,-62 2558,-68 2552,-68\"/>\n<text text-anchor=\"middle\" x=\"2507.5\" y=\"-52.8\" font-family=\"Helvetica,sans-Serif\" font-size=\"14.00\">gini = 0.245</text>\n<text text-anchor=\"middle\" x=\"2507.5\" y=\"-37.8\" font-family=\"Helvetica,sans-Serif\" font-size=\"14.00\">samples = 70</text>\n<text text-anchor=\"middle\" x=\"2507.5\" y=\"-22.8\" font-family=\"Helvetica,sans-Serif\" font-size=\"14.00\">value = [10, 60]</text>\n<text text-anchor=\"middle\" x=\"2507.5\" y=\"-7.8\" font-family=\"Helvetica,sans-Serif\" font-size=\"14.00\">class = sim</text>\n</g>\n<!-- 76&#45;&gt;77 -->\n<g id=\"edge77\" class=\"edge\">\n<title>76&#45;&gt;77</title>\n<path fill=\"none\" stroke=\"black\" d=\"M2589.72,-103.73C2578.37,-94.24 2566.31,-84.16 2555.01,-74.72\"/>\n<polygon fill=\"black\" stroke=\"black\" points=\"2557.26,-72.03 2547.34,-68.3 2552.77,-77.4 2557.26,-72.03\"/>\n</g>\n<!-- 78 -->\n<g id=\"node79\" class=\"node\">\n<title>78</title>\n<path fill=\"#41a1e6\" stroke=\"black\" d=\"M2683,-68C2683,-68 2594,-68 2594,-68 2588,-68 2582,-62 2582,-56 2582,-56 2582,-12 2582,-12 2582,-6 2588,0 2594,0 2594,0 2683,0 2683,0 2689,0 2695,-6 2695,-12 2695,-12 2695,-56 2695,-56 2695,-62 2689,-68 2683,-68\"/>\n<text text-anchor=\"middle\" x=\"2638.5\" y=\"-52.8\" font-family=\"Helvetica,sans-Serif\" font-size=\"14.00\">gini = 0.073</text>\n<text text-anchor=\"middle\" x=\"2638.5\" y=\"-37.8\" font-family=\"Helvetica,sans-Serif\" font-size=\"14.00\">samples = 105</text>\n<text text-anchor=\"middle\" x=\"2638.5\" y=\"-22.8\" font-family=\"Helvetica,sans-Serif\" font-size=\"14.00\">value = [4, 101]</text>\n<text text-anchor=\"middle\" x=\"2638.5\" y=\"-7.8\" font-family=\"Helvetica,sans-Serif\" font-size=\"14.00\">class = sim</text>\n</g>\n<!-- 76&#45;&gt;78 -->\n<g id=\"edge78\" class=\"edge\">\n<title>76&#45;&gt;78</title>\n<path fill=\"none\" stroke=\"black\" d=\"M2638.5,-103.73C2638.5,-95.52 2638.5,-86.86 2638.5,-78.56\"/>\n<polygon fill=\"black\" stroke=\"black\" points=\"2642,-78.3 2638.5,-68.3 2635,-78.3 2642,-78.3\"/>\n</g>\n<!-- 80 -->\n<g id=\"node81\" class=\"node\">\n<title>80</title>\n<path fill=\"#e58139\" stroke=\"black\" d=\"M2799,-68C2799,-68 2726,-68 2726,-68 2720,-68 2714,-62 2714,-56 2714,-56 2714,-12 2714,-12 2714,-6 2720,0 2726,0 2726,0 2799,0 2799,0 2805,0 2811,-6 2811,-12 2811,-12 2811,-56 2811,-56 2811,-62 2805,-68 2799,-68\"/>\n<text text-anchor=\"middle\" x=\"2762.5\" y=\"-52.8\" font-family=\"Helvetica,sans-Serif\" font-size=\"14.00\">gini = 0.0</text>\n<text text-anchor=\"middle\" x=\"2762.5\" y=\"-37.8\" font-family=\"Helvetica,sans-Serif\" font-size=\"14.00\">samples = 1</text>\n<text text-anchor=\"middle\" x=\"2762.5\" y=\"-22.8\" font-family=\"Helvetica,sans-Serif\" font-size=\"14.00\">value = [1, 0]</text>\n<text text-anchor=\"middle\" x=\"2762.5\" y=\"-7.8\" font-family=\"Helvetica,sans-Serif\" font-size=\"14.00\">class = não</text>\n</g>\n<!-- 79&#45;&gt;80 -->\n<g id=\"edge80\" class=\"edge\">\n<title>79&#45;&gt;80</title>\n<path fill=\"none\" stroke=\"black\" d=\"M2815.22,-103.73C2808.36,-94.79 2801.1,-85.32 2794.22,-76.36\"/>\n<polygon fill=\"black\" stroke=\"black\" points=\"2796.91,-74.1 2788.04,-68.3 2791.35,-78.36 2796.91,-74.1\"/>\n</g>\n<!-- 81 -->\n<g id=\"node82\" class=\"node\">\n<title>81</title>\n<path fill=\"#6ab6ec\" stroke=\"black\" d=\"M2914,-68C2914,-68 2841,-68 2841,-68 2835,-68 2829,-62 2829,-56 2829,-56 2829,-12 2829,-12 2829,-6 2835,0 2841,0 2841,0 2914,0 2914,0 2920,0 2926,-6 2926,-12 2926,-12 2926,-56 2926,-56 2926,-62 2920,-68 2914,-68\"/>\n<text text-anchor=\"middle\" x=\"2877.5\" y=\"-52.8\" font-family=\"Helvetica,sans-Serif\" font-size=\"14.00\">gini = 0.32</text>\n<text text-anchor=\"middle\" x=\"2877.5\" y=\"-37.8\" font-family=\"Helvetica,sans-Serif\" font-size=\"14.00\">samples = 5</text>\n<text text-anchor=\"middle\" x=\"2877.5\" y=\"-22.8\" font-family=\"Helvetica,sans-Serif\" font-size=\"14.00\">value = [1, 4]</text>\n<text text-anchor=\"middle\" x=\"2877.5\" y=\"-7.8\" font-family=\"Helvetica,sans-Serif\" font-size=\"14.00\">class = sim</text>\n</g>\n<!-- 79&#45;&gt;81 -->\n<g id=\"edge81\" class=\"edge\">\n<title>79&#45;&gt;81</title>\n<path fill=\"none\" stroke=\"black\" d=\"M2858.04,-103.73C2860.42,-95.34 2862.93,-86.47 2865.32,-78.01\"/>\n<polygon fill=\"black\" stroke=\"black\" points=\"2868.72,-78.87 2868.07,-68.3 2861.98,-76.97 2868.72,-78.87\"/>\n</g>\n<!-- 83 -->\n<g id=\"node84\" class=\"node\">\n<title>83</title>\n<path fill=\"#6db7ec\" stroke=\"black\" d=\"M3193,-306C3193,-306 3078,-306 3078,-306 3072,-306 3066,-300 3066,-294 3066,-294 3066,-235 3066,-235 3066,-229 3072,-223 3078,-223 3078,-223 3193,-223 3193,-223 3199,-223 3205,-229 3205,-235 3205,-235 3205,-294 3205,-294 3205,-300 3199,-306 3193,-306\"/>\n<text text-anchor=\"middle\" x=\"3135.5\" y=\"-290.8\" font-family=\"Helvetica,sans-Serif\" font-size=\"14.00\">preco &lt;= 56435.16</text>\n<text text-anchor=\"middle\" x=\"3135.5\" y=\"-275.8\" font-family=\"Helvetica,sans-Serif\" font-size=\"14.00\">gini = 0.331</text>\n<text text-anchor=\"middle\" x=\"3135.5\" y=\"-260.8\" font-family=\"Helvetica,sans-Serif\" font-size=\"14.00\">samples = 191</text>\n<text text-anchor=\"middle\" x=\"3135.5\" y=\"-245.8\" font-family=\"Helvetica,sans-Serif\" font-size=\"14.00\">value = [40, 151]</text>\n<text text-anchor=\"middle\" x=\"3135.5\" y=\"-230.8\" font-family=\"Helvetica,sans-Serif\" font-size=\"14.00\">class = sim</text>\n</g>\n<!-- 82&#45;&gt;83 -->\n<g id=\"edge83\" class=\"edge\">\n<title>82&#45;&gt;83</title>\n<path fill=\"none\" stroke=\"black\" d=\"M3135.5,-341.91C3135.5,-333.65 3135.5,-324.86 3135.5,-316.3\"/>\n<polygon fill=\"black\" stroke=\"black\" points=\"3139,-316.02 3135.5,-306.02 3132,-316.02 3139,-316.02\"/>\n</g>\n<!-- 88 -->\n<g id=\"node89\" class=\"node\">\n<title>88</title>\n<path fill=\"#4aa6e7\" stroke=\"black\" d=\"M3436,-306C3436,-306 3321,-306 3321,-306 3315,-306 3309,-300 3309,-294 3309,-294 3309,-235 3309,-235 3309,-229 3315,-223 3321,-223 3321,-223 3436,-223 3436,-223 3442,-223 3448,-229 3448,-235 3448,-235 3448,-294 3448,-294 3448,-300 3442,-306 3436,-306\"/>\n<text text-anchor=\"middle\" x=\"3378.5\" y=\"-290.8\" font-family=\"Helvetica,sans-Serif\" font-size=\"14.00\">preco &lt;= 59863.24</text>\n<text text-anchor=\"middle\" x=\"3378.5\" y=\"-275.8\" font-family=\"Helvetica,sans-Serif\" font-size=\"14.00\">gini = 0.149</text>\n<text text-anchor=\"middle\" x=\"3378.5\" y=\"-260.8\" font-family=\"Helvetica,sans-Serif\" font-size=\"14.00\">samples = 37</text>\n<text text-anchor=\"middle\" x=\"3378.5\" y=\"-245.8\" font-family=\"Helvetica,sans-Serif\" font-size=\"14.00\">value = [3, 34]</text>\n<text text-anchor=\"middle\" x=\"3378.5\" y=\"-230.8\" font-family=\"Helvetica,sans-Serif\" font-size=\"14.00\">class = sim</text>\n</g>\n<!-- 82&#45;&gt;88 -->\n<g id=\"edge88\" class=\"edge\">\n<title>82&#45;&gt;88</title>\n<path fill=\"none\" stroke=\"black\" d=\"M3209.07,-347.08C3237.68,-333.3 3270.52,-317.49 3299.62,-303.48\"/>\n<polygon fill=\"black\" stroke=\"black\" points=\"3301.43,-306.49 3308.93,-299 3298.4,-300.18 3301.43,-306.49\"/>\n</g>\n<!-- 84 -->\n<g id=\"node85\" class=\"node\">\n<title>84</title>\n<path fill=\"#6bb6ec\" stroke=\"black\" d=\"M3137.5,-187C3137.5,-187 2971.5,-187 2971.5,-187 2965.5,-187 2959.5,-181 2959.5,-175 2959.5,-175 2959.5,-116 2959.5,-116 2959.5,-110 2965.5,-104 2971.5,-104 2971.5,-104 3137.5,-104 3137.5,-104 3143.5,-104 3149.5,-110 3149.5,-116 3149.5,-116 3149.5,-175 3149.5,-175 3149.5,-181 3143.5,-187 3137.5,-187\"/>\n<text text-anchor=\"middle\" x=\"3054.5\" y=\"-171.8\" font-family=\"Helvetica,sans-Serif\" font-size=\"14.00\">km_por_ano &lt;= 11729.675</text>\n<text text-anchor=\"middle\" x=\"3054.5\" y=\"-156.8\" font-family=\"Helvetica,sans-Serif\" font-size=\"14.00\">gini = 0.321</text>\n<text text-anchor=\"middle\" x=\"3054.5\" y=\"-141.8\" font-family=\"Helvetica,sans-Serif\" font-size=\"14.00\">samples = 189</text>\n<text text-anchor=\"middle\" x=\"3054.5\" y=\"-126.8\" font-family=\"Helvetica,sans-Serif\" font-size=\"14.00\">value = [38, 151]</text>\n<text text-anchor=\"middle\" x=\"3054.5\" y=\"-111.8\" font-family=\"Helvetica,sans-Serif\" font-size=\"14.00\">class = sim</text>\n</g>\n<!-- 83&#45;&gt;84 -->\n<g id=\"edge84\" class=\"edge\">\n<title>83&#45;&gt;84</title>\n<path fill=\"none\" stroke=\"black\" d=\"M3107.4,-222.91C3101.24,-214.01 3094.66,-204.51 3088.31,-195.33\"/>\n<polygon fill=\"black\" stroke=\"black\" points=\"3091.12,-193.25 3082.55,-187.02 3085.37,-197.24 3091.12,-193.25\"/>\n</g>\n<!-- 87 -->\n<g id=\"node88\" class=\"node\">\n<title>87</title>\n<path fill=\"#e58139\" stroke=\"black\" d=\"M3253,-179.5C3253,-179.5 3180,-179.5 3180,-179.5 3174,-179.5 3168,-173.5 3168,-167.5 3168,-167.5 3168,-123.5 3168,-123.5 3168,-117.5 3174,-111.5 3180,-111.5 3180,-111.5 3253,-111.5 3253,-111.5 3259,-111.5 3265,-117.5 3265,-123.5 3265,-123.5 3265,-167.5 3265,-167.5 3265,-173.5 3259,-179.5 3253,-179.5\"/>\n<text text-anchor=\"middle\" x=\"3216.5\" y=\"-164.3\" font-family=\"Helvetica,sans-Serif\" font-size=\"14.00\">gini = 0.0</text>\n<text text-anchor=\"middle\" x=\"3216.5\" y=\"-149.3\" font-family=\"Helvetica,sans-Serif\" font-size=\"14.00\">samples = 2</text>\n<text text-anchor=\"middle\" x=\"3216.5\" y=\"-134.3\" font-family=\"Helvetica,sans-Serif\" font-size=\"14.00\">value = [2, 0]</text>\n<text text-anchor=\"middle\" x=\"3216.5\" y=\"-119.3\" font-family=\"Helvetica,sans-Serif\" font-size=\"14.00\">class = não</text>\n</g>\n<!-- 83&#45;&gt;87 -->\n<g id=\"edge87\" class=\"edge\">\n<title>83&#45;&gt;87</title>\n<path fill=\"none\" stroke=\"black\" d=\"M3163.6,-222.91C3171.39,-211.65 3179.86,-199.42 3187.7,-188.11\"/>\n<polygon fill=\"black\" stroke=\"black\" points=\"3190.72,-189.88 3193.54,-179.67 3184.97,-185.9 3190.72,-189.88\"/>\n</g>\n<!-- 85 -->\n<g id=\"node86\" class=\"node\">\n<title>85</title>\n<path fill=\"#deeffb\" stroke=\"black\" d=\"M3035,-68C3035,-68 2956,-68 2956,-68 2950,-68 2944,-62 2944,-56 2944,-56 2944,-12 2944,-12 2944,-6 2950,0 2956,0 2956,0 3035,0 3035,0 3041,0 3047,-6 3047,-12 3047,-12 3047,-56 3047,-56 3047,-62 3041,-68 3035,-68\"/>\n<text text-anchor=\"middle\" x=\"2995.5\" y=\"-52.8\" font-family=\"Helvetica,sans-Serif\" font-size=\"14.00\">gini = 0.496</text>\n<text text-anchor=\"middle\" x=\"2995.5\" y=\"-37.8\" font-family=\"Helvetica,sans-Serif\" font-size=\"14.00\">samples = 11</text>\n<text text-anchor=\"middle\" x=\"2995.5\" y=\"-22.8\" font-family=\"Helvetica,sans-Serif\" font-size=\"14.00\">value = [5, 6]</text>\n<text text-anchor=\"middle\" x=\"2995.5\" y=\"-7.8\" font-family=\"Helvetica,sans-Serif\" font-size=\"14.00\">class = sim</text>\n</g>\n<!-- 84&#45;&gt;85 -->\n<g id=\"edge85\" class=\"edge\">\n<title>84&#45;&gt;85</title>\n<path fill=\"none\" stroke=\"black\" d=\"M3032.53,-103.73C3027.86,-95.06 3022.92,-85.9 3018.23,-77.18\"/>\n<polygon fill=\"black\" stroke=\"black\" points=\"3021.27,-75.44 3013.44,-68.3 3015.1,-78.76 3021.27,-75.44\"/>\n</g>\n<!-- 86 -->\n<g id=\"node87\" class=\"node\">\n<title>86</title>\n<path fill=\"#66b3eb\" stroke=\"black\" d=\"M3175.5,-68C3175.5,-68 3077.5,-68 3077.5,-68 3071.5,-68 3065.5,-62 3065.5,-56 3065.5,-56 3065.5,-12 3065.5,-12 3065.5,-6 3071.5,0 3077.5,0 3077.5,0 3175.5,0 3175.5,0 3181.5,0 3187.5,-6 3187.5,-12 3187.5,-12 3187.5,-56 3187.5,-56 3187.5,-62 3181.5,-68 3175.5,-68\"/>\n<text text-anchor=\"middle\" x=\"3126.5\" y=\"-52.8\" font-family=\"Helvetica,sans-Serif\" font-size=\"14.00\">gini = 0.302</text>\n<text text-anchor=\"middle\" x=\"3126.5\" y=\"-37.8\" font-family=\"Helvetica,sans-Serif\" font-size=\"14.00\">samples = 178</text>\n<text text-anchor=\"middle\" x=\"3126.5\" y=\"-22.8\" font-family=\"Helvetica,sans-Serif\" font-size=\"14.00\">value = [33, 145]</text>\n<text text-anchor=\"middle\" x=\"3126.5\" y=\"-7.8\" font-family=\"Helvetica,sans-Serif\" font-size=\"14.00\">class = sim</text>\n</g>\n<!-- 84&#45;&gt;86 -->\n<g id=\"edge86\" class=\"edge\">\n<title>84&#45;&gt;86</title>\n<path fill=\"none\" stroke=\"black\" d=\"M3081.31,-103.73C3087.07,-94.97 3093.16,-85.7 3098.95,-76.91\"/>\n<polygon fill=\"black\" stroke=\"black\" points=\"3102.03,-78.58 3104.6,-68.3 3096.19,-74.73 3102.03,-78.58\"/>\n</g>\n<!-- 89 -->\n<g id=\"node90\" class=\"node\">\n<title>89</title>\n<path fill=\"#45a3e7\" stroke=\"black\" d=\"M3461.5,-187C3461.5,-187 3295.5,-187 3295.5,-187 3289.5,-187 3283.5,-181 3283.5,-175 3283.5,-175 3283.5,-116 3283.5,-116 3283.5,-110 3289.5,-104 3295.5,-104 3295.5,-104 3461.5,-104 3461.5,-104 3467.5,-104 3473.5,-110 3473.5,-116 3473.5,-116 3473.5,-175 3473.5,-175 3473.5,-181 3467.5,-187 3461.5,-187\"/>\n<text text-anchor=\"middle\" x=\"3378.5\" y=\"-171.8\" font-family=\"Helvetica,sans-Serif\" font-size=\"14.00\">km_por_ano &lt;= 28614.065</text>\n<text text-anchor=\"middle\" x=\"3378.5\" y=\"-156.8\" font-family=\"Helvetica,sans-Serif\" font-size=\"14.00\">gini = 0.111</text>\n<text text-anchor=\"middle\" x=\"3378.5\" y=\"-141.8\" font-family=\"Helvetica,sans-Serif\" font-size=\"14.00\">samples = 34</text>\n<text text-anchor=\"middle\" x=\"3378.5\" y=\"-126.8\" font-family=\"Helvetica,sans-Serif\" font-size=\"14.00\">value = [2, 32]</text>\n<text text-anchor=\"middle\" x=\"3378.5\" y=\"-111.8\" font-family=\"Helvetica,sans-Serif\" font-size=\"14.00\">class = sim</text>\n</g>\n<!-- 88&#45;&gt;89 -->\n<g id=\"edge89\" class=\"edge\">\n<title>88&#45;&gt;89</title>\n<path fill=\"none\" stroke=\"black\" d=\"M3378.5,-222.91C3378.5,-214.65 3378.5,-205.86 3378.5,-197.3\"/>\n<polygon fill=\"black\" stroke=\"black\" points=\"3382,-197.02 3378.5,-187.02 3375,-197.02 3382,-197.02\"/>\n</g>\n<!-- 92 -->\n<g id=\"node93\" class=\"node\">\n<title>92</title>\n<path fill=\"#9ccef2\" stroke=\"black\" d=\"M3627,-187C3627,-187 3504,-187 3504,-187 3498,-187 3492,-181 3492,-175 3492,-175 3492,-116 3492,-116 3492,-110 3498,-104 3504,-104 3504,-104 3627,-104 3627,-104 3633,-104 3639,-110 3639,-116 3639,-116 3639,-175 3639,-175 3639,-181 3633,-187 3627,-187\"/>\n<text text-anchor=\"middle\" x=\"3565.5\" y=\"-171.8\" font-family=\"Helvetica,sans-Serif\" font-size=\"14.00\">preco &lt;= 59881.061</text>\n<text text-anchor=\"middle\" x=\"3565.5\" y=\"-156.8\" font-family=\"Helvetica,sans-Serif\" font-size=\"14.00\">gini = 0.444</text>\n<text text-anchor=\"middle\" x=\"3565.5\" y=\"-141.8\" font-family=\"Helvetica,sans-Serif\" font-size=\"14.00\">samples = 3</text>\n<text text-anchor=\"middle\" x=\"3565.5\" y=\"-126.8\" font-family=\"Helvetica,sans-Serif\" font-size=\"14.00\">value = [1, 2]</text>\n<text text-anchor=\"middle\" x=\"3565.5\" y=\"-111.8\" font-family=\"Helvetica,sans-Serif\" font-size=\"14.00\">class = sim</text>\n</g>\n<!-- 88&#45;&gt;92 -->\n<g id=\"edge92\" class=\"edge\">\n<title>88&#45;&gt;92</title>\n<path fill=\"none\" stroke=\"black\" d=\"M3443.38,-222.91C3459.04,-213.11 3475.9,-202.56 3491.93,-192.53\"/>\n<polygon fill=\"black\" stroke=\"black\" points=\"3494.11,-195.29 3500.74,-187.02 3490.4,-189.36 3494.11,-195.29\"/>\n</g>\n<!-- 90 -->\n<g id=\"node91\" class=\"node\">\n<title>90</title>\n<path fill=\"#40a0e6\" stroke=\"black\" d=\"M3318,-68C3318,-68 3237,-68 3237,-68 3231,-68 3225,-62 3225,-56 3225,-56 3225,-12 3225,-12 3225,-6 3231,0 3237,0 3237,0 3318,0 3318,0 3324,0 3330,-6 3330,-12 3330,-12 3330,-56 3330,-56 3330,-62 3324,-68 3318,-68\"/>\n<text text-anchor=\"middle\" x=\"3277.5\" y=\"-52.8\" font-family=\"Helvetica,sans-Serif\" font-size=\"14.00\">gini = 0.064</text>\n<text text-anchor=\"middle\" x=\"3277.5\" y=\"-37.8\" font-family=\"Helvetica,sans-Serif\" font-size=\"14.00\">samples = 30</text>\n<text text-anchor=\"middle\" x=\"3277.5\" y=\"-22.8\" font-family=\"Helvetica,sans-Serif\" font-size=\"14.00\">value = [1, 29]</text>\n<text text-anchor=\"middle\" x=\"3277.5\" y=\"-7.8\" font-family=\"Helvetica,sans-Serif\" font-size=\"14.00\">class = sim</text>\n</g>\n<!-- 89&#45;&gt;90 -->\n<g id=\"edge90\" class=\"edge\">\n<title>89&#45;&gt;90</title>\n<path fill=\"none\" stroke=\"black\" d=\"M3340.89,-103.73C3332.48,-94.61 3323.55,-84.93 3315.14,-75.81\"/>\n<polygon fill=\"black\" stroke=\"black\" points=\"3317.57,-73.28 3308.21,-68.3 3312.42,-78.02 3317.57,-73.28\"/>\n</g>\n<!-- 91 -->\n<g id=\"node92\" class=\"node\">\n<title>91</title>\n<path fill=\"#7bbeee\" stroke=\"black\" d=\"M3433,-68C3433,-68 3360,-68 3360,-68 3354,-68 3348,-62 3348,-56 3348,-56 3348,-12 3348,-12 3348,-6 3354,0 3360,0 3360,0 3433,0 3433,0 3439,0 3445,-6 3445,-12 3445,-12 3445,-56 3445,-56 3445,-62 3439,-68 3433,-68\"/>\n<text text-anchor=\"middle\" x=\"3396.5\" y=\"-52.8\" font-family=\"Helvetica,sans-Serif\" font-size=\"14.00\">gini = 0.375</text>\n<text text-anchor=\"middle\" x=\"3396.5\" y=\"-37.8\" font-family=\"Helvetica,sans-Serif\" font-size=\"14.00\">samples = 4</text>\n<text text-anchor=\"middle\" x=\"3396.5\" y=\"-22.8\" font-family=\"Helvetica,sans-Serif\" font-size=\"14.00\">value = [1, 3]</text>\n<text text-anchor=\"middle\" x=\"3396.5\" y=\"-7.8\" font-family=\"Helvetica,sans-Serif\" font-size=\"14.00\">class = sim</text>\n</g>\n<!-- 89&#45;&gt;91 -->\n<g id=\"edge91\" class=\"edge\">\n<title>89&#45;&gt;91</title>\n<path fill=\"none\" stroke=\"black\" d=\"M3385.2,-103.73C3386.57,-95.43 3388.01,-86.67 3389.38,-78.28\"/>\n<polygon fill=\"black\" stroke=\"black\" points=\"3392.86,-78.73 3391.03,-68.3 3385.95,-77.6 3392.86,-78.73\"/>\n</g>\n<!-- 93 -->\n<g id=\"node94\" class=\"node\">\n<title>93</title>\n<path fill=\"#e58139\" stroke=\"black\" d=\"M3566,-68C3566,-68 3493,-68 3493,-68 3487,-68 3481,-62 3481,-56 3481,-56 3481,-12 3481,-12 3481,-6 3487,0 3493,0 3493,0 3566,0 3566,0 3572,0 3578,-6 3578,-12 3578,-12 3578,-56 3578,-56 3578,-62 3572,-68 3566,-68\"/>\n<text text-anchor=\"middle\" x=\"3529.5\" y=\"-52.8\" font-family=\"Helvetica,sans-Serif\" font-size=\"14.00\">gini = 0.0</text>\n<text text-anchor=\"middle\" x=\"3529.5\" y=\"-37.8\" font-family=\"Helvetica,sans-Serif\" font-size=\"14.00\">samples = 1</text>\n<text text-anchor=\"middle\" x=\"3529.5\" y=\"-22.8\" font-family=\"Helvetica,sans-Serif\" font-size=\"14.00\">value = [1, 0]</text>\n<text text-anchor=\"middle\" x=\"3529.5\" y=\"-7.8\" font-family=\"Helvetica,sans-Serif\" font-size=\"14.00\">class = não</text>\n</g>\n<!-- 92&#45;&gt;93 -->\n<g id=\"edge93\" class=\"edge\">\n<title>92&#45;&gt;93</title>\n<path fill=\"none\" stroke=\"black\" d=\"M3552.09,-103.73C3549.34,-95.34 3546.42,-86.47 3543.64,-78.01\"/>\n<polygon fill=\"black\" stroke=\"black\" points=\"3546.9,-76.71 3540.45,-68.3 3540.25,-78.89 3546.9,-76.71\"/>\n</g>\n<!-- 94 -->\n<g id=\"node95\" class=\"node\">\n<title>94</title>\n<path fill=\"#399de5\" stroke=\"black\" d=\"M3681,-68C3681,-68 3608,-68 3608,-68 3602,-68 3596,-62 3596,-56 3596,-56 3596,-12 3596,-12 3596,-6 3602,0 3608,0 3608,0 3681,0 3681,0 3687,0 3693,-6 3693,-12 3693,-12 3693,-56 3693,-56 3693,-62 3687,-68 3681,-68\"/>\n<text text-anchor=\"middle\" x=\"3644.5\" y=\"-52.8\" font-family=\"Helvetica,sans-Serif\" font-size=\"14.00\">gini = 0.0</text>\n<text text-anchor=\"middle\" x=\"3644.5\" y=\"-37.8\" font-family=\"Helvetica,sans-Serif\" font-size=\"14.00\">samples = 2</text>\n<text text-anchor=\"middle\" x=\"3644.5\" y=\"-22.8\" font-family=\"Helvetica,sans-Serif\" font-size=\"14.00\">value = [0, 2]</text>\n<text text-anchor=\"middle\" x=\"3644.5\" y=\"-7.8\" font-family=\"Helvetica,sans-Serif\" font-size=\"14.00\">class = sim</text>\n</g>\n<!-- 92&#45;&gt;94 -->\n<g id=\"edge94\" class=\"edge\">\n<title>92&#45;&gt;94</title>\n<path fill=\"none\" stroke=\"black\" d=\"M3594.92,-103.73C3601.3,-94.88 3608.06,-85.51 3614.47,-76.63\"/>\n<polygon fill=\"black\" stroke=\"black\" points=\"3617.46,-78.46 3620.48,-68.3 3611.79,-74.36 3617.46,-78.46\"/>\n</g>\n<!-- 96 -->\n<g id=\"node97\" class=\"node\">\n<title>96</title>\n<path fill=\"#70b8ec\" stroke=\"black\" d=\"M4233,-663C4233,-663 4110,-663 4110,-663 4104,-663 4098,-657 4098,-651 4098,-651 4098,-592 4098,-592 4098,-586 4104,-580 4110,-580 4110,-580 4233,-580 4233,-580 4239,-580 4245,-586 4245,-592 4245,-592 4245,-651 4245,-651 4245,-657 4239,-663 4233,-663\"/>\n<text text-anchor=\"middle\" x=\"4171.5\" y=\"-647.8\" font-family=\"Helvetica,sans-Serif\" font-size=\"14.00\">preco &lt;= 42674.936</text>\n<text text-anchor=\"middle\" x=\"4171.5\" y=\"-632.8\" font-family=\"Helvetica,sans-Serif\" font-size=\"14.00\">gini = 0.34</text>\n<text text-anchor=\"middle\" x=\"4171.5\" y=\"-617.8\" font-family=\"Helvetica,sans-Serif\" font-size=\"14.00\">samples = 115</text>\n<text text-anchor=\"middle\" x=\"4171.5\" y=\"-602.8\" font-family=\"Helvetica,sans-Serif\" font-size=\"14.00\">value = [25, 90]</text>\n<text text-anchor=\"middle\" x=\"4171.5\" y=\"-587.8\" font-family=\"Helvetica,sans-Serif\" font-size=\"14.00\">class = sim</text>\n</g>\n<!-- 95&#45;&gt;96 -->\n<g id=\"edge96\" class=\"edge\">\n<title>95&#45;&gt;96</title>\n<path fill=\"none\" stroke=\"black\" d=\"M4171.5,-698.91C4171.5,-690.65 4171.5,-681.86 4171.5,-673.3\"/>\n<polygon fill=\"black\" stroke=\"black\" points=\"4175,-673.02 4171.5,-663.02 4168,-673.02 4175,-673.02\"/>\n</g>\n<!-- 125 -->\n<g id=\"node126\" class=\"node\">\n<title>125</title>\n<path fill=\"#bfdff7\" stroke=\"black\" d=\"M5393,-663C5393,-663 5270,-663 5270,-663 5264,-663 5258,-657 5258,-651 5258,-651 5258,-592 5258,-592 5258,-586 5264,-580 5270,-580 5270,-580 5393,-580 5393,-580 5399,-580 5405,-586 5405,-592 5405,-592 5405,-651 5405,-651 5405,-657 5399,-663 5393,-663\"/>\n<text text-anchor=\"middle\" x=\"5331.5\" y=\"-647.8\" font-family=\"Helvetica,sans-Serif\" font-size=\"14.00\">preco &lt;= 56450.775</text>\n<text text-anchor=\"middle\" x=\"5331.5\" y=\"-632.8\" font-family=\"Helvetica,sans-Serif\" font-size=\"14.00\">gini = 0.481</text>\n<text text-anchor=\"middle\" x=\"5331.5\" y=\"-617.8\" font-family=\"Helvetica,sans-Serif\" font-size=\"14.00\">samples = 57</text>\n<text text-anchor=\"middle\" x=\"5331.5\" y=\"-602.8\" font-family=\"Helvetica,sans-Serif\" font-size=\"14.00\">value = [23, 34]</text>\n<text text-anchor=\"middle\" x=\"5331.5\" y=\"-587.8\" font-family=\"Helvetica,sans-Serif\" font-size=\"14.00\">class = sim</text>\n</g>\n<!-- 95&#45;&gt;125 -->\n<g id=\"edge125\" class=\"edge\">\n<title>95&#45;&gt;125</title>\n<path fill=\"none\" stroke=\"black\" d=\"M4245.38,-732.05C4451.22,-711.29 5030.25,-652.88 5247.64,-630.96\"/>\n<polygon fill=\"black\" stroke=\"black\" points=\"5248.11,-634.43 5257.71,-629.94 5247.41,-627.46 5248.11,-634.43\"/>\n</g>\n<!-- 97 -->\n<g id=\"node98\" class=\"node\">\n<title>97</title>\n<path fill=\"#d7ebfa\" stroke=\"black\" d=\"M4146,-544C4146,-544 3985,-544 3985,-544 3979,-544 3973,-538 3973,-532 3973,-532 3973,-473 3973,-473 3973,-467 3979,-461 3985,-461 3985,-461 4146,-461 4146,-461 4152,-461 4158,-467 4158,-473 4158,-473 4158,-532 4158,-532 4158,-538 4152,-544 4146,-544\"/>\n<text text-anchor=\"middle\" x=\"4065.5\" y=\"-528.8\" font-family=\"Helvetica,sans-Serif\" font-size=\"14.00\">idade_do_modelo &lt;= 14.5</text>\n<text text-anchor=\"middle\" x=\"4065.5\" y=\"-513.8\" font-family=\"Helvetica,sans-Serif\" font-size=\"14.00\">gini = 0.494</text>\n<text text-anchor=\"middle\" x=\"4065.5\" y=\"-498.8\" font-family=\"Helvetica,sans-Serif\" font-size=\"14.00\">samples = 18</text>\n<text text-anchor=\"middle\" x=\"4065.5\" y=\"-483.8\" font-family=\"Helvetica,sans-Serif\" font-size=\"14.00\">value = [8, 10]</text>\n<text text-anchor=\"middle\" x=\"4065.5\" y=\"-468.8\" font-family=\"Helvetica,sans-Serif\" font-size=\"14.00\">class = sim</text>\n</g>\n<!-- 96&#45;&gt;97 -->\n<g id=\"edge97\" class=\"edge\">\n<title>96&#45;&gt;97</title>\n<path fill=\"none\" stroke=\"black\" d=\"M4134.72,-579.91C4126.42,-570.74 4117.53,-560.93 4108.98,-551.49\"/>\n<polygon fill=\"black\" stroke=\"black\" points=\"4111.52,-549.08 4102.21,-544.02 4106.33,-553.78 4111.52,-549.08\"/>\n</g>\n<!-- 110 -->\n<g id=\"node111\" class=\"node\">\n<title>110</title>\n<path fill=\"#63b2eb\" stroke=\"black\" d=\"M4351.5,-544C4351.5,-544 4193.5,-544 4193.5,-544 4187.5,-544 4181.5,-538 4181.5,-532 4181.5,-532 4181.5,-473 4181.5,-473 4181.5,-467 4187.5,-461 4193.5,-461 4193.5,-461 4351.5,-461 4351.5,-461 4357.5,-461 4363.5,-467 4363.5,-473 4363.5,-473 4363.5,-532 4363.5,-532 4363.5,-538 4357.5,-544 4351.5,-544\"/>\n<text text-anchor=\"middle\" x=\"4272.5\" y=\"-528.8\" font-family=\"Helvetica,sans-Serif\" font-size=\"14.00\">km_por_ano &lt;= 35831.15</text>\n<text text-anchor=\"middle\" x=\"4272.5\" y=\"-513.8\" font-family=\"Helvetica,sans-Serif\" font-size=\"14.00\">gini = 0.289</text>\n<text text-anchor=\"middle\" x=\"4272.5\" y=\"-498.8\" font-family=\"Helvetica,sans-Serif\" font-size=\"14.00\">samples = 97</text>\n<text text-anchor=\"middle\" x=\"4272.5\" y=\"-483.8\" font-family=\"Helvetica,sans-Serif\" font-size=\"14.00\">value = [17, 80]</text>\n<text text-anchor=\"middle\" x=\"4272.5\" y=\"-468.8\" font-family=\"Helvetica,sans-Serif\" font-size=\"14.00\">class = sim</text>\n</g>\n<!-- 96&#45;&gt;110 -->\n<g id=\"edge110\" class=\"edge\">\n<title>96&#45;&gt;110</title>\n<path fill=\"none\" stroke=\"black\" d=\"M4206.54,-579.91C4214.38,-570.83 4222.76,-561.12 4230.83,-551.77\"/>\n<polygon fill=\"black\" stroke=\"black\" points=\"4233.64,-553.88 4237.52,-544.02 4228.34,-549.3 4233.64,-553.88\"/>\n</g>\n<!-- 98 -->\n<g id=\"node99\" class=\"node\">\n<title>98</title>\n<path fill=\"#55abe9\" stroke=\"black\" d=\"M3922,-425C3922,-425 3807,-425 3807,-425 3801,-425 3795,-419 3795,-413 3795,-413 3795,-354 3795,-354 3795,-348 3801,-342 3807,-342 3807,-342 3922,-342 3922,-342 3928,-342 3934,-348 3934,-354 3934,-354 3934,-413 3934,-413 3934,-419 3928,-425 3922,-425\"/>\n<text text-anchor=\"middle\" x=\"3864.5\" y=\"-409.8\" font-family=\"Helvetica,sans-Serif\" font-size=\"14.00\">preco &lt;= 41210.34</text>\n<text text-anchor=\"middle\" x=\"3864.5\" y=\"-394.8\" font-family=\"Helvetica,sans-Serif\" font-size=\"14.00\">gini = 0.219</text>\n<text text-anchor=\"middle\" x=\"3864.5\" y=\"-379.8\" font-family=\"Helvetica,sans-Serif\" font-size=\"14.00\">samples = 8</text>\n<text text-anchor=\"middle\" x=\"3864.5\" y=\"-364.8\" font-family=\"Helvetica,sans-Serif\" font-size=\"14.00\">value = [1, 7]</text>\n<text text-anchor=\"middle\" x=\"3864.5\" y=\"-349.8\" font-family=\"Helvetica,sans-Serif\" font-size=\"14.00\">class = sim</text>\n</g>\n<!-- 97&#45;&gt;98 -->\n<g id=\"edge98\" class=\"edge\">\n<title>97&#45;&gt;98</title>\n<path fill=\"none\" stroke=\"black\" d=\"M3995.76,-460.91C3978.77,-451.02 3960.48,-440.37 3943.1,-430.25\"/>\n<polygon fill=\"black\" stroke=\"black\" points=\"3944.52,-427.03 3934.11,-425.02 3940.99,-433.08 3944.52,-427.03\"/>\n</g>\n<!-- 103 -->\n<g id=\"node104\" class=\"node\">\n<title>103</title>\n<path fill=\"#f0b78e\" stroke=\"black\" d=\"M4146,-425C4146,-425 3985,-425 3985,-425 3979,-425 3973,-419 3973,-413 3973,-413 3973,-354 3973,-354 3973,-348 3979,-342 3985,-342 3985,-342 4146,-342 4146,-342 4152,-342 4158,-348 4158,-354 4158,-354 4158,-413 4158,-413 4158,-419 4152,-425 4146,-425\"/>\n<text text-anchor=\"middle\" x=\"4065.5\" y=\"-409.8\" font-family=\"Helvetica,sans-Serif\" font-size=\"14.00\">idade_do_modelo &lt;= 18.5</text>\n<text text-anchor=\"middle\" x=\"4065.5\" y=\"-394.8\" font-family=\"Helvetica,sans-Serif\" font-size=\"14.00\">gini = 0.42</text>\n<text text-anchor=\"middle\" x=\"4065.5\" y=\"-379.8\" font-family=\"Helvetica,sans-Serif\" font-size=\"14.00\">samples = 10</text>\n<text text-anchor=\"middle\" x=\"4065.5\" y=\"-364.8\" font-family=\"Helvetica,sans-Serif\" font-size=\"14.00\">value = [7, 3]</text>\n<text text-anchor=\"middle\" x=\"4065.5\" y=\"-349.8\" font-family=\"Helvetica,sans-Serif\" font-size=\"14.00\">class = não</text>\n</g>\n<!-- 97&#45;&gt;103 -->\n<g id=\"edge103\" class=\"edge\">\n<title>97&#45;&gt;103</title>\n<path fill=\"none\" stroke=\"black\" d=\"M4065.5,-460.91C4065.5,-452.65 4065.5,-443.86 4065.5,-435.3\"/>\n<polygon fill=\"black\" stroke=\"black\" points=\"4069,-435.02 4065.5,-425.02 4062,-435.02 4069,-435.02\"/>\n</g>\n<!-- 99 -->\n<g id=\"node100\" class=\"node\">\n<title>99</title>\n<path fill=\"#ffffff\" stroke=\"black\" d=\"M3786,-306C3786,-306 3625,-306 3625,-306 3619,-306 3613,-300 3613,-294 3613,-294 3613,-235 3613,-235 3613,-229 3619,-223 3625,-223 3625,-223 3786,-223 3786,-223 3792,-223 3798,-229 3798,-235 3798,-235 3798,-294 3798,-294 3798,-300 3792,-306 3786,-306\"/>\n<text text-anchor=\"middle\" x=\"3705.5\" y=\"-290.8\" font-family=\"Helvetica,sans-Serif\" font-size=\"14.00\">idade_do_modelo &lt;= 12.5</text>\n<text text-anchor=\"middle\" x=\"3705.5\" y=\"-275.8\" font-family=\"Helvetica,sans-Serif\" font-size=\"14.00\">gini = 0.5</text>\n<text text-anchor=\"middle\" x=\"3705.5\" y=\"-260.8\" font-family=\"Helvetica,sans-Serif\" font-size=\"14.00\">samples = 2</text>\n<text text-anchor=\"middle\" x=\"3705.5\" y=\"-245.8\" font-family=\"Helvetica,sans-Serif\" font-size=\"14.00\">value = [1, 1]</text>\n<text text-anchor=\"middle\" x=\"3705.5\" y=\"-230.8\" font-family=\"Helvetica,sans-Serif\" font-size=\"14.00\">class = não</text>\n</g>\n<!-- 98&#45;&gt;99 -->\n<g id=\"edge99\" class=\"edge\">\n<title>98&#45;&gt;99</title>\n<path fill=\"none\" stroke=\"black\" d=\"M3809.34,-341.91C3796.26,-332.29 3782.22,-321.95 3768.82,-312.09\"/>\n<polygon fill=\"black\" stroke=\"black\" points=\"3770.7,-309.13 3760.57,-306.02 3766.55,-314.77 3770.7,-309.13\"/>\n</g>\n<!-- 102 -->\n<g id=\"node103\" class=\"node\">\n<title>102</title>\n<path fill=\"#399de5\" stroke=\"black\" d=\"M3901,-298.5C3901,-298.5 3828,-298.5 3828,-298.5 3822,-298.5 3816,-292.5 3816,-286.5 3816,-286.5 3816,-242.5 3816,-242.5 3816,-236.5 3822,-230.5 3828,-230.5 3828,-230.5 3901,-230.5 3901,-230.5 3907,-230.5 3913,-236.5 3913,-242.5 3913,-242.5 3913,-286.5 3913,-286.5 3913,-292.5 3907,-298.5 3901,-298.5\"/>\n<text text-anchor=\"middle\" x=\"3864.5\" y=\"-283.3\" font-family=\"Helvetica,sans-Serif\" font-size=\"14.00\">gini = 0.0</text>\n<text text-anchor=\"middle\" x=\"3864.5\" y=\"-268.3\" font-family=\"Helvetica,sans-Serif\" font-size=\"14.00\">samples = 6</text>\n<text text-anchor=\"middle\" x=\"3864.5\" y=\"-253.3\" font-family=\"Helvetica,sans-Serif\" font-size=\"14.00\">value = [0, 6]</text>\n<text text-anchor=\"middle\" x=\"3864.5\" y=\"-238.3\" font-family=\"Helvetica,sans-Serif\" font-size=\"14.00\">class = sim</text>\n</g>\n<!-- 98&#45;&gt;102 -->\n<g id=\"edge102\" class=\"edge\">\n<title>98&#45;&gt;102</title>\n<path fill=\"none\" stroke=\"black\" d=\"M3864.5,-341.91C3864.5,-331.2 3864.5,-319.62 3864.5,-308.78\"/>\n<polygon fill=\"black\" stroke=\"black\" points=\"3868,-308.67 3864.5,-298.67 3861,-308.67 3868,-308.67\"/>\n</g>\n<!-- 100 -->\n<g id=\"node101\" class=\"node\">\n<title>100</title>\n<path fill=\"#e58139\" stroke=\"black\" d=\"M3742,-179.5C3742,-179.5 3669,-179.5 3669,-179.5 3663,-179.5 3657,-173.5 3657,-167.5 3657,-167.5 3657,-123.5 3657,-123.5 3657,-117.5 3663,-111.5 3669,-111.5 3669,-111.5 3742,-111.5 3742,-111.5 3748,-111.5 3754,-117.5 3754,-123.5 3754,-123.5 3754,-167.5 3754,-167.5 3754,-173.5 3748,-179.5 3742,-179.5\"/>\n<text text-anchor=\"middle\" x=\"3705.5\" y=\"-164.3\" font-family=\"Helvetica,sans-Serif\" font-size=\"14.00\">gini = 0.0</text>\n<text text-anchor=\"middle\" x=\"3705.5\" y=\"-149.3\" font-family=\"Helvetica,sans-Serif\" font-size=\"14.00\">samples = 1</text>\n<text text-anchor=\"middle\" x=\"3705.5\" y=\"-134.3\" font-family=\"Helvetica,sans-Serif\" font-size=\"14.00\">value = [1, 0]</text>\n<text text-anchor=\"middle\" x=\"3705.5\" y=\"-119.3\" font-family=\"Helvetica,sans-Serif\" font-size=\"14.00\">class = não</text>\n</g>\n<!-- 99&#45;&gt;100 -->\n<g id=\"edge100\" class=\"edge\">\n<title>99&#45;&gt;100</title>\n<path fill=\"none\" stroke=\"black\" d=\"M3705.5,-222.91C3705.5,-212.2 3705.5,-200.62 3705.5,-189.78\"/>\n<polygon fill=\"black\" stroke=\"black\" points=\"3709,-189.67 3705.5,-179.67 3702,-189.67 3709,-189.67\"/>\n</g>\n<!-- 101 -->\n<g id=\"node102\" class=\"node\">\n<title>101</title>\n<path fill=\"#399de5\" stroke=\"black\" d=\"M3857,-179.5C3857,-179.5 3784,-179.5 3784,-179.5 3778,-179.5 3772,-173.5 3772,-167.5 3772,-167.5 3772,-123.5 3772,-123.5 3772,-117.5 3778,-111.5 3784,-111.5 3784,-111.5 3857,-111.5 3857,-111.5 3863,-111.5 3869,-117.5 3869,-123.5 3869,-123.5 3869,-167.5 3869,-167.5 3869,-173.5 3863,-179.5 3857,-179.5\"/>\n<text text-anchor=\"middle\" x=\"3820.5\" y=\"-164.3\" font-family=\"Helvetica,sans-Serif\" font-size=\"14.00\">gini = 0.0</text>\n<text text-anchor=\"middle\" x=\"3820.5\" y=\"-149.3\" font-family=\"Helvetica,sans-Serif\" font-size=\"14.00\">samples = 1</text>\n<text text-anchor=\"middle\" x=\"3820.5\" y=\"-134.3\" font-family=\"Helvetica,sans-Serif\" font-size=\"14.00\">value = [0, 1]</text>\n<text text-anchor=\"middle\" x=\"3820.5\" y=\"-119.3\" font-family=\"Helvetica,sans-Serif\" font-size=\"14.00\">class = sim</text>\n</g>\n<!-- 99&#45;&gt;101 -->\n<g id=\"edge101\" class=\"edge\">\n<title>99&#45;&gt;101</title>\n<path fill=\"none\" stroke=\"black\" d=\"M3745.4,-222.91C3756.79,-211.32 3769.19,-198.7 3780.58,-187.11\"/>\n<polygon fill=\"black\" stroke=\"black\" points=\"3783.39,-189.25 3787.9,-179.67 3778.39,-184.35 3783.39,-189.25\"/>\n</g>\n<!-- 104 -->\n<g id=\"node105\" class=\"node\">\n<title>104</title>\n<path fill=\"#e58139\" stroke=\"black\" d=\"M4016,-298.5C4016,-298.5 3943,-298.5 3943,-298.5 3937,-298.5 3931,-292.5 3931,-286.5 3931,-286.5 3931,-242.5 3931,-242.5 3931,-236.5 3937,-230.5 3943,-230.5 3943,-230.5 4016,-230.5 4016,-230.5 4022,-230.5 4028,-236.5 4028,-242.5 4028,-242.5 4028,-286.5 4028,-286.5 4028,-292.5 4022,-298.5 4016,-298.5\"/>\n<text text-anchor=\"middle\" x=\"3979.5\" y=\"-283.3\" font-family=\"Helvetica,sans-Serif\" font-size=\"14.00\">gini = 0.0</text>\n<text text-anchor=\"middle\" x=\"3979.5\" y=\"-268.3\" font-family=\"Helvetica,sans-Serif\" font-size=\"14.00\">samples = 4</text>\n<text text-anchor=\"middle\" x=\"3979.5\" y=\"-253.3\" font-family=\"Helvetica,sans-Serif\" font-size=\"14.00\">value = [4, 0]</text>\n<text text-anchor=\"middle\" x=\"3979.5\" y=\"-238.3\" font-family=\"Helvetica,sans-Serif\" font-size=\"14.00\">class = não</text>\n</g>\n<!-- 103&#45;&gt;104 -->\n<g id=\"edge104\" class=\"edge\">\n<title>103&#45;&gt;104</title>\n<path fill=\"none\" stroke=\"black\" d=\"M4035.66,-341.91C4027.31,-330.54 4018.22,-318.18 4009.84,-306.77\"/>\n<polygon fill=\"black\" stroke=\"black\" points=\"4012.62,-304.65 4003.88,-298.67 4006.98,-308.8 4012.62,-304.65\"/>\n</g>\n<!-- 105 -->\n<g id=\"node106\" class=\"node\">\n<title>105</title>\n<path fill=\"#ffffff\" stroke=\"black\" d=\"M4224.5,-306C4224.5,-306 4058.5,-306 4058.5,-306 4052.5,-306 4046.5,-300 4046.5,-294 4046.5,-294 4046.5,-235 4046.5,-235 4046.5,-229 4052.5,-223 4058.5,-223 4058.5,-223 4224.5,-223 4224.5,-223 4230.5,-223 4236.5,-229 4236.5,-235 4236.5,-235 4236.5,-294 4236.5,-294 4236.5,-300 4230.5,-306 4224.5,-306\"/>\n<text text-anchor=\"middle\" x=\"4141.5\" y=\"-290.8\" font-family=\"Helvetica,sans-Serif\" font-size=\"14.00\">km_por_ano &lt;= 38652.324</text>\n<text text-anchor=\"middle\" x=\"4141.5\" y=\"-275.8\" font-family=\"Helvetica,sans-Serif\" font-size=\"14.00\">gini = 0.5</text>\n<text text-anchor=\"middle\" x=\"4141.5\" y=\"-260.8\" font-family=\"Helvetica,sans-Serif\" font-size=\"14.00\">samples = 6</text>\n<text text-anchor=\"middle\" x=\"4141.5\" y=\"-245.8\" font-family=\"Helvetica,sans-Serif\" font-size=\"14.00\">value = [3, 3]</text>\n<text text-anchor=\"middle\" x=\"4141.5\" y=\"-230.8\" font-family=\"Helvetica,sans-Serif\" font-size=\"14.00\">class = não</text>\n</g>\n<!-- 103&#45;&gt;105 -->\n<g id=\"edge105\" class=\"edge\">\n<title>103&#45;&gt;105</title>\n<path fill=\"none\" stroke=\"black\" d=\"M4091.87,-341.91C4097.59,-333.1 4103.69,-323.7 4109.6,-314.61\"/>\n<polygon fill=\"black\" stroke=\"black\" points=\"4112.67,-316.31 4115.18,-306.02 4106.8,-312.5 4112.67,-316.31\"/>\n</g>\n<!-- 106 -->\n<g id=\"node107\" class=\"node\">\n<title>106</title>\n<path fill=\"#e58139\" stroke=\"black\" d=\"M3972,-179.5C3972,-179.5 3899,-179.5 3899,-179.5 3893,-179.5 3887,-173.5 3887,-167.5 3887,-167.5 3887,-123.5 3887,-123.5 3887,-117.5 3893,-111.5 3899,-111.5 3899,-111.5 3972,-111.5 3972,-111.5 3978,-111.5 3984,-117.5 3984,-123.5 3984,-123.5 3984,-167.5 3984,-167.5 3984,-173.5 3978,-179.5 3972,-179.5\"/>\n<text text-anchor=\"middle\" x=\"3935.5\" y=\"-164.3\" font-family=\"Helvetica,sans-Serif\" font-size=\"14.00\">gini = 0.0</text>\n<text text-anchor=\"middle\" x=\"3935.5\" y=\"-149.3\" font-family=\"Helvetica,sans-Serif\" font-size=\"14.00\">samples = 2</text>\n<text text-anchor=\"middle\" x=\"3935.5\" y=\"-134.3\" font-family=\"Helvetica,sans-Serif\" font-size=\"14.00\">value = [2, 0]</text>\n<text text-anchor=\"middle\" x=\"3935.5\" y=\"-119.3\" font-family=\"Helvetica,sans-Serif\" font-size=\"14.00\">class = não</text>\n</g>\n<!-- 105&#45;&gt;106 -->\n<g id=\"edge106\" class=\"edge\">\n<title>105&#45;&gt;106</title>\n<path fill=\"none\" stroke=\"black\" d=\"M4058.24,-222.91C4036.83,-211.82 4014.05,-199.41 3993.5,-187 3992.41,-186.34 3991.31,-185.67 3990.2,-184.98\"/>\n<polygon fill=\"black\" stroke=\"black\" points=\"3991.99,-181.97 3981.68,-179.55 3988.23,-187.87 3991.99,-181.97\"/>\n</g>\n<!-- 107 -->\n<g id=\"node108\" class=\"node\">\n<title>107</title>\n<path fill=\"#7bbeee\" stroke=\"black\" d=\"M4180.5,-187C4180.5,-187 4014.5,-187 4014.5,-187 4008.5,-187 4002.5,-181 4002.5,-175 4002.5,-175 4002.5,-116 4002.5,-116 4002.5,-110 4008.5,-104 4014.5,-104 4014.5,-104 4180.5,-104 4180.5,-104 4186.5,-104 4192.5,-110 4192.5,-116 4192.5,-116 4192.5,-175 4192.5,-175 4192.5,-181 4186.5,-187 4180.5,-187\"/>\n<text text-anchor=\"middle\" x=\"4097.5\" y=\"-171.8\" font-family=\"Helvetica,sans-Serif\" font-size=\"14.00\">km_por_ano &lt;= 54714.342</text>\n<text text-anchor=\"middle\" x=\"4097.5\" y=\"-156.8\" font-family=\"Helvetica,sans-Serif\" font-size=\"14.00\">gini = 0.375</text>\n<text text-anchor=\"middle\" x=\"4097.5\" y=\"-141.8\" font-family=\"Helvetica,sans-Serif\" font-size=\"14.00\">samples = 4</text>\n<text text-anchor=\"middle\" x=\"4097.5\" y=\"-126.8\" font-family=\"Helvetica,sans-Serif\" font-size=\"14.00\">value = [1, 3]</text>\n<text text-anchor=\"middle\" x=\"4097.5\" y=\"-111.8\" font-family=\"Helvetica,sans-Serif\" font-size=\"14.00\">class = sim</text>\n</g>\n<!-- 105&#45;&gt;107 -->\n<g id=\"edge107\" class=\"edge\">\n<title>105&#45;&gt;107</title>\n<path fill=\"none\" stroke=\"black\" d=\"M4126.23,-222.91C4123.03,-214.38 4119.61,-205.28 4116.29,-196.46\"/>\n<polygon fill=\"black\" stroke=\"black\" points=\"4119.53,-195.15 4112.74,-187.02 4112.98,-197.61 4119.53,-195.15\"/>\n</g>\n<!-- 108 -->\n<g id=\"node109\" class=\"node\">\n<title>108</title>\n<path fill=\"#399de5\" stroke=\"black\" d=\"M4071,-68C4071,-68 3998,-68 3998,-68 3992,-68 3986,-62 3986,-56 3986,-56 3986,-12 3986,-12 3986,-6 3992,0 3998,0 3998,0 4071,0 4071,0 4077,0 4083,-6 4083,-12 4083,-12 4083,-56 4083,-56 4083,-62 4077,-68 4071,-68\"/>\n<text text-anchor=\"middle\" x=\"4034.5\" y=\"-52.8\" font-family=\"Helvetica,sans-Serif\" font-size=\"14.00\">gini = 0.0</text>\n<text text-anchor=\"middle\" x=\"4034.5\" y=\"-37.8\" font-family=\"Helvetica,sans-Serif\" font-size=\"14.00\">samples = 3</text>\n<text text-anchor=\"middle\" x=\"4034.5\" y=\"-22.8\" font-family=\"Helvetica,sans-Serif\" font-size=\"14.00\">value = [0, 3]</text>\n<text text-anchor=\"middle\" x=\"4034.5\" y=\"-7.8\" font-family=\"Helvetica,sans-Serif\" font-size=\"14.00\">class = sim</text>\n</g>\n<!-- 107&#45;&gt;108 -->\n<g id=\"edge108\" class=\"edge\">\n<title>107&#45;&gt;108</title>\n<path fill=\"none\" stroke=\"black\" d=\"M4074.04,-103.73C4069.06,-95.06 4063.78,-85.9 4058.77,-77.18\"/>\n<polygon fill=\"black\" stroke=\"black\" points=\"4061.68,-75.22 4053.66,-68.3 4055.61,-78.71 4061.68,-75.22\"/>\n</g>\n<!-- 109 -->\n<g id=\"node110\" class=\"node\">\n<title>109</title>\n<path fill=\"#e58139\" stroke=\"black\" d=\"M4186,-68C4186,-68 4113,-68 4113,-68 4107,-68 4101,-62 4101,-56 4101,-56 4101,-12 4101,-12 4101,-6 4107,0 4113,0 4113,0 4186,0 4186,0 4192,0 4198,-6 4198,-12 4198,-12 4198,-56 4198,-56 4198,-62 4192,-68 4186,-68\"/>\n<text text-anchor=\"middle\" x=\"4149.5\" y=\"-52.8\" font-family=\"Helvetica,sans-Serif\" font-size=\"14.00\">gini = 0.0</text>\n<text text-anchor=\"middle\" x=\"4149.5\" y=\"-37.8\" font-family=\"Helvetica,sans-Serif\" font-size=\"14.00\">samples = 1</text>\n<text text-anchor=\"middle\" x=\"4149.5\" y=\"-22.8\" font-family=\"Helvetica,sans-Serif\" font-size=\"14.00\">value = [1, 0]</text>\n<text text-anchor=\"middle\" x=\"4149.5\" y=\"-7.8\" font-family=\"Helvetica,sans-Serif\" font-size=\"14.00\">class = não</text>\n</g>\n<!-- 107&#45;&gt;109 -->\n<g id=\"edge109\" class=\"edge\">\n<title>107&#45;&gt;109</title>\n<path fill=\"none\" stroke=\"black\" d=\"M4116.86,-103.73C4120.93,-95.15 4125.24,-86.09 4129.34,-77.46\"/>\n<polygon fill=\"black\" stroke=\"black\" points=\"4132.56,-78.83 4133.69,-68.3 4126.24,-75.83 4132.56,-78.83\"/>\n</g>\n<!-- 111 -->\n<g id=\"node112\" class=\"node\">\n<title>111</title>\n<path fill=\"#e58139\" stroke=\"black\" d=\"M4309,-417.5C4309,-417.5 4236,-417.5 4236,-417.5 4230,-417.5 4224,-411.5 4224,-405.5 4224,-405.5 4224,-361.5 4224,-361.5 4224,-355.5 4230,-349.5 4236,-349.5 4236,-349.5 4309,-349.5 4309,-349.5 4315,-349.5 4321,-355.5 4321,-361.5 4321,-361.5 4321,-405.5 4321,-405.5 4321,-411.5 4315,-417.5 4309,-417.5\"/>\n<text text-anchor=\"middle\" x=\"4272.5\" y=\"-402.3\" font-family=\"Helvetica,sans-Serif\" font-size=\"14.00\">gini = 0.0</text>\n<text text-anchor=\"middle\" x=\"4272.5\" y=\"-387.3\" font-family=\"Helvetica,sans-Serif\" font-size=\"14.00\">samples = 1</text>\n<text text-anchor=\"middle\" x=\"4272.5\" y=\"-372.3\" font-family=\"Helvetica,sans-Serif\" font-size=\"14.00\">value = [1, 0]</text>\n<text text-anchor=\"middle\" x=\"4272.5\" y=\"-357.3\" font-family=\"Helvetica,sans-Serif\" font-size=\"14.00\">class = não</text>\n</g>\n<!-- 110&#45;&gt;111 -->\n<g id=\"edge111\" class=\"edge\">\n<title>110&#45;&gt;111</title>\n<path fill=\"none\" stroke=\"black\" d=\"M4272.5,-460.91C4272.5,-450.2 4272.5,-438.62 4272.5,-427.78\"/>\n<polygon fill=\"black\" stroke=\"black\" points=\"4276,-427.67 4272.5,-417.67 4269,-427.67 4276,-427.67\"/>\n</g>\n<!-- 112 -->\n<g id=\"node113\" class=\"node\">\n<title>112</title>\n<path fill=\"#61b1ea\" stroke=\"black\" d=\"M4480,-425C4480,-425 4357,-425 4357,-425 4351,-425 4345,-419 4345,-413 4345,-413 4345,-354 4345,-354 4345,-348 4351,-342 4357,-342 4357,-342 4480,-342 4480,-342 4486,-342 4492,-348 4492,-354 4492,-354 4492,-413 4492,-413 4492,-419 4486,-425 4480,-425\"/>\n<text text-anchor=\"middle\" x=\"4418.5\" y=\"-409.8\" font-family=\"Helvetica,sans-Serif\" font-size=\"14.00\">preco &lt;= 45847.865</text>\n<text text-anchor=\"middle\" x=\"4418.5\" y=\"-394.8\" font-family=\"Helvetica,sans-Serif\" font-size=\"14.00\">gini = 0.278</text>\n<text text-anchor=\"middle\" x=\"4418.5\" y=\"-379.8\" font-family=\"Helvetica,sans-Serif\" font-size=\"14.00\">samples = 96</text>\n<text text-anchor=\"middle\" x=\"4418.5\" y=\"-364.8\" font-family=\"Helvetica,sans-Serif\" font-size=\"14.00\">value = [16, 80]</text>\n<text text-anchor=\"middle\" x=\"4418.5\" y=\"-349.8\" font-family=\"Helvetica,sans-Serif\" font-size=\"14.00\">class = sim</text>\n</g>\n<!-- 110&#45;&gt;112 -->\n<g id=\"edge112\" class=\"edge\">\n<title>110&#45;&gt;112</title>\n<path fill=\"none\" stroke=\"black\" d=\"M4323.15,-460.91C4335.04,-451.38 4347.81,-441.15 4360.01,-431.37\"/>\n<polygon fill=\"black\" stroke=\"black\" points=\"4362.32,-434.01 4367.94,-425.02 4357.94,-428.54 4362.32,-434.01\"/>\n</g>\n<!-- 113 -->\n<g id=\"node114\" class=\"node\">\n<title>113</title>\n<path fill=\"#41a1e6\" stroke=\"black\" d=\"M4499,-306C4499,-306 4338,-306 4338,-306 4332,-306 4326,-300 4326,-294 4326,-294 4326,-235 4326,-235 4326,-229 4332,-223 4338,-223 4338,-223 4499,-223 4499,-223 4505,-223 4511,-229 4511,-235 4511,-235 4511,-294 4511,-294 4511,-300 4505,-306 4499,-306\"/>\n<text text-anchor=\"middle\" x=\"4418.5\" y=\"-290.8\" font-family=\"Helvetica,sans-Serif\" font-size=\"14.00\">idade_do_modelo &lt;= 15.5</text>\n<text text-anchor=\"middle\" x=\"4418.5\" y=\"-275.8\" font-family=\"Helvetica,sans-Serif\" font-size=\"14.00\">gini = 0.071</text>\n<text text-anchor=\"middle\" x=\"4418.5\" y=\"-260.8\" font-family=\"Helvetica,sans-Serif\" font-size=\"14.00\">samples = 27</text>\n<text text-anchor=\"middle\" x=\"4418.5\" y=\"-245.8\" font-family=\"Helvetica,sans-Serif\" font-size=\"14.00\">value = [1, 26]</text>\n<text text-anchor=\"middle\" x=\"4418.5\" y=\"-230.8\" font-family=\"Helvetica,sans-Serif\" font-size=\"14.00\">class = sim</text>\n</g>\n<!-- 112&#45;&gt;113 -->\n<g id=\"edge113\" class=\"edge\">\n<title>112&#45;&gt;113</title>\n<path fill=\"none\" stroke=\"black\" d=\"M4418.5,-341.91C4418.5,-333.65 4418.5,-324.86 4418.5,-316.3\"/>\n<polygon fill=\"black\" stroke=\"black\" points=\"4422,-316.02 4418.5,-306.02 4415,-316.02 4422,-316.02\"/>\n</g>\n<!-- 118 -->\n<g id=\"node119\" class=\"node\">\n<title>118</title>\n<path fill=\"#70b8ec\" stroke=\"black\" d=\"M4697,-306C4697,-306 4574,-306 4574,-306 4568,-306 4562,-300 4562,-294 4562,-294 4562,-235 4562,-235 4562,-229 4568,-223 4574,-223 4574,-223 4697,-223 4697,-223 4703,-223 4709,-229 4709,-235 4709,-235 4709,-294 4709,-294 4709,-300 4703,-306 4697,-306\"/>\n<text text-anchor=\"middle\" x=\"4635.5\" y=\"-290.8\" font-family=\"Helvetica,sans-Serif\" font-size=\"14.00\">preco &lt;= 47537.709</text>\n<text text-anchor=\"middle\" x=\"4635.5\" y=\"-275.8\" font-family=\"Helvetica,sans-Serif\" font-size=\"14.00\">gini = 0.34</text>\n<text text-anchor=\"middle\" x=\"4635.5\" y=\"-260.8\" font-family=\"Helvetica,sans-Serif\" font-size=\"14.00\">samples = 69</text>\n<text text-anchor=\"middle\" x=\"4635.5\" y=\"-245.8\" font-family=\"Helvetica,sans-Serif\" font-size=\"14.00\">value = [15, 54]</text>\n<text text-anchor=\"middle\" x=\"4635.5\" y=\"-230.8\" font-family=\"Helvetica,sans-Serif\" font-size=\"14.00\">class = sim</text>\n</g>\n<!-- 112&#45;&gt;118 -->\n<g id=\"edge118\" class=\"edge\">\n<title>112&#45;&gt;118</title>\n<path fill=\"none\" stroke=\"black\" d=\"M4492.27,-342.73C4511.77,-332.21 4532.94,-320.8 4552.87,-310.05\"/>\n<polygon fill=\"black\" stroke=\"black\" points=\"4554.79,-312.99 4561.93,-305.16 4551.47,-306.83 4554.79,-312.99\"/>\n</g>\n<!-- 114 -->\n<g id=\"node115\" class=\"node\">\n<title>114</title>\n<path fill=\"#399de5\" stroke=\"black\" d=\"M4304,-179.5C4304,-179.5 4223,-179.5 4223,-179.5 4217,-179.5 4211,-173.5 4211,-167.5 4211,-167.5 4211,-123.5 4211,-123.5 4211,-117.5 4217,-111.5 4223,-111.5 4223,-111.5 4304,-111.5 4304,-111.5 4310,-111.5 4316,-117.5 4316,-123.5 4316,-123.5 4316,-167.5 4316,-167.5 4316,-173.5 4310,-179.5 4304,-179.5\"/>\n<text text-anchor=\"middle\" x=\"4263.5\" y=\"-164.3\" font-family=\"Helvetica,sans-Serif\" font-size=\"14.00\">gini = 0.0</text>\n<text text-anchor=\"middle\" x=\"4263.5\" y=\"-149.3\" font-family=\"Helvetica,sans-Serif\" font-size=\"14.00\">samples = 22</text>\n<text text-anchor=\"middle\" x=\"4263.5\" y=\"-134.3\" font-family=\"Helvetica,sans-Serif\" font-size=\"14.00\">value = [0, 22]</text>\n<text text-anchor=\"middle\" x=\"4263.5\" y=\"-119.3\" font-family=\"Helvetica,sans-Serif\" font-size=\"14.00\">class = sim</text>\n</g>\n<!-- 113&#45;&gt;114 -->\n<g id=\"edge114\" class=\"edge\">\n<title>113&#45;&gt;114</title>\n<path fill=\"none\" stroke=\"black\" d=\"M4364.72,-222.91C4348.79,-210.88 4331.37,-197.73 4315.55,-185.79\"/>\n<polygon fill=\"black\" stroke=\"black\" points=\"4317.53,-182.9 4307.44,-179.67 4313.31,-188.49 4317.53,-182.9\"/>\n</g>\n<!-- 115 -->\n<g id=\"node116\" class=\"node\">\n<title>115</title>\n<path fill=\"#6ab6ec\" stroke=\"black\" d=\"M4512.5,-187C4512.5,-187 4346.5,-187 4346.5,-187 4340.5,-187 4334.5,-181 4334.5,-175 4334.5,-175 4334.5,-116 4334.5,-116 4334.5,-110 4340.5,-104 4346.5,-104 4346.5,-104 4512.5,-104 4512.5,-104 4518.5,-104 4524.5,-110 4524.5,-116 4524.5,-116 4524.5,-175 4524.5,-175 4524.5,-181 4518.5,-187 4512.5,-187\"/>\n<text text-anchor=\"middle\" x=\"4429.5\" y=\"-171.8\" font-family=\"Helvetica,sans-Serif\" font-size=\"14.00\">km_por_ano &lt;= 40686.529</text>\n<text text-anchor=\"middle\" x=\"4429.5\" y=\"-156.8\" font-family=\"Helvetica,sans-Serif\" font-size=\"14.00\">gini = 0.32</text>\n<text text-anchor=\"middle\" x=\"4429.5\" y=\"-141.8\" font-family=\"Helvetica,sans-Serif\" font-size=\"14.00\">samples = 5</text>\n<text text-anchor=\"middle\" x=\"4429.5\" y=\"-126.8\" font-family=\"Helvetica,sans-Serif\" font-size=\"14.00\">value = [1, 4]</text>\n<text text-anchor=\"middle\" x=\"4429.5\" y=\"-111.8\" font-family=\"Helvetica,sans-Serif\" font-size=\"14.00\">class = sim</text>\n</g>\n<!-- 113&#45;&gt;115 -->\n<g id=\"edge115\" class=\"edge\">\n<title>113&#45;&gt;115</title>\n<path fill=\"none\" stroke=\"black\" d=\"M4422.32,-222.91C4423.1,-214.56 4423.94,-205.67 4424.75,-197.02\"/>\n<polygon fill=\"black\" stroke=\"black\" points=\"4428.24,-197.3 4425.69,-187.02 4421.27,-196.65 4428.24,-197.3\"/>\n</g>\n<!-- 116 -->\n<g id=\"node117\" class=\"node\">\n<title>116</title>\n<path fill=\"#e58139\" stroke=\"black\" d=\"M4352,-68C4352,-68 4279,-68 4279,-68 4273,-68 4267,-62 4267,-56 4267,-56 4267,-12 4267,-12 4267,-6 4273,0 4279,0 4279,0 4352,0 4352,0 4358,0 4364,-6 4364,-12 4364,-12 4364,-56 4364,-56 4364,-62 4358,-68 4352,-68\"/>\n<text text-anchor=\"middle\" x=\"4315.5\" y=\"-52.8\" font-family=\"Helvetica,sans-Serif\" font-size=\"14.00\">gini = 0.0</text>\n<text text-anchor=\"middle\" x=\"4315.5\" y=\"-37.8\" font-family=\"Helvetica,sans-Serif\" font-size=\"14.00\">samples = 1</text>\n<text text-anchor=\"middle\" x=\"4315.5\" y=\"-22.8\" font-family=\"Helvetica,sans-Serif\" font-size=\"14.00\">value = [1, 0]</text>\n<text text-anchor=\"middle\" x=\"4315.5\" y=\"-7.8\" font-family=\"Helvetica,sans-Serif\" font-size=\"14.00\">class = não</text>\n</g>\n<!-- 115&#45;&gt;116 -->\n<g id=\"edge116\" class=\"edge\">\n<title>115&#45;&gt;116</title>\n<path fill=\"none\" stroke=\"black\" d=\"M4387.05,-103.73C4377.37,-94.42 4367.08,-84.54 4357.42,-75.26\"/>\n<polygon fill=\"black\" stroke=\"black\" points=\"4359.8,-72.7 4350.17,-68.3 4354.96,-77.75 4359.8,-72.7\"/>\n</g>\n<!-- 117 -->\n<g id=\"node118\" class=\"node\">\n<title>117</title>\n<path fill=\"#399de5\" stroke=\"black\" d=\"M4467,-68C4467,-68 4394,-68 4394,-68 4388,-68 4382,-62 4382,-56 4382,-56 4382,-12 4382,-12 4382,-6 4388,0 4394,0 4394,0 4467,0 4467,0 4473,0 4479,-6 4479,-12 4479,-12 4479,-56 4479,-56 4479,-62 4473,-68 4467,-68\"/>\n<text text-anchor=\"middle\" x=\"4430.5\" y=\"-52.8\" font-family=\"Helvetica,sans-Serif\" font-size=\"14.00\">gini = 0.0</text>\n<text text-anchor=\"middle\" x=\"4430.5\" y=\"-37.8\" font-family=\"Helvetica,sans-Serif\" font-size=\"14.00\">samples = 4</text>\n<text text-anchor=\"middle\" x=\"4430.5\" y=\"-22.8\" font-family=\"Helvetica,sans-Serif\" font-size=\"14.00\">value = [0, 4]</text>\n<text text-anchor=\"middle\" x=\"4430.5\" y=\"-7.8\" font-family=\"Helvetica,sans-Serif\" font-size=\"14.00\">class = sim</text>\n</g>\n<!-- 115&#45;&gt;117 -->\n<g id=\"edge117\" class=\"edge\">\n<title>115&#45;&gt;117</title>\n<path fill=\"none\" stroke=\"black\" d=\"M4429.87,-103.73C4429.95,-95.52 4430.03,-86.86 4430.1,-78.56\"/>\n<polygon fill=\"black\" stroke=\"black\" points=\"4433.6,-78.33 4430.2,-68.3 4426.6,-78.27 4433.6,-78.33\"/>\n</g>\n<!-- 119 -->\n<g id=\"node120\" class=\"node\">\n<title>119</title>\n<path fill=\"#b7dbf6\" stroke=\"black\" d=\"M4716,-187C4716,-187 4555,-187 4555,-187 4549,-187 4543,-181 4543,-175 4543,-175 4543,-116 4543,-116 4543,-110 4549,-104 4555,-104 4555,-104 4716,-104 4716,-104 4722,-104 4728,-110 4728,-116 4728,-116 4728,-175 4728,-175 4728,-181 4722,-187 4716,-187\"/>\n<text text-anchor=\"middle\" x=\"4635.5\" y=\"-171.8\" font-family=\"Helvetica,sans-Serif\" font-size=\"14.00\">idade_do_modelo &lt;= 11.0</text>\n<text text-anchor=\"middle\" x=\"4635.5\" y=\"-156.8\" font-family=\"Helvetica,sans-Serif\" font-size=\"14.00\">gini = 0.475</text>\n<text text-anchor=\"middle\" x=\"4635.5\" y=\"-141.8\" font-family=\"Helvetica,sans-Serif\" font-size=\"14.00\">samples = 18</text>\n<text text-anchor=\"middle\" x=\"4635.5\" y=\"-126.8\" font-family=\"Helvetica,sans-Serif\" font-size=\"14.00\">value = [7, 11]</text>\n<text text-anchor=\"middle\" x=\"4635.5\" y=\"-111.8\" font-family=\"Helvetica,sans-Serif\" font-size=\"14.00\">class = sim</text>\n</g>\n<!-- 118&#45;&gt;119 -->\n<g id=\"edge119\" class=\"edge\">\n<title>118&#45;&gt;119</title>\n<path fill=\"none\" stroke=\"black\" d=\"M4635.5,-222.91C4635.5,-214.65 4635.5,-205.86 4635.5,-197.3\"/>\n<polygon fill=\"black\" stroke=\"black\" points=\"4639,-197.02 4635.5,-187.02 4632,-197.02 4639,-197.02\"/>\n</g>\n<!-- 122 -->\n<g id=\"node123\" class=\"node\">\n<title>122</title>\n<path fill=\"#5eafea\" stroke=\"black\" d=\"M4919,-187C4919,-187 4758,-187 4758,-187 4752,-187 4746,-181 4746,-175 4746,-175 4746,-116 4746,-116 4746,-110 4752,-104 4758,-104 4758,-104 4919,-104 4919,-104 4925,-104 4931,-110 4931,-116 4931,-116 4931,-175 4931,-175 4931,-181 4925,-187 4919,-187\"/>\n<text text-anchor=\"middle\" x=\"4838.5\" y=\"-171.8\" font-family=\"Helvetica,sans-Serif\" font-size=\"14.00\">idade_do_modelo &lt;= 17.5</text>\n<text text-anchor=\"middle\" x=\"4838.5\" y=\"-156.8\" font-family=\"Helvetica,sans-Serif\" font-size=\"14.00\">gini = 0.265</text>\n<text text-anchor=\"middle\" x=\"4838.5\" y=\"-141.8\" font-family=\"Helvetica,sans-Serif\" font-size=\"14.00\">samples = 51</text>\n<text text-anchor=\"middle\" x=\"4838.5\" y=\"-126.8\" font-family=\"Helvetica,sans-Serif\" font-size=\"14.00\">value = [8, 43]</text>\n<text text-anchor=\"middle\" x=\"4838.5\" y=\"-111.8\" font-family=\"Helvetica,sans-Serif\" font-size=\"14.00\">class = sim</text>\n</g>\n<!-- 118&#45;&gt;122 -->\n<g id=\"edge122\" class=\"edge\">\n<title>118&#45;&gt;122</title>\n<path fill=\"none\" stroke=\"black\" d=\"M4705.93,-222.91C4723.09,-213.02 4741.57,-202.37 4759.11,-192.25\"/>\n<polygon fill=\"black\" stroke=\"black\" points=\"4761.28,-195.05 4768.19,-187.02 4757.78,-188.98 4761.28,-195.05\"/>\n</g>\n<!-- 120 -->\n<g id=\"node121\" class=\"node\">\n<title>120</title>\n<path fill=\"#e58139\" stroke=\"black\" d=\"M4588,-68C4588,-68 4515,-68 4515,-68 4509,-68 4503,-62 4503,-56 4503,-56 4503,-12 4503,-12 4503,-6 4509,0 4515,0 4515,0 4588,0 4588,0 4594,0 4600,-6 4600,-12 4600,-12 4600,-56 4600,-56 4600,-62 4594,-68 4588,-68\"/>\n<text text-anchor=\"middle\" x=\"4551.5\" y=\"-52.8\" font-family=\"Helvetica,sans-Serif\" font-size=\"14.00\">gini = 0.0</text>\n<text text-anchor=\"middle\" x=\"4551.5\" y=\"-37.8\" font-family=\"Helvetica,sans-Serif\" font-size=\"14.00\">samples = 3</text>\n<text text-anchor=\"middle\" x=\"4551.5\" y=\"-22.8\" font-family=\"Helvetica,sans-Serif\" font-size=\"14.00\">value = [3, 0]</text>\n<text text-anchor=\"middle\" x=\"4551.5\" y=\"-7.8\" font-family=\"Helvetica,sans-Serif\" font-size=\"14.00\">class = não</text>\n</g>\n<!-- 119&#45;&gt;120 -->\n<g id=\"edge120\" class=\"edge\">\n<title>119&#45;&gt;120</title>\n<path fill=\"none\" stroke=\"black\" d=\"M4604.22,-103.73C4597.36,-94.79 4590.1,-85.32 4583.22,-76.36\"/>\n<polygon fill=\"black\" stroke=\"black\" points=\"4585.91,-74.1 4577.04,-68.3 4580.35,-78.36 4585.91,-74.1\"/>\n</g>\n<!-- 121 -->\n<g id=\"node122\" class=\"node\">\n<title>121</title>\n<path fill=\"#81c1ee\" stroke=\"black\" d=\"M4711,-68C4711,-68 4630,-68 4630,-68 4624,-68 4618,-62 4618,-56 4618,-56 4618,-12 4618,-12 4618,-6 4624,0 4630,0 4630,0 4711,0 4711,0 4717,0 4723,-6 4723,-12 4723,-12 4723,-56 4723,-56 4723,-62 4717,-68 4711,-68\"/>\n<text text-anchor=\"middle\" x=\"4670.5\" y=\"-52.8\" font-family=\"Helvetica,sans-Serif\" font-size=\"14.00\">gini = 0.391</text>\n<text text-anchor=\"middle\" x=\"4670.5\" y=\"-37.8\" font-family=\"Helvetica,sans-Serif\" font-size=\"14.00\">samples = 15</text>\n<text text-anchor=\"middle\" x=\"4670.5\" y=\"-22.8\" font-family=\"Helvetica,sans-Serif\" font-size=\"14.00\">value = [4, 11]</text>\n<text text-anchor=\"middle\" x=\"4670.5\" y=\"-7.8\" font-family=\"Helvetica,sans-Serif\" font-size=\"14.00\">class = sim</text>\n</g>\n<!-- 119&#45;&gt;121 -->\n<g id=\"edge121\" class=\"edge\">\n<title>119&#45;&gt;121</title>\n<path fill=\"none\" stroke=\"black\" d=\"M4648.53,-103.73C4651.21,-95.34 4654.05,-86.47 4656.75,-78.01\"/>\n<polygon fill=\"black\" stroke=\"black\" points=\"4660.15,-78.89 4659.86,-68.3 4653.48,-76.76 4660.15,-78.89\"/>\n</g>\n<!-- 123 -->\n<g id=\"node124\" class=\"node\">\n<title>123</title>\n<path fill=\"#4da7e8\" stroke=\"black\" d=\"M4837,-68C4837,-68 4756,-68 4756,-68 4750,-68 4744,-62 4744,-56 4744,-56 4744,-12 4744,-12 4744,-6 4750,0 4756,0 4756,0 4837,0 4837,0 4843,0 4849,-6 4849,-12 4849,-12 4849,-56 4849,-56 4849,-62 4843,-68 4837,-68\"/>\n<text text-anchor=\"middle\" x=\"4796.5\" y=\"-52.8\" font-family=\"Helvetica,sans-Serif\" font-size=\"14.00\">gini = 0.165</text>\n<text text-anchor=\"middle\" x=\"4796.5\" y=\"-37.8\" font-family=\"Helvetica,sans-Serif\" font-size=\"14.00\">samples = 33</text>\n<text text-anchor=\"middle\" x=\"4796.5\" y=\"-22.8\" font-family=\"Helvetica,sans-Serif\" font-size=\"14.00\">value = [3, 30]</text>\n<text text-anchor=\"middle\" x=\"4796.5\" y=\"-7.8\" font-family=\"Helvetica,sans-Serif\" font-size=\"14.00\">class = sim</text>\n</g>\n<!-- 122&#45;&gt;123 -->\n<g id=\"edge123\" class=\"edge\">\n<title>122&#45;&gt;123</title>\n<path fill=\"none\" stroke=\"black\" d=\"M4822.86,-103.73C4819.61,-95.24 4816.17,-86.28 4812.89,-77.73\"/>\n<polygon fill=\"black\" stroke=\"black\" points=\"4816.12,-76.38 4809.27,-68.3 4809.59,-78.89 4816.12,-76.38\"/>\n</g>\n<!-- 124 -->\n<g id=\"node125\" class=\"node\">\n<title>124</title>\n<path fill=\"#85c3ef\" stroke=\"black\" d=\"M4960,-68C4960,-68 4879,-68 4879,-68 4873,-68 4867,-62 4867,-56 4867,-56 4867,-12 4867,-12 4867,-6 4873,0 4879,0 4879,0 4960,0 4960,0 4966,0 4972,-6 4972,-12 4972,-12 4972,-56 4972,-56 4972,-62 4966,-68 4960,-68\"/>\n<text text-anchor=\"middle\" x=\"4919.5\" y=\"-52.8\" font-family=\"Helvetica,sans-Serif\" font-size=\"14.00\">gini = 0.401</text>\n<text text-anchor=\"middle\" x=\"4919.5\" y=\"-37.8\" font-family=\"Helvetica,sans-Serif\" font-size=\"14.00\">samples = 18</text>\n<text text-anchor=\"middle\" x=\"4919.5\" y=\"-22.8\" font-family=\"Helvetica,sans-Serif\" font-size=\"14.00\">value = [5, 13]</text>\n<text text-anchor=\"middle\" x=\"4919.5\" y=\"-7.8\" font-family=\"Helvetica,sans-Serif\" font-size=\"14.00\">class = sim</text>\n</g>\n<!-- 122&#45;&gt;124 -->\n<g id=\"edge124\" class=\"edge\">\n<title>122&#45;&gt;124</title>\n<path fill=\"none\" stroke=\"black\" d=\"M4868.66,-103.73C4875.27,-94.79 4882.28,-85.32 4888.91,-76.36\"/>\n<polygon fill=\"black\" stroke=\"black\" points=\"4891.73,-78.42 4894.87,-68.3 4886.11,-74.26 4891.73,-78.42\"/>\n</g>\n<!-- 126 -->\n<g id=\"node127\" class=\"node\">\n<title>126</title>\n<path fill=\"#f7dac5\" stroke=\"black\" d=\"M5414.5,-544C5414.5,-544 5248.5,-544 5248.5,-544 5242.5,-544 5236.5,-538 5236.5,-532 5236.5,-532 5236.5,-473 5236.5,-473 5236.5,-467 5242.5,-461 5248.5,-461 5248.5,-461 5414.5,-461 5414.5,-461 5420.5,-461 5426.5,-467 5426.5,-473 5426.5,-473 5426.5,-532 5426.5,-532 5426.5,-538 5420.5,-544 5414.5,-544\"/>\n<text text-anchor=\"middle\" x=\"5331.5\" y=\"-528.8\" font-family=\"Helvetica,sans-Serif\" font-size=\"14.00\">km_por_ano &lt;= 46662.812</text>\n<text text-anchor=\"middle\" x=\"5331.5\" y=\"-513.8\" font-family=\"Helvetica,sans-Serif\" font-size=\"14.00\">gini = 0.485</text>\n<text text-anchor=\"middle\" x=\"5331.5\" y=\"-498.8\" font-family=\"Helvetica,sans-Serif\" font-size=\"14.00\">samples = 29</text>\n<text text-anchor=\"middle\" x=\"5331.5\" y=\"-483.8\" font-family=\"Helvetica,sans-Serif\" font-size=\"14.00\">value = [17, 12]</text>\n<text text-anchor=\"middle\" x=\"5331.5\" y=\"-468.8\" font-family=\"Helvetica,sans-Serif\" font-size=\"14.00\">class = não</text>\n</g>\n<!-- 125&#45;&gt;126 -->\n<g id=\"edge126\" class=\"edge\">\n<title>125&#45;&gt;126</title>\n<path fill=\"none\" stroke=\"black\" d=\"M5331.5,-579.91C5331.5,-571.65 5331.5,-562.86 5331.5,-554.3\"/>\n<polygon fill=\"black\" stroke=\"black\" points=\"5335,-554.02 5331.5,-544.02 5328,-554.02 5335,-554.02\"/>\n</g>\n<!-- 137 -->\n<g id=\"node138\" class=\"node\">\n<title>137</title>\n<path fill=\"#6fb8ec\" stroke=\"black\" d=\"M5681.5,-544C5681.5,-544 5515.5,-544 5515.5,-544 5509.5,-544 5503.5,-538 5503.5,-532 5503.5,-532 5503.5,-473 5503.5,-473 5503.5,-467 5509.5,-461 5515.5,-461 5515.5,-461 5681.5,-461 5681.5,-461 5687.5,-461 5693.5,-467 5693.5,-473 5693.5,-473 5693.5,-532 5693.5,-532 5693.5,-538 5687.5,-544 5681.5,-544\"/>\n<text text-anchor=\"middle\" x=\"5598.5\" y=\"-528.8\" font-family=\"Helvetica,sans-Serif\" font-size=\"14.00\">km_por_ano &lt;= 47885.912</text>\n<text text-anchor=\"middle\" x=\"5598.5\" y=\"-513.8\" font-family=\"Helvetica,sans-Serif\" font-size=\"14.00\">gini = 0.337</text>\n<text text-anchor=\"middle\" x=\"5598.5\" y=\"-498.8\" font-family=\"Helvetica,sans-Serif\" font-size=\"14.00\">samples = 28</text>\n<text text-anchor=\"middle\" x=\"5598.5\" y=\"-483.8\" font-family=\"Helvetica,sans-Serif\" font-size=\"14.00\">value = [6, 22]</text>\n<text text-anchor=\"middle\" x=\"5598.5\" y=\"-468.8\" font-family=\"Helvetica,sans-Serif\" font-size=\"14.00\">class = sim</text>\n</g>\n<!-- 125&#45;&gt;137 -->\n<g id=\"edge137\" class=\"edge\">\n<title>125&#45;&gt;137</title>\n<path fill=\"none\" stroke=\"black\" d=\"M5405.17,-588.22C5433.42,-575.84 5466.19,-561.48 5496.63,-548.14\"/>\n<polygon fill=\"black\" stroke=\"black\" points=\"5498.24,-551.26 5505.99,-544.04 5495.43,-544.85 5498.24,-551.26\"/>\n</g>\n<!-- 127 -->\n<g id=\"node128\" class=\"node\">\n<title>127</title>\n<path fill=\"#f1bc96\" stroke=\"black\" d=\"M5333,-425C5333,-425 5172,-425 5172,-425 5166,-425 5160,-419 5160,-413 5160,-413 5160,-354 5160,-354 5160,-348 5166,-342 5172,-342 5172,-342 5333,-342 5333,-342 5339,-342 5345,-348 5345,-354 5345,-354 5345,-413 5345,-413 5345,-419 5339,-425 5333,-425\"/>\n<text text-anchor=\"middle\" x=\"5252.5\" y=\"-409.8\" font-family=\"Helvetica,sans-Serif\" font-size=\"14.00\">idade_do_modelo &lt;= 18.5</text>\n<text text-anchor=\"middle\" x=\"5252.5\" y=\"-394.8\" font-family=\"Helvetica,sans-Serif\" font-size=\"14.00\">gini = 0.435</text>\n<text text-anchor=\"middle\" x=\"5252.5\" y=\"-379.8\" font-family=\"Helvetica,sans-Serif\" font-size=\"14.00\">samples = 25</text>\n<text text-anchor=\"middle\" x=\"5252.5\" y=\"-364.8\" font-family=\"Helvetica,sans-Serif\" font-size=\"14.00\">value = [17, 8]</text>\n<text text-anchor=\"middle\" x=\"5252.5\" y=\"-349.8\" font-family=\"Helvetica,sans-Serif\" font-size=\"14.00\">class = não</text>\n</g>\n<!-- 126&#45;&gt;127 -->\n<g id=\"edge127\" class=\"edge\">\n<title>126&#45;&gt;127</title>\n<path fill=\"none\" stroke=\"black\" d=\"M5304.09,-460.91C5298.09,-452.01 5291.67,-442.51 5285.47,-433.33\"/>\n<polygon fill=\"black\" stroke=\"black\" points=\"5288.36,-431.35 5279.86,-425.02 5282.56,-435.27 5288.36,-431.35\"/>\n</g>\n<!-- 136 -->\n<g id=\"node137\" class=\"node\">\n<title>136</title>\n<path fill=\"#399de5\" stroke=\"black\" d=\"M5448,-417.5C5448,-417.5 5375,-417.5 5375,-417.5 5369,-417.5 5363,-411.5 5363,-405.5 5363,-405.5 5363,-361.5 5363,-361.5 5363,-355.5 5369,-349.5 5375,-349.5 5375,-349.5 5448,-349.5 5448,-349.5 5454,-349.5 5460,-355.5 5460,-361.5 5460,-361.5 5460,-405.5 5460,-405.5 5460,-411.5 5454,-417.5 5448,-417.5\"/>\n<text text-anchor=\"middle\" x=\"5411.5\" y=\"-402.3\" font-family=\"Helvetica,sans-Serif\" font-size=\"14.00\">gini = 0.0</text>\n<text text-anchor=\"middle\" x=\"5411.5\" y=\"-387.3\" font-family=\"Helvetica,sans-Serif\" font-size=\"14.00\">samples = 4</text>\n<text text-anchor=\"middle\" x=\"5411.5\" y=\"-372.3\" font-family=\"Helvetica,sans-Serif\" font-size=\"14.00\">value = [0, 4]</text>\n<text text-anchor=\"middle\" x=\"5411.5\" y=\"-357.3\" font-family=\"Helvetica,sans-Serif\" font-size=\"14.00\">class = sim</text>\n</g>\n<!-- 126&#45;&gt;136 -->\n<g id=\"edge136\" class=\"edge\">\n<title>126&#45;&gt;136</title>\n<path fill=\"none\" stroke=\"black\" d=\"M5359.26,-460.91C5366.95,-449.65 5375.32,-437.42 5383.05,-426.11\"/>\n<polygon fill=\"black\" stroke=\"black\" points=\"5386.07,-427.9 5388.82,-417.67 5380.29,-423.95 5386.07,-427.9\"/>\n</g>\n<!-- 128 -->\n<g id=\"node129\" class=\"node\">\n<title>128</title>\n<path fill=\"#eca06a\" stroke=\"black\" d=\"M5253.5,-306C5253.5,-306 5087.5,-306 5087.5,-306 5081.5,-306 5075.5,-300 5075.5,-294 5075.5,-294 5075.5,-235 5075.5,-235 5075.5,-229 5081.5,-223 5087.5,-223 5087.5,-223 5253.5,-223 5253.5,-223 5259.5,-223 5265.5,-229 5265.5,-235 5265.5,-235 5265.5,-294 5265.5,-294 5265.5,-300 5259.5,-306 5253.5,-306\"/>\n<text text-anchor=\"middle\" x=\"5170.5\" y=\"-290.8\" font-family=\"Helvetica,sans-Serif\" font-size=\"14.00\">km_por_ano &lt;= 41415.561</text>\n<text text-anchor=\"middle\" x=\"5170.5\" y=\"-275.8\" font-family=\"Helvetica,sans-Serif\" font-size=\"14.00\">gini = 0.32</text>\n<text text-anchor=\"middle\" x=\"5170.5\" y=\"-260.8\" font-family=\"Helvetica,sans-Serif\" font-size=\"14.00\">samples = 20</text>\n<text text-anchor=\"middle\" x=\"5170.5\" y=\"-245.8\" font-family=\"Helvetica,sans-Serif\" font-size=\"14.00\">value = [16, 4]</text>\n<text text-anchor=\"middle\" x=\"5170.5\" y=\"-230.8\" font-family=\"Helvetica,sans-Serif\" font-size=\"14.00\">class = não</text>\n</g>\n<!-- 127&#45;&gt;128 -->\n<g id=\"edge128\" class=\"edge\">\n<title>127&#45;&gt;128</title>\n<path fill=\"none\" stroke=\"black\" d=\"M5224.05,-341.91C5217.82,-333.01 5211.16,-323.51 5204.72,-314.33\"/>\n<polygon fill=\"black\" stroke=\"black\" points=\"5207.5,-312.2 5198.9,-306.02 5201.77,-316.22 5207.5,-312.2\"/>\n</g>\n<!-- 133 -->\n<g id=\"node134\" class=\"node\">\n<title>133</title>\n<path fill=\"#6ab6ec\" stroke=\"black\" d=\"M5419,-306C5419,-306 5296,-306 5296,-306 5290,-306 5284,-300 5284,-294 5284,-294 5284,-235 5284,-235 5284,-229 5290,-223 5296,-223 5296,-223 5419,-223 5419,-223 5425,-223 5431,-229 5431,-235 5431,-235 5431,-294 5431,-294 5431,-300 5425,-306 5419,-306\"/>\n<text text-anchor=\"middle\" x=\"5357.5\" y=\"-290.8\" font-family=\"Helvetica,sans-Serif\" font-size=\"14.00\">preco &lt;= 53209.369</text>\n<text text-anchor=\"middle\" x=\"5357.5\" y=\"-275.8\" font-family=\"Helvetica,sans-Serif\" font-size=\"14.00\">gini = 0.32</text>\n<text text-anchor=\"middle\" x=\"5357.5\" y=\"-260.8\" font-family=\"Helvetica,sans-Serif\" font-size=\"14.00\">samples = 5</text>\n<text text-anchor=\"middle\" x=\"5357.5\" y=\"-245.8\" font-family=\"Helvetica,sans-Serif\" font-size=\"14.00\">value = [1, 4]</text>\n<text text-anchor=\"middle\" x=\"5357.5\" y=\"-230.8\" font-family=\"Helvetica,sans-Serif\" font-size=\"14.00\">class = sim</text>\n</g>\n<!-- 127&#45;&gt;133 -->\n<g id=\"edge133\" class=\"edge\">\n<title>127&#45;&gt;133</title>\n<path fill=\"none\" stroke=\"black\" d=\"M5288.93,-341.91C5297.15,-332.74 5305.96,-322.93 5314.43,-313.49\"/>\n<polygon fill=\"black\" stroke=\"black\" points=\"5317.06,-315.8 5321.14,-306.02 5311.85,-311.13 5317.06,-315.8\"/>\n</g>\n<!-- 129 -->\n<g id=\"node130\" class=\"node\">\n<title>129</title>\n<path fill=\"#efb388\" stroke=\"black\" d=\"M5127.5,-187C5127.5,-187 4961.5,-187 4961.5,-187 4955.5,-187 4949.5,-181 4949.5,-175 4949.5,-175 4949.5,-116 4949.5,-116 4949.5,-110 4955.5,-104 4961.5,-104 4961.5,-104 5127.5,-104 5127.5,-104 5133.5,-104 5139.5,-110 5139.5,-116 5139.5,-116 5139.5,-175 5139.5,-175 5139.5,-181 5133.5,-187 5127.5,-187\"/>\n<text text-anchor=\"middle\" x=\"5044.5\" y=\"-171.8\" font-family=\"Helvetica,sans-Serif\" font-size=\"14.00\">km_por_ano &lt;= 41266.697</text>\n<text text-anchor=\"middle\" x=\"5044.5\" y=\"-156.8\" font-family=\"Helvetica,sans-Serif\" font-size=\"14.00\">gini = 0.408</text>\n<text text-anchor=\"middle\" x=\"5044.5\" y=\"-141.8\" font-family=\"Helvetica,sans-Serif\" font-size=\"14.00\">samples = 14</text>\n<text text-anchor=\"middle\" x=\"5044.5\" y=\"-126.8\" font-family=\"Helvetica,sans-Serif\" font-size=\"14.00\">value = [10, 4]</text>\n<text text-anchor=\"middle\" x=\"5044.5\" y=\"-111.8\" font-family=\"Helvetica,sans-Serif\" font-size=\"14.00\">class = não</text>\n</g>\n<!-- 128&#45;&gt;129 -->\n<g id=\"edge129\" class=\"edge\">\n<title>128&#45;&gt;129</title>\n<path fill=\"none\" stroke=\"black\" d=\"M5126.78,-222.91C5116.72,-213.56 5105.93,-203.54 5095.58,-193.93\"/>\n<polygon fill=\"black\" stroke=\"black\" points=\"5097.85,-191.26 5088.14,-187.02 5093.08,-196.39 5097.85,-191.26\"/>\n</g>\n<!-- 132 -->\n<g id=\"node133\" class=\"node\">\n<title>132</title>\n<path fill=\"#e58139\" stroke=\"black\" d=\"M5243,-179.5C5243,-179.5 5170,-179.5 5170,-179.5 5164,-179.5 5158,-173.5 5158,-167.5 5158,-167.5 5158,-123.5 5158,-123.5 5158,-117.5 5164,-111.5 5170,-111.5 5170,-111.5 5243,-111.5 5243,-111.5 5249,-111.5 5255,-117.5 5255,-123.5 5255,-123.5 5255,-167.5 5255,-167.5 5255,-173.5 5249,-179.5 5243,-179.5\"/>\n<text text-anchor=\"middle\" x=\"5206.5\" y=\"-164.3\" font-family=\"Helvetica,sans-Serif\" font-size=\"14.00\">gini = 0.0</text>\n<text text-anchor=\"middle\" x=\"5206.5\" y=\"-149.3\" font-family=\"Helvetica,sans-Serif\" font-size=\"14.00\">samples = 6</text>\n<text text-anchor=\"middle\" x=\"5206.5\" y=\"-134.3\" font-family=\"Helvetica,sans-Serif\" font-size=\"14.00\">value = [6, 0]</text>\n<text text-anchor=\"middle\" x=\"5206.5\" y=\"-119.3\" font-family=\"Helvetica,sans-Serif\" font-size=\"14.00\">class = não</text>\n</g>\n<!-- 128&#45;&gt;132 -->\n<g id=\"edge132\" class=\"edge\">\n<title>128&#45;&gt;132</title>\n<path fill=\"none\" stroke=\"black\" d=\"M5182.99,-222.91C5186.32,-212.09 5189.92,-200.38 5193.29,-189.44\"/>\n<polygon fill=\"black\" stroke=\"black\" points=\"5196.7,-190.25 5196.29,-179.67 5190.01,-188.2 5196.7,-190.25\"/>\n</g>\n<!-- 130 -->\n<g id=\"node131\" class=\"node\">\n<title>130</title>\n<path fill=\"#eda774\" stroke=\"black\" d=\"M5084,-68C5084,-68 5003,-68 5003,-68 4997,-68 4991,-62 4991,-56 4991,-56 4991,-12 4991,-12 4991,-6 4997,0 5003,0 5003,0 5084,0 5084,0 5090,0 5096,-6 5096,-12 5096,-12 5096,-56 5096,-56 5096,-62 5090,-68 5084,-68\"/>\n<text text-anchor=\"middle\" x=\"5043.5\" y=\"-52.8\" font-family=\"Helvetica,sans-Serif\" font-size=\"14.00\">gini = 0.355</text>\n<text text-anchor=\"middle\" x=\"5043.5\" y=\"-37.8\" font-family=\"Helvetica,sans-Serif\" font-size=\"14.00\">samples = 13</text>\n<text text-anchor=\"middle\" x=\"5043.5\" y=\"-22.8\" font-family=\"Helvetica,sans-Serif\" font-size=\"14.00\">value = [10, 3]</text>\n<text text-anchor=\"middle\" x=\"5043.5\" y=\"-7.8\" font-family=\"Helvetica,sans-Serif\" font-size=\"14.00\">class = não</text>\n</g>\n<!-- 129&#45;&gt;130 -->\n<g id=\"edge130\" class=\"edge\">\n<title>129&#45;&gt;130</title>\n<path fill=\"none\" stroke=\"black\" d=\"M5044.13,-103.73C5044.05,-95.52 5043.97,-86.86 5043.9,-78.56\"/>\n<polygon fill=\"black\" stroke=\"black\" points=\"5047.4,-78.27 5043.8,-68.3 5040.4,-78.33 5047.4,-78.27\"/>\n</g>\n<!-- 131 -->\n<g id=\"node132\" class=\"node\">\n<title>131</title>\n<path fill=\"#399de5\" stroke=\"black\" d=\"M5199,-68C5199,-68 5126,-68 5126,-68 5120,-68 5114,-62 5114,-56 5114,-56 5114,-12 5114,-12 5114,-6 5120,0 5126,0 5126,0 5199,0 5199,0 5205,0 5211,-6 5211,-12 5211,-12 5211,-56 5211,-56 5211,-62 5205,-68 5199,-68\"/>\n<text text-anchor=\"middle\" x=\"5162.5\" y=\"-52.8\" font-family=\"Helvetica,sans-Serif\" font-size=\"14.00\">gini = 0.0</text>\n<text text-anchor=\"middle\" x=\"5162.5\" y=\"-37.8\" font-family=\"Helvetica,sans-Serif\" font-size=\"14.00\">samples = 1</text>\n<text text-anchor=\"middle\" x=\"5162.5\" y=\"-22.8\" font-family=\"Helvetica,sans-Serif\" font-size=\"14.00\">value = [0, 1]</text>\n<text text-anchor=\"middle\" x=\"5162.5\" y=\"-7.8\" font-family=\"Helvetica,sans-Serif\" font-size=\"14.00\">class = sim</text>\n</g>\n<!-- 129&#45;&gt;131 -->\n<g id=\"edge131\" class=\"edge\">\n<title>129&#45;&gt;131</title>\n<path fill=\"none\" stroke=\"black\" d=\"M5088.44,-103.73C5098.46,-94.42 5109.11,-84.54 5119.11,-75.26\"/>\n<polygon fill=\"black\" stroke=\"black\" points=\"5121.67,-77.67 5126.62,-68.3 5116.9,-72.54 5121.67,-77.67\"/>\n</g>\n<!-- 134 -->\n<g id=\"node135\" class=\"node\">\n<title>134</title>\n<path fill=\"#e58139\" stroke=\"black\" d=\"M5358,-179.5C5358,-179.5 5285,-179.5 5285,-179.5 5279,-179.5 5273,-173.5 5273,-167.5 5273,-167.5 5273,-123.5 5273,-123.5 5273,-117.5 5279,-111.5 5285,-111.5 5285,-111.5 5358,-111.5 5358,-111.5 5364,-111.5 5370,-117.5 5370,-123.5 5370,-123.5 5370,-167.5 5370,-167.5 5370,-173.5 5364,-179.5 5358,-179.5\"/>\n<text text-anchor=\"middle\" x=\"5321.5\" y=\"-164.3\" font-family=\"Helvetica,sans-Serif\" font-size=\"14.00\">gini = 0.0</text>\n<text text-anchor=\"middle\" x=\"5321.5\" y=\"-149.3\" font-family=\"Helvetica,sans-Serif\" font-size=\"14.00\">samples = 1</text>\n<text text-anchor=\"middle\" x=\"5321.5\" y=\"-134.3\" font-family=\"Helvetica,sans-Serif\" font-size=\"14.00\">value = [1, 0]</text>\n<text text-anchor=\"middle\" x=\"5321.5\" y=\"-119.3\" font-family=\"Helvetica,sans-Serif\" font-size=\"14.00\">class = não</text>\n</g>\n<!-- 133&#45;&gt;134 -->\n<g id=\"edge134\" class=\"edge\">\n<title>133&#45;&gt;134</title>\n<path fill=\"none\" stroke=\"black\" d=\"M5345.01,-222.91C5341.68,-212.09 5338.08,-200.38 5334.71,-189.44\"/>\n<polygon fill=\"black\" stroke=\"black\" points=\"5337.99,-188.2 5331.71,-179.67 5331.3,-190.25 5337.99,-188.2\"/>\n</g>\n<!-- 135 -->\n<g id=\"node136\" class=\"node\">\n<title>135</title>\n<path fill=\"#399de5\" stroke=\"black\" d=\"M5473,-179.5C5473,-179.5 5400,-179.5 5400,-179.5 5394,-179.5 5388,-173.5 5388,-167.5 5388,-167.5 5388,-123.5 5388,-123.5 5388,-117.5 5394,-111.5 5400,-111.5 5400,-111.5 5473,-111.5 5473,-111.5 5479,-111.5 5485,-117.5 5485,-123.5 5485,-123.5 5485,-167.5 5485,-167.5 5485,-173.5 5479,-179.5 5473,-179.5\"/>\n<text text-anchor=\"middle\" x=\"5436.5\" y=\"-164.3\" font-family=\"Helvetica,sans-Serif\" font-size=\"14.00\">gini = 0.0</text>\n<text text-anchor=\"middle\" x=\"5436.5\" y=\"-149.3\" font-family=\"Helvetica,sans-Serif\" font-size=\"14.00\">samples = 4</text>\n<text text-anchor=\"middle\" x=\"5436.5\" y=\"-134.3\" font-family=\"Helvetica,sans-Serif\" font-size=\"14.00\">value = [0, 4]</text>\n<text text-anchor=\"middle\" x=\"5436.5\" y=\"-119.3\" font-family=\"Helvetica,sans-Serif\" font-size=\"14.00\">class = sim</text>\n</g>\n<!-- 133&#45;&gt;135 -->\n<g id=\"edge135\" class=\"edge\">\n<title>133&#45;&gt;135</title>\n<path fill=\"none\" stroke=\"black\" d=\"M5384.91,-222.91C5392.51,-211.65 5400.77,-199.42 5408.41,-188.11\"/>\n<polygon fill=\"black\" stroke=\"black\" points=\"5411.41,-189.91 5414.11,-179.67 5405.61,-186 5411.41,-189.91\"/>\n</g>\n<!-- 138 -->\n<g id=\"node139\" class=\"node\">\n<title>138</title>\n<path fill=\"#66b3eb\" stroke=\"black\" d=\"M5660,-425C5660,-425 5537,-425 5537,-425 5531,-425 5525,-419 5525,-413 5525,-413 5525,-354 5525,-354 5525,-348 5531,-342 5537,-342 5537,-342 5660,-342 5660,-342 5666,-342 5672,-348 5672,-354 5672,-354 5672,-413 5672,-413 5672,-419 5666,-425 5660,-425\"/>\n<text text-anchor=\"middle\" x=\"5598.5\" y=\"-409.8\" font-family=\"Helvetica,sans-Serif\" font-size=\"14.00\">preco &lt;= 58856.904</text>\n<text text-anchor=\"middle\" x=\"5598.5\" y=\"-394.8\" font-family=\"Helvetica,sans-Serif\" font-size=\"14.00\">gini = 0.302</text>\n<text text-anchor=\"middle\" x=\"5598.5\" y=\"-379.8\" font-family=\"Helvetica,sans-Serif\" font-size=\"14.00\">samples = 27</text>\n<text text-anchor=\"middle\" x=\"5598.5\" y=\"-364.8\" font-family=\"Helvetica,sans-Serif\" font-size=\"14.00\">value = [5, 22]</text>\n<text text-anchor=\"middle\" x=\"5598.5\" y=\"-349.8\" font-family=\"Helvetica,sans-Serif\" font-size=\"14.00\">class = sim</text>\n</g>\n<!-- 137&#45;&gt;138 -->\n<g id=\"edge138\" class=\"edge\">\n<title>137&#45;&gt;138</title>\n<path fill=\"none\" stroke=\"black\" d=\"M5598.5,-460.91C5598.5,-452.65 5598.5,-443.86 5598.5,-435.3\"/>\n<polygon fill=\"black\" stroke=\"black\" points=\"5602,-435.02 5598.5,-425.02 5595,-435.02 5602,-435.02\"/>\n</g>\n<!-- 147 -->\n<g id=\"node148\" class=\"node\">\n<title>147</title>\n<path fill=\"#e58139\" stroke=\"black\" d=\"M5775,-417.5C5775,-417.5 5702,-417.5 5702,-417.5 5696,-417.5 5690,-411.5 5690,-405.5 5690,-405.5 5690,-361.5 5690,-361.5 5690,-355.5 5696,-349.5 5702,-349.5 5702,-349.5 5775,-349.5 5775,-349.5 5781,-349.5 5787,-355.5 5787,-361.5 5787,-361.5 5787,-405.5 5787,-405.5 5787,-411.5 5781,-417.5 5775,-417.5\"/>\n<text text-anchor=\"middle\" x=\"5738.5\" y=\"-402.3\" font-family=\"Helvetica,sans-Serif\" font-size=\"14.00\">gini = 0.0</text>\n<text text-anchor=\"middle\" x=\"5738.5\" y=\"-387.3\" font-family=\"Helvetica,sans-Serif\" font-size=\"14.00\">samples = 1</text>\n<text text-anchor=\"middle\" x=\"5738.5\" y=\"-372.3\" font-family=\"Helvetica,sans-Serif\" font-size=\"14.00\">value = [1, 0]</text>\n<text text-anchor=\"middle\" x=\"5738.5\" y=\"-357.3\" font-family=\"Helvetica,sans-Serif\" font-size=\"14.00\">class = não</text>\n</g>\n<!-- 137&#45;&gt;147 -->\n<g id=\"edge147\" class=\"edge\">\n<title>137&#45;&gt;147</title>\n<path fill=\"none\" stroke=\"black\" d=\"M5647.07,-460.91C5661.33,-448.99 5676.91,-435.98 5691.09,-424.12\"/>\n<polygon fill=\"black\" stroke=\"black\" points=\"5693.38,-426.77 5698.81,-417.67 5688.9,-421.39 5693.38,-426.77\"/>\n</g>\n<!-- 139 -->\n<g id=\"node140\" class=\"node\">\n<title>139</title>\n<path fill=\"#80c0ee\" stroke=\"black\" d=\"M5656,-306C5656,-306 5541,-306 5541,-306 5535,-306 5529,-300 5529,-294 5529,-294 5529,-235 5529,-235 5529,-229 5535,-223 5541,-223 5541,-223 5656,-223 5656,-223 5662,-223 5668,-229 5668,-235 5668,-235 5668,-294 5668,-294 5668,-300 5662,-306 5656,-306\"/>\n<text text-anchor=\"middle\" x=\"5598.5\" y=\"-290.8\" font-family=\"Helvetica,sans-Serif\" font-size=\"14.00\">preco &lt;= 58510.74</text>\n<text text-anchor=\"middle\" x=\"5598.5\" y=\"-275.8\" font-family=\"Helvetica,sans-Serif\" font-size=\"14.00\">gini = 0.388</text>\n<text text-anchor=\"middle\" x=\"5598.5\" y=\"-260.8\" font-family=\"Helvetica,sans-Serif\" font-size=\"14.00\">samples = 19</text>\n<text text-anchor=\"middle\" x=\"5598.5\" y=\"-245.8\" font-family=\"Helvetica,sans-Serif\" font-size=\"14.00\">value = [5, 14]</text>\n<text text-anchor=\"middle\" x=\"5598.5\" y=\"-230.8\" font-family=\"Helvetica,sans-Serif\" font-size=\"14.00\">class = sim</text>\n</g>\n<!-- 138&#45;&gt;139 -->\n<g id=\"edge139\" class=\"edge\">\n<title>138&#45;&gt;139</title>\n<path fill=\"none\" stroke=\"black\" d=\"M5598.5,-341.91C5598.5,-333.65 5598.5,-324.86 5598.5,-316.3\"/>\n<polygon fill=\"black\" stroke=\"black\" points=\"5602,-316.02 5598.5,-306.02 5595,-316.02 5602,-316.02\"/>\n</g>\n<!-- 146 -->\n<g id=\"node147\" class=\"node\">\n<title>146</title>\n<path fill=\"#399de5\" stroke=\"black\" d=\"M5771,-298.5C5771,-298.5 5698,-298.5 5698,-298.5 5692,-298.5 5686,-292.5 5686,-286.5 5686,-286.5 5686,-242.5 5686,-242.5 5686,-236.5 5692,-230.5 5698,-230.5 5698,-230.5 5771,-230.5 5771,-230.5 5777,-230.5 5783,-236.5 5783,-242.5 5783,-242.5 5783,-286.5 5783,-286.5 5783,-292.5 5777,-298.5 5771,-298.5\"/>\n<text text-anchor=\"middle\" x=\"5734.5\" y=\"-283.3\" font-family=\"Helvetica,sans-Serif\" font-size=\"14.00\">gini = 0.0</text>\n<text text-anchor=\"middle\" x=\"5734.5\" y=\"-268.3\" font-family=\"Helvetica,sans-Serif\" font-size=\"14.00\">samples = 8</text>\n<text text-anchor=\"middle\" x=\"5734.5\" y=\"-253.3\" font-family=\"Helvetica,sans-Serif\" font-size=\"14.00\">value = [0, 8]</text>\n<text text-anchor=\"middle\" x=\"5734.5\" y=\"-238.3\" font-family=\"Helvetica,sans-Serif\" font-size=\"14.00\">class = sim</text>\n</g>\n<!-- 138&#45;&gt;146 -->\n<g id=\"edge146\" class=\"edge\">\n<title>138&#45;&gt;146</title>\n<path fill=\"none\" stroke=\"black\" d=\"M5645.68,-341.91C5659.41,-330.1 5674.39,-317.22 5688.06,-305.45\"/>\n<polygon fill=\"black\" stroke=\"black\" points=\"5690.65,-307.84 5695.95,-298.67 5686.08,-302.54 5690.65,-307.84\"/>\n</g>\n<!-- 140 -->\n<g id=\"node141\" class=\"node\">\n<title>140</title>\n<path fill=\"#67b4eb\" stroke=\"black\" d=\"M5681.5,-187C5681.5,-187 5515.5,-187 5515.5,-187 5509.5,-187 5503.5,-181 5503.5,-175 5503.5,-175 5503.5,-116 5503.5,-116 5503.5,-110 5509.5,-104 5515.5,-104 5515.5,-104 5681.5,-104 5681.5,-104 5687.5,-104 5693.5,-110 5693.5,-116 5693.5,-116 5693.5,-175 5693.5,-175 5693.5,-181 5687.5,-187 5681.5,-187\"/>\n<text text-anchor=\"middle\" x=\"5598.5\" y=\"-171.8\" font-family=\"Helvetica,sans-Serif\" font-size=\"14.00\">km_por_ano &lt;= 37051.834</text>\n<text text-anchor=\"middle\" x=\"5598.5\" y=\"-156.8\" font-family=\"Helvetica,sans-Serif\" font-size=\"14.00\">gini = 0.305</text>\n<text text-anchor=\"middle\" x=\"5598.5\" y=\"-141.8\" font-family=\"Helvetica,sans-Serif\" font-size=\"14.00\">samples = 16</text>\n<text text-anchor=\"middle\" x=\"5598.5\" y=\"-126.8\" font-family=\"Helvetica,sans-Serif\" font-size=\"14.00\">value = [3, 13]</text>\n<text text-anchor=\"middle\" x=\"5598.5\" y=\"-111.8\" font-family=\"Helvetica,sans-Serif\" font-size=\"14.00\">class = sim</text>\n</g>\n<!-- 139&#45;&gt;140 -->\n<g id=\"edge140\" class=\"edge\">\n<title>139&#45;&gt;140</title>\n<path fill=\"none\" stroke=\"black\" d=\"M5598.5,-222.91C5598.5,-214.65 5598.5,-205.86 5598.5,-197.3\"/>\n<polygon fill=\"black\" stroke=\"black\" points=\"5602,-197.02 5598.5,-187.02 5595,-197.02 5602,-197.02\"/>\n</g>\n<!-- 143 -->\n<g id=\"node144\" class=\"node\">\n<title>143</title>\n<path fill=\"#f2c09c\" stroke=\"black\" d=\"M5885,-187C5885,-187 5724,-187 5724,-187 5718,-187 5712,-181 5712,-175 5712,-175 5712,-116 5712,-116 5712,-110 5718,-104 5724,-104 5724,-104 5885,-104 5885,-104 5891,-104 5897,-110 5897,-116 5897,-116 5897,-175 5897,-175 5897,-181 5891,-187 5885,-187\"/>\n<text text-anchor=\"middle\" x=\"5804.5\" y=\"-171.8\" font-family=\"Helvetica,sans-Serif\" font-size=\"14.00\">idade_do_modelo &lt;= 13.0</text>\n<text text-anchor=\"middle\" x=\"5804.5\" y=\"-156.8\" font-family=\"Helvetica,sans-Serif\" font-size=\"14.00\">gini = 0.444</text>\n<text text-anchor=\"middle\" x=\"5804.5\" y=\"-141.8\" font-family=\"Helvetica,sans-Serif\" font-size=\"14.00\">samples = 3</text>\n<text text-anchor=\"middle\" x=\"5804.5\" y=\"-126.8\" font-family=\"Helvetica,sans-Serif\" font-size=\"14.00\">value = [2, 1]</text>\n<text text-anchor=\"middle\" x=\"5804.5\" y=\"-111.8\" font-family=\"Helvetica,sans-Serif\" font-size=\"14.00\">class = não</text>\n</g>\n<!-- 139&#45;&gt;143 -->\n<g id=\"edge143\" class=\"edge\">\n<title>139&#45;&gt;143</title>\n<path fill=\"none\" stroke=\"black\" d=\"M5668.24,-223.89C5686.28,-213.64 5705.84,-202.53 5724.36,-192.01\"/>\n<polygon fill=\"black\" stroke=\"black\" points=\"5726.11,-195.05 5733.07,-187.07 5722.65,-188.96 5726.11,-195.05\"/>\n</g>\n<!-- 141 -->\n<g id=\"node142\" class=\"node\">\n<title>141</title>\n<path fill=\"#bddef6\" stroke=\"black\" d=\"M5516,-68C5516,-68 5443,-68 5443,-68 5437,-68 5431,-62 5431,-56 5431,-56 5431,-12 5431,-12 5431,-6 5437,0 5443,0 5443,0 5516,0 5516,0 5522,0 5528,-6 5528,-12 5528,-12 5528,-56 5528,-56 5528,-62 5522,-68 5516,-68\"/>\n<text text-anchor=\"middle\" x=\"5479.5\" y=\"-52.8\" font-family=\"Helvetica,sans-Serif\" font-size=\"14.00\">gini = 0.48</text>\n<text text-anchor=\"middle\" x=\"5479.5\" y=\"-37.8\" font-family=\"Helvetica,sans-Serif\" font-size=\"14.00\">samples = 5</text>\n<text text-anchor=\"middle\" x=\"5479.5\" y=\"-22.8\" font-family=\"Helvetica,sans-Serif\" font-size=\"14.00\">value = [2, 3]</text>\n<text text-anchor=\"middle\" x=\"5479.5\" y=\"-7.8\" font-family=\"Helvetica,sans-Serif\" font-size=\"14.00\">class = sim</text>\n</g>\n<!-- 140&#45;&gt;141 -->\n<g id=\"edge141\" class=\"edge\">\n<title>140&#45;&gt;141</title>\n<path fill=\"none\" stroke=\"black\" d=\"M5554.19,-103.73C5544.08,-94.42 5533.34,-84.54 5523.25,-75.26\"/>\n<polygon fill=\"black\" stroke=\"black\" points=\"5525.42,-72.5 5515.69,-68.3 5520.68,-77.65 5525.42,-72.5\"/>\n</g>\n<!-- 142 -->\n<g id=\"node143\" class=\"node\">\n<title>142</title>\n<path fill=\"#4da7e8\" stroke=\"black\" d=\"M5639,-68C5639,-68 5558,-68 5558,-68 5552,-68 5546,-62 5546,-56 5546,-56 5546,-12 5546,-12 5546,-6 5552,0 5558,0 5558,0 5639,0 5639,0 5645,0 5651,-6 5651,-12 5651,-12 5651,-56 5651,-56 5651,-62 5645,-68 5639,-68\"/>\n<text text-anchor=\"middle\" x=\"5598.5\" y=\"-52.8\" font-family=\"Helvetica,sans-Serif\" font-size=\"14.00\">gini = 0.165</text>\n<text text-anchor=\"middle\" x=\"5598.5\" y=\"-37.8\" font-family=\"Helvetica,sans-Serif\" font-size=\"14.00\">samples = 11</text>\n<text text-anchor=\"middle\" x=\"5598.5\" y=\"-22.8\" font-family=\"Helvetica,sans-Serif\" font-size=\"14.00\">value = [1, 10]</text>\n<text text-anchor=\"middle\" x=\"5598.5\" y=\"-7.8\" font-family=\"Helvetica,sans-Serif\" font-size=\"14.00\">class = sim</text>\n</g>\n<!-- 140&#45;&gt;142 -->\n<g id=\"edge142\" class=\"edge\">\n<title>140&#45;&gt;142</title>\n<path fill=\"none\" stroke=\"black\" d=\"M5598.5,-103.73C5598.5,-95.52 5598.5,-86.86 5598.5,-78.56\"/>\n<polygon fill=\"black\" stroke=\"black\" points=\"5602,-78.3 5598.5,-68.3 5595,-78.3 5602,-78.3\"/>\n</g>\n<!-- 144 -->\n<g id=\"node145\" class=\"node\">\n<title>144</title>\n<path fill=\"#399de5\" stroke=\"black\" d=\"M5754,-68C5754,-68 5681,-68 5681,-68 5675,-68 5669,-62 5669,-56 5669,-56 5669,-12 5669,-12 5669,-6 5675,0 5681,0 5681,0 5754,0 5754,0 5760,0 5766,-6 5766,-12 5766,-12 5766,-56 5766,-56 5766,-62 5760,-68 5754,-68\"/>\n<text text-anchor=\"middle\" x=\"5717.5\" y=\"-52.8\" font-family=\"Helvetica,sans-Serif\" font-size=\"14.00\">gini = 0.0</text>\n<text text-anchor=\"middle\" x=\"5717.5\" y=\"-37.8\" font-family=\"Helvetica,sans-Serif\" font-size=\"14.00\">samples = 1</text>\n<text text-anchor=\"middle\" x=\"5717.5\" y=\"-22.8\" font-family=\"Helvetica,sans-Serif\" font-size=\"14.00\">value = [0, 1]</text>\n<text text-anchor=\"middle\" x=\"5717.5\" y=\"-7.8\" font-family=\"Helvetica,sans-Serif\" font-size=\"14.00\">class = sim</text>\n</g>\n<!-- 143&#45;&gt;144 -->\n<g id=\"edge144\" class=\"edge\">\n<title>143&#45;&gt;144</title>\n<path fill=\"none\" stroke=\"black\" d=\"M5772.1,-103.73C5765,-94.79 5757.48,-85.32 5750.36,-76.36\"/>\n<polygon fill=\"black\" stroke=\"black\" points=\"5752.92,-73.95 5743.96,-68.3 5747.44,-78.31 5752.92,-73.95\"/>\n</g>\n<!-- 145 -->\n<g id=\"node146\" class=\"node\">\n<title>145</title>\n<path fill=\"#e58139\" stroke=\"black\" d=\"M5869,-68C5869,-68 5796,-68 5796,-68 5790,-68 5784,-62 5784,-56 5784,-56 5784,-12 5784,-12 5784,-6 5790,0 5796,0 5796,0 5869,0 5869,0 5875,0 5881,-6 5881,-12 5881,-12 5881,-56 5881,-56 5881,-62 5875,-68 5869,-68\"/>\n<text text-anchor=\"middle\" x=\"5832.5\" y=\"-52.8\" font-family=\"Helvetica,sans-Serif\" font-size=\"14.00\">gini = 0.0</text>\n<text text-anchor=\"middle\" x=\"5832.5\" y=\"-37.8\" font-family=\"Helvetica,sans-Serif\" font-size=\"14.00\">samples = 2</text>\n<text text-anchor=\"middle\" x=\"5832.5\" y=\"-22.8\" font-family=\"Helvetica,sans-Serif\" font-size=\"14.00\">value = [2, 0]</text>\n<text text-anchor=\"middle\" x=\"5832.5\" y=\"-7.8\" font-family=\"Helvetica,sans-Serif\" font-size=\"14.00\">class = não</text>\n</g>\n<!-- 143&#45;&gt;145 -->\n<g id=\"edge145\" class=\"edge\">\n<title>143&#45;&gt;145</title>\n<path fill=\"none\" stroke=\"black\" d=\"M5814.93,-103.73C5817.07,-95.34 5819.34,-86.47 5821.5,-78.01\"/>\n<polygon fill=\"black\" stroke=\"black\" points=\"5824.9,-78.85 5823.99,-68.3 5818.12,-77.12 5824.9,-78.85\"/>\n</g>\n<!-- 149 -->\n<g id=\"node150\" class=\"node\">\n<title>149</title>\n<path fill=\"#fcefe5\" stroke=\"black\" d=\"M7354.5,-1020C7354.5,-1020 7232.5,-1020 7232.5,-1020 7226.5,-1020 7220.5,-1014 7220.5,-1008 7220.5,-1008 7220.5,-949 7220.5,-949 7220.5,-943 7226.5,-937 7232.5,-937 7232.5,-937 7354.5,-937 7354.5,-937 7360.5,-937 7366.5,-943 7366.5,-949 7366.5,-949 7366.5,-1008 7366.5,-1008 7366.5,-1014 7360.5,-1020 7354.5,-1020\"/>\n<text text-anchor=\"middle\" x=\"7293.5\" y=\"-1004.8\" font-family=\"Helvetica,sans-Serif\" font-size=\"14.00\">preco &lt;= 99974.41</text>\n<text text-anchor=\"middle\" x=\"7293.5\" y=\"-989.8\" font-family=\"Helvetica,sans-Serif\" font-size=\"14.00\">gini = 0.498</text>\n<text text-anchor=\"middle\" x=\"7293.5\" y=\"-974.8\" font-family=\"Helvetica,sans-Serif\" font-size=\"14.00\">samples = 3513</text>\n<text text-anchor=\"middle\" x=\"7293.5\" y=\"-959.8\" font-family=\"Helvetica,sans-Serif\" font-size=\"14.00\">value = [1879, 1634]</text>\n<text text-anchor=\"middle\" x=\"7293.5\" y=\"-944.8\" font-family=\"Helvetica,sans-Serif\" font-size=\"14.00\">class = não</text>\n</g>\n<!-- 148&#45;&gt;149 -->\n<g id=\"edge149\" class=\"edge\">\n<title>148&#45;&gt;149</title>\n<path fill=\"none\" stroke=\"black\" d=\"M7293.5,-1055.91C7293.5,-1047.65 7293.5,-1038.86 7293.5,-1030.3\"/>\n<polygon fill=\"black\" stroke=\"black\" points=\"7297,-1030.02 7293.5,-1020.02 7290,-1030.02 7297,-1030.02\"/>\n</g>\n<!-- 258 -->\n<g id=\"node259\" class=\"node\">\n<title>258</title>\n<path fill=\"#e9965a\" stroke=\"black\" d=\"M11310,-1020C11310,-1020 11179,-1020 11179,-1020 11173,-1020 11167,-1014 11167,-1008 11167,-1008 11167,-949 11167,-949 11167,-943 11173,-937 11179,-937 11179,-937 11310,-937 11310,-937 11316,-937 11322,-943 11322,-949 11322,-949 11322,-1008 11322,-1008 11322,-1014 11316,-1020 11310,-1020\"/>\n<text text-anchor=\"middle\" x=\"11244.5\" y=\"-1004.8\" font-family=\"Helvetica,sans-Serif\" font-size=\"14.00\">preco &lt;= 100076.957</text>\n<text text-anchor=\"middle\" x=\"11244.5\" y=\"-989.8\" font-family=\"Helvetica,sans-Serif\" font-size=\"14.00\">gini = 0.243</text>\n<text text-anchor=\"middle\" x=\"11244.5\" y=\"-974.8\" font-family=\"Helvetica,sans-Serif\" font-size=\"14.00\">samples = 2140</text>\n<text text-anchor=\"middle\" x=\"11244.5\" y=\"-959.8\" font-family=\"Helvetica,sans-Serif\" font-size=\"14.00\">value = [1837, 303]</text>\n<text text-anchor=\"middle\" x=\"11244.5\" y=\"-944.8\" font-family=\"Helvetica,sans-Serif\" font-size=\"14.00\">class = não</text>\n</g>\n<!-- 148&#45;&gt;258 -->\n<g id=\"edge258\" class=\"edge\">\n<title>148&#45;&gt;258</title>\n<path fill=\"none\" stroke=\"black\" d=\"M7388.72,-1093.68C7931.96,-1077.59 10633.54,-997.59 11156.69,-982.1\"/>\n<polygon fill=\"black\" stroke=\"black\" points=\"11156.92,-985.6 11166.82,-981.8 11156.72,-978.6 11156.92,-985.6\"/>\n</g>\n<!-- 150 -->\n<g id=\"node151\" class=\"node\">\n<title>150</title>\n<path fill=\"#f9e0ce\" stroke=\"black\" d=\"M7168.5,-901C7168.5,-901 7010.5,-901 7010.5,-901 7004.5,-901 6998.5,-895 6998.5,-889 6998.5,-889 6998.5,-830 6998.5,-830 6998.5,-824 7004.5,-818 7010.5,-818 7010.5,-818 7168.5,-818 7168.5,-818 7174.5,-818 7180.5,-824 7180.5,-830 7180.5,-830 7180.5,-889 7180.5,-889 7180.5,-895 7174.5,-901 7168.5,-901\"/>\n<text text-anchor=\"middle\" x=\"7089.5\" y=\"-885.8\" font-family=\"Helvetica,sans-Serif\" font-size=\"14.00\">km_por_ano &lt;= 6826.016</text>\n<text text-anchor=\"middle\" x=\"7089.5\" y=\"-870.8\" font-family=\"Helvetica,sans-Serif\" font-size=\"14.00\">gini = 0.49</text>\n<text text-anchor=\"middle\" x=\"7089.5\" y=\"-855.8\" font-family=\"Helvetica,sans-Serif\" font-size=\"14.00\">samples = 2944</text>\n<text text-anchor=\"middle\" x=\"7089.5\" y=\"-840.8\" font-family=\"Helvetica,sans-Serif\" font-size=\"14.00\">value = [1682, 1262]</text>\n<text text-anchor=\"middle\" x=\"7089.5\" y=\"-825.8\" font-family=\"Helvetica,sans-Serif\" font-size=\"14.00\">class = não</text>\n</g>\n<!-- 149&#45;&gt;150 -->\n<g id=\"edge150\" class=\"edge\">\n<title>149&#45;&gt;150</title>\n<path fill=\"none\" stroke=\"black\" d=\"M7222.72,-936.91C7205.48,-927.02 7186.91,-916.37 7169.28,-906.25\"/>\n<polygon fill=\"black\" stroke=\"black\" points=\"7170.57,-902.96 7160.15,-901.02 7167.08,-909.03 7170.57,-902.96\"/>\n</g>\n<!-- 201 -->\n<g id=\"node202\" class=\"node\">\n<title>201</title>\n<path fill=\"#a2d1f3\" stroke=\"black\" d=\"M8394,-901C8394,-901 8263,-901 8263,-901 8257,-901 8251,-895 8251,-889 8251,-889 8251,-830 8251,-830 8251,-824 8257,-818 8263,-818 8263,-818 8394,-818 8394,-818 8400,-818 8406,-824 8406,-830 8406,-830 8406,-889 8406,-889 8406,-895 8400,-901 8394,-901\"/>\n<text text-anchor=\"middle\" x=\"8328.5\" y=\"-885.8\" font-family=\"Helvetica,sans-Serif\" font-size=\"14.00\">preco &lt;= 100371.855</text>\n<text text-anchor=\"middle\" x=\"8328.5\" y=\"-870.8\" font-family=\"Helvetica,sans-Serif\" font-size=\"14.00\">gini = 0.453</text>\n<text text-anchor=\"middle\" x=\"8328.5\" y=\"-855.8\" font-family=\"Helvetica,sans-Serif\" font-size=\"14.00\">samples = 569</text>\n<text text-anchor=\"middle\" x=\"8328.5\" y=\"-840.8\" font-family=\"Helvetica,sans-Serif\" font-size=\"14.00\">value = [197, 372]</text>\n<text text-anchor=\"middle\" x=\"8328.5\" y=\"-825.8\" font-family=\"Helvetica,sans-Serif\" font-size=\"14.00\">class = sim</text>\n</g>\n<!-- 149&#45;&gt;201 -->\n<g id=\"edge201\" class=\"edge\">\n<title>149&#45;&gt;201</title>\n<path fill=\"none\" stroke=\"black\" d=\"M7366.69,-969.23C7552.24,-948.25 8040.46,-893.06 8240.8,-870.41\"/>\n<polygon fill=\"black\" stroke=\"black\" points=\"8241.44,-873.86 8250.99,-869.26 8240.66,-866.91 8241.44,-873.86\"/>\n</g>\n<!-- 151 -->\n<g id=\"node152\" class=\"node\">\n<title>151</title>\n<path fill=\"#e58139\" stroke=\"black\" d=\"M6968,-774.5C6968,-774.5 6895,-774.5 6895,-774.5 6889,-774.5 6883,-768.5 6883,-762.5 6883,-762.5 6883,-718.5 6883,-718.5 6883,-712.5 6889,-706.5 6895,-706.5 6895,-706.5 6968,-706.5 6968,-706.5 6974,-706.5 6980,-712.5 6980,-718.5 6980,-718.5 6980,-762.5 6980,-762.5 6980,-768.5 6974,-774.5 6968,-774.5\"/>\n<text text-anchor=\"middle\" x=\"6931.5\" y=\"-759.3\" font-family=\"Helvetica,sans-Serif\" font-size=\"14.00\">gini = 0.0</text>\n<text text-anchor=\"middle\" x=\"6931.5\" y=\"-744.3\" font-family=\"Helvetica,sans-Serif\" font-size=\"14.00\">samples = 9</text>\n<text text-anchor=\"middle\" x=\"6931.5\" y=\"-729.3\" font-family=\"Helvetica,sans-Serif\" font-size=\"14.00\">value = [9, 0]</text>\n<text text-anchor=\"middle\" x=\"6931.5\" y=\"-714.3\" font-family=\"Helvetica,sans-Serif\" font-size=\"14.00\">class = não</text>\n</g>\n<!-- 150&#45;&gt;151 -->\n<g id=\"edge151\" class=\"edge\">\n<title>150&#45;&gt;151</title>\n<path fill=\"none\" stroke=\"black\" d=\"M7034.68,-817.91C7018.44,-805.88 7000.69,-792.73 6984.56,-780.79\"/>\n<polygon fill=\"black\" stroke=\"black\" points=\"6986.41,-777.81 6976.29,-774.67 6982.24,-783.43 6986.41,-777.81\"/>\n</g>\n<!-- 152 -->\n<g id=\"node153\" class=\"node\">\n<title>152</title>\n<path fill=\"#f9e0ce\" stroke=\"black\" d=\"M7168.5,-782C7168.5,-782 7010.5,-782 7010.5,-782 7004.5,-782 6998.5,-776 6998.5,-770 6998.5,-770 6998.5,-711 6998.5,-711 6998.5,-705 7004.5,-699 7010.5,-699 7010.5,-699 7168.5,-699 7168.5,-699 7174.5,-699 7180.5,-705 7180.5,-711 7180.5,-711 7180.5,-770 7180.5,-770 7180.5,-776 7174.5,-782 7168.5,-782\"/>\n<text text-anchor=\"middle\" x=\"7089.5\" y=\"-766.8\" font-family=\"Helvetica,sans-Serif\" font-size=\"14.00\">km_por_ano &lt;= 9223.932</text>\n<text text-anchor=\"middle\" x=\"7089.5\" y=\"-751.8\" font-family=\"Helvetica,sans-Serif\" font-size=\"14.00\">gini = 0.49</text>\n<text text-anchor=\"middle\" x=\"7089.5\" y=\"-736.8\" font-family=\"Helvetica,sans-Serif\" font-size=\"14.00\">samples = 2935</text>\n<text text-anchor=\"middle\" x=\"7089.5\" y=\"-721.8\" font-family=\"Helvetica,sans-Serif\" font-size=\"14.00\">value = [1673, 1262]</text>\n<text text-anchor=\"middle\" x=\"7089.5\" y=\"-706.8\" font-family=\"Helvetica,sans-Serif\" font-size=\"14.00\">class = não</text>\n</g>\n<!-- 150&#45;&gt;152 -->\n<g id=\"edge152\" class=\"edge\">\n<title>150&#45;&gt;152</title>\n<path fill=\"none\" stroke=\"black\" d=\"M7089.5,-817.91C7089.5,-809.65 7089.5,-800.86 7089.5,-792.3\"/>\n<polygon fill=\"black\" stroke=\"black\" points=\"7093,-792.02 7089.5,-782.02 7086,-792.02 7093,-792.02\"/>\n</g>\n<!-- 153 -->\n<g id=\"node154\" class=\"node\">\n<title>153</title>\n<path fill=\"#9fd0f2\" stroke=\"black\" d=\"M6595,-663C6595,-663 6472,-663 6472,-663 6466,-663 6460,-657 6460,-651 6460,-651 6460,-592 6460,-592 6460,-586 6466,-580 6472,-580 6472,-580 6595,-580 6595,-580 6601,-580 6607,-586 6607,-592 6607,-592 6607,-651 6607,-651 6607,-657 6601,-663 6595,-663\"/>\n<text text-anchor=\"middle\" x=\"6533.5\" y=\"-647.8\" font-family=\"Helvetica,sans-Serif\" font-size=\"14.00\">preco &lt;= 87208.336</text>\n<text text-anchor=\"middle\" x=\"6533.5\" y=\"-632.8\" font-family=\"Helvetica,sans-Serif\" font-size=\"14.00\">gini = 0.449</text>\n<text text-anchor=\"middle\" x=\"6533.5\" y=\"-617.8\" font-family=\"Helvetica,sans-Serif\" font-size=\"14.00\">samples = 47</text>\n<text text-anchor=\"middle\" x=\"6533.5\" y=\"-602.8\" font-family=\"Helvetica,sans-Serif\" font-size=\"14.00\">value = [16, 31]</text>\n<text text-anchor=\"middle\" x=\"6533.5\" y=\"-587.8\" font-family=\"Helvetica,sans-Serif\" font-size=\"14.00\">class = sim</text>\n</g>\n<!-- 152&#45;&gt;153 -->\n<g id=\"edge153\" class=\"edge\">\n<title>152&#45;&gt;153</title>\n<path fill=\"none\" stroke=\"black\" d=\"M6998.42,-701.96C6995.09,-700.91 6991.77,-699.92 6988.5,-699 6861.4,-663.28 6709.35,-641.84 6617.17,-631.11\"/>\n<polygon fill=\"black\" stroke=\"black\" points=\"6617.4,-627.61 6607.06,-629.94 6616.6,-634.56 6617.4,-627.61\"/>\n</g>\n<!-- 168 -->\n<g id=\"node169\" class=\"node\">\n<title>168</title>\n<path fill=\"#f8dfcc\" stroke=\"black\" d=\"M7168.5,-663C7168.5,-663 7010.5,-663 7010.5,-663 7004.5,-663 6998.5,-657 6998.5,-651 6998.5,-651 6998.5,-592 6998.5,-592 6998.5,-586 7004.5,-580 7010.5,-580 7010.5,-580 7168.5,-580 7168.5,-580 7174.5,-580 7180.5,-586 7180.5,-592 7180.5,-592 7180.5,-651 7180.5,-651 7180.5,-657 7174.5,-663 7168.5,-663\"/>\n<text text-anchor=\"middle\" x=\"7089.5\" y=\"-647.8\" font-family=\"Helvetica,sans-Serif\" font-size=\"14.00\">km_por_ano &lt;= 9304.399</text>\n<text text-anchor=\"middle\" x=\"7089.5\" y=\"-632.8\" font-family=\"Helvetica,sans-Serif\" font-size=\"14.00\">gini = 0.489</text>\n<text text-anchor=\"middle\" x=\"7089.5\" y=\"-617.8\" font-family=\"Helvetica,sans-Serif\" font-size=\"14.00\">samples = 2888</text>\n<text text-anchor=\"middle\" x=\"7089.5\" y=\"-602.8\" font-family=\"Helvetica,sans-Serif\" font-size=\"14.00\">value = [1657, 1231]</text>\n<text text-anchor=\"middle\" x=\"7089.5\" y=\"-587.8\" font-family=\"Helvetica,sans-Serif\" font-size=\"14.00\">class = não</text>\n</g>\n<!-- 152&#45;&gt;168 -->\n<g id=\"edge168\" class=\"edge\">\n<title>152&#45;&gt;168</title>\n<path fill=\"none\" stroke=\"black\" d=\"M7089.5,-698.91C7089.5,-690.65 7089.5,-681.86 7089.5,-673.3\"/>\n<polygon fill=\"black\" stroke=\"black\" points=\"7093,-673.02 7089.5,-663.02 7086,-673.02 7093,-673.02\"/>\n</g>\n<!-- 154 -->\n<g id=\"node155\" class=\"node\">\n<title>154</title>\n<path fill=\"#82c1ef\" stroke=\"black\" d=\"M6385.5,-544C6385.5,-544 6227.5,-544 6227.5,-544 6221.5,-544 6215.5,-538 6215.5,-532 6215.5,-532 6215.5,-473 6215.5,-473 6215.5,-467 6221.5,-461 6227.5,-461 6227.5,-461 6385.5,-461 6385.5,-461 6391.5,-461 6397.5,-467 6397.5,-473 6397.5,-473 6397.5,-532 6397.5,-532 6397.5,-538 6391.5,-544 6385.5,-544\"/>\n<text text-anchor=\"middle\" x=\"6306.5\" y=\"-528.8\" font-family=\"Helvetica,sans-Serif\" font-size=\"14.00\">km_por_ano &lt;= 9112.083</text>\n<text text-anchor=\"middle\" x=\"6306.5\" y=\"-513.8\" font-family=\"Helvetica,sans-Serif\" font-size=\"14.00\">gini = 0.394</text>\n<text text-anchor=\"middle\" x=\"6306.5\" y=\"-498.8\" font-family=\"Helvetica,sans-Serif\" font-size=\"14.00\">samples = 37</text>\n<text text-anchor=\"middle\" x=\"6306.5\" y=\"-483.8\" font-family=\"Helvetica,sans-Serif\" font-size=\"14.00\">value = [10, 27]</text>\n<text text-anchor=\"middle\" x=\"6306.5\" y=\"-468.8\" font-family=\"Helvetica,sans-Serif\" font-size=\"14.00\">class = sim</text>\n</g>\n<!-- 153&#45;&gt;154 -->\n<g id=\"edge154\" class=\"edge\">\n<title>153&#45;&gt;154</title>\n<path fill=\"none\" stroke=\"black\" d=\"M6459.8,-582.51C6438.96,-571.77 6416.06,-559.97 6394.47,-548.84\"/>\n<polygon fill=\"black\" stroke=\"black\" points=\"6395.8,-545.59 6385.31,-544.12 6392.59,-551.81 6395.8,-545.59\"/>\n</g>\n<!-- 163 -->\n<g id=\"node164\" class=\"node\">\n<title>163</title>\n<path fill=\"#f6d5bd\" stroke=\"black\" d=\"M6612.5,-544C6612.5,-544 6454.5,-544 6454.5,-544 6448.5,-544 6442.5,-538 6442.5,-532 6442.5,-532 6442.5,-473 6442.5,-473 6442.5,-467 6448.5,-461 6454.5,-461 6454.5,-461 6612.5,-461 6612.5,-461 6618.5,-461 6624.5,-467 6624.5,-473 6624.5,-473 6624.5,-532 6624.5,-532 6624.5,-538 6618.5,-544 6612.5,-544\"/>\n<text text-anchor=\"middle\" x=\"6533.5\" y=\"-528.8\" font-family=\"Helvetica,sans-Serif\" font-size=\"14.00\">km_por_ano &lt;= 8355.693</text>\n<text text-anchor=\"middle\" x=\"6533.5\" y=\"-513.8\" font-family=\"Helvetica,sans-Serif\" font-size=\"14.00\">gini = 0.48</text>\n<text text-anchor=\"middle\" x=\"6533.5\" y=\"-498.8\" font-family=\"Helvetica,sans-Serif\" font-size=\"14.00\">samples = 10</text>\n<text text-anchor=\"middle\" x=\"6533.5\" y=\"-483.8\" font-family=\"Helvetica,sans-Serif\" font-size=\"14.00\">value = [6, 4]</text>\n<text text-anchor=\"middle\" x=\"6533.5\" y=\"-468.8\" font-family=\"Helvetica,sans-Serif\" font-size=\"14.00\">class = não</text>\n</g>\n<!-- 153&#45;&gt;163 -->\n<g id=\"edge163\" class=\"edge\">\n<title>153&#45;&gt;163</title>\n<path fill=\"none\" stroke=\"black\" d=\"M6533.5,-579.91C6533.5,-571.65 6533.5,-562.86 6533.5,-554.3\"/>\n<polygon fill=\"black\" stroke=\"black\" points=\"6537,-554.02 6533.5,-544.02 6530,-554.02 6537,-554.02\"/>\n</g>\n<!-- 155 -->\n<g id=\"node156\" class=\"node\">\n<title>155</title>\n<path fill=\"#8fc8f0\" stroke=\"black\" d=\"M6227.5,-425C6227.5,-425 6069.5,-425 6069.5,-425 6063.5,-425 6057.5,-419 6057.5,-413 6057.5,-413 6057.5,-354 6057.5,-354 6057.5,-348 6063.5,-342 6069.5,-342 6069.5,-342 6227.5,-342 6227.5,-342 6233.5,-342 6239.5,-348 6239.5,-354 6239.5,-354 6239.5,-413 6239.5,-413 6239.5,-419 6233.5,-425 6227.5,-425\"/>\n<text text-anchor=\"middle\" x=\"6148.5\" y=\"-409.8\" font-family=\"Helvetica,sans-Serif\" font-size=\"14.00\">km_por_ano &lt;= 9019.546</text>\n<text text-anchor=\"middle\" x=\"6148.5\" y=\"-394.8\" font-family=\"Helvetica,sans-Serif\" font-size=\"14.00\">gini = 0.422</text>\n<text text-anchor=\"middle\" x=\"6148.5\" y=\"-379.8\" font-family=\"Helvetica,sans-Serif\" font-size=\"14.00\">samples = 33</text>\n<text text-anchor=\"middle\" x=\"6148.5\" y=\"-364.8\" font-family=\"Helvetica,sans-Serif\" font-size=\"14.00\">value = [10, 23]</text>\n<text text-anchor=\"middle\" x=\"6148.5\" y=\"-349.8\" font-family=\"Helvetica,sans-Serif\" font-size=\"14.00\">class = sim</text>\n</g>\n<!-- 154&#45;&gt;155 -->\n<g id=\"edge155\" class=\"edge\">\n<title>154&#45;&gt;155</title>\n<path fill=\"none\" stroke=\"black\" d=\"M6251.68,-460.91C6238.69,-451.29 6224.74,-440.95 6211.42,-431.09\"/>\n<polygon fill=\"black\" stroke=\"black\" points=\"6213.34,-428.16 6203.22,-425.02 6209.17,-433.78 6213.34,-428.16\"/>\n</g>\n<!-- 162 -->\n<g id=\"node163\" class=\"node\">\n<title>162</title>\n<path fill=\"#399de5\" stroke=\"black\" d=\"M6343,-417.5C6343,-417.5 6270,-417.5 6270,-417.5 6264,-417.5 6258,-411.5 6258,-405.5 6258,-405.5 6258,-361.5 6258,-361.5 6258,-355.5 6264,-349.5 6270,-349.5 6270,-349.5 6343,-349.5 6343,-349.5 6349,-349.5 6355,-355.5 6355,-361.5 6355,-361.5 6355,-405.5 6355,-405.5 6355,-411.5 6349,-417.5 6343,-417.5\"/>\n<text text-anchor=\"middle\" x=\"6306.5\" y=\"-402.3\" font-family=\"Helvetica,sans-Serif\" font-size=\"14.00\">gini = 0.0</text>\n<text text-anchor=\"middle\" x=\"6306.5\" y=\"-387.3\" font-family=\"Helvetica,sans-Serif\" font-size=\"14.00\">samples = 4</text>\n<text text-anchor=\"middle\" x=\"6306.5\" y=\"-372.3\" font-family=\"Helvetica,sans-Serif\" font-size=\"14.00\">value = [0, 4]</text>\n<text text-anchor=\"middle\" x=\"6306.5\" y=\"-357.3\" font-family=\"Helvetica,sans-Serif\" font-size=\"14.00\">class = sim</text>\n</g>\n<!-- 154&#45;&gt;162 -->\n<g id=\"edge162\" class=\"edge\">\n<title>154&#45;&gt;162</title>\n<path fill=\"none\" stroke=\"black\" d=\"M6306.5,-460.91C6306.5,-450.2 6306.5,-438.62 6306.5,-427.78\"/>\n<polygon fill=\"black\" stroke=\"black\" points=\"6310,-427.67 6306.5,-417.67 6303,-427.67 6310,-427.67\"/>\n</g>\n<!-- 156 -->\n<g id=\"node157\" class=\"node\">\n<title>156</title>\n<path fill=\"#75bbed\" stroke=\"black\" d=\"M6166,-306C6166,-306 6043,-306 6043,-306 6037,-306 6031,-300 6031,-294 6031,-294 6031,-235 6031,-235 6031,-229 6037,-223 6043,-223 6043,-223 6166,-223 6166,-223 6172,-223 6178,-229 6178,-235 6178,-235 6178,-294 6178,-294 6178,-300 6172,-306 6166,-306\"/>\n<text text-anchor=\"middle\" x=\"6104.5\" y=\"-290.8\" font-family=\"Helvetica,sans-Serif\" font-size=\"14.00\">preco &lt;= 80136.191</text>\n<text text-anchor=\"middle\" x=\"6104.5\" y=\"-275.8\" font-family=\"Helvetica,sans-Serif\" font-size=\"14.00\">gini = 0.358</text>\n<text text-anchor=\"middle\" x=\"6104.5\" y=\"-260.8\" font-family=\"Helvetica,sans-Serif\" font-size=\"14.00\">samples = 30</text>\n<text text-anchor=\"middle\" x=\"6104.5\" y=\"-245.8\" font-family=\"Helvetica,sans-Serif\" font-size=\"14.00\">value = [7, 23]</text>\n<text text-anchor=\"middle\" x=\"6104.5\" y=\"-230.8\" font-family=\"Helvetica,sans-Serif\" font-size=\"14.00\">class = sim</text>\n</g>\n<!-- 155&#45;&gt;156 -->\n<g id=\"edge156\" class=\"edge\">\n<title>155&#45;&gt;156</title>\n<path fill=\"none\" stroke=\"black\" d=\"M6133.23,-341.91C6130.03,-333.38 6126.61,-324.28 6123.29,-315.46\"/>\n<polygon fill=\"black\" stroke=\"black\" points=\"6126.53,-314.15 6119.74,-306.02 6119.98,-316.61 6126.53,-314.15\"/>\n</g>\n<!-- 161 -->\n<g id=\"node162\" class=\"node\">\n<title>161</title>\n<path fill=\"#e58139\" stroke=\"black\" d=\"M6281,-298.5C6281,-298.5 6208,-298.5 6208,-298.5 6202,-298.5 6196,-292.5 6196,-286.5 6196,-286.5 6196,-242.5 6196,-242.5 6196,-236.5 6202,-230.5 6208,-230.5 6208,-230.5 6281,-230.5 6281,-230.5 6287,-230.5 6293,-236.5 6293,-242.5 6293,-242.5 6293,-286.5 6293,-286.5 6293,-292.5 6287,-298.5 6281,-298.5\"/>\n<text text-anchor=\"middle\" x=\"6244.5\" y=\"-283.3\" font-family=\"Helvetica,sans-Serif\" font-size=\"14.00\">gini = 0.0</text>\n<text text-anchor=\"middle\" x=\"6244.5\" y=\"-268.3\" font-family=\"Helvetica,sans-Serif\" font-size=\"14.00\">samples = 3</text>\n<text text-anchor=\"middle\" x=\"6244.5\" y=\"-253.3\" font-family=\"Helvetica,sans-Serif\" font-size=\"14.00\">value = [3, 0]</text>\n<text text-anchor=\"middle\" x=\"6244.5\" y=\"-238.3\" font-family=\"Helvetica,sans-Serif\" font-size=\"14.00\">class = não</text>\n</g>\n<!-- 155&#45;&gt;161 -->\n<g id=\"edge161\" class=\"edge\">\n<title>155&#45;&gt;161</title>\n<path fill=\"none\" stroke=\"black\" d=\"M6181.81,-341.91C6191.22,-330.43 6201.47,-317.94 6210.91,-306.44\"/>\n<polygon fill=\"black\" stroke=\"black\" points=\"6213.65,-308.62 6217.29,-298.67 6208.24,-304.18 6213.65,-308.62\"/>\n</g>\n<!-- 157 -->\n<g id=\"node158\" class=\"node\">\n<title>157</title>\n<path fill=\"#8bc5f0\" stroke=\"black\" d=\"M6091,-187C6091,-187 5930,-187 5930,-187 5924,-187 5918,-181 5918,-175 5918,-175 5918,-116 5918,-116 5918,-110 5924,-104 5930,-104 5930,-104 6091,-104 6091,-104 6097,-104 6103,-110 6103,-116 6103,-116 6103,-175 6103,-175 6103,-181 6097,-187 6091,-187\"/>\n<text text-anchor=\"middle\" x=\"6010.5\" y=\"-171.8\" font-family=\"Helvetica,sans-Serif\" font-size=\"14.00\">idade_do_modelo &lt;= 18.5</text>\n<text text-anchor=\"middle\" x=\"6010.5\" y=\"-156.8\" font-family=\"Helvetica,sans-Serif\" font-size=\"14.00\">gini = 0.413</text>\n<text text-anchor=\"middle\" x=\"6010.5\" y=\"-141.8\" font-family=\"Helvetica,sans-Serif\" font-size=\"14.00\">samples = 24</text>\n<text text-anchor=\"middle\" x=\"6010.5\" y=\"-126.8\" font-family=\"Helvetica,sans-Serif\" font-size=\"14.00\">value = [7, 17]</text>\n<text text-anchor=\"middle\" x=\"6010.5\" y=\"-111.8\" font-family=\"Helvetica,sans-Serif\" font-size=\"14.00\">class = sim</text>\n</g>\n<!-- 156&#45;&gt;157 -->\n<g id=\"edge157\" class=\"edge\">\n<title>156&#45;&gt;157</title>\n<path fill=\"none\" stroke=\"black\" d=\"M6071.89,-222.91C6064.67,-213.92 6056.95,-204.32 6049.51,-195.05\"/>\n<polygon fill=\"black\" stroke=\"black\" points=\"6052.05,-192.62 6043.06,-187.02 6046.59,-197.01 6052.05,-192.62\"/>\n</g>\n<!-- 160 -->\n<g id=\"node161\" class=\"node\">\n<title>160</title>\n<path fill=\"#399de5\" stroke=\"black\" d=\"M6206,-179.5C6206,-179.5 6133,-179.5 6133,-179.5 6127,-179.5 6121,-173.5 6121,-167.5 6121,-167.5 6121,-123.5 6121,-123.5 6121,-117.5 6127,-111.5 6133,-111.5 6133,-111.5 6206,-111.5 6206,-111.5 6212,-111.5 6218,-117.5 6218,-123.5 6218,-123.5 6218,-167.5 6218,-167.5 6218,-173.5 6212,-179.5 6206,-179.5\"/>\n<text text-anchor=\"middle\" x=\"6169.5\" y=\"-164.3\" font-family=\"Helvetica,sans-Serif\" font-size=\"14.00\">gini = 0.0</text>\n<text text-anchor=\"middle\" x=\"6169.5\" y=\"-149.3\" font-family=\"Helvetica,sans-Serif\" font-size=\"14.00\">samples = 6</text>\n<text text-anchor=\"middle\" x=\"6169.5\" y=\"-134.3\" font-family=\"Helvetica,sans-Serif\" font-size=\"14.00\">value = [0, 6]</text>\n<text text-anchor=\"middle\" x=\"6169.5\" y=\"-119.3\" font-family=\"Helvetica,sans-Serif\" font-size=\"14.00\">class = sim</text>\n</g>\n<!-- 156&#45;&gt;160 -->\n<g id=\"edge160\" class=\"edge\">\n<title>156&#45;&gt;160</title>\n<path fill=\"none\" stroke=\"black\" d=\"M6127.05,-222.91C6133.24,-211.76 6139.97,-199.66 6146.2,-188.44\"/>\n<polygon fill=\"black\" stroke=\"black\" points=\"6149.28,-190.11 6151.07,-179.67 6143.16,-186.71 6149.28,-190.11\"/>\n</g>\n<!-- 158 -->\n<g id=\"node159\" class=\"node\">\n<title>158</title>\n<path fill=\"#acd6f4\" stroke=\"black\" d=\"M5992,-68C5992,-68 5911,-68 5911,-68 5905,-68 5899,-62 5899,-56 5899,-56 5899,-12 5899,-12 5899,-6 5905,0 5911,0 5911,0 5992,0 5992,0 5998,0 6004,-6 6004,-12 6004,-12 6004,-56 6004,-56 6004,-62 5998,-68 5992,-68\"/>\n<text text-anchor=\"middle\" x=\"5951.5\" y=\"-52.8\" font-family=\"Helvetica,sans-Serif\" font-size=\"14.00\">gini = 0.465</text>\n<text text-anchor=\"middle\" x=\"5951.5\" y=\"-37.8\" font-family=\"Helvetica,sans-Serif\" font-size=\"14.00\">samples = 19</text>\n<text text-anchor=\"middle\" x=\"5951.5\" y=\"-22.8\" font-family=\"Helvetica,sans-Serif\" font-size=\"14.00\">value = [7, 12]</text>\n<text text-anchor=\"middle\" x=\"5951.5\" y=\"-7.8\" font-family=\"Helvetica,sans-Serif\" font-size=\"14.00\">class = sim</text>\n</g>\n<!-- 157&#45;&gt;158 -->\n<g id=\"edge158\" class=\"edge\">\n<title>157&#45;&gt;158</title>\n<path fill=\"none\" stroke=\"black\" d=\"M5988.53,-103.73C5983.86,-95.06 5978.92,-85.9 5974.23,-77.18\"/>\n<polygon fill=\"black\" stroke=\"black\" points=\"5977.27,-75.44 5969.44,-68.3 5971.1,-78.76 5977.27,-75.44\"/>\n</g>\n<!-- 159 -->\n<g id=\"node160\" class=\"node\">\n<title>159</title>\n<path fill=\"#399de5\" stroke=\"black\" d=\"M6107,-68C6107,-68 6034,-68 6034,-68 6028,-68 6022,-62 6022,-56 6022,-56 6022,-12 6022,-12 6022,-6 6028,0 6034,0 6034,0 6107,0 6107,0 6113,0 6119,-6 6119,-12 6119,-12 6119,-56 6119,-56 6119,-62 6113,-68 6107,-68\"/>\n<text text-anchor=\"middle\" x=\"6070.5\" y=\"-52.8\" font-family=\"Helvetica,sans-Serif\" font-size=\"14.00\">gini = 0.0</text>\n<text text-anchor=\"middle\" x=\"6070.5\" y=\"-37.8\" font-family=\"Helvetica,sans-Serif\" font-size=\"14.00\">samples = 5</text>\n<text text-anchor=\"middle\" x=\"6070.5\" y=\"-22.8\" font-family=\"Helvetica,sans-Serif\" font-size=\"14.00\">value = [0, 5]</text>\n<text text-anchor=\"middle\" x=\"6070.5\" y=\"-7.8\" font-family=\"Helvetica,sans-Serif\" font-size=\"14.00\">class = sim</text>\n</g>\n<!-- 157&#45;&gt;159 -->\n<g id=\"edge159\" class=\"edge\">\n<title>157&#45;&gt;159</title>\n<path fill=\"none\" stroke=\"black\" d=\"M6032.84,-103.73C6037.59,-95.06 6042.61,-85.9 6047.39,-77.18\"/>\n<polygon fill=\"black\" stroke=\"black\" points=\"6050.52,-78.75 6052.25,-68.3 6044.38,-75.39 6050.52,-78.75\"/>\n</g>\n<!-- 164 -->\n<g id=\"node165\" class=\"node\">\n<title>164</title>\n<path fill=\"#e58139\" stroke=\"black\" d=\"M6458,-417.5C6458,-417.5 6385,-417.5 6385,-417.5 6379,-417.5 6373,-411.5 6373,-405.5 6373,-405.5 6373,-361.5 6373,-361.5 6373,-355.5 6379,-349.5 6385,-349.5 6385,-349.5 6458,-349.5 6458,-349.5 6464,-349.5 6470,-355.5 6470,-361.5 6470,-361.5 6470,-405.5 6470,-405.5 6470,-411.5 6464,-417.5 6458,-417.5\"/>\n<text text-anchor=\"middle\" x=\"6421.5\" y=\"-402.3\" font-family=\"Helvetica,sans-Serif\" font-size=\"14.00\">gini = 0.0</text>\n<text text-anchor=\"middle\" x=\"6421.5\" y=\"-387.3\" font-family=\"Helvetica,sans-Serif\" font-size=\"14.00\">samples = 5</text>\n<text text-anchor=\"middle\" x=\"6421.5\" y=\"-372.3\" font-family=\"Helvetica,sans-Serif\" font-size=\"14.00\">value = [5, 0]</text>\n<text text-anchor=\"middle\" x=\"6421.5\" y=\"-357.3\" font-family=\"Helvetica,sans-Serif\" font-size=\"14.00\">class = não</text>\n</g>\n<!-- 163&#45;&gt;164 -->\n<g id=\"edge164\" class=\"edge\">\n<title>163&#45;&gt;164</title>\n<path fill=\"none\" stroke=\"black\" d=\"M6494.64,-460.91C6483.55,-449.32 6471.47,-436.7 6460.38,-425.11\"/>\n<polygon fill=\"black\" stroke=\"black\" points=\"6462.69,-422.47 6453.25,-417.67 6457.64,-427.31 6462.69,-422.47\"/>\n</g>\n<!-- 165 -->\n<g id=\"node166\" class=\"node\">\n<title>165</title>\n<path fill=\"#6ab6ec\" stroke=\"black\" d=\"M6623,-425C6623,-425 6500,-425 6500,-425 6494,-425 6488,-419 6488,-413 6488,-413 6488,-354 6488,-354 6488,-348 6494,-342 6500,-342 6500,-342 6623,-342 6623,-342 6629,-342 6635,-348 6635,-354 6635,-354 6635,-413 6635,-413 6635,-419 6629,-425 6623,-425\"/>\n<text text-anchor=\"middle\" x=\"6561.5\" y=\"-409.8\" font-family=\"Helvetica,sans-Serif\" font-size=\"14.00\">preco &lt;= 97213.699</text>\n<text text-anchor=\"middle\" x=\"6561.5\" y=\"-394.8\" font-family=\"Helvetica,sans-Serif\" font-size=\"14.00\">gini = 0.32</text>\n<text text-anchor=\"middle\" x=\"6561.5\" y=\"-379.8\" font-family=\"Helvetica,sans-Serif\" font-size=\"14.00\">samples = 5</text>\n<text text-anchor=\"middle\" x=\"6561.5\" y=\"-364.8\" font-family=\"Helvetica,sans-Serif\" font-size=\"14.00\">value = [1, 4]</text>\n<text text-anchor=\"middle\" x=\"6561.5\" y=\"-349.8\" font-family=\"Helvetica,sans-Serif\" font-size=\"14.00\">class = sim</text>\n</g>\n<!-- 163&#45;&gt;165 -->\n<g id=\"edge165\" class=\"edge\">\n<title>163&#45;&gt;165</title>\n<path fill=\"none\" stroke=\"black\" d=\"M6543.21,-460.91C6545.21,-452.56 6547.34,-443.67 6549.41,-435.02\"/>\n<polygon fill=\"black\" stroke=\"black\" points=\"6552.88,-435.56 6551.8,-425.02 6546.07,-433.93 6552.88,-435.56\"/>\n</g>\n<!-- 166 -->\n<g id=\"node167\" class=\"node\">\n<title>166</title>\n<path fill=\"#399de5\" stroke=\"black\" d=\"M6483,-298.5C6483,-298.5 6410,-298.5 6410,-298.5 6404,-298.5 6398,-292.5 6398,-286.5 6398,-286.5 6398,-242.5 6398,-242.5 6398,-236.5 6404,-230.5 6410,-230.5 6410,-230.5 6483,-230.5 6483,-230.5 6489,-230.5 6495,-236.5 6495,-242.5 6495,-242.5 6495,-286.5 6495,-286.5 6495,-292.5 6489,-298.5 6483,-298.5\"/>\n<text text-anchor=\"middle\" x=\"6446.5\" y=\"-283.3\" font-family=\"Helvetica,sans-Serif\" font-size=\"14.00\">gini = 0.0</text>\n<text text-anchor=\"middle\" x=\"6446.5\" y=\"-268.3\" font-family=\"Helvetica,sans-Serif\" font-size=\"14.00\">samples = 4</text>\n<text text-anchor=\"middle\" x=\"6446.5\" y=\"-253.3\" font-family=\"Helvetica,sans-Serif\" font-size=\"14.00\">value = [0, 4]</text>\n<text text-anchor=\"middle\" x=\"6446.5\" y=\"-238.3\" font-family=\"Helvetica,sans-Serif\" font-size=\"14.00\">class = sim</text>\n</g>\n<!-- 165&#45;&gt;166 -->\n<g id=\"edge166\" class=\"edge\">\n<title>165&#45;&gt;166</title>\n<path fill=\"none\" stroke=\"black\" d=\"M6521.6,-341.91C6510.21,-330.32 6497.81,-317.7 6486.42,-306.11\"/>\n<polygon fill=\"black\" stroke=\"black\" points=\"6488.61,-303.35 6479.1,-298.67 6483.61,-308.25 6488.61,-303.35\"/>\n</g>\n<!-- 167 -->\n<g id=\"node168\" class=\"node\">\n<title>167</title>\n<path fill=\"#e58139\" stroke=\"black\" d=\"M6598,-298.5C6598,-298.5 6525,-298.5 6525,-298.5 6519,-298.5 6513,-292.5 6513,-286.5 6513,-286.5 6513,-242.5 6513,-242.5 6513,-236.5 6519,-230.5 6525,-230.5 6525,-230.5 6598,-230.5 6598,-230.5 6604,-230.5 6610,-236.5 6610,-242.5 6610,-242.5 6610,-286.5 6610,-286.5 6610,-292.5 6604,-298.5 6598,-298.5\"/>\n<text text-anchor=\"middle\" x=\"6561.5\" y=\"-283.3\" font-family=\"Helvetica,sans-Serif\" font-size=\"14.00\">gini = 0.0</text>\n<text text-anchor=\"middle\" x=\"6561.5\" y=\"-268.3\" font-family=\"Helvetica,sans-Serif\" font-size=\"14.00\">samples = 1</text>\n<text text-anchor=\"middle\" x=\"6561.5\" y=\"-253.3\" font-family=\"Helvetica,sans-Serif\" font-size=\"14.00\">value = [1, 0]</text>\n<text text-anchor=\"middle\" x=\"6561.5\" y=\"-238.3\" font-family=\"Helvetica,sans-Serif\" font-size=\"14.00\">class = não</text>\n</g>\n<!-- 165&#45;&gt;167 -->\n<g id=\"edge167\" class=\"edge\">\n<title>165&#45;&gt;167</title>\n<path fill=\"none\" stroke=\"black\" d=\"M6561.5,-341.91C6561.5,-331.2 6561.5,-319.62 6561.5,-308.78\"/>\n<polygon fill=\"black\" stroke=\"black\" points=\"6565,-308.67 6561.5,-298.67 6558,-308.67 6565,-308.67\"/>\n</g>\n<!-- 169 -->\n<g id=\"node170\" class=\"node\">\n<title>169</title>\n<path fill=\"#e58139\" stroke=\"black\" d=\"M7056,-536.5C7056,-536.5 6983,-536.5 6983,-536.5 6977,-536.5 6971,-530.5 6971,-524.5 6971,-524.5 6971,-480.5 6971,-480.5 6971,-474.5 6977,-468.5 6983,-468.5 6983,-468.5 7056,-468.5 7056,-468.5 7062,-468.5 7068,-474.5 7068,-480.5 7068,-480.5 7068,-524.5 7068,-524.5 7068,-530.5 7062,-536.5 7056,-536.5\"/>\n<text text-anchor=\"middle\" x=\"7019.5\" y=\"-521.3\" font-family=\"Helvetica,sans-Serif\" font-size=\"14.00\">gini = 0.0</text>\n<text text-anchor=\"middle\" x=\"7019.5\" y=\"-506.3\" font-family=\"Helvetica,sans-Serif\" font-size=\"14.00\">samples = 8</text>\n<text text-anchor=\"middle\" x=\"7019.5\" y=\"-491.3\" font-family=\"Helvetica,sans-Serif\" font-size=\"14.00\">value = [8, 0]</text>\n<text text-anchor=\"middle\" x=\"7019.5\" y=\"-476.3\" font-family=\"Helvetica,sans-Serif\" font-size=\"14.00\">class = não</text>\n</g>\n<!-- 168&#45;&gt;169 -->\n<g id=\"edge169\" class=\"edge\">\n<title>168&#45;&gt;169</title>\n<path fill=\"none\" stroke=\"black\" d=\"M7065.21,-579.91C7058.55,-568.76 7051.3,-556.66 7044.59,-545.44\"/>\n<polygon fill=\"black\" stroke=\"black\" points=\"7047.48,-543.45 7039.34,-536.67 7041.47,-547.05 7047.48,-543.45\"/>\n</g>\n<!-- 170 -->\n<g id=\"node171\" class=\"node\">\n<title>170</title>\n<path fill=\"#f8dfcd\" stroke=\"black\" d=\"M7221,-544C7221,-544 7098,-544 7098,-544 7092,-544 7086,-538 7086,-532 7086,-532 7086,-473 7086,-473 7086,-467 7092,-461 7098,-461 7098,-461 7221,-461 7221,-461 7227,-461 7233,-467 7233,-473 7233,-473 7233,-532 7233,-532 7233,-538 7227,-544 7221,-544\"/>\n<text text-anchor=\"middle\" x=\"7159.5\" y=\"-528.8\" font-family=\"Helvetica,sans-Serif\" font-size=\"14.00\">preco &lt;= 91665.414</text>\n<text text-anchor=\"middle\" x=\"7159.5\" y=\"-513.8\" font-family=\"Helvetica,sans-Serif\" font-size=\"14.00\">gini = 0.489</text>\n<text text-anchor=\"middle\" x=\"7159.5\" y=\"-498.8\" font-family=\"Helvetica,sans-Serif\" font-size=\"14.00\">samples = 2880</text>\n<text text-anchor=\"middle\" x=\"7159.5\" y=\"-483.8\" font-family=\"Helvetica,sans-Serif\" font-size=\"14.00\">value = [1649, 1231]</text>\n<text text-anchor=\"middle\" x=\"7159.5\" y=\"-468.8\" font-family=\"Helvetica,sans-Serif\" font-size=\"14.00\">class = não</text>\n</g>\n<!-- 168&#45;&gt;170 -->\n<g id=\"edge170\" class=\"edge\">\n<title>168&#45;&gt;170</title>\n<path fill=\"none\" stroke=\"black\" d=\"M7113.79,-579.91C7119.05,-571.1 7124.68,-561.7 7130.12,-552.61\"/>\n<polygon fill=\"black\" stroke=\"black\" points=\"7133.13,-554.4 7135.26,-544.02 7127.12,-550.81 7133.13,-554.4\"/>\n</g>\n<!-- 171 -->\n<g id=\"node172\" class=\"node\">\n<title>171</title>\n<path fill=\"#f9e3d3\" stroke=\"black\" d=\"M7030.5,-425C7030.5,-425 6864.5,-425 6864.5,-425 6858.5,-425 6852.5,-419 6852.5,-413 6852.5,-413 6852.5,-354 6852.5,-354 6852.5,-348 6858.5,-342 6864.5,-342 6864.5,-342 7030.5,-342 7030.5,-342 7036.5,-342 7042.5,-348 7042.5,-354 7042.5,-354 7042.5,-413 7042.5,-413 7042.5,-419 7036.5,-425 7030.5,-425\"/>\n<text text-anchor=\"middle\" x=\"6947.5\" y=\"-409.8\" font-family=\"Helvetica,sans-Serif\" font-size=\"14.00\">km_por_ano &lt;= 14859.841</text>\n<text text-anchor=\"middle\" x=\"6947.5\" y=\"-394.8\" font-family=\"Helvetica,sans-Serif\" font-size=\"14.00\">gini = 0.492</text>\n<text text-anchor=\"middle\" x=\"6947.5\" y=\"-379.8\" font-family=\"Helvetica,sans-Serif\" font-size=\"14.00\">samples = 2377</text>\n<text text-anchor=\"middle\" x=\"6947.5\" y=\"-364.8\" font-family=\"Helvetica,sans-Serif\" font-size=\"14.00\">value = [1337, 1040]</text>\n<text text-anchor=\"middle\" x=\"6947.5\" y=\"-349.8\" font-family=\"Helvetica,sans-Serif\" font-size=\"14.00\">class = não</text>\n</g>\n<!-- 170&#45;&gt;171 -->\n<g id=\"edge171\" class=\"edge\">\n<title>170&#45;&gt;171</title>\n<path fill=\"none\" stroke=\"black\" d=\"M7085.95,-460.91C7067.86,-450.92 7048.38,-440.17 7029.9,-429.98\"/>\n<polygon fill=\"black\" stroke=\"black\" points=\"7031.37,-426.79 7020.92,-425.02 7027.99,-432.92 7031.37,-426.79\"/>\n</g>\n<!-- 186 -->\n<g id=\"node187\" class=\"node\">\n<title>186</title>\n<path fill=\"#f5ceb2\" stroke=\"black\" d=\"M7465,-425C7465,-425 7342,-425 7342,-425 7336,-425 7330,-419 7330,-413 7330,-413 7330,-354 7330,-354 7330,-348 7336,-342 7342,-342 7342,-342 7465,-342 7465,-342 7471,-342 7477,-348 7477,-354 7477,-354 7477,-413 7477,-413 7477,-419 7471,-425 7465,-425\"/>\n<text text-anchor=\"middle\" x=\"7403.5\" y=\"-409.8\" font-family=\"Helvetica,sans-Serif\" font-size=\"14.00\">preco &lt;= 92666.359</text>\n<text text-anchor=\"middle\" x=\"7403.5\" y=\"-394.8\" font-family=\"Helvetica,sans-Serif\" font-size=\"14.00\">gini = 0.471</text>\n<text text-anchor=\"middle\" x=\"7403.5\" y=\"-379.8\" font-family=\"Helvetica,sans-Serif\" font-size=\"14.00\">samples = 503</text>\n<text text-anchor=\"middle\" x=\"7403.5\" y=\"-364.8\" font-family=\"Helvetica,sans-Serif\" font-size=\"14.00\">value = [312, 191]</text>\n<text text-anchor=\"middle\" x=\"7403.5\" y=\"-349.8\" font-family=\"Helvetica,sans-Serif\" font-size=\"14.00\">class = não</text>\n</g>\n<!-- 170&#45;&gt;186 -->\n<g id=\"edge186\" class=\"edge\">\n<title>170&#45;&gt;186</title>\n<path fill=\"none\" stroke=\"black\" d=\"M7233.04,-466.24C7260.64,-453 7292.2,-437.87 7320.59,-424.26\"/>\n<polygon fill=\"black\" stroke=\"black\" points=\"7322.19,-427.37 7329.69,-419.89 7319.16,-421.06 7322.19,-427.37\"/>\n</g>\n<!-- 172 -->\n<g id=\"node173\" class=\"node\">\n<title>172</title>\n<path fill=\"#f6d4bb\" stroke=\"black\" d=\"M6806.5,-306C6806.5,-306 6640.5,-306 6640.5,-306 6634.5,-306 6628.5,-300 6628.5,-294 6628.5,-294 6628.5,-235 6628.5,-235 6628.5,-229 6634.5,-223 6640.5,-223 6640.5,-223 6806.5,-223 6806.5,-223 6812.5,-223 6818.5,-229 6818.5,-235 6818.5,-235 6818.5,-294 6818.5,-294 6818.5,-300 6812.5,-306 6806.5,-306\"/>\n<text text-anchor=\"middle\" x=\"6723.5\" y=\"-290.8\" font-family=\"Helvetica,sans-Serif\" font-size=\"14.00\">km_por_ano &lt;= 14802.709</text>\n<text text-anchor=\"middle\" x=\"6723.5\" y=\"-275.8\" font-family=\"Helvetica,sans-Serif\" font-size=\"14.00\">gini = 0.479</text>\n<text text-anchor=\"middle\" x=\"6723.5\" y=\"-260.8\" font-family=\"Helvetica,sans-Serif\" font-size=\"14.00\">samples = 572</text>\n<text text-anchor=\"middle\" x=\"6723.5\" y=\"-245.8\" font-family=\"Helvetica,sans-Serif\" font-size=\"14.00\">value = [345, 227]</text>\n<text text-anchor=\"middle\" x=\"6723.5\" y=\"-230.8\" font-family=\"Helvetica,sans-Serif\" font-size=\"14.00\">class = não</text>\n</g>\n<!-- 171&#45;&gt;172 -->\n<g id=\"edge172\" class=\"edge\">\n<title>171&#45;&gt;172</title>\n<path fill=\"none\" stroke=\"black\" d=\"M6869.78,-341.91C6850.5,-331.83 6829.71,-320.98 6810.03,-310.7\"/>\n<polygon fill=\"black\" stroke=\"black\" points=\"6811.56,-307.55 6801.08,-306.02 6808.32,-313.75 6811.56,-307.55\"/>\n</g>\n<!-- 179 -->\n<g id=\"node180\" class=\"node\">\n<title>179</title>\n<path fill=\"#fae8db\" stroke=\"black\" d=\"M7028,-306C7028,-306 6867,-306 6867,-306 6861,-306 6855,-300 6855,-294 6855,-294 6855,-235 6855,-235 6855,-229 6861,-223 6867,-223 6867,-223 7028,-223 7028,-223 7034,-223 7040,-229 7040,-235 7040,-235 7040,-294 7040,-294 7040,-300 7034,-306 7028,-306\"/>\n<text text-anchor=\"middle\" x=\"6947.5\" y=\"-290.8\" font-family=\"Helvetica,sans-Serif\" font-size=\"14.00\">idade_do_modelo &lt;= 16.5</text>\n<text text-anchor=\"middle\" x=\"6947.5\" y=\"-275.8\" font-family=\"Helvetica,sans-Serif\" font-size=\"14.00\">gini = 0.495</text>\n<text text-anchor=\"middle\" x=\"6947.5\" y=\"-260.8\" font-family=\"Helvetica,sans-Serif\" font-size=\"14.00\">samples = 1805</text>\n<text text-anchor=\"middle\" x=\"6947.5\" y=\"-245.8\" font-family=\"Helvetica,sans-Serif\" font-size=\"14.00\">value = [992, 813]</text>\n<text text-anchor=\"middle\" x=\"6947.5\" y=\"-230.8\" font-family=\"Helvetica,sans-Serif\" font-size=\"14.00\">class = não</text>\n</g>\n<!-- 171&#45;&gt;179 -->\n<g id=\"edge179\" class=\"edge\">\n<title>171&#45;&gt;179</title>\n<path fill=\"none\" stroke=\"black\" d=\"M6947.5,-341.91C6947.5,-333.65 6947.5,-324.86 6947.5,-316.3\"/>\n<polygon fill=\"black\" stroke=\"black\" points=\"6951,-316.02 6947.5,-306.02 6944,-316.02 6951,-316.02\"/>\n</g>\n<!-- 173 -->\n<g id=\"node174\" class=\"node\">\n<title>173</title>\n<path fill=\"#f7d7bf\" stroke=\"black\" d=\"M6417.5,-187C6417.5,-187 6251.5,-187 6251.5,-187 6245.5,-187 6239.5,-181 6239.5,-175 6239.5,-175 6239.5,-116 6239.5,-116 6239.5,-110 6245.5,-104 6251.5,-104 6251.5,-104 6417.5,-104 6417.5,-104 6423.5,-104 6429.5,-110 6429.5,-116 6429.5,-116 6429.5,-175 6429.5,-175 6429.5,-181 6423.5,-187 6417.5,-187\"/>\n<text text-anchor=\"middle\" x=\"6334.5\" y=\"-171.8\" font-family=\"Helvetica,sans-Serif\" font-size=\"14.00\">km_por_ano &lt;= 14735.117</text>\n<text text-anchor=\"middle\" x=\"6334.5\" y=\"-156.8\" font-family=\"Helvetica,sans-Serif\" font-size=\"14.00\">gini = 0.482</text>\n<text text-anchor=\"middle\" x=\"6334.5\" y=\"-141.8\" font-family=\"Helvetica,sans-Serif\" font-size=\"14.00\">samples = 559</text>\n<text text-anchor=\"middle\" x=\"6334.5\" y=\"-126.8\" font-family=\"Helvetica,sans-Serif\" font-size=\"14.00\">value = [333, 226]</text>\n<text text-anchor=\"middle\" x=\"6334.5\" y=\"-111.8\" font-family=\"Helvetica,sans-Serif\" font-size=\"14.00\">class = não</text>\n</g>\n<!-- 172&#45;&gt;173 -->\n<g id=\"edge173\" class=\"edge\">\n<title>172&#45;&gt;173</title>\n<path fill=\"none\" stroke=\"black\" d=\"M6628.37,-226.31C6625.05,-225.17 6621.75,-224.06 6618.5,-223 6613.98,-221.53 6518.66,-195.89 6439.69,-174.7\"/>\n<polygon fill=\"black\" stroke=\"black\" points=\"6440.22,-171.22 6429.65,-172.01 6438.4,-177.98 6440.22,-171.22\"/>\n</g>\n<!-- 176 -->\n<g id=\"node177\" class=\"node\">\n<title>176</title>\n<path fill=\"#e78c49\" stroke=\"black\" d=\"M6630,-187C6630,-187 6507,-187 6507,-187 6501,-187 6495,-181 6495,-175 6495,-175 6495,-116 6495,-116 6495,-110 6501,-104 6507,-104 6507,-104 6630,-104 6630,-104 6636,-104 6642,-110 6642,-116 6642,-116 6642,-175 6642,-175 6642,-181 6636,-187 6630,-187\"/>\n<text text-anchor=\"middle\" x=\"6568.5\" y=\"-171.8\" font-family=\"Helvetica,sans-Serif\" font-size=\"14.00\">preco &lt;= 64686.412</text>\n<text text-anchor=\"middle\" x=\"6568.5\" y=\"-156.8\" font-family=\"Helvetica,sans-Serif\" font-size=\"14.00\">gini = 0.142</text>\n<text text-anchor=\"middle\" x=\"6568.5\" y=\"-141.8\" font-family=\"Helvetica,sans-Serif\" font-size=\"14.00\">samples = 13</text>\n<text text-anchor=\"middle\" x=\"6568.5\" y=\"-126.8\" font-family=\"Helvetica,sans-Serif\" font-size=\"14.00\">value = [12, 1]</text>\n<text text-anchor=\"middle\" x=\"6568.5\" y=\"-111.8\" font-family=\"Helvetica,sans-Serif\" font-size=\"14.00\">class = não</text>\n</g>\n<!-- 172&#45;&gt;176 -->\n<g id=\"edge176\" class=\"edge\">\n<title>172&#45;&gt;176</title>\n<path fill=\"none\" stroke=\"black\" d=\"M6669.72,-222.91C6656.98,-213.29 6643.29,-202.95 6630.22,-193.09\"/>\n<polygon fill=\"black\" stroke=\"black\" points=\"6632.27,-190.25 6622.18,-187.02 6628.05,-195.84 6632.27,-190.25\"/>\n</g>\n<!-- 174 -->\n<g id=\"node175\" class=\"node\">\n<title>174</title>\n<path fill=\"#f6d4bc\" stroke=\"black\" d=\"M6255.5,-68C6255.5,-68 6149.5,-68 6149.5,-68 6143.5,-68 6137.5,-62 6137.5,-56 6137.5,-56 6137.5,-12 6137.5,-12 6137.5,-6 6143.5,0 6149.5,0 6149.5,0 6255.5,0 6255.5,0 6261.5,0 6267.5,-6 6267.5,-12 6267.5,-12 6267.5,-56 6267.5,-56 6267.5,-62 6261.5,-68 6255.5,-68\"/>\n<text text-anchor=\"middle\" x=\"6202.5\" y=\"-52.8\" font-family=\"Helvetica,sans-Serif\" font-size=\"14.00\">gini = 0.479</text>\n<text text-anchor=\"middle\" x=\"6202.5\" y=\"-37.8\" font-family=\"Helvetica,sans-Serif\" font-size=\"14.00\">samples = 552</text>\n<text text-anchor=\"middle\" x=\"6202.5\" y=\"-22.8\" font-family=\"Helvetica,sans-Serif\" font-size=\"14.00\">value = [332, 220]</text>\n<text text-anchor=\"middle\" x=\"6202.5\" y=\"-7.8\" font-family=\"Helvetica,sans-Serif\" font-size=\"14.00\">class = não</text>\n</g>\n<!-- 173&#45;&gt;174 -->\n<g id=\"edge174\" class=\"edge\">\n<title>173&#45;&gt;174</title>\n<path fill=\"none\" stroke=\"black\" d=\"M6285.35,-103.73C6273.91,-94.24 6261.76,-84.16 6250.38,-74.72\"/>\n<polygon fill=\"black\" stroke=\"black\" points=\"6252.57,-71.99 6242.64,-68.3 6248.1,-77.38 6252.57,-71.99\"/>\n</g>\n<!-- 175 -->\n<g id=\"node176\" class=\"node\">\n<title>175</title>\n<path fill=\"#5aade9\" stroke=\"black\" d=\"M6371,-68C6371,-68 6298,-68 6298,-68 6292,-68 6286,-62 6286,-56 6286,-56 6286,-12 6286,-12 6286,-6 6292,0 6298,0 6298,0 6371,0 6371,0 6377,0 6383,-6 6383,-12 6383,-12 6383,-56 6383,-56 6383,-62 6377,-68 6371,-68\"/>\n<text text-anchor=\"middle\" x=\"6334.5\" y=\"-52.8\" font-family=\"Helvetica,sans-Serif\" font-size=\"14.00\">gini = 0.245</text>\n<text text-anchor=\"middle\" x=\"6334.5\" y=\"-37.8\" font-family=\"Helvetica,sans-Serif\" font-size=\"14.00\">samples = 7</text>\n<text text-anchor=\"middle\" x=\"6334.5\" y=\"-22.8\" font-family=\"Helvetica,sans-Serif\" font-size=\"14.00\">value = [1, 6]</text>\n<text text-anchor=\"middle\" x=\"6334.5\" y=\"-7.8\" font-family=\"Helvetica,sans-Serif\" font-size=\"14.00\">class = sim</text>\n</g>\n<!-- 173&#45;&gt;175 -->\n<g id=\"edge175\" class=\"edge\">\n<title>173&#45;&gt;175</title>\n<path fill=\"none\" stroke=\"black\" d=\"M6334.5,-103.73C6334.5,-95.52 6334.5,-86.86 6334.5,-78.56\"/>\n<polygon fill=\"black\" stroke=\"black\" points=\"6338,-78.3 6334.5,-68.3 6331,-78.3 6338,-78.3\"/>\n</g>\n<!-- 177 -->\n<g id=\"node178\" class=\"node\">\n<title>177</title>\n<path fill=\"#ffffff\" stroke=\"black\" d=\"M6486,-68C6486,-68 6413,-68 6413,-68 6407,-68 6401,-62 6401,-56 6401,-56 6401,-12 6401,-12 6401,-6 6407,0 6413,0 6413,0 6486,0 6486,0 6492,0 6498,-6 6498,-12 6498,-12 6498,-56 6498,-56 6498,-62 6492,-68 6486,-68\"/>\n<text text-anchor=\"middle\" x=\"6449.5\" y=\"-52.8\" font-family=\"Helvetica,sans-Serif\" font-size=\"14.00\">gini = 0.5</text>\n<text text-anchor=\"middle\" x=\"6449.5\" y=\"-37.8\" font-family=\"Helvetica,sans-Serif\" font-size=\"14.00\">samples = 2</text>\n<text text-anchor=\"middle\" x=\"6449.5\" y=\"-22.8\" font-family=\"Helvetica,sans-Serif\" font-size=\"14.00\">value = [1, 1]</text>\n<text text-anchor=\"middle\" x=\"6449.5\" y=\"-7.8\" font-family=\"Helvetica,sans-Serif\" font-size=\"14.00\">class = não</text>\n</g>\n<!-- 176&#45;&gt;177 -->\n<g id=\"edge177\" class=\"edge\">\n<title>176&#45;&gt;177</title>\n<path fill=\"none\" stroke=\"black\" d=\"M6524.19,-103.73C6514.08,-94.42 6503.34,-84.54 6493.25,-75.26\"/>\n<polygon fill=\"black\" stroke=\"black\" points=\"6495.42,-72.5 6485.69,-68.3 6490.68,-77.65 6495.42,-72.5\"/>\n</g>\n<!-- 178 -->\n<g id=\"node179\" class=\"node\">\n<title>178</title>\n<path fill=\"#e58139\" stroke=\"black\" d=\"M6609,-68C6609,-68 6528,-68 6528,-68 6522,-68 6516,-62 6516,-56 6516,-56 6516,-12 6516,-12 6516,-6 6522,0 6528,0 6528,0 6609,0 6609,0 6615,0 6621,-6 6621,-12 6621,-12 6621,-56 6621,-56 6621,-62 6615,-68 6609,-68\"/>\n<text text-anchor=\"middle\" x=\"6568.5\" y=\"-52.8\" font-family=\"Helvetica,sans-Serif\" font-size=\"14.00\">gini = 0.0</text>\n<text text-anchor=\"middle\" x=\"6568.5\" y=\"-37.8\" font-family=\"Helvetica,sans-Serif\" font-size=\"14.00\">samples = 11</text>\n<text text-anchor=\"middle\" x=\"6568.5\" y=\"-22.8\" font-family=\"Helvetica,sans-Serif\" font-size=\"14.00\">value = [11, 0]</text>\n<text text-anchor=\"middle\" x=\"6568.5\" y=\"-7.8\" font-family=\"Helvetica,sans-Serif\" font-size=\"14.00\">class = não</text>\n</g>\n<!-- 176&#45;&gt;178 -->\n<g id=\"edge178\" class=\"edge\">\n<title>176&#45;&gt;178</title>\n<path fill=\"none\" stroke=\"black\" d=\"M6568.5,-103.73C6568.5,-95.52 6568.5,-86.86 6568.5,-78.56\"/>\n<polygon fill=\"black\" stroke=\"black\" points=\"6572,-78.3 6568.5,-68.3 6565,-78.3 6572,-78.3\"/>\n</g>\n<!-- 180 -->\n<g id=\"node181\" class=\"node\">\n<title>180</title>\n<path fill=\"#fcf1e9\" stroke=\"black\" d=\"M6884.5,-187C6884.5,-187 6718.5,-187 6718.5,-187 6712.5,-187 6706.5,-181 6706.5,-175 6706.5,-175 6706.5,-116 6706.5,-116 6706.5,-110 6712.5,-104 6718.5,-104 6718.5,-104 6884.5,-104 6884.5,-104 6890.5,-104 6896.5,-110 6896.5,-116 6896.5,-116 6896.5,-175 6896.5,-175 6896.5,-181 6890.5,-187 6884.5,-187\"/>\n<text text-anchor=\"middle\" x=\"6801.5\" y=\"-171.8\" font-family=\"Helvetica,sans-Serif\" font-size=\"14.00\">km_por_ano &lt;= 14953.987</text>\n<text text-anchor=\"middle\" x=\"6801.5\" y=\"-156.8\" font-family=\"Helvetica,sans-Serif\" font-size=\"14.00\">gini = 0.498</text>\n<text text-anchor=\"middle\" x=\"6801.5\" y=\"-141.8\" font-family=\"Helvetica,sans-Serif\" font-size=\"14.00\">samples = 1179</text>\n<text text-anchor=\"middle\" x=\"6801.5\" y=\"-126.8\" font-family=\"Helvetica,sans-Serif\" font-size=\"14.00\">value = [624, 555]</text>\n<text text-anchor=\"middle\" x=\"6801.5\" y=\"-111.8\" font-family=\"Helvetica,sans-Serif\" font-size=\"14.00\">class = não</text>\n</g>\n<!-- 179&#45;&gt;180 -->\n<g id=\"edge180\" class=\"edge\">\n<title>179&#45;&gt;180</title>\n<path fill=\"none\" stroke=\"black\" d=\"M6896.85,-222.91C6884.96,-213.38 6872.19,-203.15 6859.99,-193.37\"/>\n<polygon fill=\"black\" stroke=\"black\" points=\"6862.06,-190.54 6852.06,-187.02 6857.68,-196.01 6862.06,-190.54\"/>\n</g>\n<!-- 183 -->\n<g id=\"node184\" class=\"node\">\n<title>183</title>\n<path fill=\"#f7d9c4\" stroke=\"black\" d=\"M7042,-187C7042,-187 6927,-187 6927,-187 6921,-187 6915,-181 6915,-175 6915,-175 6915,-116 6915,-116 6915,-110 6921,-104 6927,-104 6927,-104 7042,-104 7042,-104 7048,-104 7054,-110 7054,-116 7054,-116 7054,-175 7054,-175 7054,-181 7048,-187 7042,-187\"/>\n<text text-anchor=\"middle\" x=\"6984.5\" y=\"-171.8\" font-family=\"Helvetica,sans-Serif\" font-size=\"14.00\">preco &lt;= 60320.83</text>\n<text text-anchor=\"middle\" x=\"6984.5\" y=\"-156.8\" font-family=\"Helvetica,sans-Serif\" font-size=\"14.00\">gini = 0.485</text>\n<text text-anchor=\"middle\" x=\"6984.5\" y=\"-141.8\" font-family=\"Helvetica,sans-Serif\" font-size=\"14.00\">samples = 626</text>\n<text text-anchor=\"middle\" x=\"6984.5\" y=\"-126.8\" font-family=\"Helvetica,sans-Serif\" font-size=\"14.00\">value = [368, 258]</text>\n<text text-anchor=\"middle\" x=\"6984.5\" y=\"-111.8\" font-family=\"Helvetica,sans-Serif\" font-size=\"14.00\">class = não</text>\n</g>\n<!-- 179&#45;&gt;183 -->\n<g id=\"edge183\" class=\"edge\">\n<title>179&#45;&gt;183</title>\n<path fill=\"none\" stroke=\"black\" d=\"M6960.34,-222.91C6963.01,-214.47 6965.85,-205.48 6968.61,-196.74\"/>\n<polygon fill=\"black\" stroke=\"black\" points=\"6972.01,-197.61 6971.69,-187.02 6965.33,-195.5 6972.01,-197.61\"/>\n</g>\n<!-- 181 -->\n<g id=\"node182\" class=\"node\">\n<title>181</title>\n<path fill=\"#4ba6e7\" stroke=\"black\" d=\"M6732,-68C6732,-68 6651,-68 6651,-68 6645,-68 6639,-62 6639,-56 6639,-56 6639,-12 6639,-12 6639,-6 6645,0 6651,0 6651,0 6732,0 6732,0 6738,0 6744,-6 6744,-12 6744,-12 6744,-56 6744,-56 6744,-62 6738,-68 6732,-68\"/>\n<text text-anchor=\"middle\" x=\"6691.5\" y=\"-52.8\" font-family=\"Helvetica,sans-Serif\" font-size=\"14.00\">gini = 0.153</text>\n<text text-anchor=\"middle\" x=\"6691.5\" y=\"-37.8\" font-family=\"Helvetica,sans-Serif\" font-size=\"14.00\">samples = 12</text>\n<text text-anchor=\"middle\" x=\"6691.5\" y=\"-22.8\" font-family=\"Helvetica,sans-Serif\" font-size=\"14.00\">value = [1, 11]</text>\n<text text-anchor=\"middle\" x=\"6691.5\" y=\"-7.8\" font-family=\"Helvetica,sans-Serif\" font-size=\"14.00\">class = sim</text>\n</g>\n<!-- 180&#45;&gt;181 -->\n<g id=\"edge181\" class=\"edge\">\n<title>180&#45;&gt;181</title>\n<path fill=\"none\" stroke=\"black\" d=\"M6760.54,-103.73C6751.29,-94.51 6741.46,-84.74 6732.22,-75.53\"/>\n<polygon fill=\"black\" stroke=\"black\" points=\"6734.51,-72.87 6724.95,-68.3 6729.57,-77.84 6734.51,-72.87\"/>\n</g>\n<!-- 182 -->\n<g id=\"node183\" class=\"node\">\n<title>182</title>\n<path fill=\"#fcefe6\" stroke=\"black\" d=\"M6880.5,-68C6880.5,-68 6774.5,-68 6774.5,-68 6768.5,-68 6762.5,-62 6762.5,-56 6762.5,-56 6762.5,-12 6762.5,-12 6762.5,-6 6768.5,0 6774.5,0 6774.5,0 6880.5,0 6880.5,0 6886.5,0 6892.5,-6 6892.5,-12 6892.5,-12 6892.5,-56 6892.5,-56 6892.5,-62 6886.5,-68 6880.5,-68\"/>\n<text text-anchor=\"middle\" x=\"6827.5\" y=\"-52.8\" font-family=\"Helvetica,sans-Serif\" font-size=\"14.00\">gini = 0.498</text>\n<text text-anchor=\"middle\" x=\"6827.5\" y=\"-37.8\" font-family=\"Helvetica,sans-Serif\" font-size=\"14.00\">samples = 1167</text>\n<text text-anchor=\"middle\" x=\"6827.5\" y=\"-22.8\" font-family=\"Helvetica,sans-Serif\" font-size=\"14.00\">value = [623, 544]</text>\n<text text-anchor=\"middle\" x=\"6827.5\" y=\"-7.8\" font-family=\"Helvetica,sans-Serif\" font-size=\"14.00\">class = não</text>\n</g>\n<!-- 180&#45;&gt;182 -->\n<g id=\"edge182\" class=\"edge\">\n<title>180&#45;&gt;182</title>\n<path fill=\"none\" stroke=\"black\" d=\"M6811.18,-103.73C6813.15,-95.43 6815.23,-86.67 6817.22,-78.28\"/>\n<polygon fill=\"black\" stroke=\"black\" points=\"6820.69,-78.84 6819.59,-68.3 6813.88,-77.22 6820.69,-78.84\"/>\n</g>\n<!-- 184 -->\n<g id=\"node185\" class=\"node\">\n<title>184</title>\n<path fill=\"#399de5\" stroke=\"black\" d=\"M6996,-68C6996,-68 6923,-68 6923,-68 6917,-68 6911,-62 6911,-56 6911,-56 6911,-12 6911,-12 6911,-6 6917,0 6923,0 6923,0 6996,0 6996,0 7002,0 7008,-6 7008,-12 7008,-12 7008,-56 7008,-56 7008,-62 7002,-68 6996,-68\"/>\n<text text-anchor=\"middle\" x=\"6959.5\" y=\"-52.8\" font-family=\"Helvetica,sans-Serif\" font-size=\"14.00\">gini = 0.0</text>\n<text text-anchor=\"middle\" x=\"6959.5\" y=\"-37.8\" font-family=\"Helvetica,sans-Serif\" font-size=\"14.00\">samples = 4</text>\n<text text-anchor=\"middle\" x=\"6959.5\" y=\"-22.8\" font-family=\"Helvetica,sans-Serif\" font-size=\"14.00\">value = [0, 4]</text>\n<text text-anchor=\"middle\" x=\"6959.5\" y=\"-7.8\" font-family=\"Helvetica,sans-Serif\" font-size=\"14.00\">class = sim</text>\n</g>\n<!-- 183&#45;&gt;184 -->\n<g id=\"edge184\" class=\"edge\">\n<title>183&#45;&gt;184</title>\n<path fill=\"none\" stroke=\"black\" d=\"M6975.19,-103.73C6973.3,-95.43 6971.3,-86.67 6969.38,-78.28\"/>\n<polygon fill=\"black\" stroke=\"black\" points=\"6972.74,-77.27 6967.1,-68.3 6965.92,-78.83 6972.74,-77.27\"/>\n</g>\n<!-- 185 -->\n<g id=\"node186\" class=\"node\">\n<title>185</title>\n<path fill=\"#f7d8c2\" stroke=\"black\" d=\"M7144.5,-68C7144.5,-68 7038.5,-68 7038.5,-68 7032.5,-68 7026.5,-62 7026.5,-56 7026.5,-56 7026.5,-12 7026.5,-12 7026.5,-6 7032.5,0 7038.5,0 7038.5,0 7144.5,0 7144.5,0 7150.5,0 7156.5,-6 7156.5,-12 7156.5,-12 7156.5,-56 7156.5,-56 7156.5,-62 7150.5,-68 7144.5,-68\"/>\n<text text-anchor=\"middle\" x=\"7091.5\" y=\"-52.8\" font-family=\"Helvetica,sans-Serif\" font-size=\"14.00\">gini = 0.483</text>\n<text text-anchor=\"middle\" x=\"7091.5\" y=\"-37.8\" font-family=\"Helvetica,sans-Serif\" font-size=\"14.00\">samples = 622</text>\n<text text-anchor=\"middle\" x=\"7091.5\" y=\"-22.8\" font-family=\"Helvetica,sans-Serif\" font-size=\"14.00\">value = [368, 254]</text>\n<text text-anchor=\"middle\" x=\"7091.5\" y=\"-7.8\" font-family=\"Helvetica,sans-Serif\" font-size=\"14.00\">class = não</text>\n</g>\n<!-- 183&#45;&gt;185 -->\n<g id=\"edge185\" class=\"edge\">\n<title>183&#45;&gt;185</title>\n<path fill=\"none\" stroke=\"black\" d=\"M7024.34,-103.73C7033.34,-94.51 7042.9,-84.74 7051.89,-75.53\"/>\n<polygon fill=\"black\" stroke=\"black\" points=\"7054.47,-77.9 7058.96,-68.3 7049.47,-73.01 7054.47,-77.9\"/>\n</g>\n<!-- 187 -->\n<g id=\"node188\" class=\"node\">\n<title>187</title>\n<path fill=\"#eca46f\" stroke=\"black\" d=\"M7486.5,-306C7486.5,-306 7320.5,-306 7320.5,-306 7314.5,-306 7308.5,-300 7308.5,-294 7308.5,-294 7308.5,-235 7308.5,-235 7308.5,-229 7314.5,-223 7320.5,-223 7320.5,-223 7486.5,-223 7486.5,-223 7492.5,-223 7498.5,-229 7498.5,-235 7498.5,-235 7498.5,-294 7498.5,-294 7498.5,-300 7492.5,-306 7486.5,-306\"/>\n<text text-anchor=\"middle\" x=\"7403.5\" y=\"-290.8\" font-family=\"Helvetica,sans-Serif\" font-size=\"14.00\">km_por_ano &lt;= 16788.635</text>\n<text text-anchor=\"middle\" x=\"7403.5\" y=\"-275.8\" font-family=\"Helvetica,sans-Serif\" font-size=\"14.00\">gini = 0.338</text>\n<text text-anchor=\"middle\" x=\"7403.5\" y=\"-260.8\" font-family=\"Helvetica,sans-Serif\" font-size=\"14.00\">samples = 65</text>\n<text text-anchor=\"middle\" x=\"7403.5\" y=\"-245.8\" font-family=\"Helvetica,sans-Serif\" font-size=\"14.00\">value = [51, 14]</text>\n<text text-anchor=\"middle\" x=\"7403.5\" y=\"-230.8\" font-family=\"Helvetica,sans-Serif\" font-size=\"14.00\">class = não</text>\n</g>\n<!-- 186&#45;&gt;187 -->\n<g id=\"edge187\" class=\"edge\">\n<title>186&#45;&gt;187</title>\n<path fill=\"none\" stroke=\"black\" d=\"M7403.5,-341.91C7403.5,-333.65 7403.5,-324.86 7403.5,-316.3\"/>\n<polygon fill=\"black\" stroke=\"black\" points=\"7407,-316.02 7403.5,-306.02 7400,-316.02 7407,-316.02\"/>\n</g>\n<!-- 194 -->\n<g id=\"node195\" class=\"node\">\n<title>194</title>\n<path fill=\"#f7d6bf\" stroke=\"black\" d=\"M7827.5,-306C7827.5,-306 7661.5,-306 7661.5,-306 7655.5,-306 7649.5,-300 7649.5,-294 7649.5,-294 7649.5,-235 7649.5,-235 7649.5,-229 7655.5,-223 7661.5,-223 7661.5,-223 7827.5,-223 7827.5,-223 7833.5,-223 7839.5,-229 7839.5,-235 7839.5,-235 7839.5,-294 7839.5,-294 7839.5,-300 7833.5,-306 7827.5,-306\"/>\n<text text-anchor=\"middle\" x=\"7744.5\" y=\"-290.8\" font-family=\"Helvetica,sans-Serif\" font-size=\"14.00\">km_por_ano &lt;= 18104.271</text>\n<text text-anchor=\"middle\" x=\"7744.5\" y=\"-275.8\" font-family=\"Helvetica,sans-Serif\" font-size=\"14.00\">gini = 0.482</text>\n<text text-anchor=\"middle\" x=\"7744.5\" y=\"-260.8\" font-family=\"Helvetica,sans-Serif\" font-size=\"14.00\">samples = 438</text>\n<text text-anchor=\"middle\" x=\"7744.5\" y=\"-245.8\" font-family=\"Helvetica,sans-Serif\" font-size=\"14.00\">value = [261, 177]</text>\n<text text-anchor=\"middle\" x=\"7744.5\" y=\"-230.8\" font-family=\"Helvetica,sans-Serif\" font-size=\"14.00\">class = não</text>\n</g>\n<!-- 186&#45;&gt;194 -->\n<g id=\"edge194\" class=\"edge\">\n<title>186&#45;&gt;194</title>\n<path fill=\"none\" stroke=\"black\" d=\"M7477.07,-357.26C7524.53,-340.97 7587,-319.54 7639.63,-301.48\"/>\n<polygon fill=\"black\" stroke=\"black\" points=\"7641.01,-304.71 7649.33,-298.15 7638.74,-298.09 7641.01,-304.71\"/>\n</g>\n<!-- 188 -->\n<g id=\"node189\" class=\"node\">\n<title>188</title>\n<path fill=\"#f6d5bd\" stroke=\"black\" d=\"M7393.5,-187C7393.5,-187 7227.5,-187 7227.5,-187 7221.5,-187 7215.5,-181 7215.5,-175 7215.5,-175 7215.5,-116 7215.5,-116 7215.5,-110 7221.5,-104 7227.5,-104 7227.5,-104 7393.5,-104 7393.5,-104 7399.5,-104 7405.5,-110 7405.5,-116 7405.5,-116 7405.5,-175 7405.5,-175 7405.5,-181 7399.5,-187 7393.5,-187\"/>\n<text text-anchor=\"middle\" x=\"7310.5\" y=\"-171.8\" font-family=\"Helvetica,sans-Serif\" font-size=\"14.00\">km_por_ano &lt;= 16199.616</text>\n<text text-anchor=\"middle\" x=\"7310.5\" y=\"-156.8\" font-family=\"Helvetica,sans-Serif\" font-size=\"14.00\">gini = 0.48</text>\n<text text-anchor=\"middle\" x=\"7310.5\" y=\"-141.8\" font-family=\"Helvetica,sans-Serif\" font-size=\"14.00\">samples = 20</text>\n<text text-anchor=\"middle\" x=\"7310.5\" y=\"-126.8\" font-family=\"Helvetica,sans-Serif\" font-size=\"14.00\">value = [12, 8]</text>\n<text text-anchor=\"middle\" x=\"7310.5\" y=\"-111.8\" font-family=\"Helvetica,sans-Serif\" font-size=\"14.00\">class = não</text>\n</g>\n<!-- 187&#45;&gt;188 -->\n<g id=\"edge188\" class=\"edge\">\n<title>187&#45;&gt;188</title>\n<path fill=\"none\" stroke=\"black\" d=\"M7371.23,-222.91C7364.09,-213.92 7356.46,-204.32 7349.09,-195.05\"/>\n<polygon fill=\"black\" stroke=\"black\" points=\"7351.67,-192.67 7342.71,-187.02 7346.19,-197.03 7351.67,-192.67\"/>\n</g>\n<!-- 191 -->\n<g id=\"node192\" class=\"node\">\n<title>191</title>\n<path fill=\"#e99457\" stroke=\"black\" d=\"M7559,-187C7559,-187 7436,-187 7436,-187 7430,-187 7424,-181 7424,-175 7424,-175 7424,-116 7424,-116 7424,-110 7430,-104 7436,-104 7436,-104 7559,-104 7559,-104 7565,-104 7571,-110 7571,-116 7571,-116 7571,-175 7571,-175 7571,-181 7565,-187 7559,-187\"/>\n<text text-anchor=\"middle\" x=\"7497.5\" y=\"-171.8\" font-family=\"Helvetica,sans-Serif\" font-size=\"14.00\">preco &lt;= 91758.566</text>\n<text text-anchor=\"middle\" x=\"7497.5\" y=\"-156.8\" font-family=\"Helvetica,sans-Serif\" font-size=\"14.00\">gini = 0.231</text>\n<text text-anchor=\"middle\" x=\"7497.5\" y=\"-141.8\" font-family=\"Helvetica,sans-Serif\" font-size=\"14.00\">samples = 45</text>\n<text text-anchor=\"middle\" x=\"7497.5\" y=\"-126.8\" font-family=\"Helvetica,sans-Serif\" font-size=\"14.00\">value = [39, 6]</text>\n<text text-anchor=\"middle\" x=\"7497.5\" y=\"-111.8\" font-family=\"Helvetica,sans-Serif\" font-size=\"14.00\">class = não</text>\n</g>\n<!-- 187&#45;&gt;191 -->\n<g id=\"edge191\" class=\"edge\">\n<title>187&#45;&gt;191</title>\n<path fill=\"none\" stroke=\"black\" d=\"M7436.11,-222.91C7443.33,-213.92 7451.05,-204.32 7458.49,-195.05\"/>\n<polygon fill=\"black\" stroke=\"black\" points=\"7461.41,-197.01 7464.94,-187.02 7455.95,-192.62 7461.41,-197.01\"/>\n</g>\n<!-- 189 -->\n<g id=\"node190\" class=\"node\">\n<title>189</title>\n<path fill=\"#e9965a\" stroke=\"black\" d=\"M7268,-68C7268,-68 7187,-68 7187,-68 7181,-68 7175,-62 7175,-56 7175,-56 7175,-12 7175,-12 7175,-6 7181,0 7187,0 7187,0 7268,0 7268,0 7274,0 7280,-6 7280,-12 7280,-12 7280,-56 7280,-56 7280,-62 7274,-68 7268,-68\"/>\n<text text-anchor=\"middle\" x=\"7227.5\" y=\"-52.8\" font-family=\"Helvetica,sans-Serif\" font-size=\"14.00\">gini = 0.245</text>\n<text text-anchor=\"middle\" x=\"7227.5\" y=\"-37.8\" font-family=\"Helvetica,sans-Serif\" font-size=\"14.00\">samples = 14</text>\n<text text-anchor=\"middle\" x=\"7227.5\" y=\"-22.8\" font-family=\"Helvetica,sans-Serif\" font-size=\"14.00\">value = [12, 2]</text>\n<text text-anchor=\"middle\" x=\"7227.5\" y=\"-7.8\" font-family=\"Helvetica,sans-Serif\" font-size=\"14.00\">class = não</text>\n</g>\n<!-- 188&#45;&gt;189 -->\n<g id=\"edge189\" class=\"edge\">\n<title>188&#45;&gt;189</title>\n<path fill=\"none\" stroke=\"black\" d=\"M7279.59,-103.73C7272.82,-94.79 7265.64,-85.32 7258.85,-76.36\"/>\n<polygon fill=\"black\" stroke=\"black\" points=\"7261.57,-74.15 7252.74,-68.3 7255.99,-78.38 7261.57,-74.15\"/>\n</g>\n<!-- 190 -->\n<g id=\"node191\" class=\"node\">\n<title>190</title>\n<path fill=\"#399de5\" stroke=\"black\" d=\"M7383,-68C7383,-68 7310,-68 7310,-68 7304,-68 7298,-62 7298,-56 7298,-56 7298,-12 7298,-12 7298,-6 7304,0 7310,0 7310,0 7383,0 7383,0 7389,0 7395,-6 7395,-12 7395,-12 7395,-56 7395,-56 7395,-62 7389,-68 7383,-68\"/>\n<text text-anchor=\"middle\" x=\"7346.5\" y=\"-52.8\" font-family=\"Helvetica,sans-Serif\" font-size=\"14.00\">gini = 0.0</text>\n<text text-anchor=\"middle\" x=\"7346.5\" y=\"-37.8\" font-family=\"Helvetica,sans-Serif\" font-size=\"14.00\">samples = 6</text>\n<text text-anchor=\"middle\" x=\"7346.5\" y=\"-22.8\" font-family=\"Helvetica,sans-Serif\" font-size=\"14.00\">value = [0, 6]</text>\n<text text-anchor=\"middle\" x=\"7346.5\" y=\"-7.8\" font-family=\"Helvetica,sans-Serif\" font-size=\"14.00\">class = sim</text>\n</g>\n<!-- 188&#45;&gt;190 -->\n<g id=\"edge190\" class=\"edge\">\n<title>188&#45;&gt;190</title>\n<path fill=\"none\" stroke=\"black\" d=\"M7323.91,-103.73C7326.66,-95.34 7329.58,-86.47 7332.36,-78.01\"/>\n<polygon fill=\"black\" stroke=\"black\" points=\"7335.75,-78.89 7335.55,-68.3 7329.1,-76.71 7335.75,-78.89\"/>\n</g>\n<!-- 192 -->\n<g id=\"node193\" class=\"node\">\n<title>192</title>\n<path fill=\"#bddef6\" stroke=\"black\" d=\"M7498,-68C7498,-68 7425,-68 7425,-68 7419,-68 7413,-62 7413,-56 7413,-56 7413,-12 7413,-12 7413,-6 7419,0 7425,0 7425,0 7498,0 7498,0 7504,0 7510,-6 7510,-12 7510,-12 7510,-56 7510,-56 7510,-62 7504,-68 7498,-68\"/>\n<text text-anchor=\"middle\" x=\"7461.5\" y=\"-52.8\" font-family=\"Helvetica,sans-Serif\" font-size=\"14.00\">gini = 0.48</text>\n<text text-anchor=\"middle\" x=\"7461.5\" y=\"-37.8\" font-family=\"Helvetica,sans-Serif\" font-size=\"14.00\">samples = 5</text>\n<text text-anchor=\"middle\" x=\"7461.5\" y=\"-22.8\" font-family=\"Helvetica,sans-Serif\" font-size=\"14.00\">value = [2, 3]</text>\n<text text-anchor=\"middle\" x=\"7461.5\" y=\"-7.8\" font-family=\"Helvetica,sans-Serif\" font-size=\"14.00\">class = sim</text>\n</g>\n<!-- 191&#45;&gt;192 -->\n<g id=\"edge192\" class=\"edge\">\n<title>191&#45;&gt;192</title>\n<path fill=\"none\" stroke=\"black\" d=\"M7484.09,-103.73C7481.34,-95.34 7478.42,-86.47 7475.64,-78.01\"/>\n<polygon fill=\"black\" stroke=\"black\" points=\"7478.9,-76.71 7472.45,-68.3 7472.25,-78.89 7478.9,-76.71\"/>\n</g>\n<!-- 193 -->\n<g id=\"node194\" class=\"node\">\n<title>193</title>\n<path fill=\"#e78b49\" stroke=\"black\" d=\"M7621,-68C7621,-68 7540,-68 7540,-68 7534,-68 7528,-62 7528,-56 7528,-56 7528,-12 7528,-12 7528,-6 7534,0 7540,0 7540,0 7621,0 7621,0 7627,0 7633,-6 7633,-12 7633,-12 7633,-56 7633,-56 7633,-62 7627,-68 7621,-68\"/>\n<text text-anchor=\"middle\" x=\"7580.5\" y=\"-52.8\" font-family=\"Helvetica,sans-Serif\" font-size=\"14.00\">gini = 0.139</text>\n<text text-anchor=\"middle\" x=\"7580.5\" y=\"-37.8\" font-family=\"Helvetica,sans-Serif\" font-size=\"14.00\">samples = 40</text>\n<text text-anchor=\"middle\" x=\"7580.5\" y=\"-22.8\" font-family=\"Helvetica,sans-Serif\" font-size=\"14.00\">value = [37, 3]</text>\n<text text-anchor=\"middle\" x=\"7580.5\" y=\"-7.8\" font-family=\"Helvetica,sans-Serif\" font-size=\"14.00\">class = não</text>\n</g>\n<!-- 191&#45;&gt;193 -->\n<g id=\"edge193\" class=\"edge\">\n<title>191&#45;&gt;193</title>\n<path fill=\"none\" stroke=\"black\" d=\"M7528.41,-103.73C7535.18,-94.79 7542.36,-85.32 7549.15,-76.36\"/>\n<polygon fill=\"black\" stroke=\"black\" points=\"7552.01,-78.38 7555.26,-68.3 7546.43,-74.15 7552.01,-78.38\"/>\n</g>\n<!-- 195 -->\n<g id=\"node196\" class=\"node\">\n<title>195</title>\n<path fill=\"#fbece0\" stroke=\"black\" d=\"M7806,-187C7806,-187 7683,-187 7683,-187 7677,-187 7671,-181 7671,-175 7671,-175 7671,-116 7671,-116 7671,-110 7677,-104 7683,-104 7683,-104 7806,-104 7806,-104 7812,-104 7818,-110 7818,-116 7818,-116 7818,-175 7818,-175 7818,-181 7812,-187 7806,-187\"/>\n<text text-anchor=\"middle\" x=\"7744.5\" y=\"-171.8\" font-family=\"Helvetica,sans-Serif\" font-size=\"14.00\">preco &lt;= 93230.973</text>\n<text text-anchor=\"middle\" x=\"7744.5\" y=\"-156.8\" font-family=\"Helvetica,sans-Serif\" font-size=\"14.00\">gini = 0.496</text>\n<text text-anchor=\"middle\" x=\"7744.5\" y=\"-141.8\" font-family=\"Helvetica,sans-Serif\" font-size=\"14.00\">samples = 227</text>\n<text text-anchor=\"middle\" x=\"7744.5\" y=\"-126.8\" font-family=\"Helvetica,sans-Serif\" font-size=\"14.00\">value = [123, 104]</text>\n<text text-anchor=\"middle\" x=\"7744.5\" y=\"-111.8\" font-family=\"Helvetica,sans-Serif\" font-size=\"14.00\">class = não</text>\n</g>\n<!-- 194&#45;&gt;195 -->\n<g id=\"edge195\" class=\"edge\">\n<title>194&#45;&gt;195</title>\n<path fill=\"none\" stroke=\"black\" d=\"M7744.5,-222.91C7744.5,-214.65 7744.5,-205.86 7744.5,-197.3\"/>\n<polygon fill=\"black\" stroke=\"black\" points=\"7748,-197.02 7744.5,-187.02 7741,-197.02 7748,-197.02\"/>\n</g>\n<!-- 198 -->\n<g id=\"node199\" class=\"node\">\n<title>198</title>\n<path fill=\"#f3c4a2\" stroke=\"black\" d=\"M8054.5,-187C8054.5,-187 7888.5,-187 7888.5,-187 7882.5,-187 7876.5,-181 7876.5,-175 7876.5,-175 7876.5,-116 7876.5,-116 7876.5,-110 7882.5,-104 7888.5,-104 7888.5,-104 8054.5,-104 8054.5,-104 8060.5,-104 8066.5,-110 8066.5,-116 8066.5,-116 8066.5,-175 8066.5,-175 8066.5,-181 8060.5,-187 8054.5,-187\"/>\n<text text-anchor=\"middle\" x=\"7971.5\" y=\"-171.8\" font-family=\"Helvetica,sans-Serif\" font-size=\"14.00\">km_por_ano &lt;= 21228.805</text>\n<text text-anchor=\"middle\" x=\"7971.5\" y=\"-156.8\" font-family=\"Helvetica,sans-Serif\" font-size=\"14.00\">gini = 0.453</text>\n<text text-anchor=\"middle\" x=\"7971.5\" y=\"-141.8\" font-family=\"Helvetica,sans-Serif\" font-size=\"14.00\">samples = 211</text>\n<text text-anchor=\"middle\" x=\"7971.5\" y=\"-126.8\" font-family=\"Helvetica,sans-Serif\" font-size=\"14.00\">value = [138, 73]</text>\n<text text-anchor=\"middle\" x=\"7971.5\" y=\"-111.8\" font-family=\"Helvetica,sans-Serif\" font-size=\"14.00\">class = não</text>\n</g>\n<!-- 194&#45;&gt;198 -->\n<g id=\"edge198\" class=\"edge\">\n<title>194&#45;&gt;198</title>\n<path fill=\"none\" stroke=\"black\" d=\"M7823.26,-222.91C7842.8,-212.83 7863.87,-201.98 7883.81,-191.7\"/>\n<polygon fill=\"black\" stroke=\"black\" points=\"7885.6,-194.71 7892.88,-187.02 7882.39,-188.49 7885.6,-194.71\"/>\n</g>\n<!-- 196 -->\n<g id=\"node197\" class=\"node\">\n<title>196</title>\n<path fill=\"#8bc5f0\" stroke=\"black\" d=\"M7744,-68C7744,-68 7663,-68 7663,-68 7657,-68 7651,-62 7651,-56 7651,-56 7651,-12 7651,-12 7651,-6 7657,0 7663,0 7663,0 7744,0 7744,0 7750,0 7756,-6 7756,-12 7756,-12 7756,-56 7756,-56 7756,-62 7750,-68 7744,-68\"/>\n<text text-anchor=\"middle\" x=\"7703.5\" y=\"-52.8\" font-family=\"Helvetica,sans-Serif\" font-size=\"14.00\">gini = 0.413</text>\n<text text-anchor=\"middle\" x=\"7703.5\" y=\"-37.8\" font-family=\"Helvetica,sans-Serif\" font-size=\"14.00\">samples = 24</text>\n<text text-anchor=\"middle\" x=\"7703.5\" y=\"-22.8\" font-family=\"Helvetica,sans-Serif\" font-size=\"14.00\">value = [7, 17]</text>\n<text text-anchor=\"middle\" x=\"7703.5\" y=\"-7.8\" font-family=\"Helvetica,sans-Serif\" font-size=\"14.00\">class = sim</text>\n</g>\n<!-- 195&#45;&gt;196 -->\n<g id=\"edge196\" class=\"edge\">\n<title>195&#45;&gt;196</title>\n<path fill=\"none\" stroke=\"black\" d=\"M7729.23,-103.73C7726.06,-95.24 7722.7,-86.28 7719.5,-77.73\"/>\n<polygon fill=\"black\" stroke=\"black\" points=\"7722.75,-76.44 7715.97,-68.3 7716.2,-78.89 7722.75,-76.44\"/>\n</g>\n<!-- 197 -->\n<g id=\"node198\" class=\"node\">\n<title>197</title>\n<path fill=\"#f8e0ce\" stroke=\"black\" d=\"M7884.5,-68C7884.5,-68 7786.5,-68 7786.5,-68 7780.5,-68 7774.5,-62 7774.5,-56 7774.5,-56 7774.5,-12 7774.5,-12 7774.5,-6 7780.5,0 7786.5,0 7786.5,0 7884.5,0 7884.5,0 7890.5,0 7896.5,-6 7896.5,-12 7896.5,-12 7896.5,-56 7896.5,-56 7896.5,-62 7890.5,-68 7884.5,-68\"/>\n<text text-anchor=\"middle\" x=\"7835.5\" y=\"-52.8\" font-family=\"Helvetica,sans-Serif\" font-size=\"14.00\">gini = 0.49</text>\n<text text-anchor=\"middle\" x=\"7835.5\" y=\"-37.8\" font-family=\"Helvetica,sans-Serif\" font-size=\"14.00\">samples = 203</text>\n<text text-anchor=\"middle\" x=\"7835.5\" y=\"-22.8\" font-family=\"Helvetica,sans-Serif\" font-size=\"14.00\">value = [116, 87]</text>\n<text text-anchor=\"middle\" x=\"7835.5\" y=\"-7.8\" font-family=\"Helvetica,sans-Serif\" font-size=\"14.00\">class = não</text>\n</g>\n<!-- 195&#45;&gt;197 -->\n<g id=\"edge197\" class=\"edge\">\n<title>195&#45;&gt;197</title>\n<path fill=\"none\" stroke=\"black\" d=\"M7778.39,-103.73C7785.89,-94.7 7793.84,-85.12 7801.36,-76.08\"/>\n<polygon fill=\"black\" stroke=\"black\" points=\"7804.13,-78.23 7807.83,-68.3 7798.74,-73.75 7804.13,-78.23\"/>\n</g>\n<!-- 199 -->\n<g id=\"node200\" class=\"node\">\n<title>199</title>\n<path fill=\"#efaf81\" stroke=\"black\" d=\"M8016,-68C8016,-68 7927,-68 7927,-68 7921,-68 7915,-62 7915,-56 7915,-56 7915,-12 7915,-12 7915,-6 7921,0 7927,0 7927,0 8016,0 8016,0 8022,0 8028,-6 8028,-12 8028,-12 8028,-56 8028,-56 8028,-62 8022,-68 8016,-68\"/>\n<text text-anchor=\"middle\" x=\"7971.5\" y=\"-52.8\" font-family=\"Helvetica,sans-Serif\" font-size=\"14.00\">gini = 0.392</text>\n<text text-anchor=\"middle\" x=\"7971.5\" y=\"-37.8\" font-family=\"Helvetica,sans-Serif\" font-size=\"14.00\">samples = 112</text>\n<text text-anchor=\"middle\" x=\"7971.5\" y=\"-22.8\" font-family=\"Helvetica,sans-Serif\" font-size=\"14.00\">value = [82, 30]</text>\n<text text-anchor=\"middle\" x=\"7971.5\" y=\"-7.8\" font-family=\"Helvetica,sans-Serif\" font-size=\"14.00\">class = não</text>\n</g>\n<!-- 198&#45;&gt;199 -->\n<g id=\"edge199\" class=\"edge\">\n<title>198&#45;&gt;199</title>\n<path fill=\"none\" stroke=\"black\" d=\"M7971.5,-103.73C7971.5,-95.52 7971.5,-86.86 7971.5,-78.56\"/>\n<polygon fill=\"black\" stroke=\"black\" points=\"7975,-78.3 7971.5,-68.3 7968,-78.3 7975,-78.3\"/>\n</g>\n<!-- 200 -->\n<g id=\"node201\" class=\"node\">\n<title>200</title>\n<path fill=\"#f9e2d1\" stroke=\"black\" d=\"M8147,-68C8147,-68 8058,-68 8058,-68 8052,-68 8046,-62 8046,-56 8046,-56 8046,-12 8046,-12 8046,-6 8052,0 8058,0 8058,0 8147,0 8147,0 8153,0 8159,-6 8159,-12 8159,-12 8159,-56 8159,-56 8159,-62 8153,-68 8147,-68\"/>\n<text text-anchor=\"middle\" x=\"8102.5\" y=\"-52.8\" font-family=\"Helvetica,sans-Serif\" font-size=\"14.00\">gini = 0.491</text>\n<text text-anchor=\"middle\" x=\"8102.5\" y=\"-37.8\" font-family=\"Helvetica,sans-Serif\" font-size=\"14.00\">samples = 99</text>\n<text text-anchor=\"middle\" x=\"8102.5\" y=\"-22.8\" font-family=\"Helvetica,sans-Serif\" font-size=\"14.00\">value = [56, 43]</text>\n<text text-anchor=\"middle\" x=\"8102.5\" y=\"-7.8\" font-family=\"Helvetica,sans-Serif\" font-size=\"14.00\">class = não</text>\n</g>\n<!-- 198&#45;&gt;200 -->\n<g id=\"edge200\" class=\"edge\">\n<title>198&#45;&gt;200</title>\n<path fill=\"none\" stroke=\"black\" d=\"M8020.28,-103.73C8031.63,-94.24 8043.69,-84.16 8054.99,-74.72\"/>\n<polygon fill=\"black\" stroke=\"black\" points=\"8057.23,-77.4 8062.66,-68.3 8052.74,-72.03 8057.23,-77.4\"/>\n</g>\n<!-- 202 -->\n<g id=\"node203\" class=\"node\">\n<title>202</title>\n<path fill=\"#50a9e8\" stroke=\"black\" d=\"M8411.5,-782C8411.5,-782 8245.5,-782 8245.5,-782 8239.5,-782 8233.5,-776 8233.5,-770 8233.5,-770 8233.5,-711 8233.5,-711 8233.5,-705 8239.5,-699 8245.5,-699 8245.5,-699 8411.5,-699 8411.5,-699 8417.5,-699 8423.5,-705 8423.5,-711 8423.5,-711 8423.5,-770 8423.5,-770 8423.5,-776 8417.5,-782 8411.5,-782\"/>\n<text text-anchor=\"middle\" x=\"8328.5\" y=\"-766.8\" font-family=\"Helvetica,sans-Serif\" font-size=\"14.00\">km_por_ano &lt;= 22918.611</text>\n<text text-anchor=\"middle\" x=\"8328.5\" y=\"-751.8\" font-family=\"Helvetica,sans-Serif\" font-size=\"14.00\">gini = 0.188</text>\n<text text-anchor=\"middle\" x=\"8328.5\" y=\"-736.8\" font-family=\"Helvetica,sans-Serif\" font-size=\"14.00\">samples = 19</text>\n<text text-anchor=\"middle\" x=\"8328.5\" y=\"-721.8\" font-family=\"Helvetica,sans-Serif\" font-size=\"14.00\">value = [2, 17]</text>\n<text text-anchor=\"middle\" x=\"8328.5\" y=\"-706.8\" font-family=\"Helvetica,sans-Serif\" font-size=\"14.00\">class = sim</text>\n</g>\n<!-- 201&#45;&gt;202 -->\n<g id=\"edge202\" class=\"edge\">\n<title>201&#45;&gt;202</title>\n<path fill=\"none\" stroke=\"black\" d=\"M8328.5,-817.91C8328.5,-809.65 8328.5,-800.86 8328.5,-792.3\"/>\n<polygon fill=\"black\" stroke=\"black\" points=\"8332,-792.02 8328.5,-782.02 8325,-792.02 8332,-792.02\"/>\n</g>\n<!-- 209 -->\n<g id=\"node210\" class=\"node\">\n<title>209</title>\n<path fill=\"#a6d3f3\" stroke=\"black\" d=\"M9311,-782C9311,-782 9180,-782 9180,-782 9174,-782 9168,-776 9168,-770 9168,-770 9168,-711 9168,-711 9168,-705 9174,-699 9180,-699 9180,-699 9311,-699 9311,-699 9317,-699 9323,-705 9323,-711 9323,-711 9323,-770 9323,-770 9323,-776 9317,-782 9311,-782\"/>\n<text text-anchor=\"middle\" x=\"9245.5\" y=\"-766.8\" font-family=\"Helvetica,sans-Serif\" font-size=\"14.00\">preco &lt;= 113349.773</text>\n<text text-anchor=\"middle\" x=\"9245.5\" y=\"-751.8\" font-family=\"Helvetica,sans-Serif\" font-size=\"14.00\">gini = 0.458</text>\n<text text-anchor=\"middle\" x=\"9245.5\" y=\"-736.8\" font-family=\"Helvetica,sans-Serif\" font-size=\"14.00\">samples = 550</text>\n<text text-anchor=\"middle\" x=\"9245.5\" y=\"-721.8\" font-family=\"Helvetica,sans-Serif\" font-size=\"14.00\">value = [195, 355]</text>\n<text text-anchor=\"middle\" x=\"9245.5\" y=\"-706.8\" font-family=\"Helvetica,sans-Serif\" font-size=\"14.00\">class = sim</text>\n</g>\n<!-- 201&#45;&gt;209 -->\n<g id=\"edge209\" class=\"edge\">\n<title>201&#45;&gt;209</title>\n<path fill=\"none\" stroke=\"black\" d=\"M8406.29,-848.58C8576.08,-826.91 8978.97,-775.51 9157.61,-752.71\"/>\n<polygon fill=\"black\" stroke=\"black\" points=\"9158.28,-756.16 9167.75,-751.42 9157.39,-749.21 9158.28,-756.16\"/>\n</g>\n<!-- 203 -->\n<g id=\"node204\" class=\"node\">\n<title>203</title>\n<path fill=\"#45a3e7\" stroke=\"black\" d=\"M8322,-663C8322,-663 8191,-663 8191,-663 8185,-663 8179,-657 8179,-651 8179,-651 8179,-592 8179,-592 8179,-586 8185,-580 8191,-580 8191,-580 8322,-580 8322,-580 8328,-580 8334,-586 8334,-592 8334,-592 8334,-651 8334,-651 8334,-657 8328,-663 8322,-663\"/>\n<text text-anchor=\"middle\" x=\"8256.5\" y=\"-647.8\" font-family=\"Helvetica,sans-Serif\" font-size=\"14.00\">preco &lt;= 100024.715</text>\n<text text-anchor=\"middle\" x=\"8256.5\" y=\"-632.8\" font-family=\"Helvetica,sans-Serif\" font-size=\"14.00\">gini = 0.105</text>\n<text text-anchor=\"middle\" x=\"8256.5\" y=\"-617.8\" font-family=\"Helvetica,sans-Serif\" font-size=\"14.00\">samples = 18</text>\n<text text-anchor=\"middle\" x=\"8256.5\" y=\"-602.8\" font-family=\"Helvetica,sans-Serif\" font-size=\"14.00\">value = [1, 17]</text>\n<text text-anchor=\"middle\" x=\"8256.5\" y=\"-587.8\" font-family=\"Helvetica,sans-Serif\" font-size=\"14.00\">class = sim</text>\n</g>\n<!-- 202&#45;&gt;203 -->\n<g id=\"edge203\" class=\"edge\">\n<title>202&#45;&gt;203</title>\n<path fill=\"none\" stroke=\"black\" d=\"M8303.52,-698.91C8298.1,-690.1 8292.32,-680.7 8286.72,-671.61\"/>\n<polygon fill=\"black\" stroke=\"black\" points=\"8289.66,-669.7 8281.44,-663.02 8283.7,-673.37 8289.66,-669.7\"/>\n</g>\n<!-- 208 -->\n<g id=\"node209\" class=\"node\">\n<title>208</title>\n<path fill=\"#e58139\" stroke=\"black\" d=\"M8437,-655.5C8437,-655.5 8364,-655.5 8364,-655.5 8358,-655.5 8352,-649.5 8352,-643.5 8352,-643.5 8352,-599.5 8352,-599.5 8352,-593.5 8358,-587.5 8364,-587.5 8364,-587.5 8437,-587.5 8437,-587.5 8443,-587.5 8449,-593.5 8449,-599.5 8449,-599.5 8449,-643.5 8449,-643.5 8449,-649.5 8443,-655.5 8437,-655.5\"/>\n<text text-anchor=\"middle\" x=\"8400.5\" y=\"-640.3\" font-family=\"Helvetica,sans-Serif\" font-size=\"14.00\">gini = 0.0</text>\n<text text-anchor=\"middle\" x=\"8400.5\" y=\"-625.3\" font-family=\"Helvetica,sans-Serif\" font-size=\"14.00\">samples = 1</text>\n<text text-anchor=\"middle\" x=\"8400.5\" y=\"-610.3\" font-family=\"Helvetica,sans-Serif\" font-size=\"14.00\">value = [1, 0]</text>\n<text text-anchor=\"middle\" x=\"8400.5\" y=\"-595.3\" font-family=\"Helvetica,sans-Serif\" font-size=\"14.00\">class = não</text>\n</g>\n<!-- 202&#45;&gt;208 -->\n<g id=\"edge208\" class=\"edge\">\n<title>202&#45;&gt;208</title>\n<path fill=\"none\" stroke=\"black\" d=\"M8353.48,-698.91C8360.34,-687.76 8367.79,-675.66 8374.69,-664.44\"/>\n<polygon fill=\"black\" stroke=\"black\" points=\"8377.83,-666.02 8380.09,-655.67 8371.87,-662.35 8377.83,-666.02\"/>\n</g>\n<!-- 204 -->\n<g id=\"node205\" class=\"node\">\n<title>204</title>\n<path fill=\"#9ccef2\" stroke=\"black\" d=\"M8248,-544C8248,-544 8117,-544 8117,-544 8111,-544 8105,-538 8105,-532 8105,-532 8105,-473 8105,-473 8105,-467 8111,-461 8117,-461 8117,-461 8248,-461 8248,-461 8254,-461 8260,-467 8260,-473 8260,-473 8260,-532 8260,-532 8260,-538 8254,-544 8248,-544\"/>\n<text text-anchor=\"middle\" x=\"8182.5\" y=\"-528.8\" font-family=\"Helvetica,sans-Serif\" font-size=\"14.00\">preco &lt;= 100012.352</text>\n<text text-anchor=\"middle\" x=\"8182.5\" y=\"-513.8\" font-family=\"Helvetica,sans-Serif\" font-size=\"14.00\">gini = 0.444</text>\n<text text-anchor=\"middle\" x=\"8182.5\" y=\"-498.8\" font-family=\"Helvetica,sans-Serif\" font-size=\"14.00\">samples = 3</text>\n<text text-anchor=\"middle\" x=\"8182.5\" y=\"-483.8\" font-family=\"Helvetica,sans-Serif\" font-size=\"14.00\">value = [1, 2]</text>\n<text text-anchor=\"middle\" x=\"8182.5\" y=\"-468.8\" font-family=\"Helvetica,sans-Serif\" font-size=\"14.00\">class = sim</text>\n</g>\n<!-- 203&#45;&gt;204 -->\n<g id=\"edge204\" class=\"edge\">\n<title>203&#45;&gt;204</title>\n<path fill=\"none\" stroke=\"black\" d=\"M8230.83,-579.91C8225.26,-571.1 8219.31,-561.7 8213.56,-552.61\"/>\n<polygon fill=\"black\" stroke=\"black\" points=\"8216.43,-550.6 8208.13,-544.02 8210.52,-554.34 8216.43,-550.6\"/>\n</g>\n<!-- 207 -->\n<g id=\"node208\" class=\"node\">\n<title>207</title>\n<path fill=\"#399de5\" stroke=\"black\" d=\"M8371,-536.5C8371,-536.5 8290,-536.5 8290,-536.5 8284,-536.5 8278,-530.5 8278,-524.5 8278,-524.5 8278,-480.5 8278,-480.5 8278,-474.5 8284,-468.5 8290,-468.5 8290,-468.5 8371,-468.5 8371,-468.5 8377,-468.5 8383,-474.5 8383,-480.5 8383,-480.5 8383,-524.5 8383,-524.5 8383,-530.5 8377,-536.5 8371,-536.5\"/>\n<text text-anchor=\"middle\" x=\"8330.5\" y=\"-521.3\" font-family=\"Helvetica,sans-Serif\" font-size=\"14.00\">gini = 0.0</text>\n<text text-anchor=\"middle\" x=\"8330.5\" y=\"-506.3\" font-family=\"Helvetica,sans-Serif\" font-size=\"14.00\">samples = 15</text>\n<text text-anchor=\"middle\" x=\"8330.5\" y=\"-491.3\" font-family=\"Helvetica,sans-Serif\" font-size=\"14.00\">value = [0, 15]</text>\n<text text-anchor=\"middle\" x=\"8330.5\" y=\"-476.3\" font-family=\"Helvetica,sans-Serif\" font-size=\"14.00\">class = sim</text>\n</g>\n<!-- 203&#45;&gt;207 -->\n<g id=\"edge207\" class=\"edge\">\n<title>203&#45;&gt;207</title>\n<path fill=\"none\" stroke=\"black\" d=\"M8282.17,-579.91C8289.22,-568.76 8296.88,-556.66 8303.97,-545.44\"/>\n<polygon fill=\"black\" stroke=\"black\" points=\"8307.14,-546.99 8309.52,-536.67 8301.22,-543.25 8307.14,-546.99\"/>\n</g>\n<!-- 205 -->\n<g id=\"node206\" class=\"node\">\n<title>205</title>\n<path fill=\"#399de5\" stroke=\"black\" d=\"M8161,-417.5C8161,-417.5 8088,-417.5 8088,-417.5 8082,-417.5 8076,-411.5 8076,-405.5 8076,-405.5 8076,-361.5 8076,-361.5 8076,-355.5 8082,-349.5 8088,-349.5 8088,-349.5 8161,-349.5 8161,-349.5 8167,-349.5 8173,-355.5 8173,-361.5 8173,-361.5 8173,-405.5 8173,-405.5 8173,-411.5 8167,-417.5 8161,-417.5\"/>\n<text text-anchor=\"middle\" x=\"8124.5\" y=\"-402.3\" font-family=\"Helvetica,sans-Serif\" font-size=\"14.00\">gini = 0.0</text>\n<text text-anchor=\"middle\" x=\"8124.5\" y=\"-387.3\" font-family=\"Helvetica,sans-Serif\" font-size=\"14.00\">samples = 2</text>\n<text text-anchor=\"middle\" x=\"8124.5\" y=\"-372.3\" font-family=\"Helvetica,sans-Serif\" font-size=\"14.00\">value = [0, 2]</text>\n<text text-anchor=\"middle\" x=\"8124.5\" y=\"-357.3\" font-family=\"Helvetica,sans-Serif\" font-size=\"14.00\">class = sim</text>\n</g>\n<!-- 204&#45;&gt;205 -->\n<g id=\"edge205\" class=\"edge\">\n<title>204&#45;&gt;205</title>\n<path fill=\"none\" stroke=\"black\" d=\"M8162.38,-460.91C8156.91,-449.87 8150.97,-437.9 8145.46,-426.77\"/>\n<polygon fill=\"black\" stroke=\"black\" points=\"8148.52,-425.07 8140.94,-417.67 8142.25,-428.18 8148.52,-425.07\"/>\n</g>\n<!-- 206 -->\n<g id=\"node207\" class=\"node\">\n<title>206</title>\n<path fill=\"#e58139\" stroke=\"black\" d=\"M8276,-417.5C8276,-417.5 8203,-417.5 8203,-417.5 8197,-417.5 8191,-411.5 8191,-405.5 8191,-405.5 8191,-361.5 8191,-361.5 8191,-355.5 8197,-349.5 8203,-349.5 8203,-349.5 8276,-349.5 8276,-349.5 8282,-349.5 8288,-355.5 8288,-361.5 8288,-361.5 8288,-405.5 8288,-405.5 8288,-411.5 8282,-417.5 8276,-417.5\"/>\n<text text-anchor=\"middle\" x=\"8239.5\" y=\"-402.3\" font-family=\"Helvetica,sans-Serif\" font-size=\"14.00\">gini = 0.0</text>\n<text text-anchor=\"middle\" x=\"8239.5\" y=\"-387.3\" font-family=\"Helvetica,sans-Serif\" font-size=\"14.00\">samples = 1</text>\n<text text-anchor=\"middle\" x=\"8239.5\" y=\"-372.3\" font-family=\"Helvetica,sans-Serif\" font-size=\"14.00\">value = [1, 0]</text>\n<text text-anchor=\"middle\" x=\"8239.5\" y=\"-357.3\" font-family=\"Helvetica,sans-Serif\" font-size=\"14.00\">class = não</text>\n</g>\n<!-- 204&#45;&gt;206 -->\n<g id=\"edge206\" class=\"edge\">\n<title>204&#45;&gt;206</title>\n<path fill=\"none\" stroke=\"black\" d=\"M8202.28,-460.91C8207.65,-449.87 8213.49,-437.9 8218.91,-426.77\"/>\n<polygon fill=\"black\" stroke=\"black\" points=\"8222.11,-428.19 8223.34,-417.67 8215.82,-425.12 8222.11,-428.19\"/>\n</g>\n<!-- 210 -->\n<g id=\"node211\" class=\"node\">\n<title>210</title>\n<path fill=\"#add6f4\" stroke=\"black\" d=\"M9311,-663C9311,-663 9180,-663 9180,-663 9174,-663 9168,-657 9168,-651 9168,-651 9168,-592 9168,-592 9168,-586 9174,-580 9180,-580 9180,-580 9311,-580 9311,-580 9317,-580 9323,-586 9323,-592 9323,-592 9323,-651 9323,-651 9323,-657 9317,-663 9311,-663\"/>\n<text text-anchor=\"middle\" x=\"9245.5\" y=\"-647.8\" font-family=\"Helvetica,sans-Serif\" font-size=\"14.00\">preco &lt;= 113081.289</text>\n<text text-anchor=\"middle\" x=\"9245.5\" y=\"-632.8\" font-family=\"Helvetica,sans-Serif\" font-size=\"14.00\">gini = 0.465</text>\n<text text-anchor=\"middle\" x=\"9245.5\" y=\"-617.8\" font-family=\"Helvetica,sans-Serif\" font-size=\"14.00\">samples = 502</text>\n<text text-anchor=\"middle\" x=\"9245.5\" y=\"-602.8\" font-family=\"Helvetica,sans-Serif\" font-size=\"14.00\">value = [185, 317]</text>\n<text text-anchor=\"middle\" x=\"9245.5\" y=\"-587.8\" font-family=\"Helvetica,sans-Serif\" font-size=\"14.00\">class = sim</text>\n</g>\n<!-- 209&#45;&gt;210 -->\n<g id=\"edge210\" class=\"edge\">\n<title>209&#45;&gt;210</title>\n<path fill=\"none\" stroke=\"black\" d=\"M9245.5,-698.91C9245.5,-690.65 9245.5,-681.86 9245.5,-673.3\"/>\n<polygon fill=\"black\" stroke=\"black\" points=\"9249,-673.02 9245.5,-663.02 9242,-673.02 9249,-673.02\"/>\n</g>\n<!-- 241 -->\n<g id=\"node242\" class=\"node\">\n<title>241</title>\n<path fill=\"#6db7ec\" stroke=\"black\" d=\"M9994,-663C9994,-663 9863,-663 9863,-663 9857,-663 9851,-657 9851,-651 9851,-651 9851,-592 9851,-592 9851,-586 9857,-580 9863,-580 9863,-580 9994,-580 9994,-580 10000,-580 10006,-586 10006,-592 10006,-592 10006,-651 10006,-651 10006,-657 10000,-663 9994,-663\"/>\n<text text-anchor=\"middle\" x=\"9928.5\" y=\"-647.8\" font-family=\"Helvetica,sans-Serif\" font-size=\"14.00\">preco &lt;= 118454.723</text>\n<text text-anchor=\"middle\" x=\"9928.5\" y=\"-632.8\" font-family=\"Helvetica,sans-Serif\" font-size=\"14.00\">gini = 0.33</text>\n<text text-anchor=\"middle\" x=\"9928.5\" y=\"-617.8\" font-family=\"Helvetica,sans-Serif\" font-size=\"14.00\">samples = 48</text>\n<text text-anchor=\"middle\" x=\"9928.5\" y=\"-602.8\" font-family=\"Helvetica,sans-Serif\" font-size=\"14.00\">value = [10, 38]</text>\n<text text-anchor=\"middle\" x=\"9928.5\" y=\"-587.8\" font-family=\"Helvetica,sans-Serif\" font-size=\"14.00\">class = sim</text>\n</g>\n<!-- 209&#45;&gt;241 -->\n<g id=\"edge241\" class=\"edge\">\n<title>209&#45;&gt;241</title>\n<path fill=\"none\" stroke=\"black\" d=\"M9323.18,-726.19C9451.44,-704.22 9706.62,-660.51 9841.03,-637.48\"/>\n<polygon fill=\"black\" stroke=\"black\" points=\"9841.62,-640.93 9850.89,-635.8 9840.44,-634.03 9841.62,-640.93\"/>\n</g>\n<!-- 211 -->\n<g id=\"node212\" class=\"node\">\n<title>211</title>\n<path fill=\"#abd5f4\" stroke=\"black\" d=\"M9202,-544C9202,-544 9041,-544 9041,-544 9035,-544 9029,-538 9029,-532 9029,-532 9029,-473 9029,-473 9029,-467 9035,-461 9041,-461 9041,-461 9202,-461 9202,-461 9208,-461 9214,-467 9214,-473 9214,-473 9214,-532 9214,-532 9214,-538 9208,-544 9202,-544\"/>\n<text text-anchor=\"middle\" x=\"9121.5\" y=\"-528.8\" font-family=\"Helvetica,sans-Serif\" font-size=\"14.00\">idade_do_modelo &lt;= 11.5</text>\n<text text-anchor=\"middle\" x=\"9121.5\" y=\"-513.8\" font-family=\"Helvetica,sans-Serif\" font-size=\"14.00\">gini = 0.463</text>\n<text text-anchor=\"middle\" x=\"9121.5\" y=\"-498.8\" font-family=\"Helvetica,sans-Serif\" font-size=\"14.00\">samples = 499</text>\n<text text-anchor=\"middle\" x=\"9121.5\" y=\"-483.8\" font-family=\"Helvetica,sans-Serif\" font-size=\"14.00\">value = [182, 317]</text>\n<text text-anchor=\"middle\" x=\"9121.5\" y=\"-468.8\" font-family=\"Helvetica,sans-Serif\" font-size=\"14.00\">class = sim</text>\n</g>\n<!-- 210&#45;&gt;211 -->\n<g id=\"edge211\" class=\"edge\">\n<title>210&#45;&gt;211</title>\n<path fill=\"none\" stroke=\"black\" d=\"M9202.48,-579.91C9192.57,-570.56 9181.95,-560.54 9171.77,-550.93\"/>\n<polygon fill=\"black\" stroke=\"black\" points=\"9174.12,-548.34 9164.45,-544.02 9169.32,-553.43 9174.12,-548.34\"/>\n</g>\n<!-- 240 -->\n<g id=\"node241\" class=\"node\">\n<title>240</title>\n<path fill=\"#e58139\" stroke=\"black\" d=\"M9317,-536.5C9317,-536.5 9244,-536.5 9244,-536.5 9238,-536.5 9232,-530.5 9232,-524.5 9232,-524.5 9232,-480.5 9232,-480.5 9232,-474.5 9238,-468.5 9244,-468.5 9244,-468.5 9317,-468.5 9317,-468.5 9323,-468.5 9329,-474.5 9329,-480.5 9329,-480.5 9329,-524.5 9329,-524.5 9329,-530.5 9323,-536.5 9317,-536.5\"/>\n<text text-anchor=\"middle\" x=\"9280.5\" y=\"-521.3\" font-family=\"Helvetica,sans-Serif\" font-size=\"14.00\">gini = 0.0</text>\n<text text-anchor=\"middle\" x=\"9280.5\" y=\"-506.3\" font-family=\"Helvetica,sans-Serif\" font-size=\"14.00\">samples = 3</text>\n<text text-anchor=\"middle\" x=\"9280.5\" y=\"-491.3\" font-family=\"Helvetica,sans-Serif\" font-size=\"14.00\">value = [3, 0]</text>\n<text text-anchor=\"middle\" x=\"9280.5\" y=\"-476.3\" font-family=\"Helvetica,sans-Serif\" font-size=\"14.00\">class = não</text>\n</g>\n<!-- 210&#45;&gt;240 -->\n<g id=\"edge240\" class=\"edge\">\n<title>210&#45;&gt;240</title>\n<path fill=\"none\" stroke=\"black\" d=\"M9257.64,-579.91C9260.88,-569.09 9264.38,-557.38 9267.65,-546.44\"/>\n<polygon fill=\"black\" stroke=\"black\" points=\"9271.07,-547.25 9270.58,-536.67 9264.36,-545.24 9271.07,-547.25\"/>\n</g>\n<!-- 212 -->\n<g id=\"node213\" class=\"node\">\n<title>212</title>\n<path fill=\"#c4e2f7\" stroke=\"black\" d=\"M8748,-425C8748,-425 8617,-425 8617,-425 8611,-425 8605,-419 8605,-413 8605,-413 8605,-354 8605,-354 8605,-348 8611,-342 8617,-342 8617,-342 8748,-342 8748,-342 8754,-342 8760,-348 8760,-354 8760,-354 8760,-413 8760,-413 8760,-419 8754,-425 8748,-425\"/>\n<text text-anchor=\"middle\" x=\"8682.5\" y=\"-409.8\" font-family=\"Helvetica,sans-Serif\" font-size=\"14.00\">preco &lt;= 101092.164</text>\n<text text-anchor=\"middle\" x=\"8682.5\" y=\"-394.8\" font-family=\"Helvetica,sans-Serif\" font-size=\"14.00\">gini = 0.484</text>\n<text text-anchor=\"middle\" x=\"8682.5\" y=\"-379.8\" font-family=\"Helvetica,sans-Serif\" font-size=\"14.00\">samples = 238</text>\n<text text-anchor=\"middle\" x=\"8682.5\" y=\"-364.8\" font-family=\"Helvetica,sans-Serif\" font-size=\"14.00\">value = [98, 140]</text>\n<text text-anchor=\"middle\" x=\"8682.5\" y=\"-349.8\" font-family=\"Helvetica,sans-Serif\" font-size=\"14.00\">class = sim</text>\n</g>\n<!-- 211&#45;&gt;212 -->\n<g id=\"edge212\" class=\"edge\">\n<title>211&#45;&gt;212</title>\n<path fill=\"none\" stroke=\"black\" d=\"M9028.94,-476.83C8952.62,-456.49 8845.11,-427.84 8770.17,-407.86\"/>\n<polygon fill=\"black\" stroke=\"black\" points=\"8770.84,-404.42 8760.28,-405.23 8769.04,-411.19 8770.84,-404.42\"/>\n</g>\n<!-- 225 -->\n<g id=\"node226\" class=\"node\">\n<title>225</title>\n<path fill=\"#97ccf1\" stroke=\"black\" d=\"M9210,-425C9210,-425 9079,-425 9079,-425 9073,-425 9067,-419 9067,-413 9067,-413 9067,-354 9067,-354 9067,-348 9073,-342 9079,-342 9079,-342 9210,-342 9210,-342 9216,-342 9222,-348 9222,-354 9222,-354 9222,-413 9222,-413 9222,-419 9216,-425 9210,-425\"/>\n<text text-anchor=\"middle\" x=\"9144.5\" y=\"-409.8\" font-family=\"Helvetica,sans-Serif\" font-size=\"14.00\">preco &lt;= 104117.805</text>\n<text text-anchor=\"middle\" x=\"9144.5\" y=\"-394.8\" font-family=\"Helvetica,sans-Serif\" font-size=\"14.00\">gini = 0.437</text>\n<text text-anchor=\"middle\" x=\"9144.5\" y=\"-379.8\" font-family=\"Helvetica,sans-Serif\" font-size=\"14.00\">samples = 261</text>\n<text text-anchor=\"middle\" x=\"9144.5\" y=\"-364.8\" font-family=\"Helvetica,sans-Serif\" font-size=\"14.00\">value = [84, 177]</text>\n<text text-anchor=\"middle\" x=\"9144.5\" y=\"-349.8\" font-family=\"Helvetica,sans-Serif\" font-size=\"14.00\">class = sim</text>\n</g>\n<!-- 211&#45;&gt;225 -->\n<g id=\"edge225\" class=\"edge\">\n<title>211&#45;&gt;225</title>\n<path fill=\"none\" stroke=\"black\" d=\"M9129.48,-460.91C9131.12,-452.56 9132.87,-443.67 9134.57,-435.02\"/>\n<polygon fill=\"black\" stroke=\"black\" points=\"9138.04,-435.51 9136.53,-425.02 9131.17,-434.16 9138.04,-435.51\"/>\n</g>\n<!-- 213 -->\n<g id=\"node214\" class=\"node\">\n<title>213</title>\n<path fill=\"#eeab7b\" stroke=\"black\" d=\"M8482,-306C8482,-306 8367,-306 8367,-306 8361,-306 8355,-300 8355,-294 8355,-294 8355,-235 8355,-235 8355,-229 8361,-223 8367,-223 8367,-223 8482,-223 8482,-223 8488,-223 8494,-229 8494,-235 8494,-235 8494,-294 8494,-294 8494,-300 8488,-306 8482,-306\"/>\n<text text-anchor=\"middle\" x=\"8424.5\" y=\"-290.8\" font-family=\"Helvetica,sans-Serif\" font-size=\"14.00\">preco &lt;= 100625.5</text>\n<text text-anchor=\"middle\" x=\"8424.5\" y=\"-275.8\" font-family=\"Helvetica,sans-Serif\" font-size=\"14.00\">gini = 0.375</text>\n<text text-anchor=\"middle\" x=\"8424.5\" y=\"-260.8\" font-family=\"Helvetica,sans-Serif\" font-size=\"14.00\">samples = 12</text>\n<text text-anchor=\"middle\" x=\"8424.5\" y=\"-245.8\" font-family=\"Helvetica,sans-Serif\" font-size=\"14.00\">value = [9, 3]</text>\n<text text-anchor=\"middle\" x=\"8424.5\" y=\"-230.8\" font-family=\"Helvetica,sans-Serif\" font-size=\"14.00\">class = não</text>\n</g>\n<!-- 212&#45;&gt;213 -->\n<g id=\"edge213\" class=\"edge\">\n<title>212&#45;&gt;213</title>\n<path fill=\"none\" stroke=\"black\" d=\"M8604.74,-347.24C8572.74,-332.72 8535.71,-315.93 8503.57,-301.36\"/>\n<polygon fill=\"black\" stroke=\"black\" points=\"8504.76,-298.05 8494.2,-297.11 8501.86,-304.43 8504.76,-298.05\"/>\n</g>\n<!-- 218 -->\n<g id=\"node219\" class=\"node\">\n<title>218</title>\n<path fill=\"#baddf6\" stroke=\"black\" d=\"M8744,-306C8744,-306 8621,-306 8621,-306 8615,-306 8609,-300 8609,-294 8609,-294 8609,-235 8609,-235 8609,-229 8615,-223 8621,-223 8621,-223 8744,-223 8744,-223 8750,-223 8756,-229 8756,-235 8756,-235 8756,-294 8756,-294 8756,-300 8750,-306 8744,-306\"/>\n<text text-anchor=\"middle\" x=\"8682.5\" y=\"-290.8\" font-family=\"Helvetica,sans-Serif\" font-size=\"14.00\">preco &lt;= 104942.91</text>\n<text text-anchor=\"middle\" x=\"8682.5\" y=\"-275.8\" font-family=\"Helvetica,sans-Serif\" font-size=\"14.00\">gini = 0.477</text>\n<text text-anchor=\"middle\" x=\"8682.5\" y=\"-260.8\" font-family=\"Helvetica,sans-Serif\" font-size=\"14.00\">samples = 226</text>\n<text text-anchor=\"middle\" x=\"8682.5\" y=\"-245.8\" font-family=\"Helvetica,sans-Serif\" font-size=\"14.00\">value = [89, 137]</text>\n<text text-anchor=\"middle\" x=\"8682.5\" y=\"-230.8\" font-family=\"Helvetica,sans-Serif\" font-size=\"14.00\">class = sim</text>\n</g>\n<!-- 212&#45;&gt;218 -->\n<g id=\"edge218\" class=\"edge\">\n<title>212&#45;&gt;218</title>\n<path fill=\"none\" stroke=\"black\" d=\"M8682.5,-341.91C8682.5,-333.65 8682.5,-324.86 8682.5,-316.3\"/>\n<polygon fill=\"black\" stroke=\"black\" points=\"8686,-316.02 8682.5,-306.02 8679,-316.02 8686,-316.02\"/>\n</g>\n<!-- 214 -->\n<g id=\"node215\" class=\"node\">\n<title>214</title>\n<path fill=\"#ffffff\" stroke=\"black\" d=\"M8346,-187C8346,-187 8223,-187 8223,-187 8217,-187 8211,-181 8211,-175 8211,-175 8211,-116 8211,-116 8211,-110 8217,-104 8223,-104 8223,-104 8346,-104 8346,-104 8352,-104 8358,-110 8358,-116 8358,-116 8358,-175 8358,-175 8358,-181 8352,-187 8346,-187\"/>\n<text text-anchor=\"middle\" x=\"8284.5\" y=\"-171.8\" font-family=\"Helvetica,sans-Serif\" font-size=\"14.00\">preco &lt;= 100508.34</text>\n<text text-anchor=\"middle\" x=\"8284.5\" y=\"-156.8\" font-family=\"Helvetica,sans-Serif\" font-size=\"14.00\">gini = 0.5</text>\n<text text-anchor=\"middle\" x=\"8284.5\" y=\"-141.8\" font-family=\"Helvetica,sans-Serif\" font-size=\"14.00\">samples = 6</text>\n<text text-anchor=\"middle\" x=\"8284.5\" y=\"-126.8\" font-family=\"Helvetica,sans-Serif\" font-size=\"14.00\">value = [3, 3]</text>\n<text text-anchor=\"middle\" x=\"8284.5\" y=\"-111.8\" font-family=\"Helvetica,sans-Serif\" font-size=\"14.00\">class = não</text>\n</g>\n<!-- 213&#45;&gt;214 -->\n<g id=\"edge214\" class=\"edge\">\n<title>213&#45;&gt;214</title>\n<path fill=\"none\" stroke=\"black\" d=\"M8375.93,-222.91C8364.63,-213.47 8352.52,-203.34 8340.92,-193.65\"/>\n<polygon fill=\"black\" stroke=\"black\" points=\"8342.9,-190.75 8332.99,-187.02 8338.42,-196.12 8342.9,-190.75\"/>\n</g>\n<!-- 217 -->\n<g id=\"node218\" class=\"node\">\n<title>217</title>\n<path fill=\"#e58139\" stroke=\"black\" d=\"M8461,-179.5C8461,-179.5 8388,-179.5 8388,-179.5 8382,-179.5 8376,-173.5 8376,-167.5 8376,-167.5 8376,-123.5 8376,-123.5 8376,-117.5 8382,-111.5 8388,-111.5 8388,-111.5 8461,-111.5 8461,-111.5 8467,-111.5 8473,-117.5 8473,-123.5 8473,-123.5 8473,-167.5 8473,-167.5 8473,-173.5 8467,-179.5 8461,-179.5\"/>\n<text text-anchor=\"middle\" x=\"8424.5\" y=\"-164.3\" font-family=\"Helvetica,sans-Serif\" font-size=\"14.00\">gini = 0.0</text>\n<text text-anchor=\"middle\" x=\"8424.5\" y=\"-149.3\" font-family=\"Helvetica,sans-Serif\" font-size=\"14.00\">samples = 6</text>\n<text text-anchor=\"middle\" x=\"8424.5\" y=\"-134.3\" font-family=\"Helvetica,sans-Serif\" font-size=\"14.00\">value = [6, 0]</text>\n<text text-anchor=\"middle\" x=\"8424.5\" y=\"-119.3\" font-family=\"Helvetica,sans-Serif\" font-size=\"14.00\">class = não</text>\n</g>\n<!-- 213&#45;&gt;217 -->\n<g id=\"edge217\" class=\"edge\">\n<title>213&#45;&gt;217</title>\n<path fill=\"none\" stroke=\"black\" d=\"M8424.5,-222.91C8424.5,-212.2 8424.5,-200.62 8424.5,-189.78\"/>\n<polygon fill=\"black\" stroke=\"black\" points=\"8428,-189.67 8424.5,-179.67 8421,-189.67 8428,-189.67\"/>\n</g>\n<!-- 215 -->\n<g id=\"node216\" class=\"node\">\n<title>215</title>\n<path fill=\"#eeab7b\" stroke=\"black\" d=\"M8262,-68C8262,-68 8189,-68 8189,-68 8183,-68 8177,-62 8177,-56 8177,-56 8177,-12 8177,-12 8177,-6 8183,0 8189,0 8189,0 8262,0 8262,0 8268,0 8274,-6 8274,-12 8274,-12 8274,-56 8274,-56 8274,-62 8268,-68 8262,-68\"/>\n<text text-anchor=\"middle\" x=\"8225.5\" y=\"-52.8\" font-family=\"Helvetica,sans-Serif\" font-size=\"14.00\">gini = 0.375</text>\n<text text-anchor=\"middle\" x=\"8225.5\" y=\"-37.8\" font-family=\"Helvetica,sans-Serif\" font-size=\"14.00\">samples = 4</text>\n<text text-anchor=\"middle\" x=\"8225.5\" y=\"-22.8\" font-family=\"Helvetica,sans-Serif\" font-size=\"14.00\">value = [3, 1]</text>\n<text text-anchor=\"middle\" x=\"8225.5\" y=\"-7.8\" font-family=\"Helvetica,sans-Serif\" font-size=\"14.00\">class = não</text>\n</g>\n<!-- 214&#45;&gt;215 -->\n<g id=\"edge215\" class=\"edge\">\n<title>214&#45;&gt;215</title>\n<path fill=\"none\" stroke=\"black\" d=\"M8262.53,-103.73C8257.86,-95.06 8252.92,-85.9 8248.23,-77.18\"/>\n<polygon fill=\"black\" stroke=\"black\" points=\"8251.27,-75.44 8243.44,-68.3 8245.1,-78.76 8251.27,-75.44\"/>\n</g>\n<!-- 216 -->\n<g id=\"node217\" class=\"node\">\n<title>216</title>\n<path fill=\"#399de5\" stroke=\"black\" d=\"M8377,-68C8377,-68 8304,-68 8304,-68 8298,-68 8292,-62 8292,-56 8292,-56 8292,-12 8292,-12 8292,-6 8298,0 8304,0 8304,0 8377,0 8377,0 8383,0 8389,-6 8389,-12 8389,-12 8389,-56 8389,-56 8389,-62 8383,-68 8377,-68\"/>\n<text text-anchor=\"middle\" x=\"8340.5\" y=\"-52.8\" font-family=\"Helvetica,sans-Serif\" font-size=\"14.00\">gini = 0.0</text>\n<text text-anchor=\"middle\" x=\"8340.5\" y=\"-37.8\" font-family=\"Helvetica,sans-Serif\" font-size=\"14.00\">samples = 2</text>\n<text text-anchor=\"middle\" x=\"8340.5\" y=\"-22.8\" font-family=\"Helvetica,sans-Serif\" font-size=\"14.00\">value = [0, 2]</text>\n<text text-anchor=\"middle\" x=\"8340.5\" y=\"-7.8\" font-family=\"Helvetica,sans-Serif\" font-size=\"14.00\">class = sim</text>\n</g>\n<!-- 214&#45;&gt;216 -->\n<g id=\"edge216\" class=\"edge\">\n<title>214&#45;&gt;216</title>\n<path fill=\"none\" stroke=\"black\" d=\"M8305.35,-103.73C8309.74,-95.15 8314.37,-86.09 8318.79,-77.46\"/>\n<polygon fill=\"black\" stroke=\"black\" points=\"8322.03,-78.8 8323.47,-68.3 8315.8,-75.61 8322.03,-78.8\"/>\n</g>\n<!-- 219 -->\n<g id=\"node220\" class=\"node\">\n<title>219</title>\n<path fill=\"#91c8f1\" stroke=\"black\" d=\"M8669.5,-187C8669.5,-187 8503.5,-187 8503.5,-187 8497.5,-187 8491.5,-181 8491.5,-175 8491.5,-175 8491.5,-116 8491.5,-116 8491.5,-110 8497.5,-104 8503.5,-104 8503.5,-104 8669.5,-104 8669.5,-104 8675.5,-104 8681.5,-110 8681.5,-116 8681.5,-116 8681.5,-175 8681.5,-175 8681.5,-181 8675.5,-187 8669.5,-187\"/>\n<text text-anchor=\"middle\" x=\"8586.5\" y=\"-171.8\" font-family=\"Helvetica,sans-Serif\" font-size=\"14.00\">km_por_ano &lt;= 16235.021</text>\n<text text-anchor=\"middle\" x=\"8586.5\" y=\"-156.8\" font-family=\"Helvetica,sans-Serif\" font-size=\"14.00\">gini = 0.425</text>\n<text text-anchor=\"middle\" x=\"8586.5\" y=\"-141.8\" font-family=\"Helvetica,sans-Serif\" font-size=\"14.00\">samples = 88</text>\n<text text-anchor=\"middle\" x=\"8586.5\" y=\"-126.8\" font-family=\"Helvetica,sans-Serif\" font-size=\"14.00\">value = [27, 61]</text>\n<text text-anchor=\"middle\" x=\"8586.5\" y=\"-111.8\" font-family=\"Helvetica,sans-Serif\" font-size=\"14.00\">class = sim</text>\n</g>\n<!-- 218&#45;&gt;219 -->\n<g id=\"edge219\" class=\"edge\">\n<title>218&#45;&gt;219</title>\n<path fill=\"none\" stroke=\"black\" d=\"M8649.19,-222.91C8641.75,-213.83 8633.78,-204.12 8626.11,-194.77\"/>\n<polygon fill=\"black\" stroke=\"black\" points=\"8628.8,-192.53 8619.75,-187.02 8623.39,-196.97 8628.8,-192.53\"/>\n</g>\n<!-- 222 -->\n<g id=\"node223\" class=\"node\">\n<title>222</title>\n<path fill=\"#dbedfa\" stroke=\"black\" d=\"M8843,-187C8843,-187 8712,-187 8712,-187 8706,-187 8700,-181 8700,-175 8700,-175 8700,-116 8700,-116 8700,-110 8706,-104 8712,-104 8712,-104 8843,-104 8843,-104 8849,-104 8855,-110 8855,-116 8855,-116 8855,-175 8855,-175 8855,-181 8849,-187 8843,-187\"/>\n<text text-anchor=\"middle\" x=\"8777.5\" y=\"-171.8\" font-family=\"Helvetica,sans-Serif\" font-size=\"14.00\">preco &lt;= 105162.227</text>\n<text text-anchor=\"middle\" x=\"8777.5\" y=\"-156.8\" font-family=\"Helvetica,sans-Serif\" font-size=\"14.00\">gini = 0.495</text>\n<text text-anchor=\"middle\" x=\"8777.5\" y=\"-141.8\" font-family=\"Helvetica,sans-Serif\" font-size=\"14.00\">samples = 138</text>\n<text text-anchor=\"middle\" x=\"8777.5\" y=\"-126.8\" font-family=\"Helvetica,sans-Serif\" font-size=\"14.00\">value = [62, 76]</text>\n<text text-anchor=\"middle\" x=\"8777.5\" y=\"-111.8\" font-family=\"Helvetica,sans-Serif\" font-size=\"14.00\">class = sim</text>\n</g>\n<!-- 218&#45;&gt;222 -->\n<g id=\"edge222\" class=\"edge\">\n<title>218&#45;&gt;222</title>\n<path fill=\"none\" stroke=\"black\" d=\"M8715.46,-222.91C8722.75,-213.92 8730.56,-204.32 8738.08,-195.05\"/>\n<polygon fill=\"black\" stroke=\"black\" points=\"8741.01,-196.99 8744.6,-187.02 8735.58,-192.58 8741.01,-196.99\"/>\n</g>\n<!-- 220 -->\n<g id=\"node221\" class=\"node\">\n<title>220</title>\n<path fill=\"#57ace9\" stroke=\"black\" d=\"M8500,-68C8500,-68 8419,-68 8419,-68 8413,-68 8407,-62 8407,-56 8407,-56 8407,-12 8407,-12 8407,-6 8413,0 8419,0 8419,0 8500,0 8500,0 8506,0 8512,-6 8512,-12 8512,-12 8512,-56 8512,-56 8512,-62 8506,-68 8500,-68\"/>\n<text text-anchor=\"middle\" x=\"8459.5\" y=\"-52.8\" font-family=\"Helvetica,sans-Serif\" font-size=\"14.00\">gini = 0.227</text>\n<text text-anchor=\"middle\" x=\"8459.5\" y=\"-37.8\" font-family=\"Helvetica,sans-Serif\" font-size=\"14.00\">samples = 23</text>\n<text text-anchor=\"middle\" x=\"8459.5\" y=\"-22.8\" font-family=\"Helvetica,sans-Serif\" font-size=\"14.00\">value = [3, 20]</text>\n<text text-anchor=\"middle\" x=\"8459.5\" y=\"-7.8\" font-family=\"Helvetica,sans-Serif\" font-size=\"14.00\">class = sim</text>\n</g>\n<!-- 219&#45;&gt;220 -->\n<g id=\"edge220\" class=\"edge\">\n<title>219&#45;&gt;220</title>\n<path fill=\"none\" stroke=\"black\" d=\"M8539.21,-103.73C8528.31,-94.33 8516.74,-84.35 8505.88,-74.99\"/>\n<polygon fill=\"black\" stroke=\"black\" points=\"8507.98,-72.18 8498.12,-68.3 8503.41,-77.48 8507.98,-72.18\"/>\n</g>\n<!-- 221 -->\n<g id=\"node222\" class=\"node\">\n<title>221</title>\n<path fill=\"#add6f4\" stroke=\"black\" d=\"M8631,-68C8631,-68 8542,-68 8542,-68 8536,-68 8530,-62 8530,-56 8530,-56 8530,-12 8530,-12 8530,-6 8536,0 8542,0 8542,0 8631,0 8631,0 8637,0 8643,-6 8643,-12 8643,-12 8643,-56 8643,-56 8643,-62 8637,-68 8631,-68\"/>\n<text text-anchor=\"middle\" x=\"8586.5\" y=\"-52.8\" font-family=\"Helvetica,sans-Serif\" font-size=\"14.00\">gini = 0.466</text>\n<text text-anchor=\"middle\" x=\"8586.5\" y=\"-37.8\" font-family=\"Helvetica,sans-Serif\" font-size=\"14.00\">samples = 65</text>\n<text text-anchor=\"middle\" x=\"8586.5\" y=\"-22.8\" font-family=\"Helvetica,sans-Serif\" font-size=\"14.00\">value = [24, 41]</text>\n<text text-anchor=\"middle\" x=\"8586.5\" y=\"-7.8\" font-family=\"Helvetica,sans-Serif\" font-size=\"14.00\">class = sim</text>\n</g>\n<!-- 219&#45;&gt;221 -->\n<g id=\"edge221\" class=\"edge\">\n<title>219&#45;&gt;221</title>\n<path fill=\"none\" stroke=\"black\" d=\"M8586.5,-103.73C8586.5,-95.52 8586.5,-86.86 8586.5,-78.56\"/>\n<polygon fill=\"black\" stroke=\"black\" points=\"8590,-78.3 8586.5,-68.3 8583,-78.3 8590,-78.3\"/>\n</g>\n<!-- 223 -->\n<g id=\"node224\" class=\"node\">\n<title>223</title>\n<path fill=\"#e58139\" stroke=\"black\" d=\"M8746,-68C8746,-68 8673,-68 8673,-68 8667,-68 8661,-62 8661,-56 8661,-56 8661,-12 8661,-12 8661,-6 8667,0 8673,0 8673,0 8746,0 8746,0 8752,0 8758,-6 8758,-12 8758,-12 8758,-56 8758,-56 8758,-62 8752,-68 8746,-68\"/>\n<text text-anchor=\"middle\" x=\"8709.5\" y=\"-52.8\" font-family=\"Helvetica,sans-Serif\" font-size=\"14.00\">gini = 0.0</text>\n<text text-anchor=\"middle\" x=\"8709.5\" y=\"-37.8\" font-family=\"Helvetica,sans-Serif\" font-size=\"14.00\">samples = 5</text>\n<text text-anchor=\"middle\" x=\"8709.5\" y=\"-22.8\" font-family=\"Helvetica,sans-Serif\" font-size=\"14.00\">value = [5, 0]</text>\n<text text-anchor=\"middle\" x=\"8709.5\" y=\"-7.8\" font-family=\"Helvetica,sans-Serif\" font-size=\"14.00\">class = não</text>\n</g>\n<!-- 222&#45;&gt;223 -->\n<g id=\"edge223\" class=\"edge\">\n<title>222&#45;&gt;223</title>\n<path fill=\"none\" stroke=\"black\" d=\"M8752.18,-103.73C8746.74,-94.97 8740.99,-85.7 8735.52,-76.91\"/>\n<polygon fill=\"black\" stroke=\"black\" points=\"8738.43,-74.95 8730.18,-68.3 8732.48,-78.64 8738.43,-74.95\"/>\n</g>\n<!-- 224 -->\n<g id=\"node225\" class=\"node\">\n<title>224</title>\n<path fill=\"#cee6f8\" stroke=\"black\" d=\"M8877,-68C8877,-68 8788,-68 8788,-68 8782,-68 8776,-62 8776,-56 8776,-56 8776,-12 8776,-12 8776,-6 8782,0 8788,0 8788,0 8877,0 8877,0 8883,0 8889,-6 8889,-12 8889,-12 8889,-56 8889,-56 8889,-62 8883,-68 8877,-68\"/>\n<text text-anchor=\"middle\" x=\"8832.5\" y=\"-52.8\" font-family=\"Helvetica,sans-Serif\" font-size=\"14.00\">gini = 0.49</text>\n<text text-anchor=\"middle\" x=\"8832.5\" y=\"-37.8\" font-family=\"Helvetica,sans-Serif\" font-size=\"14.00\">samples = 133</text>\n<text text-anchor=\"middle\" x=\"8832.5\" y=\"-22.8\" font-family=\"Helvetica,sans-Serif\" font-size=\"14.00\">value = [57, 76]</text>\n<text text-anchor=\"middle\" x=\"8832.5\" y=\"-7.8\" font-family=\"Helvetica,sans-Serif\" font-size=\"14.00\">class = sim</text>\n</g>\n<!-- 222&#45;&gt;224 -->\n<g id=\"edge224\" class=\"edge\">\n<title>222&#45;&gt;224</title>\n<path fill=\"none\" stroke=\"black\" d=\"M8797.98,-103.73C8802.29,-95.15 8806.84,-86.09 8811.18,-77.46\"/>\n<polygon fill=\"black\" stroke=\"black\" points=\"8814.41,-78.81 8815.77,-68.3 8808.16,-75.66 8814.41,-78.81\"/>\n</g>\n<!-- 226 -->\n<g id=\"node227\" class=\"node\">\n<title>226</title>\n<path fill=\"#bcdef6\" stroke=\"black\" d=\"M9210,-306C9210,-306 9079,-306 9079,-306 9073,-306 9067,-300 9067,-294 9067,-294 9067,-235 9067,-235 9067,-229 9073,-223 9079,-223 9079,-223 9210,-223 9210,-223 9216,-223 9222,-229 9222,-235 9222,-235 9222,-294 9222,-294 9222,-300 9216,-306 9210,-306\"/>\n<text text-anchor=\"middle\" x=\"9144.5\" y=\"-290.8\" font-family=\"Helvetica,sans-Serif\" font-size=\"14.00\">preco &lt;= 101696.715</text>\n<text text-anchor=\"middle\" x=\"9144.5\" y=\"-275.8\" font-family=\"Helvetica,sans-Serif\" font-size=\"14.00\">gini = 0.479</text>\n<text text-anchor=\"middle\" x=\"9144.5\" y=\"-260.8\" font-family=\"Helvetica,sans-Serif\" font-size=\"14.00\">samples = 98</text>\n<text text-anchor=\"middle\" x=\"9144.5\" y=\"-245.8\" font-family=\"Helvetica,sans-Serif\" font-size=\"14.00\">value = [39, 59]</text>\n<text text-anchor=\"middle\" x=\"9144.5\" y=\"-230.8\" font-family=\"Helvetica,sans-Serif\" font-size=\"14.00\">class = sim</text>\n</g>\n<!-- 225&#45;&gt;226 -->\n<g id=\"edge226\" class=\"edge\">\n<title>225&#45;&gt;226</title>\n<path fill=\"none\" stroke=\"black\" d=\"M9144.5,-341.91C9144.5,-333.65 9144.5,-324.86 9144.5,-316.3\"/>\n<polygon fill=\"black\" stroke=\"black\" points=\"9148,-316.02 9144.5,-306.02 9141,-316.02 9148,-316.02\"/>\n</g>\n<!-- 233 -->\n<g id=\"node234\" class=\"node\">\n<title>233</title>\n<path fill=\"#85c2ef\" stroke=\"black\" d=\"M9564.5,-306C9564.5,-306 9406.5,-306 9406.5,-306 9400.5,-306 9394.5,-300 9394.5,-294 9394.5,-294 9394.5,-235 9394.5,-235 9394.5,-229 9400.5,-223 9406.5,-223 9406.5,-223 9564.5,-223 9564.5,-223 9570.5,-223 9576.5,-229 9576.5,-235 9576.5,-235 9576.5,-294 9576.5,-294 9576.5,-300 9570.5,-306 9564.5,-306\"/>\n<text text-anchor=\"middle\" x=\"9485.5\" y=\"-290.8\" font-family=\"Helvetica,sans-Serif\" font-size=\"14.00\">km_por_ano &lt;= 9792.029</text>\n<text text-anchor=\"middle\" x=\"9485.5\" y=\"-275.8\" font-family=\"Helvetica,sans-Serif\" font-size=\"14.00\">gini = 0.4</text>\n<text text-anchor=\"middle\" x=\"9485.5\" y=\"-260.8\" font-family=\"Helvetica,sans-Serif\" font-size=\"14.00\">samples = 163</text>\n<text text-anchor=\"middle\" x=\"9485.5\" y=\"-245.8\" font-family=\"Helvetica,sans-Serif\" font-size=\"14.00\">value = [45, 118]</text>\n<text text-anchor=\"middle\" x=\"9485.5\" y=\"-230.8\" font-family=\"Helvetica,sans-Serif\" font-size=\"14.00\">class = sim</text>\n</g>\n<!-- 225&#45;&gt;233 -->\n<g id=\"edge233\" class=\"edge\">\n<title>225&#45;&gt;233</title>\n<path fill=\"none\" stroke=\"black\" d=\"M9222.3,-355.8C9270.51,-339.26 9332.92,-317.85 9384.87,-300.03\"/>\n<polygon fill=\"black\" stroke=\"black\" points=\"9386.12,-303.3 9394.44,-296.74 9383.84,-296.68 9386.12,-303.3\"/>\n</g>\n<!-- 227 -->\n<g id=\"node228\" class=\"node\">\n<title>227</title>\n<path fill=\"#70b8ec\" stroke=\"black\" d=\"M9122,-187C9122,-187 8961,-187 8961,-187 8955,-187 8949,-181 8949,-175 8949,-175 8949,-116 8949,-116 8949,-110 8955,-104 8961,-104 8961,-104 9122,-104 9122,-104 9128,-104 9134,-110 9134,-116 9134,-116 9134,-175 9134,-175 9134,-181 9128,-187 9122,-187\"/>\n<text text-anchor=\"middle\" x=\"9041.5\" y=\"-171.8\" font-family=\"Helvetica,sans-Serif\" font-size=\"14.00\">idade_do_modelo &lt;= 14.5</text>\n<text text-anchor=\"middle\" x=\"9041.5\" y=\"-156.8\" font-family=\"Helvetica,sans-Serif\" font-size=\"14.00\">gini = 0.339</text>\n<text text-anchor=\"middle\" x=\"9041.5\" y=\"-141.8\" font-family=\"Helvetica,sans-Serif\" font-size=\"14.00\">samples = 37</text>\n<text text-anchor=\"middle\" x=\"9041.5\" y=\"-126.8\" font-family=\"Helvetica,sans-Serif\" font-size=\"14.00\">value = [8, 29]</text>\n<text text-anchor=\"middle\" x=\"9041.5\" y=\"-111.8\" font-family=\"Helvetica,sans-Serif\" font-size=\"14.00\">class = sim</text>\n</g>\n<!-- 226&#45;&gt;227 -->\n<g id=\"edge227\" class=\"edge\">\n<title>226&#45;&gt;227</title>\n<path fill=\"none\" stroke=\"black\" d=\"M9108.76,-222.91C9100.78,-213.83 9092.23,-204.12 9083.99,-194.77\"/>\n<polygon fill=\"black\" stroke=\"black\" points=\"9086.41,-192.21 9077.17,-187.02 9081.15,-196.84 9086.41,-192.21\"/>\n</g>\n<!-- 230 -->\n<g id=\"node231\" class=\"node\">\n<title>230</title>\n<path fill=\"#fefbf9\" stroke=\"black\" d=\"M9330.5,-187C9330.5,-187 9164.5,-187 9164.5,-187 9158.5,-187 9152.5,-181 9152.5,-175 9152.5,-175 9152.5,-116 9152.5,-116 9152.5,-110 9158.5,-104 9164.5,-104 9164.5,-104 9330.5,-104 9330.5,-104 9336.5,-104 9342.5,-110 9342.5,-116 9342.5,-116 9342.5,-175 9342.5,-175 9342.5,-181 9336.5,-187 9330.5,-187\"/>\n<text text-anchor=\"middle\" x=\"9247.5\" y=\"-171.8\" font-family=\"Helvetica,sans-Serif\" font-size=\"14.00\">km_por_ano &lt;= 18253.135</text>\n<text text-anchor=\"middle\" x=\"9247.5\" y=\"-156.8\" font-family=\"Helvetica,sans-Serif\" font-size=\"14.00\">gini = 0.5</text>\n<text text-anchor=\"middle\" x=\"9247.5\" y=\"-141.8\" font-family=\"Helvetica,sans-Serif\" font-size=\"14.00\">samples = 61</text>\n<text text-anchor=\"middle\" x=\"9247.5\" y=\"-126.8\" font-family=\"Helvetica,sans-Serif\" font-size=\"14.00\">value = [31, 30]</text>\n<text text-anchor=\"middle\" x=\"9247.5\" y=\"-111.8\" font-family=\"Helvetica,sans-Serif\" font-size=\"14.00\">class = não</text>\n</g>\n<!-- 226&#45;&gt;230 -->\n<g id=\"edge230\" class=\"edge\">\n<title>226&#45;&gt;230</title>\n<path fill=\"none\" stroke=\"black\" d=\"M9180.24,-222.91C9188.22,-213.83 9196.77,-204.12 9205.01,-194.77\"/>\n<polygon fill=\"black\" stroke=\"black\" points=\"9207.85,-196.84 9211.83,-187.02 9202.59,-192.21 9207.85,-196.84\"/>\n</g>\n<!-- 228 -->\n<g id=\"node229\" class=\"node\">\n<title>228</title>\n<path fill=\"#399de5\" stroke=\"black\" d=\"M9000,-68C9000,-68 8919,-68 8919,-68 8913,-68 8907,-62 8907,-56 8907,-56 8907,-12 8907,-12 8907,-6 8913,0 8919,0 8919,0 9000,0 9000,0 9006,0 9012,-6 9012,-12 9012,-12 9012,-56 9012,-56 9012,-62 9006,-68 9000,-68\"/>\n<text text-anchor=\"middle\" x=\"8959.5\" y=\"-52.8\" font-family=\"Helvetica,sans-Serif\" font-size=\"14.00\">gini = 0.0</text>\n<text text-anchor=\"middle\" x=\"8959.5\" y=\"-37.8\" font-family=\"Helvetica,sans-Serif\" font-size=\"14.00\">samples = 12</text>\n<text text-anchor=\"middle\" x=\"8959.5\" y=\"-22.8\" font-family=\"Helvetica,sans-Serif\" font-size=\"14.00\">value = [0, 12]</text>\n<text text-anchor=\"middle\" x=\"8959.5\" y=\"-7.8\" font-family=\"Helvetica,sans-Serif\" font-size=\"14.00\">class = sim</text>\n</g>\n<!-- 227&#45;&gt;228 -->\n<g id=\"edge228\" class=\"edge\">\n<title>227&#45;&gt;228</title>\n<path fill=\"none\" stroke=\"black\" d=\"M9010.97,-103.73C9004.27,-94.79 8997.18,-85.32 8990.47,-76.36\"/>\n<polygon fill=\"black\" stroke=\"black\" points=\"8993.23,-74.21 8984.44,-68.3 8987.63,-78.4 8993.23,-74.21\"/>\n</g>\n<!-- 229 -->\n<g id=\"node230\" class=\"node\">\n<title>229</title>\n<path fill=\"#96cbf1\" stroke=\"black\" d=\"M9123,-68C9123,-68 9042,-68 9042,-68 9036,-68 9030,-62 9030,-56 9030,-56 9030,-12 9030,-12 9030,-6 9036,0 9042,0 9042,0 9123,0 9123,0 9129,0 9135,-6 9135,-12 9135,-12 9135,-56 9135,-56 9135,-62 9129,-68 9123,-68\"/>\n<text text-anchor=\"middle\" x=\"9082.5\" y=\"-52.8\" font-family=\"Helvetica,sans-Serif\" font-size=\"14.00\">gini = 0.435</text>\n<text text-anchor=\"middle\" x=\"9082.5\" y=\"-37.8\" font-family=\"Helvetica,sans-Serif\" font-size=\"14.00\">samples = 25</text>\n<text text-anchor=\"middle\" x=\"9082.5\" y=\"-22.8\" font-family=\"Helvetica,sans-Serif\" font-size=\"14.00\">value = [8, 17]</text>\n<text text-anchor=\"middle\" x=\"9082.5\" y=\"-7.8\" font-family=\"Helvetica,sans-Serif\" font-size=\"14.00\">class = sim</text>\n</g>\n<!-- 227&#45;&gt;229 -->\n<g id=\"edge229\" class=\"edge\">\n<title>227&#45;&gt;229</title>\n<path fill=\"none\" stroke=\"black\" d=\"M9056.77,-103.73C9059.94,-95.24 9063.3,-86.28 9066.5,-77.73\"/>\n<polygon fill=\"black\" stroke=\"black\" points=\"9069.8,-78.89 9070.03,-68.3 9063.25,-76.44 9069.8,-78.89\"/>\n</g>\n<!-- 231 -->\n<g id=\"node232\" class=\"node\">\n<title>231</title>\n<path fill=\"#a6d3f3\" stroke=\"black\" d=\"M9254,-68C9254,-68 9165,-68 9165,-68 9159,-68 9153,-62 9153,-56 9153,-56 9153,-12 9153,-12 9153,-6 9159,0 9165,0 9165,0 9254,0 9254,0 9260,0 9266,-6 9266,-12 9266,-12 9266,-56 9266,-56 9266,-62 9260,-68 9254,-68\"/>\n<text text-anchor=\"middle\" x=\"9209.5\" y=\"-52.8\" font-family=\"Helvetica,sans-Serif\" font-size=\"14.00\">gini = 0.458</text>\n<text text-anchor=\"middle\" x=\"9209.5\" y=\"-37.8\" font-family=\"Helvetica,sans-Serif\" font-size=\"14.00\">samples = 31</text>\n<text text-anchor=\"middle\" x=\"9209.5\" y=\"-22.8\" font-family=\"Helvetica,sans-Serif\" font-size=\"14.00\">value = [11, 20]</text>\n<text text-anchor=\"middle\" x=\"9209.5\" y=\"-7.8\" font-family=\"Helvetica,sans-Serif\" font-size=\"14.00\">class = sim</text>\n</g>\n<!-- 230&#45;&gt;231 -->\n<g id=\"edge231\" class=\"edge\">\n<title>230&#45;&gt;231</title>\n<path fill=\"none\" stroke=\"black\" d=\"M9233.35,-103.73C9230.44,-95.34 9227.36,-86.47 9224.42,-78.01\"/>\n<polygon fill=\"black\" stroke=\"black\" points=\"9227.64,-76.6 9221.06,-68.3 9221.03,-78.89 9227.64,-76.6\"/>\n</g>\n<!-- 232 -->\n<g id=\"node233\" class=\"node\">\n<title>232</title>\n<path fill=\"#f2c09c\" stroke=\"black\" d=\"M9385,-68C9385,-68 9296,-68 9296,-68 9290,-68 9284,-62 9284,-56 9284,-56 9284,-12 9284,-12 9284,-6 9290,0 9296,0 9296,0 9385,0 9385,0 9391,0 9397,-6 9397,-12 9397,-12 9397,-56 9397,-56 9397,-62 9391,-68 9385,-68\"/>\n<text text-anchor=\"middle\" x=\"9340.5\" y=\"-52.8\" font-family=\"Helvetica,sans-Serif\" font-size=\"14.00\">gini = 0.444</text>\n<text text-anchor=\"middle\" x=\"9340.5\" y=\"-37.8\" font-family=\"Helvetica,sans-Serif\" font-size=\"14.00\">samples = 30</text>\n<text text-anchor=\"middle\" x=\"9340.5\" y=\"-22.8\" font-family=\"Helvetica,sans-Serif\" font-size=\"14.00\">value = [20, 10]</text>\n<text text-anchor=\"middle\" x=\"9340.5\" y=\"-7.8\" font-family=\"Helvetica,sans-Serif\" font-size=\"14.00\">class = não</text>\n</g>\n<!-- 230&#45;&gt;232 -->\n<g id=\"edge232\" class=\"edge\">\n<title>230&#45;&gt;232</title>\n<path fill=\"none\" stroke=\"black\" d=\"M9282.13,-103.73C9289.8,-94.7 9297.93,-85.12 9305.61,-76.08\"/>\n<polygon fill=\"black\" stroke=\"black\" points=\"9308.41,-78.19 9312.22,-68.3 9303.08,-73.66 9308.41,-78.19\"/>\n</g>\n<!-- 234 -->\n<g id=\"node235\" class=\"node\">\n<title>234</title>\n<path fill=\"#eeab7b\" stroke=\"black\" d=\"M9564.5,-187C9564.5,-187 9406.5,-187 9406.5,-187 9400.5,-187 9394.5,-181 9394.5,-175 9394.5,-175 9394.5,-116 9394.5,-116 9394.5,-110 9400.5,-104 9406.5,-104 9406.5,-104 9564.5,-104 9564.5,-104 9570.5,-104 9576.5,-110 9576.5,-116 9576.5,-116 9576.5,-175 9576.5,-175 9576.5,-181 9570.5,-187 9564.5,-187\"/>\n<text text-anchor=\"middle\" x=\"9485.5\" y=\"-171.8\" font-family=\"Helvetica,sans-Serif\" font-size=\"14.00\">km_por_ano &lt;= 8955.977</text>\n<text text-anchor=\"middle\" x=\"9485.5\" y=\"-156.8\" font-family=\"Helvetica,sans-Serif\" font-size=\"14.00\">gini = 0.375</text>\n<text text-anchor=\"middle\" x=\"9485.5\" y=\"-141.8\" font-family=\"Helvetica,sans-Serif\" font-size=\"14.00\">samples = 4</text>\n<text text-anchor=\"middle\" x=\"9485.5\" y=\"-126.8\" font-family=\"Helvetica,sans-Serif\" font-size=\"14.00\">value = [3, 1]</text>\n<text text-anchor=\"middle\" x=\"9485.5\" y=\"-111.8\" font-family=\"Helvetica,sans-Serif\" font-size=\"14.00\">class = não</text>\n</g>\n<!-- 233&#45;&gt;234 -->\n<g id=\"edge234\" class=\"edge\">\n<title>233&#45;&gt;234</title>\n<path fill=\"none\" stroke=\"black\" d=\"M9485.5,-222.91C9485.5,-214.65 9485.5,-205.86 9485.5,-197.3\"/>\n<polygon fill=\"black\" stroke=\"black\" points=\"9489,-197.02 9485.5,-187.02 9482,-197.02 9489,-197.02\"/>\n</g>\n<!-- 237 -->\n<g id=\"node238\" class=\"node\">\n<title>237</title>\n<path fill=\"#80c0ee\" stroke=\"black\" d=\"M9763,-187C9763,-187 9632,-187 9632,-187 9626,-187 9620,-181 9620,-175 9620,-175 9620,-116 9620,-116 9620,-110 9626,-104 9632,-104 9632,-104 9763,-104 9763,-104 9769,-104 9775,-110 9775,-116 9775,-116 9775,-175 9775,-175 9775,-181 9769,-187 9763,-187\"/>\n<text text-anchor=\"middle\" x=\"9697.5\" y=\"-171.8\" font-family=\"Helvetica,sans-Serif\" font-size=\"14.00\">preco &lt;= 108686.535</text>\n<text text-anchor=\"middle\" x=\"9697.5\" y=\"-156.8\" font-family=\"Helvetica,sans-Serif\" font-size=\"14.00\">gini = 0.389</text>\n<text text-anchor=\"middle\" x=\"9697.5\" y=\"-141.8\" font-family=\"Helvetica,sans-Serif\" font-size=\"14.00\">samples = 159</text>\n<text text-anchor=\"middle\" x=\"9697.5\" y=\"-126.8\" font-family=\"Helvetica,sans-Serif\" font-size=\"14.00\">value = [42, 117]</text>\n<text text-anchor=\"middle\" x=\"9697.5\" y=\"-111.8\" font-family=\"Helvetica,sans-Serif\" font-size=\"14.00\">class = sim</text>\n</g>\n<!-- 233&#45;&gt;237 -->\n<g id=\"edge237\" class=\"edge\">\n<title>233&#45;&gt;237</title>\n<path fill=\"none\" stroke=\"black\" d=\"M9559.05,-222.91C9577.14,-212.92 9596.62,-202.17 9615.1,-191.98\"/>\n<polygon fill=\"black\" stroke=\"black\" points=\"9617.01,-194.92 9624.08,-187.02 9613.63,-188.79 9617.01,-194.92\"/>\n</g>\n<!-- 235 -->\n<g id=\"node236\" class=\"node\">\n<title>235</title>\n<path fill=\"#399de5\" stroke=\"black\" d=\"M9500,-68C9500,-68 9427,-68 9427,-68 9421,-68 9415,-62 9415,-56 9415,-56 9415,-12 9415,-12 9415,-6 9421,0 9427,0 9427,0 9500,0 9500,0 9506,0 9512,-6 9512,-12 9512,-12 9512,-56 9512,-56 9512,-62 9506,-68 9500,-68\"/>\n<text text-anchor=\"middle\" x=\"9463.5\" y=\"-52.8\" font-family=\"Helvetica,sans-Serif\" font-size=\"14.00\">gini = 0.0</text>\n<text text-anchor=\"middle\" x=\"9463.5\" y=\"-37.8\" font-family=\"Helvetica,sans-Serif\" font-size=\"14.00\">samples = 1</text>\n<text text-anchor=\"middle\" x=\"9463.5\" y=\"-22.8\" font-family=\"Helvetica,sans-Serif\" font-size=\"14.00\">value = [0, 1]</text>\n<text text-anchor=\"middle\" x=\"9463.5\" y=\"-7.8\" font-family=\"Helvetica,sans-Serif\" font-size=\"14.00\">class = sim</text>\n</g>\n<!-- 234&#45;&gt;235 -->\n<g id=\"edge235\" class=\"edge\">\n<title>234&#45;&gt;235</title>\n<path fill=\"none\" stroke=\"black\" d=\"M9477.31,-103.73C9475.64,-95.43 9473.88,-86.67 9472.2,-78.28\"/>\n<polygon fill=\"black\" stroke=\"black\" points=\"9475.59,-77.41 9470.19,-68.3 9468.73,-78.79 9475.59,-77.41\"/>\n</g>\n<!-- 236 -->\n<g id=\"node237\" class=\"node\">\n<title>236</title>\n<path fill=\"#e58139\" stroke=\"black\" d=\"M9615,-68C9615,-68 9542,-68 9542,-68 9536,-68 9530,-62 9530,-56 9530,-56 9530,-12 9530,-12 9530,-6 9536,0 9542,0 9542,0 9615,0 9615,0 9621,0 9627,-6 9627,-12 9627,-12 9627,-56 9627,-56 9627,-62 9621,-68 9615,-68\"/>\n<text text-anchor=\"middle\" x=\"9578.5\" y=\"-52.8\" font-family=\"Helvetica,sans-Serif\" font-size=\"14.00\">gini = 0.0</text>\n<text text-anchor=\"middle\" x=\"9578.5\" y=\"-37.8\" font-family=\"Helvetica,sans-Serif\" font-size=\"14.00\">samples = 3</text>\n<text text-anchor=\"middle\" x=\"9578.5\" y=\"-22.8\" font-family=\"Helvetica,sans-Serif\" font-size=\"14.00\">value = [3, 0]</text>\n<text text-anchor=\"middle\" x=\"9578.5\" y=\"-7.8\" font-family=\"Helvetica,sans-Serif\" font-size=\"14.00\">class = não</text>\n</g>\n<!-- 234&#45;&gt;236 -->\n<g id=\"edge236\" class=\"edge\">\n<title>234&#45;&gt;236</title>\n<path fill=\"none\" stroke=\"black\" d=\"M9520.13,-103.73C9527.8,-94.7 9535.93,-85.12 9543.61,-76.08\"/>\n<polygon fill=\"black\" stroke=\"black\" points=\"9546.41,-78.19 9550.22,-68.3 9541.08,-73.66 9546.41,-78.19\"/>\n</g>\n<!-- 238 -->\n<g id=\"node239\" class=\"node\">\n<title>238</title>\n<path fill=\"#6fb7ec\" stroke=\"black\" d=\"M9746,-68C9746,-68 9657,-68 9657,-68 9651,-68 9645,-62 9645,-56 9645,-56 9645,-12 9645,-12 9645,-6 9651,0 9657,0 9657,0 9746,0 9746,0 9752,0 9758,-6 9758,-12 9758,-12 9758,-56 9758,-56 9758,-62 9752,-68 9746,-68\"/>\n<text text-anchor=\"middle\" x=\"9701.5\" y=\"-52.8\" font-family=\"Helvetica,sans-Serif\" font-size=\"14.00\">gini = 0.335</text>\n<text text-anchor=\"middle\" x=\"9701.5\" y=\"-37.8\" font-family=\"Helvetica,sans-Serif\" font-size=\"14.00\">samples = 94</text>\n<text text-anchor=\"middle\" x=\"9701.5\" y=\"-22.8\" font-family=\"Helvetica,sans-Serif\" font-size=\"14.00\">value = [20, 74]</text>\n<text text-anchor=\"middle\" x=\"9701.5\" y=\"-7.8\" font-family=\"Helvetica,sans-Serif\" font-size=\"14.00\">class = sim</text>\n</g>\n<!-- 237&#45;&gt;238 -->\n<g id=\"edge238\" class=\"edge\">\n<title>237&#45;&gt;238</title>\n<path fill=\"none\" stroke=\"black\" d=\"M9698.99,-103.73C9699.29,-95.52 9699.61,-86.86 9699.91,-78.56\"/>\n<polygon fill=\"black\" stroke=\"black\" points=\"9703.42,-78.42 9700.28,-68.3 9696.42,-78.17 9703.42,-78.42\"/>\n</g>\n<!-- 239 -->\n<g id=\"node240\" class=\"node\">\n<title>239</title>\n<path fill=\"#9ecff2\" stroke=\"black\" d=\"M9877,-68C9877,-68 9788,-68 9788,-68 9782,-68 9776,-62 9776,-56 9776,-56 9776,-12 9776,-12 9776,-6 9782,0 9788,0 9788,0 9877,0 9877,0 9883,0 9889,-6 9889,-12 9889,-12 9889,-56 9889,-56 9889,-62 9883,-68 9877,-68\"/>\n<text text-anchor=\"middle\" x=\"9832.5\" y=\"-52.8\" font-family=\"Helvetica,sans-Serif\" font-size=\"14.00\">gini = 0.448</text>\n<text text-anchor=\"middle\" x=\"9832.5\" y=\"-37.8\" font-family=\"Helvetica,sans-Serif\" font-size=\"14.00\">samples = 65</text>\n<text text-anchor=\"middle\" x=\"9832.5\" y=\"-22.8\" font-family=\"Helvetica,sans-Serif\" font-size=\"14.00\">value = [22, 43]</text>\n<text text-anchor=\"middle\" x=\"9832.5\" y=\"-7.8\" font-family=\"Helvetica,sans-Serif\" font-size=\"14.00\">class = sim</text>\n</g>\n<!-- 237&#45;&gt;239 -->\n<g id=\"edge239\" class=\"edge\">\n<title>237&#45;&gt;239</title>\n<path fill=\"none\" stroke=\"black\" d=\"M9747.77,-103.73C9759.46,-94.24 9771.9,-84.16 9783.54,-74.72\"/>\n<polygon fill=\"black\" stroke=\"black\" points=\"9785.88,-77.32 9791.45,-68.3 9781.47,-71.88 9785.88,-77.32\"/>\n</g>\n<!-- 242 -->\n<g id=\"node243\" class=\"node\">\n<title>242</title>\n<path fill=\"#63b2ea\" stroke=\"black\" d=\"M10011.5,-544C10011.5,-544 9845.5,-544 9845.5,-544 9839.5,-544 9833.5,-538 9833.5,-532 9833.5,-532 9833.5,-473 9833.5,-473 9833.5,-467 9839.5,-461 9845.5,-461 9845.5,-461 10011.5,-461 10011.5,-461 10017.5,-461 10023.5,-467 10023.5,-473 10023.5,-473 10023.5,-532 10023.5,-532 10023.5,-538 10017.5,-544 10011.5,-544\"/>\n<text text-anchor=\"middle\" x=\"9928.5\" y=\"-528.8\" font-family=\"Helvetica,sans-Serif\" font-size=\"14.00\">km_por_ano &lt;= 23720.062</text>\n<text text-anchor=\"middle\" x=\"9928.5\" y=\"-513.8\" font-family=\"Helvetica,sans-Serif\" font-size=\"14.00\">gini = 0.287</text>\n<text text-anchor=\"middle\" x=\"9928.5\" y=\"-498.8\" font-family=\"Helvetica,sans-Serif\" font-size=\"14.00\">samples = 46</text>\n<text text-anchor=\"middle\" x=\"9928.5\" y=\"-483.8\" font-family=\"Helvetica,sans-Serif\" font-size=\"14.00\">value = [8, 38]</text>\n<text text-anchor=\"middle\" x=\"9928.5\" y=\"-468.8\" font-family=\"Helvetica,sans-Serif\" font-size=\"14.00\">class = sim</text>\n</g>\n<!-- 241&#45;&gt;242 -->\n<g id=\"edge242\" class=\"edge\">\n<title>241&#45;&gt;242</title>\n<path fill=\"none\" stroke=\"black\" d=\"M9928.5,-579.91C9928.5,-571.65 9928.5,-562.86 9928.5,-554.3\"/>\n<polygon fill=\"black\" stroke=\"black\" points=\"9932,-554.02 9928.5,-544.02 9925,-554.02 9932,-554.02\"/>\n</g>\n<!-- 257 -->\n<g id=\"node258\" class=\"node\">\n<title>257</title>\n<path fill=\"#e58139\" stroke=\"black\" d=\"M10127,-536.5C10127,-536.5 10054,-536.5 10054,-536.5 10048,-536.5 10042,-530.5 10042,-524.5 10042,-524.5 10042,-480.5 10042,-480.5 10042,-474.5 10048,-468.5 10054,-468.5 10054,-468.5 10127,-468.5 10127,-468.5 10133,-468.5 10139,-474.5 10139,-480.5 10139,-480.5 10139,-524.5 10139,-524.5 10139,-530.5 10133,-536.5 10127,-536.5\"/>\n<text text-anchor=\"middle\" x=\"10090.5\" y=\"-521.3\" font-family=\"Helvetica,sans-Serif\" font-size=\"14.00\">gini = 0.0</text>\n<text text-anchor=\"middle\" x=\"10090.5\" y=\"-506.3\" font-family=\"Helvetica,sans-Serif\" font-size=\"14.00\">samples = 2</text>\n<text text-anchor=\"middle\" x=\"10090.5\" y=\"-491.3\" font-family=\"Helvetica,sans-Serif\" font-size=\"14.00\">value = [2, 0]</text>\n<text text-anchor=\"middle\" x=\"10090.5\" y=\"-476.3\" font-family=\"Helvetica,sans-Serif\" font-size=\"14.00\">class = não</text>\n</g>\n<!-- 241&#45;&gt;257 -->\n<g id=\"edge257\" class=\"edge\">\n<title>241&#45;&gt;257</title>\n<path fill=\"none\" stroke=\"black\" d=\"M9984.71,-579.91C10001.36,-567.88 10019.56,-554.73 10036.1,-542.79\"/>\n<polygon fill=\"black\" stroke=\"black\" points=\"10038.52,-545.36 10044.58,-536.67 10034.42,-539.68 10038.52,-545.36\"/>\n</g>\n<!-- 243 -->\n<g id=\"node244\" class=\"node\">\n<title>243</title>\n<path fill=\"#5dafea\" stroke=\"black\" d=\"M10005,-425C10005,-425 9852,-425 9852,-425 9846,-425 9840,-419 9840,-413 9840,-413 9840,-354 9840,-354 9840,-348 9846,-342 9852,-342 9852,-342 10005,-342 10005,-342 10011,-342 10017,-348 10017,-354 10017,-354 10017,-413 10017,-413 10017,-419 10011,-425 10005,-425\"/>\n<text text-anchor=\"middle\" x=\"9928.5\" y=\"-409.8\" font-family=\"Helvetica,sans-Serif\" font-size=\"14.00\">idade_do_modelo &lt;= 9.5</text>\n<text text-anchor=\"middle\" x=\"9928.5\" y=\"-394.8\" font-family=\"Helvetica,sans-Serif\" font-size=\"14.00\">gini = 0.263</text>\n<text text-anchor=\"middle\" x=\"9928.5\" y=\"-379.8\" font-family=\"Helvetica,sans-Serif\" font-size=\"14.00\">samples = 45</text>\n<text text-anchor=\"middle\" x=\"9928.5\" y=\"-364.8\" font-family=\"Helvetica,sans-Serif\" font-size=\"14.00\">value = [7, 38]</text>\n<text text-anchor=\"middle\" x=\"9928.5\" y=\"-349.8\" font-family=\"Helvetica,sans-Serif\" font-size=\"14.00\">class = sim</text>\n</g>\n<!-- 242&#45;&gt;243 -->\n<g id=\"edge243\" class=\"edge\">\n<title>242&#45;&gt;243</title>\n<path fill=\"none\" stroke=\"black\" d=\"M9928.5,-460.91C9928.5,-452.65 9928.5,-443.86 9928.5,-435.3\"/>\n<polygon fill=\"black\" stroke=\"black\" points=\"9932,-435.02 9928.5,-425.02 9925,-435.02 9932,-435.02\"/>\n</g>\n<!-- 256 -->\n<g id=\"node257\" class=\"node\">\n<title>256</title>\n<path fill=\"#e58139\" stroke=\"black\" d=\"M10120,-417.5C10120,-417.5 10047,-417.5 10047,-417.5 10041,-417.5 10035,-411.5 10035,-405.5 10035,-405.5 10035,-361.5 10035,-361.5 10035,-355.5 10041,-349.5 10047,-349.5 10047,-349.5 10120,-349.5 10120,-349.5 10126,-349.5 10132,-355.5 10132,-361.5 10132,-361.5 10132,-405.5 10132,-405.5 10132,-411.5 10126,-417.5 10120,-417.5\"/>\n<text text-anchor=\"middle\" x=\"10083.5\" y=\"-402.3\" font-family=\"Helvetica,sans-Serif\" font-size=\"14.00\">gini = 0.0</text>\n<text text-anchor=\"middle\" x=\"10083.5\" y=\"-387.3\" font-family=\"Helvetica,sans-Serif\" font-size=\"14.00\">samples = 1</text>\n<text text-anchor=\"middle\" x=\"10083.5\" y=\"-372.3\" font-family=\"Helvetica,sans-Serif\" font-size=\"14.00\">value = [1, 0]</text>\n<text text-anchor=\"middle\" x=\"10083.5\" y=\"-357.3\" font-family=\"Helvetica,sans-Serif\" font-size=\"14.00\">class = não</text>\n</g>\n<!-- 242&#45;&gt;256 -->\n<g id=\"edge256\" class=\"edge\">\n<title>242&#45;&gt;256</title>\n<path fill=\"none\" stroke=\"black\" d=\"M9982.28,-460.91C9998.21,-448.88 10015.63,-435.73 10031.45,-423.79\"/>\n<polygon fill=\"black\" stroke=\"black\" points=\"10033.69,-426.49 10039.56,-417.67 10029.47,-420.9 10033.69,-426.49\"/>\n</g>\n<!-- 244 -->\n<g id=\"node245\" class=\"node\">\n<title>244</title>\n<path fill=\"#45a3e7\" stroke=\"black\" d=\"M10003,-306C10003,-306 9854,-306 9854,-306 9848,-306 9842,-300 9842,-294 9842,-294 9842,-235 9842,-235 9842,-229 9848,-223 9854,-223 9854,-223 10003,-223 10003,-223 10009,-223 10015,-229 10015,-235 10015,-235 10015,-294 10015,-294 10015,-300 10009,-306 10003,-306\"/>\n<text text-anchor=\"middle\" x=\"9928.5\" y=\"-290.8\" font-family=\"Helvetica,sans-Serif\" font-size=\"14.00\">km_por_ano &lt;= 19384.5</text>\n<text text-anchor=\"middle\" x=\"9928.5\" y=\"-275.8\" font-family=\"Helvetica,sans-Serif\" font-size=\"14.00\">gini = 0.105</text>\n<text text-anchor=\"middle\" x=\"9928.5\" y=\"-260.8\" font-family=\"Helvetica,sans-Serif\" font-size=\"14.00\">samples = 18</text>\n<text text-anchor=\"middle\" x=\"9928.5\" y=\"-245.8\" font-family=\"Helvetica,sans-Serif\" font-size=\"14.00\">value = [1, 17]</text>\n<text text-anchor=\"middle\" x=\"9928.5\" y=\"-230.8\" font-family=\"Helvetica,sans-Serif\" font-size=\"14.00\">class = sim</text>\n</g>\n<!-- 243&#45;&gt;244 -->\n<g id=\"edge244\" class=\"edge\">\n<title>243&#45;&gt;244</title>\n<path fill=\"none\" stroke=\"black\" d=\"M9928.5,-341.91C9928.5,-333.65 9928.5,-324.86 9928.5,-316.3\"/>\n<polygon fill=\"black\" stroke=\"black\" points=\"9932,-316.02 9928.5,-306.02 9925,-316.02 9932,-316.02\"/>\n</g>\n<!-- 249 -->\n<g id=\"node250\" class=\"node\">\n<title>249</title>\n<path fill=\"#72b9ec\" stroke=\"black\" d=\"M10300.5,-306C10300.5,-306 10134.5,-306 10134.5,-306 10128.5,-306 10122.5,-300 10122.5,-294 10122.5,-294 10122.5,-235 10122.5,-235 10122.5,-229 10128.5,-223 10134.5,-223 10134.5,-223 10300.5,-223 10300.5,-223 10306.5,-223 10312.5,-229 10312.5,-235 10312.5,-235 10312.5,-294 10312.5,-294 10312.5,-300 10306.5,-306 10300.5,-306\"/>\n<text text-anchor=\"middle\" x=\"10217.5\" y=\"-290.8\" font-family=\"Helvetica,sans-Serif\" font-size=\"14.00\">km_por_ano &lt;= 15209.068</text>\n<text text-anchor=\"middle\" x=\"10217.5\" y=\"-275.8\" font-family=\"Helvetica,sans-Serif\" font-size=\"14.00\">gini = 0.346</text>\n<text text-anchor=\"middle\" x=\"10217.5\" y=\"-260.8\" font-family=\"Helvetica,sans-Serif\" font-size=\"14.00\">samples = 27</text>\n<text text-anchor=\"middle\" x=\"10217.5\" y=\"-245.8\" font-family=\"Helvetica,sans-Serif\" font-size=\"14.00\">value = [6, 21]</text>\n<text text-anchor=\"middle\" x=\"10217.5\" y=\"-230.8\" font-family=\"Helvetica,sans-Serif\" font-size=\"14.00\">class = sim</text>\n</g>\n<!-- 243&#45;&gt;249 -->\n<g id=\"edge249\" class=\"edge\">\n<title>243&#45;&gt;249</title>\n<path fill=\"none\" stroke=\"black\" d=\"M10017.02,-345.47C10019.88,-344.3 10022.71,-343.14 10025.5,-342 10053.71,-330.49 10084.32,-318.2 10112.65,-306.92\"/>\n<polygon fill=\"black\" stroke=\"black\" points=\"10114.16,-310.08 10122.16,-303.13 10111.57,-303.58 10114.16,-310.08\"/>\n</g>\n<!-- 245 -->\n<g id=\"node246\" class=\"node\">\n<title>245</title>\n<path fill=\"#399de5\" stroke=\"black\" d=\"M9886,-179.5C9886,-179.5 9805,-179.5 9805,-179.5 9799,-179.5 9793,-173.5 9793,-167.5 9793,-167.5 9793,-123.5 9793,-123.5 9793,-117.5 9799,-111.5 9805,-111.5 9805,-111.5 9886,-111.5 9886,-111.5 9892,-111.5 9898,-117.5 9898,-123.5 9898,-123.5 9898,-167.5 9898,-167.5 9898,-173.5 9892,-179.5 9886,-179.5\"/>\n<text text-anchor=\"middle\" x=\"9845.5\" y=\"-164.3\" font-family=\"Helvetica,sans-Serif\" font-size=\"14.00\">gini = 0.0</text>\n<text text-anchor=\"middle\" x=\"9845.5\" y=\"-149.3\" font-family=\"Helvetica,sans-Serif\" font-size=\"14.00\">samples = 12</text>\n<text text-anchor=\"middle\" x=\"9845.5\" y=\"-134.3\" font-family=\"Helvetica,sans-Serif\" font-size=\"14.00\">value = [0, 12]</text>\n<text text-anchor=\"middle\" x=\"9845.5\" y=\"-119.3\" font-family=\"Helvetica,sans-Serif\" font-size=\"14.00\">class = sim</text>\n</g>\n<!-- 244&#45;&gt;245 -->\n<g id=\"edge245\" class=\"edge\">\n<title>244&#45;&gt;245</title>\n<path fill=\"none\" stroke=\"black\" d=\"M9899.7,-222.91C9891.72,-211.65 9883.04,-199.42 9875.02,-188.11\"/>\n<polygon fill=\"black\" stroke=\"black\" points=\"9877.67,-185.8 9869.03,-179.67 9871.96,-189.85 9877.67,-185.8\"/>\n</g>\n<!-- 246 -->\n<g id=\"node247\" class=\"node\">\n<title>246</title>\n<path fill=\"#61b1ea\" stroke=\"black\" d=\"M10094.5,-187C10094.5,-187 9928.5,-187 9928.5,-187 9922.5,-187 9916.5,-181 9916.5,-175 9916.5,-175 9916.5,-116 9916.5,-116 9916.5,-110 9922.5,-104 9928.5,-104 9928.5,-104 10094.5,-104 10094.5,-104 10100.5,-104 10106.5,-110 10106.5,-116 10106.5,-116 10106.5,-175 10106.5,-175 10106.5,-181 10100.5,-187 10094.5,-187\"/>\n<text text-anchor=\"middle\" x=\"10011.5\" y=\"-171.8\" font-family=\"Helvetica,sans-Serif\" font-size=\"14.00\">km_por_ano &lt;= 20118.359</text>\n<text text-anchor=\"middle\" x=\"10011.5\" y=\"-156.8\" font-family=\"Helvetica,sans-Serif\" font-size=\"14.00\">gini = 0.278</text>\n<text text-anchor=\"middle\" x=\"10011.5\" y=\"-141.8\" font-family=\"Helvetica,sans-Serif\" font-size=\"14.00\">samples = 6</text>\n<text text-anchor=\"middle\" x=\"10011.5\" y=\"-126.8\" font-family=\"Helvetica,sans-Serif\" font-size=\"14.00\">value = [1, 5]</text>\n<text text-anchor=\"middle\" x=\"10011.5\" y=\"-111.8\" font-family=\"Helvetica,sans-Serif\" font-size=\"14.00\">class = sim</text>\n</g>\n<!-- 244&#45;&gt;246 -->\n<g id=\"edge246\" class=\"edge\">\n<title>244&#45;&gt;246</title>\n<path fill=\"none\" stroke=\"black\" d=\"M9957.3,-222.91C9963.61,-214.01 9970.35,-204.51 9976.86,-195.33\"/>\n<polygon fill=\"black\" stroke=\"black\" points=\"9979.82,-197.2 9982.75,-187.02 9974.11,-193.15 9979.82,-197.2\"/>\n</g>\n<!-- 247 -->\n<g id=\"node248\" class=\"node\">\n<title>247</title>\n<path fill=\"#e58139\" stroke=\"black\" d=\"M9992,-68C9992,-68 9919,-68 9919,-68 9913,-68 9907,-62 9907,-56 9907,-56 9907,-12 9907,-12 9907,-6 9913,0 9919,0 9919,0 9992,0 9992,0 9998,0 10004,-6 10004,-12 10004,-12 10004,-56 10004,-56 10004,-62 9998,-68 9992,-68\"/>\n<text text-anchor=\"middle\" x=\"9955.5\" y=\"-52.8\" font-family=\"Helvetica,sans-Serif\" font-size=\"14.00\">gini = 0.0</text>\n<text text-anchor=\"middle\" x=\"9955.5\" y=\"-37.8\" font-family=\"Helvetica,sans-Serif\" font-size=\"14.00\">samples = 1</text>\n<text text-anchor=\"middle\" x=\"9955.5\" y=\"-22.8\" font-family=\"Helvetica,sans-Serif\" font-size=\"14.00\">value = [1, 0]</text>\n<text text-anchor=\"middle\" x=\"9955.5\" y=\"-7.8\" font-family=\"Helvetica,sans-Serif\" font-size=\"14.00\">class = não</text>\n</g>\n<!-- 246&#45;&gt;247 -->\n<g id=\"edge247\" class=\"edge\">\n<title>246&#45;&gt;247</title>\n<path fill=\"none\" stroke=\"black\" d=\"M9990.65,-103.73C9986.26,-95.15 9981.63,-86.09 9977.21,-77.46\"/>\n<polygon fill=\"black\" stroke=\"black\" points=\"9980.2,-75.61 9972.53,-68.3 9973.97,-78.8 9980.2,-75.61\"/>\n</g>\n<!-- 248 -->\n<g id=\"node249\" class=\"node\">\n<title>248</title>\n<path fill=\"#399de5\" stroke=\"black\" d=\"M10107,-68C10107,-68 10034,-68 10034,-68 10028,-68 10022,-62 10022,-56 10022,-56 10022,-12 10022,-12 10022,-6 10028,0 10034,0 10034,0 10107,0 10107,0 10113,0 10119,-6 10119,-12 10119,-12 10119,-56 10119,-56 10119,-62 10113,-68 10107,-68\"/>\n<text text-anchor=\"middle\" x=\"10070.5\" y=\"-52.8\" font-family=\"Helvetica,sans-Serif\" font-size=\"14.00\">gini = 0.0</text>\n<text text-anchor=\"middle\" x=\"10070.5\" y=\"-37.8\" font-family=\"Helvetica,sans-Serif\" font-size=\"14.00\">samples = 5</text>\n<text text-anchor=\"middle\" x=\"10070.5\" y=\"-22.8\" font-family=\"Helvetica,sans-Serif\" font-size=\"14.00\">value = [0, 5]</text>\n<text text-anchor=\"middle\" x=\"10070.5\" y=\"-7.8\" font-family=\"Helvetica,sans-Serif\" font-size=\"14.00\">class = sim</text>\n</g>\n<!-- 246&#45;&gt;248 -->\n<g id=\"edge248\" class=\"edge\">\n<title>246&#45;&gt;248</title>\n<path fill=\"none\" stroke=\"black\" d=\"M10033.47,-103.73C10038.14,-95.06 10043.08,-85.9 10047.77,-77.18\"/>\n<polygon fill=\"black\" stroke=\"black\" points=\"10050.9,-78.76 10052.56,-68.3 10044.73,-75.44 10050.9,-78.76\"/>\n</g>\n<!-- 250 -->\n<g id=\"node251\" class=\"node\">\n<title>250</title>\n<path fill=\"#ffffff\" stroke=\"black\" d=\"M10298,-187C10298,-187 10137,-187 10137,-187 10131,-187 10125,-181 10125,-175 10125,-175 10125,-116 10125,-116 10125,-110 10131,-104 10137,-104 10137,-104 10298,-104 10298,-104 10304,-104 10310,-110 10310,-116 10310,-116 10310,-175 10310,-175 10310,-181 10304,-187 10298,-187\"/>\n<text text-anchor=\"middle\" x=\"10217.5\" y=\"-171.8\" font-family=\"Helvetica,sans-Serif\" font-size=\"14.00\">idade_do_modelo &lt;= 13.5</text>\n<text text-anchor=\"middle\" x=\"10217.5\" y=\"-156.8\" font-family=\"Helvetica,sans-Serif\" font-size=\"14.00\">gini = 0.5</text>\n<text text-anchor=\"middle\" x=\"10217.5\" y=\"-141.8\" font-family=\"Helvetica,sans-Serif\" font-size=\"14.00\">samples = 6</text>\n<text text-anchor=\"middle\" x=\"10217.5\" y=\"-126.8\" font-family=\"Helvetica,sans-Serif\" font-size=\"14.00\">value = [3, 3]</text>\n<text text-anchor=\"middle\" x=\"10217.5\" y=\"-111.8\" font-family=\"Helvetica,sans-Serif\" font-size=\"14.00\">class = não</text>\n</g>\n<!-- 249&#45;&gt;250 -->\n<g id=\"edge250\" class=\"edge\">\n<title>249&#45;&gt;250</title>\n<path fill=\"none\" stroke=\"black\" d=\"M10217.5,-222.91C10217.5,-214.65 10217.5,-205.86 10217.5,-197.3\"/>\n<polygon fill=\"black\" stroke=\"black\" points=\"10221,-197.02 10217.5,-187.02 10214,-197.02 10221,-197.02\"/>\n</g>\n<!-- 253 -->\n<g id=\"node254\" class=\"node\">\n<title>253</title>\n<path fill=\"#5aade9\" stroke=\"black\" d=\"M10506.5,-187C10506.5,-187 10340.5,-187 10340.5,-187 10334.5,-187 10328.5,-181 10328.5,-175 10328.5,-175 10328.5,-116 10328.5,-116 10328.5,-110 10334.5,-104 10340.5,-104 10340.5,-104 10506.5,-104 10506.5,-104 10512.5,-104 10518.5,-110 10518.5,-116 10518.5,-116 10518.5,-175 10518.5,-175 10518.5,-181 10512.5,-187 10506.5,-187\"/>\n<text text-anchor=\"middle\" x=\"10423.5\" y=\"-171.8\" font-family=\"Helvetica,sans-Serif\" font-size=\"14.00\">km_por_ano &lt;= 20836.125</text>\n<text text-anchor=\"middle\" x=\"10423.5\" y=\"-156.8\" font-family=\"Helvetica,sans-Serif\" font-size=\"14.00\">gini = 0.245</text>\n<text text-anchor=\"middle\" x=\"10423.5\" y=\"-141.8\" font-family=\"Helvetica,sans-Serif\" font-size=\"14.00\">samples = 21</text>\n<text text-anchor=\"middle\" x=\"10423.5\" y=\"-126.8\" font-family=\"Helvetica,sans-Serif\" font-size=\"14.00\">value = [3, 18]</text>\n<text text-anchor=\"middle\" x=\"10423.5\" y=\"-111.8\" font-family=\"Helvetica,sans-Serif\" font-size=\"14.00\">class = sim</text>\n</g>\n<!-- 249&#45;&gt;253 -->\n<g id=\"edge253\" class=\"edge\">\n<title>249&#45;&gt;253</title>\n<path fill=\"none\" stroke=\"black\" d=\"M10288.97,-222.91C10306.55,-212.92 10325.48,-202.17 10343.43,-191.98\"/>\n<polygon fill=\"black\" stroke=\"black\" points=\"10345.19,-195 10352.16,-187.02 10341.73,-188.92 10345.19,-195\"/>\n</g>\n<!-- 251 -->\n<g id=\"node252\" class=\"node\">\n<title>251</title>\n<path fill=\"#e58139\" stroke=\"black\" d=\"M10222,-68C10222,-68 10149,-68 10149,-68 10143,-68 10137,-62 10137,-56 10137,-56 10137,-12 10137,-12 10137,-6 10143,0 10149,0 10149,0 10222,0 10222,0 10228,0 10234,-6 10234,-12 10234,-12 10234,-56 10234,-56 10234,-62 10228,-68 10222,-68\"/>\n<text text-anchor=\"middle\" x=\"10185.5\" y=\"-52.8\" font-family=\"Helvetica,sans-Serif\" font-size=\"14.00\">gini = 0.0</text>\n<text text-anchor=\"middle\" x=\"10185.5\" y=\"-37.8\" font-family=\"Helvetica,sans-Serif\" font-size=\"14.00\">samples = 2</text>\n<text text-anchor=\"middle\" x=\"10185.5\" y=\"-22.8\" font-family=\"Helvetica,sans-Serif\" font-size=\"14.00\">value = [2, 0]</text>\n<text text-anchor=\"middle\" x=\"10185.5\" y=\"-7.8\" font-family=\"Helvetica,sans-Serif\" font-size=\"14.00\">class = não</text>\n</g>\n<!-- 250&#45;&gt;251 -->\n<g id=\"edge251\" class=\"edge\">\n<title>250&#45;&gt;251</title>\n<path fill=\"none\" stroke=\"black\" d=\"M10205.58,-103.73C10203.13,-95.34 10200.54,-86.47 10198.07,-78.01\"/>\n<polygon fill=\"black\" stroke=\"black\" points=\"10201.4,-76.92 10195.23,-68.3 10194.68,-78.88 10201.4,-76.92\"/>\n</g>\n<!-- 252 -->\n<g id=\"node253\" class=\"node\">\n<title>252</title>\n<path fill=\"#7bbeee\" stroke=\"black\" d=\"M10337,-68C10337,-68 10264,-68 10264,-68 10258,-68 10252,-62 10252,-56 10252,-56 10252,-12 10252,-12 10252,-6 10258,0 10264,0 10264,0 10337,0 10337,0 10343,0 10349,-6 10349,-12 10349,-12 10349,-56 10349,-56 10349,-62 10343,-68 10337,-68\"/>\n<text text-anchor=\"middle\" x=\"10300.5\" y=\"-52.8\" font-family=\"Helvetica,sans-Serif\" font-size=\"14.00\">gini = 0.375</text>\n<text text-anchor=\"middle\" x=\"10300.5\" y=\"-37.8\" font-family=\"Helvetica,sans-Serif\" font-size=\"14.00\">samples = 4</text>\n<text text-anchor=\"middle\" x=\"10300.5\" y=\"-22.8\" font-family=\"Helvetica,sans-Serif\" font-size=\"14.00\">value = [1, 3]</text>\n<text text-anchor=\"middle\" x=\"10300.5\" y=\"-7.8\" font-family=\"Helvetica,sans-Serif\" font-size=\"14.00\">class = sim</text>\n</g>\n<!-- 250&#45;&gt;252 -->\n<g id=\"edge252\" class=\"edge\">\n<title>250&#45;&gt;252</title>\n<path fill=\"none\" stroke=\"black\" d=\"M10248.41,-103.73C10255.18,-94.79 10262.36,-85.32 10269.15,-76.36\"/>\n<polygon fill=\"black\" stroke=\"black\" points=\"10272.01,-78.38 10275.26,-68.3 10266.43,-74.15 10272.01,-78.38\"/>\n</g>\n<!-- 254 -->\n<g id=\"node255\" class=\"node\">\n<title>254</title>\n<path fill=\"#399de5\" stroke=\"black\" d=\"M10460,-68C10460,-68 10379,-68 10379,-68 10373,-68 10367,-62 10367,-56 10367,-56 10367,-12 10367,-12 10367,-6 10373,0 10379,0 10379,0 10460,0 10460,0 10466,0 10472,-6 10472,-12 10472,-12 10472,-56 10472,-56 10472,-62 10466,-68 10460,-68\"/>\n<text text-anchor=\"middle\" x=\"10419.5\" y=\"-52.8\" font-family=\"Helvetica,sans-Serif\" font-size=\"14.00\">gini = 0.0</text>\n<text text-anchor=\"middle\" x=\"10419.5\" y=\"-37.8\" font-family=\"Helvetica,sans-Serif\" font-size=\"14.00\">samples = 11</text>\n<text text-anchor=\"middle\" x=\"10419.5\" y=\"-22.8\" font-family=\"Helvetica,sans-Serif\" font-size=\"14.00\">value = [0, 11]</text>\n<text text-anchor=\"middle\" x=\"10419.5\" y=\"-7.8\" font-family=\"Helvetica,sans-Serif\" font-size=\"14.00\">class = sim</text>\n</g>\n<!-- 253&#45;&gt;254 -->\n<g id=\"edge254\" class=\"edge\">\n<title>253&#45;&gt;254</title>\n<path fill=\"none\" stroke=\"black\" d=\"M10422.01,-103.73C10421.71,-95.52 10421.39,-86.86 10421.09,-78.56\"/>\n<polygon fill=\"black\" stroke=\"black\" points=\"10424.58,-78.17 10420.72,-68.3 10417.58,-78.42 10424.58,-78.17\"/>\n</g>\n<!-- 255 -->\n<g id=\"node256\" class=\"node\">\n<title>255</title>\n<path fill=\"#8ec7f0\" stroke=\"black\" d=\"M10581,-68C10581,-68 10502,-68 10502,-68 10496,-68 10490,-62 10490,-56 10490,-56 10490,-12 10490,-12 10490,-6 10496,0 10502,0 10502,0 10581,0 10581,0 10587,0 10593,-6 10593,-12 10593,-12 10593,-56 10593,-56 10593,-62 10587,-68 10581,-68\"/>\n<text text-anchor=\"middle\" x=\"10541.5\" y=\"-52.8\" font-family=\"Helvetica,sans-Serif\" font-size=\"14.00\">gini = 0.42</text>\n<text text-anchor=\"middle\" x=\"10541.5\" y=\"-37.8\" font-family=\"Helvetica,sans-Serif\" font-size=\"14.00\">samples = 10</text>\n<text text-anchor=\"middle\" x=\"10541.5\" y=\"-22.8\" font-family=\"Helvetica,sans-Serif\" font-size=\"14.00\">value = [3, 7]</text>\n<text text-anchor=\"middle\" x=\"10541.5\" y=\"-7.8\" font-family=\"Helvetica,sans-Serif\" font-size=\"14.00\">class = sim</text>\n</g>\n<!-- 253&#45;&gt;255 -->\n<g id=\"edge255\" class=\"edge\">\n<title>253&#45;&gt;255</title>\n<path fill=\"none\" stroke=\"black\" d=\"M10467.44,-103.73C10477.46,-94.42 10488.11,-84.54 10498.11,-75.26\"/>\n<polygon fill=\"black\" stroke=\"black\" points=\"10500.67,-77.67 10505.62,-68.3 10495.9,-72.54 10500.67,-77.67\"/>\n</g>\n<!-- 259 -->\n<g id=\"node260\" class=\"node\">\n<title>259</title>\n<path fill=\"#e68742\" stroke=\"black\" d=\"M11306,-901C11306,-901 11183,-901 11183,-901 11177,-901 11171,-895 11171,-889 11171,-889 11171,-830 11171,-830 11171,-824 11177,-818 11183,-818 11183,-818 11306,-818 11306,-818 11312,-818 11318,-824 11318,-830 11318,-830 11318,-889 11318,-889 11318,-895 11312,-901 11306,-901\"/>\n<text text-anchor=\"middle\" x=\"11244.5\" y=\"-885.8\" font-family=\"Helvetica,sans-Serif\" font-size=\"14.00\">preco &lt;= 64403.439</text>\n<text text-anchor=\"middle\" x=\"11244.5\" y=\"-870.8\" font-family=\"Helvetica,sans-Serif\" font-size=\"14.00\">gini = 0.082</text>\n<text text-anchor=\"middle\" x=\"11244.5\" y=\"-855.8\" font-family=\"Helvetica,sans-Serif\" font-size=\"14.00\">samples = 1809</text>\n<text text-anchor=\"middle\" x=\"11244.5\" y=\"-840.8\" font-family=\"Helvetica,sans-Serif\" font-size=\"14.00\">value = [1732, 77]</text>\n<text text-anchor=\"middle\" x=\"11244.5\" y=\"-825.8\" font-family=\"Helvetica,sans-Serif\" font-size=\"14.00\">class = não</text>\n</g>\n<!-- 258&#45;&gt;259 -->\n<g id=\"edge259\" class=\"edge\">\n<title>258&#45;&gt;259</title>\n<path fill=\"none\" stroke=\"black\" d=\"M11244.5,-936.91C11244.5,-928.65 11244.5,-919.86 11244.5,-911.3\"/>\n<polygon fill=\"black\" stroke=\"black\" points=\"11248,-911.02 11244.5,-901.02 11241,-911.02 11248,-911.02\"/>\n</g>\n<!-- 314 -->\n<g id=\"node315\" class=\"node\">\n<title>314</title>\n<path fill=\"#95cbf1\" stroke=\"black\" d=\"M12912.5,-901C12912.5,-901 12746.5,-901 12746.5,-901 12740.5,-901 12734.5,-895 12734.5,-889 12734.5,-889 12734.5,-830 12734.5,-830 12734.5,-824 12740.5,-818 12746.5,-818 12746.5,-818 12912.5,-818 12912.5,-818 12918.5,-818 12924.5,-824 12924.5,-830 12924.5,-830 12924.5,-889 12924.5,-889 12924.5,-895 12918.5,-901 12912.5,-901\"/>\n<text text-anchor=\"middle\" x=\"12829.5\" y=\"-885.8\" font-family=\"Helvetica,sans-Serif\" font-size=\"14.00\">km_por_ano &lt;= 49872.643</text>\n<text text-anchor=\"middle\" x=\"12829.5\" y=\"-870.8\" font-family=\"Helvetica,sans-Serif\" font-size=\"14.00\">gini = 0.433</text>\n<text text-anchor=\"middle\" x=\"12829.5\" y=\"-855.8\" font-family=\"Helvetica,sans-Serif\" font-size=\"14.00\">samples = 331</text>\n<text text-anchor=\"middle\" x=\"12829.5\" y=\"-840.8\" font-family=\"Helvetica,sans-Serif\" font-size=\"14.00\">value = [105, 226]</text>\n<text text-anchor=\"middle\" x=\"12829.5\" y=\"-825.8\" font-family=\"Helvetica,sans-Serif\" font-size=\"14.00\">class = sim</text>\n</g>\n<!-- 258&#45;&gt;314 -->\n<g id=\"edge314\" class=\"edge\">\n<title>258&#45;&gt;314</title>\n<path fill=\"none\" stroke=\"black\" d=\"M11322.02,-971.78C11582.38,-952.56 12425.83,-890.3 12723.94,-868.29\"/>\n<polygon fill=\"black\" stroke=\"black\" points=\"12724.59,-871.75 12734.31,-867.53 12724.08,-864.77 12724.59,-871.75\"/>\n</g>\n<!-- 260 -->\n<g id=\"node261\" class=\"node\">\n<title>260</title>\n<path fill=\"#e5833d\" stroke=\"black\" d=\"M11223,-782C11223,-782 11100,-782 11100,-782 11094,-782 11088,-776 11088,-770 11088,-770 11088,-711 11088,-711 11088,-705 11094,-699 11100,-699 11100,-699 11223,-699 11223,-699 11229,-699 11235,-705 11235,-711 11235,-711 11235,-770 11235,-770 11235,-776 11229,-782 11223,-782\"/>\n<text text-anchor=\"middle\" x=\"11161.5\" y=\"-766.8\" font-family=\"Helvetica,sans-Serif\" font-size=\"14.00\">preco &lt;= 62212.656</text>\n<text text-anchor=\"middle\" x=\"11161.5\" y=\"-751.8\" font-family=\"Helvetica,sans-Serif\" font-size=\"14.00\">gini = 0.036</text>\n<text text-anchor=\"middle\" x=\"11161.5\" y=\"-736.8\" font-family=\"Helvetica,sans-Serif\" font-size=\"14.00\">samples = 221</text>\n<text text-anchor=\"middle\" x=\"11161.5\" y=\"-721.8\" font-family=\"Helvetica,sans-Serif\" font-size=\"14.00\">value = [217, 4]</text>\n<text text-anchor=\"middle\" x=\"11161.5\" y=\"-706.8\" font-family=\"Helvetica,sans-Serif\" font-size=\"14.00\">class = não</text>\n</g>\n<!-- 259&#45;&gt;260 -->\n<g id=\"edge260\" class=\"edge\">\n<title>259&#45;&gt;260</title>\n<path fill=\"none\" stroke=\"black\" d=\"M11215.7,-817.91C11209.39,-809.01 11202.65,-799.51 11196.14,-790.33\"/>\n<polygon fill=\"black\" stroke=\"black\" points=\"11198.89,-788.15 11190.25,-782.02 11193.18,-792.2 11198.89,-788.15\"/>\n</g>\n<!-- 275 -->\n<g id=\"node276\" class=\"node\">\n<title>275</title>\n<path fill=\"#e68743\" stroke=\"black\" d=\"M11381,-782C11381,-782 11266,-782 11266,-782 11260,-782 11254,-776 11254,-770 11254,-770 11254,-711 11254,-711 11254,-705 11260,-699 11266,-699 11266,-699 11381,-699 11381,-699 11387,-699 11393,-705 11393,-711 11393,-711 11393,-770 11393,-770 11393,-776 11387,-782 11381,-782\"/>\n<text text-anchor=\"middle\" x=\"11323.5\" y=\"-766.8\" font-family=\"Helvetica,sans-Serif\" font-size=\"14.00\">preco &lt;= 64460.48</text>\n<text text-anchor=\"middle\" x=\"11323.5\" y=\"-751.8\" font-family=\"Helvetica,sans-Serif\" font-size=\"14.00\">gini = 0.088</text>\n<text text-anchor=\"middle\" x=\"11323.5\" y=\"-736.8\" font-family=\"Helvetica,sans-Serif\" font-size=\"14.00\">samples = 1588</text>\n<text text-anchor=\"middle\" x=\"11323.5\" y=\"-721.8\" font-family=\"Helvetica,sans-Serif\" font-size=\"14.00\">value = [1515, 73]</text>\n<text text-anchor=\"middle\" x=\"11323.5\" y=\"-706.8\" font-family=\"Helvetica,sans-Serif\" font-size=\"14.00\">class = não</text>\n</g>\n<!-- 259&#45;&gt;275 -->\n<g id=\"edge275\" class=\"edge\">\n<title>259&#45;&gt;275</title>\n<path fill=\"none\" stroke=\"black\" d=\"M11271.91,-817.91C11277.91,-809.01 11284.33,-799.51 11290.53,-790.33\"/>\n<polygon fill=\"black\" stroke=\"black\" points=\"11293.44,-792.27 11296.14,-782.02 11287.64,-788.35 11293.44,-792.27\"/>\n</g>\n<!-- 261 -->\n<g id=\"node262\" class=\"node\">\n<title>261</title>\n<path fill=\"#e68540\" stroke=\"black\" d=\"M11065,-663C11065,-663 10942,-663 10942,-663 10936,-663 10930,-657 10930,-651 10930,-651 10930,-592 10930,-592 10930,-586 10936,-580 10942,-580 10942,-580 11065,-580 11065,-580 11071,-580 11077,-586 11077,-592 11077,-592 11077,-651 11077,-651 11077,-657 11071,-663 11065,-663\"/>\n<text text-anchor=\"middle\" x=\"11003.5\" y=\"-647.8\" font-family=\"Helvetica,sans-Serif\" font-size=\"14.00\">preco &lt;= 62190.451</text>\n<text text-anchor=\"middle\" x=\"11003.5\" y=\"-632.8\" font-family=\"Helvetica,sans-Serif\" font-size=\"14.00\">gini = 0.064</text>\n<text text-anchor=\"middle\" x=\"11003.5\" y=\"-617.8\" font-family=\"Helvetica,sans-Serif\" font-size=\"14.00\">samples = 120</text>\n<text text-anchor=\"middle\" x=\"11003.5\" y=\"-602.8\" font-family=\"Helvetica,sans-Serif\" font-size=\"14.00\">value = [116, 4]</text>\n<text text-anchor=\"middle\" x=\"11003.5\" y=\"-587.8\" font-family=\"Helvetica,sans-Serif\" font-size=\"14.00\">class = não</text>\n</g>\n<!-- 260&#45;&gt;261 -->\n<g id=\"edge261\" class=\"edge\">\n<title>260&#45;&gt;261</title>\n<path fill=\"none\" stroke=\"black\" d=\"M11106.68,-698.91C11093.69,-689.29 11079.74,-678.95 11066.42,-669.09\"/>\n<polygon fill=\"black\" stroke=\"black\" points=\"11068.34,-666.16 11058.22,-663.02 11064.17,-671.78 11068.34,-666.16\"/>\n</g>\n<!-- 274 -->\n<g id=\"node275\" class=\"node\">\n<title>274</title>\n<path fill=\"#e58139\" stroke=\"black\" d=\"M11206,-655.5C11206,-655.5 11117,-655.5 11117,-655.5 11111,-655.5 11105,-649.5 11105,-643.5 11105,-643.5 11105,-599.5 11105,-599.5 11105,-593.5 11111,-587.5 11117,-587.5 11117,-587.5 11206,-587.5 11206,-587.5 11212,-587.5 11218,-593.5 11218,-599.5 11218,-599.5 11218,-643.5 11218,-643.5 11218,-649.5 11212,-655.5 11206,-655.5\"/>\n<text text-anchor=\"middle\" x=\"11161.5\" y=\"-640.3\" font-family=\"Helvetica,sans-Serif\" font-size=\"14.00\">gini = 0.0</text>\n<text text-anchor=\"middle\" x=\"11161.5\" y=\"-625.3\" font-family=\"Helvetica,sans-Serif\" font-size=\"14.00\">samples = 101</text>\n<text text-anchor=\"middle\" x=\"11161.5\" y=\"-610.3\" font-family=\"Helvetica,sans-Serif\" font-size=\"14.00\">value = [101, 0]</text>\n<text text-anchor=\"middle\" x=\"11161.5\" y=\"-595.3\" font-family=\"Helvetica,sans-Serif\" font-size=\"14.00\">class = não</text>\n</g>\n<!-- 260&#45;&gt;274 -->\n<g id=\"edge274\" class=\"edge\">\n<title>260&#45;&gt;274</title>\n<path fill=\"none\" stroke=\"black\" d=\"M11161.5,-698.91C11161.5,-688.2 11161.5,-676.62 11161.5,-665.78\"/>\n<polygon fill=\"black\" stroke=\"black\" points=\"11165,-665.67 11161.5,-655.67 11158,-665.67 11165,-665.67\"/>\n</g>\n<!-- 262 -->\n<g id=\"node263\" class=\"node\">\n<title>262</title>\n<path fill=\"#e6843e\" stroke=\"black\" d=\"M10905,-544C10905,-544 10782,-544 10782,-544 10776,-544 10770,-538 10770,-532 10770,-532 10770,-473 10770,-473 10770,-467 10776,-461 10782,-461 10782,-461 10905,-461 10905,-461 10911,-461 10917,-467 10917,-473 10917,-473 10917,-532 10917,-532 10917,-538 10911,-544 10905,-544\"/>\n<text text-anchor=\"middle\" x=\"10843.5\" y=\"-528.8\" font-family=\"Helvetica,sans-Serif\" font-size=\"14.00\">preco &lt;= 60224.531</text>\n<text text-anchor=\"middle\" x=\"10843.5\" y=\"-513.8\" font-family=\"Helvetica,sans-Serif\" font-size=\"14.00\">gini = 0.049</text>\n<text text-anchor=\"middle\" x=\"10843.5\" y=\"-498.8\" font-family=\"Helvetica,sans-Serif\" font-size=\"14.00\">samples = 119</text>\n<text text-anchor=\"middle\" x=\"10843.5\" y=\"-483.8\" font-family=\"Helvetica,sans-Serif\" font-size=\"14.00\">value = [116, 3]</text>\n<text text-anchor=\"middle\" x=\"10843.5\" y=\"-468.8\" font-family=\"Helvetica,sans-Serif\" font-size=\"14.00\">class = não</text>\n</g>\n<!-- 261&#45;&gt;262 -->\n<g id=\"edge262\" class=\"edge\">\n<title>261&#45;&gt;262</title>\n<path fill=\"none\" stroke=\"black\" d=\"M10947.99,-579.91C10934.83,-570.29 10920.7,-559.95 10907.21,-550.09\"/>\n<polygon fill=\"black\" stroke=\"black\" points=\"10909.05,-547.1 10898.91,-544.02 10904.92,-552.75 10909.05,-547.1\"/>\n</g>\n<!-- 273 -->\n<g id=\"node274\" class=\"node\">\n<title>273</title>\n<path fill=\"#399de5\" stroke=\"black\" d=\"M11040,-536.5C11040,-536.5 10967,-536.5 10967,-536.5 10961,-536.5 10955,-530.5 10955,-524.5 10955,-524.5 10955,-480.5 10955,-480.5 10955,-474.5 10961,-468.5 10967,-468.5 10967,-468.5 11040,-468.5 11040,-468.5 11046,-468.5 11052,-474.5 11052,-480.5 11052,-480.5 11052,-524.5 11052,-524.5 11052,-530.5 11046,-536.5 11040,-536.5\"/>\n<text text-anchor=\"middle\" x=\"11003.5\" y=\"-521.3\" font-family=\"Helvetica,sans-Serif\" font-size=\"14.00\">gini = 0.0</text>\n<text text-anchor=\"middle\" x=\"11003.5\" y=\"-506.3\" font-family=\"Helvetica,sans-Serif\" font-size=\"14.00\">samples = 1</text>\n<text text-anchor=\"middle\" x=\"11003.5\" y=\"-491.3\" font-family=\"Helvetica,sans-Serif\" font-size=\"14.00\">value = [0, 1]</text>\n<text text-anchor=\"middle\" x=\"11003.5\" y=\"-476.3\" font-family=\"Helvetica,sans-Serif\" font-size=\"14.00\">class = sim</text>\n</g>\n<!-- 261&#45;&gt;273 -->\n<g id=\"edge273\" class=\"edge\">\n<title>261&#45;&gt;273</title>\n<path fill=\"none\" stroke=\"black\" d=\"M11003.5,-579.91C11003.5,-569.2 11003.5,-557.62 11003.5,-546.78\"/>\n<polygon fill=\"black\" stroke=\"black\" points=\"11007,-546.67 11003.5,-536.67 11000,-546.67 11007,-546.67\"/>\n</g>\n<!-- 263 -->\n<g id=\"node264\" class=\"node\">\n<title>263</title>\n<path fill=\"#e78c4b\" stroke=\"black\" d=\"M10720,-425C10720,-425 10597,-425 10597,-425 10591,-425 10585,-419 10585,-413 10585,-413 10585,-354 10585,-354 10585,-348 10591,-342 10597,-342 10597,-342 10720,-342 10720,-342 10726,-342 10732,-348 10732,-354 10732,-354 10732,-413 10732,-413 10732,-419 10726,-425 10720,-425\"/>\n<text text-anchor=\"middle\" x=\"10658.5\" y=\"-409.8\" font-family=\"Helvetica,sans-Serif\" font-size=\"14.00\">preco &lt;= 60216.701</text>\n<text text-anchor=\"middle\" x=\"10658.5\" y=\"-394.8\" font-family=\"Helvetica,sans-Serif\" font-size=\"14.00\">gini = 0.153</text>\n<text text-anchor=\"middle\" x=\"10658.5\" y=\"-379.8\" font-family=\"Helvetica,sans-Serif\" font-size=\"14.00\">samples = 12</text>\n<text text-anchor=\"middle\" x=\"10658.5\" y=\"-364.8\" font-family=\"Helvetica,sans-Serif\" font-size=\"14.00\">value = [11, 1]</text>\n<text text-anchor=\"middle\" x=\"10658.5\" y=\"-349.8\" font-family=\"Helvetica,sans-Serif\" font-size=\"14.00\">class = não</text>\n</g>\n<!-- 262&#45;&gt;263 -->\n<g id=\"edge263\" class=\"edge\">\n<title>262&#45;&gt;263</title>\n<path fill=\"none\" stroke=\"black\" d=\"M10779.32,-460.91C10763.82,-451.11 10747.15,-440.56 10731.29,-430.53\"/>\n<polygon fill=\"black\" stroke=\"black\" points=\"10732.89,-427.41 10722.57,-425.02 10729.15,-433.32 10732.89,-427.41\"/>\n</g>\n<!-- 266 -->\n<g id=\"node267\" class=\"node\">\n<title>266</title>\n<path fill=\"#e5833d\" stroke=\"black\" d=\"M10924,-425C10924,-425 10763,-425 10763,-425 10757,-425 10751,-419 10751,-413 10751,-413 10751,-354 10751,-354 10751,-348 10757,-342 10763,-342 10763,-342 10924,-342 10924,-342 10930,-342 10936,-348 10936,-354 10936,-354 10936,-413 10936,-413 10936,-419 10930,-425 10924,-425\"/>\n<text text-anchor=\"middle\" x=\"10843.5\" y=\"-409.8\" font-family=\"Helvetica,sans-Serif\" font-size=\"14.00\">idade_do_modelo &lt;= 12.5</text>\n<text text-anchor=\"middle\" x=\"10843.5\" y=\"-394.8\" font-family=\"Helvetica,sans-Serif\" font-size=\"14.00\">gini = 0.037</text>\n<text text-anchor=\"middle\" x=\"10843.5\" y=\"-379.8\" font-family=\"Helvetica,sans-Serif\" font-size=\"14.00\">samples = 107</text>\n<text text-anchor=\"middle\" x=\"10843.5\" y=\"-364.8\" font-family=\"Helvetica,sans-Serif\" font-size=\"14.00\">value = [105, 2]</text>\n<text text-anchor=\"middle\" x=\"10843.5\" y=\"-349.8\" font-family=\"Helvetica,sans-Serif\" font-size=\"14.00\">class = não</text>\n</g>\n<!-- 262&#45;&gt;266 -->\n<g id=\"edge266\" class=\"edge\">\n<title>262&#45;&gt;266</title>\n<path fill=\"none\" stroke=\"black\" d=\"M10843.5,-460.91C10843.5,-452.65 10843.5,-443.86 10843.5,-435.3\"/>\n<polygon fill=\"black\" stroke=\"black\" points=\"10847,-435.02 10843.5,-425.02 10840,-435.02 10847,-435.02\"/>\n</g>\n<!-- 264 -->\n<g id=\"node265\" class=\"node\">\n<title>264</title>\n<path fill=\"#e58139\" stroke=\"black\" d=\"M10580,-298.5C10580,-298.5 10499,-298.5 10499,-298.5 10493,-298.5 10487,-292.5 10487,-286.5 10487,-286.5 10487,-242.5 10487,-242.5 10487,-236.5 10493,-230.5 10499,-230.5 10499,-230.5 10580,-230.5 10580,-230.5 10586,-230.5 10592,-236.5 10592,-242.5 10592,-242.5 10592,-286.5 10592,-286.5 10592,-292.5 10586,-298.5 10580,-298.5\"/>\n<text text-anchor=\"middle\" x=\"10539.5\" y=\"-283.3\" font-family=\"Helvetica,sans-Serif\" font-size=\"14.00\">gini = 0.0</text>\n<text text-anchor=\"middle\" x=\"10539.5\" y=\"-268.3\" font-family=\"Helvetica,sans-Serif\" font-size=\"14.00\">samples = 11</text>\n<text text-anchor=\"middle\" x=\"10539.5\" y=\"-253.3\" font-family=\"Helvetica,sans-Serif\" font-size=\"14.00\">value = [11, 0]</text>\n<text text-anchor=\"middle\" x=\"10539.5\" y=\"-238.3\" font-family=\"Helvetica,sans-Serif\" font-size=\"14.00\">class = não</text>\n</g>\n<!-- 263&#45;&gt;264 -->\n<g id=\"edge264\" class=\"edge\">\n<title>263&#45;&gt;264</title>\n<path fill=\"none\" stroke=\"black\" d=\"M10617.21,-341.91C10605.32,-330.21 10592.35,-317.46 10580.47,-305.78\"/>\n<polygon fill=\"black\" stroke=\"black\" points=\"10582.82,-303.18 10573.23,-298.67 10577.91,-308.17 10582.82,-303.18\"/>\n</g>\n<!-- 265 -->\n<g id=\"node266\" class=\"node\">\n<title>265</title>\n<path fill=\"#399de5\" stroke=\"black\" d=\"M10695,-298.5C10695,-298.5 10622,-298.5 10622,-298.5 10616,-298.5 10610,-292.5 10610,-286.5 10610,-286.5 10610,-242.5 10610,-242.5 10610,-236.5 10616,-230.5 10622,-230.5 10622,-230.5 10695,-230.5 10695,-230.5 10701,-230.5 10707,-236.5 10707,-242.5 10707,-242.5 10707,-286.5 10707,-286.5 10707,-292.5 10701,-298.5 10695,-298.5\"/>\n<text text-anchor=\"middle\" x=\"10658.5\" y=\"-283.3\" font-family=\"Helvetica,sans-Serif\" font-size=\"14.00\">gini = 0.0</text>\n<text text-anchor=\"middle\" x=\"10658.5\" y=\"-268.3\" font-family=\"Helvetica,sans-Serif\" font-size=\"14.00\">samples = 1</text>\n<text text-anchor=\"middle\" x=\"10658.5\" y=\"-253.3\" font-family=\"Helvetica,sans-Serif\" font-size=\"14.00\">value = [0, 1]</text>\n<text text-anchor=\"middle\" x=\"10658.5\" y=\"-238.3\" font-family=\"Helvetica,sans-Serif\" font-size=\"14.00\">class = sim</text>\n</g>\n<!-- 263&#45;&gt;265 -->\n<g id=\"edge265\" class=\"edge\">\n<title>263&#45;&gt;265</title>\n<path fill=\"none\" stroke=\"black\" d=\"M10658.5,-341.91C10658.5,-331.2 10658.5,-319.62 10658.5,-308.78\"/>\n<polygon fill=\"black\" stroke=\"black\" points=\"10662,-308.67 10658.5,-298.67 10655,-308.67 10662,-308.67\"/>\n</g>\n<!-- 267 -->\n<g id=\"node268\" class=\"node\">\n<title>267</title>\n<path fill=\"#e78945\" stroke=\"black\" d=\"M10903.5,-306C10903.5,-306 10737.5,-306 10737.5,-306 10731.5,-306 10725.5,-300 10725.5,-294 10725.5,-294 10725.5,-235 10725.5,-235 10725.5,-229 10731.5,-223 10737.5,-223 10737.5,-223 10903.5,-223 10903.5,-223 10909.5,-223 10915.5,-229 10915.5,-235 10915.5,-235 10915.5,-294 10915.5,-294 10915.5,-300 10909.5,-306 10903.5,-306\"/>\n<text text-anchor=\"middle\" x=\"10820.5\" y=\"-290.8\" font-family=\"Helvetica,sans-Serif\" font-size=\"14.00\">km_por_ano &lt;= 28574.636</text>\n<text text-anchor=\"middle\" x=\"10820.5\" y=\"-275.8\" font-family=\"Helvetica,sans-Serif\" font-size=\"14.00\">gini = 0.108</text>\n<text text-anchor=\"middle\" x=\"10820.5\" y=\"-260.8\" font-family=\"Helvetica,sans-Serif\" font-size=\"14.00\">samples = 35</text>\n<text text-anchor=\"middle\" x=\"10820.5\" y=\"-245.8\" font-family=\"Helvetica,sans-Serif\" font-size=\"14.00\">value = [33, 2]</text>\n<text text-anchor=\"middle\" x=\"10820.5\" y=\"-230.8\" font-family=\"Helvetica,sans-Serif\" font-size=\"14.00\">class = não</text>\n</g>\n<!-- 266&#45;&gt;267 -->\n<g id=\"edge267\" class=\"edge\">\n<title>266&#45;&gt;267</title>\n<path fill=\"none\" stroke=\"black\" d=\"M10835.52,-341.91C10833.88,-333.56 10832.13,-324.67 10830.43,-316.02\"/>\n<polygon fill=\"black\" stroke=\"black\" points=\"10833.83,-315.16 10828.47,-306.02 10826.96,-316.51 10833.83,-315.16\"/>\n</g>\n<!-- 272 -->\n<g id=\"node273\" class=\"node\">\n<title>272</title>\n<path fill=\"#e58139\" stroke=\"black\" d=\"M11027,-298.5C11027,-298.5 10946,-298.5 10946,-298.5 10940,-298.5 10934,-292.5 10934,-286.5 10934,-286.5 10934,-242.5 10934,-242.5 10934,-236.5 10940,-230.5 10946,-230.5 10946,-230.5 11027,-230.5 11027,-230.5 11033,-230.5 11039,-236.5 11039,-242.5 11039,-242.5 11039,-286.5 11039,-286.5 11039,-292.5 11033,-298.5 11027,-298.5\"/>\n<text text-anchor=\"middle\" x=\"10986.5\" y=\"-283.3\" font-family=\"Helvetica,sans-Serif\" font-size=\"14.00\">gini = 0.0</text>\n<text text-anchor=\"middle\" x=\"10986.5\" y=\"-268.3\" font-family=\"Helvetica,sans-Serif\" font-size=\"14.00\">samples = 72</text>\n<text text-anchor=\"middle\" x=\"10986.5\" y=\"-253.3\" font-family=\"Helvetica,sans-Serif\" font-size=\"14.00\">value = [72, 0]</text>\n<text text-anchor=\"middle\" x=\"10986.5\" y=\"-238.3\" font-family=\"Helvetica,sans-Serif\" font-size=\"14.00\">class = não</text>\n</g>\n<!-- 266&#45;&gt;272 -->\n<g id=\"edge272\" class=\"edge\">\n<title>266&#45;&gt;272</title>\n<path fill=\"none\" stroke=\"black\" d=\"M10893.11,-341.91C10907.68,-329.99 10923.59,-316.98 10938.08,-305.12\"/>\n<polygon fill=\"black\" stroke=\"black\" points=\"10940.44,-307.71 10945.96,-298.67 10936.01,-302.29 10940.44,-307.71\"/>\n</g>\n<!-- 268 -->\n<g id=\"node269\" class=\"node\">\n<title>268</title>\n<path fill=\"#e99355\" stroke=\"black\" d=\"M10738,-187C10738,-187 10589,-187 10589,-187 10583,-187 10577,-181 10577,-175 10577,-175 10577,-116 10577,-116 10577,-110 10583,-104 10589,-104 10589,-104 10738,-104 10738,-104 10744,-104 10750,-110 10750,-116 10750,-116 10750,-175 10750,-175 10750,-181 10744,-187 10738,-187\"/>\n<text text-anchor=\"middle\" x=\"10663.5\" y=\"-171.8\" font-family=\"Helvetica,sans-Serif\" font-size=\"14.00\">km_por_ano &lt;= 28103.1</text>\n<text text-anchor=\"middle\" x=\"10663.5\" y=\"-156.8\" font-family=\"Helvetica,sans-Serif\" font-size=\"14.00\">gini = 0.219</text>\n<text text-anchor=\"middle\" x=\"10663.5\" y=\"-141.8\" font-family=\"Helvetica,sans-Serif\" font-size=\"14.00\">samples = 16</text>\n<text text-anchor=\"middle\" x=\"10663.5\" y=\"-126.8\" font-family=\"Helvetica,sans-Serif\" font-size=\"14.00\">value = [14, 2]</text>\n<text text-anchor=\"middle\" x=\"10663.5\" y=\"-111.8\" font-family=\"Helvetica,sans-Serif\" font-size=\"14.00\">class = não</text>\n</g>\n<!-- 267&#45;&gt;268 -->\n<g id=\"edge268\" class=\"edge\">\n<title>267&#45;&gt;268</title>\n<path fill=\"none\" stroke=\"black\" d=\"M10766.03,-222.91C10753.12,-213.29 10739.25,-202.95 10726.02,-193.09\"/>\n<polygon fill=\"black\" stroke=\"black\" points=\"10727.98,-190.19 10717.87,-187.02 10723.8,-195.8 10727.98,-190.19\"/>\n</g>\n<!-- 271 -->\n<g id=\"node272\" class=\"node\">\n<title>271</title>\n<path fill=\"#e58139\" stroke=\"black\" d=\"M10861,-179.5C10861,-179.5 10780,-179.5 10780,-179.5 10774,-179.5 10768,-173.5 10768,-167.5 10768,-167.5 10768,-123.5 10768,-123.5 10768,-117.5 10774,-111.5 10780,-111.5 10780,-111.5 10861,-111.5 10861,-111.5 10867,-111.5 10873,-117.5 10873,-123.5 10873,-123.5 10873,-167.5 10873,-167.5 10873,-173.5 10867,-179.5 10861,-179.5\"/>\n<text text-anchor=\"middle\" x=\"10820.5\" y=\"-164.3\" font-family=\"Helvetica,sans-Serif\" font-size=\"14.00\">gini = 0.0</text>\n<text text-anchor=\"middle\" x=\"10820.5\" y=\"-149.3\" font-family=\"Helvetica,sans-Serif\" font-size=\"14.00\">samples = 19</text>\n<text text-anchor=\"middle\" x=\"10820.5\" y=\"-134.3\" font-family=\"Helvetica,sans-Serif\" font-size=\"14.00\">value = [19, 0]</text>\n<text text-anchor=\"middle\" x=\"10820.5\" y=\"-119.3\" font-family=\"Helvetica,sans-Serif\" font-size=\"14.00\">class = não</text>\n</g>\n<!-- 267&#45;&gt;271 -->\n<g id=\"edge271\" class=\"edge\">\n<title>267&#45;&gt;271</title>\n<path fill=\"none\" stroke=\"black\" d=\"M10820.5,-222.91C10820.5,-212.2 10820.5,-200.62 10820.5,-189.78\"/>\n<polygon fill=\"black\" stroke=\"black\" points=\"10824,-189.67 10820.5,-179.67 10817,-189.67 10824,-189.67\"/>\n</g>\n<!-- 269 -->\n<g id=\"node270\" class=\"node\">\n<title>269</title>\n<path fill=\"#e78a47\" stroke=\"black\" d=\"M10704,-68C10704,-68 10623,-68 10623,-68 10617,-68 10611,-62 10611,-56 10611,-56 10611,-12 10611,-12 10611,-6 10617,0 10623,0 10623,0 10704,0 10704,0 10710,0 10716,-6 10716,-12 10716,-12 10716,-56 10716,-56 10716,-62 10710,-68 10704,-68\"/>\n<text text-anchor=\"middle\" x=\"10663.5\" y=\"-52.8\" font-family=\"Helvetica,sans-Serif\" font-size=\"14.00\">gini = 0.124</text>\n<text text-anchor=\"middle\" x=\"10663.5\" y=\"-37.8\" font-family=\"Helvetica,sans-Serif\" font-size=\"14.00\">samples = 15</text>\n<text text-anchor=\"middle\" x=\"10663.5\" y=\"-22.8\" font-family=\"Helvetica,sans-Serif\" font-size=\"14.00\">value = [14, 1]</text>\n<text text-anchor=\"middle\" x=\"10663.5\" y=\"-7.8\" font-family=\"Helvetica,sans-Serif\" font-size=\"14.00\">class = não</text>\n</g>\n<!-- 268&#45;&gt;269 -->\n<g id=\"edge269\" class=\"edge\">\n<title>268&#45;&gt;269</title>\n<path fill=\"none\" stroke=\"black\" d=\"M10663.5,-103.73C10663.5,-95.52 10663.5,-86.86 10663.5,-78.56\"/>\n<polygon fill=\"black\" stroke=\"black\" points=\"10667,-78.3 10663.5,-68.3 10660,-78.3 10667,-78.3\"/>\n</g>\n<!-- 270 -->\n<g id=\"node271\" class=\"node\">\n<title>270</title>\n<path fill=\"#399de5\" stroke=\"black\" d=\"M10819,-68C10819,-68 10746,-68 10746,-68 10740,-68 10734,-62 10734,-56 10734,-56 10734,-12 10734,-12 10734,-6 10740,0 10746,0 10746,0 10819,0 10819,0 10825,0 10831,-6 10831,-12 10831,-12 10831,-56 10831,-56 10831,-62 10825,-68 10819,-68\"/>\n<text text-anchor=\"middle\" x=\"10782.5\" y=\"-52.8\" font-family=\"Helvetica,sans-Serif\" font-size=\"14.00\">gini = 0.0</text>\n<text text-anchor=\"middle\" x=\"10782.5\" y=\"-37.8\" font-family=\"Helvetica,sans-Serif\" font-size=\"14.00\">samples = 1</text>\n<text text-anchor=\"middle\" x=\"10782.5\" y=\"-22.8\" font-family=\"Helvetica,sans-Serif\" font-size=\"14.00\">value = [0, 1]</text>\n<text text-anchor=\"middle\" x=\"10782.5\" y=\"-7.8\" font-family=\"Helvetica,sans-Serif\" font-size=\"14.00\">class = sim</text>\n</g>\n<!-- 268&#45;&gt;270 -->\n<g id=\"edge270\" class=\"edge\">\n<title>268&#45;&gt;270</title>\n<path fill=\"none\" stroke=\"black\" d=\"M10707.81,-103.73C10717.92,-94.42 10728.66,-84.54 10738.75,-75.26\"/>\n<polygon fill=\"black\" stroke=\"black\" points=\"10741.32,-77.65 10746.31,-68.3 10736.58,-72.5 10741.32,-77.65\"/>\n</g>\n<!-- 276 -->\n<g id=\"node277\" class=\"node\">\n<title>276</title>\n<path fill=\"#399de5\" stroke=\"black\" d=\"M11360,-655.5C11360,-655.5 11287,-655.5 11287,-655.5 11281,-655.5 11275,-649.5 11275,-643.5 11275,-643.5 11275,-599.5 11275,-599.5 11275,-593.5 11281,-587.5 11287,-587.5 11287,-587.5 11360,-587.5 11360,-587.5 11366,-587.5 11372,-593.5 11372,-599.5 11372,-599.5 11372,-643.5 11372,-643.5 11372,-649.5 11366,-655.5 11360,-655.5\"/>\n<text text-anchor=\"middle\" x=\"11323.5\" y=\"-640.3\" font-family=\"Helvetica,sans-Serif\" font-size=\"14.00\">gini = 0.0</text>\n<text text-anchor=\"middle\" x=\"11323.5\" y=\"-625.3\" font-family=\"Helvetica,sans-Serif\" font-size=\"14.00\">samples = 1</text>\n<text text-anchor=\"middle\" x=\"11323.5\" y=\"-610.3\" font-family=\"Helvetica,sans-Serif\" font-size=\"14.00\">value = [0, 1]</text>\n<text text-anchor=\"middle\" x=\"11323.5\" y=\"-595.3\" font-family=\"Helvetica,sans-Serif\" font-size=\"14.00\">class = sim</text>\n</g>\n<!-- 275&#45;&gt;276 -->\n<g id=\"edge276\" class=\"edge\">\n<title>275&#45;&gt;276</title>\n<path fill=\"none\" stroke=\"black\" d=\"M11323.5,-698.91C11323.5,-688.2 11323.5,-676.62 11323.5,-665.78\"/>\n<polygon fill=\"black\" stroke=\"black\" points=\"11327,-665.67 11323.5,-655.67 11320,-665.67 11327,-665.67\"/>\n</g>\n<!-- 277 -->\n<g id=\"node278\" class=\"node\">\n<title>277</title>\n<path fill=\"#e68742\" stroke=\"black\" d=\"M11530,-663C11530,-663 11407,-663 11407,-663 11401,-663 11395,-657 11395,-651 11395,-651 11395,-592 11395,-592 11395,-586 11401,-580 11407,-580 11407,-580 11530,-580 11530,-580 11536,-580 11542,-586 11542,-592 11542,-592 11542,-651 11542,-651 11542,-657 11536,-663 11530,-663\"/>\n<text text-anchor=\"middle\" x=\"11468.5\" y=\"-647.8\" font-family=\"Helvetica,sans-Serif\" font-size=\"14.00\">preco &lt;= 68418.574</text>\n<text text-anchor=\"middle\" x=\"11468.5\" y=\"-632.8\" font-family=\"Helvetica,sans-Serif\" font-size=\"14.00\">gini = 0.087</text>\n<text text-anchor=\"middle\" x=\"11468.5\" y=\"-617.8\" font-family=\"Helvetica,sans-Serif\" font-size=\"14.00\">samples = 1587</text>\n<text text-anchor=\"middle\" x=\"11468.5\" y=\"-602.8\" font-family=\"Helvetica,sans-Serif\" font-size=\"14.00\">value = [1515, 72]</text>\n<text text-anchor=\"middle\" x=\"11468.5\" y=\"-587.8\" font-family=\"Helvetica,sans-Serif\" font-size=\"14.00\">class = não</text>\n</g>\n<!-- 275&#45;&gt;277 -->\n<g id=\"edge277\" class=\"edge\">\n<title>275&#45;&gt;277</title>\n<path fill=\"none\" stroke=\"black\" d=\"M11373.81,-698.91C11385.62,-689.38 11398.29,-679.15 11410.41,-669.37\"/>\n<polygon fill=\"black\" stroke=\"black\" points=\"11412.7,-672.02 11418.28,-663.02 11408.3,-666.58 11412.7,-672.02\"/>\n</g>\n<!-- 278 -->\n<g id=\"node279\" class=\"node\">\n<title>278</title>\n<path fill=\"#e78b49\" stroke=\"black\" d=\"M11530,-544C11530,-544 11407,-544 11407,-544 11401,-544 11395,-538 11395,-532 11395,-532 11395,-473 11395,-473 11395,-467 11401,-461 11407,-461 11407,-461 11530,-461 11530,-461 11536,-461 11542,-467 11542,-473 11542,-473 11542,-532 11542,-532 11542,-538 11536,-544 11530,-544\"/>\n<text text-anchor=\"middle\" x=\"11468.5\" y=\"-528.8\" font-family=\"Helvetica,sans-Serif\" font-size=\"14.00\">preco &lt;= 68383.875</text>\n<text text-anchor=\"middle\" x=\"11468.5\" y=\"-513.8\" font-family=\"Helvetica,sans-Serif\" font-size=\"14.00\">gini = 0.137</text>\n<text text-anchor=\"middle\" x=\"11468.5\" y=\"-498.8\" font-family=\"Helvetica,sans-Serif\" font-size=\"14.00\">samples = 189</text>\n<text text-anchor=\"middle\" x=\"11468.5\" y=\"-483.8\" font-family=\"Helvetica,sans-Serif\" font-size=\"14.00\">value = [175, 14]</text>\n<text text-anchor=\"middle\" x=\"11468.5\" y=\"-468.8\" font-family=\"Helvetica,sans-Serif\" font-size=\"14.00\">class = não</text>\n</g>\n<!-- 277&#45;&gt;278 -->\n<g id=\"edge278\" class=\"edge\">\n<title>277&#45;&gt;278</title>\n<path fill=\"none\" stroke=\"black\" d=\"M11468.5,-579.91C11468.5,-571.65 11468.5,-562.86 11468.5,-554.3\"/>\n<polygon fill=\"black\" stroke=\"black\" points=\"11472,-554.02 11468.5,-544.02 11465,-554.02 11472,-554.02\"/>\n</g>\n<!-- 293 -->\n<g id=\"node294\" class=\"node\">\n<title>293</title>\n<path fill=\"#e68642\" stroke=\"black\" d=\"M11895.5,-544C11895.5,-544 11729.5,-544 11729.5,-544 11723.5,-544 11717.5,-538 11717.5,-532 11717.5,-532 11717.5,-473 11717.5,-473 11717.5,-467 11723.5,-461 11729.5,-461 11729.5,-461 11895.5,-461 11895.5,-461 11901.5,-461 11907.5,-467 11907.5,-473 11907.5,-473 11907.5,-532 11907.5,-532 11907.5,-538 11901.5,-544 11895.5,-544\"/>\n<text text-anchor=\"middle\" x=\"11812.5\" y=\"-528.8\" font-family=\"Helvetica,sans-Serif\" font-size=\"14.00\">km_por_ano &lt;= 24225.395</text>\n<text text-anchor=\"middle\" x=\"11812.5\" y=\"-513.8\" font-family=\"Helvetica,sans-Serif\" font-size=\"14.00\">gini = 0.08</text>\n<text text-anchor=\"middle\" x=\"11812.5\" y=\"-498.8\" font-family=\"Helvetica,sans-Serif\" font-size=\"14.00\">samples = 1398</text>\n<text text-anchor=\"middle\" x=\"11812.5\" y=\"-483.8\" font-family=\"Helvetica,sans-Serif\" font-size=\"14.00\">value = [1340, 58]</text>\n<text text-anchor=\"middle\" x=\"11812.5\" y=\"-468.8\" font-family=\"Helvetica,sans-Serif\" font-size=\"14.00\">class = não</text>\n</g>\n<!-- 277&#45;&gt;293 -->\n<g id=\"edge293\" class=\"edge\">\n<title>277&#45;&gt;293</title>\n<path fill=\"none\" stroke=\"black\" d=\"M11542.3,-595.4C11590.53,-578.99 11654.26,-557.32 11707.72,-539.14\"/>\n<polygon fill=\"black\" stroke=\"black\" points=\"11708.89,-542.44 11717.23,-535.9 11706.63,-535.81 11708.89,-542.44\"/>\n</g>\n<!-- 279 -->\n<g id=\"node280\" class=\"node\">\n<title>279</title>\n<path fill=\"#e78a48\" stroke=\"black\" d=\"M11393,-425C11393,-425 11270,-425 11270,-425 11264,-425 11258,-419 11258,-413 11258,-413 11258,-354 11258,-354 11258,-348 11264,-342 11270,-342 11270,-342 11393,-342 11393,-342 11399,-342 11405,-348 11405,-354 11405,-354 11405,-413 11405,-413 11405,-419 11399,-425 11393,-425\"/>\n<text text-anchor=\"middle\" x=\"11331.5\" y=\"-409.8\" font-family=\"Helvetica,sans-Serif\" font-size=\"14.00\">preco &lt;= 67886.156</text>\n<text text-anchor=\"middle\" x=\"11331.5\" y=\"-394.8\" font-family=\"Helvetica,sans-Serif\" font-size=\"14.00\">gini = 0.129</text>\n<text text-anchor=\"middle\" x=\"11331.5\" y=\"-379.8\" font-family=\"Helvetica,sans-Serif\" font-size=\"14.00\">samples = 188</text>\n<text text-anchor=\"middle\" x=\"11331.5\" y=\"-364.8\" font-family=\"Helvetica,sans-Serif\" font-size=\"14.00\">value = [175, 13]</text>\n<text text-anchor=\"middle\" x=\"11331.5\" y=\"-349.8\" font-family=\"Helvetica,sans-Serif\" font-size=\"14.00\">class = não</text>\n</g>\n<!-- 278&#45;&gt;279 -->\n<g id=\"edge279\" class=\"edge\">\n<title>278&#45;&gt;279</title>\n<path fill=\"none\" stroke=\"black\" d=\"M11420.97,-460.91C11409.92,-451.47 11398.06,-441.34 11386.71,-431.65\"/>\n<polygon fill=\"black\" stroke=\"black\" points=\"11388.82,-428.85 11378.95,-425.02 11384.28,-434.18 11388.82,-428.85\"/>\n</g>\n<!-- 292 -->\n<g id=\"node293\" class=\"node\">\n<title>292</title>\n<path fill=\"#399de5\" stroke=\"black\" d=\"M11508,-417.5C11508,-417.5 11435,-417.5 11435,-417.5 11429,-417.5 11423,-411.5 11423,-405.5 11423,-405.5 11423,-361.5 11423,-361.5 11423,-355.5 11429,-349.5 11435,-349.5 11435,-349.5 11508,-349.5 11508,-349.5 11514,-349.5 11520,-355.5 11520,-361.5 11520,-361.5 11520,-405.5 11520,-405.5 11520,-411.5 11514,-417.5 11508,-417.5\"/>\n<text text-anchor=\"middle\" x=\"11471.5\" y=\"-402.3\" font-family=\"Helvetica,sans-Serif\" font-size=\"14.00\">gini = 0.0</text>\n<text text-anchor=\"middle\" x=\"11471.5\" y=\"-387.3\" font-family=\"Helvetica,sans-Serif\" font-size=\"14.00\">samples = 1</text>\n<text text-anchor=\"middle\" x=\"11471.5\" y=\"-372.3\" font-family=\"Helvetica,sans-Serif\" font-size=\"14.00\">value = [0, 1]</text>\n<text text-anchor=\"middle\" x=\"11471.5\" y=\"-357.3\" font-family=\"Helvetica,sans-Serif\" font-size=\"14.00\">class = sim</text>\n</g>\n<!-- 278&#45;&gt;292 -->\n<g id=\"edge292\" class=\"edge\">\n<title>278&#45;&gt;292</title>\n<path fill=\"none\" stroke=\"black\" d=\"M11469.54,-460.91C11469.82,-450.2 11470.11,-438.62 11470.39,-427.78\"/>\n<polygon fill=\"black\" stroke=\"black\" points=\"11473.89,-427.75 11470.65,-417.67 11466.89,-427.57 11473.89,-427.75\"/>\n</g>\n<!-- 280 -->\n<g id=\"node281\" class=\"node\">\n<title>280</title>\n<path fill=\"#e68844\" stroke=\"black\" d=\"M11268.5,-306C11268.5,-306 11102.5,-306 11102.5,-306 11096.5,-306 11090.5,-300 11090.5,-294 11090.5,-294 11090.5,-235 11090.5,-235 11090.5,-229 11096.5,-223 11102.5,-223 11102.5,-223 11268.5,-223 11268.5,-223 11274.5,-223 11280.5,-229 11280.5,-235 11280.5,-235 11280.5,-294 11280.5,-294 11280.5,-300 11274.5,-306 11268.5,-306\"/>\n<text text-anchor=\"middle\" x=\"11185.5\" y=\"-290.8\" font-family=\"Helvetica,sans-Serif\" font-size=\"14.00\">km_por_ano &lt;= 26735.965</text>\n<text text-anchor=\"middle\" x=\"11185.5\" y=\"-275.8\" font-family=\"Helvetica,sans-Serif\" font-size=\"14.00\">gini = 0.102</text>\n<text text-anchor=\"middle\" x=\"11185.5\" y=\"-260.8\" font-family=\"Helvetica,sans-Serif\" font-size=\"14.00\">samples = 167</text>\n<text text-anchor=\"middle\" x=\"11185.5\" y=\"-245.8\" font-family=\"Helvetica,sans-Serif\" font-size=\"14.00\">value = [158, 9]</text>\n<text text-anchor=\"middle\" x=\"11185.5\" y=\"-230.8\" font-family=\"Helvetica,sans-Serif\" font-size=\"14.00\">class = não</text>\n</g>\n<!-- 279&#45;&gt;280 -->\n<g id=\"edge280\" class=\"edge\">\n<title>279&#45;&gt;280</title>\n<path fill=\"none\" stroke=\"black\" d=\"M11280.85,-341.91C11268.96,-332.38 11256.19,-322.15 11243.99,-312.37\"/>\n<polygon fill=\"black\" stroke=\"black\" points=\"11246.06,-309.54 11236.06,-306.02 11241.68,-315.01 11246.06,-309.54\"/>\n</g>\n<!-- 287 -->\n<g id=\"node288\" class=\"node\">\n<title>287</title>\n<path fill=\"#eb9f68\" stroke=\"black\" d=\"M11434,-306C11434,-306 11311,-306 11311,-306 11305,-306 11299,-300 11299,-294 11299,-294 11299,-235 11299,-235 11299,-229 11305,-223 11311,-223 11311,-223 11434,-223 11434,-223 11440,-223 11446,-229 11446,-235 11446,-235 11446,-294 11446,-294 11446,-300 11440,-306 11434,-306\"/>\n<text text-anchor=\"middle\" x=\"11372.5\" y=\"-290.8\" font-family=\"Helvetica,sans-Serif\" font-size=\"14.00\">preco &lt;= 67947.328</text>\n<text text-anchor=\"middle\" x=\"11372.5\" y=\"-275.8\" font-family=\"Helvetica,sans-Serif\" font-size=\"14.00\">gini = 0.308</text>\n<text text-anchor=\"middle\" x=\"11372.5\" y=\"-260.8\" font-family=\"Helvetica,sans-Serif\" font-size=\"14.00\">samples = 21</text>\n<text text-anchor=\"middle\" x=\"11372.5\" y=\"-245.8\" font-family=\"Helvetica,sans-Serif\" font-size=\"14.00\">value = [17, 4]</text>\n<text text-anchor=\"middle\" x=\"11372.5\" y=\"-230.8\" font-family=\"Helvetica,sans-Serif\" font-size=\"14.00\">class = não</text>\n</g>\n<!-- 279&#45;&gt;287 -->\n<g id=\"edge287\" class=\"edge\">\n<title>279&#45;&gt;287</title>\n<path fill=\"none\" stroke=\"black\" d=\"M11345.72,-341.91C11348.68,-333.47 11351.83,-324.48 11354.9,-315.74\"/>\n<polygon fill=\"black\" stroke=\"black\" points=\"11358.3,-316.62 11358.3,-306.02 11351.69,-314.3 11358.3,-316.62\"/>\n</g>\n<!-- 281 -->\n<g id=\"node282\" class=\"node\">\n<title>281</title>\n<path fill=\"#e99254\" stroke=\"black\" d=\"M11061.5,-187C11061.5,-187 10903.5,-187 10903.5,-187 10897.5,-187 10891.5,-181 10891.5,-175 10891.5,-175 10891.5,-116 10891.5,-116 10891.5,-110 10897.5,-104 10903.5,-104 10903.5,-104 11061.5,-104 11061.5,-104 11067.5,-104 11073.5,-110 11073.5,-116 11073.5,-116 11073.5,-175 11073.5,-175 11073.5,-181 11067.5,-187 11061.5,-187\"/>\n<text text-anchor=\"middle\" x=\"10982.5\" y=\"-171.8\" font-family=\"Helvetica,sans-Serif\" font-size=\"14.00\">km_por_ano &lt;= 26712.63</text>\n<text text-anchor=\"middle\" x=\"10982.5\" y=\"-156.8\" font-family=\"Helvetica,sans-Serif\" font-size=\"14.00\">gini = 0.211</text>\n<text text-anchor=\"middle\" x=\"10982.5\" y=\"-141.8\" font-family=\"Helvetica,sans-Serif\" font-size=\"14.00\">samples = 50</text>\n<text text-anchor=\"middle\" x=\"10982.5\" y=\"-126.8\" font-family=\"Helvetica,sans-Serif\" font-size=\"14.00\">value = [44, 6]</text>\n<text text-anchor=\"middle\" x=\"10982.5\" y=\"-111.8\" font-family=\"Helvetica,sans-Serif\" font-size=\"14.00\">class = não</text>\n</g>\n<!-- 280&#45;&gt;281 -->\n<g id=\"edge281\" class=\"edge\">\n<title>280&#45;&gt;281</title>\n<path fill=\"none\" stroke=\"black\" d=\"M11115.07,-222.91C11097.91,-213.02 11079.43,-202.37 11061.89,-192.25\"/>\n<polygon fill=\"black\" stroke=\"black\" points=\"11063.22,-188.98 11052.81,-187.02 11059.72,-195.05 11063.22,-188.98\"/>\n</g>\n<!-- 284 -->\n<g id=\"node285\" class=\"node\">\n<title>284</title>\n<path fill=\"#e6843e\" stroke=\"black\" d=\"M11269.5,-187C11269.5,-187 11103.5,-187 11103.5,-187 11097.5,-187 11091.5,-181 11091.5,-175 11091.5,-175 11091.5,-116 11091.5,-116 11091.5,-110 11097.5,-104 11103.5,-104 11103.5,-104 11269.5,-104 11269.5,-104 11275.5,-104 11281.5,-110 11281.5,-116 11281.5,-116 11281.5,-175 11281.5,-175 11281.5,-181 11275.5,-187 11269.5,-187\"/>\n<text text-anchor=\"middle\" x=\"11186.5\" y=\"-171.8\" font-family=\"Helvetica,sans-Serif\" font-size=\"14.00\">km_por_ano &lt;= 39444.119</text>\n<text text-anchor=\"middle\" x=\"11186.5\" y=\"-156.8\" font-family=\"Helvetica,sans-Serif\" font-size=\"14.00\">gini = 0.05</text>\n<text text-anchor=\"middle\" x=\"11186.5\" y=\"-141.8\" font-family=\"Helvetica,sans-Serif\" font-size=\"14.00\">samples = 117</text>\n<text text-anchor=\"middle\" x=\"11186.5\" y=\"-126.8\" font-family=\"Helvetica,sans-Serif\" font-size=\"14.00\">value = [114, 3]</text>\n<text text-anchor=\"middle\" x=\"11186.5\" y=\"-111.8\" font-family=\"Helvetica,sans-Serif\" font-size=\"14.00\">class = não</text>\n</g>\n<!-- 280&#45;&gt;284 -->\n<g id=\"edge284\" class=\"edge\">\n<title>280&#45;&gt;284</title>\n<path fill=\"none\" stroke=\"black\" d=\"M11185.85,-222.91C11185.92,-214.65 11185.99,-205.86 11186.07,-197.3\"/>\n<polygon fill=\"black\" stroke=\"black\" points=\"11189.57,-197.05 11186.15,-187.02 11182.57,-196.99 11189.57,-197.05\"/>\n</g>\n<!-- 282 -->\n<g id=\"node283\" class=\"node\">\n<title>282</title>\n<path fill=\"#e88f50\" stroke=\"black\" d=\"M10963,-68C10963,-68 10882,-68 10882,-68 10876,-68 10870,-62 10870,-56 10870,-56 10870,-12 10870,-12 10870,-6 10876,0 10882,0 10882,0 10963,0 10963,0 10969,0 10975,-6 10975,-12 10975,-12 10975,-56 10975,-56 10975,-62 10969,-68 10963,-68\"/>\n<text text-anchor=\"middle\" x=\"10922.5\" y=\"-52.8\" font-family=\"Helvetica,sans-Serif\" font-size=\"14.00\">gini = 0.183</text>\n<text text-anchor=\"middle\" x=\"10922.5\" y=\"-37.8\" font-family=\"Helvetica,sans-Serif\" font-size=\"14.00\">samples = 49</text>\n<text text-anchor=\"middle\" x=\"10922.5\" y=\"-22.8\" font-family=\"Helvetica,sans-Serif\" font-size=\"14.00\">value = [44, 5]</text>\n<text text-anchor=\"middle\" x=\"10922.5\" y=\"-7.8\" font-family=\"Helvetica,sans-Serif\" font-size=\"14.00\">class = não</text>\n</g>\n<!-- 281&#45;&gt;282 -->\n<g id=\"edge282\" class=\"edge\">\n<title>281&#45;&gt;282</title>\n<path fill=\"none\" stroke=\"black\" d=\"M10960.16,-103.73C10955.41,-95.06 10950.39,-85.9 10945.61,-77.18\"/>\n<polygon fill=\"black\" stroke=\"black\" points=\"10948.62,-75.39 10940.75,-68.3 10942.48,-78.75 10948.62,-75.39\"/>\n</g>\n<!-- 283 -->\n<g id=\"node284\" class=\"node\">\n<title>283</title>\n<path fill=\"#399de5\" stroke=\"black\" d=\"M11078,-68C11078,-68 11005,-68 11005,-68 10999,-68 10993,-62 10993,-56 10993,-56 10993,-12 10993,-12 10993,-6 10999,0 11005,0 11005,0 11078,0 11078,0 11084,0 11090,-6 11090,-12 11090,-12 11090,-56 11090,-56 11090,-62 11084,-68 11078,-68\"/>\n<text text-anchor=\"middle\" x=\"11041.5\" y=\"-52.8\" font-family=\"Helvetica,sans-Serif\" font-size=\"14.00\">gini = 0.0</text>\n<text text-anchor=\"middle\" x=\"11041.5\" y=\"-37.8\" font-family=\"Helvetica,sans-Serif\" font-size=\"14.00\">samples = 1</text>\n<text text-anchor=\"middle\" x=\"11041.5\" y=\"-22.8\" font-family=\"Helvetica,sans-Serif\" font-size=\"14.00\">value = [0, 1]</text>\n<text text-anchor=\"middle\" x=\"11041.5\" y=\"-7.8\" font-family=\"Helvetica,sans-Serif\" font-size=\"14.00\">class = sim</text>\n</g>\n<!-- 281&#45;&gt;283 -->\n<g id=\"edge283\" class=\"edge\">\n<title>281&#45;&gt;283</title>\n<path fill=\"none\" stroke=\"black\" d=\"M11004.47,-103.73C11009.14,-95.06 11014.08,-85.9 11018.77,-77.18\"/>\n<polygon fill=\"black\" stroke=\"black\" points=\"11021.9,-78.76 11023.56,-68.3 11015.73,-75.44 11021.9,-78.76\"/>\n</g>\n<!-- 285 -->\n<g id=\"node286\" class=\"node\">\n<title>285</title>\n<path fill=\"#e5823b\" stroke=\"black\" d=\"M11220,-68C11220,-68 11131,-68 11131,-68 11125,-68 11119,-62 11119,-56 11119,-56 11119,-12 11119,-12 11119,-6 11125,0 11131,0 11131,0 11220,0 11220,0 11226,0 11232,-6 11232,-12 11232,-12 11232,-56 11232,-56 11232,-62 11226,-68 11220,-68\"/>\n<text text-anchor=\"middle\" x=\"11175.5\" y=\"-52.8\" font-family=\"Helvetica,sans-Serif\" font-size=\"14.00\">gini = 0.019</text>\n<text text-anchor=\"middle\" x=\"11175.5\" y=\"-37.8\" font-family=\"Helvetica,sans-Serif\" font-size=\"14.00\">samples = 102</text>\n<text text-anchor=\"middle\" x=\"11175.5\" y=\"-22.8\" font-family=\"Helvetica,sans-Serif\" font-size=\"14.00\">value = [101, 1]</text>\n<text text-anchor=\"middle\" x=\"11175.5\" y=\"-7.8\" font-family=\"Helvetica,sans-Serif\" font-size=\"14.00\">class = não</text>\n</g>\n<!-- 284&#45;&gt;285 -->\n<g id=\"edge285\" class=\"edge\">\n<title>284&#45;&gt;285</title>\n<path fill=\"none\" stroke=\"black\" d=\"M11182.4,-103.73C11181.57,-95.43 11180.69,-86.67 11179.85,-78.28\"/>\n<polygon fill=\"black\" stroke=\"black\" points=\"11183.33,-77.9 11178.85,-68.3 11176.36,-78.6 11183.33,-77.9\"/>\n</g>\n<!-- 286 -->\n<g id=\"node287\" class=\"node\">\n<title>286</title>\n<path fill=\"#e99457\" stroke=\"black\" d=\"M11343,-68C11343,-68 11262,-68 11262,-68 11256,-68 11250,-62 11250,-56 11250,-56 11250,-12 11250,-12 11250,-6 11256,0 11262,0 11262,0 11343,0 11343,0 11349,0 11355,-6 11355,-12 11355,-12 11355,-56 11355,-56 11355,-62 11349,-68 11343,-68\"/>\n<text text-anchor=\"middle\" x=\"11302.5\" y=\"-52.8\" font-family=\"Helvetica,sans-Serif\" font-size=\"14.00\">gini = 0.231</text>\n<text text-anchor=\"middle\" x=\"11302.5\" y=\"-37.8\" font-family=\"Helvetica,sans-Serif\" font-size=\"14.00\">samples = 15</text>\n<text text-anchor=\"middle\" x=\"11302.5\" y=\"-22.8\" font-family=\"Helvetica,sans-Serif\" font-size=\"14.00\">value = [13, 2]</text>\n<text text-anchor=\"middle\" x=\"11302.5\" y=\"-7.8\" font-family=\"Helvetica,sans-Serif\" font-size=\"14.00\">class = não</text>\n</g>\n<!-- 284&#45;&gt;286 -->\n<g id=\"edge286\" class=\"edge\">\n<title>284&#45;&gt;286</title>\n<path fill=\"none\" stroke=\"black\" d=\"M11229.69,-103.73C11239.55,-94.42 11250.02,-84.54 11259.85,-75.26\"/>\n<polygon fill=\"black\" stroke=\"black\" points=\"11262.35,-77.71 11267.22,-68.3 11257.55,-72.62 11262.35,-77.71\"/>\n</g>\n<!-- 288 -->\n<g id=\"node289\" class=\"node\">\n<title>288</title>\n<path fill=\"#399de5\" stroke=\"black\" d=\"M11385,-179.5C11385,-179.5 11312,-179.5 11312,-179.5 11306,-179.5 11300,-173.5 11300,-167.5 11300,-167.5 11300,-123.5 11300,-123.5 11300,-117.5 11306,-111.5 11312,-111.5 11312,-111.5 11385,-111.5 11385,-111.5 11391,-111.5 11397,-117.5 11397,-123.5 11397,-123.5 11397,-167.5 11397,-167.5 11397,-173.5 11391,-179.5 11385,-179.5\"/>\n<text text-anchor=\"middle\" x=\"11348.5\" y=\"-164.3\" font-family=\"Helvetica,sans-Serif\" font-size=\"14.00\">gini = 0.0</text>\n<text text-anchor=\"middle\" x=\"11348.5\" y=\"-149.3\" font-family=\"Helvetica,sans-Serif\" font-size=\"14.00\">samples = 2</text>\n<text text-anchor=\"middle\" x=\"11348.5\" y=\"-134.3\" font-family=\"Helvetica,sans-Serif\" font-size=\"14.00\">value = [0, 2]</text>\n<text text-anchor=\"middle\" x=\"11348.5\" y=\"-119.3\" font-family=\"Helvetica,sans-Serif\" font-size=\"14.00\">class = sim</text>\n</g>\n<!-- 287&#45;&gt;288 -->\n<g id=\"edge288\" class=\"edge\">\n<title>287&#45;&gt;288</title>\n<path fill=\"none\" stroke=\"black\" d=\"M11364.17,-222.91C11361.98,-212.2 11359.6,-200.62 11357.38,-189.78\"/>\n<polygon fill=\"black\" stroke=\"black\" points=\"11360.74,-188.76 11355.3,-179.67 11353.88,-190.17 11360.74,-188.76\"/>\n</g>\n<!-- 289 -->\n<g id=\"node290\" class=\"node\">\n<title>289</title>\n<path fill=\"#e89050\" stroke=\"black\" d=\"M11593.5,-187C11593.5,-187 11427.5,-187 11427.5,-187 11421.5,-187 11415.5,-181 11415.5,-175 11415.5,-175 11415.5,-116 11415.5,-116 11415.5,-110 11421.5,-104 11427.5,-104 11427.5,-104 11593.5,-104 11593.5,-104 11599.5,-104 11605.5,-110 11605.5,-116 11605.5,-116 11605.5,-175 11605.5,-175 11605.5,-181 11599.5,-187 11593.5,-187\"/>\n<text text-anchor=\"middle\" x=\"11510.5\" y=\"-171.8\" font-family=\"Helvetica,sans-Serif\" font-size=\"14.00\">km_por_ano &lt;= 29635.191</text>\n<text text-anchor=\"middle\" x=\"11510.5\" y=\"-156.8\" font-family=\"Helvetica,sans-Serif\" font-size=\"14.00\">gini = 0.188</text>\n<text text-anchor=\"middle\" x=\"11510.5\" y=\"-141.8\" font-family=\"Helvetica,sans-Serif\" font-size=\"14.00\">samples = 19</text>\n<text text-anchor=\"middle\" x=\"11510.5\" y=\"-126.8\" font-family=\"Helvetica,sans-Serif\" font-size=\"14.00\">value = [17, 2]</text>\n<text text-anchor=\"middle\" x=\"11510.5\" y=\"-111.8\" font-family=\"Helvetica,sans-Serif\" font-size=\"14.00\">class = não</text>\n</g>\n<!-- 287&#45;&gt;289 -->\n<g id=\"edge289\" class=\"edge\">\n<title>287&#45;&gt;289</title>\n<path fill=\"none\" stroke=\"black\" d=\"M11420.38,-222.91C11431.51,-213.47 11443.45,-203.34 11454.89,-193.65\"/>\n<polygon fill=\"black\" stroke=\"black\" points=\"11457.34,-196.16 11462.71,-187.02 11452.82,-190.82 11457.34,-196.16\"/>\n</g>\n<!-- 290 -->\n<g id=\"node291\" class=\"node\">\n<title>290</title>\n<path fill=\"#e58139\" stroke=\"black\" d=\"M11489,-68C11489,-68 11408,-68 11408,-68 11402,-68 11396,-62 11396,-56 11396,-56 11396,-12 11396,-12 11396,-6 11402,0 11408,0 11408,0 11489,0 11489,0 11495,0 11501,-6 11501,-12 11501,-12 11501,-56 11501,-56 11501,-62 11495,-68 11489,-68\"/>\n<text text-anchor=\"middle\" x=\"11448.5\" y=\"-52.8\" font-family=\"Helvetica,sans-Serif\" font-size=\"14.00\">gini = 0.0</text>\n<text text-anchor=\"middle\" x=\"11448.5\" y=\"-37.8\" font-family=\"Helvetica,sans-Serif\" font-size=\"14.00\">samples = 10</text>\n<text text-anchor=\"middle\" x=\"11448.5\" y=\"-22.8\" font-family=\"Helvetica,sans-Serif\" font-size=\"14.00\">value = [10, 0]</text>\n<text text-anchor=\"middle\" x=\"11448.5\" y=\"-7.8\" font-family=\"Helvetica,sans-Serif\" font-size=\"14.00\">class = não</text>\n</g>\n<!-- 289&#45;&gt;290 -->\n<g id=\"edge290\" class=\"edge\">\n<title>289&#45;&gt;290</title>\n<path fill=\"none\" stroke=\"black\" d=\"M11487.41,-103.73C11482.51,-95.06 11477.32,-85.9 11472.38,-77.18\"/>\n<polygon fill=\"black\" stroke=\"black\" points=\"11475.33,-75.28 11467.35,-68.3 11469.24,-78.73 11475.33,-75.28\"/>\n</g>\n<!-- 291 -->\n<g id=\"node292\" class=\"node\">\n<title>291</title>\n<path fill=\"#eca572\" stroke=\"black\" d=\"M11604,-68C11604,-68 11531,-68 11531,-68 11525,-68 11519,-62 11519,-56 11519,-56 11519,-12 11519,-12 11519,-6 11525,0 11531,0 11531,0 11604,0 11604,0 11610,0 11616,-6 11616,-12 11616,-12 11616,-56 11616,-56 11616,-62 11610,-68 11604,-68\"/>\n<text text-anchor=\"middle\" x=\"11567.5\" y=\"-52.8\" font-family=\"Helvetica,sans-Serif\" font-size=\"14.00\">gini = 0.346</text>\n<text text-anchor=\"middle\" x=\"11567.5\" y=\"-37.8\" font-family=\"Helvetica,sans-Serif\" font-size=\"14.00\">samples = 9</text>\n<text text-anchor=\"middle\" x=\"11567.5\" y=\"-22.8\" font-family=\"Helvetica,sans-Serif\" font-size=\"14.00\">value = [7, 2]</text>\n<text text-anchor=\"middle\" x=\"11567.5\" y=\"-7.8\" font-family=\"Helvetica,sans-Serif\" font-size=\"14.00\">class = não</text>\n</g>\n<!-- 289&#45;&gt;291 -->\n<g id=\"edge291\" class=\"edge\">\n<title>289&#45;&gt;291</title>\n<path fill=\"none\" stroke=\"black\" d=\"M11531.72,-103.73C11536.24,-95.06 11541.01,-85.9 11545.54,-77.18\"/>\n<polygon fill=\"black\" stroke=\"black\" points=\"11548.65,-78.79 11550.17,-68.3 11542.44,-75.55 11548.65,-78.79\"/>\n</g>\n<!-- 294 -->\n<g id=\"node295\" class=\"node\">\n<title>294</title>\n<path fill=\"#ea985d\" stroke=\"black\" d=\"M11893,-425C11893,-425 11732,-425 11732,-425 11726,-425 11720,-419 11720,-413 11720,-413 11720,-354 11720,-354 11720,-348 11726,-342 11732,-342 11732,-342 11893,-342 11893,-342 11899,-342 11905,-348 11905,-354 11905,-354 11905,-413 11905,-413 11905,-419 11899,-425 11893,-425\"/>\n<text text-anchor=\"middle\" x=\"11812.5\" y=\"-409.8\" font-family=\"Helvetica,sans-Serif\" font-size=\"14.00\">idade_do_modelo &lt;= 19.5</text>\n<text text-anchor=\"middle\" x=\"11812.5\" y=\"-394.8\" font-family=\"Helvetica,sans-Serif\" font-size=\"14.00\">gini = 0.26</text>\n<text text-anchor=\"middle\" x=\"11812.5\" y=\"-379.8\" font-family=\"Helvetica,sans-Serif\" font-size=\"14.00\">samples = 13</text>\n<text text-anchor=\"middle\" x=\"11812.5\" y=\"-364.8\" font-family=\"Helvetica,sans-Serif\" font-size=\"14.00\">value = [11, 2]</text>\n<text text-anchor=\"middle\" x=\"11812.5\" y=\"-349.8\" font-family=\"Helvetica,sans-Serif\" font-size=\"14.00\">class = não</text>\n</g>\n<!-- 293&#45;&gt;294 -->\n<g id=\"edge294\" class=\"edge\">\n<title>293&#45;&gt;294</title>\n<path fill=\"none\" stroke=\"black\" d=\"M11812.5,-460.91C11812.5,-452.65 11812.5,-443.86 11812.5,-435.3\"/>\n<polygon fill=\"black\" stroke=\"black\" points=\"11816,-435.02 11812.5,-425.02 11809,-435.02 11816,-435.02\"/>\n</g>\n<!-- 301 -->\n<g id=\"node302\" class=\"node\">\n<title>301</title>\n<path fill=\"#e68641\" stroke=\"black\" d=\"M12170.5,-425C12170.5,-425 12004.5,-425 12004.5,-425 11998.5,-425 11992.5,-419 11992.5,-413 11992.5,-413 11992.5,-354 11992.5,-354 11992.5,-348 11998.5,-342 12004.5,-342 12004.5,-342 12170.5,-342 12170.5,-342 12176.5,-342 12182.5,-348 12182.5,-354 12182.5,-354 12182.5,-413 12182.5,-413 12182.5,-419 12176.5,-425 12170.5,-425\"/>\n<text text-anchor=\"middle\" x=\"12087.5\" y=\"-409.8\" font-family=\"Helvetica,sans-Serif\" font-size=\"14.00\">km_por_ano &lt;= 50785.943</text>\n<text text-anchor=\"middle\" x=\"12087.5\" y=\"-394.8\" font-family=\"Helvetica,sans-Serif\" font-size=\"14.00\">gini = 0.078</text>\n<text text-anchor=\"middle\" x=\"12087.5\" y=\"-379.8\" font-family=\"Helvetica,sans-Serif\" font-size=\"14.00\">samples = 1385</text>\n<text text-anchor=\"middle\" x=\"12087.5\" y=\"-364.8\" font-family=\"Helvetica,sans-Serif\" font-size=\"14.00\">value = [1329, 56]</text>\n<text text-anchor=\"middle\" x=\"12087.5\" y=\"-349.8\" font-family=\"Helvetica,sans-Serif\" font-size=\"14.00\">class = não</text>\n</g>\n<!-- 293&#45;&gt;301 -->\n<g id=\"edge301\" class=\"edge\">\n<title>293&#45;&gt;301</title>\n<path fill=\"none\" stroke=\"black\" d=\"M11907.52,-461.07C11931.89,-450.7 11958.23,-439.5 11983.04,-428.94\"/>\n<polygon fill=\"black\" stroke=\"black\" points=\"11984.64,-432.07 11992.47,-424.93 11981.9,-425.62 11984.64,-432.07\"/>\n</g>\n<!-- 295 -->\n<g id=\"node296\" class=\"node\">\n<title>295</title>\n<path fill=\"#e78c4b\" stroke=\"black\" d=\"M11826.5,-306C11826.5,-306 11660.5,-306 11660.5,-306 11654.5,-306 11648.5,-300 11648.5,-294 11648.5,-294 11648.5,-235 11648.5,-235 11648.5,-229 11654.5,-223 11660.5,-223 11660.5,-223 11826.5,-223 11826.5,-223 11832.5,-223 11838.5,-229 11838.5,-235 11838.5,-235 11838.5,-294 11838.5,-294 11838.5,-300 11832.5,-306 11826.5,-306\"/>\n<text text-anchor=\"middle\" x=\"11743.5\" y=\"-290.8\" font-family=\"Helvetica,sans-Serif\" font-size=\"14.00\">km_por_ano &lt;= 24217.348</text>\n<text text-anchor=\"middle\" x=\"11743.5\" y=\"-275.8\" font-family=\"Helvetica,sans-Serif\" font-size=\"14.00\">gini = 0.153</text>\n<text text-anchor=\"middle\" x=\"11743.5\" y=\"-260.8\" font-family=\"Helvetica,sans-Serif\" font-size=\"14.00\">samples = 12</text>\n<text text-anchor=\"middle\" x=\"11743.5\" y=\"-245.8\" font-family=\"Helvetica,sans-Serif\" font-size=\"14.00\">value = [11, 1]</text>\n<text text-anchor=\"middle\" x=\"11743.5\" y=\"-230.8\" font-family=\"Helvetica,sans-Serif\" font-size=\"14.00\">class = não</text>\n</g>\n<!-- 294&#45;&gt;295 -->\n<g id=\"edge295\" class=\"edge\">\n<title>294&#45;&gt;295</title>\n<path fill=\"none\" stroke=\"black\" d=\"M11788.56,-341.91C11783.42,-333.2 11777.94,-323.9 11772.63,-314.89\"/>\n<polygon fill=\"black\" stroke=\"black\" points=\"11775.49,-312.86 11767.4,-306.02 11769.46,-316.41 11775.49,-312.86\"/>\n</g>\n<!-- 300 -->\n<g id=\"node301\" class=\"node\">\n<title>300</title>\n<path fill=\"#399de5\" stroke=\"black\" d=\"M11942,-298.5C11942,-298.5 11869,-298.5 11869,-298.5 11863,-298.5 11857,-292.5 11857,-286.5 11857,-286.5 11857,-242.5 11857,-242.5 11857,-236.5 11863,-230.5 11869,-230.5 11869,-230.5 11942,-230.5 11942,-230.5 11948,-230.5 11954,-236.5 11954,-242.5 11954,-242.5 11954,-286.5 11954,-286.5 11954,-292.5 11948,-298.5 11942,-298.5\"/>\n<text text-anchor=\"middle\" x=\"11905.5\" y=\"-283.3\" font-family=\"Helvetica,sans-Serif\" font-size=\"14.00\">gini = 0.0</text>\n<text text-anchor=\"middle\" x=\"11905.5\" y=\"-268.3\" font-family=\"Helvetica,sans-Serif\" font-size=\"14.00\">samples = 1</text>\n<text text-anchor=\"middle\" x=\"11905.5\" y=\"-253.3\" font-family=\"Helvetica,sans-Serif\" font-size=\"14.00\">value = [0, 1]</text>\n<text text-anchor=\"middle\" x=\"11905.5\" y=\"-238.3\" font-family=\"Helvetica,sans-Serif\" font-size=\"14.00\">class = sim</text>\n</g>\n<!-- 294&#45;&gt;300 -->\n<g id=\"edge300\" class=\"edge\">\n<title>294&#45;&gt;300</title>\n<path fill=\"none\" stroke=\"black\" d=\"M11844.77,-341.91C11853.8,-330.54 11863.63,-318.18 11872.69,-306.77\"/>\n<polygon fill=\"black\" stroke=\"black\" points=\"11875.65,-308.67 11879.14,-298.67 11870.17,-304.32 11875.65,-308.67\"/>\n</g>\n<!-- 296 -->\n<g id=\"node297\" class=\"node\">\n<title>296</title>\n<path fill=\"#e58139\" stroke=\"black\" d=\"M11717,-179.5C11717,-179.5 11636,-179.5 11636,-179.5 11630,-179.5 11624,-173.5 11624,-167.5 11624,-167.5 11624,-123.5 11624,-123.5 11624,-117.5 11630,-111.5 11636,-111.5 11636,-111.5 11717,-111.5 11717,-111.5 11723,-111.5 11729,-117.5 11729,-123.5 11729,-123.5 11729,-167.5 11729,-167.5 11729,-173.5 11723,-179.5 11717,-179.5\"/>\n<text text-anchor=\"middle\" x=\"11676.5\" y=\"-164.3\" font-family=\"Helvetica,sans-Serif\" font-size=\"14.00\">gini = 0.0</text>\n<text text-anchor=\"middle\" x=\"11676.5\" y=\"-149.3\" font-family=\"Helvetica,sans-Serif\" font-size=\"14.00\">samples = 10</text>\n<text text-anchor=\"middle\" x=\"11676.5\" y=\"-134.3\" font-family=\"Helvetica,sans-Serif\" font-size=\"14.00\">value = [10, 0]</text>\n<text text-anchor=\"middle\" x=\"11676.5\" y=\"-119.3\" font-family=\"Helvetica,sans-Serif\" font-size=\"14.00\">class = não</text>\n</g>\n<!-- 295&#45;&gt;296 -->\n<g id=\"edge296\" class=\"edge\">\n<title>295&#45;&gt;296</title>\n<path fill=\"none\" stroke=\"black\" d=\"M11720.25,-222.91C11713.87,-211.76 11706.94,-199.66 11700.52,-188.44\"/>\n<polygon fill=\"black\" stroke=\"black\" points=\"11703.5,-186.61 11695.49,-179.67 11697.43,-190.08 11703.5,-186.61\"/>\n</g>\n<!-- 297 -->\n<g id=\"node298\" class=\"node\">\n<title>297</title>\n<path fill=\"#ffffff\" stroke=\"black\" d=\"M11882,-187C11882,-187 11759,-187 11759,-187 11753,-187 11747,-181 11747,-175 11747,-175 11747,-116 11747,-116 11747,-110 11753,-104 11759,-104 11759,-104 11882,-104 11882,-104 11888,-104 11894,-110 11894,-116 11894,-116 11894,-175 11894,-175 11894,-181 11888,-187 11882,-187\"/>\n<text text-anchor=\"middle\" x=\"11820.5\" y=\"-171.8\" font-family=\"Helvetica,sans-Serif\" font-size=\"14.00\">preco &lt;= 74277.105</text>\n<text text-anchor=\"middle\" x=\"11820.5\" y=\"-156.8\" font-family=\"Helvetica,sans-Serif\" font-size=\"14.00\">gini = 0.5</text>\n<text text-anchor=\"middle\" x=\"11820.5\" y=\"-141.8\" font-family=\"Helvetica,sans-Serif\" font-size=\"14.00\">samples = 2</text>\n<text text-anchor=\"middle\" x=\"11820.5\" y=\"-126.8\" font-family=\"Helvetica,sans-Serif\" font-size=\"14.00\">value = [1, 1]</text>\n<text text-anchor=\"middle\" x=\"11820.5\" y=\"-111.8\" font-family=\"Helvetica,sans-Serif\" font-size=\"14.00\">class = não</text>\n</g>\n<!-- 295&#45;&gt;297 -->\n<g id=\"edge297\" class=\"edge\">\n<title>295&#45;&gt;297</title>\n<path fill=\"none\" stroke=\"black\" d=\"M11770.21,-222.91C11776.01,-214.1 11782.2,-204.7 11788.18,-195.61\"/>\n<polygon fill=\"black\" stroke=\"black\" points=\"11791.26,-197.3 11793.83,-187.02 11785.41,-193.45 11791.26,-197.3\"/>\n</g>\n<!-- 298 -->\n<g id=\"node299\" class=\"node\">\n<title>298</title>\n<path fill=\"#e58139\" stroke=\"black\" d=\"M11728,-68C11728,-68 11655,-68 11655,-68 11649,-68 11643,-62 11643,-56 11643,-56 11643,-12 11643,-12 11643,-6 11649,0 11655,0 11655,0 11728,0 11728,0 11734,0 11740,-6 11740,-12 11740,-12 11740,-56 11740,-56 11740,-62 11734,-68 11728,-68\"/>\n<text text-anchor=\"middle\" x=\"11691.5\" y=\"-52.8\" font-family=\"Helvetica,sans-Serif\" font-size=\"14.00\">gini = 0.0</text>\n<text text-anchor=\"middle\" x=\"11691.5\" y=\"-37.8\" font-family=\"Helvetica,sans-Serif\" font-size=\"14.00\">samples = 1</text>\n<text text-anchor=\"middle\" x=\"11691.5\" y=\"-22.8\" font-family=\"Helvetica,sans-Serif\" font-size=\"14.00\">value = [1, 0]</text>\n<text text-anchor=\"middle\" x=\"11691.5\" y=\"-7.8\" font-family=\"Helvetica,sans-Serif\" font-size=\"14.00\">class = não</text>\n</g>\n<!-- 297&#45;&gt;298 -->\n<g id=\"edge298\" class=\"edge\">\n<title>297&#45;&gt;298</title>\n<path fill=\"none\" stroke=\"black\" d=\"M11772.47,-103.73C11761.4,-94.33 11749.64,-84.35 11738.61,-74.99\"/>\n<polygon fill=\"black\" stroke=\"black\" points=\"11740.62,-72.1 11730.73,-68.3 11736.09,-77.44 11740.62,-72.1\"/>\n</g>\n<!-- 299 -->\n<g id=\"node300\" class=\"node\">\n<title>299</title>\n<path fill=\"#399de5\" stroke=\"black\" d=\"M11843,-68C11843,-68 11770,-68 11770,-68 11764,-68 11758,-62 11758,-56 11758,-56 11758,-12 11758,-12 11758,-6 11764,0 11770,0 11770,0 11843,0 11843,0 11849,0 11855,-6 11855,-12 11855,-12 11855,-56 11855,-56 11855,-62 11849,-68 11843,-68\"/>\n<text text-anchor=\"middle\" x=\"11806.5\" y=\"-52.8\" font-family=\"Helvetica,sans-Serif\" font-size=\"14.00\">gini = 0.0</text>\n<text text-anchor=\"middle\" x=\"11806.5\" y=\"-37.8\" font-family=\"Helvetica,sans-Serif\" font-size=\"14.00\">samples = 1</text>\n<text text-anchor=\"middle\" x=\"11806.5\" y=\"-22.8\" font-family=\"Helvetica,sans-Serif\" font-size=\"14.00\">value = [0, 1]</text>\n<text text-anchor=\"middle\" x=\"11806.5\" y=\"-7.8\" font-family=\"Helvetica,sans-Serif\" font-size=\"14.00\">class = sim</text>\n</g>\n<!-- 297&#45;&gt;299 -->\n<g id=\"edge299\" class=\"edge\">\n<title>297&#45;&gt;299</title>\n<path fill=\"none\" stroke=\"black\" d=\"M11815.29,-103.73C11814.23,-95.43 11813.11,-86.67 11812.03,-78.28\"/>\n<polygon fill=\"black\" stroke=\"black\" points=\"11815.5,-77.77 11810.76,-68.3 11808.55,-78.66 11815.5,-77.77\"/>\n</g>\n<!-- 302 -->\n<g id=\"node303\" class=\"node\">\n<title>302</title>\n<path fill=\"#e68641\" stroke=\"black\" d=\"M12166.5,-306C12166.5,-306 12008.5,-306 12008.5,-306 12002.5,-306 11996.5,-300 11996.5,-294 11996.5,-294 11996.5,-235 11996.5,-235 11996.5,-229 12002.5,-223 12008.5,-223 12008.5,-223 12166.5,-223 12166.5,-223 12172.5,-223 12178.5,-229 12178.5,-235 12178.5,-235 12178.5,-294 12178.5,-294 12178.5,-300 12172.5,-306 12166.5,-306\"/>\n<text text-anchor=\"middle\" x=\"12087.5\" y=\"-290.8\" font-family=\"Helvetica,sans-Serif\" font-size=\"14.00\">km_por_ano &lt;= 28494.17</text>\n<text text-anchor=\"middle\" x=\"12087.5\" y=\"-275.8\" font-family=\"Helvetica,sans-Serif\" font-size=\"14.00\">gini = 0.076</text>\n<text text-anchor=\"middle\" x=\"12087.5\" y=\"-260.8\" font-family=\"Helvetica,sans-Serif\" font-size=\"14.00\">samples = 1372</text>\n<text text-anchor=\"middle\" x=\"12087.5\" y=\"-245.8\" font-family=\"Helvetica,sans-Serif\" font-size=\"14.00\">value = [1318, 54]</text>\n<text text-anchor=\"middle\" x=\"12087.5\" y=\"-230.8\" font-family=\"Helvetica,sans-Serif\" font-size=\"14.00\">class = não</text>\n</g>\n<!-- 301&#45;&gt;302 -->\n<g id=\"edge302\" class=\"edge\">\n<title>301&#45;&gt;302</title>\n<path fill=\"none\" stroke=\"black\" d=\"M12087.5,-341.91C12087.5,-333.65 12087.5,-324.86 12087.5,-316.3\"/>\n<polygon fill=\"black\" stroke=\"black\" points=\"12091,-316.02 12087.5,-306.02 12084,-316.02 12091,-316.02\"/>\n</g>\n<!-- 309 -->\n<g id=\"node310\" class=\"node\">\n<title>309</title>\n<path fill=\"#ea985d\" stroke=\"black\" d=\"M12430.5,-306C12430.5,-306 12264.5,-306 12264.5,-306 12258.5,-306 12252.5,-300 12252.5,-294 12252.5,-294 12252.5,-235 12252.5,-235 12252.5,-229 12258.5,-223 12264.5,-223 12264.5,-223 12430.5,-223 12430.5,-223 12436.5,-223 12442.5,-229 12442.5,-235 12442.5,-235 12442.5,-294 12442.5,-294 12442.5,-300 12436.5,-306 12430.5,-306\"/>\n<text text-anchor=\"middle\" x=\"12347.5\" y=\"-290.8\" font-family=\"Helvetica,sans-Serif\" font-size=\"14.00\">km_por_ano &lt;= 50861.582</text>\n<text text-anchor=\"middle\" x=\"12347.5\" y=\"-275.8\" font-family=\"Helvetica,sans-Serif\" font-size=\"14.00\">gini = 0.26</text>\n<text text-anchor=\"middle\" x=\"12347.5\" y=\"-260.8\" font-family=\"Helvetica,sans-Serif\" font-size=\"14.00\">samples = 13</text>\n<text text-anchor=\"middle\" x=\"12347.5\" y=\"-245.8\" font-family=\"Helvetica,sans-Serif\" font-size=\"14.00\">value = [11, 2]</text>\n<text text-anchor=\"middle\" x=\"12347.5\" y=\"-230.8\" font-family=\"Helvetica,sans-Serif\" font-size=\"14.00\">class = não</text>\n</g>\n<!-- 301&#45;&gt;309 -->\n<g id=\"edge309\" class=\"edge\">\n<title>301&#45;&gt;309</title>\n<path fill=\"none\" stroke=\"black\" d=\"M12177.71,-341.91C12200.49,-331.65 12225.09,-320.59 12248.29,-310.14\"/>\n<polygon fill=\"black\" stroke=\"black\" points=\"12249.77,-313.32 12257.45,-306.02 12246.9,-306.93 12249.77,-313.32\"/>\n</g>\n<!-- 303 -->\n<g id=\"node304\" class=\"node\">\n<title>303</title>\n<path fill=\"#e6853f\" stroke=\"black\" d=\"M12060,-187C12060,-187 11937,-187 11937,-187 11931,-187 11925,-181 11925,-175 11925,-175 11925,-116 11925,-116 11925,-110 11931,-104 11937,-104 11937,-104 12060,-104 12060,-104 12066,-104 12072,-110 12072,-116 12072,-116 12072,-175 12072,-175 12072,-181 12066,-187 12060,-187\"/>\n<text text-anchor=\"middle\" x=\"11998.5\" y=\"-171.8\" font-family=\"Helvetica,sans-Serif\" font-size=\"14.00\">preco &lt;= 94985.078</text>\n<text text-anchor=\"middle\" x=\"11998.5\" y=\"-156.8\" font-family=\"Helvetica,sans-Serif\" font-size=\"14.00\">gini = 0.056</text>\n<text text-anchor=\"middle\" x=\"11998.5\" y=\"-141.8\" font-family=\"Helvetica,sans-Serif\" font-size=\"14.00\">samples = 557</text>\n<text text-anchor=\"middle\" x=\"11998.5\" y=\"-126.8\" font-family=\"Helvetica,sans-Serif\" font-size=\"14.00\">value = [541, 16]</text>\n<text text-anchor=\"middle\" x=\"11998.5\" y=\"-111.8\" font-family=\"Helvetica,sans-Serif\" font-size=\"14.00\">class = não</text>\n</g>\n<!-- 302&#45;&gt;303 -->\n<g id=\"edge303\" class=\"edge\">\n<title>302&#45;&gt;303</title>\n<path fill=\"none\" stroke=\"black\" d=\"M12056.62,-222.91C12049.79,-213.92 12042.48,-204.32 12035.43,-195.05\"/>\n<polygon fill=\"black\" stroke=\"black\" points=\"12038.16,-192.86 12029.32,-187.02 12032.59,-197.1 12038.16,-192.86\"/>\n</g>\n<!-- 306 -->\n<g id=\"node307\" class=\"node\">\n<title>306</title>\n<path fill=\"#e68743\" stroke=\"black\" d=\"M12268.5,-187C12268.5,-187 12102.5,-187 12102.5,-187 12096.5,-187 12090.5,-181 12090.5,-175 12090.5,-175 12090.5,-116 12090.5,-116 12090.5,-110 12096.5,-104 12102.5,-104 12102.5,-104 12268.5,-104 12268.5,-104 12274.5,-104 12280.5,-110 12280.5,-116 12280.5,-116 12280.5,-175 12280.5,-175 12280.5,-181 12274.5,-187 12268.5,-187\"/>\n<text text-anchor=\"middle\" x=\"12185.5\" y=\"-171.8\" font-family=\"Helvetica,sans-Serif\" font-size=\"14.00\">km_por_ano &lt;= 28501.412</text>\n<text text-anchor=\"middle\" x=\"12185.5\" y=\"-156.8\" font-family=\"Helvetica,sans-Serif\" font-size=\"14.00\">gini = 0.089</text>\n<text text-anchor=\"middle\" x=\"12185.5\" y=\"-141.8\" font-family=\"Helvetica,sans-Serif\" font-size=\"14.00\">samples = 815</text>\n<text text-anchor=\"middle\" x=\"12185.5\" y=\"-126.8\" font-family=\"Helvetica,sans-Serif\" font-size=\"14.00\">value = [777, 38]</text>\n<text text-anchor=\"middle\" x=\"12185.5\" y=\"-111.8\" font-family=\"Helvetica,sans-Serif\" font-size=\"14.00\">class = não</text>\n</g>\n<!-- 302&#45;&gt;306 -->\n<g id=\"edge306\" class=\"edge\">\n<title>302&#45;&gt;306</title>\n<path fill=\"none\" stroke=\"black\" d=\"M12121.5,-222.91C12129.1,-213.83 12137.24,-204.12 12145.07,-194.77\"/>\n<polygon fill=\"black\" stroke=\"black\" points=\"12147.82,-196.93 12151.56,-187.02 12142.46,-192.44 12147.82,-196.93\"/>\n</g>\n<!-- 304 -->\n<g id=\"node305\" class=\"node\">\n<title>304</title>\n<path fill=\"#e6843d\" stroke=\"black\" d=\"M11983.5,-68C11983.5,-68 11885.5,-68 11885.5,-68 11879.5,-68 11873.5,-62 11873.5,-56 11873.5,-56 11873.5,-12 11873.5,-12 11873.5,-6 11879.5,0 11885.5,0 11885.5,0 11983.5,0 11983.5,0 11989.5,0 11995.5,-6 11995.5,-12 11995.5,-12 11995.5,-56 11995.5,-56 11995.5,-62 11989.5,-68 11983.5,-68\"/>\n<text text-anchor=\"middle\" x=\"11934.5\" y=\"-52.8\" font-family=\"Helvetica,sans-Serif\" font-size=\"14.00\">gini = 0.042</text>\n<text text-anchor=\"middle\" x=\"11934.5\" y=\"-37.8\" font-family=\"Helvetica,sans-Serif\" font-size=\"14.00\">samples = 467</text>\n<text text-anchor=\"middle\" x=\"11934.5\" y=\"-22.8\" font-family=\"Helvetica,sans-Serif\" font-size=\"14.00\">value = [457, 10]</text>\n<text text-anchor=\"middle\" x=\"11934.5\" y=\"-7.8\" font-family=\"Helvetica,sans-Serif\" font-size=\"14.00\">class = não</text>\n</g>\n<!-- 303&#45;&gt;304 -->\n<g id=\"edge304\" class=\"edge\">\n<title>303&#45;&gt;304</title>\n<path fill=\"none\" stroke=\"black\" d=\"M11974.67,-103.73C11969.6,-95.06 11964.25,-85.9 11959.15,-77.18\"/>\n<polygon fill=\"black\" stroke=\"black\" points=\"11962.03,-75.17 11953.96,-68.3 11955.99,-78.7 11962.03,-75.17\"/>\n</g>\n<!-- 305 -->\n<g id=\"node306\" class=\"node\">\n<title>305</title>\n<path fill=\"#e78a47\" stroke=\"black\" d=\"M12107,-68C12107,-68 12026,-68 12026,-68 12020,-68 12014,-62 12014,-56 12014,-56 12014,-12 12014,-12 12014,-6 12020,0 12026,0 12026,0 12107,0 12107,0 12113,0 12119,-6 12119,-12 12119,-12 12119,-56 12119,-56 12119,-62 12113,-68 12107,-68\"/>\n<text text-anchor=\"middle\" x=\"12066.5\" y=\"-52.8\" font-family=\"Helvetica,sans-Serif\" font-size=\"14.00\">gini = 0.124</text>\n<text text-anchor=\"middle\" x=\"12066.5\" y=\"-37.8\" font-family=\"Helvetica,sans-Serif\" font-size=\"14.00\">samples = 90</text>\n<text text-anchor=\"middle\" x=\"12066.5\" y=\"-22.8\" font-family=\"Helvetica,sans-Serif\" font-size=\"14.00\">value = [84, 6]</text>\n<text text-anchor=\"middle\" x=\"12066.5\" y=\"-7.8\" font-family=\"Helvetica,sans-Serif\" font-size=\"14.00\">class = não</text>\n</g>\n<!-- 303&#45;&gt;305 -->\n<g id=\"edge305\" class=\"edge\">\n<title>303&#45;&gt;305</title>\n<path fill=\"none\" stroke=\"black\" d=\"M12023.82,-103.73C12029.26,-94.97 12035.01,-85.7 12040.48,-76.91\"/>\n<polygon fill=\"black\" stroke=\"black\" points=\"12043.52,-78.64 12045.82,-68.3 12037.57,-74.95 12043.52,-78.64\"/>\n</g>\n<!-- 307 -->\n<g id=\"node308\" class=\"node\">\n<title>307</title>\n<path fill=\"#399de5\" stroke=\"black\" d=\"M12222,-68C12222,-68 12149,-68 12149,-68 12143,-68 12137,-62 12137,-56 12137,-56 12137,-12 12137,-12 12137,-6 12143,0 12149,0 12149,0 12222,0 12222,0 12228,0 12234,-6 12234,-12 12234,-12 12234,-56 12234,-56 12234,-62 12228,-68 12222,-68\"/>\n<text text-anchor=\"middle\" x=\"12185.5\" y=\"-52.8\" font-family=\"Helvetica,sans-Serif\" font-size=\"14.00\">gini = 0.0</text>\n<text text-anchor=\"middle\" x=\"12185.5\" y=\"-37.8\" font-family=\"Helvetica,sans-Serif\" font-size=\"14.00\">samples = 1</text>\n<text text-anchor=\"middle\" x=\"12185.5\" y=\"-22.8\" font-family=\"Helvetica,sans-Serif\" font-size=\"14.00\">value = [0, 1]</text>\n<text text-anchor=\"middle\" x=\"12185.5\" y=\"-7.8\" font-family=\"Helvetica,sans-Serif\" font-size=\"14.00\">class = sim</text>\n</g>\n<!-- 306&#45;&gt;307 -->\n<g id=\"edge307\" class=\"edge\">\n<title>306&#45;&gt;307</title>\n<path fill=\"none\" stroke=\"black\" d=\"M12185.5,-103.73C12185.5,-95.52 12185.5,-86.86 12185.5,-78.56\"/>\n<polygon fill=\"black\" stroke=\"black\" points=\"12189,-78.3 12185.5,-68.3 12182,-78.3 12189,-78.3\"/>\n</g>\n<!-- 308 -->\n<g id=\"node309\" class=\"node\">\n<title>308</title>\n<path fill=\"#e68742\" stroke=\"black\" d=\"M12362.5,-68C12362.5,-68 12264.5,-68 12264.5,-68 12258.5,-68 12252.5,-62 12252.5,-56 12252.5,-56 12252.5,-12 12252.5,-12 12252.5,-6 12258.5,0 12264.5,0 12264.5,0 12362.5,0 12362.5,0 12368.5,0 12374.5,-6 12374.5,-12 12374.5,-12 12374.5,-56 12374.5,-56 12374.5,-62 12368.5,-68 12362.5,-68\"/>\n<text text-anchor=\"middle\" x=\"12313.5\" y=\"-52.8\" font-family=\"Helvetica,sans-Serif\" font-size=\"14.00\">gini = 0.087</text>\n<text text-anchor=\"middle\" x=\"12313.5\" y=\"-37.8\" font-family=\"Helvetica,sans-Serif\" font-size=\"14.00\">samples = 814</text>\n<text text-anchor=\"middle\" x=\"12313.5\" y=\"-22.8\" font-family=\"Helvetica,sans-Serif\" font-size=\"14.00\">value = [777, 37]</text>\n<text text-anchor=\"middle\" x=\"12313.5\" y=\"-7.8\" font-family=\"Helvetica,sans-Serif\" font-size=\"14.00\">class = não</text>\n</g>\n<!-- 306&#45;&gt;308 -->\n<g id=\"edge308\" class=\"edge\">\n<title>306&#45;&gt;308</title>\n<path fill=\"none\" stroke=\"black\" d=\"M12233.16,-103.73C12244.14,-94.33 12255.81,-84.35 12266.76,-74.99\"/>\n<polygon fill=\"black\" stroke=\"black\" points=\"12269.25,-77.46 12274.57,-68.3 12264.7,-72.14 12269.25,-77.46\"/>\n</g>\n<!-- 310 -->\n<g id=\"node311\" class=\"node\">\n<title>310</title>\n<path fill=\"#399de5\" stroke=\"black\" d=\"M12384,-179.5C12384,-179.5 12311,-179.5 12311,-179.5 12305,-179.5 12299,-173.5 12299,-167.5 12299,-167.5 12299,-123.5 12299,-123.5 12299,-117.5 12305,-111.5 12311,-111.5 12311,-111.5 12384,-111.5 12384,-111.5 12390,-111.5 12396,-117.5 12396,-123.5 12396,-123.5 12396,-167.5 12396,-167.5 12396,-173.5 12390,-179.5 12384,-179.5\"/>\n<text text-anchor=\"middle\" x=\"12347.5\" y=\"-164.3\" font-family=\"Helvetica,sans-Serif\" font-size=\"14.00\">gini = 0.0</text>\n<text text-anchor=\"middle\" x=\"12347.5\" y=\"-149.3\" font-family=\"Helvetica,sans-Serif\" font-size=\"14.00\">samples = 1</text>\n<text text-anchor=\"middle\" x=\"12347.5\" y=\"-134.3\" font-family=\"Helvetica,sans-Serif\" font-size=\"14.00\">value = [0, 1]</text>\n<text text-anchor=\"middle\" x=\"12347.5\" y=\"-119.3\" font-family=\"Helvetica,sans-Serif\" font-size=\"14.00\">class = sim</text>\n</g>\n<!-- 309&#45;&gt;310 -->\n<g id=\"edge310\" class=\"edge\">\n<title>309&#45;&gt;310</title>\n<path fill=\"none\" stroke=\"black\" d=\"M12347.5,-222.91C12347.5,-212.2 12347.5,-200.62 12347.5,-189.78\"/>\n<polygon fill=\"black\" stroke=\"black\" points=\"12351,-189.67 12347.5,-179.67 12344,-189.67 12351,-189.67\"/>\n</g>\n<!-- 311 -->\n<g id=\"node312\" class=\"node\">\n<title>311</title>\n<path fill=\"#e78c4b\" stroke=\"black\" d=\"M12587,-187C12587,-187 12426,-187 12426,-187 12420,-187 12414,-181 12414,-175 12414,-175 12414,-116 12414,-116 12414,-110 12420,-104 12426,-104 12426,-104 12587,-104 12587,-104 12593,-104 12599,-110 12599,-116 12599,-116 12599,-175 12599,-175 12599,-181 12593,-187 12587,-187\"/>\n<text text-anchor=\"middle\" x=\"12506.5\" y=\"-171.8\" font-family=\"Helvetica,sans-Serif\" font-size=\"14.00\">idade_do_modelo &lt;= 17.5</text>\n<text text-anchor=\"middle\" x=\"12506.5\" y=\"-156.8\" font-family=\"Helvetica,sans-Serif\" font-size=\"14.00\">gini = 0.153</text>\n<text text-anchor=\"middle\" x=\"12506.5\" y=\"-141.8\" font-family=\"Helvetica,sans-Serif\" font-size=\"14.00\">samples = 12</text>\n<text text-anchor=\"middle\" x=\"12506.5\" y=\"-126.8\" font-family=\"Helvetica,sans-Serif\" font-size=\"14.00\">value = [11, 1]</text>\n<text text-anchor=\"middle\" x=\"12506.5\" y=\"-111.8\" font-family=\"Helvetica,sans-Serif\" font-size=\"14.00\">class = não</text>\n</g>\n<!-- 309&#45;&gt;311 -->\n<g id=\"edge311\" class=\"edge\">\n<title>309&#45;&gt;311</title>\n<path fill=\"none\" stroke=\"black\" d=\"M12402.66,-222.91C12415.74,-213.29 12429.78,-202.95 12443.18,-193.09\"/>\n<polygon fill=\"black\" stroke=\"black\" points=\"12445.45,-195.77 12451.43,-187.02 12441.3,-190.13 12445.45,-195.77\"/>\n</g>\n<!-- 312 -->\n<g id=\"node313\" class=\"node\">\n<title>312</title>\n<path fill=\"#e58139\" stroke=\"black\" d=\"M12486,-68C12486,-68 12405,-68 12405,-68 12399,-68 12393,-62 12393,-56 12393,-56 12393,-12 12393,-12 12393,-6 12399,0 12405,0 12405,0 12486,0 12486,0 12492,0 12498,-6 12498,-12 12498,-12 12498,-56 12498,-56 12498,-62 12492,-68 12486,-68\"/>\n<text text-anchor=\"middle\" x=\"12445.5\" y=\"-52.8\" font-family=\"Helvetica,sans-Serif\" font-size=\"14.00\">gini = 0.0</text>\n<text text-anchor=\"middle\" x=\"12445.5\" y=\"-37.8\" font-family=\"Helvetica,sans-Serif\" font-size=\"14.00\">samples = 10</text>\n<text text-anchor=\"middle\" x=\"12445.5\" y=\"-22.8\" font-family=\"Helvetica,sans-Serif\" font-size=\"14.00\">value = [10, 0]</text>\n<text text-anchor=\"middle\" x=\"12445.5\" y=\"-7.8\" font-family=\"Helvetica,sans-Serif\" font-size=\"14.00\">class = não</text>\n</g>\n<!-- 311&#45;&gt;312 -->\n<g id=\"edge312\" class=\"edge\">\n<title>311&#45;&gt;312</title>\n<path fill=\"none\" stroke=\"black\" d=\"M12483.79,-103.73C12478.96,-95.06 12473.85,-85.9 12469,-77.18\"/>\n<polygon fill=\"black\" stroke=\"black\" points=\"12471.97,-75.33 12464.05,-68.3 12465.86,-78.74 12471.97,-75.33\"/>\n</g>\n<!-- 313 -->\n<g id=\"node314\" class=\"node\">\n<title>313</title>\n<path fill=\"#ffffff\" stroke=\"black\" d=\"M12601,-68C12601,-68 12528,-68 12528,-68 12522,-68 12516,-62 12516,-56 12516,-56 12516,-12 12516,-12 12516,-6 12522,0 12528,0 12528,0 12601,0 12601,0 12607,0 12613,-6 12613,-12 12613,-12 12613,-56 12613,-56 12613,-62 12607,-68 12601,-68\"/>\n<text text-anchor=\"middle\" x=\"12564.5\" y=\"-52.8\" font-family=\"Helvetica,sans-Serif\" font-size=\"14.00\">gini = 0.5</text>\n<text text-anchor=\"middle\" x=\"12564.5\" y=\"-37.8\" font-family=\"Helvetica,sans-Serif\" font-size=\"14.00\">samples = 2</text>\n<text text-anchor=\"middle\" x=\"12564.5\" y=\"-22.8\" font-family=\"Helvetica,sans-Serif\" font-size=\"14.00\">value = [1, 1]</text>\n<text text-anchor=\"middle\" x=\"12564.5\" y=\"-7.8\" font-family=\"Helvetica,sans-Serif\" font-size=\"14.00\">class = não</text>\n</g>\n<!-- 311&#45;&gt;313 -->\n<g id=\"edge313\" class=\"edge\">\n<title>311&#45;&gt;313</title>\n<path fill=\"none\" stroke=\"black\" d=\"M12528.1,-103.73C12532.69,-95.06 12537.54,-85.9 12542.16,-77.18\"/>\n<polygon fill=\"black\" stroke=\"black\" points=\"12545.27,-78.77 12546.86,-68.3 12539.09,-75.5 12545.27,-78.77\"/>\n</g>\n<!-- 315 -->\n<g id=\"node316\" class=\"node\">\n<title>315</title>\n<path fill=\"#93caf1\" stroke=\"black\" d=\"M12912.5,-782C12912.5,-782 12746.5,-782 12746.5,-782 12740.5,-782 12734.5,-776 12734.5,-770 12734.5,-770 12734.5,-711 12734.5,-711 12734.5,-705 12740.5,-699 12746.5,-699 12746.5,-699 12912.5,-699 12912.5,-699 12918.5,-699 12924.5,-705 12924.5,-711 12924.5,-711 12924.5,-770 12924.5,-770 12924.5,-776 12918.5,-782 12912.5,-782\"/>\n<text text-anchor=\"middle\" x=\"12829.5\" y=\"-766.8\" font-family=\"Helvetica,sans-Serif\" font-size=\"14.00\">km_por_ano &lt;= 42661.994</text>\n<text text-anchor=\"middle\" x=\"12829.5\" y=\"-751.8\" font-family=\"Helvetica,sans-Serif\" font-size=\"14.00\">gini = 0.43</text>\n<text text-anchor=\"middle\" x=\"12829.5\" y=\"-736.8\" font-family=\"Helvetica,sans-Serif\" font-size=\"14.00\">samples = 329</text>\n<text text-anchor=\"middle\" x=\"12829.5\" y=\"-721.8\" font-family=\"Helvetica,sans-Serif\" font-size=\"14.00\">value = [103, 226]</text>\n<text text-anchor=\"middle\" x=\"12829.5\" y=\"-706.8\" font-family=\"Helvetica,sans-Serif\" font-size=\"14.00\">class = sim</text>\n</g>\n<!-- 314&#45;&gt;315 -->\n<g id=\"edge315\" class=\"edge\">\n<title>314&#45;&gt;315</title>\n<path fill=\"none\" stroke=\"black\" d=\"M12829.5,-817.91C12829.5,-809.65 12829.5,-800.86 12829.5,-792.3\"/>\n<polygon fill=\"black\" stroke=\"black\" points=\"12833,-792.02 12829.5,-782.02 12826,-792.02 12833,-792.02\"/>\n</g>\n<!-- 344 -->\n<g id=\"node345\" class=\"node\">\n<title>344</title>\n<path fill=\"#e58139\" stroke=\"black\" d=\"M13028,-774.5C13028,-774.5 12955,-774.5 12955,-774.5 12949,-774.5 12943,-768.5 12943,-762.5 12943,-762.5 12943,-718.5 12943,-718.5 12943,-712.5 12949,-706.5 12955,-706.5 12955,-706.5 13028,-706.5 13028,-706.5 13034,-706.5 13040,-712.5 13040,-718.5 13040,-718.5 13040,-762.5 13040,-762.5 13040,-768.5 13034,-774.5 13028,-774.5\"/>\n<text text-anchor=\"middle\" x=\"12991.5\" y=\"-759.3\" font-family=\"Helvetica,sans-Serif\" font-size=\"14.00\">gini = 0.0</text>\n<text text-anchor=\"middle\" x=\"12991.5\" y=\"-744.3\" font-family=\"Helvetica,sans-Serif\" font-size=\"14.00\">samples = 2</text>\n<text text-anchor=\"middle\" x=\"12991.5\" y=\"-729.3\" font-family=\"Helvetica,sans-Serif\" font-size=\"14.00\">value = [2, 0]</text>\n<text text-anchor=\"middle\" x=\"12991.5\" y=\"-714.3\" font-family=\"Helvetica,sans-Serif\" font-size=\"14.00\">class = não</text>\n</g>\n<!-- 314&#45;&gt;344 -->\n<g id=\"edge344\" class=\"edge\">\n<title>314&#45;&gt;344</title>\n<path fill=\"none\" stroke=\"black\" d=\"M12885.71,-817.91C12902.36,-805.88 12920.56,-792.73 12937.1,-780.79\"/>\n<polygon fill=\"black\" stroke=\"black\" points=\"12939.52,-783.36 12945.58,-774.67 12935.42,-777.68 12939.52,-783.36\"/>\n</g>\n<!-- 316 -->\n<g id=\"node317\" class=\"node\">\n<title>316</title>\n<path fill=\"#9acdf2\" stroke=\"black\" d=\"M12912.5,-663C12912.5,-663 12746.5,-663 12746.5,-663 12740.5,-663 12734.5,-657 12734.5,-651 12734.5,-651 12734.5,-592 12734.5,-592 12734.5,-586 12740.5,-580 12746.5,-580 12746.5,-580 12912.5,-580 12912.5,-580 12918.5,-580 12924.5,-586 12924.5,-592 12924.5,-592 12924.5,-651 12924.5,-651 12924.5,-657 12918.5,-663 12912.5,-663\"/>\n<text text-anchor=\"middle\" x=\"12829.5\" y=\"-647.8\" font-family=\"Helvetica,sans-Serif\" font-size=\"14.00\">km_por_ano &lt;= 25967.505</text>\n<text text-anchor=\"middle\" x=\"12829.5\" y=\"-632.8\" font-family=\"Helvetica,sans-Serif\" font-size=\"14.00\">gini = 0.442</text>\n<text text-anchor=\"middle\" x=\"12829.5\" y=\"-617.8\" font-family=\"Helvetica,sans-Serif\" font-size=\"14.00\">samples = 313</text>\n<text text-anchor=\"middle\" x=\"12829.5\" y=\"-602.8\" font-family=\"Helvetica,sans-Serif\" font-size=\"14.00\">value = [103, 210]</text>\n<text text-anchor=\"middle\" x=\"12829.5\" y=\"-587.8\" font-family=\"Helvetica,sans-Serif\" font-size=\"14.00\">class = sim</text>\n</g>\n<!-- 315&#45;&gt;316 -->\n<g id=\"edge316\" class=\"edge\">\n<title>315&#45;&gt;316</title>\n<path fill=\"none\" stroke=\"black\" d=\"M12829.5,-698.91C12829.5,-690.65 12829.5,-681.86 12829.5,-673.3\"/>\n<polygon fill=\"black\" stroke=\"black\" points=\"12833,-673.02 12829.5,-663.02 12826,-673.02 12833,-673.02\"/>\n</g>\n<!-- 343 -->\n<g id=\"node344\" class=\"node\">\n<title>343</title>\n<path fill=\"#399de5\" stroke=\"black\" d=\"M13036,-655.5C13036,-655.5 12955,-655.5 12955,-655.5 12949,-655.5 12943,-649.5 12943,-643.5 12943,-643.5 12943,-599.5 12943,-599.5 12943,-593.5 12949,-587.5 12955,-587.5 12955,-587.5 13036,-587.5 13036,-587.5 13042,-587.5 13048,-593.5 13048,-599.5 13048,-599.5 13048,-643.5 13048,-643.5 13048,-649.5 13042,-655.5 13036,-655.5\"/>\n<text text-anchor=\"middle\" x=\"12995.5\" y=\"-640.3\" font-family=\"Helvetica,sans-Serif\" font-size=\"14.00\">gini = 0.0</text>\n<text text-anchor=\"middle\" x=\"12995.5\" y=\"-625.3\" font-family=\"Helvetica,sans-Serif\" font-size=\"14.00\">samples = 16</text>\n<text text-anchor=\"middle\" x=\"12995.5\" y=\"-610.3\" font-family=\"Helvetica,sans-Serif\" font-size=\"14.00\">value = [0, 16]</text>\n<text text-anchor=\"middle\" x=\"12995.5\" y=\"-595.3\" font-family=\"Helvetica,sans-Serif\" font-size=\"14.00\">class = sim</text>\n</g>\n<!-- 315&#45;&gt;343 -->\n<g id=\"edge343\" class=\"edge\">\n<title>315&#45;&gt;343</title>\n<path fill=\"none\" stroke=\"black\" d=\"M12887.09,-698.91C12904.31,-686.77 12923.15,-673.49 12940.22,-661.46\"/>\n<polygon fill=\"black\" stroke=\"black\" points=\"12942.29,-664.29 12948.44,-655.67 12938.25,-658.57 12942.29,-664.29\"/>\n</g>\n<!-- 317 -->\n<g id=\"node318\" class=\"node\">\n<title>317</title>\n<path fill=\"#7bbeee\" stroke=\"black\" d=\"M12912.5,-544C12912.5,-544 12746.5,-544 12746.5,-544 12740.5,-544 12734.5,-538 12734.5,-532 12734.5,-532 12734.5,-473 12734.5,-473 12734.5,-467 12740.5,-461 12746.5,-461 12746.5,-461 12912.5,-461 12912.5,-461 12918.5,-461 12924.5,-467 12924.5,-473 12924.5,-473 12924.5,-532 12924.5,-532 12924.5,-538 12918.5,-544 12912.5,-544\"/>\n<text text-anchor=\"middle\" x=\"12829.5\" y=\"-528.8\" font-family=\"Helvetica,sans-Serif\" font-size=\"14.00\">km_por_ano &lt;= 25668.973</text>\n<text text-anchor=\"middle\" x=\"12829.5\" y=\"-513.8\" font-family=\"Helvetica,sans-Serif\" font-size=\"14.00\">gini = 0.375</text>\n<text text-anchor=\"middle\" x=\"12829.5\" y=\"-498.8\" font-family=\"Helvetica,sans-Serif\" font-size=\"14.00\">samples = 72</text>\n<text text-anchor=\"middle\" x=\"12829.5\" y=\"-483.8\" font-family=\"Helvetica,sans-Serif\" font-size=\"14.00\">value = [18, 54]</text>\n<text text-anchor=\"middle\" x=\"12829.5\" y=\"-468.8\" font-family=\"Helvetica,sans-Serif\" font-size=\"14.00\">class = sim</text>\n</g>\n<!-- 316&#45;&gt;317 -->\n<g id=\"edge317\" class=\"edge\">\n<title>316&#45;&gt;317</title>\n<path fill=\"none\" stroke=\"black\" d=\"M12829.5,-579.91C12829.5,-571.65 12829.5,-562.86 12829.5,-554.3\"/>\n<polygon fill=\"black\" stroke=\"black\" points=\"12833,-554.02 12829.5,-544.02 12826,-554.02 12833,-554.02\"/>\n</g>\n<!-- 328 -->\n<g id=\"node329\" class=\"node\">\n<title>328</title>\n<path fill=\"#a5d2f3\" stroke=\"black\" d=\"M13239.5,-544C13239.5,-544 13073.5,-544 13073.5,-544 13067.5,-544 13061.5,-538 13061.5,-532 13061.5,-532 13061.5,-473 13061.5,-473 13061.5,-467 13067.5,-461 13073.5,-461 13073.5,-461 13239.5,-461 13239.5,-461 13245.5,-461 13251.5,-467 13251.5,-473 13251.5,-473 13251.5,-532 13251.5,-532 13251.5,-538 13245.5,-544 13239.5,-544\"/>\n<text text-anchor=\"middle\" x=\"13156.5\" y=\"-528.8\" font-family=\"Helvetica,sans-Serif\" font-size=\"14.00\">km_por_ano &lt;= 26066.479</text>\n<text text-anchor=\"middle\" x=\"13156.5\" y=\"-513.8\" font-family=\"Helvetica,sans-Serif\" font-size=\"14.00\">gini = 0.457</text>\n<text text-anchor=\"middle\" x=\"13156.5\" y=\"-498.8\" font-family=\"Helvetica,sans-Serif\" font-size=\"14.00\">samples = 241</text>\n<text text-anchor=\"middle\" x=\"13156.5\" y=\"-483.8\" font-family=\"Helvetica,sans-Serif\" font-size=\"14.00\">value = [85, 156]</text>\n<text text-anchor=\"middle\" x=\"13156.5\" y=\"-468.8\" font-family=\"Helvetica,sans-Serif\" font-size=\"14.00\">class = sim</text>\n</g>\n<!-- 316&#45;&gt;328 -->\n<g id=\"edge328\" class=\"edge\">\n<title>316&#45;&gt;328</title>\n<path fill=\"none\" stroke=\"black\" d=\"M12924.66,-583.26C12927.64,-582.16 12930.59,-581.07 12933.5,-580 12971.78,-565.99 13014.03,-551.3 13051.37,-538.58\"/>\n<polygon fill=\"black\" stroke=\"black\" points=\"13052.91,-541.75 13061.25,-535.22 13050.66,-535.12 13052.91,-541.75\"/>\n</g>\n<!-- 318 -->\n<g id=\"node319\" class=\"node\">\n<title>318</title>\n<path fill=\"#92c9f1\" stroke=\"black\" d=\"M12867.5,-425C12867.5,-425 12701.5,-425 12701.5,-425 12695.5,-425 12689.5,-419 12689.5,-413 12689.5,-413 12689.5,-354 12689.5,-354 12689.5,-348 12695.5,-342 12701.5,-342 12701.5,-342 12867.5,-342 12867.5,-342 12873.5,-342 12879.5,-348 12879.5,-354 12879.5,-354 12879.5,-413 12879.5,-413 12879.5,-419 12873.5,-425 12867.5,-425\"/>\n<text text-anchor=\"middle\" x=\"12784.5\" y=\"-409.8\" font-family=\"Helvetica,sans-Serif\" font-size=\"14.00\">km_por_ano &lt;= 25641.614</text>\n<text text-anchor=\"middle\" x=\"12784.5\" y=\"-394.8\" font-family=\"Helvetica,sans-Serif\" font-size=\"14.00\">gini = 0.428</text>\n<text text-anchor=\"middle\" x=\"12784.5\" y=\"-379.8\" font-family=\"Helvetica,sans-Serif\" font-size=\"14.00\">samples = 58</text>\n<text text-anchor=\"middle\" x=\"12784.5\" y=\"-364.8\" font-family=\"Helvetica,sans-Serif\" font-size=\"14.00\">value = [18, 40]</text>\n<text text-anchor=\"middle\" x=\"12784.5\" y=\"-349.8\" font-family=\"Helvetica,sans-Serif\" font-size=\"14.00\">class = sim</text>\n</g>\n<!-- 317&#45;&gt;318 -->\n<g id=\"edge318\" class=\"edge\">\n<title>317&#45;&gt;318</title>\n<path fill=\"none\" stroke=\"black\" d=\"M12813.89,-460.91C12810.61,-452.38 12807.11,-443.28 12803.71,-434.46\"/>\n<polygon fill=\"black\" stroke=\"black\" points=\"12806.94,-433.1 12800.08,-425.02 12800.41,-435.61 12806.94,-433.1\"/>\n</g>\n<!-- 327 -->\n<g id=\"node328\" class=\"node\">\n<title>327</title>\n<path fill=\"#399de5\" stroke=\"black\" d=\"M12991,-417.5C12991,-417.5 12910,-417.5 12910,-417.5 12904,-417.5 12898,-411.5 12898,-405.5 12898,-405.5 12898,-361.5 12898,-361.5 12898,-355.5 12904,-349.5 12910,-349.5 12910,-349.5 12991,-349.5 12991,-349.5 12997,-349.5 13003,-355.5 13003,-361.5 13003,-361.5 13003,-405.5 13003,-405.5 13003,-411.5 12997,-417.5 12991,-417.5\"/>\n<text text-anchor=\"middle\" x=\"12950.5\" y=\"-402.3\" font-family=\"Helvetica,sans-Serif\" font-size=\"14.00\">gini = 0.0</text>\n<text text-anchor=\"middle\" x=\"12950.5\" y=\"-387.3\" font-family=\"Helvetica,sans-Serif\" font-size=\"14.00\">samples = 14</text>\n<text text-anchor=\"middle\" x=\"12950.5\" y=\"-372.3\" font-family=\"Helvetica,sans-Serif\" font-size=\"14.00\">value = [0, 14]</text>\n<text text-anchor=\"middle\" x=\"12950.5\" y=\"-357.3\" font-family=\"Helvetica,sans-Serif\" font-size=\"14.00\">class = sim</text>\n</g>\n<!-- 317&#45;&gt;327 -->\n<g id=\"edge327\" class=\"edge\">\n<title>317&#45;&gt;327</title>\n<path fill=\"none\" stroke=\"black\" d=\"M12871.48,-460.91C12883.58,-449.21 12896.77,-436.46 12908.84,-424.78\"/>\n<polygon fill=\"black\" stroke=\"black\" points=\"12911.44,-427.13 12916.2,-417.67 12906.58,-422.1 12911.44,-427.13\"/>\n</g>\n<!-- 319 -->\n<g id=\"node320\" class=\"node\">\n<title>319</title>\n<path fill=\"#88c4ef\" stroke=\"black\" d=\"M12844,-306C12844,-306 12713,-306 12713,-306 12707,-306 12701,-300 12701,-294 12701,-294 12701,-235 12701,-235 12701,-229 12707,-223 12713,-223 12713,-223 12844,-223 12844,-223 12850,-223 12856,-229 12856,-235 12856,-235 12856,-294 12856,-294 12856,-300 12850,-306 12844,-306\"/>\n<text text-anchor=\"middle\" x=\"12778.5\" y=\"-290.8\" font-family=\"Helvetica,sans-Serif\" font-size=\"14.00\">preco &lt;= 112568.258</text>\n<text text-anchor=\"middle\" x=\"12778.5\" y=\"-275.8\" font-family=\"Helvetica,sans-Serif\" font-size=\"14.00\">gini = 0.408</text>\n<text text-anchor=\"middle\" x=\"12778.5\" y=\"-260.8\" font-family=\"Helvetica,sans-Serif\" font-size=\"14.00\">samples = 56</text>\n<text text-anchor=\"middle\" x=\"12778.5\" y=\"-245.8\" font-family=\"Helvetica,sans-Serif\" font-size=\"14.00\">value = [16, 40]</text>\n<text text-anchor=\"middle\" x=\"12778.5\" y=\"-230.8\" font-family=\"Helvetica,sans-Serif\" font-size=\"14.00\">class = sim</text>\n</g>\n<!-- 318&#45;&gt;319 -->\n<g id=\"edge319\" class=\"edge\">\n<title>318&#45;&gt;319</title>\n<path fill=\"none\" stroke=\"black\" d=\"M12782.42,-341.91C12781.99,-333.56 12781.53,-324.67 12781.09,-316.02\"/>\n<polygon fill=\"black\" stroke=\"black\" points=\"12784.59,-315.83 12780.58,-306.02 12777.59,-316.19 12784.59,-315.83\"/>\n</g>\n<!-- 326 -->\n<g id=\"node327\" class=\"node\">\n<title>326</title>\n<path fill=\"#e58139\" stroke=\"black\" d=\"M12959,-298.5C12959,-298.5 12886,-298.5 12886,-298.5 12880,-298.5 12874,-292.5 12874,-286.5 12874,-286.5 12874,-242.5 12874,-242.5 12874,-236.5 12880,-230.5 12886,-230.5 12886,-230.5 12959,-230.5 12959,-230.5 12965,-230.5 12971,-236.5 12971,-242.5 12971,-242.5 12971,-286.5 12971,-286.5 12971,-292.5 12965,-298.5 12959,-298.5\"/>\n<text text-anchor=\"middle\" x=\"12922.5\" y=\"-283.3\" font-family=\"Helvetica,sans-Serif\" font-size=\"14.00\">gini = 0.0</text>\n<text text-anchor=\"middle\" x=\"12922.5\" y=\"-268.3\" font-family=\"Helvetica,sans-Serif\" font-size=\"14.00\">samples = 2</text>\n<text text-anchor=\"middle\" x=\"12922.5\" y=\"-253.3\" font-family=\"Helvetica,sans-Serif\" font-size=\"14.00\">value = [2, 0]</text>\n<text text-anchor=\"middle\" x=\"12922.5\" y=\"-238.3\" font-family=\"Helvetica,sans-Serif\" font-size=\"14.00\">class = não</text>\n</g>\n<!-- 318&#45;&gt;326 -->\n<g id=\"edge326\" class=\"edge\">\n<title>318&#45;&gt;326</title>\n<path fill=\"none\" stroke=\"black\" d=\"M12832.38,-341.91C12846.3,-330.1 12861.5,-317.22 12875.38,-305.45\"/>\n<polygon fill=\"black\" stroke=\"black\" points=\"12878.02,-307.8 12883.38,-298.67 12873.49,-302.46 12878.02,-307.8\"/>\n</g>\n<!-- 320 -->\n<g id=\"node321\" class=\"node\">\n<title>320</title>\n<path fill=\"#7bbeee\" stroke=\"black\" d=\"M12841,-187C12841,-187 12710,-187 12710,-187 12704,-187 12698,-181 12698,-175 12698,-175 12698,-116 12698,-116 12698,-110 12704,-104 12710,-104 12710,-104 12841,-104 12841,-104 12847,-104 12853,-110 12853,-116 12853,-116 12853,-175 12853,-175 12853,-181 12847,-187 12841,-187\"/>\n<text text-anchor=\"middle\" x=\"12775.5\" y=\"-171.8\" font-family=\"Helvetica,sans-Serif\" font-size=\"14.00\">preco &lt;= 107394.887</text>\n<text text-anchor=\"middle\" x=\"12775.5\" y=\"-156.8\" font-family=\"Helvetica,sans-Serif\" font-size=\"14.00\">gini = 0.375</text>\n<text text-anchor=\"middle\" x=\"12775.5\" y=\"-141.8\" font-family=\"Helvetica,sans-Serif\" font-size=\"14.00\">samples = 52</text>\n<text text-anchor=\"middle\" x=\"12775.5\" y=\"-126.8\" font-family=\"Helvetica,sans-Serif\" font-size=\"14.00\">value = [13, 39]</text>\n<text text-anchor=\"middle\" x=\"12775.5\" y=\"-111.8\" font-family=\"Helvetica,sans-Serif\" font-size=\"14.00\">class = sim</text>\n</g>\n<!-- 319&#45;&gt;320 -->\n<g id=\"edge320\" class=\"edge\">\n<title>319&#45;&gt;320</title>\n<path fill=\"none\" stroke=\"black\" d=\"M12777.46,-222.91C12777.25,-214.56 12777.02,-205.67 12776.8,-197.02\"/>\n<polygon fill=\"black\" stroke=\"black\" points=\"12780.29,-196.93 12776.54,-187.02 12773.3,-197.11 12780.29,-196.93\"/>\n</g>\n<!-- 323 -->\n<g id=\"node324\" class=\"node\">\n<title>323</title>\n<path fill=\"#eeab7b\" stroke=\"black\" d=\"M13036,-187C13036,-187 12883,-187 12883,-187 12877,-187 12871,-181 12871,-175 12871,-175 12871,-116 12871,-116 12871,-110 12877,-104 12883,-104 12883,-104 13036,-104 13036,-104 13042,-104 13048,-110 13048,-116 13048,-116 13048,-175 13048,-175 13048,-181 13042,-187 13036,-187\"/>\n<text text-anchor=\"middle\" x=\"12959.5\" y=\"-171.8\" font-family=\"Helvetica,sans-Serif\" font-size=\"14.00\">idade_do_modelo &lt;= 3.5</text>\n<text text-anchor=\"middle\" x=\"12959.5\" y=\"-156.8\" font-family=\"Helvetica,sans-Serif\" font-size=\"14.00\">gini = 0.375</text>\n<text text-anchor=\"middle\" x=\"12959.5\" y=\"-141.8\" font-family=\"Helvetica,sans-Serif\" font-size=\"14.00\">samples = 4</text>\n<text text-anchor=\"middle\" x=\"12959.5\" y=\"-126.8\" font-family=\"Helvetica,sans-Serif\" font-size=\"14.00\">value = [3, 1]</text>\n<text text-anchor=\"middle\" x=\"12959.5\" y=\"-111.8\" font-family=\"Helvetica,sans-Serif\" font-size=\"14.00\">class = não</text>\n</g>\n<!-- 319&#45;&gt;323 -->\n<g id=\"edge323\" class=\"edge\">\n<title>319&#45;&gt;323</title>\n<path fill=\"none\" stroke=\"black\" d=\"M12841.3,-222.91C12856.46,-213.11 12872.77,-202.56 12888.29,-192.53\"/>\n<polygon fill=\"black\" stroke=\"black\" points=\"12890.32,-195.39 12896.81,-187.02 12886.52,-189.51 12890.32,-195.39\"/>\n</g>\n<!-- 321 -->\n<g id=\"node322\" class=\"node\">\n<title>321</title>\n<path fill=\"#9ccef2\" stroke=\"black\" d=\"M12732,-68C12732,-68 12643,-68 12643,-68 12637,-68 12631,-62 12631,-56 12631,-56 12631,-12 12631,-12 12631,-6 12637,0 12643,0 12643,0 12732,0 12732,0 12738,0 12744,-6 12744,-12 12744,-12 12744,-56 12744,-56 12744,-62 12738,-68 12732,-68\"/>\n<text text-anchor=\"middle\" x=\"12687.5\" y=\"-52.8\" font-family=\"Helvetica,sans-Serif\" font-size=\"14.00\">gini = 0.444</text>\n<text text-anchor=\"middle\" x=\"12687.5\" y=\"-37.8\" font-family=\"Helvetica,sans-Serif\" font-size=\"14.00\">samples = 39</text>\n<text text-anchor=\"middle\" x=\"12687.5\" y=\"-22.8\" font-family=\"Helvetica,sans-Serif\" font-size=\"14.00\">value = [13, 26]</text>\n<text text-anchor=\"middle\" x=\"12687.5\" y=\"-7.8\" font-family=\"Helvetica,sans-Serif\" font-size=\"14.00\">class = sim</text>\n</g>\n<!-- 320&#45;&gt;321 -->\n<g id=\"edge321\" class=\"edge\">\n<title>320&#45;&gt;321</title>\n<path fill=\"none\" stroke=\"black\" d=\"M12742.73,-103.73C12735.55,-94.79 12727.94,-85.32 12720.74,-76.36\"/>\n<polygon fill=\"black\" stroke=\"black\" points=\"12723.25,-73.9 12714.26,-68.3 12717.8,-78.29 12723.25,-73.9\"/>\n</g>\n<!-- 322 -->\n<g id=\"node323\" class=\"node\">\n<title>322</title>\n<path fill=\"#399de5\" stroke=\"black\" d=\"M12855,-68C12855,-68 12774,-68 12774,-68 12768,-68 12762,-62 12762,-56 12762,-56 12762,-12 12762,-12 12762,-6 12768,0 12774,0 12774,0 12855,0 12855,0 12861,0 12867,-6 12867,-12 12867,-12 12867,-56 12867,-56 12867,-62 12861,-68 12855,-68\"/>\n<text text-anchor=\"middle\" x=\"12814.5\" y=\"-52.8\" font-family=\"Helvetica,sans-Serif\" font-size=\"14.00\">gini = 0.0</text>\n<text text-anchor=\"middle\" x=\"12814.5\" y=\"-37.8\" font-family=\"Helvetica,sans-Serif\" font-size=\"14.00\">samples = 13</text>\n<text text-anchor=\"middle\" x=\"12814.5\" y=\"-22.8\" font-family=\"Helvetica,sans-Serif\" font-size=\"14.00\">value = [0, 13]</text>\n<text text-anchor=\"middle\" x=\"12814.5\" y=\"-7.8\" font-family=\"Helvetica,sans-Serif\" font-size=\"14.00\">class = sim</text>\n</g>\n<!-- 320&#45;&gt;322 -->\n<g id=\"edge322\" class=\"edge\">\n<title>320&#45;&gt;322</title>\n<path fill=\"none\" stroke=\"black\" d=\"M12790.02,-103.73C12793.04,-95.24 12796.24,-86.28 12799.28,-77.73\"/>\n<polygon fill=\"black\" stroke=\"black\" points=\"12802.58,-78.89 12802.64,-68.3 12795.99,-76.55 12802.58,-78.89\"/>\n</g>\n<!-- 324 -->\n<g id=\"node325\" class=\"node\">\n<title>324</title>\n<path fill=\"#399de5\" stroke=\"black\" d=\"M12970,-68C12970,-68 12897,-68 12897,-68 12891,-68 12885,-62 12885,-56 12885,-56 12885,-12 12885,-12 12885,-6 12891,0 12897,0 12897,0 12970,0 12970,0 12976,0 12982,-6 12982,-12 12982,-12 12982,-56 12982,-56 12982,-62 12976,-68 12970,-68\"/>\n<text text-anchor=\"middle\" x=\"12933.5\" y=\"-52.8\" font-family=\"Helvetica,sans-Serif\" font-size=\"14.00\">gini = 0.0</text>\n<text text-anchor=\"middle\" x=\"12933.5\" y=\"-37.8\" font-family=\"Helvetica,sans-Serif\" font-size=\"14.00\">samples = 1</text>\n<text text-anchor=\"middle\" x=\"12933.5\" y=\"-22.8\" font-family=\"Helvetica,sans-Serif\" font-size=\"14.00\">value = [0, 1]</text>\n<text text-anchor=\"middle\" x=\"12933.5\" y=\"-7.8\" font-family=\"Helvetica,sans-Serif\" font-size=\"14.00\">class = sim</text>\n</g>\n<!-- 323&#45;&gt;324 -->\n<g id=\"edge324\" class=\"edge\">\n<title>323&#45;&gt;324</title>\n<path fill=\"none\" stroke=\"black\" d=\"M12949.82,-103.73C12947.85,-95.43 12945.77,-86.67 12943.78,-78.28\"/>\n<polygon fill=\"black\" stroke=\"black\" points=\"12947.12,-77.22 12941.41,-68.3 12940.31,-78.84 12947.12,-77.22\"/>\n</g>\n<!-- 325 -->\n<g id=\"node326\" class=\"node\">\n<title>325</title>\n<path fill=\"#e58139\" stroke=\"black\" d=\"M13085,-68C13085,-68 13012,-68 13012,-68 13006,-68 13000,-62 13000,-56 13000,-56 13000,-12 13000,-12 13000,-6 13006,0 13012,0 13012,0 13085,0 13085,0 13091,0 13097,-6 13097,-12 13097,-12 13097,-56 13097,-56 13097,-62 13091,-68 13085,-68\"/>\n<text text-anchor=\"middle\" x=\"13048.5\" y=\"-52.8\" font-family=\"Helvetica,sans-Serif\" font-size=\"14.00\">gini = 0.0</text>\n<text text-anchor=\"middle\" x=\"13048.5\" y=\"-37.8\" font-family=\"Helvetica,sans-Serif\" font-size=\"14.00\">samples = 3</text>\n<text text-anchor=\"middle\" x=\"13048.5\" y=\"-22.8\" font-family=\"Helvetica,sans-Serif\" font-size=\"14.00\">value = [3, 0]</text>\n<text text-anchor=\"middle\" x=\"13048.5\" y=\"-7.8\" font-family=\"Helvetica,sans-Serif\" font-size=\"14.00\">class = não</text>\n</g>\n<!-- 323&#45;&gt;325 -->\n<g id=\"edge325\" class=\"edge\">\n<title>323&#45;&gt;325</title>\n<path fill=\"none\" stroke=\"black\" d=\"M12992.64,-103.73C12999.98,-94.7 13007.76,-85.12 13015.11,-76.08\"/>\n<polygon fill=\"black\" stroke=\"black\" points=\"13017.84,-78.27 13021.43,-68.3 13012.41,-73.85 13017.84,-78.27\"/>\n</g>\n<!-- 329 -->\n<g id=\"node330\" class=\"node\">\n<title>329</title>\n<path fill=\"#e58139\" stroke=\"black\" d=\"M13193,-417.5C13193,-417.5 13120,-417.5 13120,-417.5 13114,-417.5 13108,-411.5 13108,-405.5 13108,-405.5 13108,-361.5 13108,-361.5 13108,-355.5 13114,-349.5 13120,-349.5 13120,-349.5 13193,-349.5 13193,-349.5 13199,-349.5 13205,-355.5 13205,-361.5 13205,-361.5 13205,-405.5 13205,-405.5 13205,-411.5 13199,-417.5 13193,-417.5\"/>\n<text text-anchor=\"middle\" x=\"13156.5\" y=\"-402.3\" font-family=\"Helvetica,sans-Serif\" font-size=\"14.00\">gini = 0.0</text>\n<text text-anchor=\"middle\" x=\"13156.5\" y=\"-387.3\" font-family=\"Helvetica,sans-Serif\" font-size=\"14.00\">samples = 2</text>\n<text text-anchor=\"middle\" x=\"13156.5\" y=\"-372.3\" font-family=\"Helvetica,sans-Serif\" font-size=\"14.00\">value = [2, 0]</text>\n<text text-anchor=\"middle\" x=\"13156.5\" y=\"-357.3\" font-family=\"Helvetica,sans-Serif\" font-size=\"14.00\">class = não</text>\n</g>\n<!-- 328&#45;&gt;329 -->\n<g id=\"edge329\" class=\"edge\">\n<title>328&#45;&gt;329</title>\n<path fill=\"none\" stroke=\"black\" d=\"M13156.5,-460.91C13156.5,-450.2 13156.5,-438.62 13156.5,-427.78\"/>\n<polygon fill=\"black\" stroke=\"black\" points=\"13160,-427.67 13156.5,-417.67 13153,-427.67 13160,-427.67\"/>\n</g>\n<!-- 330 -->\n<g id=\"node331\" class=\"node\">\n<title>330</title>\n<path fill=\"#a2d1f3\" stroke=\"black\" d=\"M13379,-425C13379,-425 13248,-425 13248,-425 13242,-425 13236,-419 13236,-413 13236,-413 13236,-354 13236,-354 13236,-348 13242,-342 13248,-342 13248,-342 13379,-342 13379,-342 13385,-342 13391,-348 13391,-354 13391,-354 13391,-413 13391,-413 13391,-419 13385,-425 13379,-425\"/>\n<text text-anchor=\"middle\" x=\"13313.5\" y=\"-409.8\" font-family=\"Helvetica,sans-Serif\" font-size=\"14.00\">preco &lt;= 112086.023</text>\n<text text-anchor=\"middle\" x=\"13313.5\" y=\"-394.8\" font-family=\"Helvetica,sans-Serif\" font-size=\"14.00\">gini = 0.453</text>\n<text text-anchor=\"middle\" x=\"13313.5\" y=\"-379.8\" font-family=\"Helvetica,sans-Serif\" font-size=\"14.00\">samples = 239</text>\n<text text-anchor=\"middle\" x=\"13313.5\" y=\"-364.8\" font-family=\"Helvetica,sans-Serif\" font-size=\"14.00\">value = [83, 156]</text>\n<text text-anchor=\"middle\" x=\"13313.5\" y=\"-349.8\" font-family=\"Helvetica,sans-Serif\" font-size=\"14.00\">class = sim</text>\n</g>\n<!-- 328&#45;&gt;330 -->\n<g id=\"edge330\" class=\"edge\">\n<title>328&#45;&gt;330</title>\n<path fill=\"none\" stroke=\"black\" d=\"M13210.97,-460.91C13223.88,-451.29 13237.75,-440.95 13250.98,-431.09\"/>\n<polygon fill=\"black\" stroke=\"black\" points=\"13253.2,-433.8 13259.13,-425.02 13249.02,-428.19 13253.2,-433.8\"/>\n</g>\n<!-- 331 -->\n<g id=\"node332\" class=\"node\">\n<title>331</title>\n<path fill=\"#add6f4\" stroke=\"black\" d=\"M13379,-306C13379,-306 13248,-306 13248,-306 13242,-306 13236,-300 13236,-294 13236,-294 13236,-235 13236,-235 13236,-229 13242,-223 13248,-223 13248,-223 13379,-223 13379,-223 13385,-223 13391,-229 13391,-235 13391,-235 13391,-294 13391,-294 13391,-300 13385,-306 13379,-306\"/>\n<text text-anchor=\"middle\" x=\"13313.5\" y=\"-290.8\" font-family=\"Helvetica,sans-Serif\" font-size=\"14.00\">preco &lt;= 103744.188</text>\n<text text-anchor=\"middle\" x=\"13313.5\" y=\"-275.8\" font-family=\"Helvetica,sans-Serif\" font-size=\"14.00\">gini = 0.466</text>\n<text text-anchor=\"middle\" x=\"13313.5\" y=\"-260.8\" font-family=\"Helvetica,sans-Serif\" font-size=\"14.00\">samples = 206</text>\n<text text-anchor=\"middle\" x=\"13313.5\" y=\"-245.8\" font-family=\"Helvetica,sans-Serif\" font-size=\"14.00\">value = [76, 130]</text>\n<text text-anchor=\"middle\" x=\"13313.5\" y=\"-230.8\" font-family=\"Helvetica,sans-Serif\" font-size=\"14.00\">class = sim</text>\n</g>\n<!-- 330&#45;&gt;331 -->\n<g id=\"edge331\" class=\"edge\">\n<title>330&#45;&gt;331</title>\n<path fill=\"none\" stroke=\"black\" d=\"M13313.5,-341.91C13313.5,-333.65 13313.5,-324.86 13313.5,-316.3\"/>\n<polygon fill=\"black\" stroke=\"black\" points=\"13317,-316.02 13313.5,-306.02 13310,-316.02 13317,-316.02\"/>\n</g>\n<!-- 338 -->\n<g id=\"node339\" class=\"node\">\n<title>338</title>\n<path fill=\"#6eb7ec\" stroke=\"black\" d=\"M13635,-306C13635,-306 13504,-306 13504,-306 13498,-306 13492,-300 13492,-294 13492,-294 13492,-235 13492,-235 13492,-229 13498,-223 13504,-223 13504,-223 13635,-223 13635,-223 13641,-223 13647,-229 13647,-235 13647,-235 13647,-294 13647,-294 13647,-300 13641,-306 13635,-306\"/>\n<text text-anchor=\"middle\" x=\"13569.5\" y=\"-290.8\" font-family=\"Helvetica,sans-Serif\" font-size=\"14.00\">preco &lt;= 112896.492</text>\n<text text-anchor=\"middle\" x=\"13569.5\" y=\"-275.8\" font-family=\"Helvetica,sans-Serif\" font-size=\"14.00\">gini = 0.334</text>\n<text text-anchor=\"middle\" x=\"13569.5\" y=\"-260.8\" font-family=\"Helvetica,sans-Serif\" font-size=\"14.00\">samples = 33</text>\n<text text-anchor=\"middle\" x=\"13569.5\" y=\"-245.8\" font-family=\"Helvetica,sans-Serif\" font-size=\"14.00\">value = [7, 26]</text>\n<text text-anchor=\"middle\" x=\"13569.5\" y=\"-230.8\" font-family=\"Helvetica,sans-Serif\" font-size=\"14.00\">class = sim</text>\n</g>\n<!-- 330&#45;&gt;338 -->\n<g id=\"edge338\" class=\"edge\">\n<title>330&#45;&gt;338</title>\n<path fill=\"none\" stroke=\"black\" d=\"M13391,-347.08C13419.94,-333.85 13452.99,-318.75 13482.71,-305.17\"/>\n<polygon fill=\"black\" stroke=\"black\" points=\"13484.18,-308.34 13491.82,-301 13481.27,-301.98 13484.18,-308.34\"/>\n</g>\n<!-- 332 -->\n<g id=\"node333\" class=\"node\">\n<title>332</title>\n<path fill=\"#8bc6f0\" stroke=\"black\" d=\"M13313.5,-187C13313.5,-187 13147.5,-187 13147.5,-187 13141.5,-187 13135.5,-181 13135.5,-175 13135.5,-175 13135.5,-116 13135.5,-116 13135.5,-110 13141.5,-104 13147.5,-104 13147.5,-104 13313.5,-104 13313.5,-104 13319.5,-104 13325.5,-110 13325.5,-116 13325.5,-116 13325.5,-175 13325.5,-175 13325.5,-181 13319.5,-187 13313.5,-187\"/>\n<text text-anchor=\"middle\" x=\"13230.5\" y=\"-171.8\" font-family=\"Helvetica,sans-Serif\" font-size=\"14.00\">km_por_ano &lt;= 32035.522</text>\n<text text-anchor=\"middle\" x=\"13230.5\" y=\"-156.8\" font-family=\"Helvetica,sans-Serif\" font-size=\"14.00\">gini = 0.415</text>\n<text text-anchor=\"middle\" x=\"13230.5\" y=\"-141.8\" font-family=\"Helvetica,sans-Serif\" font-size=\"14.00\">samples = 92</text>\n<text text-anchor=\"middle\" x=\"13230.5\" y=\"-126.8\" font-family=\"Helvetica,sans-Serif\" font-size=\"14.00\">value = [27, 65]</text>\n<text text-anchor=\"middle\" x=\"13230.5\" y=\"-111.8\" font-family=\"Helvetica,sans-Serif\" font-size=\"14.00\">class = sim</text>\n</g>\n<!-- 331&#45;&gt;332 -->\n<g id=\"edge332\" class=\"edge\">\n<title>331&#45;&gt;332</title>\n<path fill=\"none\" stroke=\"black\" d=\"M13284.7,-222.91C13278.39,-214.01 13271.65,-204.51 13265.14,-195.33\"/>\n<polygon fill=\"black\" stroke=\"black\" points=\"13267.89,-193.15 13259.25,-187.02 13262.18,-197.2 13267.89,-193.15\"/>\n</g>\n<!-- 335 -->\n<g id=\"node336\" class=\"node\">\n<title>335</title>\n<path fill=\"#cee7f9\" stroke=\"black\" d=\"M13487,-187C13487,-187 13356,-187 13356,-187 13350,-187 13344,-181 13344,-175 13344,-175 13344,-116 13344,-116 13344,-110 13350,-104 13356,-104 13356,-104 13487,-104 13487,-104 13493,-104 13499,-110 13499,-116 13499,-116 13499,-175 13499,-175 13499,-181 13493,-187 13487,-187\"/>\n<text text-anchor=\"middle\" x=\"13421.5\" y=\"-171.8\" font-family=\"Helvetica,sans-Serif\" font-size=\"14.00\">preco &lt;= 104872.785</text>\n<text text-anchor=\"middle\" x=\"13421.5\" y=\"-156.8\" font-family=\"Helvetica,sans-Serif\" font-size=\"14.00\">gini = 0.49</text>\n<text text-anchor=\"middle\" x=\"13421.5\" y=\"-141.8\" font-family=\"Helvetica,sans-Serif\" font-size=\"14.00\">samples = 114</text>\n<text text-anchor=\"middle\" x=\"13421.5\" y=\"-126.8\" font-family=\"Helvetica,sans-Serif\" font-size=\"14.00\">value = [49, 65]</text>\n<text text-anchor=\"middle\" x=\"13421.5\" y=\"-111.8\" font-family=\"Helvetica,sans-Serif\" font-size=\"14.00\">class = sim</text>\n</g>\n<!-- 331&#45;&gt;335 -->\n<g id=\"edge335\" class=\"edge\">\n<title>331&#45;&gt;335</title>\n<path fill=\"none\" stroke=\"black\" d=\"M13350.97,-222.91C13359.43,-213.74 13368.49,-203.93 13377.2,-194.49\"/>\n<polygon fill=\"black\" stroke=\"black\" points=\"13379.89,-196.74 13384.1,-187.02 13374.74,-191.99 13379.89,-196.74\"/>\n</g>\n<!-- 333 -->\n<g id=\"node334\" class=\"node\">\n<title>333</title>\n<path fill=\"#b3daf5\" stroke=\"black\" d=\"M13216,-68C13216,-68 13127,-68 13127,-68 13121,-68 13115,-62 13115,-56 13115,-56 13115,-12 13115,-12 13115,-6 13121,0 13127,0 13127,0 13216,0 13216,0 13222,0 13228,-6 13228,-12 13228,-12 13228,-56 13228,-56 13228,-62 13222,-68 13216,-68\"/>\n<text text-anchor=\"middle\" x=\"13171.5\" y=\"-52.8\" font-family=\"Helvetica,sans-Serif\" font-size=\"14.00\">gini = 0.472</text>\n<text text-anchor=\"middle\" x=\"13171.5\" y=\"-37.8\" font-family=\"Helvetica,sans-Serif\" font-size=\"14.00\">samples = 55</text>\n<text text-anchor=\"middle\" x=\"13171.5\" y=\"-22.8\" font-family=\"Helvetica,sans-Serif\" font-size=\"14.00\">value = [21, 34]</text>\n<text text-anchor=\"middle\" x=\"13171.5\" y=\"-7.8\" font-family=\"Helvetica,sans-Serif\" font-size=\"14.00\">class = sim</text>\n</g>\n<!-- 332&#45;&gt;333 -->\n<g id=\"edge333\" class=\"edge\">\n<title>332&#45;&gt;333</title>\n<path fill=\"none\" stroke=\"black\" d=\"M13208.53,-103.73C13203.86,-95.06 13198.92,-85.9 13194.23,-77.18\"/>\n<polygon fill=\"black\" stroke=\"black\" points=\"13197.27,-75.44 13189.44,-68.3 13191.1,-78.76 13197.27,-75.44\"/>\n</g>\n<!-- 334 -->\n<g id=\"node335\" class=\"node\">\n<title>334</title>\n<path fill=\"#5fb0ea\" stroke=\"black\" d=\"M13339,-68C13339,-68 13258,-68 13258,-68 13252,-68 13246,-62 13246,-56 13246,-56 13246,-12 13246,-12 13246,-6 13252,0 13258,0 13258,0 13339,0 13339,0 13345,0 13351,-6 13351,-12 13351,-12 13351,-56 13351,-56 13351,-62 13345,-68 13339,-68\"/>\n<text text-anchor=\"middle\" x=\"13298.5\" y=\"-52.8\" font-family=\"Helvetica,sans-Serif\" font-size=\"14.00\">gini = 0.272</text>\n<text text-anchor=\"middle\" x=\"13298.5\" y=\"-37.8\" font-family=\"Helvetica,sans-Serif\" font-size=\"14.00\">samples = 37</text>\n<text text-anchor=\"middle\" x=\"13298.5\" y=\"-22.8\" font-family=\"Helvetica,sans-Serif\" font-size=\"14.00\">value = [6, 31]</text>\n<text text-anchor=\"middle\" x=\"13298.5\" y=\"-7.8\" font-family=\"Helvetica,sans-Serif\" font-size=\"14.00\">class = sim</text>\n</g>\n<!-- 332&#45;&gt;334 -->\n<g id=\"edge334\" class=\"edge\">\n<title>332&#45;&gt;334</title>\n<path fill=\"none\" stroke=\"black\" d=\"M13255.82,-103.73C13261.26,-94.97 13267.01,-85.7 13272.48,-76.91\"/>\n<polygon fill=\"black\" stroke=\"black\" points=\"13275.52,-78.64 13277.82,-68.3 13269.57,-74.95 13275.52,-78.64\"/>\n</g>\n<!-- 336 -->\n<g id=\"node337\" class=\"node\">\n<title>336</title>\n<path fill=\"#f2c09c\" stroke=\"black\" d=\"M13462,-68C13462,-68 13381,-68 13381,-68 13375,-68 13369,-62 13369,-56 13369,-56 13369,-12 13369,-12 13369,-6 13375,0 13381,0 13381,0 13462,0 13462,0 13468,0 13474,-6 13474,-12 13474,-12 13474,-56 13474,-56 13474,-62 13468,-68 13462,-68\"/>\n<text text-anchor=\"middle\" x=\"13421.5\" y=\"-52.8\" font-family=\"Helvetica,sans-Serif\" font-size=\"14.00\">gini = 0.444</text>\n<text text-anchor=\"middle\" x=\"13421.5\" y=\"-37.8\" font-family=\"Helvetica,sans-Serif\" font-size=\"14.00\">samples = 18</text>\n<text text-anchor=\"middle\" x=\"13421.5\" y=\"-22.8\" font-family=\"Helvetica,sans-Serif\" font-size=\"14.00\">value = [12, 6]</text>\n<text text-anchor=\"middle\" x=\"13421.5\" y=\"-7.8\" font-family=\"Helvetica,sans-Serif\" font-size=\"14.00\">class = não</text>\n</g>\n<!-- 335&#45;&gt;336 -->\n<g id=\"edge336\" class=\"edge\">\n<title>335&#45;&gt;336</title>\n<path fill=\"none\" stroke=\"black\" d=\"M13421.5,-103.73C13421.5,-95.52 13421.5,-86.86 13421.5,-78.56\"/>\n<polygon fill=\"black\" stroke=\"black\" points=\"13425,-78.3 13421.5,-68.3 13418,-78.3 13425,-78.3\"/>\n</g>\n<!-- 337 -->\n<g id=\"node338\" class=\"node\">\n<title>337</title>\n<path fill=\"#b5daf5\" stroke=\"black\" d=\"M13593,-68C13593,-68 13504,-68 13504,-68 13498,-68 13492,-62 13492,-56 13492,-56 13492,-12 13492,-12 13492,-6 13498,0 13504,0 13504,0 13593,0 13593,0 13599,0 13605,-6 13605,-12 13605,-12 13605,-56 13605,-56 13605,-62 13599,-68 13593,-68\"/>\n<text text-anchor=\"middle\" x=\"13548.5\" y=\"-52.8\" font-family=\"Helvetica,sans-Serif\" font-size=\"14.00\">gini = 0.474</text>\n<text text-anchor=\"middle\" x=\"13548.5\" y=\"-37.8\" font-family=\"Helvetica,sans-Serif\" font-size=\"14.00\">samples = 96</text>\n<text text-anchor=\"middle\" x=\"13548.5\" y=\"-22.8\" font-family=\"Helvetica,sans-Serif\" font-size=\"14.00\">value = [37, 59]</text>\n<text text-anchor=\"middle\" x=\"13548.5\" y=\"-7.8\" font-family=\"Helvetica,sans-Serif\" font-size=\"14.00\">class = sim</text>\n</g>\n<!-- 335&#45;&gt;337 -->\n<g id=\"edge337\" class=\"edge\">\n<title>335&#45;&gt;337</title>\n<path fill=\"none\" stroke=\"black\" d=\"M13468.79,-103.73C13479.69,-94.33 13491.26,-84.35 13502.12,-74.99\"/>\n<polygon fill=\"black\" stroke=\"black\" points=\"13504.59,-77.48 13509.88,-68.3 13500.02,-72.18 13504.59,-77.48\"/>\n</g>\n<!-- 339 -->\n<g id=\"node340\" class=\"node\">\n<title>339</title>\n<path fill=\"#399de5\" stroke=\"black\" d=\"M13610,-179.5C13610,-179.5 13529,-179.5 13529,-179.5 13523,-179.5 13517,-173.5 13517,-167.5 13517,-167.5 13517,-123.5 13517,-123.5 13517,-117.5 13523,-111.5 13529,-111.5 13529,-111.5 13610,-111.5 13610,-111.5 13616,-111.5 13622,-117.5 13622,-123.5 13622,-123.5 13622,-167.5 13622,-167.5 13622,-173.5 13616,-179.5 13610,-179.5\"/>\n<text text-anchor=\"middle\" x=\"13569.5\" y=\"-164.3\" font-family=\"Helvetica,sans-Serif\" font-size=\"14.00\">gini = 0.0</text>\n<text text-anchor=\"middle\" x=\"13569.5\" y=\"-149.3\" font-family=\"Helvetica,sans-Serif\" font-size=\"14.00\">samples = 10</text>\n<text text-anchor=\"middle\" x=\"13569.5\" y=\"-134.3\" font-family=\"Helvetica,sans-Serif\" font-size=\"14.00\">value = [0, 10]</text>\n<text text-anchor=\"middle\" x=\"13569.5\" y=\"-119.3\" font-family=\"Helvetica,sans-Serif\" font-size=\"14.00\">class = sim</text>\n</g>\n<!-- 338&#45;&gt;339 -->\n<g id=\"edge339\" class=\"edge\">\n<title>338&#45;&gt;339</title>\n<path fill=\"none\" stroke=\"black\" d=\"M13569.5,-222.91C13569.5,-212.2 13569.5,-200.62 13569.5,-189.78\"/>\n<polygon fill=\"black\" stroke=\"black\" points=\"13573,-189.67 13569.5,-179.67 13566,-189.67 13573,-189.67\"/>\n</g>\n<!-- 340 -->\n<g id=\"node341\" class=\"node\">\n<title>340</title>\n<path fill=\"#90c8f0\" stroke=\"black\" d=\"M13818.5,-187C13818.5,-187 13652.5,-187 13652.5,-187 13646.5,-187 13640.5,-181 13640.5,-175 13640.5,-175 13640.5,-116 13640.5,-116 13640.5,-110 13646.5,-104 13652.5,-104 13652.5,-104 13818.5,-104 13818.5,-104 13824.5,-104 13830.5,-110 13830.5,-116 13830.5,-116 13830.5,-175 13830.5,-175 13830.5,-181 13824.5,-187 13818.5,-187\"/>\n<text text-anchor=\"middle\" x=\"13735.5\" y=\"-171.8\" font-family=\"Helvetica,sans-Serif\" font-size=\"14.00\">km_por_ano &lt;= 36944.008</text>\n<text text-anchor=\"middle\" x=\"13735.5\" y=\"-156.8\" font-family=\"Helvetica,sans-Serif\" font-size=\"14.00\">gini = 0.423</text>\n<text text-anchor=\"middle\" x=\"13735.5\" y=\"-141.8\" font-family=\"Helvetica,sans-Serif\" font-size=\"14.00\">samples = 23</text>\n<text text-anchor=\"middle\" x=\"13735.5\" y=\"-126.8\" font-family=\"Helvetica,sans-Serif\" font-size=\"14.00\">value = [7, 16]</text>\n<text text-anchor=\"middle\" x=\"13735.5\" y=\"-111.8\" font-family=\"Helvetica,sans-Serif\" font-size=\"14.00\">class = sim</text>\n</g>\n<!-- 338&#45;&gt;340 -->\n<g id=\"edge340\" class=\"edge\">\n<title>338&#45;&gt;340</title>\n<path fill=\"none\" stroke=\"black\" d=\"M13627.09,-222.91C13640.87,-213.2 13655.68,-202.76 13669.79,-192.81\"/>\n<polygon fill=\"black\" stroke=\"black\" points=\"13671.85,-195.64 13678.01,-187.02 13667.82,-189.92 13671.85,-195.64\"/>\n</g>\n<!-- 341 -->\n<g id=\"node342\" class=\"node\">\n<title>341</title>\n<path fill=\"#b7dbf6\" stroke=\"black\" d=\"M13746,-68C13746,-68 13665,-68 13665,-68 13659,-68 13653,-62 13653,-56 13653,-56 13653,-12 13653,-12 13653,-6 13659,0 13665,0 13665,0 13746,0 13746,0 13752,0 13758,-6 13758,-12 13758,-12 13758,-56 13758,-56 13758,-62 13752,-68 13746,-68\"/>\n<text text-anchor=\"middle\" x=\"13705.5\" y=\"-52.8\" font-family=\"Helvetica,sans-Serif\" font-size=\"14.00\">gini = 0.475</text>\n<text text-anchor=\"middle\" x=\"13705.5\" y=\"-37.8\" font-family=\"Helvetica,sans-Serif\" font-size=\"14.00\">samples = 18</text>\n<text text-anchor=\"middle\" x=\"13705.5\" y=\"-22.8\" font-family=\"Helvetica,sans-Serif\" font-size=\"14.00\">value = [7, 11]</text>\n<text text-anchor=\"middle\" x=\"13705.5\" y=\"-7.8\" font-family=\"Helvetica,sans-Serif\" font-size=\"14.00\">class = sim</text>\n</g>\n<!-- 340&#45;&gt;341 -->\n<g id=\"edge341\" class=\"edge\">\n<title>340&#45;&gt;341</title>\n<path fill=\"none\" stroke=\"black\" d=\"M13724.33,-103.73C13722.03,-95.34 13719.6,-86.47 13717.28,-78.01\"/>\n<polygon fill=\"black\" stroke=\"black\" points=\"13720.64,-77.02 13714.62,-68.3 13713.89,-78.87 13720.64,-77.02\"/>\n</g>\n<!-- 342 -->\n<g id=\"node343\" class=\"node\">\n<title>342</title>\n<path fill=\"#399de5\" stroke=\"black\" d=\"M13861,-68C13861,-68 13788,-68 13788,-68 13782,-68 13776,-62 13776,-56 13776,-56 13776,-12 13776,-12 13776,-6 13782,0 13788,0 13788,0 13861,0 13861,0 13867,0 13873,-6 13873,-12 13873,-12 13873,-56 13873,-56 13873,-62 13867,-68 13861,-68\"/>\n<text text-anchor=\"middle\" x=\"13824.5\" y=\"-52.8\" font-family=\"Helvetica,sans-Serif\" font-size=\"14.00\">gini = 0.0</text>\n<text text-anchor=\"middle\" x=\"13824.5\" y=\"-37.8\" font-family=\"Helvetica,sans-Serif\" font-size=\"14.00\">samples = 5</text>\n<text text-anchor=\"middle\" x=\"13824.5\" y=\"-22.8\" font-family=\"Helvetica,sans-Serif\" font-size=\"14.00\">value = [0, 5]</text>\n<text text-anchor=\"middle\" x=\"13824.5\" y=\"-7.8\" font-family=\"Helvetica,sans-Serif\" font-size=\"14.00\">class = sim</text>\n</g>\n<!-- 340&#45;&gt;342 -->\n<g id=\"edge342\" class=\"edge\">\n<title>340&#45;&gt;342</title>\n<path fill=\"none\" stroke=\"black\" d=\"M13768.64,-103.73C13775.98,-94.7 13783.76,-85.12 13791.11,-76.08\"/>\n<polygon fill=\"black\" stroke=\"black\" points=\"13793.84,-78.27 13797.43,-68.3 13788.41,-73.85 13793.84,-78.27\"/>\n</g>\n</g>\n</svg>\n",
      "text/plain": [
       "<graphviz.sources.Source at 0x20aa43ad360>"
      ]
     },
     "execution_count": 31,
     "metadata": {},
     "output_type": "execute_result"
    }
   ],
   "source": [
    "from sklearn.tree import export_graphviz\n",
    "import graphviz\n",
    "\n",
    "modelo.fit(x_azar, y_azar)\n",
    "features = x_azar.columns\n",
    "dot_data = export_graphviz(modelo, out_file=None, filled=True, rounded=True, \n",
    "                            class_names=[\"não\", \"sim\"], \n",
    "                            feature_names =  features)\n",
    "\n",
    "graph = graphviz.Source(dot_data)\n",
    "graph"
   ]
  },
  {
   "cell_type": "markdown",
   "metadata": {},
   "source": [
    "# Explorando hiper parâmetros em uma dimensão"
   ]
  },
  {
   "cell_type": "code",
   "execution_count": 32,
   "metadata": {},
   "outputs": [
    {
     "name": "stdout",
     "output_type": "stream",
     "text": [
      "Arvore max_depth = 1, Treino = 75.79, teste = 76\n",
      "Arvore max_depth = 2, Treino = 75.79, teste = 76\n",
      "Arvore max_depth = 3, Treino = 78.76, teste = 79\n",
      "Arvore max_depth = 4, Treino = 78.79, teste = 79\n",
      "Arvore max_depth = 5, Treino = 78.89, teste = 79\n",
      "Arvore max_depth = 6, Treino = 79.16, teste = 78\n",
      "Arvore max_depth = 7, Treino = 79.49, teste = 78\n",
      "Arvore max_depth = 8, Treino = 79.88, teste = 78\n",
      "Arvore max_depth = 9, Treino = 80.35, teste = 78\n",
      "Arvore max_depth = 10, Treino = 81.03, teste = 77\n",
      "Arvore max_depth = 11, Treino = 81.80, teste = 77\n",
      "Arvore max_depth = 12, Treino = 82.68, teste = 76\n",
      "Arvore max_depth = 13, Treino = 83.69, teste = 76\n",
      "Arvore max_depth = 14, Treino = 84.72, teste = 76\n",
      "Arvore max_depth = 15, Treino = 85.71, teste = 75\n",
      "Arvore max_depth = 16, Treino = 86.78, teste = 75\n",
      "Arvore max_depth = 17, Treino = 87.85, teste = 75\n",
      "Arvore max_depth = 18, Treino = 88.96, teste = 74\n",
      "Arvore max_depth = 19, Treino = 89.94, teste = 74\n",
      "Arvore max_depth = 20, Treino = 90.88, teste = 74\n",
      "Arvore max_depth = 21, Treino = 91.90, teste = 73\n",
      "Arvore max_depth = 22, Treino = 92.73, teste = 74\n",
      "Arvore max_depth = 23, Treino = 93.63, teste = 73\n",
      "Arvore max_depth = 24, Treino = 94.48, teste = 73\n",
      "Arvore max_depth = 25, Treino = 95.18, teste = 73\n",
      "Arvore max_depth = 26, Treino = 95.91, teste = 73\n",
      "Arvore max_depth = 27, Treino = 96.54, teste = 73\n",
      "Arvore max_depth = 28, Treino = 97.16, teste = 73\n",
      "Arvore max_depth = 29, Treino = 97.72, teste = 73\n",
      "Arvore max_depth = 30, Treino = 98.19, teste = 73\n",
      "Arvore max_depth = 31, Treino = 98.57, teste = 72\n",
      "Arvore max_depth = 32, Treino = 98.91, teste = 73\n"
     ]
    },
    {
     "data": {
      "text/html": [
       "<div>\n",
       "<style scoped>\n",
       "    .dataframe tbody tr th:only-of-type {\n",
       "        vertical-align: middle;\n",
       "    }\n",
       "\n",
       "    .dataframe tbody tr th {\n",
       "        vertical-align: top;\n",
       "    }\n",
       "\n",
       "    .dataframe thead th {\n",
       "        text-align: right;\n",
       "    }\n",
       "</style>\n",
       "<table border=\"1\" class=\"dataframe\">\n",
       "  <thead>\n",
       "    <tr style=\"text-align: right;\">\n",
       "      <th></th>\n",
       "      <th>max_depth</th>\n",
       "      <th>train</th>\n",
       "      <th>test</th>\n",
       "    </tr>\n",
       "  </thead>\n",
       "  <tbody>\n",
       "    <tr>\n",
       "      <th>0</th>\n",
       "      <td>1</td>\n",
       "      <td>75.791383</td>\n",
       "      <td>75.800636</td>\n",
       "    </tr>\n",
       "    <tr>\n",
       "      <th>1</th>\n",
       "      <td>2</td>\n",
       "      <td>75.791383</td>\n",
       "      <td>75.800636</td>\n",
       "    </tr>\n",
       "    <tr>\n",
       "      <th>2</th>\n",
       "      <td>3</td>\n",
       "      <td>78.757964</td>\n",
       "      <td>78.674575</td>\n",
       "    </tr>\n",
       "    <tr>\n",
       "      <th>3</th>\n",
       "      <td>4</td>\n",
       "      <td>78.786833</td>\n",
       "      <td>78.644803</td>\n",
       "    </tr>\n",
       "    <tr>\n",
       "      <th>4</th>\n",
       "      <td>5</td>\n",
       "      <td>78.891330</td>\n",
       "      <td>78.538318</td>\n",
       "    </tr>\n",
       "  </tbody>\n",
       "</table>\n",
       "</div>"
      ],
      "text/plain": [
       "   max_depth      train       test\n",
       "0          1  75.791383  75.800636\n",
       "1          2  75.791383  75.800636\n",
       "2          3  78.757964  78.674575\n",
       "3          4  78.786833  78.644803\n",
       "4          5  78.891330  78.538318"
      ]
     },
     "execution_count": 32,
     "metadata": {},
     "output_type": "execute_result"
    }
   ],
   "source": [
    "from sklearn.model_selection import GroupKFold\n",
    "\n",
    "def roda_arvore_de_decisao(max_depth):\n",
    "  SEED = 301\n",
    "  np.random.seed(SEED)\n",
    "\n",
    "  cv = GroupKFold(n_splits = 10)\n",
    "  modelo = DecisionTreeClassifier(max_depth=max_depth)\n",
    "  results = cross_validate(modelo, x_azar, y_azar, cv = cv, groups = dados.modelo, return_train_score=True)\n",
    "  train_score = results['train_score'].mean() * 100\n",
    "  test_score = results['test_score'].mean() * 100\n",
    "  print(\"Arvore max_depth = %d, Treino = %.2f, teste = %2.f\" % (max_depth, train_score, test_score))\n",
    "  tabela = [max_depth, train_score, test_score]\n",
    "  return tabela\n",
    "\n",
    "\n",
    "resultados = [roda_arvore_de_decisao(i) for i in range (1, 33)]\n",
    "resultados = pd.DataFrame(resultados, columns=[\"max_depth\", \"train\", \"test\"])\n",
    "resultados.head()"
   ]
  },
  {
   "cell_type": "markdown",
   "metadata": {},
   "source": [
    "O que esperaríamos é que, quanto maior fosse a profundidade da árvore, mais decisões ela precisaria tomar e mais perfeito seria o seu treinamento em relação aos nossos testes. Porém, a partir de max_depth=3, que possui uma média 78.67, temos uma queda constante até max_depth = 32, que possui a média mais baixa, 72.52.\n",
    "\n",
    "Isso acontece porque, quando treinamos a nossa árvore, ela aprende e cria as suas ramificações. Com profundidades muito grandes, a árvore se torna tão perfeita para os dados de treino que falha nos dados de teste - quase como se ela tivesse memorizado o teste."
   ]
  },
  {
   "cell_type": "markdown",
   "metadata": {},
   "source": [
    "O código assim analisa todas as 32 camadas da arvore de ligação assim ele analisa seu teste e treino. Observa-se que os treinos de todas as camadas vão aumentando cradativamente com forme as camadas, mas o teste vai diminuido, so que seu apce se encontra nas camas 3 a 5 onde são altas.\n",
    "\n",
    "Pode se nota fácilmente na tabela a cima"
   ]
  },
  {
   "cell_type": "code",
   "execution_count": 33,
   "metadata": {},
   "outputs": [
    {
     "data": {
      "text/plain": [
       "<AxesSubplot:xlabel='max_depth', ylabel='train'>"
      ]
     },
     "execution_count": 33,
     "metadata": {},
     "output_type": "execute_result"
    },
    {
     "data": {
      "image/png": "[encoded data removed]",
      "text/plain": [
       "<Figure size 432x288 with 1 Axes>"
      ]
     },
     "metadata": {
      "needs_background": "light"
     },
     "output_type": "display_data"
    }
   ],
   "source": [
    "import seaborn as sns\n",
    "\n",
    "sns.lineplot(x = \"max_depth\", y = \"train\", data = resultados)"
   ]
  },
  {
   "cell_type": "markdown",
   "metadata": {},
   "source": [
    "# OVERFIT: ficou \"perfeito\" para o treino mas ruim para o teste"
   ]
  },
  {
   "cell_type": "markdown",
   "metadata": {},
   "source": [
    "Atraves do gráfico da para nota que o Treino aumenta bastante conforme o max_depth, mas o teste diminui, mas ambos chegam no mesmo ponto e depois se separam.\n"
   ]
  },
  {
   "cell_type": "code",
   "execution_count": 34,
   "metadata": {},
   "outputs": [
    {
     "data": {
      "text/html": [
       "<div>\n",
       "<style scoped>\n",
       "    .dataframe tbody tr th:only-of-type {\n",
       "        vertical-align: middle;\n",
       "    }\n",
       "\n",
       "    .dataframe tbody tr th {\n",
       "        vertical-align: top;\n",
       "    }\n",
       "\n",
       "    .dataframe thead th {\n",
       "        text-align: right;\n",
       "    }\n",
       "</style>\n",
       "<table border=\"1\" class=\"dataframe\">\n",
       "  <thead>\n",
       "    <tr style=\"text-align: right;\">\n",
       "      <th></th>\n",
       "      <th>max_depth</th>\n",
       "      <th>train</th>\n",
       "      <th>test</th>\n",
       "    </tr>\n",
       "  </thead>\n",
       "  <tbody>\n",
       "    <tr>\n",
       "      <th>2</th>\n",
       "      <td>3</td>\n",
       "      <td>78.757964</td>\n",
       "      <td>78.674575</td>\n",
       "    </tr>\n",
       "    <tr>\n",
       "      <th>3</th>\n",
       "      <td>4</td>\n",
       "      <td>78.786833</td>\n",
       "      <td>78.644803</td>\n",
       "    </tr>\n",
       "    <tr>\n",
       "      <th>4</th>\n",
       "      <td>5</td>\n",
       "      <td>78.891330</td>\n",
       "      <td>78.538318</td>\n",
       "    </tr>\n",
       "    <tr>\n",
       "      <th>5</th>\n",
       "      <td>6</td>\n",
       "      <td>79.158097</td>\n",
       "      <td>78.356171</td>\n",
       "    </tr>\n",
       "    <tr>\n",
       "      <th>6</th>\n",
       "      <td>7</td>\n",
       "      <td>79.485853</td>\n",
       "      <td>78.041815</td>\n",
       "    </tr>\n",
       "  </tbody>\n",
       "</table>\n",
       "</div>"
      ],
      "text/plain": [
       "   max_depth      train       test\n",
       "2          3  78.757964  78.674575\n",
       "3          4  78.786833  78.644803\n",
       "4          5  78.891330  78.538318\n",
       "5          6  79.158097  78.356171\n",
       "6          7  79.485853  78.041815"
      ]
     },
     "execution_count": 34,
     "metadata": {},
     "output_type": "execute_result"
    },
    {
     "data": {
      "image/png": "[encoded data removed]",
      "text/plain": [
       "<Figure size 432x288 with 1 Axes>"
      ]
     },
     "metadata": {
      "needs_background": "light"
     },
     "output_type": "display_data"
    }
   ],
   "source": [
    "import matplotlib.pyplot as plt\n",
    "\n",
    "sns.lineplot(x = \"max_depth\", y = \"train\", data = resultados)\n",
    "sns.lineplot(x = \"max_depth\", y = \"test\", data = resultados)\n",
    "plt.legend([\"Treino\", \"Teste\"])\n",
    "\n",
    "resultados.sort_values(\"test\", ascending=False).head()"
   ]
  },
  {
   "cell_type": "markdown",
   "metadata": {},
   "source": [
    "# Explorando hiper parâmetros em 2 dimensões"
   ]
  },
  {
   "cell_type": "code",
   "execution_count": 35,
   "metadata": {},
   "outputs": [
    {
     "name": "stdout",
     "output_type": "stream",
     "text": [
      "Arvore max_depth = 1, min_samples_leaf = 32, treino = 75.79, teste = 75.80\n",
      "Arvore max_depth = 1, min_samples_leaf = 64, treino = 75.79, teste = 75.80\n",
      "Arvore max_depth = 1, min_samples_leaf = 128, treino = 75.79, teste = 75.80\n",
      "Arvore max_depth = 1, min_samples_leaf = 256, treino = 75.79, teste = 75.80\n",
      "Arvore max_depth = 2, min_samples_leaf = 32, treino = 75.79, teste = 75.80\n",
      "Arvore max_depth = 2, min_samples_leaf = 64, treino = 75.79, teste = 75.80\n",
      "Arvore max_depth = 2, min_samples_leaf = 128, treino = 75.79, teste = 75.80\n",
      "Arvore max_depth = 2, min_samples_leaf = 256, treino = 75.79, teste = 75.80\n",
      "Arvore max_depth = 3, min_samples_leaf = 32, treino = 78.75, teste = 78.69\n",
      "Arvore max_depth = 3, min_samples_leaf = 64, treino = 78.75, teste = 78.69\n",
      "Arvore max_depth = 3, min_samples_leaf = 128, treino = 78.75, teste = 78.69\n",
      "Arvore max_depth = 3, min_samples_leaf = 256, treino = 78.75, teste = 78.69\n",
      "Arvore max_depth = 4, min_samples_leaf = 32, treino = 78.75, teste = 78.69\n",
      "Arvore max_depth = 4, min_samples_leaf = 64, treino = 78.75, teste = 78.69\n",
      "Arvore max_depth = 4, min_samples_leaf = 128, treino = 78.75, teste = 78.69\n",
      "Arvore max_depth = 4, min_samples_leaf = 256, treino = 78.75, teste = 78.69\n",
      "Arvore max_depth = 5, min_samples_leaf = 32, treino = 78.81, teste = 78.53\n",
      "Arvore max_depth = 5, min_samples_leaf = 64, treino = 78.77, teste = 78.63\n",
      "Arvore max_depth = 5, min_samples_leaf = 128, treino = 78.75, teste = 78.63\n",
      "Arvore max_depth = 5, min_samples_leaf = 256, treino = 78.75, teste = 78.69\n",
      "Arvore max_depth = 6, min_samples_leaf = 32, treino = 78.93, teste = 77.90\n",
      "Arvore max_depth = 6, min_samples_leaf = 64, treino = 78.89, teste = 77.62\n",
      "Arvore max_depth = 6, min_samples_leaf = 128, treino = 78.87, teste = 77.96\n",
      "Arvore max_depth = 6, min_samples_leaf = 256, treino = 78.83, teste = 77.95\n",
      "Arvore max_depth = 7, min_samples_leaf = 32, treino = 79.12, teste = 77.83\n",
      "Arvore max_depth = 7, min_samples_leaf = 64, treino = 79.17, teste = 77.73\n",
      "Arvore max_depth = 7, min_samples_leaf = 128, treino = 78.97, teste = 77.87\n",
      "Arvore max_depth = 7, min_samples_leaf = 256, treino = 78.86, teste = 77.75\n",
      "Arvore max_depth = 8, min_samples_leaf = 32, treino = 79.34, teste = 77.64\n",
      "Arvore max_depth = 8, min_samples_leaf = 64, treino = 79.33, teste = 77.41\n",
      "Arvore max_depth = 8, min_samples_leaf = 128, treino = 79.06, teste = 77.85\n",
      "Arvore max_depth = 8, min_samples_leaf = 256, treino = 78.89, teste = 77.52\n",
      "Arvore max_depth = 9, min_samples_leaf = 32, treino = 79.51, teste = 77.66\n",
      "Arvore max_depth = 9, min_samples_leaf = 64, treino = 79.41, teste = 77.42\n",
      "Arvore max_depth = 9, min_samples_leaf = 128, treino = 79.14, teste = 77.86\n",
      "Arvore max_depth = 9, min_samples_leaf = 256, treino = 78.89, teste = 77.49\n",
      "Arvore max_depth = 10, min_samples_leaf = 32, treino = 79.80, teste = 77.25\n",
      "Arvore max_depth = 10, min_samples_leaf = 64, treino = 79.50, teste = 77.41\n",
      "Arvore max_depth = 10, min_samples_leaf = 128, treino = 79.17, teste = 77.84\n",
      "Arvore max_depth = 10, min_samples_leaf = 256, treino = 78.89, teste = 77.49\n",
      "Arvore max_depth = 11, min_samples_leaf = 32, treino = 79.97, teste = 77.17\n",
      "Arvore max_depth = 11, min_samples_leaf = 64, treino = 79.62, teste = 77.37\n",
      "Arvore max_depth = 11, min_samples_leaf = 128, treino = 79.17, teste = 77.88\n",
      "Arvore max_depth = 11, min_samples_leaf = 256, treino = 78.89, teste = 77.49\n",
      "Arvore max_depth = 12, min_samples_leaf = 32, treino = 80.17, teste = 77.03\n",
      "Arvore max_depth = 12, min_samples_leaf = 64, treino = 79.66, teste = 77.29\n",
      "Arvore max_depth = 12, min_samples_leaf = 128, treino = 79.17, teste = 77.88\n",
      "Arvore max_depth = 12, min_samples_leaf = 256, treino = 78.89, teste = 77.49\n",
      "Arvore max_depth = 13, min_samples_leaf = 32, treino = 80.33, teste = 76.71\n",
      "Arvore max_depth = 13, min_samples_leaf = 64, treino = 79.73, teste = 77.16\n",
      "Arvore max_depth = 13, min_samples_leaf = 128, treino = 79.17, teste = 77.88\n",
      "Arvore max_depth = 13, min_samples_leaf = 256, treino = 78.89, teste = 77.49\n",
      "Arvore max_depth = 14, min_samples_leaf = 32, treino = 80.48, teste = 76.58\n",
      "Arvore max_depth = 14, min_samples_leaf = 64, treino = 79.75, teste = 77.21\n",
      "Arvore max_depth = 14, min_samples_leaf = 128, treino = 79.17, teste = 77.88\n",
      "Arvore max_depth = 14, min_samples_leaf = 256, treino = 78.89, teste = 77.49\n",
      "Arvore max_depth = 15, min_samples_leaf = 32, treino = 80.58, teste = 76.73\n",
      "Arvore max_depth = 15, min_samples_leaf = 64, treino = 79.76, teste = 77.29\n",
      "Arvore max_depth = 15, min_samples_leaf = 128, treino = 79.17, teste = 77.88\n",
      "Arvore max_depth = 15, min_samples_leaf = 256, treino = 78.89, teste = 77.49\n",
      "Arvore max_depth = 16, min_samples_leaf = 32, treino = 80.67, teste = 76.67\n",
      "Arvore max_depth = 16, min_samples_leaf = 64, treino = 79.79, teste = 77.27\n",
      "Arvore max_depth = 16, min_samples_leaf = 128, treino = 79.17, teste = 77.88\n",
      "Arvore max_depth = 16, min_samples_leaf = 256, treino = 78.89, teste = 77.49\n",
      "Arvore max_depth = 17, min_samples_leaf = 32, treino = 80.78, teste = 76.72\n",
      "Arvore max_depth = 17, min_samples_leaf = 64, treino = 79.80, teste = 77.31\n",
      "Arvore max_depth = 17, min_samples_leaf = 128, treino = 79.17, teste = 77.88\n",
      "Arvore max_depth = 17, min_samples_leaf = 256, treino = 78.89, teste = 77.49\n",
      "Arvore max_depth = 18, min_samples_leaf = 32, treino = 80.82, teste = 76.78\n",
      "Arvore max_depth = 18, min_samples_leaf = 64, treino = 79.81, teste = 77.33\n",
      "Arvore max_depth = 18, min_samples_leaf = 128, treino = 79.17, teste = 77.88\n",
      "Arvore max_depth = 18, min_samples_leaf = 256, treino = 78.89, teste = 77.49\n",
      "Arvore max_depth = 19, min_samples_leaf = 32, treino = 80.87, teste = 76.78\n",
      "Arvore max_depth = 19, min_samples_leaf = 64, treino = 79.81, teste = 77.33\n",
      "Arvore max_depth = 19, min_samples_leaf = 128, treino = 79.17, teste = 77.88\n",
      "Arvore max_depth = 19, min_samples_leaf = 256, treino = 78.89, teste = 77.49\n",
      "Arvore max_depth = 20, min_samples_leaf = 32, treino = 80.87, teste = 76.81\n",
      "Arvore max_depth = 20, min_samples_leaf = 64, treino = 79.81, teste = 77.33\n",
      "Arvore max_depth = 20, min_samples_leaf = 128, treino = 79.17, teste = 77.88\n",
      "Arvore max_depth = 20, min_samples_leaf = 256, treino = 78.89, teste = 77.49\n",
      "Arvore max_depth = 21, min_samples_leaf = 32, treino = 80.87, teste = 76.81\n",
      "Arvore max_depth = 21, min_samples_leaf = 64, treino = 79.81, teste = 77.33\n",
      "Arvore max_depth = 21, min_samples_leaf = 128, treino = 79.17, teste = 77.88\n",
      "Arvore max_depth = 21, min_samples_leaf = 256, treino = 78.89, teste = 77.49\n",
      "Arvore max_depth = 22, min_samples_leaf = 32, treino = 80.87, teste = 76.81\n",
      "Arvore max_depth = 22, min_samples_leaf = 64, treino = 79.81, teste = 77.33\n",
      "Arvore max_depth = 22, min_samples_leaf = 128, treino = 79.17, teste = 77.88\n",
      "Arvore max_depth = 22, min_samples_leaf = 256, treino = 78.89, teste = 77.49\n",
      "Arvore max_depth = 23, min_samples_leaf = 32, treino = 80.87, teste = 76.81\n",
      "Arvore max_depth = 23, min_samples_leaf = 64, treino = 79.81, teste = 77.33\n",
      "Arvore max_depth = 23, min_samples_leaf = 128, treino = 79.17, teste = 77.88\n",
      "Arvore max_depth = 23, min_samples_leaf = 256, treino = 78.89, teste = 77.49\n",
      "Arvore max_depth = 24, min_samples_leaf = 32, treino = 80.87, teste = 76.81\n",
      "Arvore max_depth = 24, min_samples_leaf = 64, treino = 79.81, teste = 77.33\n",
      "Arvore max_depth = 24, min_samples_leaf = 128, treino = 79.17, teste = 77.88\n",
      "Arvore max_depth = 24, min_samples_leaf = 256, treino = 78.89, teste = 77.49\n",
      "Arvore max_depth = 25, min_samples_leaf = 32, treino = 80.87, teste = 76.81\n",
      "Arvore max_depth = 25, min_samples_leaf = 64, treino = 79.81, teste = 77.33\n",
      "Arvore max_depth = 25, min_samples_leaf = 128, treino = 79.17, teste = 77.88\n",
      "Arvore max_depth = 25, min_samples_leaf = 256, treino = 78.89, teste = 77.49\n",
      "Arvore max_depth = 26, min_samples_leaf = 32, treino = 80.87, teste = 76.81\n",
      "Arvore max_depth = 26, min_samples_leaf = 64, treino = 79.81, teste = 77.33\n",
      "Arvore max_depth = 26, min_samples_leaf = 128, treino = 79.17, teste = 77.88\n",
      "Arvore max_depth = 26, min_samples_leaf = 256, treino = 78.89, teste = 77.49\n",
      "Arvore max_depth = 27, min_samples_leaf = 32, treino = 80.87, teste = 76.81\n",
      "Arvore max_depth = 27, min_samples_leaf = 64, treino = 79.81, teste = 77.33\n",
      "Arvore max_depth = 27, min_samples_leaf = 128, treino = 79.17, teste = 77.88\n",
      "Arvore max_depth = 27, min_samples_leaf = 256, treino = 78.89, teste = 77.49\n",
      "Arvore max_depth = 28, min_samples_leaf = 32, treino = 80.87, teste = 76.81\n",
      "Arvore max_depth = 28, min_samples_leaf = 64, treino = 79.81, teste = 77.33\n",
      "Arvore max_depth = 28, min_samples_leaf = 128, treino = 79.17, teste = 77.88\n",
      "Arvore max_depth = 28, min_samples_leaf = 256, treino = 78.89, teste = 77.49\n",
      "Arvore max_depth = 29, min_samples_leaf = 32, treino = 80.87, teste = 76.81\n",
      "Arvore max_depth = 29, min_samples_leaf = 64, treino = 79.81, teste = 77.33\n",
      "Arvore max_depth = 29, min_samples_leaf = 128, treino = 79.17, teste = 77.88\n",
      "Arvore max_depth = 29, min_samples_leaf = 256, treino = 78.89, teste = 77.49\n",
      "Arvore max_depth = 30, min_samples_leaf = 32, treino = 80.87, teste = 76.81\n",
      "Arvore max_depth = 30, min_samples_leaf = 64, treino = 79.81, teste = 77.33\n",
      "Arvore max_depth = 30, min_samples_leaf = 128, treino = 79.17, teste = 77.88\n",
      "Arvore max_depth = 30, min_samples_leaf = 256, treino = 78.89, teste = 77.49\n",
      "Arvore max_depth = 31, min_samples_leaf = 32, treino = 80.87, teste = 76.81\n",
      "Arvore max_depth = 31, min_samples_leaf = 64, treino = 79.81, teste = 77.33\n",
      "Arvore max_depth = 31, min_samples_leaf = 128, treino = 79.17, teste = 77.88\n",
      "Arvore max_depth = 31, min_samples_leaf = 256, treino = 78.89, teste = 77.49\n",
      "Arvore max_depth = 32, min_samples_leaf = 32, treino = 80.87, teste = 76.81\n",
      "Arvore max_depth = 32, min_samples_leaf = 64, treino = 79.81, teste = 77.33\n",
      "Arvore max_depth = 32, min_samples_leaf = 128, treino = 79.17, teste = 77.88\n",
      "Arvore max_depth = 32, min_samples_leaf = 256, treino = 78.89, teste = 77.49\n"
     ]
    },
    {
     "data": {
      "text/html": [
       "<div>\n",
       "<style scoped>\n",
       "    .dataframe tbody tr th:only-of-type {\n",
       "        vertical-align: middle;\n",
       "    }\n",
       "\n",
       "    .dataframe tbody tr th {\n",
       "        vertical-align: top;\n",
       "    }\n",
       "\n",
       "    .dataframe thead th {\n",
       "        text-align: right;\n",
       "    }\n",
       "</style>\n",
       "<table border=\"1\" class=\"dataframe\">\n",
       "  <thead>\n",
       "    <tr style=\"text-align: right;\">\n",
       "      <th></th>\n",
       "      <th>max_depth</th>\n",
       "      <th>min_samples_leaf</th>\n",
       "      <th>train</th>\n",
       "      <th>test</th>\n",
       "    </tr>\n",
       "  </thead>\n",
       "  <tbody>\n",
       "    <tr>\n",
       "      <th>15</th>\n",
       "      <td>4</td>\n",
       "      <td>256</td>\n",
       "      <td>78.752411</td>\n",
       "      <td>78.694626</td>\n",
       "    </tr>\n",
       "    <tr>\n",
       "      <th>8</th>\n",
       "      <td>3</td>\n",
       "      <td>32</td>\n",
       "      <td>78.752411</td>\n",
       "      <td>78.694626</td>\n",
       "    </tr>\n",
       "    <tr>\n",
       "      <th>19</th>\n",
       "      <td>5</td>\n",
       "      <td>256</td>\n",
       "      <td>78.752411</td>\n",
       "      <td>78.694626</td>\n",
       "    </tr>\n",
       "    <tr>\n",
       "      <th>14</th>\n",
       "      <td>4</td>\n",
       "      <td>128</td>\n",
       "      <td>78.752411</td>\n",
       "      <td>78.694626</td>\n",
       "    </tr>\n",
       "    <tr>\n",
       "      <th>13</th>\n",
       "      <td>4</td>\n",
       "      <td>64</td>\n",
       "      <td>78.752411</td>\n",
       "      <td>78.694626</td>\n",
       "    </tr>\n",
       "  </tbody>\n",
       "</table>\n",
       "</div>"
      ],
      "text/plain": [
       "    max_depth  min_samples_leaf      train       test\n",
       "15          4               256  78.752411  78.694626\n",
       "8           3                32  78.752411  78.694626\n",
       "19          5               256  78.752411  78.694626\n",
       "14          4               128  78.752411  78.694626\n",
       "13          4                64  78.752411  78.694626"
      ]
     },
     "execution_count": 35,
     "metadata": {},
     "output_type": "execute_result"
    }
   ],
   "source": [
    "#AGORA TEREMOS 2 DIMENSÕES#\n",
    "from sklearn.model_selection import GroupKFold\n",
    "\n",
    "def roda_arvore_de_decisao(max_depth, min_samples_leaf):\n",
    "  SEED = 301\n",
    "  np.random.seed(SEED)\n",
    "\n",
    "  cv = GroupKFold(n_splits = 10)\n",
    "  modelo = DecisionTreeClassifier(max_depth=max_depth, min_samples_leaf = min_samples_leaf)\n",
    "  results = cross_validate(modelo, x_azar, y_azar, cv = cv, groups = dados.modelo, return_train_score=True)\n",
    "  train_score = results['train_score'].mean() * 100\n",
    "  test_score = results['test_score'].mean() * 100\n",
    "  print(\"Arvore max_depth = %d, min_samples_leaf = %d, treino = %.2f, teste = %.2f\" % (max_depth, min_samples_leaf, train_score, test_score))\n",
    "  tabela = [max_depth, min_samples_leaf, train_score, test_score]\n",
    "  return tabela\n",
    "\n",
    "def busca():\n",
    "  resultados = []\n",
    "  for max_depth in range(1,33):\n",
    "    for min_samples_leaf in [32, 64, 128, 256]:\n",
    "        tabela = roda_arvore_de_decisao(max_depth, min_samples_leaf)\n",
    "        resultados.append(tabela)\n",
    "  resultados = pd.DataFrame(resultados, columns= [\"max_depth\",\"min_samples_leaf\",\"train\",\"test\"])\n",
    "  return resultados\n",
    "\n",
    "resultados = busca()\n",
    "resultados.head()\n",
    "resultados.sort_values(\"test\", ascending=False).head()"
   ]
  },
  {
   "cell_type": "markdown",
   "metadata": {},
   "source": [
    "O min_samples_leaf faz com que seja rodado 2 parâmetros assim ele testa o 32, 64, 128 e 256 em orde do 1 ate o 32 1 por 1. Assim fica fácil e rapido a leitura dos nossos dados\n",
    "OBS: Os melhores resultados foram na camada 4.\n"
   ]
  },
  {
   "cell_type": "code",
   "execution_count": 36,
   "metadata": {},
   "outputs": [
    {
     "data": {
      "text/html": [
       "<div>\n",
       "<style scoped>\n",
       "    .dataframe tbody tr th:only-of-type {\n",
       "        vertical-align: middle;\n",
       "    }\n",
       "\n",
       "    .dataframe tbody tr th {\n",
       "        vertical-align: top;\n",
       "    }\n",
       "\n",
       "    .dataframe thead th {\n",
       "        text-align: right;\n",
       "    }\n",
       "</style>\n",
       "<table border=\"1\" class=\"dataframe\">\n",
       "  <thead>\n",
       "    <tr style=\"text-align: right;\">\n",
       "      <th></th>\n",
       "      <th>max_depth</th>\n",
       "      <th>min_samples_leaf</th>\n",
       "      <th>train</th>\n",
       "      <th>test</th>\n",
       "    </tr>\n",
       "  </thead>\n",
       "  <tbody>\n",
       "    <tr>\n",
       "      <th>max_depth</th>\n",
       "      <td>1.000000e+00</td>\n",
       "      <td>-2.780775e-16</td>\n",
       "      <td>0.546745</td>\n",
       "      <td>-0.076752</td>\n",
       "    </tr>\n",
       "    <tr>\n",
       "      <th>min_samples_leaf</th>\n",
       "      <td>-2.780775e-16</td>\n",
       "      <td>1.000000e+00</td>\n",
       "      <td>-0.401317</td>\n",
       "      <td>0.232541</td>\n",
       "    </tr>\n",
       "    <tr>\n",
       "      <th>train</th>\n",
       "      <td>5.467452e-01</td>\n",
       "      <td>-4.013175e-01</td>\n",
       "      <td>1.000000</td>\n",
       "      <td>0.140134</td>\n",
       "    </tr>\n",
       "    <tr>\n",
       "      <th>test</th>\n",
       "      <td>-7.675206e-02</td>\n",
       "      <td>2.325410e-01</td>\n",
       "      <td>0.140134</td>\n",
       "      <td>1.000000</td>\n",
       "    </tr>\n",
       "  </tbody>\n",
       "</table>\n",
       "</div>"
      ],
      "text/plain": [
       "                     max_depth  min_samples_leaf     train      test\n",
       "max_depth         1.000000e+00     -2.780775e-16  0.546745 -0.076752\n",
       "min_samples_leaf -2.780775e-16      1.000000e+00 -0.401317  0.232541\n",
       "train             5.467452e-01     -4.013175e-01  1.000000  0.140134\n",
       "test             -7.675206e-02      2.325410e-01  0.140134  1.000000"
      ]
     },
     "execution_count": 36,
     "metadata": {},
     "output_type": "execute_result"
    }
   ],
   "source": [
    "resultados.corr()"
   ]
  },
  {
   "cell_type": "markdown",
   "metadata": {},
   "source": [
    "Quanto mais alto o valor, mais correlacionados estão os elementos na comparação. Por exemplo, quanto maior o max_depth, maior será o max_depth. Essa é uma conclusão bastante óbvia, afinal o max_depth é ele mesmo, mas que nos ajuda a entender o que está acontecendo. Além disso, repare resultados positivos (maiores que 0) representam uma correlação positiva, e negativos uma correlação negativa.\n",
    "\n",
    "Outras conclusões que podemos tirar a partir desses resultados:\n",
    "\n",
    "quando max_depth cresce, o treino parece crescer também\n",
    "\n",
    "quando min_samples_leaf cresce, o treino cai\n",
    "\n",
    "quando max_depth sobe, o teste cai\n",
    "\n",
    "quando min_samples_leaf sobe, o teste sobe"
   ]
  },
  {
   "cell_type": "code",
   "execution_count": 37,
   "metadata": {},
   "outputs": [
    {
     "data": {
      "text/plain": [
       "<seaborn.axisgrid.PairGrid at 0x20aac8e2e90>"
      ]
     },
     "execution_count": 37,
     "metadata": {},
     "output_type": "execute_result"
    },
    {
     "data": {
      "image/png": "[encoded data removed]",
      "text/plain": [
       "<Figure size 720x720 with 20 Axes>"
      ]
     },
     "metadata": {
      "needs_background": "light"
     },
     "output_type": "display_data"
    }
   ],
   "source": [
    "sns.pairplot(resultados)"
   ]
  },
  {
   "cell_type": "markdown",
   "metadata": {},
   "source": [
    "No gráfico do canto inferior esquerdo, temos 4 linhas que provavelmente representam cada valor de min_samples_leaf. Entretanto, ao menos nesse gráfico, é impossível visualizarmos qual valor cada linha representa."
   ]
  },
  {
   "cell_type": "code",
   "execution_count": null,
   "metadata": {},
   "outputs": [],
   "source": []
  },
  {
   "cell_type": "code",
   "execution_count": 38,
   "metadata": {},
   "outputs": [
    {
     "name": "stderr",
     "output_type": "stream",
     "text": [
      "C:\\Users\\joaor\\AppData\\Local\\Temp\\ipykernel_4652\\3622300031.py:12: DeprecationWarning: `np.bool` is a deprecated alias for the builtin `bool`. To silence this warning, use `bool` by itself. Doing this will not modify any behavior and is safe. If you specifically wanted the numpy scalar type, use `np.bool_` here.\n",
      "Deprecated in NumPy 1.20; for more details and guidance: https://numpy.org/devdocs/release/1.20.0-notes.html#deprecations\n",
      "  mask = np.zeros_like(corr, dtype=np.bool)\n"
     ]
    },
    {
     "data": {
      "text/plain": [
       "<AxesSubplot:>"
      ]
     },
     "execution_count": 38,
     "metadata": {},
     "output_type": "execute_result"
    },
    {
     "data": {
      "image/png": "[encoded data removed]",
      "text/plain": [
       "<Figure size 792x648 with 2 Axes>"
      ]
     },
     "metadata": {},
     "output_type": "display_data"
    }
   ],
   "source": [
    "corr = resultados.corr()\n",
    "\n",
    "from string import ascii_letters\n",
    "import numpy as np\n",
    "import pandas as pd\n",
    "import seaborn as sns\n",
    "import matplotlib.pyplot as plt\n",
    "\n",
    "sns.set(style=\"white\")\n",
    "\n",
    "# Generate a mask for the upper triangle\n",
    "mask = np.zeros_like(corr, dtype=np.bool)\n",
    "mask[np.triu_indices_from(mask)] = True\n",
    "\n",
    "# Set up the matplotlib figure\n",
    "f, ax = plt.subplots(figsize=(11, 9))\n",
    "\n",
    "# Generate a custom diverging colormap\n",
    "cmap = sns.diverging_palette(220, 10, as_cmap=True)\n",
    "\n",
    "# Draw the heatmap with the mask and correct aspect ratio\n",
    "sns.heatmap(corr, mask=mask, cmap=cmap, vmax=.3, center=0,\n",
    "            square=True, linewidths=.5, cbar_kws={\"shrink\": .5})"
   ]
  },
  {
   "cell_type": "code",
   "execution_count": 39,
   "metadata": {},
   "outputs": [
    {
     "name": "stdout",
     "output_type": "stream",
     "text": [
      "Arvore max_depth = 1, min_samples_leaf = 128, treino = 75.79, teste = 75.80\n",
      "Arvore max_depth = 1, min_samples_leaf = 192, treino = 75.79, teste = 75.80\n",
      "Arvore max_depth = 1, min_samples_leaf = 256, treino = 75.79, teste = 75.80\n",
      "Arvore max_depth = 1, min_samples_leaf = 512, treino = 75.79, teste = 75.80\n",
      "Arvore max_depth = 2, min_samples_leaf = 128, treino = 75.79, teste = 75.80\n",
      "Arvore max_depth = 2, min_samples_leaf = 192, treino = 75.79, teste = 75.80\n",
      "Arvore max_depth = 2, min_samples_leaf = 256, treino = 75.79, teste = 75.80\n",
      "Arvore max_depth = 2, min_samples_leaf = 512, treino = 75.79, teste = 75.80\n",
      "Arvore max_depth = 3, min_samples_leaf = 128, treino = 78.75, teste = 78.69\n",
      "Arvore max_depth = 3, min_samples_leaf = 192, treino = 78.75, teste = 78.69\n",
      "Arvore max_depth = 3, min_samples_leaf = 256, treino = 78.75, teste = 78.69\n",
      "Arvore max_depth = 3, min_samples_leaf = 512, treino = 77.52, teste = 77.51\n",
      "Arvore max_depth = 4, min_samples_leaf = 128, treino = 78.75, teste = 78.69\n",
      "Arvore max_depth = 4, min_samples_leaf = 192, treino = 78.75, teste = 78.69\n",
      "Arvore max_depth = 4, min_samples_leaf = 256, treino = 78.75, teste = 78.69\n",
      "Arvore max_depth = 4, min_samples_leaf = 512, treino = 77.52, teste = 77.51\n",
      "Arvore max_depth = 5, min_samples_leaf = 128, treino = 78.75, teste = 78.63\n",
      "Arvore max_depth = 5, min_samples_leaf = 192, treino = 78.75, teste = 78.63\n",
      "Arvore max_depth = 5, min_samples_leaf = 256, treino = 78.75, teste = 78.69\n",
      "Arvore max_depth = 5, min_samples_leaf = 512, treino = 77.52, teste = 77.51\n",
      "Arvore max_depth = 6, min_samples_leaf = 128, treino = 78.87, teste = 77.96\n",
      "Arvore max_depth = 6, min_samples_leaf = 192, treino = 78.84, teste = 77.89\n",
      "Arvore max_depth = 6, min_samples_leaf = 256, treino = 78.83, teste = 77.95\n",
      "Arvore max_depth = 6, min_samples_leaf = 512, treino = 77.52, teste = 77.51\n",
      "Arvore max_depth = 7, min_samples_leaf = 128, treino = 78.97, teste = 77.87\n",
      "Arvore max_depth = 7, min_samples_leaf = 192, treino = 78.87, teste = 77.69\n",
      "Arvore max_depth = 7, min_samples_leaf = 256, treino = 78.86, teste = 77.75\n",
      "Arvore max_depth = 7, min_samples_leaf = 512, treino = 77.52, teste = 77.51\n",
      "Arvore max_depth = 8, min_samples_leaf = 128, treino = 79.06, teste = 77.85\n",
      "Arvore max_depth = 8, min_samples_leaf = 192, treino = 78.93, teste = 77.68\n",
      "Arvore max_depth = 8, min_samples_leaf = 256, treino = 78.89, teste = 77.52\n",
      "Arvore max_depth = 8, min_samples_leaf = 512, treino = 77.52, teste = 77.51\n",
      "Arvore max_depth = 9, min_samples_leaf = 128, treino = 79.14, teste = 77.86\n",
      "Arvore max_depth = 9, min_samples_leaf = 192, treino = 78.97, teste = 77.65\n",
      "Arvore max_depth = 9, min_samples_leaf = 256, treino = 78.89, teste = 77.49\n",
      "Arvore max_depth = 9, min_samples_leaf = 512, treino = 77.52, teste = 77.51\n",
      "Arvore max_depth = 10, min_samples_leaf = 128, treino = 79.17, teste = 77.84\n",
      "Arvore max_depth = 10, min_samples_leaf = 192, treino = 78.97, teste = 77.49\n",
      "Arvore max_depth = 10, min_samples_leaf = 256, treino = 78.89, teste = 77.49\n",
      "Arvore max_depth = 10, min_samples_leaf = 512, treino = 77.52, teste = 77.51\n",
      "Arvore max_depth = 11, min_samples_leaf = 128, treino = 79.17, teste = 77.88\n",
      "Arvore max_depth = 11, min_samples_leaf = 192, treino = 78.97, teste = 77.49\n",
      "Arvore max_depth = 11, min_samples_leaf = 256, treino = 78.89, teste = 77.49\n",
      "Arvore max_depth = 11, min_samples_leaf = 512, treino = 77.52, teste = 77.51\n",
      "Arvore max_depth = 12, min_samples_leaf = 128, treino = 79.17, teste = 77.88\n",
      "Arvore max_depth = 12, min_samples_leaf = 192, treino = 78.97, teste = 77.49\n",
      "Arvore max_depth = 12, min_samples_leaf = 256, treino = 78.89, teste = 77.49\n",
      "Arvore max_depth = 12, min_samples_leaf = 512, treino = 77.52, teste = 77.51\n",
      "Arvore max_depth = 13, min_samples_leaf = 128, treino = 79.17, teste = 77.88\n",
      "Arvore max_depth = 13, min_samples_leaf = 192, treino = 78.97, teste = 77.49\n",
      "Arvore max_depth = 13, min_samples_leaf = 256, treino = 78.89, teste = 77.49\n",
      "Arvore max_depth = 13, min_samples_leaf = 512, treino = 77.52, teste = 77.51\n",
      "Arvore max_depth = 14, min_samples_leaf = 128, treino = 79.17, teste = 77.88\n",
      "Arvore max_depth = 14, min_samples_leaf = 192, treino = 78.97, teste = 77.49\n",
      "Arvore max_depth = 14, min_samples_leaf = 256, treino = 78.89, teste = 77.49\n",
      "Arvore max_depth = 14, min_samples_leaf = 512, treino = 77.52, teste = 77.51\n",
      "Arvore max_depth = 15, min_samples_leaf = 128, treino = 79.17, teste = 77.88\n",
      "Arvore max_depth = 15, min_samples_leaf = 192, treino = 78.97, teste = 77.49\n",
      "Arvore max_depth = 15, min_samples_leaf = 256, treino = 78.89, teste = 77.49\n",
      "Arvore max_depth = 15, min_samples_leaf = 512, treino = 77.52, teste = 77.51\n",
      "Arvore max_depth = 16, min_samples_leaf = 128, treino = 79.17, teste = 77.88\n",
      "Arvore max_depth = 16, min_samples_leaf = 192, treino = 78.97, teste = 77.49\n",
      "Arvore max_depth = 16, min_samples_leaf = 256, treino = 78.89, teste = 77.49\n",
      "Arvore max_depth = 16, min_samples_leaf = 512, treino = 77.52, teste = 77.51\n",
      "Arvore max_depth = 17, min_samples_leaf = 128, treino = 79.17, teste = 77.88\n",
      "Arvore max_depth = 17, min_samples_leaf = 192, treino = 78.97, teste = 77.49\n",
      "Arvore max_depth = 17, min_samples_leaf = 256, treino = 78.89, teste = 77.49\n",
      "Arvore max_depth = 17, min_samples_leaf = 512, treino = 77.52, teste = 77.51\n",
      "Arvore max_depth = 18, min_samples_leaf = 128, treino = 79.17, teste = 77.88\n",
      "Arvore max_depth = 18, min_samples_leaf = 192, treino = 78.97, teste = 77.49\n",
      "Arvore max_depth = 18, min_samples_leaf = 256, treino = 78.89, teste = 77.49\n",
      "Arvore max_depth = 18, min_samples_leaf = 512, treino = 77.52, teste = 77.51\n",
      "Arvore max_depth = 19, min_samples_leaf = 128, treino = 79.17, teste = 77.88\n",
      "Arvore max_depth = 19, min_samples_leaf = 192, treino = 78.97, teste = 77.49\n",
      "Arvore max_depth = 19, min_samples_leaf = 256, treino = 78.89, teste = 77.49\n",
      "Arvore max_depth = 19, min_samples_leaf = 512, treino = 77.52, teste = 77.51\n",
      "Arvore max_depth = 20, min_samples_leaf = 128, treino = 79.17, teste = 77.88\n",
      "Arvore max_depth = 20, min_samples_leaf = 192, treino = 78.97, teste = 77.49\n",
      "Arvore max_depth = 20, min_samples_leaf = 256, treino = 78.89, teste = 77.49\n",
      "Arvore max_depth = 20, min_samples_leaf = 512, treino = 77.52, teste = 77.51\n",
      "Arvore max_depth = 21, min_samples_leaf = 128, treino = 79.17, teste = 77.88\n",
      "Arvore max_depth = 21, min_samples_leaf = 192, treino = 78.97, teste = 77.49\n",
      "Arvore max_depth = 21, min_samples_leaf = 256, treino = 78.89, teste = 77.49\n",
      "Arvore max_depth = 21, min_samples_leaf = 512, treino = 77.52, teste = 77.51\n",
      "Arvore max_depth = 22, min_samples_leaf = 128, treino = 79.17, teste = 77.88\n",
      "Arvore max_depth = 22, min_samples_leaf = 192, treino = 78.97, teste = 77.49\n",
      "Arvore max_depth = 22, min_samples_leaf = 256, treino = 78.89, teste = 77.49\n",
      "Arvore max_depth = 22, min_samples_leaf = 512, treino = 77.52, teste = 77.51\n",
      "Arvore max_depth = 23, min_samples_leaf = 128, treino = 79.17, teste = 77.88\n",
      "Arvore max_depth = 23, min_samples_leaf = 192, treino = 78.97, teste = 77.49\n",
      "Arvore max_depth = 23, min_samples_leaf = 256, treino = 78.89, teste = 77.49\n",
      "Arvore max_depth = 23, min_samples_leaf = 512, treino = 77.52, teste = 77.51\n",
      "Arvore max_depth = 24, min_samples_leaf = 128, treino = 79.17, teste = 77.88\n",
      "Arvore max_depth = 24, min_samples_leaf = 192, treino = 78.97, teste = 77.49\n",
      "Arvore max_depth = 24, min_samples_leaf = 256, treino = 78.89, teste = 77.49\n",
      "Arvore max_depth = 24, min_samples_leaf = 512, treino = 77.52, teste = 77.51\n",
      "Arvore max_depth = 25, min_samples_leaf = 128, treino = 79.17, teste = 77.88\n",
      "Arvore max_depth = 25, min_samples_leaf = 192, treino = 78.97, teste = 77.49\n",
      "Arvore max_depth = 25, min_samples_leaf = 256, treino = 78.89, teste = 77.49\n",
      "Arvore max_depth = 25, min_samples_leaf = 512, treino = 77.52, teste = 77.51\n",
      "Arvore max_depth = 26, min_samples_leaf = 128, treino = 79.17, teste = 77.88\n",
      "Arvore max_depth = 26, min_samples_leaf = 192, treino = 78.97, teste = 77.49\n",
      "Arvore max_depth = 26, min_samples_leaf = 256, treino = 78.89, teste = 77.49\n",
      "Arvore max_depth = 26, min_samples_leaf = 512, treino = 77.52, teste = 77.51\n",
      "Arvore max_depth = 27, min_samples_leaf = 128, treino = 79.17, teste = 77.88\n",
      "Arvore max_depth = 27, min_samples_leaf = 192, treino = 78.97, teste = 77.49\n",
      "Arvore max_depth = 27, min_samples_leaf = 256, treino = 78.89, teste = 77.49\n",
      "Arvore max_depth = 27, min_samples_leaf = 512, treino = 77.52, teste = 77.51\n",
      "Arvore max_depth = 28, min_samples_leaf = 128, treino = 79.17, teste = 77.88\n",
      "Arvore max_depth = 28, min_samples_leaf = 192, treino = 78.97, teste = 77.49\n",
      "Arvore max_depth = 28, min_samples_leaf = 256, treino = 78.89, teste = 77.49\n",
      "Arvore max_depth = 28, min_samples_leaf = 512, treino = 77.52, teste = 77.51\n",
      "Arvore max_depth = 29, min_samples_leaf = 128, treino = 79.17, teste = 77.88\n",
      "Arvore max_depth = 29, min_samples_leaf = 192, treino = 78.97, teste = 77.49\n",
      "Arvore max_depth = 29, min_samples_leaf = 256, treino = 78.89, teste = 77.49\n",
      "Arvore max_depth = 29, min_samples_leaf = 512, treino = 77.52, teste = 77.51\n",
      "Arvore max_depth = 30, min_samples_leaf = 128, treino = 79.17, teste = 77.88\n",
      "Arvore max_depth = 30, min_samples_leaf = 192, treino = 78.97, teste = 77.49\n",
      "Arvore max_depth = 30, min_samples_leaf = 256, treino = 78.89, teste = 77.49\n",
      "Arvore max_depth = 30, min_samples_leaf = 512, treino = 77.52, teste = 77.51\n",
      "Arvore max_depth = 31, min_samples_leaf = 128, treino = 79.17, teste = 77.88\n",
      "Arvore max_depth = 31, min_samples_leaf = 192, treino = 78.97, teste = 77.49\n",
      "Arvore max_depth = 31, min_samples_leaf = 256, treino = 78.89, teste = 77.49\n",
      "Arvore max_depth = 31, min_samples_leaf = 512, treino = 77.52, teste = 77.51\n",
      "Arvore max_depth = 32, min_samples_leaf = 128, treino = 79.17, teste = 77.88\n",
      "Arvore max_depth = 32, min_samples_leaf = 192, treino = 78.97, teste = 77.49\n",
      "Arvore max_depth = 32, min_samples_leaf = 256, treino = 78.89, teste = 77.49\n",
      "Arvore max_depth = 32, min_samples_leaf = 512, treino = 77.52, teste = 77.51\n"
     ]
    },
    {
     "data": {
      "text/html": [
       "<div>\n",
       "<style scoped>\n",
       "    .dataframe tbody tr th:only-of-type {\n",
       "        vertical-align: middle;\n",
       "    }\n",
       "\n",
       "    .dataframe tbody tr th {\n",
       "        vertical-align: top;\n",
       "    }\n",
       "\n",
       "    .dataframe thead th {\n",
       "        text-align: right;\n",
       "    }\n",
       "</style>\n",
       "<table border=\"1\" class=\"dataframe\">\n",
       "  <thead>\n",
       "    <tr style=\"text-align: right;\">\n",
       "      <th></th>\n",
       "      <th>max_depth</th>\n",
       "      <th>min_samples_leaf</th>\n",
       "      <th>train</th>\n",
       "      <th>test</th>\n",
       "    </tr>\n",
       "  </thead>\n",
       "  <tbody>\n",
       "    <tr>\n",
       "      <th>0</th>\n",
       "      <td>1</td>\n",
       "      <td>128</td>\n",
       "      <td>75.791383</td>\n",
       "      <td>75.800636</td>\n",
       "    </tr>\n",
       "    <tr>\n",
       "      <th>1</th>\n",
       "      <td>1</td>\n",
       "      <td>192</td>\n",
       "      <td>75.791383</td>\n",
       "      <td>75.800636</td>\n",
       "    </tr>\n",
       "    <tr>\n",
       "      <th>2</th>\n",
       "      <td>1</td>\n",
       "      <td>256</td>\n",
       "      <td>75.791383</td>\n",
       "      <td>75.800636</td>\n",
       "    </tr>\n",
       "    <tr>\n",
       "      <th>3</th>\n",
       "      <td>1</td>\n",
       "      <td>512</td>\n",
       "      <td>75.791383</td>\n",
       "      <td>75.800636</td>\n",
       "    </tr>\n",
       "    <tr>\n",
       "      <th>4</th>\n",
       "      <td>2</td>\n",
       "      <td>128</td>\n",
       "      <td>75.791383</td>\n",
       "      <td>75.800636</td>\n",
       "    </tr>\n",
       "  </tbody>\n",
       "</table>\n",
       "</div>"
      ],
      "text/plain": [
       "   max_depth  min_samples_leaf      train       test\n",
       "0          1               128  75.791383  75.800636\n",
       "1          1               192  75.791383  75.800636\n",
       "2          1               256  75.791383  75.800636\n",
       "3          1               512  75.791383  75.800636\n",
       "4          2               128  75.791383  75.800636"
      ]
     },
     "execution_count": 39,
     "metadata": {},
     "output_type": "execute_result"
    }
   ],
   "source": [
    "def busca():\n",
    "    resultados = []\n",
    "    for max_depth in range(1,33):\n",
    "        for min_samples_leaf in [128, 192, 256, 512]:\n",
    "            tabela = roda_arvore_de_decisao(max_depth, min_samples_leaf)\n",
    "            resultados.append(tabela)\n",
    "    resultados = pd.DataFrame(resultados, columns= [\"max_depth\",\"min_samples_leaf\",\"train\",\"test\"])\n",
    "    return resultados\n",
    "\n",
    "resultados = busca()\n",
    "resultados.head()"
   ]
  },
  {
   "cell_type": "code",
   "execution_count": 40,
   "metadata": {},
   "outputs": [
    {
     "name": "stderr",
     "output_type": "stream",
     "text": [
      "C:\\Users\\joaor\\AppData\\Local\\Temp\\ipykernel_4652\\3622300031.py:12: DeprecationWarning: `np.bool` is a deprecated alias for the builtin `bool`. To silence this warning, use `bool` by itself. Doing this will not modify any behavior and is safe. If you specifically wanted the numpy scalar type, use `np.bool_` here.\n",
      "Deprecated in NumPy 1.20; for more details and guidance: https://numpy.org/devdocs/release/1.20.0-notes.html#deprecations\n",
      "  mask = np.zeros_like(corr, dtype=np.bool)\n"
     ]
    },
    {
     "data": {
      "text/plain": [
       "<AxesSubplot:>"
      ]
     },
     "execution_count": 40,
     "metadata": {},
     "output_type": "execute_result"
    },
    {
     "data": {
      "image/png": "[encoded data removed]",
      "text/plain": [
       "<Figure size 792x648 with 2 Axes>"
      ]
     },
     "metadata": {},
     "output_type": "display_data"
    }
   ],
   "source": [
    "corr = resultados.corr()\n",
    "\n",
    "from string import ascii_letters\n",
    "import numpy as np\n",
    "import pandas as pd\n",
    "import seaborn as sns\n",
    "import matplotlib.pyplot as plt\n",
    "\n",
    "sns.set(style=\"white\")\n",
    "\n",
    "# Generate a mask for the upper triangle\n",
    "mask = np.zeros_like(corr, dtype=np.bool)\n",
    "mask[np.triu_indices_from(mask)] = True\n",
    "\n",
    "# Set up the matplotlib figure\n",
    "f, ax = plt.subplots(figsize=(11, 9))\n",
    "\n",
    "# Generate a custom diverging colormap\n",
    "cmap = sns.diverging_palette(220, 10, as_cmap=True)\n",
    "\n",
    "# Draw the heatmap with the mask and correct aspect ratio\n",
    "sns.heatmap(corr, mask=mask, cmap=cmap, vmax=.3, center=0,\n",
    "            square=True, linewidths=.5, cbar_kws={\"shrink\": .5})"
   ]
  },
  {
   "cell_type": "code",
   "execution_count": 41,
   "metadata": {},
   "outputs": [
    {
     "data": {
      "text/html": [
       "<div>\n",
       "<style scoped>\n",
       "    .dataframe tbody tr th:only-of-type {\n",
       "        vertical-align: middle;\n",
       "    }\n",
       "\n",
       "    .dataframe tbody tr th {\n",
       "        vertical-align: top;\n",
       "    }\n",
       "\n",
       "    .dataframe thead th {\n",
       "        text-align: right;\n",
       "    }\n",
       "</style>\n",
       "<table border=\"1\" class=\"dataframe\">\n",
       "  <thead>\n",
       "    <tr style=\"text-align: right;\">\n",
       "      <th></th>\n",
       "      <th>max_depth</th>\n",
       "      <th>min_samples_leaf</th>\n",
       "      <th>train</th>\n",
       "      <th>test</th>\n",
       "    </tr>\n",
       "  </thead>\n",
       "  <tbody>\n",
       "    <tr>\n",
       "      <th>18</th>\n",
       "      <td>5</td>\n",
       "      <td>256</td>\n",
       "      <td>78.752411</td>\n",
       "      <td>78.694626</td>\n",
       "    </tr>\n",
       "    <tr>\n",
       "      <th>14</th>\n",
       "      <td>4</td>\n",
       "      <td>256</td>\n",
       "      <td>78.752411</td>\n",
       "      <td>78.694626</td>\n",
       "    </tr>\n",
       "    <tr>\n",
       "      <th>13</th>\n",
       "      <td>4</td>\n",
       "      <td>192</td>\n",
       "      <td>78.752411</td>\n",
       "      <td>78.694626</td>\n",
       "    </tr>\n",
       "    <tr>\n",
       "      <th>12</th>\n",
       "      <td>4</td>\n",
       "      <td>128</td>\n",
       "      <td>78.752411</td>\n",
       "      <td>78.694626</td>\n",
       "    </tr>\n",
       "    <tr>\n",
       "      <th>8</th>\n",
       "      <td>3</td>\n",
       "      <td>128</td>\n",
       "      <td>78.752411</td>\n",
       "      <td>78.694626</td>\n",
       "    </tr>\n",
       "  </tbody>\n",
       "</table>\n",
       "</div>"
      ],
      "text/plain": [
       "    max_depth  min_samples_leaf      train       test\n",
       "18          5               256  78.752411  78.694626\n",
       "14          4               256  78.752411  78.694626\n",
       "13          4               192  78.752411  78.694626\n",
       "12          4               128  78.752411  78.694626\n",
       "8           3               128  78.752411  78.694626"
      ]
     },
     "execution_count": 41,
     "metadata": {},
     "output_type": "execute_result"
    }
   ],
   "source": [
    "resultados.sort_values(\"test\", ascending=False).head()"
   ]
  },
  {
   "cell_type": "markdown",
   "metadata": {},
   "source": [
    "Essa é uma maneira de tentarmos encontrar os valores que mais otimizam o nosso estimador, com o menor índice de erro e o maior nível de qualidade. Fizemos isso com dois parâmetros, mas é possível trabalhar com um número ainda maior!"
   ]
  },
  {
   "cell_type": "code",
   "execution_count": 42,
   "metadata": {},
   "outputs": [
    {
     "data": {
      "text/html": [
       "<div>\n",
       "<style scoped>\n",
       "    .dataframe tbody tr th:only-of-type {\n",
       "        vertical-align: middle;\n",
       "    }\n",
       "\n",
       "    .dataframe tbody tr th {\n",
       "        vertical-align: top;\n",
       "    }\n",
       "\n",
       "    .dataframe thead th {\n",
       "        text-align: right;\n",
       "    }\n",
       "</style>\n",
       "<table border=\"1\" class=\"dataframe\">\n",
       "  <thead>\n",
       "    <tr style=\"text-align: right;\">\n",
       "      <th></th>\n",
       "      <th>max_depth</th>\n",
       "      <th>min_samples_leaf</th>\n",
       "      <th>min_samples_split</th>\n",
       "      <th>train</th>\n",
       "      <th>test</th>\n",
       "    </tr>\n",
       "  </thead>\n",
       "  <tbody>\n",
       "    <tr>\n",
       "      <th>0</th>\n",
       "      <td>1</td>\n",
       "      <td>32</td>\n",
       "      <td>32</td>\n",
       "      <td>75.791383</td>\n",
       "      <td>75.800636</td>\n",
       "    </tr>\n",
       "    <tr>\n",
       "      <th>1</th>\n",
       "      <td>1</td>\n",
       "      <td>32</td>\n",
       "      <td>64</td>\n",
       "      <td>75.791383</td>\n",
       "      <td>75.800636</td>\n",
       "    </tr>\n",
       "    <tr>\n",
       "      <th>2</th>\n",
       "      <td>1</td>\n",
       "      <td>32</td>\n",
       "      <td>128</td>\n",
       "      <td>75.791383</td>\n",
       "      <td>75.800636</td>\n",
       "    </tr>\n",
       "    <tr>\n",
       "      <th>3</th>\n",
       "      <td>1</td>\n",
       "      <td>32</td>\n",
       "      <td>256</td>\n",
       "      <td>75.791383</td>\n",
       "      <td>75.800636</td>\n",
       "    </tr>\n",
       "    <tr>\n",
       "      <th>4</th>\n",
       "      <td>1</td>\n",
       "      <td>64</td>\n",
       "      <td>32</td>\n",
       "      <td>75.791383</td>\n",
       "      <td>75.800636</td>\n",
       "    </tr>\n",
       "  </tbody>\n",
       "</table>\n",
       "</div>"
      ],
      "text/plain": [
       "   max_depth  min_samples_leaf  min_samples_split      train       test\n",
       "0          1                32                 32  75.791383  75.800636\n",
       "1          1                32                 64  75.791383  75.800636\n",
       "2          1                32                128  75.791383  75.800636\n",
       "3          1                32                256  75.791383  75.800636\n",
       "4          1                64                 32  75.791383  75.800636"
      ]
     },
     "execution_count": 42,
     "metadata": {},
     "output_type": "execute_result"
    }
   ],
   "source": [
    "def roda_arvore_de_decisao(max_depth, min_samples_leaf, min_samples_split):\n",
    "  SEED = 301\n",
    "  np.random.seed(SEED)\n",
    "\n",
    "  cv = GroupKFold(n_splits = 10)\n",
    "  modelo = DecisionTreeClassifier(max_depth=max_depth, min_samples_leaf = min_samples_leaf, min_samples_split = min_samples_split)\n",
    "  results = cross_validate(modelo, x_azar, y_azar, cv = cv, groups = dados.modelo, return_train_score=True)\n",
    "  train_score = results['train_score'].mean() * 100\n",
    "  test_score = results['test_score'].mean() * 100\n",
    "\n",
    "  tabela = [max_depth, min_samples_leaf, min_samples_split, train_score, test_score]\n",
    "  return tabela\n",
    "\n",
    "def busca():\n",
    "  resultados = []\n",
    "  for max_depth in range(1,33):\n",
    "    for min_samples_leaf in [32, 64, 128, 256]:\n",
    "        for min_samples_split in [32, 64, 128, 256]:\n",
    "          tabela = roda_arvore_de_decisao(max_depth, min_samples_leaf, min_samples_split)\n",
    "          resultados.append(tabela)\n",
    "  resultados = pd.DataFrame(resultados, columns= [\"max_depth\",\"min_samples_leaf\", \"min_samples_split\", \"train\",\"test\"])\n",
    "  return resultados\n",
    "\n",
    "resultados = busca()\n",
    "resultados.head()"
   ]
  },
  {
   "cell_type": "markdown",
   "metadata": {},
   "source": [
    "Repare que removemos o trecho no qual os resultados eram imprimidos na tela. Isso porque, além de aumentar o tempo de execução do nosso código - que já é 4 vezes maior que quando tínhamos apenas 2 parâmetros -, a lista de resultados não nos trazia nenhuma informação relevante, já que era praticamente ilegível, servindo apenas para acompanharmos o debug."
   ]
  },
  {
   "cell_type": "code",
   "execution_count": 43,
   "metadata": {},
   "outputs": [
    {
     "data": {
      "text/html": [
       "<div>\n",
       "<style scoped>\n",
       "    .dataframe tbody tr th:only-of-type {\n",
       "        vertical-align: middle;\n",
       "    }\n",
       "\n",
       "    .dataframe tbody tr th {\n",
       "        vertical-align: top;\n",
       "    }\n",
       "\n",
       "    .dataframe thead th {\n",
       "        text-align: right;\n",
       "    }\n",
       "</style>\n",
       "<table border=\"1\" class=\"dataframe\">\n",
       "  <thead>\n",
       "    <tr style=\"text-align: right;\">\n",
       "      <th></th>\n",
       "      <th>max_depth</th>\n",
       "      <th>min_samples_leaf</th>\n",
       "      <th>min_samples_split</th>\n",
       "      <th>train</th>\n",
       "      <th>test</th>\n",
       "    </tr>\n",
       "  </thead>\n",
       "  <tbody>\n",
       "    <tr>\n",
       "      <th>58</th>\n",
       "      <td>4</td>\n",
       "      <td>128</td>\n",
       "      <td>128</td>\n",
       "      <td>78.752411</td>\n",
       "      <td>78.694626</td>\n",
       "    </tr>\n",
       "    <tr>\n",
       "      <th>40</th>\n",
       "      <td>3</td>\n",
       "      <td>128</td>\n",
       "      <td>32</td>\n",
       "      <td>78.752411</td>\n",
       "      <td>78.694626</td>\n",
       "    </tr>\n",
       "    <tr>\n",
       "      <th>57</th>\n",
       "      <td>4</td>\n",
       "      <td>128</td>\n",
       "      <td>64</td>\n",
       "      <td>78.752411</td>\n",
       "      <td>78.694626</td>\n",
       "    </tr>\n",
       "    <tr>\n",
       "      <th>56</th>\n",
       "      <td>4</td>\n",
       "      <td>128</td>\n",
       "      <td>32</td>\n",
       "      <td>78.752411</td>\n",
       "      <td>78.694626</td>\n",
       "    </tr>\n",
       "    <tr>\n",
       "      <th>55</th>\n",
       "      <td>4</td>\n",
       "      <td>64</td>\n",
       "      <td>256</td>\n",
       "      <td>78.752411</td>\n",
       "      <td>78.694626</td>\n",
       "    </tr>\n",
       "  </tbody>\n",
       "</table>\n",
       "</div>"
      ],
      "text/plain": [
       "    max_depth  min_samples_leaf  min_samples_split      train       test\n",
       "58          4               128                128  78.752411  78.694626\n",
       "40          3               128                 32  78.752411  78.694626\n",
       "57          4               128                 64  78.752411  78.694626\n",
       "56          4               128                 32  78.752411  78.694626\n",
       "55          4                64                256  78.752411  78.694626"
      ]
     },
     "execution_count": 43,
     "metadata": {},
     "output_type": "execute_result"
    }
   ],
   "source": [
    "resultados.sort_values(\"test\", ascending=False).head()"
   ]
  },
  {
   "cell_type": "code",
   "execution_count": 44,
   "metadata": {},
   "outputs": [
    {
     "name": "stderr",
     "output_type": "stream",
     "text": [
      "C:\\Users\\joaor\\AppData\\Local\\Temp\\ipykernel_4652\\2638315470.py:12: DeprecationWarning: `np.bool` is a deprecated alias for the builtin `bool`. To silence this warning, use `bool` by itself. Doing this will not modify any behavior and is safe. If you specifically wanted the numpy scalar type, use `np.bool_` here.\n",
      "Deprecated in NumPy 1.20; for more details and guidance: https://numpy.org/devdocs/release/1.20.0-notes.html#deprecations\n",
      "  mask = np.zeros_like(corr, dtype=np.bool)\n"
     ]
    },
    {
     "data": {
      "text/plain": [
       "<AxesSubplot:>"
      ]
     },
     "execution_count": 44,
     "metadata": {},
     "output_type": "execute_result"
    },
    {
     "data": {
      "image/png": "[encoded data removed]",
      "text/plain": [
       "<Figure size 792x648 with 2 Axes>"
      ]
     },
     "metadata": {},
     "output_type": "display_data"
    }
   ],
   "source": [
    "corr = resultados.corr()\n",
    "\n",
    "from string import ascii_letters\n",
    "import numpy as np\n",
    "import pandas as pd\n",
    "import seaborn as sns\n",
    "import matplotlib.pyplot as plt\n",
    "\n",
    "sns.set(style=\"white\")\n",
    "\n",
    "# Generate a mask for the upper triangle\n",
    "mask = np.zeros_like(corr, dtype=np.bool)\n",
    "mask[np.triu_indices_from(mask)] = True\n",
    "\n",
    "# Set up the matplotlib figure\n",
    "f, ax = plt.subplots(figsize=(11, 9))\n",
    "\n",
    "# Generate a custom diverging colormap\n",
    "cmap = sns.diverging_palette(220, 10, as_cmap=True)\n",
    "\n",
    "# Draw the heatmap with the mask and correct aspect ratio\n",
    "sns.heatmap(corr, mask=mask, cmap=cmap, vmax=.3, center=0,\n",
    "            square=True, linewidths=.5, cbar_kws={\"shrink\": .5})\n"
   ]
  },
  {
   "cell_type": "markdown",
   "metadata": {},
   "source": [
    "Com base nesse gráfico e na análise dos 5 melhores resultados do teste, poderíamos tomar uma decisão entre continuar explorando esse espaço de parâmetros ou não.\n",
    "\n",
    "Outro fator que pode ser analisado é o tempo que a máquina virtual leva para treinar o algoritmo. O próprio cross_validate() tem, entre os seus resultados, a cronometragem do tempo. Portanto, basta extrairmos as variáveis referentes ao tempo e imprimirmos na tabela."
   ]
  },
  {
   "cell_type": "markdown",
   "metadata": {},
   "source": [
    "# Explorando 3 dimensões de hiper parâmetros"
   ]
  },
  {
   "cell_type": "code",
   "execution_count": 45,
   "metadata": {},
   "outputs": [
    {
     "data": {
      "text/html": [
       "<div>\n",
       "<style scoped>\n",
       "    .dataframe tbody tr th:only-of-type {\n",
       "        vertical-align: middle;\n",
       "    }\n",
       "\n",
       "    .dataframe tbody tr th {\n",
       "        vertical-align: top;\n",
       "    }\n",
       "\n",
       "    .dataframe thead th {\n",
       "        text-align: right;\n",
       "    }\n",
       "</style>\n",
       "<table border=\"1\" class=\"dataframe\">\n",
       "  <thead>\n",
       "    <tr style=\"text-align: right;\">\n",
       "      <th></th>\n",
       "      <th>max_depth</th>\n",
       "      <th>min_samples_leaf</th>\n",
       "      <th>min_samples_split</th>\n",
       "      <th>train</th>\n",
       "      <th>test</th>\n",
       "      <th>fit_time</th>\n",
       "      <th>score_time</th>\n",
       "    </tr>\n",
       "  </thead>\n",
       "  <tbody>\n",
       "    <tr>\n",
       "      <th>0</th>\n",
       "      <td>1</td>\n",
       "      <td>32</td>\n",
       "      <td>32</td>\n",
       "      <td>75.791383</td>\n",
       "      <td>75.800636</td>\n",
       "      <td>0.007499</td>\n",
       "      <td>0.001901</td>\n",
       "    </tr>\n",
       "    <tr>\n",
       "      <th>1</th>\n",
       "      <td>1</td>\n",
       "      <td>32</td>\n",
       "      <td>64</td>\n",
       "      <td>75.791383</td>\n",
       "      <td>75.800636</td>\n",
       "      <td>0.008399</td>\n",
       "      <td>0.002303</td>\n",
       "    </tr>\n",
       "    <tr>\n",
       "      <th>2</th>\n",
       "      <td>1</td>\n",
       "      <td>32</td>\n",
       "      <td>128</td>\n",
       "      <td>75.791383</td>\n",
       "      <td>75.800636</td>\n",
       "      <td>0.006198</td>\n",
       "      <td>0.001501</td>\n",
       "    </tr>\n",
       "    <tr>\n",
       "      <th>3</th>\n",
       "      <td>1</td>\n",
       "      <td>32</td>\n",
       "      <td>256</td>\n",
       "      <td>75.791383</td>\n",
       "      <td>75.800636</td>\n",
       "      <td>0.006100</td>\n",
       "      <td>0.001900</td>\n",
       "    </tr>\n",
       "    <tr>\n",
       "      <th>4</th>\n",
       "      <td>1</td>\n",
       "      <td>64</td>\n",
       "      <td>32</td>\n",
       "      <td>75.791383</td>\n",
       "      <td>75.800636</td>\n",
       "      <td>0.007100</td>\n",
       "      <td>0.001900</td>\n",
       "    </tr>\n",
       "  </tbody>\n",
       "</table>\n",
       "</div>"
      ],
      "text/plain": [
       "   max_depth  min_samples_leaf  min_samples_split      train       test  \\\n",
       "0          1                32                 32  75.791383  75.800636   \n",
       "1          1                32                 64  75.791383  75.800636   \n",
       "2          1                32                128  75.791383  75.800636   \n",
       "3          1                32                256  75.791383  75.800636   \n",
       "4          1                64                 32  75.791383  75.800636   \n",
       "\n",
       "   fit_time  score_time  \n",
       "0  0.007499    0.001901  \n",
       "1  0.008399    0.002303  \n",
       "2  0.006198    0.001501  \n",
       "3  0.006100    0.001900  \n",
       "4  0.007100    0.001900  "
      ]
     },
     "execution_count": 45,
     "metadata": {},
     "output_type": "execute_result"
    }
   ],
   "source": [
    "def roda_arvore_de_decisao(max_depth, min_samples_leaf, min_samples_split):\n",
    "  SEED = 301\n",
    "  np.random.seed(SEED)\n",
    "\n",
    "  cv = GroupKFold(n_splits = 10)\n",
    "  modelo = DecisionTreeClassifier(max_depth=max_depth, min_samples_leaf = min_samples_leaf, min_samples_split = min_samples_split)\n",
    "  results = cross_validate(modelo, x_azar, y_azar, cv = cv, groups = dados.modelo, return_train_score=True)\n",
    "  fit_time = results[\"fit_time\"].mean()\n",
    "  score_time = results[\"score_time\"].mean()\n",
    "  train_score = results['train_score'].mean() * 100\n",
    "  test_score = results['test_score'].mean() * 100\n",
    "\n",
    "  tabela = [max_depth, min_samples_leaf, min_samples_split, train_score, test_score, fit_time, score_time]\n",
    "  return tabela\n",
    "\n",
    "def busca():\n",
    "  resultados = []\n",
    "  for max_depth in range(1,33):\n",
    "    for min_samples_leaf in [32, 64, 128, 256]:\n",
    "        for min_samples_split in [32, 64, 128, 256]:\n",
    "          tabela = roda_arvore_de_decisao(max_depth, min_samples_leaf, min_samples_split)\n",
    "          resultados.append(tabela)\n",
    "  resultados = pd.DataFrame(resultados, columns= [\"max_depth\",\"min_samples_leaf\", \"min_samples_split\", \"train\", \"test\", \"fit_time\", \"score_time\"])\n",
    "  return resultados\n",
    "\n",
    "resultados = busca()\n",
    "resultados.head()"
   ]
  },
  {
   "cell_type": "code",
   "execution_count": 46,
   "metadata": {},
   "outputs": [
    {
     "data": {
      "text/html": [
       "<div>\n",
       "<style scoped>\n",
       "    .dataframe tbody tr th:only-of-type {\n",
       "        vertical-align: middle;\n",
       "    }\n",
       "\n",
       "    .dataframe tbody tr th {\n",
       "        vertical-align: top;\n",
       "    }\n",
       "\n",
       "    .dataframe thead th {\n",
       "        text-align: right;\n",
       "    }\n",
       "</style>\n",
       "<table border=\"1\" class=\"dataframe\">\n",
       "  <thead>\n",
       "    <tr style=\"text-align: right;\">\n",
       "      <th></th>\n",
       "      <th>max_depth</th>\n",
       "      <th>min_samples_leaf</th>\n",
       "      <th>min_samples_split</th>\n",
       "      <th>train</th>\n",
       "      <th>test</th>\n",
       "      <th>fit_time</th>\n",
       "      <th>score_time</th>\n",
       "    </tr>\n",
       "  </thead>\n",
       "  <tbody>\n",
       "    <tr>\n",
       "      <th>58</th>\n",
       "      <td>4</td>\n",
       "      <td>128</td>\n",
       "      <td>128</td>\n",
       "      <td>78.752411</td>\n",
       "      <td>78.694626</td>\n",
       "      <td>0.014801</td>\n",
       "      <td>0.001701</td>\n",
       "    </tr>\n",
       "    <tr>\n",
       "      <th>40</th>\n",
       "      <td>3</td>\n",
       "      <td>128</td>\n",
       "      <td>32</td>\n",
       "      <td>78.752411</td>\n",
       "      <td>78.694626</td>\n",
       "      <td>0.010701</td>\n",
       "      <td>0.002101</td>\n",
       "    </tr>\n",
       "    <tr>\n",
       "      <th>57</th>\n",
       "      <td>4</td>\n",
       "      <td>128</td>\n",
       "      <td>64</td>\n",
       "      <td>78.752411</td>\n",
       "      <td>78.694626</td>\n",
       "      <td>0.015101</td>\n",
       "      <td>0.002601</td>\n",
       "    </tr>\n",
       "    <tr>\n",
       "      <th>56</th>\n",
       "      <td>4</td>\n",
       "      <td>128</td>\n",
       "      <td>32</td>\n",
       "      <td>78.752411</td>\n",
       "      <td>78.694626</td>\n",
       "      <td>0.014401</td>\n",
       "      <td>0.002100</td>\n",
       "    </tr>\n",
       "    <tr>\n",
       "      <th>55</th>\n",
       "      <td>4</td>\n",
       "      <td>64</td>\n",
       "      <td>256</td>\n",
       "      <td>78.752411</td>\n",
       "      <td>78.694626</td>\n",
       "      <td>0.015701</td>\n",
       "      <td>0.002601</td>\n",
       "    </tr>\n",
       "  </tbody>\n",
       "</table>\n",
       "</div>"
      ],
      "text/plain": [
       "    max_depth  min_samples_leaf  min_samples_split      train       test  \\\n",
       "58          4               128                128  78.752411  78.694626   \n",
       "40          3               128                 32  78.752411  78.694626   \n",
       "57          4               128                 64  78.752411  78.694626   \n",
       "56          4               128                 32  78.752411  78.694626   \n",
       "55          4                64                256  78.752411  78.694626   \n",
       "\n",
       "    fit_time  score_time  \n",
       "58  0.014801    0.001701  \n",
       "40  0.010701    0.002101  \n",
       "57  0.015101    0.002601  \n",
       "56  0.014401    0.002100  \n",
       "55  0.015701    0.002601  "
      ]
     },
     "execution_count": 46,
     "metadata": {},
     "output_type": "execute_result"
    }
   ],
   "source": [
    "resultados.sort_values(\"test\", ascending=False).head()"
   ]
  },
  {
   "cell_type": "code",
   "execution_count": 47,
   "metadata": {},
   "outputs": [
    {
     "name": "stderr",
     "output_type": "stream",
     "text": [
      "C:\\Users\\joaor\\AppData\\Local\\Temp\\ipykernel_4652\\3622300031.py:12: DeprecationWarning: `np.bool` is a deprecated alias for the builtin `bool`. To silence this warning, use `bool` by itself. Doing this will not modify any behavior and is safe. If you specifically wanted the numpy scalar type, use `np.bool_` here.\n",
      "Deprecated in NumPy 1.20; for more details and guidance: https://numpy.org/devdocs/release/1.20.0-notes.html#deprecations\n",
      "  mask = np.zeros_like(corr, dtype=np.bool)\n"
     ]
    },
    {
     "data": {
      "text/plain": [
       "<AxesSubplot:>"
      ]
     },
     "execution_count": 47,
     "metadata": {},
     "output_type": "execute_result"
    },
    {
     "data": {
      "image/png": "[encoded data removed]",
      "text/plain": [
       "<Figure size 792x648 with 2 Axes>"
      ]
     },
     "metadata": {},
     "output_type": "display_data"
    }
   ],
   "source": [
    "corr = resultados.corr()\n",
    "\n",
    "from string import ascii_letters\n",
    "import numpy as np\n",
    "import pandas as pd\n",
    "import seaborn as sns\n",
    "import matplotlib.pyplot as plt\n",
    "\n",
    "sns.set(style=\"white\")\n",
    "\n",
    "# Generate a mask for the upper triangle\n",
    "mask = np.zeros_like(corr, dtype=np.bool)\n",
    "mask[np.triu_indices_from(mask)] = True\n",
    "\n",
    "# Set up the matplotlib figure\n",
    "f, ax = plt.subplots(figsize=(11, 9))\n",
    "\n",
    "# Generate a custom diverging colormap\n",
    "cmap = sns.diverging_palette(220, 10, as_cmap=True)\n",
    "\n",
    "# Draw the heatmap with the mask and correct aspect ratio\n",
    "sns.heatmap(corr, mask=mask, cmap=cmap, vmax=.3, center=0,\n",
    "            square=True, linewidths=.5, cbar_kws={\"shrink\": .5})"
   ]
  },
  {
   "cell_type": "markdown",
   "metadata": {},
   "source": [
    "Repare que existe uma pequena diferença entre os tempos de treino e os treinos de teste. Nesse caso, nosso treino é tão rápido que essas diferenças são insignificantes. Porém, se tivéssemos um algoritmo que demora 30 minutos para fazer o treinamento e no qual o tempo de teste fosse muito alto, talvez valesse a pena escolhermos os valores com base nesses resultados.\n",
    "\n",
    "Além dos 3 parâmetros que analisamos até agora, o DecisionTreeClassifier possui vários outros, a exemplo do critério de análise da árvore (como e/ou quando quebrar). Esse parâmetro pode receber dois diferentes valores, como gini ou entropy.\n",
    "\n",
    "Os parâmetros de um algoritmo estimador não precisam ser discretos como os que estudados até o momento. Por exemplo, existem casos em que trabalhamos com escala logarítmica ou exponencial, e é mais interessante explorar valores mais altos ou mais baixos. Ou seja, existem vários tipos de espaços de parâmetros que podem ser explorados.\n",
    "\n",
    "Agora que aprendemos a trabalhar com 3 parâmetros, lembre-se que é possível utilizar 4, 5 ou dezenas de parâmetros diferentes. Na prática, não há como explorar todas as possibilidades, portanto a ideia é explorarmos somente uma seleção dela"
   ]
  },
  {
   "cell_type": "markdown",
   "metadata": {},
   "source": [
    "GridSearchCV (grid search cross validation), que faz ums busca de hiperparâmetros com validação cruzada. Para funcionar de maneira eficiente, ee deve conter diversas dimensões:\n",
    "\n",
    "max_depth com os valores 3 e 5\n",
    "\n",
    "min_samples_split com os valores 32, 64 e 128\n",
    "\n",
    "min_samples_leaf também com os valores 32, 64 e 128\n",
    "\n",
    "criterion com os valores gini e entropy (que são strings)\n",
    "\n",
    "Ou seja, estaremos explorando 4 dimensões diferentes que resultam em 36 combinações.\n"
   ]
  },
  {
   "cell_type": "markdown",
   "metadata": {},
   "source": [
    "# Explorando espaço de hiper parâmetros com GridSearchCV"
   ]
  },
  {
   "cell_type": "code",
   "execution_count": 48,
   "metadata": {},
   "outputs": [
    {
     "data": {
      "text/html": [
       "<div>\n",
       "<style scoped>\n",
       "    .dataframe tbody tr th:only-of-type {\n",
       "        vertical-align: middle;\n",
       "    }\n",
       "\n",
       "    .dataframe tbody tr th {\n",
       "        vertical-align: top;\n",
       "    }\n",
       "\n",
       "    .dataframe thead th {\n",
       "        text-align: right;\n",
       "    }\n",
       "</style>\n",
       "<table border=\"1\" class=\"dataframe\">\n",
       "  <thead>\n",
       "    <tr style=\"text-align: right;\">\n",
       "      <th></th>\n",
       "      <th>mean_fit_time</th>\n",
       "      <th>std_fit_time</th>\n",
       "      <th>mean_score_time</th>\n",
       "      <th>std_score_time</th>\n",
       "      <th>param_criterion</th>\n",
       "      <th>param_max_depth</th>\n",
       "      <th>param_min_samples_leaf</th>\n",
       "      <th>param_min_samples_split</th>\n",
       "      <th>params</th>\n",
       "      <th>split0_test_score</th>\n",
       "      <th>...</th>\n",
       "      <th>split3_test_score</th>\n",
       "      <th>split4_test_score</th>\n",
       "      <th>split5_test_score</th>\n",
       "      <th>split6_test_score</th>\n",
       "      <th>split7_test_score</th>\n",
       "      <th>split8_test_score</th>\n",
       "      <th>split9_test_score</th>\n",
       "      <th>mean_test_score</th>\n",
       "      <th>std_test_score</th>\n",
       "      <th>rank_test_score</th>\n",
       "    </tr>\n",
       "  </thead>\n",
       "  <tbody>\n",
       "    <tr>\n",
       "      <th>0</th>\n",
       "      <td>0.012299</td>\n",
       "      <td>0.001552</td>\n",
       "      <td>0.002001</td>\n",
       "      <td>0.000448</td>\n",
       "      <td>gini</td>\n",
       "      <td>3</td>\n",
       "      <td>32</td>\n",
       "      <td>32</td>\n",
       "      <td>{'criterion': 'gini', 'max_depth': 3, 'min_sam...</td>\n",
       "      <td>0.80773</td>\n",
       "      <td>...</td>\n",
       "      <td>0.791045</td>\n",
       "      <td>0.798379</td>\n",
       "      <td>0.758964</td>\n",
       "      <td>0.793138</td>\n",
       "      <td>0.788889</td>\n",
       "      <td>0.782653</td>\n",
       "      <td>0.768727</td>\n",
       "      <td>0.786946</td>\n",
       "      <td>0.014023</td>\n",
       "      <td>1</td>\n",
       "    </tr>\n",
       "    <tr>\n",
       "      <th>1</th>\n",
       "      <td>0.011400</td>\n",
       "      <td>0.001019</td>\n",
       "      <td>0.002101</td>\n",
       "      <td>0.000300</td>\n",
       "      <td>gini</td>\n",
       "      <td>3</td>\n",
       "      <td>32</td>\n",
       "      <td>64</td>\n",
       "      <td>{'criterion': 'gini', 'max_depth': 3, 'min_sam...</td>\n",
       "      <td>0.80773</td>\n",
       "      <td>...</td>\n",
       "      <td>0.791045</td>\n",
       "      <td>0.798379</td>\n",
       "      <td>0.758964</td>\n",
       "      <td>0.793138</td>\n",
       "      <td>0.788889</td>\n",
       "      <td>0.782653</td>\n",
       "      <td>0.768727</td>\n",
       "      <td>0.786946</td>\n",
       "      <td>0.014023</td>\n",
       "      <td>1</td>\n",
       "    </tr>\n",
       "    <tr>\n",
       "      <th>2</th>\n",
       "      <td>0.014702</td>\n",
       "      <td>0.002571</td>\n",
       "      <td>0.002200</td>\n",
       "      <td>0.000401</td>\n",
       "      <td>gini</td>\n",
       "      <td>3</td>\n",
       "      <td>32</td>\n",
       "      <td>128</td>\n",
       "      <td>{'criterion': 'gini', 'max_depth': 3, 'min_sam...</td>\n",
       "      <td>0.80773</td>\n",
       "      <td>...</td>\n",
       "      <td>0.791045</td>\n",
       "      <td>0.798379</td>\n",
       "      <td>0.758964</td>\n",
       "      <td>0.793138</td>\n",
       "      <td>0.788889</td>\n",
       "      <td>0.782653</td>\n",
       "      <td>0.768727</td>\n",
       "      <td>0.786946</td>\n",
       "      <td>0.014023</td>\n",
       "      <td>1</td>\n",
       "    </tr>\n",
       "    <tr>\n",
       "      <th>3</th>\n",
       "      <td>0.013601</td>\n",
       "      <td>0.004477</td>\n",
       "      <td>0.001801</td>\n",
       "      <td>0.000601</td>\n",
       "      <td>gini</td>\n",
       "      <td>3</td>\n",
       "      <td>64</td>\n",
       "      <td>32</td>\n",
       "      <td>{'criterion': 'gini', 'max_depth': 3, 'min_sam...</td>\n",
       "      <td>0.80773</td>\n",
       "      <td>...</td>\n",
       "      <td>0.791045</td>\n",
       "      <td>0.798379</td>\n",
       "      <td>0.758964</td>\n",
       "      <td>0.793138</td>\n",
       "      <td>0.788889</td>\n",
       "      <td>0.782653</td>\n",
       "      <td>0.768727</td>\n",
       "      <td>0.786946</td>\n",
       "      <td>0.014023</td>\n",
       "      <td>1</td>\n",
       "    </tr>\n",
       "    <tr>\n",
       "      <th>4</th>\n",
       "      <td>0.016901</td>\n",
       "      <td>0.004254</td>\n",
       "      <td>0.002801</td>\n",
       "      <td>0.000872</td>\n",
       "      <td>gini</td>\n",
       "      <td>3</td>\n",
       "      <td>64</td>\n",
       "      <td>64</td>\n",
       "      <td>{'criterion': 'gini', 'max_depth': 3, 'min_sam...</td>\n",
       "      <td>0.80773</td>\n",
       "      <td>...</td>\n",
       "      <td>0.791045</td>\n",
       "      <td>0.798379</td>\n",
       "      <td>0.758964</td>\n",
       "      <td>0.793138</td>\n",
       "      <td>0.788889</td>\n",
       "      <td>0.782653</td>\n",
       "      <td>0.768727</td>\n",
       "      <td>0.786946</td>\n",
       "      <td>0.014023</td>\n",
       "      <td>1</td>\n",
       "    </tr>\n",
       "  </tbody>\n",
       "</table>\n",
       "<p>5 rows × 22 columns</p>\n",
       "</div>"
      ],
      "text/plain": [
       "   mean_fit_time  std_fit_time  mean_score_time  std_score_time  \\\n",
       "0       0.012299      0.001552         0.002001        0.000448   \n",
       "1       0.011400      0.001019         0.002101        0.000300   \n",
       "2       0.014702      0.002571         0.002200        0.000401   \n",
       "3       0.013601      0.004477         0.001801        0.000601   \n",
       "4       0.016901      0.004254         0.002801        0.000872   \n",
       "\n",
       "  param_criterion param_max_depth param_min_samples_leaf  \\\n",
       "0            gini               3                     32   \n",
       "1            gini               3                     32   \n",
       "2            gini               3                     32   \n",
       "3            gini               3                     64   \n",
       "4            gini               3                     64   \n",
       "\n",
       "  param_min_samples_split                                             params  \\\n",
       "0                      32  {'criterion': 'gini', 'max_depth': 3, 'min_sam...   \n",
       "1                      64  {'criterion': 'gini', 'max_depth': 3, 'min_sam...   \n",
       "2                     128  {'criterion': 'gini', 'max_depth': 3, 'min_sam...   \n",
       "3                      32  {'criterion': 'gini', 'max_depth': 3, 'min_sam...   \n",
       "4                      64  {'criterion': 'gini', 'max_depth': 3, 'min_sam...   \n",
       "\n",
       "   split0_test_score  ...  split3_test_score  split4_test_score  \\\n",
       "0            0.80773  ...           0.791045           0.798379   \n",
       "1            0.80773  ...           0.791045           0.798379   \n",
       "2            0.80773  ...           0.791045           0.798379   \n",
       "3            0.80773  ...           0.791045           0.798379   \n",
       "4            0.80773  ...           0.791045           0.798379   \n",
       "\n",
       "   split5_test_score  split6_test_score  split7_test_score  split8_test_score  \\\n",
       "0           0.758964           0.793138           0.788889           0.782653   \n",
       "1           0.758964           0.793138           0.788889           0.782653   \n",
       "2           0.758964           0.793138           0.788889           0.782653   \n",
       "3           0.758964           0.793138           0.788889           0.782653   \n",
       "4           0.758964           0.793138           0.788889           0.782653   \n",
       "\n",
       "   split9_test_score  mean_test_score  std_test_score  rank_test_score  \n",
       "0           0.768727         0.786946        0.014023                1  \n",
       "1           0.768727         0.786946        0.014023                1  \n",
       "2           0.768727         0.786946        0.014023                1  \n",
       "3           0.768727         0.786946        0.014023                1  \n",
       "4           0.768727         0.786946        0.014023                1  \n",
       "\n",
       "[5 rows x 22 columns]"
      ]
     },
     "execution_count": 48,
     "metadata": {},
     "output_type": "execute_result"
    }
   ],
   "source": [
    "from sklearn.model_selection import GridSearchCV\n",
    "\n",
    "SEED = 301\n",
    "np.random.seed(SEED)\n",
    "\n",
    "espaço_de_parametros = {\n",
    "    \"max_depth\" : [3, 5],\n",
    "    \"min_samples_split\" : [32, 64, 128],\n",
    "    \"min_samples_leaf\" : [32, 64, 128],\n",
    "    \"criterion\" : [\"gini\", \"entropy\"]\n",
    "    \n",
    "}\n",
    "\n",
    "busca = GridSearchCV(DecisionTreeClassifier(),\n",
    "                     espaço_de_parametros,\n",
    "                     cv = GroupKFold(n_splits = 10))\n",
    "\n",
    "busca.fit(x_azar, y_azar, groups = dados.modelo)\n",
    "resultados = pd.DataFrame(busca.cv_results_)\n",
    "resultados.head()"
   ]
  },
  {
   "cell_type": "markdown",
   "metadata": {},
   "source": [
    "Essa tabela nos mostra diversas informações, como a média do tempo de treino, a média do tempo de teste, a acurácia do teste e do treino e o ranking delas, quais foram cada um dos parâmetros utilizados, entre outras."
   ]
  },
  {
   "cell_type": "code",
   "execution_count": 49,
   "metadata": {},
   "outputs": [
    {
     "name": "stdout",
     "output_type": "stream",
     "text": [
      "{'criterion': 'gini', 'max_depth': 3, 'min_samples_leaf': 32, 'min_samples_split': 32}\n",
      "78.69462611699876\n"
     ]
    }
   ],
   "source": [
    "print(busca.best_params_)\n",
    "print(busca.best_score_ * 100)"
   ]
  },
  {
   "cell_type": "code",
   "execution_count": 50,
   "metadata": {},
   "outputs": [
    {
     "data": {
      "text/plain": [
       "DecisionTreeClassifier(max_depth=3, min_samples_leaf=32, min_samples_split=32)"
      ]
     },
     "execution_count": 50,
     "metadata": {},
     "output_type": "execute_result"
    }
   ],
   "source": [
    "melhor = busca.best_estimator_\n",
    "melhor"
   ]
  },
  {
   "cell_type": "code",
   "execution_count": 51,
   "metadata": {},
   "outputs": [
    {
     "name": "stdout",
     "output_type": "stream",
     "text": [
      "Accuracy para os dados foi 78.75%\n"
     ]
    }
   ],
   "source": [
    "from sklearn.metrics import accuracy_score \n",
    "\n",
    "predicoes = melhor.predict(x_azar) \n",
    "accuracy = accuracy_score(predicoes, y_azar) * 100\n",
    "\n",
    "print(\"Accuracy para os dados foi %.2f%%\" % accuracy)"
   ]
  },
  {
   "cell_type": "markdown",
   "metadata": {},
   "source": [
    "# Como ter uma estimativa sem esse vício nos dados que eu já vi?\n",
    "# No caso de cross validation com busca de hiper parâmetros, fazemos uma nova validação cruzada. Chama-se nested cross validation"
   ]
  },
  {
   "cell_type": "code",
   "execution_count": 52,
   "metadata": {},
   "outputs": [
    {
     "name": "stderr",
     "output_type": "stream",
     "text": [
      "c:\\Users\\joaor\\AppData\\Local\\Programs\\Python\\Python310\\lib\\site-packages\\sklearn\\model_selection\\_validation.py:372: FitFailedWarning: \n",
      "10 fits failed out of a total of 10.\n",
      "The score on these train-test partitions for these parameters will be set to nan.\n",
      "If these failures are not expected, you can try to debug them by setting error_score='raise'.\n",
      "\n",
      "Below are more details about the failures:\n",
      "--------------------------------------------------------------------------------\n",
      "10 fits failed with the following error:\n",
      "Traceback (most recent call last):\n",
      "  File \"c:\\Users\\joaor\\AppData\\Local\\Programs\\Python\\Python310\\lib\\site-packages\\sklearn\\model_selection\\_validation.py\", line 680, in _fit_and_score\n",
      "    estimator.fit(X_train, y_train, **fit_params)\n",
      "  File \"c:\\Users\\joaor\\AppData\\Local\\Programs\\Python\\Python310\\lib\\site-packages\\sklearn\\model_selection\\_search.py\", line 891, in fit\n",
      "    self._run_search(evaluate_candidates)\n",
      "  File \"c:\\Users\\joaor\\AppData\\Local\\Programs\\Python\\Python310\\lib\\site-packages\\sklearn\\model_selection\\_search.py\", line 1392, in _run_search\n",
      "    evaluate_candidates(ParameterGrid(self.param_grid))\n",
      "  File \"c:\\Users\\joaor\\AppData\\Local\\Programs\\Python\\Python310\\lib\\site-packages\\sklearn\\model_selection\\_search.py\", line 850, in evaluate_candidates\n",
      "    for (cand_idx, parameters), (split_idx, (train, test)) in product(\n",
      "  File \"c:\\Users\\joaor\\AppData\\Local\\Programs\\Python\\Python310\\lib\\site-packages\\sklearn\\model_selection\\_split.py\", line 340, in split\n",
      "    for train, test in super().split(X, y, groups):\n",
      "  File \"c:\\Users\\joaor\\AppData\\Local\\Programs\\Python\\Python310\\lib\\site-packages\\sklearn\\model_selection\\_split.py\", line 86, in split\n",
      "    for test_index in self._iter_test_masks(X, y, groups):\n",
      "  File \"c:\\Users\\joaor\\AppData\\Local\\Programs\\Python\\Python310\\lib\\site-packages\\sklearn\\model_selection\\_split.py\", line 98, in _iter_test_masks\n",
      "    for test_index in self._iter_test_indices(X, y, groups):\n",
      "  File \"c:\\Users\\joaor\\AppData\\Local\\Programs\\Python\\Python310\\lib\\site-packages\\sklearn\\model_selection\\_split.py\", line 510, in _iter_test_indices\n",
      "    raise ValueError(\"The 'groups' parameter should not be None.\")\n",
      "ValueError: The 'groups' parameter should not be None.\n",
      "\n",
      "  warnings.warn(some_fits_failed_message, FitFailedWarning)\n"
     ]
    }
   ],
   "source": [
    "from sklearn.model_selection import cross_val_score\n",
    "\n",
    "score = cross_val_score(busca, x_azar, y_azar, cv = GroupKFold(n_splits=10), groups= dados.modelo)"
   ]
  },
  {
   "cell_type": "markdown",
   "metadata": {},
   "source": [
    "Tentando rodar esse código, receberemos um erro afirmando que o valor de groups não deve ser none, como se não tivéssemos passado nenhum valor para os grupos. Ou seja, de alguma forma groups não está chegando em GroupKFold() - e é exatamente isso que está acontecendo.\n",
    "\n",
    "Na verdade, isso ocorre por conta de um bug - o GroupKFold falha na validação cruzada aninhada, e existe até um tópico no GitHub do scikit sobre esse problema. É um bug antigo (o tópico foi criado em 2016), mas continua em aberto, pois é razoavelmente complicado implementar a correção dele. Como alternativa, usaremos o KFold comum."
   ]
  },
  {
   "cell_type": "markdown",
   "metadata": {},
   "source": [
    "# Infelizmente como o Pandas não suporta nested validation com group k fold não conseguimos prever o resultado para novos grupos"
   ]
  },
  {
   "cell_type": "code",
   "execution_count": 53,
   "metadata": {},
   "outputs": [
    {
     "data": {
      "text/html": [
       "<div>\n",
       "<style scoped>\n",
       "    .dataframe tbody tr th:only-of-type {\n",
       "        vertical-align: middle;\n",
       "    }\n",
       "\n",
       "    .dataframe tbody tr th {\n",
       "        vertical-align: top;\n",
       "    }\n",
       "\n",
       "    .dataframe thead th {\n",
       "        text-align: right;\n",
       "    }\n",
       "</style>\n",
       "<table border=\"1\" class=\"dataframe\">\n",
       "  <thead>\n",
       "    <tr style=\"text-align: right;\">\n",
       "      <th></th>\n",
       "      <th>mean_fit_time</th>\n",
       "      <th>std_fit_time</th>\n",
       "      <th>mean_score_time</th>\n",
       "      <th>std_score_time</th>\n",
       "      <th>param_criterion</th>\n",
       "      <th>param_max_depth</th>\n",
       "      <th>param_min_samples_leaf</th>\n",
       "      <th>param_min_samples_split</th>\n",
       "      <th>params</th>\n",
       "      <th>split0_test_score</th>\n",
       "      <th>split1_test_score</th>\n",
       "      <th>split2_test_score</th>\n",
       "      <th>split3_test_score</th>\n",
       "      <th>split4_test_score</th>\n",
       "      <th>mean_test_score</th>\n",
       "      <th>std_test_score</th>\n",
       "      <th>rank_test_score</th>\n",
       "    </tr>\n",
       "  </thead>\n",
       "  <tbody>\n",
       "    <tr>\n",
       "      <th>0</th>\n",
       "      <td>0.010000</td>\n",
       "      <td>0.001098</td>\n",
       "      <td>0.002200</td>\n",
       "      <td>4.012915e-04</td>\n",
       "      <td>gini</td>\n",
       "      <td>3</td>\n",
       "      <td>32</td>\n",
       "      <td>32</td>\n",
       "      <td>{'criterion': 'gini', 'max_depth': 3, 'min_sam...</td>\n",
       "      <td>0.78</td>\n",
       "      <td>0.791</td>\n",
       "      <td>0.793</td>\n",
       "      <td>0.7735</td>\n",
       "      <td>0.796</td>\n",
       "      <td>0.7867</td>\n",
       "      <td>0.00853</td>\n",
       "      <td>1</td>\n",
       "    </tr>\n",
       "    <tr>\n",
       "      <th>1</th>\n",
       "      <td>0.009615</td>\n",
       "      <td>0.000473</td>\n",
       "      <td>0.002000</td>\n",
       "      <td>2.431402e-07</td>\n",
       "      <td>gini</td>\n",
       "      <td>3</td>\n",
       "      <td>32</td>\n",
       "      <td>64</td>\n",
       "      <td>{'criterion': 'gini', 'max_depth': 3, 'min_sam...</td>\n",
       "      <td>0.78</td>\n",
       "      <td>0.791</td>\n",
       "      <td>0.793</td>\n",
       "      <td>0.7735</td>\n",
       "      <td>0.796</td>\n",
       "      <td>0.7867</td>\n",
       "      <td>0.00853</td>\n",
       "      <td>1</td>\n",
       "    </tr>\n",
       "    <tr>\n",
       "      <th>2</th>\n",
       "      <td>0.011404</td>\n",
       "      <td>0.001492</td>\n",
       "      <td>0.001801</td>\n",
       "      <td>7.489150e-04</td>\n",
       "      <td>gini</td>\n",
       "      <td>3</td>\n",
       "      <td>32</td>\n",
       "      <td>128</td>\n",
       "      <td>{'criterion': 'gini', 'max_depth': 3, 'min_sam...</td>\n",
       "      <td>0.78</td>\n",
       "      <td>0.791</td>\n",
       "      <td>0.793</td>\n",
       "      <td>0.7735</td>\n",
       "      <td>0.796</td>\n",
       "      <td>0.7867</td>\n",
       "      <td>0.00853</td>\n",
       "      <td>1</td>\n",
       "    </tr>\n",
       "    <tr>\n",
       "      <th>3</th>\n",
       "      <td>0.017201</td>\n",
       "      <td>0.004708</td>\n",
       "      <td>0.003201</td>\n",
       "      <td>1.165864e-03</td>\n",
       "      <td>gini</td>\n",
       "      <td>3</td>\n",
       "      <td>64</td>\n",
       "      <td>32</td>\n",
       "      <td>{'criterion': 'gini', 'max_depth': 3, 'min_sam...</td>\n",
       "      <td>0.78</td>\n",
       "      <td>0.791</td>\n",
       "      <td>0.793</td>\n",
       "      <td>0.7735</td>\n",
       "      <td>0.796</td>\n",
       "      <td>0.7867</td>\n",
       "      <td>0.00853</td>\n",
       "      <td>1</td>\n",
       "    </tr>\n",
       "    <tr>\n",
       "      <th>4</th>\n",
       "      <td>0.019401</td>\n",
       "      <td>0.003200</td>\n",
       "      <td>0.003801</td>\n",
       "      <td>7.484941e-04</td>\n",
       "      <td>gini</td>\n",
       "      <td>3</td>\n",
       "      <td>64</td>\n",
       "      <td>64</td>\n",
       "      <td>{'criterion': 'gini', 'max_depth': 3, 'min_sam...</td>\n",
       "      <td>0.78</td>\n",
       "      <td>0.791</td>\n",
       "      <td>0.793</td>\n",
       "      <td>0.7735</td>\n",
       "      <td>0.796</td>\n",
       "      <td>0.7867</td>\n",
       "      <td>0.00853</td>\n",
       "      <td>1</td>\n",
       "    </tr>\n",
       "  </tbody>\n",
       "</table>\n",
       "</div>"
      ],
      "text/plain": [
       "   mean_fit_time  std_fit_time  mean_score_time  std_score_time  \\\n",
       "0       0.010000      0.001098         0.002200    4.012915e-04   \n",
       "1       0.009615      0.000473         0.002000    2.431402e-07   \n",
       "2       0.011404      0.001492         0.001801    7.489150e-04   \n",
       "3       0.017201      0.004708         0.003201    1.165864e-03   \n",
       "4       0.019401      0.003200         0.003801    7.484941e-04   \n",
       "\n",
       "  param_criterion param_max_depth param_min_samples_leaf  \\\n",
       "0            gini               3                     32   \n",
       "1            gini               3                     32   \n",
       "2            gini               3                     32   \n",
       "3            gini               3                     64   \n",
       "4            gini               3                     64   \n",
       "\n",
       "  param_min_samples_split                                             params  \\\n",
       "0                      32  {'criterion': 'gini', 'max_depth': 3, 'min_sam...   \n",
       "1                      64  {'criterion': 'gini', 'max_depth': 3, 'min_sam...   \n",
       "2                     128  {'criterion': 'gini', 'max_depth': 3, 'min_sam...   \n",
       "3                      32  {'criterion': 'gini', 'max_depth': 3, 'min_sam...   \n",
       "4                      64  {'criterion': 'gini', 'max_depth': 3, 'min_sam...   \n",
       "\n",
       "   split0_test_score  split1_test_score  split2_test_score  split3_test_score  \\\n",
       "0               0.78              0.791              0.793             0.7735   \n",
       "1               0.78              0.791              0.793             0.7735   \n",
       "2               0.78              0.791              0.793             0.7735   \n",
       "3               0.78              0.791              0.793             0.7735   \n",
       "4               0.78              0.791              0.793             0.7735   \n",
       "\n",
       "   split4_test_score  mean_test_score  std_test_score  rank_test_score  \n",
       "0              0.796           0.7867         0.00853                1  \n",
       "1              0.796           0.7867         0.00853                1  \n",
       "2              0.796           0.7867         0.00853                1  \n",
       "3              0.796           0.7867         0.00853                1  \n",
       "4              0.796           0.7867         0.00853                1  "
      ]
     },
     "execution_count": 53,
     "metadata": {},
     "output_type": "execute_result"
    }
   ],
   "source": [
    "from sklearn.model_selection import GridSearchCV\n",
    "from sklearn.model_selection import KFold\n",
    "\n",
    "SEED=301\n",
    "np.random.seed(SEED)\n",
    "espaço_de_parametros = {\n",
    "    \"max_depth\" : [3, 5],\n",
    "    \"min_samples_split\": [32, 64, 128],\n",
    "    \"min_samples_leaf\": [32, 64, 128],\n",
    "    \"criterion\": [\"gini\", \"entropy\"]\n",
    "\n",
    "}\n",
    "\n",
    "busca = GridSearchCV(DecisionTreeClassifier(),\n",
    "                     espaço_de_parametros,\n",
    "                     cv = KFold(n_splits = 5, shuffle=True))\n",
    "\n",
    "busca.fit(x_azar, y_azar)\n",
    "resultados = pd.DataFrame(busca.cv_results_)\n",
    "resultados.head()"
   ]
  },
  {
   "cell_type": "code",
   "execution_count": 54,
   "metadata": {},
   "outputs": [
    {
     "data": {
      "text/plain": [
       "array([0.7725, 0.798 , 0.797 , 0.787 , 0.781 ])"
      ]
     },
     "execution_count": 54,
     "metadata": {},
     "output_type": "execute_result"
    }
   ],
   "source": [
    "from sklearn.model_selection import cross_val_score\n",
    "\n",
    "score = cross_val_score(busca, x_azar, y_azar, cv = KFold(n_splits=5, shuffle=True))\n",
    "score"
   ]
  },
  {
   "cell_type": "markdown",
   "metadata": {},
   "source": [
    "Nossos resultados serão esses cinco valores\n"
   ]
  },
  {
   "cell_type": "code",
   "execution_count": 55,
   "metadata": {},
   "outputs": [],
   "source": [
    "def imprime_score(score):\n",
    "   media = score.mean() * 100\n",
    "   desvio = score.std() * 100\n",
    "   print(\"Accuracy médio %2.f\" % media)\n",
    "   print(\"Intervalo [%2.f, %2.f]\" % (media - 2 * desvio, media + 2 * desvio))"
   ]
  },
  {
   "cell_type": "code",
   "execution_count": 56,
   "metadata": {},
   "outputs": [
    {
     "data": {
      "image/svg+xml": "<?xml version=\"1.0\" encoding=\"UTF-8\" standalone=\"no\"?>\n<!DOCTYPE svg PUBLIC \"-//W3C//DTD SVG 1.1//EN\"\n \"http://www.w3.org/Graphics/SVG/1.1/DTD/svg11.dtd\">\n<!-- Generated by graphviz version 3.0.0 (20220226.1711)\n -->\n<!-- Title: Tree Pages: 1 -->\n<svg width=\"899pt\" height=\"433pt\"\n viewBox=\"0.00 0.00 899.00 433.00\" xmlns=\"http://www.w3.org/2000/svg\" xmlns:xlink=\"http://www.w3.org/1999/xlink\">\n<g id=\"graph0\" class=\"graph\" transform=\"scale(1 1) rotate(0) translate(4 429)\">\n<title>Tree</title>\n<polygon fill=\"white\" stroke=\"transparent\" points=\"-4,4 -4,-429 895,-429 895,4 -4,4\"/>\n<!-- 0 -->\n<g id=\"node1\" class=\"node\">\n<title>0</title>\n<path fill=\"#c8e4f8\" stroke=\"black\" d=\"M368.5,-425C368.5,-425 245.5,-425 245.5,-425 239.5,-425 233.5,-419 233.5,-413 233.5,-413 233.5,-354 233.5,-354 233.5,-348 239.5,-342 245.5,-342 245.5,-342 368.5,-342 368.5,-342 374.5,-342 380.5,-348 380.5,-354 380.5,-354 380.5,-413 380.5,-413 380.5,-419 374.5,-425 368.5,-425\"/>\n<text text-anchor=\"middle\" x=\"307\" y=\"-409.8\" font-family=\"Helvetica,sans-Serif\" font-size=\"14.00\">preco &lt;= 59982.246</text>\n<text text-anchor=\"middle\" x=\"307\" y=\"-394.8\" font-family=\"Helvetica,sans-Serif\" font-size=\"14.00\">gini = 0.487</text>\n<text text-anchor=\"middle\" x=\"307\" y=\"-379.8\" font-family=\"Helvetica,sans-Serif\" font-size=\"14.00\">samples = 10000</text>\n<text text-anchor=\"middle\" x=\"307\" y=\"-364.8\" font-family=\"Helvetica,sans-Serif\" font-size=\"14.00\">value = [4200, 5800]</text>\n<text text-anchor=\"middle\" x=\"307\" y=\"-349.8\" font-family=\"Helvetica,sans-Serif\" font-size=\"14.00\">class = sim</text>\n</g>\n<!-- 1 -->\n<g id=\"node2\" class=\"node\">\n<title>1</title>\n<path fill=\"#52a9e8\" stroke=\"black\" d=\"M275.5,-306C275.5,-306 152.5,-306 152.5,-306 146.5,-306 140.5,-300 140.5,-294 140.5,-294 140.5,-235 140.5,-235 140.5,-229 146.5,-223 152.5,-223 152.5,-223 275.5,-223 275.5,-223 281.5,-223 287.5,-229 287.5,-235 287.5,-235 287.5,-294 287.5,-294 287.5,-300 281.5,-306 275.5,-306\"/>\n<text text-anchor=\"middle\" x=\"214\" y=\"-290.8\" font-family=\"Helvetica,sans-Serif\" font-size=\"14.00\">preco &lt;= 40083.385</text>\n<text text-anchor=\"middle\" x=\"214\" y=\"-275.8\" font-family=\"Helvetica,sans-Serif\" font-size=\"14.00\">gini = 0.198</text>\n<text text-anchor=\"middle\" x=\"214\" y=\"-260.8\" font-family=\"Helvetica,sans-Serif\" font-size=\"14.00\">samples = 4347</text>\n<text text-anchor=\"middle\" x=\"214\" y=\"-245.8\" font-family=\"Helvetica,sans-Serif\" font-size=\"14.00\">value = [484, 3863]</text>\n<text text-anchor=\"middle\" x=\"214\" y=\"-230.8\" font-family=\"Helvetica,sans-Serif\" font-size=\"14.00\">class = sim</text>\n</g>\n<!-- 0&#45;&gt;1 -->\n<g id=\"edge1\" class=\"edge\">\n<title>0&#45;&gt;1</title>\n<path fill=\"none\" stroke=\"black\" d=\"M274.73,-341.91C267.59,-332.92 259.96,-323.32 252.59,-314.05\"/>\n<polygon fill=\"black\" stroke=\"black\" points=\"255.17,-311.67 246.21,-306.02 249.69,-316.03 255.17,-311.67\"/>\n<text text-anchor=\"middle\" x=\"243.37\" y=\"-327.16\" font-family=\"Helvetica,sans-Serif\" font-size=\"14.00\">True</text>\n</g>\n<!-- 6 -->\n<g id=\"node7\" class=\"node\">\n<title>6</title>\n<path fill=\"#f3c3a0\" stroke=\"black\" d=\"M538,-306C538,-306 372,-306 372,-306 366,-306 360,-300 360,-294 360,-294 360,-235 360,-235 360,-229 366,-223 372,-223 372,-223 538,-223 538,-223 544,-223 550,-229 550,-235 550,-235 550,-294 550,-294 550,-300 544,-306 538,-306\"/>\n<text text-anchor=\"middle\" x=\"455\" y=\"-290.8\" font-family=\"Helvetica,sans-Serif\" font-size=\"14.00\">km_por_ano &lt;= 24124.006</text>\n<text text-anchor=\"middle\" x=\"455\" y=\"-275.8\" font-family=\"Helvetica,sans-Serif\" font-size=\"14.00\">gini = 0.45</text>\n<text text-anchor=\"middle\" x=\"455\" y=\"-260.8\" font-family=\"Helvetica,sans-Serif\" font-size=\"14.00\">samples = 5653</text>\n<text text-anchor=\"middle\" x=\"455\" y=\"-245.8\" font-family=\"Helvetica,sans-Serif\" font-size=\"14.00\">value = [3716, 1937]</text>\n<text text-anchor=\"middle\" x=\"455\" y=\"-230.8\" font-family=\"Helvetica,sans-Serif\" font-size=\"14.00\">class = não</text>\n</g>\n<!-- 0&#45;&gt;6 -->\n<g id=\"edge6\" class=\"edge\">\n<title>0&#45;&gt;6</title>\n<path fill=\"none\" stroke=\"black\" d=\"M358.35,-341.91C370.4,-332.38 383.34,-322.15 395.71,-312.37\"/>\n<polygon fill=\"black\" stroke=\"black\" points=\"398.07,-314.97 403.74,-306.02 393.73,-309.48 398.07,-314.97\"/>\n<text text-anchor=\"middle\" x=\"400.84\" y=\"-327.15\" font-family=\"Helvetica,sans-Serif\" font-size=\"14.00\">False</text>\n</g>\n<!-- 2 -->\n<g id=\"node3\" class=\"node\">\n<title>2</title>\n<path fill=\"#399de5\" stroke=\"black\" d=\"M110,-179.5C110,-179.5 12,-179.5 12,-179.5 6,-179.5 0,-173.5 0,-167.5 0,-167.5 0,-123.5 0,-123.5 0,-117.5 6,-111.5 12,-111.5 12,-111.5 110,-111.5 110,-111.5 116,-111.5 122,-117.5 122,-123.5 122,-123.5 122,-167.5 122,-167.5 122,-173.5 116,-179.5 110,-179.5\"/>\n<text text-anchor=\"middle\" x=\"61\" y=\"-164.3\" font-family=\"Helvetica,sans-Serif\" font-size=\"14.00\">gini = 0.0</text>\n<text text-anchor=\"middle\" x=\"61\" y=\"-149.3\" font-family=\"Helvetica,sans-Serif\" font-size=\"14.00\">samples = 1935</text>\n<text text-anchor=\"middle\" x=\"61\" y=\"-134.3\" font-family=\"Helvetica,sans-Serif\" font-size=\"14.00\">value = [0, 1935]</text>\n<text text-anchor=\"middle\" x=\"61\" y=\"-119.3\" font-family=\"Helvetica,sans-Serif\" font-size=\"14.00\">class = sim</text>\n</g>\n<!-- 1&#45;&gt;2 -->\n<g id=\"edge2\" class=\"edge\">\n<title>1&#45;&gt;2</title>\n<path fill=\"none\" stroke=\"black\" d=\"M160.92,-222.91C145.19,-210.88 128,-197.73 112.38,-185.79\"/>\n<polygon fill=\"black\" stroke=\"black\" points=\"114.44,-182.96 104.37,-179.67 110.19,-188.52 114.44,-182.96\"/>\n</g>\n<!-- 3 -->\n<g id=\"node4\" class=\"node\">\n<title>3</title>\n<path fill=\"#6bb6ec\" stroke=\"black\" d=\"M275.5,-187C275.5,-187 152.5,-187 152.5,-187 146.5,-187 140.5,-181 140.5,-175 140.5,-175 140.5,-116 140.5,-116 140.5,-110 146.5,-104 152.5,-104 152.5,-104 275.5,-104 275.5,-104 281.5,-104 287.5,-110 287.5,-116 287.5,-116 287.5,-175 287.5,-175 287.5,-181 281.5,-187 275.5,-187\"/>\n<text text-anchor=\"middle\" x=\"214\" y=\"-171.8\" font-family=\"Helvetica,sans-Serif\" font-size=\"14.00\">preco &lt;= 41083.029</text>\n<text text-anchor=\"middle\" x=\"214\" y=\"-156.8\" font-family=\"Helvetica,sans-Serif\" font-size=\"14.00\">gini = 0.321</text>\n<text text-anchor=\"middle\" x=\"214\" y=\"-141.8\" font-family=\"Helvetica,sans-Serif\" font-size=\"14.00\">samples = 2412</text>\n<text text-anchor=\"middle\" x=\"214\" y=\"-126.8\" font-family=\"Helvetica,sans-Serif\" font-size=\"14.00\">value = [484, 1928]</text>\n<text text-anchor=\"middle\" x=\"214\" y=\"-111.8\" font-family=\"Helvetica,sans-Serif\" font-size=\"14.00\">class = sim</text>\n</g>\n<!-- 1&#45;&gt;3 -->\n<g id=\"edge3\" class=\"edge\">\n<title>1&#45;&gt;3</title>\n<path fill=\"none\" stroke=\"black\" d=\"M214,-222.91C214,-214.65 214,-205.86 214,-197.3\"/>\n<polygon fill=\"black\" stroke=\"black\" points=\"217.5,-197.02 214,-187.02 210.5,-197.02 217.5,-197.02\"/>\n</g>\n<!-- 4 -->\n<g id=\"node5\" class=\"node\">\n<title>4</title>\n<path fill=\"#95cbf1\" stroke=\"black\" d=\"M114.5,-68C114.5,-68 25.5,-68 25.5,-68 19.5,-68 13.5,-62 13.5,-56 13.5,-56 13.5,-12 13.5,-12 13.5,-6 19.5,0 25.5,0 25.5,0 114.5,0 114.5,0 120.5,0 126.5,-6 126.5,-12 126.5,-12 126.5,-56 126.5,-56 126.5,-62 120.5,-68 114.5,-68\"/>\n<text text-anchor=\"middle\" x=\"70\" y=\"-52.8\" font-family=\"Helvetica,sans-Serif\" font-size=\"14.00\">gini = 0.434</text>\n<text text-anchor=\"middle\" x=\"70\" y=\"-37.8\" font-family=\"Helvetica,sans-Serif\" font-size=\"14.00\">samples = 110</text>\n<text text-anchor=\"middle\" x=\"70\" y=\"-22.8\" font-family=\"Helvetica,sans-Serif\" font-size=\"14.00\">value = [35, 75]</text>\n<text text-anchor=\"middle\" x=\"70\" y=\"-7.8\" font-family=\"Helvetica,sans-Serif\" font-size=\"14.00\">class = sim</text>\n</g>\n<!-- 3&#45;&gt;4 -->\n<g id=\"edge4\" class=\"edge\">\n<title>3&#45;&gt;4</title>\n<path fill=\"none\" stroke=\"black\" d=\"M160.38,-103.73C147.79,-94.15 134.39,-83.96 121.87,-74.44\"/>\n<polygon fill=\"black\" stroke=\"black\" points=\"123.87,-71.57 113.79,-68.3 119.63,-77.14 123.87,-71.57\"/>\n</g>\n<!-- 5 -->\n<g id=\"node6\" class=\"node\">\n<title>5</title>\n<path fill=\"#69b5eb\" stroke=\"black\" d=\"M271,-68C271,-68 157,-68 157,-68 151,-68 145,-62 145,-56 145,-56 145,-12 145,-12 145,-6 151,0 157,0 157,0 271,0 271,0 277,0 283,-6 283,-12 283,-12 283,-56 283,-56 283,-62 277,-68 271,-68\"/>\n<text text-anchor=\"middle\" x=\"214\" y=\"-52.8\" font-family=\"Helvetica,sans-Serif\" font-size=\"14.00\">gini = 0.314</text>\n<text text-anchor=\"middle\" x=\"214\" y=\"-37.8\" font-family=\"Helvetica,sans-Serif\" font-size=\"14.00\">samples = 2302</text>\n<text text-anchor=\"middle\" x=\"214\" y=\"-22.8\" font-family=\"Helvetica,sans-Serif\" font-size=\"14.00\">value = [449, 1853]</text>\n<text text-anchor=\"middle\" x=\"214\" y=\"-7.8\" font-family=\"Helvetica,sans-Serif\" font-size=\"14.00\">class = sim</text>\n</g>\n<!-- 3&#45;&gt;5 -->\n<g id=\"edge5\" class=\"edge\">\n<title>3&#45;&gt;5</title>\n<path fill=\"none\" stroke=\"black\" d=\"M214,-103.73C214,-95.52 214,-86.86 214,-78.56\"/>\n<polygon fill=\"black\" stroke=\"black\" points=\"217.5,-78.3 214,-68.3 210.5,-78.3 217.5,-78.3\"/>\n</g>\n<!-- 7 -->\n<g id=\"node8\" class=\"node\">\n<title>7</title>\n<path fill=\"#fcefe5\" stroke=\"black\" d=\"M516,-187C516,-187 394,-187 394,-187 388,-187 382,-181 382,-175 382,-175 382,-116 382,-116 382,-110 388,-104 394,-104 394,-104 516,-104 516,-104 522,-104 528,-110 528,-116 528,-116 528,-175 528,-175 528,-181 522,-187 516,-187\"/>\n<text text-anchor=\"middle\" x=\"455\" y=\"-171.8\" font-family=\"Helvetica,sans-Serif\" font-size=\"14.00\">preco &lt;= 99974.41</text>\n<text text-anchor=\"middle\" x=\"455\" y=\"-156.8\" font-family=\"Helvetica,sans-Serif\" font-size=\"14.00\">gini = 0.498</text>\n<text text-anchor=\"middle\" x=\"455\" y=\"-141.8\" font-family=\"Helvetica,sans-Serif\" font-size=\"14.00\">samples = 3513</text>\n<text text-anchor=\"middle\" x=\"455\" y=\"-126.8\" font-family=\"Helvetica,sans-Serif\" font-size=\"14.00\">value = [1879, 1634]</text>\n<text text-anchor=\"middle\" x=\"455\" y=\"-111.8\" font-family=\"Helvetica,sans-Serif\" font-size=\"14.00\">class = não</text>\n</g>\n<!-- 6&#45;&gt;7 -->\n<g id=\"edge7\" class=\"edge\">\n<title>6&#45;&gt;7</title>\n<path fill=\"none\" stroke=\"black\" d=\"M455,-222.91C455,-214.65 455,-205.86 455,-197.3\"/>\n<polygon fill=\"black\" stroke=\"black\" points=\"458.5,-197.02 455,-187.02 451.5,-197.02 458.5,-197.02\"/>\n</g>\n<!-- 10 -->\n<g id=\"node11\" class=\"node\">\n<title>10</title>\n<path fill=\"#e9965a\" stroke=\"black\" d=\"M743.5,-187C743.5,-187 612.5,-187 612.5,-187 606.5,-187 600.5,-181 600.5,-175 600.5,-175 600.5,-116 600.5,-116 600.5,-110 606.5,-104 612.5,-104 612.5,-104 743.5,-104 743.5,-104 749.5,-104 755.5,-110 755.5,-116 755.5,-116 755.5,-175 755.5,-175 755.5,-181 749.5,-187 743.5,-187\"/>\n<text text-anchor=\"middle\" x=\"678\" y=\"-171.8\" font-family=\"Helvetica,sans-Serif\" font-size=\"14.00\">preco &lt;= 100076.957</text>\n<text text-anchor=\"middle\" x=\"678\" y=\"-156.8\" font-family=\"Helvetica,sans-Serif\" font-size=\"14.00\">gini = 0.243</text>\n<text text-anchor=\"middle\" x=\"678\" y=\"-141.8\" font-family=\"Helvetica,sans-Serif\" font-size=\"14.00\">samples = 2140</text>\n<text text-anchor=\"middle\" x=\"678\" y=\"-126.8\" font-family=\"Helvetica,sans-Serif\" font-size=\"14.00\">value = [1837, 303]</text>\n<text text-anchor=\"middle\" x=\"678\" y=\"-111.8\" font-family=\"Helvetica,sans-Serif\" font-size=\"14.00\">class = não</text>\n</g>\n<!-- 6&#45;&gt;10 -->\n<g id=\"edge10\" class=\"edge\">\n<title>6&#45;&gt;10</title>\n<path fill=\"none\" stroke=\"black\" d=\"M532.37,-222.91C551.57,-212.83 572.26,-201.98 591.85,-191.7\"/>\n<polygon fill=\"black\" stroke=\"black\" points=\"593.54,-194.77 600.77,-187.02 590.29,-188.57 593.54,-194.77\"/>\n</g>\n<!-- 8 -->\n<g id=\"node9\" class=\"node\">\n<title>8</title>\n<path fill=\"#f9e0ce\" stroke=\"black\" d=\"M435,-68C435,-68 313,-68 313,-68 307,-68 301,-62 301,-56 301,-56 301,-12 301,-12 301,-6 307,0 313,0 313,0 435,0 435,0 441,0 447,-6 447,-12 447,-12 447,-56 447,-56 447,-62 441,-68 435,-68\"/>\n<text text-anchor=\"middle\" x=\"374\" y=\"-52.8\" font-family=\"Helvetica,sans-Serif\" font-size=\"14.00\">gini = 0.49</text>\n<text text-anchor=\"middle\" x=\"374\" y=\"-37.8\" font-family=\"Helvetica,sans-Serif\" font-size=\"14.00\">samples = 2944</text>\n<text text-anchor=\"middle\" x=\"374\" y=\"-22.8\" font-family=\"Helvetica,sans-Serif\" font-size=\"14.00\">value = [1682, 1262]</text>\n<text text-anchor=\"middle\" x=\"374\" y=\"-7.8\" font-family=\"Helvetica,sans-Serif\" font-size=\"14.00\">class = não</text>\n</g>\n<!-- 7&#45;&gt;8 -->\n<g id=\"edge8\" class=\"edge\">\n<title>7&#45;&gt;8</title>\n<path fill=\"none\" stroke=\"black\" d=\"M424.84,-103.73C418.23,-94.79 411.22,-85.32 404.59,-76.36\"/>\n<polygon fill=\"black\" stroke=\"black\" points=\"407.39,-74.26 398.63,-68.3 401.77,-78.42 407.39,-74.26\"/>\n</g>\n<!-- 9 -->\n<g id=\"node10\" class=\"node\">\n<title>9</title>\n<path fill=\"#a2d1f3\" stroke=\"black\" d=\"M583,-68C583,-68 477,-68 477,-68 471,-68 465,-62 465,-56 465,-56 465,-12 465,-12 465,-6 471,0 477,0 477,0 583,0 583,0 589,0 595,-6 595,-12 595,-12 595,-56 595,-56 595,-62 589,-68 583,-68\"/>\n<text text-anchor=\"middle\" x=\"530\" y=\"-52.8\" font-family=\"Helvetica,sans-Serif\" font-size=\"14.00\">gini = 0.453</text>\n<text text-anchor=\"middle\" x=\"530\" y=\"-37.8\" font-family=\"Helvetica,sans-Serif\" font-size=\"14.00\">samples = 569</text>\n<text text-anchor=\"middle\" x=\"530\" y=\"-22.8\" font-family=\"Helvetica,sans-Serif\" font-size=\"14.00\">value = [197, 372]</text>\n<text text-anchor=\"middle\" x=\"530\" y=\"-7.8\" font-family=\"Helvetica,sans-Serif\" font-size=\"14.00\">class = sim</text>\n</g>\n<!-- 7&#45;&gt;9 -->\n<g id=\"edge9\" class=\"edge\">\n<title>7&#45;&gt;9</title>\n<path fill=\"none\" stroke=\"black\" d=\"M482.93,-103.73C488.99,-94.88 495.4,-85.51 501.49,-76.63\"/>\n<polygon fill=\"black\" stroke=\"black\" points=\"504.43,-78.53 507.19,-68.3 498.65,-74.57 504.43,-78.53\"/>\n</g>\n<!-- 11 -->\n<g id=\"node12\" class=\"node\">\n<title>11</title>\n<path fill=\"#e68742\" stroke=\"black\" d=\"M731,-68C731,-68 625,-68 625,-68 619,-68 613,-62 613,-56 613,-56 613,-12 613,-12 613,-6 619,0 625,0 625,0 731,0 731,0 737,0 743,-6 743,-12 743,-12 743,-56 743,-56 743,-62 737,-68 731,-68\"/>\n<text text-anchor=\"middle\" x=\"678\" y=\"-52.8\" font-family=\"Helvetica,sans-Serif\" font-size=\"14.00\">gini = 0.082</text>\n<text text-anchor=\"middle\" x=\"678\" y=\"-37.8\" font-family=\"Helvetica,sans-Serif\" font-size=\"14.00\">samples = 1809</text>\n<text text-anchor=\"middle\" x=\"678\" y=\"-22.8\" font-family=\"Helvetica,sans-Serif\" font-size=\"14.00\">value = [1732, 77]</text>\n<text text-anchor=\"middle\" x=\"678\" y=\"-7.8\" font-family=\"Helvetica,sans-Serif\" font-size=\"14.00\">class = não</text>\n</g>\n<!-- 10&#45;&gt;11 -->\n<g id=\"edge11\" class=\"edge\">\n<title>10&#45;&gt;11</title>\n<path fill=\"none\" stroke=\"black\" d=\"M678,-103.73C678,-95.52 678,-86.86 678,-78.56\"/>\n<polygon fill=\"black\" stroke=\"black\" points=\"681.5,-78.3 678,-68.3 674.5,-78.3 681.5,-78.3\"/>\n</g>\n<!-- 12 -->\n<g id=\"node13\" class=\"node\">\n<title>12</title>\n<path fill=\"#95cbf1\" stroke=\"black\" d=\"M879,-68C879,-68 773,-68 773,-68 767,-68 761,-62 761,-56 761,-56 761,-12 761,-12 761,-6 767,0 773,0 773,0 879,0 879,0 885,0 891,-6 891,-12 891,-12 891,-56 891,-56 891,-62 885,-68 879,-68\"/>\n<text text-anchor=\"middle\" x=\"826\" y=\"-52.8\" font-family=\"Helvetica,sans-Serif\" font-size=\"14.00\">gini = 0.433</text>\n<text text-anchor=\"middle\" x=\"826\" y=\"-37.8\" font-family=\"Helvetica,sans-Serif\" font-size=\"14.00\">samples = 331</text>\n<text text-anchor=\"middle\" x=\"826\" y=\"-22.8\" font-family=\"Helvetica,sans-Serif\" font-size=\"14.00\">value = [105, 226]</text>\n<text text-anchor=\"middle\" x=\"826\" y=\"-7.8\" font-family=\"Helvetica,sans-Serif\" font-size=\"14.00\">class = sim</text>\n</g>\n<!-- 10&#45;&gt;12 -->\n<g id=\"edge12\" class=\"edge\">\n<title>10&#45;&gt;12</title>\n<path fill=\"none\" stroke=\"black\" d=\"M733.11,-103.73C746.05,-94.15 759.82,-83.96 772.69,-74.44\"/>\n<polygon fill=\"black\" stroke=\"black\" points=\"775.04,-77.06 780.99,-68.3 770.87,-71.43 775.04,-77.06\"/>\n</g>\n</g>\n</svg>\n",
      "text/plain": [
       "<graphviz.sources.Source at 0x20ab871c2e0>"
      ]
     },
     "execution_count": 56,
     "metadata": {},
     "output_type": "execute_result"
    }
   ],
   "source": [
    "from sklearn.tree import export_graphviz\n",
    "import graphviz\n",
    "\n",
    "features = x_azar.columns\n",
    "dot_data = export_graphviz(melhor, out_file=None, filled=True, rounded=True,\n",
    "                           class_names=[\"não\", \"sim\"],\n",
    "                           feature_names=features)\n",
    "\n",
    "graph = graphviz.Source(dot_data)\n",
    "graph"
   ]
  },
  {
   "cell_type": "markdown",
   "metadata": {},
   "source": [
    "Repare que a árvore tem 3 níveis de profundidade (max_depth=3, ou seja, três decisões a serem tomadas), e as folhas e os splits (min_samples_leaf e min_samples_split, respectivamente) têm um mínimo de 32 samples cada. Além disso, as decisões de quebras seguem o critério de gini ao invés de entropy.\n",
    "\n",
    "Esse é o melhor modelo real que iremos utilizar agora que exploramos o espaço de hiperparâmetros. Esse tipo de exploração com grid, no qual cada espaço é analisado separadamente, é válido e funciona. Porém, é um processo demorado, e existem otimizações que podem ser feitas para contornar isso."
   ]
  },
  {
   "cell_type": "markdown",
   "metadata": {},
   "source": [
    "# BUSCA ALEATÓRIA: RandomSearch\n"
   ]
  },
  {
   "cell_type": "code",
   "execution_count": 57,
   "metadata": {},
   "outputs": [
    {
     "data": {
      "text/html": [
       "<div>\n",
       "<style scoped>\n",
       "    .dataframe tbody tr th:only-of-type {\n",
       "        vertical-align: middle;\n",
       "    }\n",
       "\n",
       "    .dataframe tbody tr th {\n",
       "        vertical-align: top;\n",
       "    }\n",
       "\n",
       "    .dataframe thead th {\n",
       "        text-align: right;\n",
       "    }\n",
       "</style>\n",
       "<table border=\"1\" class=\"dataframe\">\n",
       "  <thead>\n",
       "    <tr style=\"text-align: right;\">\n",
       "      <th></th>\n",
       "      <th>mean_fit_time</th>\n",
       "      <th>std_fit_time</th>\n",
       "      <th>mean_score_time</th>\n",
       "      <th>std_score_time</th>\n",
       "      <th>param_min_samples_split</th>\n",
       "      <th>param_min_samples_leaf</th>\n",
       "      <th>param_max_depth</th>\n",
       "      <th>param_criterion</th>\n",
       "      <th>params</th>\n",
       "      <th>split0_test_score</th>\n",
       "      <th>split1_test_score</th>\n",
       "      <th>split2_test_score</th>\n",
       "      <th>split3_test_score</th>\n",
       "      <th>split4_test_score</th>\n",
       "      <th>mean_test_score</th>\n",
       "      <th>std_test_score</th>\n",
       "      <th>rank_test_score</th>\n",
       "    </tr>\n",
       "  </thead>\n",
       "  <tbody>\n",
       "    <tr>\n",
       "      <th>0</th>\n",
       "      <td>0.011999</td>\n",
       "      <td>0.000632</td>\n",
       "      <td>0.002003</td>\n",
       "      <td>2.032020e-06</td>\n",
       "      <td>128</td>\n",
       "      <td>128</td>\n",
       "      <td>5</td>\n",
       "      <td>gini</td>\n",
       "      <td>{'min_samples_split': 128, 'min_samples_leaf':...</td>\n",
       "      <td>0.78</td>\n",
       "      <td>0.7905</td>\n",
       "      <td>0.792</td>\n",
       "      <td>0.775</td>\n",
       "      <td>0.788</td>\n",
       "      <td>0.7851</td>\n",
       "      <td>0.006530</td>\n",
       "      <td>12</td>\n",
       "    </tr>\n",
       "    <tr>\n",
       "      <th>1</th>\n",
       "      <td>0.009401</td>\n",
       "      <td>0.001497</td>\n",
       "      <td>0.002800</td>\n",
       "      <td>1.720535e-03</td>\n",
       "      <td>64</td>\n",
       "      <td>32</td>\n",
       "      <td>3</td>\n",
       "      <td>gini</td>\n",
       "      <td>{'min_samples_split': 64, 'min_samples_leaf': ...</td>\n",
       "      <td>0.78</td>\n",
       "      <td>0.7905</td>\n",
       "      <td>0.792</td>\n",
       "      <td>0.784</td>\n",
       "      <td>0.788</td>\n",
       "      <td>0.7869</td>\n",
       "      <td>0.004386</td>\n",
       "      <td>1</td>\n",
       "    </tr>\n",
       "    <tr>\n",
       "      <th>2</th>\n",
       "      <td>0.008800</td>\n",
       "      <td>0.000399</td>\n",
       "      <td>0.002201</td>\n",
       "      <td>4.008592e-04</td>\n",
       "      <td>64</td>\n",
       "      <td>128</td>\n",
       "      <td>3</td>\n",
       "      <td>gini</td>\n",
       "      <td>{'min_samples_split': 64, 'min_samples_leaf': ...</td>\n",
       "      <td>0.78</td>\n",
       "      <td>0.7905</td>\n",
       "      <td>0.792</td>\n",
       "      <td>0.784</td>\n",
       "      <td>0.788</td>\n",
       "      <td>0.7869</td>\n",
       "      <td>0.004386</td>\n",
       "      <td>1</td>\n",
       "    </tr>\n",
       "    <tr>\n",
       "      <th>3</th>\n",
       "      <td>0.015600</td>\n",
       "      <td>0.000800</td>\n",
       "      <td>0.002001</td>\n",
       "      <td>9.344062e-07</td>\n",
       "      <td>32</td>\n",
       "      <td>64</td>\n",
       "      <td>5</td>\n",
       "      <td>entropy</td>\n",
       "      <td>{'min_samples_split': 32, 'min_samples_leaf': ...</td>\n",
       "      <td>0.78</td>\n",
       "      <td>0.7905</td>\n",
       "      <td>0.792</td>\n",
       "      <td>0.784</td>\n",
       "      <td>0.788</td>\n",
       "      <td>0.7869</td>\n",
       "      <td>0.004386</td>\n",
       "      <td>1</td>\n",
       "    </tr>\n",
       "    <tr>\n",
       "      <th>4</th>\n",
       "      <td>0.019001</td>\n",
       "      <td>0.002097</td>\n",
       "      <td>0.002401</td>\n",
       "      <td>4.906221e-04</td>\n",
       "      <td>64</td>\n",
       "      <td>64</td>\n",
       "      <td>5</td>\n",
       "      <td>entropy</td>\n",
       "      <td>{'min_samples_split': 64, 'min_samples_leaf': ...</td>\n",
       "      <td>0.78</td>\n",
       "      <td>0.7905</td>\n",
       "      <td>0.792</td>\n",
       "      <td>0.784</td>\n",
       "      <td>0.788</td>\n",
       "      <td>0.7869</td>\n",
       "      <td>0.004386</td>\n",
       "      <td>1</td>\n",
       "    </tr>\n",
       "  </tbody>\n",
       "</table>\n",
       "</div>"
      ],
      "text/plain": [
       "   mean_fit_time  std_fit_time  mean_score_time  std_score_time  \\\n",
       "0       0.011999      0.000632         0.002003    2.032020e-06   \n",
       "1       0.009401      0.001497         0.002800    1.720535e-03   \n",
       "2       0.008800      0.000399         0.002201    4.008592e-04   \n",
       "3       0.015600      0.000800         0.002001    9.344062e-07   \n",
       "4       0.019001      0.002097         0.002401    4.906221e-04   \n",
       "\n",
       "  param_min_samples_split param_min_samples_leaf param_max_depth  \\\n",
       "0                     128                    128               5   \n",
       "1                      64                     32               3   \n",
       "2                      64                    128               3   \n",
       "3                      32                     64               5   \n",
       "4                      64                     64               5   \n",
       "\n",
       "  param_criterion                                             params  \\\n",
       "0            gini  {'min_samples_split': 128, 'min_samples_leaf':...   \n",
       "1            gini  {'min_samples_split': 64, 'min_samples_leaf': ...   \n",
       "2            gini  {'min_samples_split': 64, 'min_samples_leaf': ...   \n",
       "3         entropy  {'min_samples_split': 32, 'min_samples_leaf': ...   \n",
       "4         entropy  {'min_samples_split': 64, 'min_samples_leaf': ...   \n",
       "\n",
       "   split0_test_score  split1_test_score  split2_test_score  split3_test_score  \\\n",
       "0               0.78             0.7905              0.792              0.775   \n",
       "1               0.78             0.7905              0.792              0.784   \n",
       "2               0.78             0.7905              0.792              0.784   \n",
       "3               0.78             0.7905              0.792              0.784   \n",
       "4               0.78             0.7905              0.792              0.784   \n",
       "\n",
       "   split4_test_score  mean_test_score  std_test_score  rank_test_score  \n",
       "0              0.788           0.7851        0.006530               12  \n",
       "1              0.788           0.7869        0.004386                1  \n",
       "2              0.788           0.7869        0.004386                1  \n",
       "3              0.788           0.7869        0.004386                1  \n",
       "4              0.788           0.7869        0.004386                1  "
      ]
     },
     "execution_count": 57,
     "metadata": {},
     "output_type": "execute_result"
    }
   ],
   "source": [
    "from sklearn.model_selection import RandomizedSearchCV\n",
    "\n",
    "SEED=301\n",
    "np.random.seed(SEED)\n",
    "\n",
    "espaco_de_parametros = {\n",
    "    \"max_depth\" : [3, 5],\n",
    "    \"min_samples_split\": [32, 64, 128],\n",
    "    \"min_samples_leaf\": [32, 64, 128],\n",
    "    \"criterion\": [\"gini\", \"entropy\"]\n",
    "\n",
    "}\n",
    "\n",
    "busca = RandomizedSearchCV(DecisionTreeClassifier(),\n",
    "                    espaco_de_parametros, \n",
    "                    n_iter = 16,\n",
    "                    cv = KFold(n_splits = 5),\n",
    "                          random_state = SEED)\n",
    "\n",
    "\n",
    "busca.fit(x_azar, y_azar,groups = dados.modelo)\n",
    "resultados = pd.DataFrame(busca.cv_results_)\n",
    "resultados.head()"
   ]
  },
  {
   "cell_type": "markdown",
   "metadata": {},
   "source": [
    "Após a execução desse código, queremos saber quão bem se saiu o melhor classificador."
   ]
  },
  {
   "cell_type": "code",
   "execution_count": 58,
   "metadata": {},
   "outputs": [
    {
     "name": "stdout",
     "output_type": "stream",
     "text": [
      "Accuracy médio 79\n",
      "Intervalo [77, 80]\n"
     ]
    }
   ],
   "source": [
    "from sklearn.model_selection import cross_val_score\n",
    "\n",
    "scores = cross_val_score(busca, x_azar, y_azar, cv = KFold(n_splits=5, shuffle=True))\n",
    "imprime_score(scores)"
   ]
  },
  {
   "cell_type": "markdown",
   "metadata": {},
   "source": [
    "Em seguida, para encontrarmos o melhor estimador, atribuiremos a função busca.best_estimator_ à uma variável melhor e imprimiremos essa variável na tela."
   ]
  },
  {
   "cell_type": "code",
   "execution_count": 59,
   "metadata": {},
   "outputs": [
    {
     "name": "stdout",
     "output_type": "stream",
     "text": [
      "DecisionTreeClassifier(max_depth=3, min_samples_leaf=32, min_samples_split=64)\n"
     ]
    }
   ],
   "source": [
    "melhor = busca.best_estimator_\n",
    "print(melhor)"
   ]
  },
  {
   "cell_type": "markdown",
   "metadata": {},
   "source": [
    "Isso significa que o melhor estimador teve o critério gini, a profundidade máxima 5, o mínimo de elementos na folha 128 e, e 128 como o mínimo de splits antes de tomar uma decisão. Tivemos uma acurácia média de 78.69%, em um intervalo entre 76.70% e 80.68%.\n",
    "\n",
    "Repare que executando menos da metade das buscas, obtivemos uma acurácia média e um intervalo muito parecidos com aqueles do GridSearchCV (que tinha a média 78.68% e o intervalo 76.85% a 80.55)."
   ]
  },
  {
   "cell_type": "code",
   "execution_count": 60,
   "metadata": {},
   "outputs": [
    {
     "data": {
      "image/svg+xml": "<?xml version=\"1.0\" encoding=\"UTF-8\" standalone=\"no\"?>\n<!DOCTYPE svg PUBLIC \"-//W3C//DTD SVG 1.1//EN\"\n \"http://www.w3.org/Graphics/SVG/1.1/DTD/svg11.dtd\">\n<!-- Generated by graphviz version 3.0.0 (20220226.1711)\n -->\n<!-- Title: Tree Pages: 1 -->\n<svg width=\"899pt\" height=\"433pt\"\n viewBox=\"0.00 0.00 899.00 433.00\" xmlns=\"http://www.w3.org/2000/svg\" xmlns:xlink=\"http://www.w3.org/1999/xlink\">\n<g id=\"graph0\" class=\"graph\" transform=\"scale(1 1) rotate(0) translate(4 429)\">\n<title>Tree</title>\n<polygon fill=\"white\" stroke=\"transparent\" points=\"-4,4 -4,-429 895,-429 895,4 -4,4\"/>\n<!-- 0 -->\n<g id=\"node1\" class=\"node\">\n<title>0</title>\n<path fill=\"#c8e4f8\" stroke=\"black\" d=\"M368.5,-425C368.5,-425 245.5,-425 245.5,-425 239.5,-425 233.5,-419 233.5,-413 233.5,-413 233.5,-354 233.5,-354 233.5,-348 239.5,-342 245.5,-342 245.5,-342 368.5,-342 368.5,-342 374.5,-342 380.5,-348 380.5,-354 380.5,-354 380.5,-413 380.5,-413 380.5,-419 374.5,-425 368.5,-425\"/>\n<text text-anchor=\"middle\" x=\"307\" y=\"-409.8\" font-family=\"Helvetica,sans-Serif\" font-size=\"14.00\">preco &lt;= 59982.246</text>\n<text text-anchor=\"middle\" x=\"307\" y=\"-394.8\" font-family=\"Helvetica,sans-Serif\" font-size=\"14.00\">gini = 0.487</text>\n<text text-anchor=\"middle\" x=\"307\" y=\"-379.8\" font-family=\"Helvetica,sans-Serif\" font-size=\"14.00\">samples = 10000</text>\n<text text-anchor=\"middle\" x=\"307\" y=\"-364.8\" font-family=\"Helvetica,sans-Serif\" font-size=\"14.00\">value = [4200, 5800]</text>\n<text text-anchor=\"middle\" x=\"307\" y=\"-349.8\" font-family=\"Helvetica,sans-Serif\" font-size=\"14.00\">class = sim</text>\n</g>\n<!-- 1 -->\n<g id=\"node2\" class=\"node\">\n<title>1</title>\n<path fill=\"#52a9e8\" stroke=\"black\" d=\"M275.5,-306C275.5,-306 152.5,-306 152.5,-306 146.5,-306 140.5,-300 140.5,-294 140.5,-294 140.5,-235 140.5,-235 140.5,-229 146.5,-223 152.5,-223 152.5,-223 275.5,-223 275.5,-223 281.5,-223 287.5,-229 287.5,-235 287.5,-235 287.5,-294 287.5,-294 287.5,-300 281.5,-306 275.5,-306\"/>\n<text text-anchor=\"middle\" x=\"214\" y=\"-290.8\" font-family=\"Helvetica,sans-Serif\" font-size=\"14.00\">preco &lt;= 40083.385</text>\n<text text-anchor=\"middle\" x=\"214\" y=\"-275.8\" font-family=\"Helvetica,sans-Serif\" font-size=\"14.00\">gini = 0.198</text>\n<text text-anchor=\"middle\" x=\"214\" y=\"-260.8\" font-family=\"Helvetica,sans-Serif\" font-size=\"14.00\">samples = 4347</text>\n<text text-anchor=\"middle\" x=\"214\" y=\"-245.8\" font-family=\"Helvetica,sans-Serif\" font-size=\"14.00\">value = [484, 3863]</text>\n<text text-anchor=\"middle\" x=\"214\" y=\"-230.8\" font-family=\"Helvetica,sans-Serif\" font-size=\"14.00\">class = sim</text>\n</g>\n<!-- 0&#45;&gt;1 -->\n<g id=\"edge1\" class=\"edge\">\n<title>0&#45;&gt;1</title>\n<path fill=\"none\" stroke=\"black\" d=\"M274.73,-341.91C267.59,-332.92 259.96,-323.32 252.59,-314.05\"/>\n<polygon fill=\"black\" stroke=\"black\" points=\"255.17,-311.67 246.21,-306.02 249.69,-316.03 255.17,-311.67\"/>\n<text text-anchor=\"middle\" x=\"243.37\" y=\"-327.16\" font-family=\"Helvetica,sans-Serif\" font-size=\"14.00\">True</text>\n</g>\n<!-- 6 -->\n<g id=\"node7\" class=\"node\">\n<title>6</title>\n<path fill=\"#f3c3a0\" stroke=\"black\" d=\"M538,-306C538,-306 372,-306 372,-306 366,-306 360,-300 360,-294 360,-294 360,-235 360,-235 360,-229 366,-223 372,-223 372,-223 538,-223 538,-223 544,-223 550,-229 550,-235 550,-235 550,-294 550,-294 550,-300 544,-306 538,-306\"/>\n<text text-anchor=\"middle\" x=\"455\" y=\"-290.8\" font-family=\"Helvetica,sans-Serif\" font-size=\"14.00\">km_por_ano &lt;= 24124.006</text>\n<text text-anchor=\"middle\" x=\"455\" y=\"-275.8\" font-family=\"Helvetica,sans-Serif\" font-size=\"14.00\">gini = 0.45</text>\n<text text-anchor=\"middle\" x=\"455\" y=\"-260.8\" font-family=\"Helvetica,sans-Serif\" font-size=\"14.00\">samples = 5653</text>\n<text text-anchor=\"middle\" x=\"455\" y=\"-245.8\" font-family=\"Helvetica,sans-Serif\" font-size=\"14.00\">value = [3716, 1937]</text>\n<text text-anchor=\"middle\" x=\"455\" y=\"-230.8\" font-family=\"Helvetica,sans-Serif\" font-size=\"14.00\">class = não</text>\n</g>\n<!-- 0&#45;&gt;6 -->\n<g id=\"edge6\" class=\"edge\">\n<title>0&#45;&gt;6</title>\n<path fill=\"none\" stroke=\"black\" d=\"M358.35,-341.91C370.4,-332.38 383.34,-322.15 395.71,-312.37\"/>\n<polygon fill=\"black\" stroke=\"black\" points=\"398.07,-314.97 403.74,-306.02 393.73,-309.48 398.07,-314.97\"/>\n<text text-anchor=\"middle\" x=\"400.84\" y=\"-327.15\" font-family=\"Helvetica,sans-Serif\" font-size=\"14.00\">False</text>\n</g>\n<!-- 2 -->\n<g id=\"node3\" class=\"node\">\n<title>2</title>\n<path fill=\"#399de5\" stroke=\"black\" d=\"M110,-179.5C110,-179.5 12,-179.5 12,-179.5 6,-179.5 0,-173.5 0,-167.5 0,-167.5 0,-123.5 0,-123.5 0,-117.5 6,-111.5 12,-111.5 12,-111.5 110,-111.5 110,-111.5 116,-111.5 122,-117.5 122,-123.5 122,-123.5 122,-167.5 122,-167.5 122,-173.5 116,-179.5 110,-179.5\"/>\n<text text-anchor=\"middle\" x=\"61\" y=\"-164.3\" font-family=\"Helvetica,sans-Serif\" font-size=\"14.00\">gini = 0.0</text>\n<text text-anchor=\"middle\" x=\"61\" y=\"-149.3\" font-family=\"Helvetica,sans-Serif\" font-size=\"14.00\">samples = 1935</text>\n<text text-anchor=\"middle\" x=\"61\" y=\"-134.3\" font-family=\"Helvetica,sans-Serif\" font-size=\"14.00\">value = [0, 1935]</text>\n<text text-anchor=\"middle\" x=\"61\" y=\"-119.3\" font-family=\"Helvetica,sans-Serif\" font-size=\"14.00\">class = sim</text>\n</g>\n<!-- 1&#45;&gt;2 -->\n<g id=\"edge2\" class=\"edge\">\n<title>1&#45;&gt;2</title>\n<path fill=\"none\" stroke=\"black\" d=\"M160.92,-222.91C145.19,-210.88 128,-197.73 112.38,-185.79\"/>\n<polygon fill=\"black\" stroke=\"black\" points=\"114.44,-182.96 104.37,-179.67 110.19,-188.52 114.44,-182.96\"/>\n</g>\n<!-- 3 -->\n<g id=\"node4\" class=\"node\">\n<title>3</title>\n<path fill=\"#6bb6ec\" stroke=\"black\" d=\"M275.5,-187C275.5,-187 152.5,-187 152.5,-187 146.5,-187 140.5,-181 140.5,-175 140.5,-175 140.5,-116 140.5,-116 140.5,-110 146.5,-104 152.5,-104 152.5,-104 275.5,-104 275.5,-104 281.5,-104 287.5,-110 287.5,-116 287.5,-116 287.5,-175 287.5,-175 287.5,-181 281.5,-187 275.5,-187\"/>\n<text text-anchor=\"middle\" x=\"214\" y=\"-171.8\" font-family=\"Helvetica,sans-Serif\" font-size=\"14.00\">preco &lt;= 41083.029</text>\n<text text-anchor=\"middle\" x=\"214\" y=\"-156.8\" font-family=\"Helvetica,sans-Serif\" font-size=\"14.00\">gini = 0.321</text>\n<text text-anchor=\"middle\" x=\"214\" y=\"-141.8\" font-family=\"Helvetica,sans-Serif\" font-size=\"14.00\">samples = 2412</text>\n<text text-anchor=\"middle\" x=\"214\" y=\"-126.8\" font-family=\"Helvetica,sans-Serif\" font-size=\"14.00\">value = [484, 1928]</text>\n<text text-anchor=\"middle\" x=\"214\" y=\"-111.8\" font-family=\"Helvetica,sans-Serif\" font-size=\"14.00\">class = sim</text>\n</g>\n<!-- 1&#45;&gt;3 -->\n<g id=\"edge3\" class=\"edge\">\n<title>1&#45;&gt;3</title>\n<path fill=\"none\" stroke=\"black\" d=\"M214,-222.91C214,-214.65 214,-205.86 214,-197.3\"/>\n<polygon fill=\"black\" stroke=\"black\" points=\"217.5,-197.02 214,-187.02 210.5,-197.02 217.5,-197.02\"/>\n</g>\n<!-- 4 -->\n<g id=\"node5\" class=\"node\">\n<title>4</title>\n<path fill=\"#95cbf1\" stroke=\"black\" d=\"M114.5,-68C114.5,-68 25.5,-68 25.5,-68 19.5,-68 13.5,-62 13.5,-56 13.5,-56 13.5,-12 13.5,-12 13.5,-6 19.5,0 25.5,0 25.5,0 114.5,0 114.5,0 120.5,0 126.5,-6 126.5,-12 126.5,-12 126.5,-56 126.5,-56 126.5,-62 120.5,-68 114.5,-68\"/>\n<text text-anchor=\"middle\" x=\"70\" y=\"-52.8\" font-family=\"Helvetica,sans-Serif\" font-size=\"14.00\">gini = 0.434</text>\n<text text-anchor=\"middle\" x=\"70\" y=\"-37.8\" font-family=\"Helvetica,sans-Serif\" font-size=\"14.00\">samples = 110</text>\n<text text-anchor=\"middle\" x=\"70\" y=\"-22.8\" font-family=\"Helvetica,sans-Serif\" font-size=\"14.00\">value = [35, 75]</text>\n<text text-anchor=\"middle\" x=\"70\" y=\"-7.8\" font-family=\"Helvetica,sans-Serif\" font-size=\"14.00\">class = sim</text>\n</g>\n<!-- 3&#45;&gt;4 -->\n<g id=\"edge4\" class=\"edge\">\n<title>3&#45;&gt;4</title>\n<path fill=\"none\" stroke=\"black\" d=\"M160.38,-103.73C147.79,-94.15 134.39,-83.96 121.87,-74.44\"/>\n<polygon fill=\"black\" stroke=\"black\" points=\"123.87,-71.57 113.79,-68.3 119.63,-77.14 123.87,-71.57\"/>\n</g>\n<!-- 5 -->\n<g id=\"node6\" class=\"node\">\n<title>5</title>\n<path fill=\"#69b5eb\" stroke=\"black\" d=\"M271,-68C271,-68 157,-68 157,-68 151,-68 145,-62 145,-56 145,-56 145,-12 145,-12 145,-6 151,0 157,0 157,0 271,0 271,0 277,0 283,-6 283,-12 283,-12 283,-56 283,-56 283,-62 277,-68 271,-68\"/>\n<text text-anchor=\"middle\" x=\"214\" y=\"-52.8\" font-family=\"Helvetica,sans-Serif\" font-size=\"14.00\">gini = 0.314</text>\n<text text-anchor=\"middle\" x=\"214\" y=\"-37.8\" font-family=\"Helvetica,sans-Serif\" font-size=\"14.00\">samples = 2302</text>\n<text text-anchor=\"middle\" x=\"214\" y=\"-22.8\" font-family=\"Helvetica,sans-Serif\" font-size=\"14.00\">value = [449, 1853]</text>\n<text text-anchor=\"middle\" x=\"214\" y=\"-7.8\" font-family=\"Helvetica,sans-Serif\" font-size=\"14.00\">class = sim</text>\n</g>\n<!-- 3&#45;&gt;5 -->\n<g id=\"edge5\" class=\"edge\">\n<title>3&#45;&gt;5</title>\n<path fill=\"none\" stroke=\"black\" d=\"M214,-103.73C214,-95.52 214,-86.86 214,-78.56\"/>\n<polygon fill=\"black\" stroke=\"black\" points=\"217.5,-78.3 214,-68.3 210.5,-78.3 217.5,-78.3\"/>\n</g>\n<!-- 7 -->\n<g id=\"node8\" class=\"node\">\n<title>7</title>\n<path fill=\"#fcefe5\" stroke=\"black\" d=\"M516,-187C516,-187 394,-187 394,-187 388,-187 382,-181 382,-175 382,-175 382,-116 382,-116 382,-110 388,-104 394,-104 394,-104 516,-104 516,-104 522,-104 528,-110 528,-116 528,-116 528,-175 528,-175 528,-181 522,-187 516,-187\"/>\n<text text-anchor=\"middle\" x=\"455\" y=\"-171.8\" font-family=\"Helvetica,sans-Serif\" font-size=\"14.00\">preco &lt;= 99974.41</text>\n<text text-anchor=\"middle\" x=\"455\" y=\"-156.8\" font-family=\"Helvetica,sans-Serif\" font-size=\"14.00\">gini = 0.498</text>\n<text text-anchor=\"middle\" x=\"455\" y=\"-141.8\" font-family=\"Helvetica,sans-Serif\" font-size=\"14.00\">samples = 3513</text>\n<text text-anchor=\"middle\" x=\"455\" y=\"-126.8\" font-family=\"Helvetica,sans-Serif\" font-size=\"14.00\">value = [1879, 1634]</text>\n<text text-anchor=\"middle\" x=\"455\" y=\"-111.8\" font-family=\"Helvetica,sans-Serif\" font-size=\"14.00\">class = não</text>\n</g>\n<!-- 6&#45;&gt;7 -->\n<g id=\"edge7\" class=\"edge\">\n<title>6&#45;&gt;7</title>\n<path fill=\"none\" stroke=\"black\" d=\"M455,-222.91C455,-214.65 455,-205.86 455,-197.3\"/>\n<polygon fill=\"black\" stroke=\"black\" points=\"458.5,-197.02 455,-187.02 451.5,-197.02 458.5,-197.02\"/>\n</g>\n<!-- 10 -->\n<g id=\"node11\" class=\"node\">\n<title>10</title>\n<path fill=\"#e9965a\" stroke=\"black\" d=\"M743.5,-187C743.5,-187 612.5,-187 612.5,-187 606.5,-187 600.5,-181 600.5,-175 600.5,-175 600.5,-116 600.5,-116 600.5,-110 606.5,-104 612.5,-104 612.5,-104 743.5,-104 743.5,-104 749.5,-104 755.5,-110 755.5,-116 755.5,-116 755.5,-175 755.5,-175 755.5,-181 749.5,-187 743.5,-187\"/>\n<text text-anchor=\"middle\" x=\"678\" y=\"-171.8\" font-family=\"Helvetica,sans-Serif\" font-size=\"14.00\">preco &lt;= 100076.957</text>\n<text text-anchor=\"middle\" x=\"678\" y=\"-156.8\" font-family=\"Helvetica,sans-Serif\" font-size=\"14.00\">gini = 0.243</text>\n<text text-anchor=\"middle\" x=\"678\" y=\"-141.8\" font-family=\"Helvetica,sans-Serif\" font-size=\"14.00\">samples = 2140</text>\n<text text-anchor=\"middle\" x=\"678\" y=\"-126.8\" font-family=\"Helvetica,sans-Serif\" font-size=\"14.00\">value = [1837, 303]</text>\n<text text-anchor=\"middle\" x=\"678\" y=\"-111.8\" font-family=\"Helvetica,sans-Serif\" font-size=\"14.00\">class = não</text>\n</g>\n<!-- 6&#45;&gt;10 -->\n<g id=\"edge10\" class=\"edge\">\n<title>6&#45;&gt;10</title>\n<path fill=\"none\" stroke=\"black\" d=\"M532.37,-222.91C551.57,-212.83 572.26,-201.98 591.85,-191.7\"/>\n<polygon fill=\"black\" stroke=\"black\" points=\"593.54,-194.77 600.77,-187.02 590.29,-188.57 593.54,-194.77\"/>\n</g>\n<!-- 8 -->\n<g id=\"node9\" class=\"node\">\n<title>8</title>\n<path fill=\"#f9e0ce\" stroke=\"black\" d=\"M435,-68C435,-68 313,-68 313,-68 307,-68 301,-62 301,-56 301,-56 301,-12 301,-12 301,-6 307,0 313,0 313,0 435,0 435,0 441,0 447,-6 447,-12 447,-12 447,-56 447,-56 447,-62 441,-68 435,-68\"/>\n<text text-anchor=\"middle\" x=\"374\" y=\"-52.8\" font-family=\"Helvetica,sans-Serif\" font-size=\"14.00\">gini = 0.49</text>\n<text text-anchor=\"middle\" x=\"374\" y=\"-37.8\" font-family=\"Helvetica,sans-Serif\" font-size=\"14.00\">samples = 2944</text>\n<text text-anchor=\"middle\" x=\"374\" y=\"-22.8\" font-family=\"Helvetica,sans-Serif\" font-size=\"14.00\">value = [1682, 1262]</text>\n<text text-anchor=\"middle\" x=\"374\" y=\"-7.8\" font-family=\"Helvetica,sans-Serif\" font-size=\"14.00\">class = não</text>\n</g>\n<!-- 7&#45;&gt;8 -->\n<g id=\"edge8\" class=\"edge\">\n<title>7&#45;&gt;8</title>\n<path fill=\"none\" stroke=\"black\" d=\"M424.84,-103.73C418.23,-94.79 411.22,-85.32 404.59,-76.36\"/>\n<polygon fill=\"black\" stroke=\"black\" points=\"407.39,-74.26 398.63,-68.3 401.77,-78.42 407.39,-74.26\"/>\n</g>\n<!-- 9 -->\n<g id=\"node10\" class=\"node\">\n<title>9</title>\n<path fill=\"#a2d1f3\" stroke=\"black\" d=\"M583,-68C583,-68 477,-68 477,-68 471,-68 465,-62 465,-56 465,-56 465,-12 465,-12 465,-6 471,0 477,0 477,0 583,0 583,0 589,0 595,-6 595,-12 595,-12 595,-56 595,-56 595,-62 589,-68 583,-68\"/>\n<text text-anchor=\"middle\" x=\"530\" y=\"-52.8\" font-family=\"Helvetica,sans-Serif\" font-size=\"14.00\">gini = 0.453</text>\n<text text-anchor=\"middle\" x=\"530\" y=\"-37.8\" font-family=\"Helvetica,sans-Serif\" font-size=\"14.00\">samples = 569</text>\n<text text-anchor=\"middle\" x=\"530\" y=\"-22.8\" font-family=\"Helvetica,sans-Serif\" font-size=\"14.00\">value = [197, 372]</text>\n<text text-anchor=\"middle\" x=\"530\" y=\"-7.8\" font-family=\"Helvetica,sans-Serif\" font-size=\"14.00\">class = sim</text>\n</g>\n<!-- 7&#45;&gt;9 -->\n<g id=\"edge9\" class=\"edge\">\n<title>7&#45;&gt;9</title>\n<path fill=\"none\" stroke=\"black\" d=\"M482.93,-103.73C488.99,-94.88 495.4,-85.51 501.49,-76.63\"/>\n<polygon fill=\"black\" stroke=\"black\" points=\"504.43,-78.53 507.19,-68.3 498.65,-74.57 504.43,-78.53\"/>\n</g>\n<!-- 11 -->\n<g id=\"node12\" class=\"node\">\n<title>11</title>\n<path fill=\"#e68742\" stroke=\"black\" d=\"M731,-68C731,-68 625,-68 625,-68 619,-68 613,-62 613,-56 613,-56 613,-12 613,-12 613,-6 619,0 625,0 625,0 731,0 731,0 737,0 743,-6 743,-12 743,-12 743,-56 743,-56 743,-62 737,-68 731,-68\"/>\n<text text-anchor=\"middle\" x=\"678\" y=\"-52.8\" font-family=\"Helvetica,sans-Serif\" font-size=\"14.00\">gini = 0.082</text>\n<text text-anchor=\"middle\" x=\"678\" y=\"-37.8\" font-family=\"Helvetica,sans-Serif\" font-size=\"14.00\">samples = 1809</text>\n<text text-anchor=\"middle\" x=\"678\" y=\"-22.8\" font-family=\"Helvetica,sans-Serif\" font-size=\"14.00\">value = [1732, 77]</text>\n<text text-anchor=\"middle\" x=\"678\" y=\"-7.8\" font-family=\"Helvetica,sans-Serif\" font-size=\"14.00\">class = não</text>\n</g>\n<!-- 10&#45;&gt;11 -->\n<g id=\"edge11\" class=\"edge\">\n<title>10&#45;&gt;11</title>\n<path fill=\"none\" stroke=\"black\" d=\"M678,-103.73C678,-95.52 678,-86.86 678,-78.56\"/>\n<polygon fill=\"black\" stroke=\"black\" points=\"681.5,-78.3 678,-68.3 674.5,-78.3 681.5,-78.3\"/>\n</g>\n<!-- 12 -->\n<g id=\"node13\" class=\"node\">\n<title>12</title>\n<path fill=\"#95cbf1\" stroke=\"black\" d=\"M879,-68C879,-68 773,-68 773,-68 767,-68 761,-62 761,-56 761,-56 761,-12 761,-12 761,-6 767,0 773,0 773,0 879,0 879,0 885,0 891,-6 891,-12 891,-12 891,-56 891,-56 891,-62 885,-68 879,-68\"/>\n<text text-anchor=\"middle\" x=\"826\" y=\"-52.8\" font-family=\"Helvetica,sans-Serif\" font-size=\"14.00\">gini = 0.433</text>\n<text text-anchor=\"middle\" x=\"826\" y=\"-37.8\" font-family=\"Helvetica,sans-Serif\" font-size=\"14.00\">samples = 331</text>\n<text text-anchor=\"middle\" x=\"826\" y=\"-22.8\" font-family=\"Helvetica,sans-Serif\" font-size=\"14.00\">value = [105, 226]</text>\n<text text-anchor=\"middle\" x=\"826\" y=\"-7.8\" font-family=\"Helvetica,sans-Serif\" font-size=\"14.00\">class = sim</text>\n</g>\n<!-- 10&#45;&gt;12 -->\n<g id=\"edge12\" class=\"edge\">\n<title>10&#45;&gt;12</title>\n<path fill=\"none\" stroke=\"black\" d=\"M733.11,-103.73C746.05,-94.15 759.82,-83.96 772.69,-74.44\"/>\n<polygon fill=\"black\" stroke=\"black\" points=\"775.04,-77.06 780.99,-68.3 770.87,-71.43 775.04,-77.06\"/>\n</g>\n</g>\n</svg>\n",
      "text/plain": [
       "<graphviz.sources.Source at 0x20ab871f520>"
      ]
     },
     "execution_count": 60,
     "metadata": {},
     "output_type": "execute_result"
    }
   ],
   "source": [
    "features = x_azar.columns\n",
    "dot_data = export_graphviz(melhor, out_file=None, filled=True, rounded=True,\n",
    "                        class_names=[\"não\", \"sim\"],\n",
    "                        feature_names = features)\n",
    "\n",
    "graph = graphviz.Source(dot_data)\n",
    "graph"
   ]
  },
  {
   "cell_type": "markdown",
   "metadata": {},
   "source": [
    "Na prática, a utilização do RandomizedSearchCV nos permite encontrar valores muito próximos aos que mais otimizarão nossos estimadores, sem que seja necessário explorar todo o espaço de parâmetros (o que muitas vezes é impossível)."
   ]
  },
  {
   "cell_type": "markdown",
   "metadata": {},
   "source": [
    "# Customizando o espaço de hiper parâmetros"
   ]
  },
  {
   "cell_type": "code",
   "execution_count": 61,
   "metadata": {},
   "outputs": [
    {
     "data": {
      "text/html": [
       "<div>\n",
       "<style scoped>\n",
       "    .dataframe tbody tr th:only-of-type {\n",
       "        vertical-align: middle;\n",
       "    }\n",
       "\n",
       "    .dataframe tbody tr th {\n",
       "        vertical-align: top;\n",
       "    }\n",
       "\n",
       "    .dataframe thead th {\n",
       "        text-align: right;\n",
       "    }\n",
       "</style>\n",
       "<table border=\"1\" class=\"dataframe\">\n",
       "  <thead>\n",
       "    <tr style=\"text-align: right;\">\n",
       "      <th></th>\n",
       "      <th>mean_fit_time</th>\n",
       "      <th>std_fit_time</th>\n",
       "      <th>mean_score_time</th>\n",
       "      <th>std_score_time</th>\n",
       "      <th>param_criterion</th>\n",
       "      <th>param_max_depth</th>\n",
       "      <th>param_min_samples_leaf</th>\n",
       "      <th>param_min_samples_split</th>\n",
       "      <th>params</th>\n",
       "      <th>split0_test_score</th>\n",
       "      <th>split1_test_score</th>\n",
       "      <th>split2_test_score</th>\n",
       "      <th>split3_test_score</th>\n",
       "      <th>split4_test_score</th>\n",
       "      <th>mean_test_score</th>\n",
       "      <th>std_test_score</th>\n",
       "      <th>rank_test_score</th>\n",
       "    </tr>\n",
       "  </thead>\n",
       "  <tbody>\n",
       "    <tr>\n",
       "      <th>0</th>\n",
       "      <td>0.013001</td>\n",
       "      <td>0.001097</td>\n",
       "      <td>0.001800</td>\n",
       "      <td>0.000400</td>\n",
       "      <td>entropy</td>\n",
       "      <td>3</td>\n",
       "      <td>71</td>\n",
       "      <td>100</td>\n",
       "      <td>{'criterion': 'entropy', 'max_depth': 3, 'min_...</td>\n",
       "      <td>0.7800</td>\n",
       "      <td>0.7910</td>\n",
       "      <td>0.7930</td>\n",
       "      <td>0.7735</td>\n",
       "      <td>0.7960</td>\n",
       "      <td>0.7867</td>\n",
       "      <td>0.008530</td>\n",
       "      <td>1</td>\n",
       "    </tr>\n",
       "    <tr>\n",
       "      <th>1</th>\n",
       "      <td>0.021001</td>\n",
       "      <td>0.003633</td>\n",
       "      <td>0.002600</td>\n",
       "      <td>0.000490</td>\n",
       "      <td>gini</td>\n",
       "      <td>15</td>\n",
       "      <td>93</td>\n",
       "      <td>111</td>\n",
       "      <td>{'criterion': 'gini', 'max_depth': 15, 'min_sa...</td>\n",
       "      <td>0.7725</td>\n",
       "      <td>0.7880</td>\n",
       "      <td>0.7845</td>\n",
       "      <td>0.7670</td>\n",
       "      <td>0.7845</td>\n",
       "      <td>0.7793</td>\n",
       "      <td>0.008091</td>\n",
       "      <td>9</td>\n",
       "    </tr>\n",
       "    <tr>\n",
       "      <th>2</th>\n",
       "      <td>0.027602</td>\n",
       "      <td>0.006652</td>\n",
       "      <td>0.003001</td>\n",
       "      <td>0.001097</td>\n",
       "      <td>gini</td>\n",
       "      <td>20</td>\n",
       "      <td>124</td>\n",
       "      <td>88</td>\n",
       "      <td>{'criterion': 'gini', 'max_depth': 20, 'min_sa...</td>\n",
       "      <td>0.7710</td>\n",
       "      <td>0.7880</td>\n",
       "      <td>0.7950</td>\n",
       "      <td>0.7695</td>\n",
       "      <td>0.7755</td>\n",
       "      <td>0.7798</td>\n",
       "      <td>0.010003</td>\n",
       "      <td>6</td>\n",
       "    </tr>\n",
       "    <tr>\n",
       "      <th>3</th>\n",
       "      <td>0.028002</td>\n",
       "      <td>0.009530</td>\n",
       "      <td>0.003201</td>\n",
       "      <td>0.001470</td>\n",
       "      <td>gini</td>\n",
       "      <td>None</td>\n",
       "      <td>46</td>\n",
       "      <td>62</td>\n",
       "      <td>{'criterion': 'gini', 'max_depth': None, 'min_...</td>\n",
       "      <td>0.7700</td>\n",
       "      <td>0.7765</td>\n",
       "      <td>0.7785</td>\n",
       "      <td>0.7615</td>\n",
       "      <td>0.7805</td>\n",
       "      <td>0.7734</td>\n",
       "      <td>0.006917</td>\n",
       "      <td>16</td>\n",
       "    </tr>\n",
       "    <tr>\n",
       "      <th>4</th>\n",
       "      <td>0.022401</td>\n",
       "      <td>0.002728</td>\n",
       "      <td>0.002601</td>\n",
       "      <td>0.000801</td>\n",
       "      <td>gini</td>\n",
       "      <td>15</td>\n",
       "      <td>126</td>\n",
       "      <td>84</td>\n",
       "      <td>{'criterion': 'gini', 'max_depth': 15, 'min_sa...</td>\n",
       "      <td>0.7710</td>\n",
       "      <td>0.7880</td>\n",
       "      <td>0.7890</td>\n",
       "      <td>0.7695</td>\n",
       "      <td>0.7755</td>\n",
       "      <td>0.7786</td>\n",
       "      <td>0.008327</td>\n",
       "      <td>11</td>\n",
       "    </tr>\n",
       "  </tbody>\n",
       "</table>\n",
       "</div>"
      ],
      "text/plain": [
       "   mean_fit_time  std_fit_time  mean_score_time  std_score_time  \\\n",
       "0       0.013001      0.001097         0.001800        0.000400   \n",
       "1       0.021001      0.003633         0.002600        0.000490   \n",
       "2       0.027602      0.006652         0.003001        0.001097   \n",
       "3       0.028002      0.009530         0.003201        0.001470   \n",
       "4       0.022401      0.002728         0.002601        0.000801   \n",
       "\n",
       "  param_criterion param_max_depth param_min_samples_leaf  \\\n",
       "0         entropy               3                     71   \n",
       "1            gini              15                     93   \n",
       "2            gini              20                    124   \n",
       "3            gini            None                     46   \n",
       "4            gini              15                    126   \n",
       "\n",
       "  param_min_samples_split                                             params  \\\n",
       "0                     100  {'criterion': 'entropy', 'max_depth': 3, 'min_...   \n",
       "1                     111  {'criterion': 'gini', 'max_depth': 15, 'min_sa...   \n",
       "2                      88  {'criterion': 'gini', 'max_depth': 20, 'min_sa...   \n",
       "3                      62  {'criterion': 'gini', 'max_depth': None, 'min_...   \n",
       "4                      84  {'criterion': 'gini', 'max_depth': 15, 'min_sa...   \n",
       "\n",
       "   split0_test_score  split1_test_score  split2_test_score  split3_test_score  \\\n",
       "0             0.7800             0.7910             0.7930             0.7735   \n",
       "1             0.7725             0.7880             0.7845             0.7670   \n",
       "2             0.7710             0.7880             0.7950             0.7695   \n",
       "3             0.7700             0.7765             0.7785             0.7615   \n",
       "4             0.7710             0.7880             0.7890             0.7695   \n",
       "\n",
       "   split4_test_score  mean_test_score  std_test_score  rank_test_score  \n",
       "0             0.7960           0.7867        0.008530                1  \n",
       "1             0.7845           0.7793        0.008091                9  \n",
       "2             0.7755           0.7798        0.010003                6  \n",
       "3             0.7805           0.7734        0.006917               16  \n",
       "4             0.7755           0.7786        0.008327               11  "
      ]
     },
     "execution_count": 61,
     "metadata": {},
     "output_type": "execute_result"
    }
   ],
   "source": [
    "from scipy.stats import randint\n",
    "\n",
    "SEED=301\n",
    "np.random.seed(SEED)\n",
    "\n",
    "espaco_de_parametros = {\n",
    "    \"max_depth\" : [3, 5, 10, 15, 20, 30, None],\n",
    "    \"min_samples_split\": randint(32, 128),\n",
    "    \"min_samples_leaf\": randint(32, 128),\n",
    "    \"criterion\": [\"gini\", \"entropy\"]\n",
    "\n",
    "}\n",
    "\n",
    "busca = RandomizedSearchCV(DecisionTreeClassifier(),\n",
    "                    espaco_de_parametros, \n",
    "                    n_iter = 16,\n",
    "                    cv = KFold(n_splits = 5, shuffle=True),\n",
    "                          random_state = SEED)\n",
    "\n",
    "\n",
    "busca.fit(x_azar, y_azar,groups = dados.modelo)\n",
    "resultados = pd.DataFrame(busca.cv_results_)\n",
    "resultados.head()"
   ]
  },
  {
   "cell_type": "code",
   "execution_count": 62,
   "metadata": {},
   "outputs": [
    {
     "name": "stdout",
     "output_type": "stream",
     "text": [
      "Accuracy médio 79\n",
      "Intervalo [78, 80]\n",
      "DecisionTreeClassifier(criterion='entropy', max_depth=3, min_samples_leaf=71,\n",
      "                       min_samples_split=100)\n"
     ]
    }
   ],
   "source": [
    "scores = cross_val_score(busca, x_azar, y_azar, cv = KFold(n_splits=5, shuffle=True))\n",
    "imprime_score(scores)\n",
    "melhor = busca.best_estimator_\n",
    "print(melhor)"
   ]
  },
  {
   "cell_type": "markdown",
   "metadata": {},
   "source": [
    "Nossa acurácia foi bem próxima dos resultados anteriores, mas o ponto é que demoramos um tempo 8.000 vezes menor para explorar esse espaço de parâmetros, obtendo resultados tão bons quanto conseguiríamos com o GridSearchCV."
   ]
  },
  {
   "cell_type": "markdown",
   "metadata": {},
   "source": [
    "Queremos ordenar os resultados da nossa busca pelo score médio (mean_test_score). Para isso, usaremos o sort_values, passando o nome dessa coluna e o argumento ascending=False (negando a ordenação crescente da função). Nesse momento, não estamos levando em consideração o intervalo de confiança (com duas vezes o desvio padrão)."
   ]
  },
  {
   "cell_type": "code",
   "execution_count": 77,
   "metadata": {},
   "outputs": [
    {
     "name": "stdout",
     "output_type": "stream",
     "text": [
      "0.778 +- (  0) {'n_estimators': 10, 'min_samples_split': 32, 'min_samples_leaf': 64, 'max_depth': 3, 'criterion': 'entropy', 'bootstrap': False}\n",
      "0.776 +- (  0) {'n_estimators': 100, 'min_samples_split': 32, 'min_samples_leaf': 32, 'max_depth': 5, 'criterion': 'entropy', 'bootstrap': True}\n",
      "0.776 +- (  0) {'n_estimators': 100, 'min_samples_split': 32, 'min_samples_leaf': 32, 'max_depth': 5, 'criterion': 'gini', 'bootstrap': False}\n",
      "0.776 +- (  0) {'n_estimators': 100, 'min_samples_split': 128, 'min_samples_leaf': 32, 'max_depth': 3, 'criterion': 'entropy', 'bootstrap': False}\n",
      "0.775 +- (  0) {'n_estimators': 100, 'min_samples_split': 32, 'min_samples_leaf': 128, 'max_depth': 3, 'criterion': 'entropy', 'bootstrap': False}\n",
      "0.775 +- (  0) {'n_estimators': 100, 'min_samples_split': 64, 'min_samples_leaf': 32, 'max_depth': 5, 'criterion': 'entropy', 'bootstrap': True}\n",
      "0.775 +- (  0) {'n_estimators': 100, 'min_samples_split': 32, 'min_samples_leaf': 128, 'max_depth': 3, 'criterion': 'gini', 'bootstrap': False}\n",
      "0.775 +- (  0) {'n_estimators': 10, 'min_samples_split': 32, 'min_samples_leaf': 32, 'max_depth': 5, 'criterion': 'gini', 'bootstrap': True}\n",
      "0.774 +- (  0) {'n_estimators': 100, 'min_samples_split': 64, 'min_samples_leaf': 64, 'max_depth': 3, 'criterion': 'gini', 'bootstrap': False}\n",
      "0.772 +- (  0) {'n_estimators': 100, 'min_samples_split': 32, 'min_samples_leaf': 128, 'max_depth': 3, 'criterion': 'entropy', 'bootstrap': True}\n",
      "0.771 +- (  0) {'n_estimators': 100, 'min_samples_split': 32, 'min_samples_leaf': 32, 'max_depth': 3, 'criterion': 'entropy', 'bootstrap': False}\n",
      "0.771 +- (  0) {'n_estimators': 10, 'min_samples_split': 128, 'min_samples_leaf': 128, 'max_depth': 3, 'criterion': 'gini', 'bootstrap': True}\n",
      "0.770 +- (  0) {'n_estimators': 100, 'min_samples_split': 32, 'min_samples_leaf': 128, 'max_depth': 3, 'criterion': 'gini', 'bootstrap': True}\n",
      "0.768 +- (  0) {'n_estimators': 100, 'min_samples_split': 128, 'min_samples_leaf': 64, 'max_depth': 3, 'criterion': 'entropy', 'bootstrap': True}\n",
      "0.768 +- (  0) {'n_estimators': 10, 'min_samples_split': 64, 'min_samples_leaf': 32, 'max_depth': 3, 'criterion': 'gini', 'bootstrap': True}\n",
      "0.767 +- (  0) {'n_estimators': 10, 'min_samples_split': 32, 'min_samples_leaf': 128, 'max_depth': 5, 'criterion': 'entropy', 'bootstrap': True}\n",
      "0.767 +- (  0) {'n_estimators': 10, 'min_samples_split': 64, 'min_samples_leaf': 32, 'max_depth': 3, 'criterion': 'entropy', 'bootstrap': False}\n",
      "0.765 +- (  0) {'n_estimators': 10, 'min_samples_split': 128, 'min_samples_leaf': 64, 'max_depth': 3, 'criterion': 'gini', 'bootstrap': False}\n",
      "0.763 +- (  0) {'n_estimators': 10, 'min_samples_split': 32, 'min_samples_leaf': 128, 'max_depth': 3, 'criterion': 'entropy', 'bootstrap': False}\n",
      "0.754 +- (  0) {'n_estimators': 10, 'min_samples_split': 128, 'min_samples_leaf': 32, 'max_depth': 3, 'criterion': 'gini', 'bootstrap': True}\n"
     ]
    }
   ],
   "source": [
    "resultados_ordenados_pela_media = resultados.sort_values(\"mean_test_score\", ascending=False)\n",
    "#Com a função iterrows, iremos iterar por cada uma das linhas dessa tabela do pandas. O iterrows é um gerador de iteração que devolve dois elementos em cada uma das linhas: \n",
    "# o índice e a linha. Começaremos imprimindo os índices:\n",
    "for indice, linha in resultados_ordenados_pela_media.iterrows():\n",
    "    print(\"%.3f +- (%3.f) %s\" % (linha.mean_test_score, linha.std_test_score*2, linha.params))\n"
   ]
  },
  {
   "cell_type": "markdown",
   "metadata": {},
   "source": [
    "Essa é uma forma resumida de imprimir os resultados que recebíamos na tabela do pandas. Com 16 combinações, é uma análise razoável. Mas e se quiséssemos explorar um número maior - por exemplo, 64? Imprimindo os resultados dessa exploração na tela, encontraremos os mesmos RandomizedSearchCV irá explorar os parâmetros da mesma maneira"
   ]
  },
  {
   "cell_type": "markdown",
   "metadata": {},
   "source": [
    "Porém, essa exploração é aleatória, e não é uma prática comum mudarmos o SEED para encontrar valores ótimos - já que, como podemos perceber, os valores são bastante próximos entre si. Na verdade, esses resultados também poderiam ser muito distantes entre si, dependendo de várias condições.\n",
    "\n",
    "Para encerrar, faremos a validação cruzada aninhada e imprimiremos o melhor conjunto de parâmetros encontrado para esse estimador:"
   ]
  },
  {
   "cell_type": "code",
   "execution_count": 64,
   "metadata": {},
   "outputs": [
    {
     "name": "stdout",
     "output_type": "stream",
     "text": [
      "Accuracy médio 79\n",
      "Intervalo [77, 81]\n",
      "DecisionTreeClassifier(criterion='entropy', max_depth=3, min_samples_leaf=71,\n",
      "                       min_samples_split=100)\n"
     ]
    }
   ],
   "source": [
    "scores = cross_val_score(busca, x_azar, y_azar, cv = KFold(n_splits=5, shuffle=True))\n",
    "imprime_score(scores)\n",
    "melhor = busca.best_estimator_\n",
    "print(melhor)"
   ]
  },
  {
   "cell_type": "markdown",
   "metadata": {},
   "source": [
    "Esse é o resultado do nosso treino com uma busca aleatória contendo 64 tentativas. Repare que ainda conseguimos executar o código rapidamente, e com um computador mais potente conseguiríamos rodar ainda mais valores para o nosso estimador.\n",
    "\n",
    "Mas será que o RandomizedSearchCV é mesmo melhor que o GridSearchCV?\n",
    "\n",
    " DISCUTIR NO FORUM\n",
    "PRÓXIMA ATIVIDA"
   ]
  },
  {
   "cell_type": "markdown",
   "metadata": {},
   "source": [
    "# Comparando GridSearchCV com RandomizedSearch (1comparação)"
   ]
  },
  {
   "cell_type": "markdown",
   "metadata": {},
   "source": [
    "Além disso, se o grid tiver valores infinitos entre 0 e 1, será impossível explorar todo esse espaço, sendo necessário pegar exemplares aleatórios ou discretizar a seleção de alguma forma."
   ]
  },
  {
   "cell_type": "markdown",
   "metadata": {},
   "source": [
    "OBS: \"Até o momento, vínhamos utilizando o DecisionTreeClassifier, um dos diversos classificadores baseados em árvores de decisão. Existem outros classificadores que, ao invés de tentarem uma única árvore, tentam diversas árvores. Um desses, bem famoso, é o ensemble RandomForestClassifier.\n",
    "\n",
    "O sklearn ensemble RandomForestClassifier é um conjunto de classificadores que atuam de forma uníssona para chegar a uma conclusão. Além de possuir os diversos hiperparâmetros que já conhecemos antes, esse classificador possui alguns novos, como max_features (o número máximo de colunas de X utilizado para chegar a uma decisão)\""
   ]
  },
  {
   "cell_type": "code",
   "execution_count": 65,
   "metadata": {},
   "outputs": [
    {
     "name": "stdout",
     "output_type": "stream",
     "text": [
      "Tempo 312.60 segundos\n"
     ]
    },
    {
     "data": {
      "text/html": [
       "<div>\n",
       "<style scoped>\n",
       "    .dataframe tbody tr th:only-of-type {\n",
       "        vertical-align: middle;\n",
       "    }\n",
       "\n",
       "    .dataframe tbody tr th {\n",
       "        vertical-align: top;\n",
       "    }\n",
       "\n",
       "    .dataframe thead th {\n",
       "        text-align: right;\n",
       "    }\n",
       "</style>\n",
       "<table border=\"1\" class=\"dataframe\">\n",
       "  <thead>\n",
       "    <tr style=\"text-align: right;\">\n",
       "      <th></th>\n",
       "      <th>mean_fit_time</th>\n",
       "      <th>std_fit_time</th>\n",
       "      <th>mean_score_time</th>\n",
       "      <th>std_score_time</th>\n",
       "      <th>param_bootstrap</th>\n",
       "      <th>param_criterion</th>\n",
       "      <th>param_max_depth</th>\n",
       "      <th>param_min_samples_leaf</th>\n",
       "      <th>param_min_samples_split</th>\n",
       "      <th>param_n_estimators</th>\n",
       "      <th>params</th>\n",
       "      <th>split0_test_score</th>\n",
       "      <th>split1_test_score</th>\n",
       "      <th>split2_test_score</th>\n",
       "      <th>split3_test_score</th>\n",
       "      <th>split4_test_score</th>\n",
       "      <th>mean_test_score</th>\n",
       "      <th>std_test_score</th>\n",
       "      <th>rank_test_score</th>\n",
       "    </tr>\n",
       "  </thead>\n",
       "  <tbody>\n",
       "    <tr>\n",
       "      <th>0</th>\n",
       "      <td>0.055204</td>\n",
       "      <td>0.006853</td>\n",
       "      <td>0.006601</td>\n",
       "      <td>0.002059</td>\n",
       "      <td>True</td>\n",
       "      <td>gini</td>\n",
       "      <td>3</td>\n",
       "      <td>32</td>\n",
       "      <td>32</td>\n",
       "      <td>10</td>\n",
       "      <td>{'bootstrap': True, 'criterion': 'gini', 'max_...</td>\n",
       "      <td>0.7710</td>\n",
       "      <td>0.7730</td>\n",
       "      <td>0.7400</td>\n",
       "      <td>0.7620</td>\n",
       "      <td>0.7170</td>\n",
       "      <td>0.7526</td>\n",
       "      <td>0.021304</td>\n",
       "      <td>142</td>\n",
       "    </tr>\n",
       "    <tr>\n",
       "      <th>1</th>\n",
       "      <td>0.692975</td>\n",
       "      <td>0.075191</td>\n",
       "      <td>0.049405</td>\n",
       "      <td>0.007967</td>\n",
       "      <td>True</td>\n",
       "      <td>gini</td>\n",
       "      <td>3</td>\n",
       "      <td>32</td>\n",
       "      <td>32</td>\n",
       "      <td>100</td>\n",
       "      <td>{'bootstrap': True, 'criterion': 'gini', 'max_...</td>\n",
       "      <td>0.7715</td>\n",
       "      <td>0.7820</td>\n",
       "      <td>0.7800</td>\n",
       "      <td>0.7610</td>\n",
       "      <td>0.7785</td>\n",
       "      <td>0.7746</td>\n",
       "      <td>0.007664</td>\n",
       "      <td>41</td>\n",
       "    </tr>\n",
       "    <tr>\n",
       "      <th>2</th>\n",
       "      <td>0.085204</td>\n",
       "      <td>0.002925</td>\n",
       "      <td>0.008802</td>\n",
       "      <td>0.001470</td>\n",
       "      <td>True</td>\n",
       "      <td>gini</td>\n",
       "      <td>3</td>\n",
       "      <td>32</td>\n",
       "      <td>64</td>\n",
       "      <td>10</td>\n",
       "      <td>{'bootstrap': True, 'criterion': 'gini', 'max_...</td>\n",
       "      <td>0.7710</td>\n",
       "      <td>0.7830</td>\n",
       "      <td>0.7690</td>\n",
       "      <td>0.7585</td>\n",
       "      <td>0.7795</td>\n",
       "      <td>0.7722</td>\n",
       "      <td>0.008594</td>\n",
       "      <td>82</td>\n",
       "    </tr>\n",
       "    <tr>\n",
       "      <th>3</th>\n",
       "      <td>0.715454</td>\n",
       "      <td>0.048215</td>\n",
       "      <td>0.046204</td>\n",
       "      <td>0.005037</td>\n",
       "      <td>True</td>\n",
       "      <td>gini</td>\n",
       "      <td>3</td>\n",
       "      <td>32</td>\n",
       "      <td>64</td>\n",
       "      <td>100</td>\n",
       "      <td>{'bootstrap': True, 'criterion': 'gini', 'max_...</td>\n",
       "      <td>0.7635</td>\n",
       "      <td>0.7810</td>\n",
       "      <td>0.7805</td>\n",
       "      <td>0.7615</td>\n",
       "      <td>0.7790</td>\n",
       "      <td>0.7731</td>\n",
       "      <td>0.008703</td>\n",
       "      <td>72</td>\n",
       "    </tr>\n",
       "    <tr>\n",
       "      <th>4</th>\n",
       "      <td>0.068805</td>\n",
       "      <td>0.007025</td>\n",
       "      <td>0.007200</td>\n",
       "      <td>0.000981</td>\n",
       "      <td>True</td>\n",
       "      <td>gini</td>\n",
       "      <td>3</td>\n",
       "      <td>32</td>\n",
       "      <td>128</td>\n",
       "      <td>10</td>\n",
       "      <td>{'bootstrap': True, 'criterion': 'gini', 'max_...</td>\n",
       "      <td>0.7715</td>\n",
       "      <td>0.7765</td>\n",
       "      <td>0.7340</td>\n",
       "      <td>0.7425</td>\n",
       "      <td>0.7230</td>\n",
       "      <td>0.7495</td>\n",
       "      <td>0.020998</td>\n",
       "      <td>144</td>\n",
       "    </tr>\n",
       "  </tbody>\n",
       "</table>\n",
       "</div>"
      ],
      "text/plain": [
       "   mean_fit_time  std_fit_time  mean_score_time  std_score_time  \\\n",
       "0       0.055204      0.006853         0.006601        0.002059   \n",
       "1       0.692975      0.075191         0.049405        0.007967   \n",
       "2       0.085204      0.002925         0.008802        0.001470   \n",
       "3       0.715454      0.048215         0.046204        0.005037   \n",
       "4       0.068805      0.007025         0.007200        0.000981   \n",
       "\n",
       "  param_bootstrap param_criterion param_max_depth param_min_samples_leaf  \\\n",
       "0            True            gini               3                     32   \n",
       "1            True            gini               3                     32   \n",
       "2            True            gini               3                     32   \n",
       "3            True            gini               3                     32   \n",
       "4            True            gini               3                     32   \n",
       "\n",
       "  param_min_samples_split param_n_estimators  \\\n",
       "0                      32                 10   \n",
       "1                      32                100   \n",
       "2                      64                 10   \n",
       "3                      64                100   \n",
       "4                     128                 10   \n",
       "\n",
       "                                              params  split0_test_score  \\\n",
       "0  {'bootstrap': True, 'criterion': 'gini', 'max_...             0.7710   \n",
       "1  {'bootstrap': True, 'criterion': 'gini', 'max_...             0.7715   \n",
       "2  {'bootstrap': True, 'criterion': 'gini', 'max_...             0.7710   \n",
       "3  {'bootstrap': True, 'criterion': 'gini', 'max_...             0.7635   \n",
       "4  {'bootstrap': True, 'criterion': 'gini', 'max_...             0.7715   \n",
       "\n",
       "   split1_test_score  split2_test_score  split3_test_score  split4_test_score  \\\n",
       "0             0.7730             0.7400             0.7620             0.7170   \n",
       "1             0.7820             0.7800             0.7610             0.7785   \n",
       "2             0.7830             0.7690             0.7585             0.7795   \n",
       "3             0.7810             0.7805             0.7615             0.7790   \n",
       "4             0.7765             0.7340             0.7425             0.7230   \n",
       "\n",
       "   mean_test_score  std_test_score  rank_test_score  \n",
       "0           0.7526        0.021304              142  \n",
       "1           0.7746        0.007664               41  \n",
       "2           0.7722        0.008594               82  \n",
       "3           0.7731        0.008703               72  \n",
       "4           0.7495        0.020998              144  "
      ]
     },
     "execution_count": 65,
     "metadata": {},
     "output_type": "execute_result"
    }
   ],
   "source": [
    "from sklearn.ensemble import RandomForestClassifier\n",
    "import time \n",
    "\n",
    "SEED=301\n",
    "np.random.seed(SEED)\n",
    "\n",
    "espaco_de_parametros = {\n",
    "    \"n_estimators\" : [10, 100],\n",
    "    \"max_depth\" : [3, 5],\n",
    "    \"min_samples_split\": [32, 64, 128],\n",
    "    \"min_samples_leaf\": [32, 64, 128],\n",
    "    \"bootstrap\" : [True, False],\n",
    "    \"criterion\": [\"gini\", \"entropy\"]\n",
    "\n",
    "}\n",
    "\n",
    "tic = time.time()\n",
    "busca = GridSearchCV(RandomForestClassifier(),\n",
    "                    espaco_de_parametros,\n",
    "                    cv = KFold(n_splits = 5, shuffle=True))\n",
    "busca.fit(x_azar, y_azar)\n",
    "tac = time.time()\n",
    "tempo_que_passou = tac - tic\n",
    "print(\"Tempo %.2f segundos\" % tempo_que_passou)\n",
    "\n",
    "resultados = pd.DataFrame(busca.cv_results_)\n",
    "resultados.head()"
   ]
  },
  {
   "cell_type": "code",
   "execution_count": 76,
   "metadata": {},
   "outputs": [
    {
     "name": "stdout",
     "output_type": "stream",
     "text": [
      "0.778 +-(0.020) {'n_estimators': 10, 'min_samples_split': 32, 'min_samples_leaf': 64, 'max_depth': 3, 'criterion': 'entropy', 'bootstrap': False}\n",
      "0.776 +-(0.019) {'n_estimators': 100, 'min_samples_split': 32, 'min_samples_leaf': 32, 'max_depth': 5, 'criterion': 'entropy', 'bootstrap': True}\n",
      "0.776 +-(0.017) {'n_estimators': 100, 'min_samples_split': 32, 'min_samples_leaf': 32, 'max_depth': 5, 'criterion': 'gini', 'bootstrap': False}\n",
      "0.776 +-(0.016) {'n_estimators': 100, 'min_samples_split': 128, 'min_samples_leaf': 32, 'max_depth': 3, 'criterion': 'entropy', 'bootstrap': False}\n",
      "0.775 +-(0.016) {'n_estimators': 100, 'min_samples_split': 32, 'min_samples_leaf': 128, 'max_depth': 3, 'criterion': 'entropy', 'bootstrap': False}\n"
     ]
    }
   ],
   "source": [
    "resultados_ordenados_pela_media = resultados.sort_values(\"mean_test_score\", ascending=False)\n",
    "for indice, linha in resultados_ordenados_pela_media[:5].iterrows():\n",
    "  print(\"%.3f +-(%.3f) %s\" % (linha.mean_test_score, linha.std_test_score*2, linha.params))"
   ]
  },
  {
   "cell_type": "code",
   "execution_count": 67,
   "metadata": {},
   "outputs": [
    {
     "name": "stdout",
     "output_type": "stream",
     "text": [
      "Tempo -1101.38 segundos\n",
      "Accuracy médio 77\n",
      "Intervalo [73, 81]\n",
      "RandomForestClassifier(bootstrap=False, max_depth=5, min_samples_leaf=64,\n",
      "                       min_samples_split=64, n_estimators=10)\n"
     ]
    }
   ],
   "source": [
    "tic = time.time()\n",
    "scores = cross_val_score(busca, x_azar, y_azar, cv = KFold(n_splits=5, shuffle=True))\n",
    "tac = time.time()\n",
    "tempo_passado = tic - tac\n",
    "print(\"Tempo %.2f segundos\" % tempo_passado)\n",
    "\n",
    "imprime_score(scores)\n",
    "melhor = busca.best_estimator_\n",
    "print(melhor)"
   ]
  },
  {
   "cell_type": "markdown",
   "metadata": {},
   "source": [
    "Esse processo irá demorar tanto que o próprio Google Colab encerrará a conexão com a máquina virtual do Python. Ou seja, seria necessário rodarmos o código na nossa própria máquina para que a execução chegasse ao seu fim."
   ]
  },
  {
   "cell_type": "code",
   "execution_count": 70,
   "metadata": {},
   "outputs": [
    {
     "name": "stdout",
     "output_type": "stream",
     "text": [
      "Tempo 26.96 segundos\n"
     ]
    },
    {
     "data": {
      "text/html": [
       "<div>\n",
       "<style scoped>\n",
       "    .dataframe tbody tr th:only-of-type {\n",
       "        vertical-align: middle;\n",
       "    }\n",
       "\n",
       "    .dataframe tbody tr th {\n",
       "        vertical-align: top;\n",
       "    }\n",
       "\n",
       "    .dataframe thead th {\n",
       "        text-align: right;\n",
       "    }\n",
       "</style>\n",
       "<table border=\"1\" class=\"dataframe\">\n",
       "  <thead>\n",
       "    <tr style=\"text-align: right;\">\n",
       "      <th></th>\n",
       "      <th>mean_fit_time</th>\n",
       "      <th>std_fit_time</th>\n",
       "      <th>mean_score_time</th>\n",
       "      <th>std_score_time</th>\n",
       "      <th>param_n_estimators</th>\n",
       "      <th>param_min_samples_split</th>\n",
       "      <th>param_min_samples_leaf</th>\n",
       "      <th>param_max_depth</th>\n",
       "      <th>param_criterion</th>\n",
       "      <th>param_bootstrap</th>\n",
       "      <th>params</th>\n",
       "      <th>split0_test_score</th>\n",
       "      <th>split1_test_score</th>\n",
       "      <th>split2_test_score</th>\n",
       "      <th>split3_test_score</th>\n",
       "      <th>split4_test_score</th>\n",
       "      <th>mean_test_score</th>\n",
       "      <th>std_test_score</th>\n",
       "      <th>rank_test_score</th>\n",
       "    </tr>\n",
       "  </thead>\n",
       "  <tbody>\n",
       "    <tr>\n",
       "      <th>0</th>\n",
       "      <td>0.387244</td>\n",
       "      <td>0.013506</td>\n",
       "      <td>0.022002</td>\n",
       "      <td>0.001415</td>\n",
       "      <td>100</td>\n",
       "      <td>32</td>\n",
       "      <td>128</td>\n",
       "      <td>3</td>\n",
       "      <td>entropy</td>\n",
       "      <td>True</td>\n",
       "      <td>{'n_estimators': 100, 'min_samples_split': 32,...</td>\n",
       "      <td>0.7720</td>\n",
       "      <td>0.7895</td>\n",
       "      <td>0.7770</td>\n",
       "      <td>0.7665</td>\n",
       "      <td>0.7560</td>\n",
       "      <td>0.7722</td>\n",
       "      <td>0.011111</td>\n",
       "      <td>10</td>\n",
       "    </tr>\n",
       "    <tr>\n",
       "      <th>1</th>\n",
       "      <td>0.055604</td>\n",
       "      <td>0.011740</td>\n",
       "      <td>0.004201</td>\n",
       "      <td>0.000400</td>\n",
       "      <td>10</td>\n",
       "      <td>32</td>\n",
       "      <td>128</td>\n",
       "      <td>5</td>\n",
       "      <td>entropy</td>\n",
       "      <td>True</td>\n",
       "      <td>{'n_estimators': 10, 'min_samples_split': 32, ...</td>\n",
       "      <td>0.7580</td>\n",
       "      <td>0.7895</td>\n",
       "      <td>0.7690</td>\n",
       "      <td>0.7655</td>\n",
       "      <td>0.7550</td>\n",
       "      <td>0.7674</td>\n",
       "      <td>0.012138</td>\n",
       "      <td>16</td>\n",
       "    </tr>\n",
       "    <tr>\n",
       "      <th>2</th>\n",
       "      <td>0.505658</td>\n",
       "      <td>0.009539</td>\n",
       "      <td>0.025802</td>\n",
       "      <td>0.001470</td>\n",
       "      <td>100</td>\n",
       "      <td>32</td>\n",
       "      <td>32</td>\n",
       "      <td>5</td>\n",
       "      <td>entropy</td>\n",
       "      <td>True</td>\n",
       "      <td>{'n_estimators': 100, 'min_samples_split': 32,...</td>\n",
       "      <td>0.7720</td>\n",
       "      <td>0.7935</td>\n",
       "      <td>0.7775</td>\n",
       "      <td>0.7660</td>\n",
       "      <td>0.7720</td>\n",
       "      <td>0.7762</td>\n",
       "      <td>0.009384</td>\n",
       "      <td>2</td>\n",
       "    </tr>\n",
       "    <tr>\n",
       "      <th>3</th>\n",
       "      <td>0.033802</td>\n",
       "      <td>0.001721</td>\n",
       "      <td>0.004201</td>\n",
       "      <td>0.000980</td>\n",
       "      <td>10</td>\n",
       "      <td>128</td>\n",
       "      <td>32</td>\n",
       "      <td>3</td>\n",
       "      <td>gini</td>\n",
       "      <td>True</td>\n",
       "      <td>{'n_estimators': 10, 'min_samples_split': 128,...</td>\n",
       "      <td>0.7650</td>\n",
       "      <td>0.7725</td>\n",
       "      <td>0.7415</td>\n",
       "      <td>0.7405</td>\n",
       "      <td>0.7505</td>\n",
       "      <td>0.7540</td>\n",
       "      <td>0.012759</td>\n",
       "      <td>20</td>\n",
       "    </tr>\n",
       "    <tr>\n",
       "      <th>4</th>\n",
       "      <td>0.050004</td>\n",
       "      <td>0.001550</td>\n",
       "      <td>0.004800</td>\n",
       "      <td>0.000979</td>\n",
       "      <td>10</td>\n",
       "      <td>64</td>\n",
       "      <td>32</td>\n",
       "      <td>3</td>\n",
       "      <td>entropy</td>\n",
       "      <td>False</td>\n",
       "      <td>{'n_estimators': 10, 'min_samples_split': 64, ...</td>\n",
       "      <td>0.7775</td>\n",
       "      <td>0.7875</td>\n",
       "      <td>0.7570</td>\n",
       "      <td>0.7425</td>\n",
       "      <td>0.7705</td>\n",
       "      <td>0.7670</td>\n",
       "      <td>0.015767</td>\n",
       "      <td>17</td>\n",
       "    </tr>\n",
       "  </tbody>\n",
       "</table>\n",
       "</div>"
      ],
      "text/plain": [
       "   mean_fit_time  std_fit_time  mean_score_time  std_score_time  \\\n",
       "0       0.387244      0.013506         0.022002        0.001415   \n",
       "1       0.055604      0.011740         0.004201        0.000400   \n",
       "2       0.505658      0.009539         0.025802        0.001470   \n",
       "3       0.033802      0.001721         0.004201        0.000980   \n",
       "4       0.050004      0.001550         0.004800        0.000979   \n",
       "\n",
       "  param_n_estimators param_min_samples_split param_min_samples_leaf  \\\n",
       "0                100                      32                    128   \n",
       "1                 10                      32                    128   \n",
       "2                100                      32                     32   \n",
       "3                 10                     128                     32   \n",
       "4                 10                      64                     32   \n",
       "\n",
       "  param_max_depth param_criterion param_bootstrap  \\\n",
       "0               3         entropy            True   \n",
       "1               5         entropy            True   \n",
       "2               5         entropy            True   \n",
       "3               3            gini            True   \n",
       "4               3         entropy           False   \n",
       "\n",
       "                                              params  split0_test_score  \\\n",
       "0  {'n_estimators': 100, 'min_samples_split': 32,...             0.7720   \n",
       "1  {'n_estimators': 10, 'min_samples_split': 32, ...             0.7580   \n",
       "2  {'n_estimators': 100, 'min_samples_split': 32,...             0.7720   \n",
       "3  {'n_estimators': 10, 'min_samples_split': 128,...             0.7650   \n",
       "4  {'n_estimators': 10, 'min_samples_split': 64, ...             0.7775   \n",
       "\n",
       "   split1_test_score  split2_test_score  split3_test_score  split4_test_score  \\\n",
       "0             0.7895             0.7770             0.7665             0.7560   \n",
       "1             0.7895             0.7690             0.7655             0.7550   \n",
       "2             0.7935             0.7775             0.7660             0.7720   \n",
       "3             0.7725             0.7415             0.7405             0.7505   \n",
       "4             0.7875             0.7570             0.7425             0.7705   \n",
       "\n",
       "   mean_test_score  std_test_score  rank_test_score  \n",
       "0           0.7722        0.011111               10  \n",
       "1           0.7674        0.012138               16  \n",
       "2           0.7762        0.009384                2  \n",
       "3           0.7540        0.012759               20  \n",
       "4           0.7670        0.015767               17  "
      ]
     },
     "execution_count": 70,
     "metadata": {},
     "output_type": "execute_result"
    }
   ],
   "source": [
    "SEED=301\n",
    "np.random.seed(SEED)\n",
    "\n",
    "espaco_de_parametros = {\n",
    "    \"n_estimators\" : [10, 100],\n",
    "    \"max_depth\" : [3, 5],\n",
    "    \"min_samples_split\": [32, 64, 128],\n",
    "    \"min_samples_leaf\": [32, 64, 128],\n",
    "    \"bootstrap\" : [True, False],\n",
    "    \"criterion\": [\"gini\", \"entropy\"]\n",
    "\n",
    "}\n",
    "\n",
    "tic = time.time()\n",
    "busca = RandomizedSearchCV(RandomForestClassifier(),\n",
    "                    espaco_de_parametros,\n",
    "                    n_iter = 20,\n",
    "                    cv = KFold(n_splits = 5, shuffle=True))\n",
    "\n",
    "busca.fit(x_azar, y_azar)\n",
    "tac = time.time()\n",
    "tempo_que_passou = tac - tic\n",
    "print(\"Tempo %.2f segundos\" % tempo_que_passou)\n",
    "\n",
    "resultados = pd.DataFrame(busca.cv_results_)\n",
    "resultados.head()"
   ]
  },
  {
   "cell_type": "code",
   "execution_count": 75,
   "metadata": {},
   "outputs": [
    {
     "name": "stdout",
     "output_type": "stream",
     "text": [
      "0.778 +-(0.020) {'n_estimators': 10, 'min_samples_split': 32, 'min_samples_leaf': 64, 'max_depth': 3, 'criterion': 'entropy', 'bootstrap': False}\n",
      "0.776 +-(0.019) {'n_estimators': 100, 'min_samples_split': 32, 'min_samples_leaf': 32, 'max_depth': 5, 'criterion': 'entropy', 'bootstrap': True}\n",
      "0.776 +-(0.017) {'n_estimators': 100, 'min_samples_split': 32, 'min_samples_leaf': 32, 'max_depth': 5, 'criterion': 'gini', 'bootstrap': False}\n",
      "0.776 +-(0.016) {'n_estimators': 100, 'min_samples_split': 128, 'min_samples_leaf': 32, 'max_depth': 3, 'criterion': 'entropy', 'bootstrap': False}\n",
      "0.775 +-(0.016) {'n_estimators': 100, 'min_samples_split': 32, 'min_samples_leaf': 128, 'max_depth': 3, 'criterion': 'entropy', 'bootstrap': False}\n"
     ]
    }
   ],
   "source": [
    "resultados_ordenados_pela_media = resultados.sort_values(\"mean_test_score\", ascending=False)\n",
    "for indice, linha in resultados_ordenados_pela_media[:5].iterrows():\n",
    "  print(\"%.3f +-(%.3f) %s\" % (linha.mean_test_score, linha.std_test_score*2, linha.params))"
   ]
  },
  {
   "cell_type": "markdown",
   "metadata": {},
   "source": [
    "Quando exploramos as 144 combinações do nosso grid, tínhamos chegado à média 0.780 com +- 0.020 de desvio padrão - ou seja, valores muito próximos dos que encontramos com o RandomSearchCV. Lembrando que esses valores são relativamente próximos - ou seja, essa interpretação depende muito da situação em que nosso algorítimo é aplicado. Em casos de vida ou morte, por exemplo, uma diferença de 0.004 pode ser significante."
   ]
  },
  {
   "cell_type": "code",
   "execution_count": 78,
   "metadata": {},
   "outputs": [
    {
     "name": "stdout",
     "output_type": "stream",
     "text": [
      "Tempo 127.96 segundos\n",
      "Accuracy médio 78\n",
      "Intervalo [76, 79]\n",
      "RandomForestClassifier(bootstrap=False, criterion='entropy', max_depth=3,\n",
      "                       min_samples_leaf=64, min_samples_split=32,\n",
      "                       n_estimators=10)\n"
     ]
    }
   ],
   "source": [
    "tic = time.time()\n",
    "scores = cross_val_score(busca, x_azar, y_azar, cv = KFold(n_splits=5, shuffle=True))\n",
    "tac = time.time()\n",
    "tempo_passado = tac - tic\n",
    "print(\"Tempo %.2f segundos\" % tempo_passado)\n",
    "\n",
    "imprime_score(scores)\n",
    "melhor = busca.best_estimator_\n",
    "print(melhor)"
   ]
  },
  {
   "cell_type": "markdown",
   "metadata": {},
   "source": [
    "Em cerca de 2 minutos e meio obtivemos os resultados do cross_validation_score() com o RandomizedSearchCV. Enquanto isso, somente com 144 possibilidades, não conseguimos rodar a mesma função com do GridSearchCV remotamente."
   ]
  },
  {
   "cell_type": "code",
   "execution_count": 85,
   "metadata": {},
   "outputs": [
    {
     "name": "stdout",
     "output_type": "stream",
     "text": [
      "Tempo 99.83 segundos\n"
     ]
    },
    {
     "data": {
      "text/html": [
       "<div>\n",
       "<style scoped>\n",
       "    .dataframe tbody tr th:only-of-type {\n",
       "        vertical-align: middle;\n",
       "    }\n",
       "\n",
       "    .dataframe tbody tr th {\n",
       "        vertical-align: top;\n",
       "    }\n",
       "\n",
       "    .dataframe thead th {\n",
       "        text-align: right;\n",
       "    }\n",
       "</style>\n",
       "<table border=\"1\" class=\"dataframe\">\n",
       "  <thead>\n",
       "    <tr style=\"text-align: right;\">\n",
       "      <th></th>\n",
       "      <th>mean_fit_time</th>\n",
       "      <th>std_fit_time</th>\n",
       "      <th>mean_score_time</th>\n",
       "      <th>std_score_time</th>\n",
       "      <th>param_bootstrap</th>\n",
       "      <th>param_criterion</th>\n",
       "      <th>param_max_depth</th>\n",
       "      <th>param_min_samples_leaf</th>\n",
       "      <th>param_min_samples_split</th>\n",
       "      <th>param_n_estimators</th>\n",
       "      <th>params</th>\n",
       "      <th>split0_test_score</th>\n",
       "      <th>split1_test_score</th>\n",
       "      <th>split2_test_score</th>\n",
       "      <th>split3_test_score</th>\n",
       "      <th>split4_test_score</th>\n",
       "      <th>mean_test_score</th>\n",
       "      <th>std_test_score</th>\n",
       "      <th>rank_test_score</th>\n",
       "    </tr>\n",
       "  </thead>\n",
       "  <tbody>\n",
       "    <tr>\n",
       "      <th>0</th>\n",
       "      <td>0.339522</td>\n",
       "      <td>0.030501</td>\n",
       "      <td>0.020202</td>\n",
       "      <td>0.001469</td>\n",
       "      <td>False</td>\n",
       "      <td>gini</td>\n",
       "      <td>3</td>\n",
       "      <td>50</td>\n",
       "      <td>93</td>\n",
       "      <td>89</td>\n",
       "      <td>{'bootstrap': False, 'criterion': 'gini', 'max...</td>\n",
       "      <td>0.7695</td>\n",
       "      <td>0.7985</td>\n",
       "      <td>0.7635</td>\n",
       "      <td>0.7670</td>\n",
       "      <td>0.7630</td>\n",
       "      <td>0.7723</td>\n",
       "      <td>0.013314</td>\n",
       "      <td>65</td>\n",
       "    </tr>\n",
       "    <tr>\n",
       "      <th>1</th>\n",
       "      <td>0.256021</td>\n",
       "      <td>0.004979</td>\n",
       "      <td>0.018600</td>\n",
       "      <td>0.000802</td>\n",
       "      <td>True</td>\n",
       "      <td>gini</td>\n",
       "      <td>3</td>\n",
       "      <td>88</td>\n",
       "      <td>104</td>\n",
       "      <td>80</td>\n",
       "      <td>{'bootstrap': True, 'criterion': 'gini', 'max_...</td>\n",
       "      <td>0.7690</td>\n",
       "      <td>0.8005</td>\n",
       "      <td>0.7795</td>\n",
       "      <td>0.7670</td>\n",
       "      <td>0.7625</td>\n",
       "      <td>0.7757</td>\n",
       "      <td>0.013596</td>\n",
       "      <td>14</td>\n",
       "    </tr>\n",
       "    <tr>\n",
       "      <th>2</th>\n",
       "      <td>0.248818</td>\n",
       "      <td>0.007782</td>\n",
       "      <td>0.018801</td>\n",
       "      <td>0.000400</td>\n",
       "      <td>True</td>\n",
       "      <td>gini</td>\n",
       "      <td>3</td>\n",
       "      <td>126</td>\n",
       "      <td>84</td>\n",
       "      <td>77</td>\n",
       "      <td>{'bootstrap': True, 'criterion': 'gini', 'max_...</td>\n",
       "      <td>0.7625</td>\n",
       "      <td>0.7965</td>\n",
       "      <td>0.7790</td>\n",
       "      <td>0.7670</td>\n",
       "      <td>0.7630</td>\n",
       "      <td>0.7736</td>\n",
       "      <td>0.012905</td>\n",
       "      <td>55</td>\n",
       "    </tr>\n",
       "    <tr>\n",
       "      <th>3</th>\n",
       "      <td>0.163105</td>\n",
       "      <td>0.004171</td>\n",
       "      <td>0.012825</td>\n",
       "      <td>0.000986</td>\n",
       "      <td>True</td>\n",
       "      <td>gini</td>\n",
       "      <td>3</td>\n",
       "      <td>57</td>\n",
       "      <td>73</td>\n",
       "      <td>50</td>\n",
       "      <td>{'bootstrap': True, 'criterion': 'gini', 'max_...</td>\n",
       "      <td>0.7685</td>\n",
       "      <td>0.7925</td>\n",
       "      <td>0.7530</td>\n",
       "      <td>0.7665</td>\n",
       "      <td>0.7630</td>\n",
       "      <td>0.7687</td>\n",
       "      <td>0.013041</td>\n",
       "      <td>74</td>\n",
       "    </tr>\n",
       "    <tr>\n",
       "      <th>4</th>\n",
       "      <td>0.267104</td>\n",
       "      <td>0.021147</td>\n",
       "      <td>0.017076</td>\n",
       "      <td>0.000832</td>\n",
       "      <td>True</td>\n",
       "      <td>gini</td>\n",
       "      <td>4</td>\n",
       "      <td>52</td>\n",
       "      <td>88</td>\n",
       "      <td>68</td>\n",
       "      <td>{'bootstrap': True, 'criterion': 'gini', 'max_...</td>\n",
       "      <td>0.7685</td>\n",
       "      <td>0.7980</td>\n",
       "      <td>0.7785</td>\n",
       "      <td>0.7665</td>\n",
       "      <td>0.7630</td>\n",
       "      <td>0.7749</td>\n",
       "      <td>0.012647</td>\n",
       "      <td>33</td>\n",
       "    </tr>\n",
       "  </tbody>\n",
       "</table>\n",
       "</div>"
      ],
      "text/plain": [
       "   mean_fit_time  std_fit_time  mean_score_time  std_score_time  \\\n",
       "0       0.339522      0.030501         0.020202        0.001469   \n",
       "1       0.256021      0.004979         0.018600        0.000802   \n",
       "2       0.248818      0.007782         0.018801        0.000400   \n",
       "3       0.163105      0.004171         0.012825        0.000986   \n",
       "4       0.267104      0.021147         0.017076        0.000832   \n",
       "\n",
       "  param_bootstrap param_criterion param_max_depth param_min_samples_leaf  \\\n",
       "0           False            gini               3                     50   \n",
       "1            True            gini               3                     88   \n",
       "2            True            gini               3                    126   \n",
       "3            True            gini               3                     57   \n",
       "4            True            gini               4                     52   \n",
       "\n",
       "  param_min_samples_split param_n_estimators  \\\n",
       "0                      93                 89   \n",
       "1                     104                 80   \n",
       "2                      84                 77   \n",
       "3                      73                 50   \n",
       "4                      88                 68   \n",
       "\n",
       "                                              params  split0_test_score  \\\n",
       "0  {'bootstrap': False, 'criterion': 'gini', 'max...             0.7695   \n",
       "1  {'bootstrap': True, 'criterion': 'gini', 'max_...             0.7690   \n",
       "2  {'bootstrap': True, 'criterion': 'gini', 'max_...             0.7625   \n",
       "3  {'bootstrap': True, 'criterion': 'gini', 'max_...             0.7685   \n",
       "4  {'bootstrap': True, 'criterion': 'gini', 'max_...             0.7685   \n",
       "\n",
       "   split1_test_score  split2_test_score  split3_test_score  split4_test_score  \\\n",
       "0             0.7985             0.7635             0.7670             0.7630   \n",
       "1             0.8005             0.7795             0.7670             0.7625   \n",
       "2             0.7965             0.7790             0.7670             0.7630   \n",
       "3             0.7925             0.7530             0.7665             0.7630   \n",
       "4             0.7980             0.7785             0.7665             0.7630   \n",
       "\n",
       "   mean_test_score  std_test_score  rank_test_score  \n",
       "0           0.7723        0.013314               65  \n",
       "1           0.7757        0.013596               14  \n",
       "2           0.7736        0.012905               55  \n",
       "3           0.7687        0.013041               74  \n",
       "4           0.7749        0.012647               33  "
      ]
     },
     "execution_count": 85,
     "metadata": {},
     "output_type": "execute_result"
    }
   ],
   "source": [
    "SEED=301\n",
    "np.random.seed(SEED)\n",
    "\n",
    "espaco_de_parametros = {\n",
    "    \"n_estimators\" : randint(10, 101),\n",
    "    \"max_depth\" : randint(3, 6),\n",
    "    \"min_samples_split\": randint(32, 129),\n",
    "    \"min_samples_leaf\": randint(32, 129),\n",
    "    \"bootstrap\" : [True, False],\n",
    "    \"criterion\": [\"gini\", \"entropy\"]\n",
    "\n",
    "}\n",
    "\n",
    "tic = time.time()\n",
    "busca = RandomizedSearchCV(RandomForestClassifier(),\n",
    "                    espaco_de_parametros,\n",
    "                    n_iter = 80,\n",
    "                    cv = KFold(n_splits = 5, shuffle=True))\n",
    "\n",
    "busca.fit(x_azar, y_azar)\n",
    "tac = time.time()\n",
    "tempo_que_passou = tac - tic\n",
    "print(\"Tempo %.2f segundos\" % tempo_que_passou)\n",
    "\n",
    "resultados = pd.DataFrame(busca.cv_results_)\n",
    "resultados.head()"
   ]
  },
  {
   "cell_type": "code",
   "execution_count": 81,
   "metadata": {},
   "outputs": [
    {
     "name": "stdout",
     "output_type": "stream",
     "text": [
      "0.776 +-(0.015) {'bootstrap': False, 'criterion': 'gini', 'max_depth': 5, 'min_samples_leaf': 163, 'min_samples_split': 161, 'n_estimators': 47}\n",
      "0.776 +-(0.018) {'bootstrap': False, 'criterion': 'gini', 'max_depth': 5, 'min_samples_leaf': 165, 'min_samples_split': 191, 'n_estimators': 11}\n",
      "0.775 +-(0.018) {'bootstrap': False, 'criterion': 'entropy', 'max_depth': 5, 'min_samples_leaf': 189, 'min_samples_split': 180, 'n_estimators': 32}\n",
      "0.775 +-(0.019) {'bootstrap': True, 'criterion': 'gini', 'max_depth': 4, 'min_samples_leaf': 173, 'min_samples_split': 178, 'n_estimators': 78}\n",
      "0.775 +-(0.019) {'bootstrap': True, 'criterion': 'gini', 'max_depth': 5, 'min_samples_leaf': 182, 'min_samples_split': 173, 'n_estimators': 71}\n"
     ]
    }
   ],
   "source": [
    "resultados_ordenados_pela_media = resultados.sort_values(\"mean_test_score\", ascending=False)\n",
    "for indice, linha in resultados_ordenados_pela_media[:5].iterrows():\n",
    "  print(\"%.3f +-(%.3f) %s\" % (linha.mean_test_score, linha.std_test_score*2, linha.params))"
   ]
  },
  {
   "cell_type": "markdown",
   "metadata": {},
   "source": [
    "O melhor resultado que encontramos foi 0.79 de média com +- 0.025 de desvio padrão, muito próximo dos anteriores. Lembrando que, com o GridSearchCV, levamos cerca de 4 minutos e meio para chegar aos resultados explorando um espaço muito menor."
   ]
  },
  {
   "cell_type": "markdown",
   "metadata": {},
   "source": [
    "Dependendo do algorítimo e dos dados, pode ser que a escolha de um hiperparâmetro faça uma diferença muito grande no sistema como um todo. Como exemplo, você pode consultar o artigo Hyperparameters Matter, que analisa a importância dos hiperparâmetros no contexto de recomendações com Word2vec."
   ]
  },
  {
   "cell_type": "markdown",
   "metadata": {},
   "source": [
    "# Se eu não posso ou Não consigo usar o cross validation"
   ]
  },
  {
   "cell_type": "markdown",
   "metadata": {},
   "source": [
    "Agora que fizemos algumas comparações entre o GridSearchCV e o RandomizedSearchCV, vamos analisar alguns casos diferentes.\n",
    "\n",
    "Por exemplo, pode ser que não seja possível, computacionalmente, rodar um cross validation, independentemente do fold. Nesse caso, como faríamos uma otimização de hiperparâmetros sem cross validation? Teríamos que, mesmo assim, tentar separar os dados entre treino e teste.\n",
    "\n",
    "Até o momento, estávamos trabalhando com duas fases: a fase de treino e teste, e a fase de validação com cross_val_score() (nested cross validation). Na prática, agora teremos três fases: uma fase de treino do modelo (ou de vários modelos) na busca de otimizar os hiperparâmetros; uma fase de teste, comparando os modelos para encontrar os melhores resultados; e uma fase de validação, tentando alcançar uma estimativa real desse algorítimo.\n",
    "\n",
    "No sklearn.model_selection, precisaremos encontrar um algorítimo de separação que não seja um KFold (que só separa uma única vez, sem validação cruzada). Existem algorítimos que fazem isso, como o ShuffleSplit, que irá aleatorizar os dados e quebrá-los uma única vez; ou o StratifiedShuffleSplit, que irá aleatorizar a ordem dos dados e quebrá-los de acordo com a estratificação dos dados que passarmos para ele. É esse algorítimo que utilizaremos agora, independentemente de trabalharmos com o GridSearchCV ou com o RandomizedSearchCV."
   ]
  },
  {
   "cell_type": "code",
   "execution_count": 94,
   "metadata": {},
   "outputs": [
    {
     "name": "stdout",
     "output_type": "stream",
     "text": [
      "Tempo 2.15 segundos\n"
     ]
    },
    {
     "data": {
      "text/html": [
       "<div>\n",
       "<style scoped>\n",
       "    .dataframe tbody tr th:only-of-type {\n",
       "        vertical-align: middle;\n",
       "    }\n",
       "\n",
       "    .dataframe tbody tr th {\n",
       "        vertical-align: top;\n",
       "    }\n",
       "\n",
       "    .dataframe thead th {\n",
       "        text-align: right;\n",
       "    }\n",
       "</style>\n",
       "<table border=\"1\" class=\"dataframe\">\n",
       "  <thead>\n",
       "    <tr style=\"text-align: right;\">\n",
       "      <th></th>\n",
       "      <th>mean_fit_time</th>\n",
       "      <th>std_fit_time</th>\n",
       "      <th>mean_score_time</th>\n",
       "      <th>std_score_time</th>\n",
       "      <th>param_bootstrap</th>\n",
       "      <th>param_criterion</th>\n",
       "      <th>param_max_depth</th>\n",
       "      <th>param_min_samples_leaf</th>\n",
       "      <th>param_min_samples_split</th>\n",
       "      <th>param_n_estimators</th>\n",
       "      <th>params</th>\n",
       "      <th>split0_test_score</th>\n",
       "      <th>mean_test_score</th>\n",
       "      <th>std_test_score</th>\n",
       "      <th>rank_test_score</th>\n",
       "    </tr>\n",
       "  </thead>\n",
       "  <tbody>\n",
       "    <tr>\n",
       "      <th>0</th>\n",
       "      <td>0.429119</td>\n",
       "      <td>0.0</td>\n",
       "      <td>0.059005</td>\n",
       "      <td>0.0</td>\n",
       "      <td>False</td>\n",
       "      <td>gini</td>\n",
       "      <td>3</td>\n",
       "      <td>50</td>\n",
       "      <td>93</td>\n",
       "      <td>89</td>\n",
       "      <td>{'bootstrap': False, 'criterion': 'gini', 'max...</td>\n",
       "      <td>0.7805</td>\n",
       "      <td>0.7805</td>\n",
       "      <td>0.0</td>\n",
       "      <td>1</td>\n",
       "    </tr>\n",
       "    <tr>\n",
       "      <th>1</th>\n",
       "      <td>0.435990</td>\n",
       "      <td>0.0</td>\n",
       "      <td>0.018999</td>\n",
       "      <td>0.0</td>\n",
       "      <td>True</td>\n",
       "      <td>gini</td>\n",
       "      <td>3</td>\n",
       "      <td>88</td>\n",
       "      <td>104</td>\n",
       "      <td>80</td>\n",
       "      <td>{'bootstrap': True, 'criterion': 'gini', 'max_...</td>\n",
       "      <td>0.7795</td>\n",
       "      <td>0.7795</td>\n",
       "      <td>0.0</td>\n",
       "      <td>3</td>\n",
       "    </tr>\n",
       "    <tr>\n",
       "      <th>2</th>\n",
       "      <td>0.309022</td>\n",
       "      <td>0.0</td>\n",
       "      <td>0.018003</td>\n",
       "      <td>0.0</td>\n",
       "      <td>True</td>\n",
       "      <td>gini</td>\n",
       "      <td>3</td>\n",
       "      <td>126</td>\n",
       "      <td>84</td>\n",
       "      <td>77</td>\n",
       "      <td>{'bootstrap': True, 'criterion': 'gini', 'max_...</td>\n",
       "      <td>0.7755</td>\n",
       "      <td>0.7755</td>\n",
       "      <td>0.0</td>\n",
       "      <td>5</td>\n",
       "    </tr>\n",
       "    <tr>\n",
       "      <th>3</th>\n",
       "      <td>0.170014</td>\n",
       "      <td>0.0</td>\n",
       "      <td>0.012999</td>\n",
       "      <td>0.0</td>\n",
       "      <td>True</td>\n",
       "      <td>gini</td>\n",
       "      <td>3</td>\n",
       "      <td>57</td>\n",
       "      <td>73</td>\n",
       "      <td>50</td>\n",
       "      <td>{'bootstrap': True, 'criterion': 'gini', 'max_...</td>\n",
       "      <td>0.7795</td>\n",
       "      <td>0.7795</td>\n",
       "      <td>0.0</td>\n",
       "      <td>3</td>\n",
       "    </tr>\n",
       "    <tr>\n",
       "      <th>4</th>\n",
       "      <td>0.260018</td>\n",
       "      <td>0.0</td>\n",
       "      <td>0.018002</td>\n",
       "      <td>0.0</td>\n",
       "      <td>True</td>\n",
       "      <td>gini</td>\n",
       "      <td>4</td>\n",
       "      <td>52</td>\n",
       "      <td>88</td>\n",
       "      <td>68</td>\n",
       "      <td>{'bootstrap': True, 'criterion': 'gini', 'max_...</td>\n",
       "      <td>0.7805</td>\n",
       "      <td>0.7805</td>\n",
       "      <td>0.0</td>\n",
       "      <td>1</td>\n",
       "    </tr>\n",
       "  </tbody>\n",
       "</table>\n",
       "</div>"
      ],
      "text/plain": [
       "   mean_fit_time  std_fit_time  mean_score_time  std_score_time  \\\n",
       "0       0.429119           0.0         0.059005             0.0   \n",
       "1       0.435990           0.0         0.018999             0.0   \n",
       "2       0.309022           0.0         0.018003             0.0   \n",
       "3       0.170014           0.0         0.012999             0.0   \n",
       "4       0.260018           0.0         0.018002             0.0   \n",
       "\n",
       "  param_bootstrap param_criterion param_max_depth param_min_samples_leaf  \\\n",
       "0           False            gini               3                     50   \n",
       "1            True            gini               3                     88   \n",
       "2            True            gini               3                    126   \n",
       "3            True            gini               3                     57   \n",
       "4            True            gini               4                     52   \n",
       "\n",
       "  param_min_samples_split param_n_estimators  \\\n",
       "0                      93                 89   \n",
       "1                     104                 80   \n",
       "2                      84                 77   \n",
       "3                      73                 50   \n",
       "4                      88                 68   \n",
       "\n",
       "                                              params  split0_test_score  \\\n",
       "0  {'bootstrap': False, 'criterion': 'gini', 'max...             0.7805   \n",
       "1  {'bootstrap': True, 'criterion': 'gini', 'max_...             0.7795   \n",
       "2  {'bootstrap': True, 'criterion': 'gini', 'max_...             0.7755   \n",
       "3  {'bootstrap': True, 'criterion': 'gini', 'max_...             0.7795   \n",
       "4  {'bootstrap': True, 'criterion': 'gini', 'max_...             0.7805   \n",
       "\n",
       "   mean_test_score  std_test_score  rank_test_score  \n",
       "0           0.7805             0.0                1  \n",
       "1           0.7795             0.0                3  \n",
       "2           0.7755             0.0                5  \n",
       "3           0.7795             0.0                3  \n",
       "4           0.7805             0.0                1  "
      ]
     },
     "execution_count": 94,
     "metadata": {},
     "output_type": "execute_result"
    }
   ],
   "source": [
    "from sklearn.model_selection import StratifiedShuffleSplit\n",
    "\n",
    "\n",
    "\n",
    "SEED=301\n",
    "np.random.seed(SEED)\n",
    "\n",
    "espaco_de_parametros = {\n",
    "    \"n_estimators\" : randint(10, 101),\n",
    "    \"max_depth\" : randint(3, 6),\n",
    "    \"min_samples_split\": randint(32, 129),\n",
    "    \"min_samples_leaf\": randint(32, 129),\n",
    "    \"bootstrap\" : [True, False],\n",
    "    \"criterion\": [\"gini\", \"entropy\"]\n",
    "\n",
    "}\n",
    "\n",
    "split = StratifiedShuffleSplit(n_splits = 1, test_size = 0.2)\n",
    "\n",
    "tic = time.time()\n",
    "busca = RandomizedSearchCV(RandomForestClassifier(),\n",
    "                    espaco_de_parametros,\n",
    "                    n_iter = 5,\n",
    "                    cv = split)\n",
    "busca.fit(x_azar, y_azar)\n",
    "tac = time.time()\n",
    "tempo_que_passou = tac - tic\n",
    "print(\"Tempo %.2f segundos\" % tempo_que_passou)\n",
    "\n",
    "\n",
    "\n",
    "resultados = pd.DataFrame(busca.cv_results_)\n",
    "resultados.head()"
   ]
  },
  {
   "cell_type": "code",
   "execution_count": 95,
   "metadata": {},
   "outputs": [
    {
     "name": "stdout",
     "output_type": "stream",
     "text": [
      "(8000, 3)\n",
      "(2000, 3)\n",
      "(8000,)\n",
      "(2000,)\n"
     ]
    }
   ],
   "source": [
    "from sklearn.model_selection import train_test_split\n",
    "\n",
    "SEED=301\n",
    "np.random.seed(SEED)\n",
    "\n",
    "x_treino_teste, x_validacao, y_treino_teste, y_validacao = train_test_split(x_azar, y_azar, test_size=0.2, shuffle=True, stratify=y_azar)\n",
    "\n",
    "print(x_treino_teste.shape)\n",
    "print(x_validacao.shape)\n",
    "print(y_treino_teste.shape)\n",
    "print(y_validacao.shape)"
   ]
  },
  {
   "cell_type": "markdown",
   "metadata": {},
   "source": [
    "8.000 elementos e 3 colunas para treino do algorítimo\n",
    "\n",
    "2.000 elementos para teste\n",
    "\n",
    "1 coluna para verificar as features e a classe do algorítimo"
   ]
  },
  {
   "cell_type": "code",
   "execution_count": 96,
   "metadata": {},
   "outputs": [
    {
     "name": "stdout",
     "output_type": "stream",
     "text": [
      "Tempo 1.06 segundos\n"
     ]
    },
    {
     "data": {
      "text/html": [
       "<div>\n",
       "<style scoped>\n",
       "    .dataframe tbody tr th:only-of-type {\n",
       "        vertical-align: middle;\n",
       "    }\n",
       "\n",
       "    .dataframe tbody tr th {\n",
       "        vertical-align: top;\n",
       "    }\n",
       "\n",
       "    .dataframe thead th {\n",
       "        text-align: right;\n",
       "    }\n",
       "</style>\n",
       "<table border=\"1\" class=\"dataframe\">\n",
       "  <thead>\n",
       "    <tr style=\"text-align: right;\">\n",
       "      <th></th>\n",
       "      <th>mean_fit_time</th>\n",
       "      <th>std_fit_time</th>\n",
       "      <th>mean_score_time</th>\n",
       "      <th>std_score_time</th>\n",
       "      <th>param_bootstrap</th>\n",
       "      <th>param_criterion</th>\n",
       "      <th>param_max_depth</th>\n",
       "      <th>param_min_samples_leaf</th>\n",
       "      <th>param_min_samples_split</th>\n",
       "      <th>param_n_estimators</th>\n",
       "      <th>params</th>\n",
       "      <th>split0_test_score</th>\n",
       "      <th>mean_test_score</th>\n",
       "      <th>std_test_score</th>\n",
       "      <th>rank_test_score</th>\n",
       "    </tr>\n",
       "  </thead>\n",
       "  <tbody>\n",
       "    <tr>\n",
       "      <th>0</th>\n",
       "      <td>0.101007</td>\n",
       "      <td>0.0</td>\n",
       "      <td>0.010003</td>\n",
       "      <td>0.0</td>\n",
       "      <td>True</td>\n",
       "      <td>gini</td>\n",
       "      <td>5</td>\n",
       "      <td>89</td>\n",
       "      <td>58</td>\n",
       "      <td>24</td>\n",
       "      <td>{'bootstrap': True, 'criterion': 'gini', 'max_...</td>\n",
       "      <td>0.7820</td>\n",
       "      <td>0.7820</td>\n",
       "      <td>0.0</td>\n",
       "      <td>2</td>\n",
       "    </tr>\n",
       "    <tr>\n",
       "      <th>1</th>\n",
       "      <td>0.129006</td>\n",
       "      <td>0.0</td>\n",
       "      <td>0.013001</td>\n",
       "      <td>0.0</td>\n",
       "      <td>False</td>\n",
       "      <td>entropy</td>\n",
       "      <td>3</td>\n",
       "      <td>71</td>\n",
       "      <td>55</td>\n",
       "      <td>27</td>\n",
       "      <td>{'bootstrap': False, 'criterion': 'entropy', '...</td>\n",
       "      <td>0.7800</td>\n",
       "      <td>0.7800</td>\n",
       "      <td>0.0</td>\n",
       "      <td>3</td>\n",
       "    </tr>\n",
       "    <tr>\n",
       "      <th>2</th>\n",
       "      <td>0.092004</td>\n",
       "      <td>0.0</td>\n",
       "      <td>0.007000</td>\n",
       "      <td>0.0</td>\n",
       "      <td>True</td>\n",
       "      <td>entropy</td>\n",
       "      <td>3</td>\n",
       "      <td>33</td>\n",
       "      <td>99</td>\n",
       "      <td>21</td>\n",
       "      <td>{'bootstrap': True, 'criterion': 'entropy', 'm...</td>\n",
       "      <td>0.7840</td>\n",
       "      <td>0.7840</td>\n",
       "      <td>0.0</td>\n",
       "      <td>1</td>\n",
       "    </tr>\n",
       "    <tr>\n",
       "      <th>3</th>\n",
       "      <td>0.216017</td>\n",
       "      <td>0.0</td>\n",
       "      <td>0.018003</td>\n",
       "      <td>0.0</td>\n",
       "      <td>True</td>\n",
       "      <td>gini</td>\n",
       "      <td>3</td>\n",
       "      <td>98</td>\n",
       "      <td>100</td>\n",
       "      <td>67</td>\n",
       "      <td>{'bootstrap': True, 'criterion': 'gini', 'max_...</td>\n",
       "      <td>0.7795</td>\n",
       "      <td>0.7795</td>\n",
       "      <td>0.0</td>\n",
       "      <td>4</td>\n",
       "    </tr>\n",
       "    <tr>\n",
       "      <th>4</th>\n",
       "      <td>0.333237</td>\n",
       "      <td>0.0</td>\n",
       "      <td>0.018001</td>\n",
       "      <td>0.0</td>\n",
       "      <td>False</td>\n",
       "      <td>entropy</td>\n",
       "      <td>4</td>\n",
       "      <td>88</td>\n",
       "      <td>64</td>\n",
       "      <td>63</td>\n",
       "      <td>{'bootstrap': False, 'criterion': 'entropy', '...</td>\n",
       "      <td>0.7795</td>\n",
       "      <td>0.7795</td>\n",
       "      <td>0.0</td>\n",
       "      <td>4</td>\n",
       "    </tr>\n",
       "  </tbody>\n",
       "</table>\n",
       "</div>"
      ],
      "text/plain": [
       "   mean_fit_time  std_fit_time  mean_score_time  std_score_time  \\\n",
       "0       0.101007           0.0         0.010003             0.0   \n",
       "1       0.129006           0.0         0.013001             0.0   \n",
       "2       0.092004           0.0         0.007000             0.0   \n",
       "3       0.216017           0.0         0.018003             0.0   \n",
       "4       0.333237           0.0         0.018001             0.0   \n",
       "\n",
       "  param_bootstrap param_criterion param_max_depth param_min_samples_leaf  \\\n",
       "0            True            gini               5                     89   \n",
       "1           False         entropy               3                     71   \n",
       "2            True         entropy               3                     33   \n",
       "3            True            gini               3                     98   \n",
       "4           False         entropy               4                     88   \n",
       "\n",
       "  param_min_samples_split param_n_estimators  \\\n",
       "0                      58                 24   \n",
       "1                      55                 27   \n",
       "2                      99                 21   \n",
       "3                     100                 67   \n",
       "4                      64                 63   \n",
       "\n",
       "                                              params  split0_test_score  \\\n",
       "0  {'bootstrap': True, 'criterion': 'gini', 'max_...             0.7820   \n",
       "1  {'bootstrap': False, 'criterion': 'entropy', '...             0.7800   \n",
       "2  {'bootstrap': True, 'criterion': 'entropy', 'm...             0.7840   \n",
       "3  {'bootstrap': True, 'criterion': 'gini', 'max_...             0.7795   \n",
       "4  {'bootstrap': False, 'criterion': 'entropy', '...             0.7795   \n",
       "\n",
       "   mean_test_score  std_test_score  rank_test_score  \n",
       "0           0.7820             0.0                2  \n",
       "1           0.7800             0.0                3  \n",
       "2           0.7840             0.0                1  \n",
       "3           0.7795             0.0                4  \n",
       "4           0.7795             0.0                4  "
      ]
     },
     "execution_count": 96,
     "metadata": {},
     "output_type": "execute_result"
    }
   ],
   "source": [
    "espaco_de_parametros = {\n",
    "    \"n_estimators\" : randint(10, 101),\n",
    "    \"max_depth\" : randint(3, 6),\n",
    "    \"min_samples_split\": randint(32, 129),\n",
    "    \"min_samples_leaf\": randint(32, 129),\n",
    "    \"bootstrap\" : [True, False],\n",
    "    \"criterion\": [\"gini\", \"entropy\"]\n",
    "\n",
    "}\n",
    "\n",
    "split = StratifiedShuffleSplit(n_splits = 1, test_size = 0.25)\n",
    "\n",
    "tic = time.time()\n",
    "busca = RandomizedSearchCV(RandomForestClassifier(),\n",
    "                    espaco_de_parametros,\n",
    "                    n_iter = 5,\n",
    "                    cv = split)\n",
    "busca.fit(x_treino_teste, y_treino_teste)\n",
    "tac = time.time()\n",
    "tempo_que_passou = tac - tic\n",
    "print(\"Tempo %.2f segundos\" % tempo_que_passou)\n",
    "\n",
    "\n",
    "\n",
    "resultados = pd.DataFrame(busca.cv_results_)\n",
    "resultados.head()"
   ]
  },
  {
   "cell_type": "code",
   "execution_count": 97,
   "metadata": {},
   "outputs": [
    {
     "name": "stdout",
     "output_type": "stream",
     "text": [
      "Tempo 127.96 segundos\n"
     ]
    },
    {
     "data": {
      "text/plain": [
       "array([0.804])"
      ]
     },
     "execution_count": 97,
     "metadata": {},
     "output_type": "execute_result"
    }
   ],
   "source": [
    "tac = time.time()\n",
    "scores = cross_val_score(busca, x_validacao, y_validacao, cv=split)\n",
    "tac = time.time()\n",
    "tempo_passou = tac - tic\n",
    "print(\"Tempo %.2f segundos\" % tempo_passado)\n",
    "\n",
    "scores"
   ]
  },
  {
   "cell_type": "markdown",
   "metadata": {},
   "source": [
    "O resultado é um único 0.080 - como só tivemos um teste e uma validação, removemos a impressão da média e do intervalo.\n",
    "\n",
    "O cross validation é um processo bastante interessante e prático, e inclusive poderíamos criar um pipeline que o fizesse de uma só vez. Porém, quando existem motivos para não utilizarmos o cross validation, devemos nos atentar a alguns detalhes importantes - por exemplo, à perda do intervalo de resultados.\n",
    "\n",
    "Existem alternativas para fazer a separação dos dados em três grupos, como utilizar o Numpy ou fazer a estratificação manualmente. Na prática, preferimos utilizar o train_test_split() do próprio SKLearn para separar os dados de validação.\n",
    "\n",
    "Nós ainda poderíamos rodar o algorítimo StratifiedShuffleSplit() mais de uma vez (n_splits=5, por exemplo), obtendo resultados mais parecidos com um processo de cross validation - inclusive com diversos scores para analisarmos. Porém, as proporções podem ser diferentes, o que exigiria alguns cuidados."
   ]
  }
 ],
 "metadata": {
  "interpreter": {
   "hash": "f41d9494b1dabc6bee9690aa020ba7723cac66a972fce0f2f4db6a4ab802059d"
  },
  "kernelspec": {
   "display_name": "Python 3.10.4 64-bit",
   "language": "python",
   "name": "python3"
  },
  "language_info": {
   "codemirror_mode": {
    "name": "ipython",
    "version": 3
   },
   "file_extension": ".py",
   "mimetype": "text/x-python",
   "name": "python",
   "nbconvert_exporter": "python",
   "pygments_lexer": "ipython3",
   "version": "3.10.4 (tags/v3.10.4:9d38120, Mar 23 2022, 23:13:41) [MSC v.1929 64 bit (AMD64)]"
  },
  "orig_nbformat": 4
 },
 "nbformat": 4,
 "nbformat_minor": 2
}
