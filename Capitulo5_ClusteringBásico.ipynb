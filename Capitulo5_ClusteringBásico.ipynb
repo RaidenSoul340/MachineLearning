{
 "cells": [
  {
   "cell_type": "code",
   "execution_count": 1,
   "metadata": {},
   "outputs": [
    {
     "data": {
      "text/html": [
       "<div>\n",
       "<style scoped>\n",
       "    .dataframe tbody tr th:only-of-type {\n",
       "        vertical-align: middle;\n",
       "    }\n",
       "\n",
       "    .dataframe tbody tr th {\n",
       "        vertical-align: top;\n",
       "    }\n",
       "\n",
       "    .dataframe thead th {\n",
       "        text-align: right;\n",
       "    }\n",
       "</style>\n",
       "<table border=\"1\" class=\"dataframe\">\n",
       "  <thead>\n",
       "    <tr style=\"text-align: right;\">\n",
       "      <th></th>\n",
       "      <th>Alcohol</th>\n",
       "      <th>Malic_Acid</th>\n",
       "      <th>Ash</th>\n",
       "      <th>Ash_Alcanity</th>\n",
       "      <th>Magnesium</th>\n",
       "      <th>Total_Phenols</th>\n",
       "      <th>Flavanoids</th>\n",
       "      <th>Nonflavanoid_Phenols</th>\n",
       "      <th>Proanthocyanins</th>\n",
       "      <th>Color_Intensity</th>\n",
       "      <th>Hue</th>\n",
       "      <th>OD280</th>\n",
       "      <th>Proline</th>\n",
       "      <th>Customer_Segment</th>\n",
       "    </tr>\n",
       "  </thead>\n",
       "  <tbody>\n",
       "    <tr>\n",
       "      <th>0</th>\n",
       "      <td>14.23</td>\n",
       "      <td>1.71</td>\n",
       "      <td>2.43</td>\n",
       "      <td>15.6</td>\n",
       "      <td>127</td>\n",
       "      <td>2.80</td>\n",
       "      <td>3.06</td>\n",
       "      <td>0.28</td>\n",
       "      <td>2.29</td>\n",
       "      <td>5.64</td>\n",
       "      <td>1.04</td>\n",
       "      <td>3.92</td>\n",
       "      <td>1065</td>\n",
       "      <td>1</td>\n",
       "    </tr>\n",
       "    <tr>\n",
       "      <th>1</th>\n",
       "      <td>13.20</td>\n",
       "      <td>1.78</td>\n",
       "      <td>2.14</td>\n",
       "      <td>11.2</td>\n",
       "      <td>100</td>\n",
       "      <td>2.65</td>\n",
       "      <td>2.76</td>\n",
       "      <td>0.26</td>\n",
       "      <td>1.28</td>\n",
       "      <td>4.38</td>\n",
       "      <td>1.05</td>\n",
       "      <td>3.40</td>\n",
       "      <td>1050</td>\n",
       "      <td>1</td>\n",
       "    </tr>\n",
       "    <tr>\n",
       "      <th>2</th>\n",
       "      <td>13.16</td>\n",
       "      <td>2.36</td>\n",
       "      <td>2.67</td>\n",
       "      <td>18.6</td>\n",
       "      <td>101</td>\n",
       "      <td>2.80</td>\n",
       "      <td>3.24</td>\n",
       "      <td>0.30</td>\n",
       "      <td>2.81</td>\n",
       "      <td>5.68</td>\n",
       "      <td>1.03</td>\n",
       "      <td>3.17</td>\n",
       "      <td>1185</td>\n",
       "      <td>1</td>\n",
       "    </tr>\n",
       "    <tr>\n",
       "      <th>3</th>\n",
       "      <td>14.37</td>\n",
       "      <td>1.95</td>\n",
       "      <td>2.50</td>\n",
       "      <td>16.8</td>\n",
       "      <td>113</td>\n",
       "      <td>3.85</td>\n",
       "      <td>3.49</td>\n",
       "      <td>0.24</td>\n",
       "      <td>2.18</td>\n",
       "      <td>7.80</td>\n",
       "      <td>0.86</td>\n",
       "      <td>3.45</td>\n",
       "      <td>1480</td>\n",
       "      <td>1</td>\n",
       "    </tr>\n",
       "    <tr>\n",
       "      <th>4</th>\n",
       "      <td>13.24</td>\n",
       "      <td>2.59</td>\n",
       "      <td>2.87</td>\n",
       "      <td>21.0</td>\n",
       "      <td>118</td>\n",
       "      <td>2.80</td>\n",
       "      <td>2.69</td>\n",
       "      <td>0.39</td>\n",
       "      <td>1.82</td>\n",
       "      <td>4.32</td>\n",
       "      <td>1.04</td>\n",
       "      <td>2.93</td>\n",
       "      <td>735</td>\n",
       "      <td>1</td>\n",
       "    </tr>\n",
       "  </tbody>\n",
       "</table>\n",
       "</div>"
      ],
      "text/plain": [
       "   Alcohol  Malic_Acid   Ash  Ash_Alcanity  Magnesium  Total_Phenols  \\\n",
       "0    14.23        1.71  2.43          15.6        127           2.80   \n",
       "1    13.20        1.78  2.14          11.2        100           2.65   \n",
       "2    13.16        2.36  2.67          18.6        101           2.80   \n",
       "3    14.37        1.95  2.50          16.8        113           3.85   \n",
       "4    13.24        2.59  2.87          21.0        118           2.80   \n",
       "\n",
       "   Flavanoids  Nonflavanoid_Phenols  Proanthocyanins  Color_Intensity   Hue  \\\n",
       "0        3.06                  0.28             2.29             5.64  1.04   \n",
       "1        2.76                  0.26             1.28             4.38  1.05   \n",
       "2        3.24                  0.30             2.81             5.68  1.03   \n",
       "3        3.49                  0.24             2.18             7.80  0.86   \n",
       "4        2.69                  0.39             1.82             4.32  1.04   \n",
       "\n",
       "   OD280  Proline  Customer_Segment  \n",
       "0   3.92     1065                 1  \n",
       "1   3.40     1050                 1  \n",
       "2   3.17     1185                 1  \n",
       "3   3.45     1480                 1  \n",
       "4   2.93      735                 1  "
      ]
     },
     "execution_count": 1,
     "metadata": {},
     "output_type": "execute_result"
    }
   ],
   "source": [
    "import pandas as pd\n",
    "import numpy as np\n",
    "\n",
    "file_path = ('https://raw.githubusercontent.com/alura-cursos/Clustering/Aula-1.-An%C3%A1lise-Explorat%C3%B3ria/Wine.csv')\n",
    "df = pd.read_csv(file_path)\n",
    "df.head()\n",
    "#file_path(caminho_arquivo)"
   ]
  },
  {
   "cell_type": "markdown",
   "metadata": {},
   "source": [
    "Importamos o pandas para melhora a analise das nossas tabelas, numpy para ajuda no calculo de dados e o matplotlib.pyplot com ele podemos imrpota tabelas em 3D."
   ]
  },
  {
   "cell_type": "code",
   "execution_count": 2,
   "metadata": {},
   "outputs": [
    {
     "data": {
      "text/plain": [
       "Index(['Alcool', 'Malic_Acid', 'Po', 'Ash_Alcanity', 'Magnesio',\n",
       "       'Total_Fenois', 'Flavanoids', 'Fenois_nao_flavalonoides',\n",
       "       'Proanthocyanins', 'Intensidade_de_cor', 'Hue', 'OD280', 'Proline',\n",
       "       'Customer_Segment'],\n",
       "      dtype='object')"
      ]
     },
     "execution_count": 2,
     "metadata": {},
     "output_type": "execute_result"
    }
   ],
   "source": [
    "df = df.rename(columns={'Alcohol' : 'Alcool', 'Ash' : 'Po', 'Ash_Alcalinity': 'Alcalinidade_po', 'Magnesium' : 'Magnesio','Total_Phenols' : 'Total_Fenois',\n",
    "                                      'Nonflavanoid_Phenols':'Fenois_nao_flavalonoides','Color_Intensity':'Intensidade_de_cor'})\n",
    "\n",
    "columnsC = df.columns\n",
    "columnsC"
   ]
  },
  {
   "cell_type": "markdown",
   "metadata": {},
   "source": [
    "{count: É o número de ocorrencias} {mean: é a média aritmética simples. Através dela nós conseguimos ver como que os nossos dados estão variando} {std(standard deviation): Basicamente, o desvio padrão mede o quanto os nossos dados estão dispersos em relação a média}; {25%, 50% e 75%: Quantis.} {Perceber que 25% dos nossos dados têm valor menor do que 12.36 para o Alcool, 1.60 para o Acido_ Malico e 2.21 para o Po.}\n",
    "\n",
    "{O quantil 50% também é chamado de mediana, significa que metade dos nossos valores estão abaixo desse valor, metade dos nossos dados estão abaixo desse valor para esse atributo e a outra metade está acima.}\n",
    "\n",
    "{Esse quantil 75% nos indica, assim como os outros, que 75% dos nossos dados estão abaixo desse valor.}"
   ]
  },
  {
   "cell_type": "code",
   "execution_count": 3,
   "metadata": {},
   "outputs": [],
   "source": [
    "from biokit.viz import corrplot\n",
    "import matplotlib.pyplot as plt\n",
    "\n",
    "matrix_corr = df.corr()"
   ]
  },
  {
   "cell_type": "code",
   "execution_count": 4,
   "metadata": {},
   "outputs": [
    {
     "data": {
      "text/plain": [
       "<matplotlib.colorbar.Colorbar at 0x26d431e6ec0>"
      ]
     },
     "execution_count": 4,
     "metadata": {},
     "output_type": "execute_result"
    },
    {
     "data": {
      "image/png": "[encoded data removed]",
      "text/plain": [
       "<Figure size 432x288 with 2 Axes>"
      ]
     },
     "metadata": {},
     "output_type": "display_data"
    }
   ],
   "source": [
    "corr_graf = corrplot.Corrplot(matrix_corr)\n",
    "corr_graf.plot(upper = 'ellipse', fontsize = 'x-large')\n"
   ]
  },
  {
   "cell_type": "markdown",
   "metadata": {},
   "source": [
    "Pela analise feita os gráficos em azul são os postivos e os em vermeçhos negativos\n",
    "\n",
    "**Correlação posivita**: Se um aumanta outros iram aumenta de maneira semelhante\n",
    "**Correlação negativa**: Se um aumenta o outro diminui\n",
    "\n",
    "Quanto mais próximo de uma linha reta esse desenho que nós temos aqui, maior é a nossa correlação, porque a correlação indica o quanto dois atributos ou duas séries variam de maneira proporcional.\n",
    "\n",
    "Como nós podemos perceber, Malic_Acid com o Malic_Acid é uma linha reta perfeita. Por quê? Porque eles variam da mesma maneira, uma vez que são o mesmo atributo.\n",
    " \n",
    " Algumas informações importantes que nós podemos extrair daqui são as seguintes: Total_Fenois é bastante correlacionado com Flavanoids. É bastante mesmo, é quase uma linha reta e é correlacionado de maneira positiva.\n",
    "\n",
    " Isso quer dizer que quando o Total_Fenois aumentar, Flavanoids também aumenta de maneira praticamente proporcional. Isso porque como nós tínhamos visto ao utilizarmos o método describe(), Flavanoids é basicamente boa parte de Total_Fenois.\n",
    "\n",
    "Uma outra coisa interessante que nós podemos ver, por exemplo, é que a correlação entre Hue e Malic_Acid é uma correlação negativa. Isso quer dizer que quando Hue aumenta Malic_Acid diminui.\n",
    "\n",
    "\n",
    "Isso é muito bom quando nós queremos remover alguns atributos de informação redundante. Por exemplo: no nosso caso aqui, como Flavanoids é extremamente relacionado com Total_Fenois. Eles têm informação redundante, ou seja, informações que representam a mesma coisa.\n",
    "\n"
   ]
  },
  {
   "cell_type": "code",
   "execution_count": 5,
   "metadata": {},
   "outputs": [
    {
     "name": "stderr",
     "output_type": "stream",
     "text": [
      "C:\\Users\\joaor\\AppData\\Local\\Temp\\ipykernel_11172\\1652039367.py:3: UserWarning: Matplotlib is currently using module://matplotlib_inline.backend_inline, which is a non-GUI backend, so cannot show the figure.\n",
      "  fig.show()\n"
     ]
    },
    {
     "data": {
      "text/plain": [
       "<Figure size 936x576 with 0 Axes>"
      ]
     },
     "metadata": {},
     "output_type": "display_data"
    }
   ],
   "source": [
    "fig = plt.gcf()\n",
    "fig.set_size_inches(13,8)\n",
    "fig.show()"
   ]
  },
  {
   "cell_type": "code",
   "execution_count": 6,
   "metadata": {},
   "outputs": [],
   "source": [
    "from sklearn import preprocessing\n",
    "\n",
    "min_max_scaler = preprocessing.MinMaxScaler()\n",
    "np_df = min_max_scaler.fit_transform(df)"
   ]
  },
  {
   "cell_type": "code",
   "execution_count": 7,
   "metadata": {},
   "outputs": [],
   "source": [
    "df = pd.DataFrame(np_df, columns = columnsC)"
   ]
  },
  {
   "cell_type": "code",
   "execution_count": 8,
   "metadata": {},
   "outputs": [
    {
     "data": {
      "text/html": [
       "<div>\n",
       "<style scoped>\n",
       "    .dataframe tbody tr th:only-of-type {\n",
       "        vertical-align: middle;\n",
       "    }\n",
       "\n",
       "    .dataframe tbody tr th {\n",
       "        vertical-align: top;\n",
       "    }\n",
       "\n",
       "    .dataframe thead th {\n",
       "        text-align: right;\n",
       "    }\n",
       "</style>\n",
       "<table border=\"1\" class=\"dataframe\">\n",
       "  <thead>\n",
       "    <tr style=\"text-align: right;\">\n",
       "      <th></th>\n",
       "      <th>Alcool</th>\n",
       "      <th>Malic_Acid</th>\n",
       "      <th>Po</th>\n",
       "      <th>Ash_Alcanity</th>\n",
       "      <th>Magnesio</th>\n",
       "      <th>Total_Fenois</th>\n",
       "      <th>Flavanoids</th>\n",
       "      <th>Fenois_nao_flavalonoides</th>\n",
       "      <th>Proanthocyanins</th>\n",
       "      <th>Intensidade_de_cor</th>\n",
       "      <th>Hue</th>\n",
       "      <th>OD280</th>\n",
       "      <th>Proline</th>\n",
       "      <th>Customer_Segment</th>\n",
       "    </tr>\n",
       "  </thead>\n",
       "  <tbody>\n",
       "    <tr>\n",
       "      <th>count</th>\n",
       "      <td>178.000000</td>\n",
       "      <td>178.000000</td>\n",
       "      <td>178.000000</td>\n",
       "      <td>178.000000</td>\n",
       "      <td>178.000000</td>\n",
       "      <td>178.000000</td>\n",
       "      <td>178.000000</td>\n",
       "      <td>178.000000</td>\n",
       "      <td>178.000000</td>\n",
       "      <td>178.000000</td>\n",
       "      <td>178.000000</td>\n",
       "      <td>178.000000</td>\n",
       "      <td>178.000000</td>\n",
       "      <td>178.000000</td>\n",
       "    </tr>\n",
       "    <tr>\n",
       "      <th>mean</th>\n",
       "      <td>0.518584</td>\n",
       "      <td>0.315484</td>\n",
       "      <td>0.538244</td>\n",
       "      <td>0.458502</td>\n",
       "      <td>0.323278</td>\n",
       "      <td>0.453487</td>\n",
       "      <td>0.356386</td>\n",
       "      <td>0.437460</td>\n",
       "      <td>0.372523</td>\n",
       "      <td>0.322363</td>\n",
       "      <td>0.388170</td>\n",
       "      <td>0.491460</td>\n",
       "      <td>0.334446</td>\n",
       "      <td>0.469101</td>\n",
       "    </tr>\n",
       "    <tr>\n",
       "      <th>std</th>\n",
       "      <td>0.213639</td>\n",
       "      <td>0.220780</td>\n",
       "      <td>0.146708</td>\n",
       "      <td>0.172142</td>\n",
       "      <td>0.155244</td>\n",
       "      <td>0.215811</td>\n",
       "      <td>0.210730</td>\n",
       "      <td>0.234818</td>\n",
       "      <td>0.180555</td>\n",
       "      <td>0.197806</td>\n",
       "      <td>0.185831</td>\n",
       "      <td>0.260070</td>\n",
       "      <td>0.224613</td>\n",
       "      <td>0.387517</td>\n",
       "    </tr>\n",
       "    <tr>\n",
       "      <th>min</th>\n",
       "      <td>0.000000</td>\n",
       "      <td>0.000000</td>\n",
       "      <td>0.000000</td>\n",
       "      <td>0.000000</td>\n",
       "      <td>0.000000</td>\n",
       "      <td>0.000000</td>\n",
       "      <td>0.000000</td>\n",
       "      <td>0.000000</td>\n",
       "      <td>0.000000</td>\n",
       "      <td>0.000000</td>\n",
       "      <td>0.000000</td>\n",
       "      <td>0.000000</td>\n",
       "      <td>0.000000</td>\n",
       "      <td>0.000000</td>\n",
       "    </tr>\n",
       "    <tr>\n",
       "      <th>25%</th>\n",
       "      <td>0.350658</td>\n",
       "      <td>0.170455</td>\n",
       "      <td>0.454545</td>\n",
       "      <td>0.340206</td>\n",
       "      <td>0.195652</td>\n",
       "      <td>0.262931</td>\n",
       "      <td>0.182489</td>\n",
       "      <td>0.264151</td>\n",
       "      <td>0.264984</td>\n",
       "      <td>0.165529</td>\n",
       "      <td>0.245935</td>\n",
       "      <td>0.244505</td>\n",
       "      <td>0.158702</td>\n",
       "      <td>0.000000</td>\n",
       "    </tr>\n",
       "    <tr>\n",
       "      <th>50%</th>\n",
       "      <td>0.531579</td>\n",
       "      <td>0.222332</td>\n",
       "      <td>0.534759</td>\n",
       "      <td>0.458763</td>\n",
       "      <td>0.304348</td>\n",
       "      <td>0.474138</td>\n",
       "      <td>0.378692</td>\n",
       "      <td>0.396226</td>\n",
       "      <td>0.361199</td>\n",
       "      <td>0.290956</td>\n",
       "      <td>0.394309</td>\n",
       "      <td>0.553114</td>\n",
       "      <td>0.282097</td>\n",
       "      <td>0.500000</td>\n",
       "    </tr>\n",
       "    <tr>\n",
       "      <th>75%</th>\n",
       "      <td>0.696711</td>\n",
       "      <td>0.462945</td>\n",
       "      <td>0.640374</td>\n",
       "      <td>0.561856</td>\n",
       "      <td>0.402174</td>\n",
       "      <td>0.627586</td>\n",
       "      <td>0.534810</td>\n",
       "      <td>0.580189</td>\n",
       "      <td>0.485804</td>\n",
       "      <td>0.419795</td>\n",
       "      <td>0.520325</td>\n",
       "      <td>0.695971</td>\n",
       "      <td>0.504280</td>\n",
       "      <td>1.000000</td>\n",
       "    </tr>\n",
       "    <tr>\n",
       "      <th>max</th>\n",
       "      <td>1.000000</td>\n",
       "      <td>1.000000</td>\n",
       "      <td>1.000000</td>\n",
       "      <td>1.000000</td>\n",
       "      <td>1.000000</td>\n",
       "      <td>1.000000</td>\n",
       "      <td>1.000000</td>\n",
       "      <td>1.000000</td>\n",
       "      <td>1.000000</td>\n",
       "      <td>1.000000</td>\n",
       "      <td>1.000000</td>\n",
       "      <td>1.000000</td>\n",
       "      <td>1.000000</td>\n",
       "      <td>1.000000</td>\n",
       "    </tr>\n",
       "  </tbody>\n",
       "</table>\n",
       "</div>"
      ],
      "text/plain": [
       "           Alcool  Malic_Acid          Po  Ash_Alcanity    Magnesio  \\\n",
       "count  178.000000  178.000000  178.000000    178.000000  178.000000   \n",
       "mean     0.518584    0.315484    0.538244      0.458502    0.323278   \n",
       "std      0.213639    0.220780    0.146708      0.172142    0.155244   \n",
       "min      0.000000    0.000000    0.000000      0.000000    0.000000   \n",
       "25%      0.350658    0.170455    0.454545      0.340206    0.195652   \n",
       "50%      0.531579    0.222332    0.534759      0.458763    0.304348   \n",
       "75%      0.696711    0.462945    0.640374      0.561856    0.402174   \n",
       "max      1.000000    1.000000    1.000000      1.000000    1.000000   \n",
       "\n",
       "       Total_Fenois  Flavanoids  Fenois_nao_flavalonoides  Proanthocyanins  \\\n",
       "count    178.000000  178.000000                178.000000       178.000000   \n",
       "mean       0.453487    0.356386                  0.437460         0.372523   \n",
       "std        0.215811    0.210730                  0.234818         0.180555   \n",
       "min        0.000000    0.000000                  0.000000         0.000000   \n",
       "25%        0.262931    0.182489                  0.264151         0.264984   \n",
       "50%        0.474138    0.378692                  0.396226         0.361199   \n",
       "75%        0.627586    0.534810                  0.580189         0.485804   \n",
       "max        1.000000    1.000000                  1.000000         1.000000   \n",
       "\n",
       "       Intensidade_de_cor         Hue       OD280     Proline  \\\n",
       "count          178.000000  178.000000  178.000000  178.000000   \n",
       "mean             0.322363    0.388170    0.491460    0.334446   \n",
       "std              0.197806    0.185831    0.260070    0.224613   \n",
       "min              0.000000    0.000000    0.000000    0.000000   \n",
       "25%              0.165529    0.245935    0.244505    0.158702   \n",
       "50%              0.290956    0.394309    0.553114    0.282097   \n",
       "75%              0.419795    0.520325    0.695971    0.504280   \n",
       "max              1.000000    1.000000    1.000000    1.000000   \n",
       "\n",
       "       Customer_Segment  \n",
       "count        178.000000  \n",
       "mean           0.469101  \n",
       "std            0.387517  \n",
       "min            0.000000  \n",
       "25%            0.000000  \n",
       "50%            0.500000  \n",
       "75%            1.000000  \n",
       "max            1.000000  "
      ]
     },
     "execution_count": 8,
     "metadata": {},
     "output_type": "execute_result"
    }
   ],
   "source": [
    "df.describe()"
   ]
  },
  {
   "cell_type": "markdown",
   "metadata": {},
   "source": [
    "usamos um processo de normalização que coloca os atributos das variaveis na mesma faicha ou seja (0,1) e (-1 e 1)"
   ]
  },
  {
   "cell_type": "code",
   "execution_count": 9,
   "metadata": {},
   "outputs": [],
   "source": [
    "np_df = min_max_scaler.inverse_transform(df)"
   ]
  },
  {
   "cell_type": "code",
   "execution_count": 10,
   "metadata": {},
   "outputs": [
    {
     "data": {
      "text/html": [
       "<div>\n",
       "<style scoped>\n",
       "    .dataframe tbody tr th:only-of-type {\n",
       "        vertical-align: middle;\n",
       "    }\n",
       "\n",
       "    .dataframe tbody tr th {\n",
       "        vertical-align: top;\n",
       "    }\n",
       "\n",
       "    .dataframe thead th {\n",
       "        text-align: right;\n",
       "    }\n",
       "</style>\n",
       "<table border=\"1\" class=\"dataframe\">\n",
       "  <thead>\n",
       "    <tr style=\"text-align: right;\">\n",
       "      <th></th>\n",
       "      <th>Alcool</th>\n",
       "      <th>Malic_Acid</th>\n",
       "      <th>Po</th>\n",
       "      <th>Ash_Alcanity</th>\n",
       "      <th>Magnesio</th>\n",
       "      <th>Total_Fenois</th>\n",
       "      <th>Flavanoids</th>\n",
       "      <th>Fenois_nao_flavalonoides</th>\n",
       "      <th>Proanthocyanins</th>\n",
       "      <th>Intensidade_de_cor</th>\n",
       "      <th>Hue</th>\n",
       "      <th>OD280</th>\n",
       "      <th>Proline</th>\n",
       "      <th>Customer_Segment</th>\n",
       "    </tr>\n",
       "  </thead>\n",
       "  <tbody>\n",
       "    <tr>\n",
       "      <th>count</th>\n",
       "      <td>178.000000</td>\n",
       "      <td>178.000000</td>\n",
       "      <td>178.000000</td>\n",
       "      <td>178.000000</td>\n",
       "      <td>178.000000</td>\n",
       "      <td>178.000000</td>\n",
       "      <td>178.000000</td>\n",
       "      <td>178.000000</td>\n",
       "      <td>178.000000</td>\n",
       "      <td>178.000000</td>\n",
       "      <td>178.000000</td>\n",
       "      <td>178.000000</td>\n",
       "      <td>178.000000</td>\n",
       "      <td>178.000000</td>\n",
       "    </tr>\n",
       "    <tr>\n",
       "      <th>mean</th>\n",
       "      <td>13.000618</td>\n",
       "      <td>2.336348</td>\n",
       "      <td>2.366517</td>\n",
       "      <td>19.494944</td>\n",
       "      <td>99.741573</td>\n",
       "      <td>2.295112</td>\n",
       "      <td>2.029270</td>\n",
       "      <td>0.361854</td>\n",
       "      <td>1.590899</td>\n",
       "      <td>5.058090</td>\n",
       "      <td>0.957449</td>\n",
       "      <td>2.611685</td>\n",
       "      <td>746.893258</td>\n",
       "      <td>1.938202</td>\n",
       "    </tr>\n",
       "    <tr>\n",
       "      <th>std</th>\n",
       "      <td>0.811827</td>\n",
       "      <td>1.117146</td>\n",
       "      <td>0.274344</td>\n",
       "      <td>3.339564</td>\n",
       "      <td>14.282484</td>\n",
       "      <td>0.625851</td>\n",
       "      <td>0.998859</td>\n",
       "      <td>0.124453</td>\n",
       "      <td>0.572359</td>\n",
       "      <td>2.318286</td>\n",
       "      <td>0.228572</td>\n",
       "      <td>0.709990</td>\n",
       "      <td>314.907474</td>\n",
       "      <td>0.775035</td>\n",
       "    </tr>\n",
       "    <tr>\n",
       "      <th>min</th>\n",
       "      <td>11.030000</td>\n",
       "      <td>0.740000</td>\n",
       "      <td>1.360000</td>\n",
       "      <td>10.600000</td>\n",
       "      <td>70.000000</td>\n",
       "      <td>0.980000</td>\n",
       "      <td>0.340000</td>\n",
       "      <td>0.130000</td>\n",
       "      <td>0.410000</td>\n",
       "      <td>1.280000</td>\n",
       "      <td>0.480000</td>\n",
       "      <td>1.270000</td>\n",
       "      <td>278.000000</td>\n",
       "      <td>1.000000</td>\n",
       "    </tr>\n",
       "    <tr>\n",
       "      <th>25%</th>\n",
       "      <td>12.362500</td>\n",
       "      <td>1.602500</td>\n",
       "      <td>2.210000</td>\n",
       "      <td>17.200000</td>\n",
       "      <td>88.000000</td>\n",
       "      <td>1.742500</td>\n",
       "      <td>1.205000</td>\n",
       "      <td>0.270000</td>\n",
       "      <td>1.250000</td>\n",
       "      <td>3.220000</td>\n",
       "      <td>0.782500</td>\n",
       "      <td>1.937500</td>\n",
       "      <td>500.500000</td>\n",
       "      <td>1.000000</td>\n",
       "    </tr>\n",
       "    <tr>\n",
       "      <th>50%</th>\n",
       "      <td>13.050000</td>\n",
       "      <td>1.865000</td>\n",
       "      <td>2.360000</td>\n",
       "      <td>19.500000</td>\n",
       "      <td>98.000000</td>\n",
       "      <td>2.355000</td>\n",
       "      <td>2.135000</td>\n",
       "      <td>0.340000</td>\n",
       "      <td>1.555000</td>\n",
       "      <td>4.690000</td>\n",
       "      <td>0.965000</td>\n",
       "      <td>2.780000</td>\n",
       "      <td>673.500000</td>\n",
       "      <td>2.000000</td>\n",
       "    </tr>\n",
       "    <tr>\n",
       "      <th>75%</th>\n",
       "      <td>13.677500</td>\n",
       "      <td>3.082500</td>\n",
       "      <td>2.557500</td>\n",
       "      <td>21.500000</td>\n",
       "      <td>107.000000</td>\n",
       "      <td>2.800000</td>\n",
       "      <td>2.875000</td>\n",
       "      <td>0.437500</td>\n",
       "      <td>1.950000</td>\n",
       "      <td>6.200000</td>\n",
       "      <td>1.120000</td>\n",
       "      <td>3.170000</td>\n",
       "      <td>985.000000</td>\n",
       "      <td>3.000000</td>\n",
       "    </tr>\n",
       "    <tr>\n",
       "      <th>max</th>\n",
       "      <td>14.830000</td>\n",
       "      <td>5.800000</td>\n",
       "      <td>3.230000</td>\n",
       "      <td>30.000000</td>\n",
       "      <td>162.000000</td>\n",
       "      <td>3.880000</td>\n",
       "      <td>5.080000</td>\n",
       "      <td>0.660000</td>\n",
       "      <td>3.580000</td>\n",
       "      <td>13.000000</td>\n",
       "      <td>1.710000</td>\n",
       "      <td>4.000000</td>\n",
       "      <td>1680.000000</td>\n",
       "      <td>3.000000</td>\n",
       "    </tr>\n",
       "  </tbody>\n",
       "</table>\n",
       "</div>"
      ],
      "text/plain": [
       "           Alcool  Malic_Acid          Po  Ash_Alcanity    Magnesio  \\\n",
       "count  178.000000  178.000000  178.000000    178.000000  178.000000   \n",
       "mean    13.000618    2.336348    2.366517     19.494944   99.741573   \n",
       "std      0.811827    1.117146    0.274344      3.339564   14.282484   \n",
       "min     11.030000    0.740000    1.360000     10.600000   70.000000   \n",
       "25%     12.362500    1.602500    2.210000     17.200000   88.000000   \n",
       "50%     13.050000    1.865000    2.360000     19.500000   98.000000   \n",
       "75%     13.677500    3.082500    2.557500     21.500000  107.000000   \n",
       "max     14.830000    5.800000    3.230000     30.000000  162.000000   \n",
       "\n",
       "       Total_Fenois  Flavanoids  Fenois_nao_flavalonoides  Proanthocyanins  \\\n",
       "count    178.000000  178.000000                178.000000       178.000000   \n",
       "mean       2.295112    2.029270                  0.361854         1.590899   \n",
       "std        0.625851    0.998859                  0.124453         0.572359   \n",
       "min        0.980000    0.340000                  0.130000         0.410000   \n",
       "25%        1.742500    1.205000                  0.270000         1.250000   \n",
       "50%        2.355000    2.135000                  0.340000         1.555000   \n",
       "75%        2.800000    2.875000                  0.437500         1.950000   \n",
       "max        3.880000    5.080000                  0.660000         3.580000   \n",
       "\n",
       "       Intensidade_de_cor         Hue       OD280      Proline  \\\n",
       "count          178.000000  178.000000  178.000000   178.000000   \n",
       "mean             5.058090    0.957449    2.611685   746.893258   \n",
       "std              2.318286    0.228572    0.709990   314.907474   \n",
       "min              1.280000    0.480000    1.270000   278.000000   \n",
       "25%              3.220000    0.782500    1.937500   500.500000   \n",
       "50%              4.690000    0.965000    2.780000   673.500000   \n",
       "75%              6.200000    1.120000    3.170000   985.000000   \n",
       "max             13.000000    1.710000    4.000000  1680.000000   \n",
       "\n",
       "       Customer_Segment  \n",
       "count        178.000000  \n",
       "mean           1.938202  \n",
       "std            0.775035  \n",
       "min            1.000000  \n",
       "25%            1.000000  \n",
       "50%            2.000000  \n",
       "75%            3.000000  \n",
       "max            3.000000  "
      ]
     },
     "execution_count": 10,
     "metadata": {},
     "output_type": "execute_result"
    }
   ],
   "source": [
    "df_non_normalized = pd.DataFrame(np_df, columns = columnsC)\n",
    "df_non_normalized.describe()"
   ]
  },
  {
   "cell_type": "code",
   "execution_count": 11,
   "metadata": {},
   "outputs": [],
   "source": [
    "\n",
    "attributes = df.columns"
   ]
  },
  {
   "cell_type": "markdown",
   "metadata": {},
   "source": [
    " nós iremos fazer um for, ou seja, para atributo em atributos. Nós iremos utilizar uma forma de normalização chamado MinMaxScaler, ou seja, normalização pelo mínimo e pelo máximo."
   ]
  },
  {
   "cell_type": "code",
   "execution_count": 12,
   "metadata": {},
   "outputs": [
    {
     "data": {
      "text/html": [
       "<div>\n",
       "<style scoped>\n",
       "    .dataframe tbody tr th:only-of-type {\n",
       "        vertical-align: middle;\n",
       "    }\n",
       "\n",
       "    .dataframe tbody tr th {\n",
       "        vertical-align: top;\n",
       "    }\n",
       "\n",
       "    .dataframe thead th {\n",
       "        text-align: right;\n",
       "    }\n",
       "</style>\n",
       "<table border=\"1\" class=\"dataframe\">\n",
       "  <thead>\n",
       "    <tr style=\"text-align: right;\">\n",
       "      <th></th>\n",
       "      <th>Alcool</th>\n",
       "      <th>Malic_Acid</th>\n",
       "      <th>Po</th>\n",
       "      <th>Ash_Alcanity</th>\n",
       "      <th>Magnesio</th>\n",
       "      <th>Total_Fenois</th>\n",
       "      <th>Flavanoids</th>\n",
       "      <th>Fenois_nao_flavalonoides</th>\n",
       "      <th>Proanthocyanins</th>\n",
       "      <th>Intensidade_de_cor</th>\n",
       "      <th>Hue</th>\n",
       "      <th>OD280</th>\n",
       "      <th>Proline</th>\n",
       "      <th>Customer_Segment</th>\n",
       "    </tr>\n",
       "  </thead>\n",
       "  <tbody>\n",
       "    <tr>\n",
       "      <th>0</th>\n",
       "      <td>0.842105</td>\n",
       "      <td>0.191700</td>\n",
       "      <td>0.572193</td>\n",
       "      <td>0.257732</td>\n",
       "      <td>0.619565</td>\n",
       "      <td>0.627586</td>\n",
       "      <td>0.573840</td>\n",
       "      <td>0.283019</td>\n",
       "      <td>0.593060</td>\n",
       "      <td>0.372014</td>\n",
       "      <td>0.455285</td>\n",
       "      <td>0.970696</td>\n",
       "      <td>0.561341</td>\n",
       "      <td>0.0</td>\n",
       "    </tr>\n",
       "    <tr>\n",
       "      <th>1</th>\n",
       "      <td>0.571053</td>\n",
       "      <td>0.205534</td>\n",
       "      <td>0.417112</td>\n",
       "      <td>0.030928</td>\n",
       "      <td>0.326087</td>\n",
       "      <td>0.575862</td>\n",
       "      <td>0.510549</td>\n",
       "      <td>0.245283</td>\n",
       "      <td>0.274448</td>\n",
       "      <td>0.264505</td>\n",
       "      <td>0.463415</td>\n",
       "      <td>0.780220</td>\n",
       "      <td>0.550642</td>\n",
       "      <td>0.0</td>\n",
       "    </tr>\n",
       "    <tr>\n",
       "      <th>2</th>\n",
       "      <td>0.560526</td>\n",
       "      <td>0.320158</td>\n",
       "      <td>0.700535</td>\n",
       "      <td>0.412371</td>\n",
       "      <td>0.336957</td>\n",
       "      <td>0.627586</td>\n",
       "      <td>0.611814</td>\n",
       "      <td>0.320755</td>\n",
       "      <td>0.757098</td>\n",
       "      <td>0.375427</td>\n",
       "      <td>0.447154</td>\n",
       "      <td>0.695971</td>\n",
       "      <td>0.646933</td>\n",
       "      <td>0.0</td>\n",
       "    </tr>\n",
       "    <tr>\n",
       "      <th>3</th>\n",
       "      <td>0.878947</td>\n",
       "      <td>0.239130</td>\n",
       "      <td>0.609626</td>\n",
       "      <td>0.319588</td>\n",
       "      <td>0.467391</td>\n",
       "      <td>0.989655</td>\n",
       "      <td>0.664557</td>\n",
       "      <td>0.207547</td>\n",
       "      <td>0.558360</td>\n",
       "      <td>0.556314</td>\n",
       "      <td>0.308943</td>\n",
       "      <td>0.798535</td>\n",
       "      <td>0.857347</td>\n",
       "      <td>0.0</td>\n",
       "    </tr>\n",
       "    <tr>\n",
       "      <th>4</th>\n",
       "      <td>0.581579</td>\n",
       "      <td>0.365613</td>\n",
       "      <td>0.807487</td>\n",
       "      <td>0.536082</td>\n",
       "      <td>0.521739</td>\n",
       "      <td>0.627586</td>\n",
       "      <td>0.495781</td>\n",
       "      <td>0.490566</td>\n",
       "      <td>0.444795</td>\n",
       "      <td>0.259386</td>\n",
       "      <td>0.455285</td>\n",
       "      <td>0.608059</td>\n",
       "      <td>0.325963</td>\n",
       "      <td>0.0</td>\n",
       "    </tr>\n",
       "  </tbody>\n",
       "</table>\n",
       "</div>"
      ],
      "text/plain": [
       "     Alcool  Malic_Acid        Po  Ash_Alcanity  Magnesio  Total_Fenois  \\\n",
       "0  0.842105    0.191700  0.572193      0.257732  0.619565      0.627586   \n",
       "1  0.571053    0.205534  0.417112      0.030928  0.326087      0.575862   \n",
       "2  0.560526    0.320158  0.700535      0.412371  0.336957      0.627586   \n",
       "3  0.878947    0.239130  0.609626      0.319588  0.467391      0.989655   \n",
       "4  0.581579    0.365613  0.807487      0.536082  0.521739      0.627586   \n",
       "\n",
       "   Flavanoids  Fenois_nao_flavalonoides  Proanthocyanins  Intensidade_de_cor  \\\n",
       "0    0.573840                  0.283019         0.593060            0.372014   \n",
       "1    0.510549                  0.245283         0.274448            0.264505   \n",
       "2    0.611814                  0.320755         0.757098            0.375427   \n",
       "3    0.664557                  0.207547         0.558360            0.556314   \n",
       "4    0.495781                  0.490566         0.444795            0.259386   \n",
       "\n",
       "        Hue     OD280   Proline  Customer_Segment  \n",
       "0  0.455285  0.970696  0.561341               0.0  \n",
       "1  0.463415  0.780220  0.550642               0.0  \n",
       "2  0.447154  0.695971  0.646933               0.0  \n",
       "3  0.308943  0.798535  0.857347               0.0  \n",
       "4  0.455285  0.608059  0.325963               0.0  "
      ]
     },
     "execution_count": 12,
     "metadata": {},
     "output_type": "execute_result"
    }
   ],
   "source": [
    "for attributes in attributes:\n",
    "    df[attributes] = (df[attributes]-min(df[attributes]))/max(df[attributes])-min(df[attributes])\n",
    "df.head()"
   ]
  },
  {
   "cell_type": "markdown",
   "metadata": {},
   "source": [
    "todas as amostras agora estão variando entre 0 e 1"
   ]
  },
  {
   "cell_type": "code",
   "execution_count": 13,
   "metadata": {},
   "outputs": [],
   "source": [
    "from sklearn import preprocessing \n",
    "\n",
    "min_max_scaler = preprocessing.MinMaxScaler()\n",
    "np_df = min_max_scaler.fit_transform(df)"
   ]
  },
  {
   "cell_type": "markdown",
   "metadata": {},
   "source": [
    "nós devemos transformar isso para o nosso Pandas DataFrames. Para fazermos isso, como iremos fazer df = pd.DataFrame, ou seja, vamos converter para DataFrame, passaremos o nome para ele como entrada, o nosso np_df e como as colunas, nós iremos passar as colunas do nosso DataFrame, para termos os nomes dos atributos nos locais corretos."
   ]
  },
  {
   "cell_type": "code",
   "execution_count": 14,
   "metadata": {},
   "outputs": [
    {
     "data": {
      "text/html": [
       "<div>\n",
       "<style scoped>\n",
       "    .dataframe tbody tr th:only-of-type {\n",
       "        vertical-align: middle;\n",
       "    }\n",
       "\n",
       "    .dataframe tbody tr th {\n",
       "        vertical-align: top;\n",
       "    }\n",
       "\n",
       "    .dataframe thead th {\n",
       "        text-align: right;\n",
       "    }\n",
       "</style>\n",
       "<table border=\"1\" class=\"dataframe\">\n",
       "  <thead>\n",
       "    <tr style=\"text-align: right;\">\n",
       "      <th></th>\n",
       "      <th>Alcool</th>\n",
       "      <th>Malic_Acid</th>\n",
       "      <th>Po</th>\n",
       "      <th>Ash_Alcanity</th>\n",
       "      <th>Magnesio</th>\n",
       "      <th>Total_Fenois</th>\n",
       "      <th>Flavanoids</th>\n",
       "      <th>Fenois_nao_flavalonoides</th>\n",
       "      <th>Proanthocyanins</th>\n",
       "      <th>Intensidade_de_cor</th>\n",
       "      <th>Hue</th>\n",
       "      <th>OD280</th>\n",
       "      <th>Proline</th>\n",
       "      <th>Customer_Segment</th>\n",
       "    </tr>\n",
       "  </thead>\n",
       "  <tbody>\n",
       "    <tr>\n",
       "      <th>count</th>\n",
       "      <td>178.000000</td>\n",
       "      <td>178.000000</td>\n",
       "      <td>178.000000</td>\n",
       "      <td>178.000000</td>\n",
       "      <td>178.000000</td>\n",
       "      <td>178.000000</td>\n",
       "      <td>178.000000</td>\n",
       "      <td>178.000000</td>\n",
       "      <td>178.000000</td>\n",
       "      <td>178.000000</td>\n",
       "      <td>178.000000</td>\n",
       "      <td>178.000000</td>\n",
       "      <td>178.000000</td>\n",
       "      <td>178.000000</td>\n",
       "    </tr>\n",
       "    <tr>\n",
       "      <th>mean</th>\n",
       "      <td>0.518584</td>\n",
       "      <td>0.315484</td>\n",
       "      <td>0.538244</td>\n",
       "      <td>0.458502</td>\n",
       "      <td>0.323278</td>\n",
       "      <td>0.453487</td>\n",
       "      <td>0.356386</td>\n",
       "      <td>0.437460</td>\n",
       "      <td>0.372523</td>\n",
       "      <td>0.322363</td>\n",
       "      <td>0.388170</td>\n",
       "      <td>0.491460</td>\n",
       "      <td>0.334446</td>\n",
       "      <td>0.469101</td>\n",
       "    </tr>\n",
       "    <tr>\n",
       "      <th>std</th>\n",
       "      <td>0.213639</td>\n",
       "      <td>0.220780</td>\n",
       "      <td>0.146708</td>\n",
       "      <td>0.172142</td>\n",
       "      <td>0.155244</td>\n",
       "      <td>0.215811</td>\n",
       "      <td>0.210730</td>\n",
       "      <td>0.234818</td>\n",
       "      <td>0.180555</td>\n",
       "      <td>0.197806</td>\n",
       "      <td>0.185831</td>\n",
       "      <td>0.260070</td>\n",
       "      <td>0.224613</td>\n",
       "      <td>0.387517</td>\n",
       "    </tr>\n",
       "    <tr>\n",
       "      <th>min</th>\n",
       "      <td>0.000000</td>\n",
       "      <td>0.000000</td>\n",
       "      <td>0.000000</td>\n",
       "      <td>0.000000</td>\n",
       "      <td>0.000000</td>\n",
       "      <td>0.000000</td>\n",
       "      <td>0.000000</td>\n",
       "      <td>0.000000</td>\n",
       "      <td>0.000000</td>\n",
       "      <td>0.000000</td>\n",
       "      <td>0.000000</td>\n",
       "      <td>0.000000</td>\n",
       "      <td>0.000000</td>\n",
       "      <td>0.000000</td>\n",
       "    </tr>\n",
       "    <tr>\n",
       "      <th>25%</th>\n",
       "      <td>0.350658</td>\n",
       "      <td>0.170455</td>\n",
       "      <td>0.454545</td>\n",
       "      <td>0.340206</td>\n",
       "      <td>0.195652</td>\n",
       "      <td>0.262931</td>\n",
       "      <td>0.182489</td>\n",
       "      <td>0.264151</td>\n",
       "      <td>0.264984</td>\n",
       "      <td>0.165529</td>\n",
       "      <td>0.245935</td>\n",
       "      <td>0.244505</td>\n",
       "      <td>0.158702</td>\n",
       "      <td>0.000000</td>\n",
       "    </tr>\n",
       "    <tr>\n",
       "      <th>50%</th>\n",
       "      <td>0.531579</td>\n",
       "      <td>0.222332</td>\n",
       "      <td>0.534759</td>\n",
       "      <td>0.458763</td>\n",
       "      <td>0.304348</td>\n",
       "      <td>0.474138</td>\n",
       "      <td>0.378692</td>\n",
       "      <td>0.396226</td>\n",
       "      <td>0.361199</td>\n",
       "      <td>0.290956</td>\n",
       "      <td>0.394309</td>\n",
       "      <td>0.553114</td>\n",
       "      <td>0.282097</td>\n",
       "      <td>0.500000</td>\n",
       "    </tr>\n",
       "    <tr>\n",
       "      <th>75%</th>\n",
       "      <td>0.696711</td>\n",
       "      <td>0.462945</td>\n",
       "      <td>0.640374</td>\n",
       "      <td>0.561856</td>\n",
       "      <td>0.402174</td>\n",
       "      <td>0.627586</td>\n",
       "      <td>0.534810</td>\n",
       "      <td>0.580189</td>\n",
       "      <td>0.485804</td>\n",
       "      <td>0.419795</td>\n",
       "      <td>0.520325</td>\n",
       "      <td>0.695971</td>\n",
       "      <td>0.504280</td>\n",
       "      <td>1.000000</td>\n",
       "    </tr>\n",
       "    <tr>\n",
       "      <th>max</th>\n",
       "      <td>1.000000</td>\n",
       "      <td>1.000000</td>\n",
       "      <td>1.000000</td>\n",
       "      <td>1.000000</td>\n",
       "      <td>1.000000</td>\n",
       "      <td>1.000000</td>\n",
       "      <td>1.000000</td>\n",
       "      <td>1.000000</td>\n",
       "      <td>1.000000</td>\n",
       "      <td>1.000000</td>\n",
       "      <td>1.000000</td>\n",
       "      <td>1.000000</td>\n",
       "      <td>1.000000</td>\n",
       "      <td>1.000000</td>\n",
       "    </tr>\n",
       "  </tbody>\n",
       "</table>\n",
       "</div>"
      ],
      "text/plain": [
       "           Alcool  Malic_Acid          Po  Ash_Alcanity    Magnesio  \\\n",
       "count  178.000000  178.000000  178.000000    178.000000  178.000000   \n",
       "mean     0.518584    0.315484    0.538244      0.458502    0.323278   \n",
       "std      0.213639    0.220780    0.146708      0.172142    0.155244   \n",
       "min      0.000000    0.000000    0.000000      0.000000    0.000000   \n",
       "25%      0.350658    0.170455    0.454545      0.340206    0.195652   \n",
       "50%      0.531579    0.222332    0.534759      0.458763    0.304348   \n",
       "75%      0.696711    0.462945    0.640374      0.561856    0.402174   \n",
       "max      1.000000    1.000000    1.000000      1.000000    1.000000   \n",
       "\n",
       "       Total_Fenois  Flavanoids  Fenois_nao_flavalonoides  Proanthocyanins  \\\n",
       "count    178.000000  178.000000                178.000000       178.000000   \n",
       "mean       0.453487    0.356386                  0.437460         0.372523   \n",
       "std        0.215811    0.210730                  0.234818         0.180555   \n",
       "min        0.000000    0.000000                  0.000000         0.000000   \n",
       "25%        0.262931    0.182489                  0.264151         0.264984   \n",
       "50%        0.474138    0.378692                  0.396226         0.361199   \n",
       "75%        0.627586    0.534810                  0.580189         0.485804   \n",
       "max        1.000000    1.000000                  1.000000         1.000000   \n",
       "\n",
       "       Intensidade_de_cor         Hue       OD280     Proline  \\\n",
       "count          178.000000  178.000000  178.000000  178.000000   \n",
       "mean             0.322363    0.388170    0.491460    0.334446   \n",
       "std              0.197806    0.185831    0.260070    0.224613   \n",
       "min              0.000000    0.000000    0.000000    0.000000   \n",
       "25%              0.165529    0.245935    0.244505    0.158702   \n",
       "50%              0.290956    0.394309    0.553114    0.282097   \n",
       "75%              0.419795    0.520325    0.695971    0.504280   \n",
       "max              1.000000    1.000000    1.000000    1.000000   \n",
       "\n",
       "       Customer_Segment  \n",
       "count        178.000000  \n",
       "mean           0.469101  \n",
       "std            0.387517  \n",
       "min            0.000000  \n",
       "25%            0.000000  \n",
       "50%            0.500000  \n",
       "75%            1.000000  \n",
       "max            1.000000  "
      ]
     },
     "execution_count": 14,
     "metadata": {},
     "output_type": "execute_result"
    }
   ],
   "source": [
    "df = pd.DataFrame(np_df, columns= columnsC)\n",
    "df.describe()"
   ]
  },
  {
   "cell_type": "code",
   "execution_count": 15,
   "metadata": {},
   "outputs": [
    {
     "data": {
      "text/html": [
       "<div>\n",
       "<style scoped>\n",
       "    .dataframe tbody tr th:only-of-type {\n",
       "        vertical-align: middle;\n",
       "    }\n",
       "\n",
       "    .dataframe tbody tr th {\n",
       "        vertical-align: top;\n",
       "    }\n",
       "\n",
       "    .dataframe thead th {\n",
       "        text-align: right;\n",
       "    }\n",
       "</style>\n",
       "<table border=\"1\" class=\"dataframe\">\n",
       "  <thead>\n",
       "    <tr style=\"text-align: right;\">\n",
       "      <th></th>\n",
       "      <th>Alcool</th>\n",
       "      <th>Malic_Acid</th>\n",
       "      <th>Po</th>\n",
       "      <th>Ash_Alcanity</th>\n",
       "      <th>Magnesio</th>\n",
       "      <th>Total_Fenois</th>\n",
       "      <th>Flavanoids</th>\n",
       "      <th>Fenois_nao_flavalonoides</th>\n",
       "      <th>Proanthocyanins</th>\n",
       "      <th>Intensidade_de_cor</th>\n",
       "      <th>Hue</th>\n",
       "      <th>OD280</th>\n",
       "      <th>Proline</th>\n",
       "      <th>Customer_Segment</th>\n",
       "    </tr>\n",
       "  </thead>\n",
       "  <tbody>\n",
       "    <tr>\n",
       "      <th>count</th>\n",
       "      <td>178.000000</td>\n",
       "      <td>178.000000</td>\n",
       "      <td>178.000000</td>\n",
       "      <td>178.000000</td>\n",
       "      <td>178.000000</td>\n",
       "      <td>178.000000</td>\n",
       "      <td>178.000000</td>\n",
       "      <td>178.000000</td>\n",
       "      <td>178.000000</td>\n",
       "      <td>178.000000</td>\n",
       "      <td>178.000000</td>\n",
       "      <td>178.000000</td>\n",
       "      <td>178.000000</td>\n",
       "      <td>178.000000</td>\n",
       "    </tr>\n",
       "    <tr>\n",
       "      <th>mean</th>\n",
       "      <td>0.518584</td>\n",
       "      <td>0.315484</td>\n",
       "      <td>0.538244</td>\n",
       "      <td>0.458502</td>\n",
       "      <td>0.323278</td>\n",
       "      <td>0.453487</td>\n",
       "      <td>0.356386</td>\n",
       "      <td>0.437460</td>\n",
       "      <td>0.372523</td>\n",
       "      <td>0.322363</td>\n",
       "      <td>0.388170</td>\n",
       "      <td>0.491460</td>\n",
       "      <td>0.334446</td>\n",
       "      <td>0.469101</td>\n",
       "    </tr>\n",
       "    <tr>\n",
       "      <th>std</th>\n",
       "      <td>0.213639</td>\n",
       "      <td>0.220780</td>\n",
       "      <td>0.146708</td>\n",
       "      <td>0.172142</td>\n",
       "      <td>0.155244</td>\n",
       "      <td>0.215811</td>\n",
       "      <td>0.210730</td>\n",
       "      <td>0.234818</td>\n",
       "      <td>0.180555</td>\n",
       "      <td>0.197806</td>\n",
       "      <td>0.185831</td>\n",
       "      <td>0.260070</td>\n",
       "      <td>0.224613</td>\n",
       "      <td>0.387517</td>\n",
       "    </tr>\n",
       "    <tr>\n",
       "      <th>min</th>\n",
       "      <td>0.000000</td>\n",
       "      <td>0.000000</td>\n",
       "      <td>0.000000</td>\n",
       "      <td>0.000000</td>\n",
       "      <td>0.000000</td>\n",
       "      <td>0.000000</td>\n",
       "      <td>0.000000</td>\n",
       "      <td>0.000000</td>\n",
       "      <td>0.000000</td>\n",
       "      <td>0.000000</td>\n",
       "      <td>0.000000</td>\n",
       "      <td>0.000000</td>\n",
       "      <td>0.000000</td>\n",
       "      <td>0.000000</td>\n",
       "    </tr>\n",
       "    <tr>\n",
       "      <th>25%</th>\n",
       "      <td>0.350658</td>\n",
       "      <td>0.170455</td>\n",
       "      <td>0.454545</td>\n",
       "      <td>0.340206</td>\n",
       "      <td>0.195652</td>\n",
       "      <td>0.262931</td>\n",
       "      <td>0.182489</td>\n",
       "      <td>0.264151</td>\n",
       "      <td>0.264984</td>\n",
       "      <td>0.165529</td>\n",
       "      <td>0.245935</td>\n",
       "      <td>0.244505</td>\n",
       "      <td>0.158702</td>\n",
       "      <td>0.000000</td>\n",
       "    </tr>\n",
       "    <tr>\n",
       "      <th>50%</th>\n",
       "      <td>0.531579</td>\n",
       "      <td>0.222332</td>\n",
       "      <td>0.534759</td>\n",
       "      <td>0.458763</td>\n",
       "      <td>0.304348</td>\n",
       "      <td>0.474138</td>\n",
       "      <td>0.378692</td>\n",
       "      <td>0.396226</td>\n",
       "      <td>0.361199</td>\n",
       "      <td>0.290956</td>\n",
       "      <td>0.394309</td>\n",
       "      <td>0.553114</td>\n",
       "      <td>0.282097</td>\n",
       "      <td>0.500000</td>\n",
       "    </tr>\n",
       "    <tr>\n",
       "      <th>75%</th>\n",
       "      <td>0.696711</td>\n",
       "      <td>0.462945</td>\n",
       "      <td>0.640374</td>\n",
       "      <td>0.561856</td>\n",
       "      <td>0.402174</td>\n",
       "      <td>0.627586</td>\n",
       "      <td>0.534810</td>\n",
       "      <td>0.580189</td>\n",
       "      <td>0.485804</td>\n",
       "      <td>0.419795</td>\n",
       "      <td>0.520325</td>\n",
       "      <td>0.695971</td>\n",
       "      <td>0.504280</td>\n",
       "      <td>1.000000</td>\n",
       "    </tr>\n",
       "    <tr>\n",
       "      <th>max</th>\n",
       "      <td>1.000000</td>\n",
       "      <td>1.000000</td>\n",
       "      <td>1.000000</td>\n",
       "      <td>1.000000</td>\n",
       "      <td>1.000000</td>\n",
       "      <td>1.000000</td>\n",
       "      <td>1.000000</td>\n",
       "      <td>1.000000</td>\n",
       "      <td>1.000000</td>\n",
       "      <td>1.000000</td>\n",
       "      <td>1.000000</td>\n",
       "      <td>1.000000</td>\n",
       "      <td>1.000000</td>\n",
       "      <td>1.000000</td>\n",
       "    </tr>\n",
       "  </tbody>\n",
       "</table>\n",
       "</div>"
      ],
      "text/plain": [
       "           Alcool  Malic_Acid          Po  Ash_Alcanity    Magnesio  \\\n",
       "count  178.000000  178.000000  178.000000    178.000000  178.000000   \n",
       "mean     0.518584    0.315484    0.538244      0.458502    0.323278   \n",
       "std      0.213639    0.220780    0.146708      0.172142    0.155244   \n",
       "min      0.000000    0.000000    0.000000      0.000000    0.000000   \n",
       "25%      0.350658    0.170455    0.454545      0.340206    0.195652   \n",
       "50%      0.531579    0.222332    0.534759      0.458763    0.304348   \n",
       "75%      0.696711    0.462945    0.640374      0.561856    0.402174   \n",
       "max      1.000000    1.000000    1.000000      1.000000    1.000000   \n",
       "\n",
       "       Total_Fenois  Flavanoids  Fenois_nao_flavalonoides  Proanthocyanins  \\\n",
       "count    178.000000  178.000000                178.000000       178.000000   \n",
       "mean       0.453487    0.356386                  0.437460         0.372523   \n",
       "std        0.215811    0.210730                  0.234818         0.180555   \n",
       "min        0.000000    0.000000                  0.000000         0.000000   \n",
       "25%        0.262931    0.182489                  0.264151         0.264984   \n",
       "50%        0.474138    0.378692                  0.396226         0.361199   \n",
       "75%        0.627586    0.534810                  0.580189         0.485804   \n",
       "max        1.000000    1.000000                  1.000000         1.000000   \n",
       "\n",
       "       Intensidade_de_cor         Hue       OD280     Proline  \\\n",
       "count          178.000000  178.000000  178.000000  178.000000   \n",
       "mean             0.322363    0.388170    0.491460    0.334446   \n",
       "std              0.197806    0.185831    0.260070    0.224613   \n",
       "min              0.000000    0.000000    0.000000    0.000000   \n",
       "25%              0.165529    0.245935    0.244505    0.158702   \n",
       "50%              0.290956    0.394309    0.553114    0.282097   \n",
       "75%              0.419795    0.520325    0.695971    0.504280   \n",
       "max              1.000000    1.000000    1.000000    1.000000   \n",
       "\n",
       "       Customer_Segment  \n",
       "count        178.000000  \n",
       "mean           0.469101  \n",
       "std            0.387517  \n",
       "min            0.000000  \n",
       "25%            0.000000  \n",
       "50%            0.500000  \n",
       "75%            1.000000  \n",
       "max            1.000000  "
      ]
     },
     "execution_count": 15,
     "metadata": {},
     "output_type": "execute_result"
    }
   ],
   "source": [
    "np_df = min_max_scaler.inverse_transform(df)\n",
    "df = pd.DataFrame(np_df, columns = columnsC)\n",
    "df.describe()"
   ]
  },
  {
   "cell_type": "markdown",
   "metadata": {},
   "source": [
    "Apos fazer todo o agrupamento de dados iremos agrupá-los ultilizando o KMeans. Isso ira iniciar o agrupament, ou seja, clusterizar ele recebera o número de clusters."
   ]
  },
  {
   "cell_type": "code",
   "execution_count": 16,
   "metadata": {},
   "outputs": [],
   "source": [
    "from sklearn.cluster import KMeans\n",
    "bundler = KMeans(n_clusters=4)"
   ]
  },
  {
   "cell_type": "markdown",
   "metadata": {},
   "source": [
    "bundler = Agrupador"
   ]
  },
  {
   "cell_type": "code",
   "execution_count": 17,
   "metadata": {},
   "outputs": [],
   "source": [
    "bundler = KMeans(n_clusters=4)"
   ]
  },
  {
   "cell_type": "code",
   "execution_count": 18,
   "metadata": {},
   "outputs": [
    {
     "name": "stdout",
     "output_type": "stream",
     "text": [
      "[2 2 2 2 2 2 2 2 2 2 2 2 2 2 2 2 2 2 2 2 2 2 2 2 2 2 2 2 2 2 2 2 2 2 2 2 2\n",
      " 2 2 2 2 2 2 2 2 2 2 2 2 2 2 2 2 2 2 2 2 2 2 3 3 3 3 1 3 1 1 1 3 1 3 1 1 1\n",
      " 1 3 1 3 1 1 1 1 3 3 1 1 3 3 3 3 3 3 3 1 1 1 1 1 1 1 1 3 1 3 1 3 3 3 1 1 1\n",
      " 1 3 3 3 3 1 1 3 1 1 1 1 1 1 1 1 3 1 3 0 0 0 0 0 0 0 0 0 0 0 0 0 0 0 0 0 0\n",
      " 0 0 0 0 0 0 0 0 0 0 0 0 0 0 0 0 0 0 0 0 0 0 0 0 0 0 0 0 0 0]\n"
     ]
    }
   ],
   "source": [
    "from sklearn.cluster import KMeans\n",
    "\n",
    "bundler = KMeans(n_clusters=4)\n",
    "bundler.fit(df)\n",
    "labels = bundler.labels_\n",
    "print(labels)"
   ]
  },
  {
   "cell_type": "code",
   "execution_count": 19,
   "metadata": {},
   "outputs": [],
   "source": [
    "import plotly.graph_objs as go"
   ]
  },
  {
   "cell_type": "markdown",
   "metadata": {},
   "source": [
    "labels = agrupador.labels_\n",
    "print(labels)"
   ]
  },
  {
   "cell_type": "code",
   "execution_count": 20,
   "metadata": {},
   "outputs": [
    {
     "name": "stderr",
     "output_type": "stream",
     "text": [
      "C:\\Users\\joaor\\AppData\\Local\\Temp\\ipykernel_11172\\975769274.py:6: DeprecationWarning:\n",
      "\n",
      "`np.float` is a deprecated alias for the builtin `float`. To silence this warning, use `float` by itself. Doing this will not modify any behavior and is safe. If you specifically wanted the numpy scalar type, use `np.float64` here.\n",
      "Deprecated in NumPy 1.20; for more details and guidance: https://numpy.org/devdocs/release/1.20.0-notes.html#deprecations\n",
      "\n"
     ]
    },
    {
     "data": {
      "application/vnd.plotly.v1+json": {
       "config": {
        "plotlyServerURL": "https://plot.ly"
       },
       "data": [
        {
         "marker": {
          "color": [
           2,
           2,
           2,
           2,
           2,
           2,
           2,
           2,
           2,
           2,
           2,
           2,
           2,
           2,
           2,
           2,
           2,
           2,
           2,
           2,
           2,
           2,
           2,
           2,
           2,
           2,
           2,
           2,
           2,
           2,
           2,
           2,
           2,
           2,
           2,
           2,
           2,
           2,
           2,
           2,
           2,
           2,
           2,
           2,
           2,
           2,
           2,
           2,
           2,
           2,
           2,
           2,
           2,
           2,
           2,
           2,
           2,
           2,
           2,
           3,
           3,
           3,
           3,
           1,
           3,
           1,
           1,
           1,
           3,
           1,
           3,
           1,
           1,
           1,
           1,
           3,
           1,
           3,
           1,
           1,
           1,
           1,
           3,
           3,
           1,
           1,
           3,
           3,
           3,
           3,
           3,
           3,
           3,
           1,
           1,
           1,
           1,
           1,
           1,
           1,
           1,
           3,
           1,
           3,
           1,
           3,
           3,
           3,
           1,
           1,
           1,
           1,
           3,
           3,
           3,
           3,
           1,
           1,
           3,
           1,
           1,
           1,
           1,
           1,
           1,
           1,
           1,
           3,
           1,
           3,
           0,
           0,
           0,
           0,
           0,
           0,
           0,
           0,
           0,
           0,
           0,
           0,
           0,
           0,
           0,
           0,
           0,
           0,
           0,
           0,
           0,
           0,
           0,
           0,
           0,
           0,
           0,
           0,
           0,
           0,
           0,
           0,
           0,
           0,
           0,
           0,
           0,
           0,
           0,
           0,
           0,
           0,
           0,
           0,
           0,
           0,
           0,
           0
          ]
         },
         "mode": "markers",
         "text": [
          2,
          2,
          2,
          2,
          2,
          2,
          2,
          2,
          2,
          2,
          2,
          2,
          2,
          2,
          2,
          2,
          2,
          2,
          2,
          2,
          2,
          2,
          2,
          2,
          2,
          2,
          2,
          2,
          2,
          2,
          2,
          2,
          2,
          2,
          2,
          2,
          2,
          2,
          2,
          2,
          2,
          2,
          2,
          2,
          2,
          2,
          2,
          2,
          2,
          2,
          2,
          2,
          2,
          2,
          2,
          2,
          2,
          2,
          2,
          3,
          3,
          3,
          3,
          1,
          3,
          1,
          1,
          1,
          3,
          1,
          3,
          1,
          1,
          1,
          1,
          3,
          1,
          3,
          1,
          1,
          1,
          1,
          3,
          3,
          1,
          1,
          3,
          3,
          3,
          3,
          3,
          3,
          3,
          1,
          1,
          1,
          1,
          1,
          1,
          1,
          1,
          3,
          1,
          3,
          1,
          3,
          3,
          3,
          1,
          1,
          1,
          1,
          3,
          3,
          3,
          3,
          1,
          1,
          3,
          1,
          1,
          1,
          1,
          1,
          1,
          1,
          1,
          3,
          1,
          3,
          0,
          0,
          0,
          0,
          0,
          0,
          0,
          0,
          0,
          0,
          0,
          0,
          0,
          0,
          0,
          0,
          0,
          0,
          0,
          0,
          0,
          0,
          0,
          0,
          0,
          0,
          0,
          0,
          0,
          0,
          0,
          0,
          0,
          0,
          0,
          0,
          0,
          0,
          0,
          0,
          0,
          0,
          0,
          0,
          0,
          0,
          0,
          0
         ],
         "type": "scatter",
         "x": [
          0.37201365187713314,
          0.2645051194539249,
          0.37542662116040953,
          0.5563139931740615,
          0.25938566552901027,
          0.46672354948805467,
          0.33873720136518776,
          0.3216723549488055,
          0.3344709897610922,
          0.506825938566553,
          0.38139931740614336,
          0.3174061433447099,
          0.36860068259385664,
          0.35153583617747447,
          0.5307167235494882,
          0.5136518771331059,
          0.4197952218430035,
          0.45392491467576795,
          0.6331058020477816,
          0.32593856655290104,
          0.3728668941979523,
          0.2747440273037543,
          0.21501706484641636,
          0.22610921501706488,
          0.19112627986348124,
          0.19624573378839594,
          0.3003412969283276,
          0.22781569965870307,
          0.2747440273037543,
          0.2918088737201366,
          0.3771331058020478,
          0.4795221843003414,
          0.2184300341296928,
          0.35153583617747447,
          0.24914675767918093,
          0.32593856655290104,
          0.28327645051194544,
          0.25341296928327645,
          0.20648464163822527,
          0.32593856655290104,
          0.4138225255972697,
          0.2559726962457339,
          0.3540955631399318,
          0.26279863481228677,
          0.3208191126279864,
          0.3378839590443687,
          0.30887372013651887,
          0.41126279863481235,
          0.4197952218430035,
          0.650170648464164,
          0.5051194539249148,
          0.36860068259385664,
          0.492320819112628,
          0.4283276450511945,
          0.3899317406143345,
          0.42406143344709907,
          0.43515358361774753,
          0.4027303754266212,
          0.47098976109215024,
          0.05716723549488054,
          0.16979522184300344,
          0.38139931740614336,
          0.21501706484641636,
          0.27047781569965873,
          0.14249146757679182,
          0.28327645051194544,
          0.34300341296928333,
          0.29010238907849834,
          0.1612627986348123,
          0.1339590443686007,
          0.15102389078498296,
          0.17918088737201365,
          0.20989761092150172,
          0.17662116040955633,
          0.16467576791808874,
          0.21501706484641636,
          0.28327645051194544,
          0.11689419795221843,
          0.1808873720136519,
          0.11006825938566552,
          0.10409556313993175,
          0.2235494880546075,
          0.07849829351535838,
          0.3003412969283276,
          0.15102389078498296,
          0.11433447098976111,
          0.0998293515358362,
          0.11262798634812289,
          0.12969283276450513,
          0.03924914675767919,
          0.0955631399317406,
          0.19795221843003413,
          0.15102389078498296,
          0.0742320819112628,
          0.1680887372013652,
          0.11262798634812289,
          0.10409556313993175,
          0.13822525597269625,
          0.2747440273037543,
          0.08703071672354949,
          0.17235494880546076,
          0.0998293515358362,
          0.12969283276450513,
          0.06655290102389079,
          0.1416382252559727,
          0.121160409556314,
          0.1808873720136519,
          0.17235494880546076,
          0.121160409556314,
          0.11689419795221843,
          0.13822525597269625,
          0.061433447098976114,
          0.21501706484641636,
          0.15358361774744028,
          0.13822525597269625,
          0.05290102389078497,
          0.05716723549488054,
          0.06655290102389079,
          0.1808873720136519,
          0,
          0.1680887372013652,
          0.4027303754266212,
          0.06825938566552904,
          0.11262798634812289,
          0.12969283276450513,
          0.12627986348122866,
          0.22696245733788395,
          0.1467576791808874,
          0.07167235494880549,
          0.11262798634812289,
          0.24061433447098973,
          0.35153583617747447,
          0.3771331058020478,
          0.3174061433447099,
          0.35580204778157004,
          0.49658703071672355,
          0.219283276450512,
          0.3174061433447099,
          0.3771331058020478,
          0.310580204778157,
          0.28327645051194544,
          0.36860068259385664,
          0.2619453924914676,
          0.26621160409556316,
          0.5912969283276452,
          0.23208191126279865,
          0.30887372013651887,
          0.5435153583617749,
          0.6092150170648465,
          0.6928327645051195,
          0.6245733788395905,
          0.8122866894197953,
          0.49658703071672355,
          0.7883959044368601,
          0.5392491467576792,
          0.5648464163822526,
          0.6595563139931742,
          0.5307167235494882,
          1,
          0.8933447098976111,
          0.5435153583617749,
          0.3924914675767918,
          0.3668941979522185,
          0.3412969283276451,
          0.7081911262798636,
          0.4556313993174062,
          0.8020477815699659,
          0.7662116040955632,
          0.6296928327645053,
          0.6160409556313994,
          0.3600682593856656,
          0.735494795221843,
          0.7184300341296929,
          0.5477815699658705,
          0.5136518771331059,
          0.7610921501706485,
          0.6843003412969285,
          0.6757679180887373
         ],
         "y": [
          0.8421052631578951,
          0.5710526315789473,
          0.560526315789474,
          0.8789473684210525,
          0.5815789473684214,
          0.8342105263157893,
          0.8842105263157896,
          0.797368421052632,
          1,
          0.7447368421052629,
          0.8078947368421052,
          0.8131578947368419,
          0.7157894736842105,
          0.9789473684210526,
          0.8815789473684212,
          0.6842105263157898,
          0.8605263157894738,
          0.736842105263158,
          0.831578947368421,
          0.6868421052631581,
          0.797368421052632,
          0.5,
          0.7052631578947373,
          0.47894736842105257,
          0.6499999999999999,
          0.5315789473684216,
          0.6210526315789475,
          0.5973684210526318,
          0.7473684210526317,
          0.7868421052631578,
          0.7105263157894739,
          0.6710526315789473,
          0.6973684210526314,
          0.7184210526315788,
          0.6526315789473687,
          0.6447368421052633,
          0.5921052631578947,
          0.5315789473684216,
          0.5368421052631582,
          0.8394736842105264,
          0.6657894736842107,
          0.6263157894736846,
          0.7500000000000004,
          0.5815789473684214,
          0.5315789473684216,
          0.836842105263158,
          0.8815789473684212,
          0.7552631578947371,
          0.8078947368421052,
          0.7657894736842104,
          0.5315789473684216,
          0.736842105263158,
          0.7342105263157896,
          0.7210526315789472,
          0.7131578947368422,
          0.6657894736842107,
          0.8394736842105264,
          0.594736842105263,
          0.7078947368421056,
          0.3526315789473684,
          0.34210526315789513,
          0.4236842105263161,
          0.6947368421052631,
          0.3526315789473684,
          0.30000000000000027,
          0.3526315789473684,
          0.5473684210526315,
          0.3526315789473684,
          0.6078947368421055,
          0.310526315789474,
          0.331578947368421,
          0.7447368421052629,
          0.6473684210526316,
          0.5157894736842108,
          0.2447368421052638,
          0.1657894736842107,
          0.5263157894736841,
          0.2131578947368422,
          0.34210526315789513,
          0.43947368421052646,
          0.2552631578947371,
          0.44473684210526354,
          0.2763157894736845,
          0.5315789473684216,
          0.2131578947368422,
          0.43157894736842106,
          0.29736842105263195,
          0.1631578947368424,
          0.16052631578947407,
          0.2763157894736845,
          0.2763157894736845,
          0.2552631578947371,
          0.43684210526315814,
          0.331578947368421,
          0.155263157894737,
          0.3789473684210529,
          0.20526315789473726,
          0.331578947368421,
          0.3526315789473684,
          0.331578947368421,
          0.2763157894736845,
          0.4131578947368424,
          0.34473684210526345,
          0.20789473684210558,
          0.38947368421052664,
          0.3657894736842109,
          0.3210526315789477,
          0.44473684210526354,
          0.3131578947368423,
          0.15263157894736867,
          0.11315789473684257,
          0.39210526315789496,
          0.19210526315789478,
          0.10000000000000053,
          0.2763157894736845,
          0,
          0.20789473684210558,
          0.3657894736842109,
          0.45789473684210513,
          0.2552631578947371,
          0.1105263157894738,
          0.13947368421052664,
          0.3657894736842109,
          0.5315789473684216,
          0.2210526315789476,
          0.2736842105263162,
          0.3684210526315792,
          0.20000000000000018,
          0.3526315789473684,
          0.26578947368421035,
          0.4815789473684209,
          0.4868421052631584,
          0.4684210526315793,
          0.43947368421052646,
          0.38947368421052664,
          0.4131578947368424,
          0.3210526315789477,
          0.3947368421052633,
          0.6473684210526316,
          0.47631578947368425,
          0.5,
          0.6131578947368421,
          0.655263157894737,
          0.6815789473684211,
          0.3210526315789477,
          0.560526315789474,
          0.7500000000000004,
          0.48421052631578965,
          0.6026315789473689,
          0.5394736842105265,
          0.6499999999999999,
          0.4631578947368422,
          0.5473684210526315,
          0.5789473684210531,
          0.4078947368421053,
          0.5631578947368423,
          0.7394736842105263,
          0.37368421052631584,
          0.8710526315789475,
          0.6447368421052633,
          0.3500000000000001,
          0.7000000000000002,
          0.47894736842105257,
          0.5078947368421058,
          0.7236842105263159,
          0.7105263157894739,
          0.6368421052631579,
          0.4710526315789476,
          0.6710526315789473,
          0.6236842105263158,
          0.3078947368421052,
          0.45789473684210513,
          0.823684210526316,
          0.7052631578947373,
          0.6236842105263158,
          0.5894736842105264,
          0.5631578947368423,
          0.8157894736842106
         ]
        }
       ],
       "layout": {
        "template": {
         "data": {
          "bar": [
           {
            "error_x": {
             "color": "#2a3f5f"
            },
            "error_y": {
             "color": "#2a3f5f"
            },
            "marker": {
             "line": {
              "color": "#E5ECF6",
              "width": 0.5
             },
             "pattern": {
              "fillmode": "overlay",
              "size": 10,
              "solidity": 0.2
             }
            },
            "type": "bar"
           }
          ],
          "barpolar": [
           {
            "marker": {
             "line": {
              "color": "#E5ECF6",
              "width": 0.5
             },
             "pattern": {
              "fillmode": "overlay",
              "size": 10,
              "solidity": 0.2
             }
            },
            "type": "barpolar"
           }
          ],
          "carpet": [
           {
            "aaxis": {
             "endlinecolor": "#2a3f5f",
             "gridcolor": "white",
             "linecolor": "white",
             "minorgridcolor": "white",
             "startlinecolor": "#2a3f5f"
            },
            "baxis": {
             "endlinecolor": "#2a3f5f",
             "gridcolor": "white",
             "linecolor": "white",
             "minorgridcolor": "white",
             "startlinecolor": "#2a3f5f"
            },
            "type": "carpet"
           }
          ],
          "choropleth": [
           {
            "colorbar": {
             "outlinewidth": 0,
             "ticks": ""
            },
            "type": "choropleth"
           }
          ],
          "contour": [
           {
            "colorbar": {
             "outlinewidth": 0,
             "ticks": ""
            },
            "colorscale": [
             [
              0,
              "#0d0887"
             ],
             [
              0.1111111111111111,
              "#46039f"
             ],
             [
              0.2222222222222222,
              "#7201a8"
             ],
             [
              0.3333333333333333,
              "#9c179e"
             ],
             [
              0.4444444444444444,
              "#bd3786"
             ],
             [
              0.5555555555555556,
              "#d8576b"
             ],
             [
              0.6666666666666666,
              "#ed7953"
             ],
             [
              0.7777777777777778,
              "#fb9f3a"
             ],
             [
              0.8888888888888888,
              "#fdca26"
             ],
             [
              1,
              "#f0f921"
             ]
            ],
            "type": "contour"
           }
          ],
          "contourcarpet": [
           {
            "colorbar": {
             "outlinewidth": 0,
             "ticks": ""
            },
            "type": "contourcarpet"
           }
          ],
          "heatmap": [
           {
            "colorbar": {
             "outlinewidth": 0,
             "ticks": ""
            },
            "colorscale": [
             [
              0,
              "#0d0887"
             ],
             [
              0.1111111111111111,
              "#46039f"
             ],
             [
              0.2222222222222222,
              "#7201a8"
             ],
             [
              0.3333333333333333,
              "#9c179e"
             ],
             [
              0.4444444444444444,
              "#bd3786"
             ],
             [
              0.5555555555555556,
              "#d8576b"
             ],
             [
              0.6666666666666666,
              "#ed7953"
             ],
             [
              0.7777777777777778,
              "#fb9f3a"
             ],
             [
              0.8888888888888888,
              "#fdca26"
             ],
             [
              1,
              "#f0f921"
             ]
            ],
            "type": "heatmap"
           }
          ],
          "heatmapgl": [
           {
            "colorbar": {
             "outlinewidth": 0,
             "ticks": ""
            },
            "colorscale": [
             [
              0,
              "#0d0887"
             ],
             [
              0.1111111111111111,
              "#46039f"
             ],
             [
              0.2222222222222222,
              "#7201a8"
             ],
             [
              0.3333333333333333,
              "#9c179e"
             ],
             [
              0.4444444444444444,
              "#bd3786"
             ],
             [
              0.5555555555555556,
              "#d8576b"
             ],
             [
              0.6666666666666666,
              "#ed7953"
             ],
             [
              0.7777777777777778,
              "#fb9f3a"
             ],
             [
              0.8888888888888888,
              "#fdca26"
             ],
             [
              1,
              "#f0f921"
             ]
            ],
            "type": "heatmapgl"
           }
          ],
          "histogram": [
           {
            "marker": {
             "pattern": {
              "fillmode": "overlay",
              "size": 10,
              "solidity": 0.2
             }
            },
            "type": "histogram"
           }
          ],
          "histogram2d": [
           {
            "colorbar": {
             "outlinewidth": 0,
             "ticks": ""
            },
            "colorscale": [
             [
              0,
              "#0d0887"
             ],
             [
              0.1111111111111111,
              "#46039f"
             ],
             [
              0.2222222222222222,
              "#7201a8"
             ],
             [
              0.3333333333333333,
              "#9c179e"
             ],
             [
              0.4444444444444444,
              "#bd3786"
             ],
             [
              0.5555555555555556,
              "#d8576b"
             ],
             [
              0.6666666666666666,
              "#ed7953"
             ],
             [
              0.7777777777777778,
              "#fb9f3a"
             ],
             [
              0.8888888888888888,
              "#fdca26"
             ],
             [
              1,
              "#f0f921"
             ]
            ],
            "type": "histogram2d"
           }
          ],
          "histogram2dcontour": [
           {
            "colorbar": {
             "outlinewidth": 0,
             "ticks": ""
            },
            "colorscale": [
             [
              0,
              "#0d0887"
             ],
             [
              0.1111111111111111,
              "#46039f"
             ],
             [
              0.2222222222222222,
              "#7201a8"
             ],
             [
              0.3333333333333333,
              "#9c179e"
             ],
             [
              0.4444444444444444,
              "#bd3786"
             ],
             [
              0.5555555555555556,
              "#d8576b"
             ],
             [
              0.6666666666666666,
              "#ed7953"
             ],
             [
              0.7777777777777778,
              "#fb9f3a"
             ],
             [
              0.8888888888888888,
              "#fdca26"
             ],
             [
              1,
              "#f0f921"
             ]
            ],
            "type": "histogram2dcontour"
           }
          ],
          "mesh3d": [
           {
            "colorbar": {
             "outlinewidth": 0,
             "ticks": ""
            },
            "type": "mesh3d"
           }
          ],
          "parcoords": [
           {
            "line": {
             "colorbar": {
              "outlinewidth": 0,
              "ticks": ""
             }
            },
            "type": "parcoords"
           }
          ],
          "pie": [
           {
            "automargin": true,
            "type": "pie"
           }
          ],
          "scatter": [
           {
            "marker": {
             "colorbar": {
              "outlinewidth": 0,
              "ticks": ""
             }
            },
            "type": "scatter"
           }
          ],
          "scatter3d": [
           {
            "line": {
             "colorbar": {
              "outlinewidth": 0,
              "ticks": ""
             }
            },
            "marker": {
             "colorbar": {
              "outlinewidth": 0,
              "ticks": ""
             }
            },
            "type": "scatter3d"
           }
          ],
          "scattercarpet": [
           {
            "marker": {
             "colorbar": {
              "outlinewidth": 0,
              "ticks": ""
             }
            },
            "type": "scattercarpet"
           }
          ],
          "scattergeo": [
           {
            "marker": {
             "colorbar": {
              "outlinewidth": 0,
              "ticks": ""
             }
            },
            "type": "scattergeo"
           }
          ],
          "scattergl": [
           {
            "marker": {
             "colorbar": {
              "outlinewidth": 0,
              "ticks": ""
             }
            },
            "type": "scattergl"
           }
          ],
          "scattermapbox": [
           {
            "marker": {
             "colorbar": {
              "outlinewidth": 0,
              "ticks": ""
             }
            },
            "type": "scattermapbox"
           }
          ],
          "scatterpolar": [
           {
            "marker": {
             "colorbar": {
              "outlinewidth": 0,
              "ticks": ""
             }
            },
            "type": "scatterpolar"
           }
          ],
          "scatterpolargl": [
           {
            "marker": {
             "colorbar": {
              "outlinewidth": 0,
              "ticks": ""
             }
            },
            "type": "scatterpolargl"
           }
          ],
          "scatterternary": [
           {
            "marker": {
             "colorbar": {
              "outlinewidth": 0,
              "ticks": ""
             }
            },
            "type": "scatterternary"
           }
          ],
          "surface": [
           {
            "colorbar": {
             "outlinewidth": 0,
             "ticks": ""
            },
            "colorscale": [
             [
              0,
              "#0d0887"
             ],
             [
              0.1111111111111111,
              "#46039f"
             ],
             [
              0.2222222222222222,
              "#7201a8"
             ],
             [
              0.3333333333333333,
              "#9c179e"
             ],
             [
              0.4444444444444444,
              "#bd3786"
             ],
             [
              0.5555555555555556,
              "#d8576b"
             ],
             [
              0.6666666666666666,
              "#ed7953"
             ],
             [
              0.7777777777777778,
              "#fb9f3a"
             ],
             [
              0.8888888888888888,
              "#fdca26"
             ],
             [
              1,
              "#f0f921"
             ]
            ],
            "type": "surface"
           }
          ],
          "table": [
           {
            "cells": {
             "fill": {
              "color": "#EBF0F8"
             },
             "line": {
              "color": "white"
             }
            },
            "header": {
             "fill": {
              "color": "#C8D4E3"
             },
             "line": {
              "color": "white"
             }
            },
            "type": "table"
           }
          ]
         },
         "layout": {
          "annotationdefaults": {
           "arrowcolor": "#2a3f5f",
           "arrowhead": 0,
           "arrowwidth": 1
          },
          "autotypenumbers": "strict",
          "coloraxis": {
           "colorbar": {
            "outlinewidth": 0,
            "ticks": ""
           }
          },
          "colorscale": {
           "diverging": [
            [
             0,
             "#8e0152"
            ],
            [
             0.1,
             "#c51b7d"
            ],
            [
             0.2,
             "#de77ae"
            ],
            [
             0.3,
             "#f1b6da"
            ],
            [
             0.4,
             "#fde0ef"
            ],
            [
             0.5,
             "#f7f7f7"
            ],
            [
             0.6,
             "#e6f5d0"
            ],
            [
             0.7,
             "#b8e186"
            ],
            [
             0.8,
             "#7fbc41"
            ],
            [
             0.9,
             "#4d9221"
            ],
            [
             1,
             "#276419"
            ]
           ],
           "sequential": [
            [
             0,
             "#0d0887"
            ],
            [
             0.1111111111111111,
             "#46039f"
            ],
            [
             0.2222222222222222,
             "#7201a8"
            ],
            [
             0.3333333333333333,
             "#9c179e"
            ],
            [
             0.4444444444444444,
             "#bd3786"
            ],
            [
             0.5555555555555556,
             "#d8576b"
            ],
            [
             0.6666666666666666,
             "#ed7953"
            ],
            [
             0.7777777777777778,
             "#fb9f3a"
            ],
            [
             0.8888888888888888,
             "#fdca26"
            ],
            [
             1,
             "#f0f921"
            ]
           ],
           "sequentialminus": [
            [
             0,
             "#0d0887"
            ],
            [
             0.1111111111111111,
             "#46039f"
            ],
            [
             0.2222222222222222,
             "#7201a8"
            ],
            [
             0.3333333333333333,
             "#9c179e"
            ],
            [
             0.4444444444444444,
             "#bd3786"
            ],
            [
             0.5555555555555556,
             "#d8576b"
            ],
            [
             0.6666666666666666,
             "#ed7953"
            ],
            [
             0.7777777777777778,
             "#fb9f3a"
            ],
            [
             0.8888888888888888,
             "#fdca26"
            ],
            [
             1,
             "#f0f921"
            ]
           ]
          },
          "colorway": [
           "#636efa",
           "#EF553B",
           "#00cc96",
           "#ab63fa",
           "#FFA15A",
           "#19d3f3",
           "#FF6692",
           "#B6E880",
           "#FF97FF",
           "#FECB52"
          ],
          "font": {
           "color": "#2a3f5f"
          },
          "geo": {
           "bgcolor": "white",
           "lakecolor": "white",
           "landcolor": "#E5ECF6",
           "showlakes": true,
           "showland": true,
           "subunitcolor": "white"
          },
          "hoverlabel": {
           "align": "left"
          },
          "hovermode": "closest",
          "mapbox": {
           "style": "light"
          },
          "paper_bgcolor": "white",
          "plot_bgcolor": "#E5ECF6",
          "polar": {
           "angularaxis": {
            "gridcolor": "white",
            "linecolor": "white",
            "ticks": ""
           },
           "bgcolor": "#E5ECF6",
           "radialaxis": {
            "gridcolor": "white",
            "linecolor": "white",
            "ticks": ""
           }
          },
          "scene": {
           "xaxis": {
            "backgroundcolor": "#E5ECF6",
            "gridcolor": "white",
            "gridwidth": 2,
            "linecolor": "white",
            "showbackground": true,
            "ticks": "",
            "zerolinecolor": "white"
           },
           "yaxis": {
            "backgroundcolor": "#E5ECF6",
            "gridcolor": "white",
            "gridwidth": 2,
            "linecolor": "white",
            "showbackground": true,
            "ticks": "",
            "zerolinecolor": "white"
           },
           "zaxis": {
            "backgroundcolor": "#E5ECF6",
            "gridcolor": "white",
            "gridwidth": 2,
            "linecolor": "white",
            "showbackground": true,
            "ticks": "",
            "zerolinecolor": "white"
           }
          },
          "shapedefaults": {
           "line": {
            "color": "#2a3f5f"
           }
          },
          "ternary": {
           "aaxis": {
            "gridcolor": "white",
            "linecolor": "white",
            "ticks": ""
           },
           "baxis": {
            "gridcolor": "white",
            "linecolor": "white",
            "ticks": ""
           },
           "bgcolor": "#E5ECF6",
           "caxis": {
            "gridcolor": "white",
            "linecolor": "white",
            "ticks": ""
           }
          },
          "title": {
           "x": 0.05
          },
          "xaxis": {
           "automargin": true,
           "gridcolor": "white",
           "linecolor": "white",
           "ticks": "",
           "title": {
            "standoff": 15
           },
           "zerolinecolor": "white",
           "zerolinewidth": 2
          },
          "yaxis": {
           "automargin": true,
           "gridcolor": "white",
           "linecolor": "white",
           "ticks": "",
           "title": {
            "standoff": 15
           },
           "zerolinecolor": "white",
           "zerolinewidth": 2
          }
         }
        }
       }
      }
     },
     "metadata": {},
     "output_type": "display_data"
    }
   ],
   "source": [
    "import matplotlib.pyplot as plt\n",
    "\n",
    "fig = go.Figure()\n",
    "fig.add_trace(go.Scatter(x=df['Intensidade_de_cor'], y = df['Alcool'],\n",
    "                                                        mode = 'markers',                      \n",
    "                                                        marker = dict(color = bundler.labels_.astype(np.float)),\n",
    "                                                        text = labels))\n",
    "fig.show()"
   ]
  },
  {
   "cell_type": "markdown",
   "metadata": {},
   "source": [
    "Foi criado um gráfico de 3 dimensões onde é possivel da zoom com o botão esquedo do mause, além disso por ser de 3 dimensões o x passou a ser a \"intensidade_de_cor\", o y foi colocado o \"Alcool\" mas poderia ser qualquer outro atributo, o mode vai ser a forma com as bolinhas vão ser atrávez de markers, \"marcadores\" e o tipo de marker que foi utilizado agora vai ser o dict() um dicionário no qual nós iremos selecionar a cor da nossa bolinha de acordo com o label que ela foi selecionada, ou seja, o grupo que ela foi colocada."
   ]
  },
  {
   "cell_type": "code",
   "execution_count": 21,
   "metadata": {},
   "outputs": [
    {
     "name": "stdout",
     "output_type": "stream",
     "text": [
      "[0 0 0 0 0 0 0 0 0 0 0 0 0 0 0 0 0 0 0 0 0 0 0 0 0 0 0 0 0 0 0 0 0 0 0 0 0\n",
      " 0 0 0 0 0 0 0 0 0 0 0 0 0 0 0 0 0 0 0 0 0 0 1 1 1 1 1 1 1 1 1 1 1 1 1 1 0\n",
      " 1 1 1 1 1 1 1 1 1 2 1 1 1 1 1 1 1 1 1 1 1 1 1 1 1 1 1 1 1 1 1 1 1 1 1 1 1\n",
      " 1 1 1 1 1 1 1 1 1 1 1 1 1 1 1 1 1 1 1 2 2 2 2 2 2 2 2 2 2 2 2 2 2 2 2 2 2\n",
      " 2 2 2 2 2 2 2 2 2 2 2 2 2 2 2 2 2 2 2 2 2 2 2 2 2 2 2 2 2 2]\n"
     ]
    }
   ],
   "source": [
    "bundler = KMeans(n_clusters= 3)\n",
    "bundler.fit(df)\n",
    "labels = bundler.labels_\n",
    "print(labels)"
   ]
  },
  {
   "cell_type": "code",
   "execution_count": 22,
   "metadata": {},
   "outputs": [
    {
     "name": "stderr",
     "output_type": "stream",
     "text": [
      "C:\\Users\\joaor\\AppData\\Local\\Temp\\ipykernel_11172\\1664485020.py:5: DeprecationWarning:\n",
      "\n",
      "`np.float` is a deprecated alias for the builtin `float`. To silence this warning, use `float` by itself. Doing this will not modify any behavior and is safe. If you specifically wanted the numpy scalar type, use `np.float64` here.\n",
      "Deprecated in NumPy 1.20; for more details and guidance: https://numpy.org/devdocs/release/1.20.0-notes.html#deprecations\n",
      "\n"
     ]
    },
    {
     "data": {
      "application/vnd.plotly.v1+json": {
       "config": {
        "plotlyServerURL": "https://plot.ly"
       },
       "data": [
        {
         "marker": {
          "color": [
           0,
           0,
           0,
           0,
           0,
           0,
           0,
           0,
           0,
           0,
           0,
           0,
           0,
           0,
           0,
           0,
           0,
           0,
           0,
           0,
           0,
           0,
           0,
           0,
           0,
           0,
           0,
           0,
           0,
           0,
           0,
           0,
           0,
           0,
           0,
           0,
           0,
           0,
           0,
           0,
           0,
           0,
           0,
           0,
           0,
           0,
           0,
           0,
           0,
           0,
           0,
           0,
           0,
           0,
           0,
           0,
           0,
           0,
           0,
           1,
           1,
           1,
           1,
           1,
           1,
           1,
           1,
           1,
           1,
           1,
           1,
           1,
           1,
           0,
           1,
           1,
           1,
           1,
           1,
           1,
           1,
           1,
           1,
           2,
           1,
           1,
           1,
           1,
           1,
           1,
           1,
           1,
           1,
           1,
           1,
           1,
           1,
           1,
           1,
           1,
           1,
           1,
           1,
           1,
           1,
           1,
           1,
           1,
           1,
           1,
           1,
           1,
           1,
           1,
           1,
           1,
           1,
           1,
           1,
           1,
           1,
           1,
           1,
           1,
           1,
           1,
           1,
           1,
           1,
           1,
           2,
           2,
           2,
           2,
           2,
           2,
           2,
           2,
           2,
           2,
           2,
           2,
           2,
           2,
           2,
           2,
           2,
           2,
           2,
           2,
           2,
           2,
           2,
           2,
           2,
           2,
           2,
           2,
           2,
           2,
           2,
           2,
           2,
           2,
           2,
           2,
           2,
           2,
           2,
           2,
           2,
           2,
           2,
           2,
           2,
           2,
           2,
           2
          ]
         },
         "mode": "markers",
         "text": [
          0,
          0,
          0,
          0,
          0,
          0,
          0,
          0,
          0,
          0,
          0,
          0,
          0,
          0,
          0,
          0,
          0,
          0,
          0,
          0,
          0,
          0,
          0,
          0,
          0,
          0,
          0,
          0,
          0,
          0,
          0,
          0,
          0,
          0,
          0,
          0,
          0,
          0,
          0,
          0,
          0,
          0,
          0,
          0,
          0,
          0,
          0,
          0,
          0,
          0,
          0,
          0,
          0,
          0,
          0,
          0,
          0,
          0,
          0,
          1,
          1,
          1,
          1,
          1,
          1,
          1,
          1,
          1,
          1,
          1,
          1,
          1,
          1,
          0,
          1,
          1,
          1,
          1,
          1,
          1,
          1,
          1,
          1,
          2,
          1,
          1,
          1,
          1,
          1,
          1,
          1,
          1,
          1,
          1,
          1,
          1,
          1,
          1,
          1,
          1,
          1,
          1,
          1,
          1,
          1,
          1,
          1,
          1,
          1,
          1,
          1,
          1,
          1,
          1,
          1,
          1,
          1,
          1,
          1,
          1,
          1,
          1,
          1,
          1,
          1,
          1,
          1,
          1,
          1,
          1,
          2,
          2,
          2,
          2,
          2,
          2,
          2,
          2,
          2,
          2,
          2,
          2,
          2,
          2,
          2,
          2,
          2,
          2,
          2,
          2,
          2,
          2,
          2,
          2,
          2,
          2,
          2,
          2,
          2,
          2,
          2,
          2,
          2,
          2,
          2,
          2,
          2,
          2,
          2,
          2,
          2,
          2,
          2,
          2,
          2,
          2,
          2,
          2
         ],
         "type": "scatter",
         "x": [
          0.37201365187713314,
          0.2645051194539249,
          0.37542662116040953,
          0.5563139931740615,
          0.25938566552901027,
          0.46672354948805467,
          0.33873720136518776,
          0.3216723549488055,
          0.3344709897610922,
          0.506825938566553,
          0.38139931740614336,
          0.3174061433447099,
          0.36860068259385664,
          0.35153583617747447,
          0.5307167235494882,
          0.5136518771331059,
          0.4197952218430035,
          0.45392491467576795,
          0.6331058020477816,
          0.32593856655290104,
          0.3728668941979523,
          0.2747440273037543,
          0.21501706484641636,
          0.22610921501706488,
          0.19112627986348124,
          0.19624573378839594,
          0.3003412969283276,
          0.22781569965870307,
          0.2747440273037543,
          0.2918088737201366,
          0.3771331058020478,
          0.4795221843003414,
          0.2184300341296928,
          0.35153583617747447,
          0.24914675767918093,
          0.32593856655290104,
          0.28327645051194544,
          0.25341296928327645,
          0.20648464163822527,
          0.32593856655290104,
          0.4138225255972697,
          0.2559726962457339,
          0.3540955631399318,
          0.26279863481228677,
          0.3208191126279864,
          0.3378839590443687,
          0.30887372013651887,
          0.41126279863481235,
          0.4197952218430035,
          0.650170648464164,
          0.5051194539249148,
          0.36860068259385664,
          0.492320819112628,
          0.4283276450511945,
          0.3899317406143345,
          0.42406143344709907,
          0.43515358361774753,
          0.4027303754266212,
          0.47098976109215024,
          0.05716723549488054,
          0.16979522184300344,
          0.38139931740614336,
          0.21501706484641636,
          0.27047781569965873,
          0.14249146757679182,
          0.28327645051194544,
          0.34300341296928333,
          0.29010238907849834,
          0.1612627986348123,
          0.1339590443686007,
          0.15102389078498296,
          0.17918088737201365,
          0.20989761092150172,
          0.17662116040955633,
          0.16467576791808874,
          0.21501706484641636,
          0.28327645051194544,
          0.11689419795221843,
          0.1808873720136519,
          0.11006825938566552,
          0.10409556313993175,
          0.2235494880546075,
          0.07849829351535838,
          0.3003412969283276,
          0.15102389078498296,
          0.11433447098976111,
          0.0998293515358362,
          0.11262798634812289,
          0.12969283276450513,
          0.03924914675767919,
          0.0955631399317406,
          0.19795221843003413,
          0.15102389078498296,
          0.0742320819112628,
          0.1680887372013652,
          0.11262798634812289,
          0.10409556313993175,
          0.13822525597269625,
          0.2747440273037543,
          0.08703071672354949,
          0.17235494880546076,
          0.0998293515358362,
          0.12969283276450513,
          0.06655290102389079,
          0.1416382252559727,
          0.121160409556314,
          0.1808873720136519,
          0.17235494880546076,
          0.121160409556314,
          0.11689419795221843,
          0.13822525597269625,
          0.061433447098976114,
          0.21501706484641636,
          0.15358361774744028,
          0.13822525597269625,
          0.05290102389078497,
          0.05716723549488054,
          0.06655290102389079,
          0.1808873720136519,
          0,
          0.1680887372013652,
          0.4027303754266212,
          0.06825938566552904,
          0.11262798634812289,
          0.12969283276450513,
          0.12627986348122866,
          0.22696245733788395,
          0.1467576791808874,
          0.07167235494880549,
          0.11262798634812289,
          0.24061433447098973,
          0.35153583617747447,
          0.3771331058020478,
          0.3174061433447099,
          0.35580204778157004,
          0.49658703071672355,
          0.219283276450512,
          0.3174061433447099,
          0.3771331058020478,
          0.310580204778157,
          0.28327645051194544,
          0.36860068259385664,
          0.2619453924914676,
          0.26621160409556316,
          0.5912969283276452,
          0.23208191126279865,
          0.30887372013651887,
          0.5435153583617749,
          0.6092150170648465,
          0.6928327645051195,
          0.6245733788395905,
          0.8122866894197953,
          0.49658703071672355,
          0.7883959044368601,
          0.5392491467576792,
          0.5648464163822526,
          0.6595563139931742,
          0.5307167235494882,
          1,
          0.8933447098976111,
          0.5435153583617749,
          0.3924914675767918,
          0.3668941979522185,
          0.3412969283276451,
          0.7081911262798636,
          0.4556313993174062,
          0.8020477815699659,
          0.7662116040955632,
          0.6296928327645053,
          0.6160409556313994,
          0.3600682593856656,
          0.735494795221843,
          0.7184300341296929,
          0.5477815699658705,
          0.5136518771331059,
          0.7610921501706485,
          0.6843003412969285,
          0.6757679180887373
         ],
         "y": [
          0.8421052631578951,
          0.5710526315789473,
          0.560526315789474,
          0.8789473684210525,
          0.5815789473684214,
          0.8342105263157893,
          0.8842105263157896,
          0.797368421052632,
          1,
          0.7447368421052629,
          0.8078947368421052,
          0.8131578947368419,
          0.7157894736842105,
          0.9789473684210526,
          0.8815789473684212,
          0.6842105263157898,
          0.8605263157894738,
          0.736842105263158,
          0.831578947368421,
          0.6868421052631581,
          0.797368421052632,
          0.5,
          0.7052631578947373,
          0.47894736842105257,
          0.6499999999999999,
          0.5315789473684216,
          0.6210526315789475,
          0.5973684210526318,
          0.7473684210526317,
          0.7868421052631578,
          0.7105263157894739,
          0.6710526315789473,
          0.6973684210526314,
          0.7184210526315788,
          0.6526315789473687,
          0.6447368421052633,
          0.5921052631578947,
          0.5315789473684216,
          0.5368421052631582,
          0.8394736842105264,
          0.6657894736842107,
          0.6263157894736846,
          0.7500000000000004,
          0.5815789473684214,
          0.5315789473684216,
          0.836842105263158,
          0.8815789473684212,
          0.7552631578947371,
          0.8078947368421052,
          0.7657894736842104,
          0.5315789473684216,
          0.736842105263158,
          0.7342105263157896,
          0.7210526315789472,
          0.7131578947368422,
          0.6657894736842107,
          0.8394736842105264,
          0.594736842105263,
          0.7078947368421056,
          0.3526315789473684,
          0.34210526315789513,
          0.4236842105263161,
          0.6947368421052631,
          0.3526315789473684,
          0.30000000000000027,
          0.3526315789473684,
          0.5473684210526315,
          0.3526315789473684,
          0.6078947368421055,
          0.310526315789474,
          0.331578947368421,
          0.7447368421052629,
          0.6473684210526316,
          0.5157894736842108,
          0.2447368421052638,
          0.1657894736842107,
          0.5263157894736841,
          0.2131578947368422,
          0.34210526315789513,
          0.43947368421052646,
          0.2552631578947371,
          0.44473684210526354,
          0.2763157894736845,
          0.5315789473684216,
          0.2131578947368422,
          0.43157894736842106,
          0.29736842105263195,
          0.1631578947368424,
          0.16052631578947407,
          0.2763157894736845,
          0.2763157894736845,
          0.2552631578947371,
          0.43684210526315814,
          0.331578947368421,
          0.155263157894737,
          0.3789473684210529,
          0.20526315789473726,
          0.331578947368421,
          0.3526315789473684,
          0.331578947368421,
          0.2763157894736845,
          0.4131578947368424,
          0.34473684210526345,
          0.20789473684210558,
          0.38947368421052664,
          0.3657894736842109,
          0.3210526315789477,
          0.44473684210526354,
          0.3131578947368423,
          0.15263157894736867,
          0.11315789473684257,
          0.39210526315789496,
          0.19210526315789478,
          0.10000000000000053,
          0.2763157894736845,
          0,
          0.20789473684210558,
          0.3657894736842109,
          0.45789473684210513,
          0.2552631578947371,
          0.1105263157894738,
          0.13947368421052664,
          0.3657894736842109,
          0.5315789473684216,
          0.2210526315789476,
          0.2736842105263162,
          0.3684210526315792,
          0.20000000000000018,
          0.3526315789473684,
          0.26578947368421035,
          0.4815789473684209,
          0.4868421052631584,
          0.4684210526315793,
          0.43947368421052646,
          0.38947368421052664,
          0.4131578947368424,
          0.3210526315789477,
          0.3947368421052633,
          0.6473684210526316,
          0.47631578947368425,
          0.5,
          0.6131578947368421,
          0.655263157894737,
          0.6815789473684211,
          0.3210526315789477,
          0.560526315789474,
          0.7500000000000004,
          0.48421052631578965,
          0.6026315789473689,
          0.5394736842105265,
          0.6499999999999999,
          0.4631578947368422,
          0.5473684210526315,
          0.5789473684210531,
          0.4078947368421053,
          0.5631578947368423,
          0.7394736842105263,
          0.37368421052631584,
          0.8710526315789475,
          0.6447368421052633,
          0.3500000000000001,
          0.7000000000000002,
          0.47894736842105257,
          0.5078947368421058,
          0.7236842105263159,
          0.7105263157894739,
          0.6368421052631579,
          0.4710526315789476,
          0.6710526315789473,
          0.6236842105263158,
          0.3078947368421052,
          0.45789473684210513,
          0.823684210526316,
          0.7052631578947373,
          0.6236842105263158,
          0.5894736842105264,
          0.5631578947368423,
          0.8157894736842106
         ]
        }
       ],
       "layout": {
        "template": {
         "data": {
          "bar": [
           {
            "error_x": {
             "color": "#2a3f5f"
            },
            "error_y": {
             "color": "#2a3f5f"
            },
            "marker": {
             "line": {
              "color": "#E5ECF6",
              "width": 0.5
             },
             "pattern": {
              "fillmode": "overlay",
              "size": 10,
              "solidity": 0.2
             }
            },
            "type": "bar"
           }
          ],
          "barpolar": [
           {
            "marker": {
             "line": {
              "color": "#E5ECF6",
              "width": 0.5
             },
             "pattern": {
              "fillmode": "overlay",
              "size": 10,
              "solidity": 0.2
             }
            },
            "type": "barpolar"
           }
          ],
          "carpet": [
           {
            "aaxis": {
             "endlinecolor": "#2a3f5f",
             "gridcolor": "white",
             "linecolor": "white",
             "minorgridcolor": "white",
             "startlinecolor": "#2a3f5f"
            },
            "baxis": {
             "endlinecolor": "#2a3f5f",
             "gridcolor": "white",
             "linecolor": "white",
             "minorgridcolor": "white",
             "startlinecolor": "#2a3f5f"
            },
            "type": "carpet"
           }
          ],
          "choropleth": [
           {
            "colorbar": {
             "outlinewidth": 0,
             "ticks": ""
            },
            "type": "choropleth"
           }
          ],
          "contour": [
           {
            "colorbar": {
             "outlinewidth": 0,
             "ticks": ""
            },
            "colorscale": [
             [
              0,
              "#0d0887"
             ],
             [
              0.1111111111111111,
              "#46039f"
             ],
             [
              0.2222222222222222,
              "#7201a8"
             ],
             [
              0.3333333333333333,
              "#9c179e"
             ],
             [
              0.4444444444444444,
              "#bd3786"
             ],
             [
              0.5555555555555556,
              "#d8576b"
             ],
             [
              0.6666666666666666,
              "#ed7953"
             ],
             [
              0.7777777777777778,
              "#fb9f3a"
             ],
             [
              0.8888888888888888,
              "#fdca26"
             ],
             [
              1,
              "#f0f921"
             ]
            ],
            "type": "contour"
           }
          ],
          "contourcarpet": [
           {
            "colorbar": {
             "outlinewidth": 0,
             "ticks": ""
            },
            "type": "contourcarpet"
           }
          ],
          "heatmap": [
           {
            "colorbar": {
             "outlinewidth": 0,
             "ticks": ""
            },
            "colorscale": [
             [
              0,
              "#0d0887"
             ],
             [
              0.1111111111111111,
              "#46039f"
             ],
             [
              0.2222222222222222,
              "#7201a8"
             ],
             [
              0.3333333333333333,
              "#9c179e"
             ],
             [
              0.4444444444444444,
              "#bd3786"
             ],
             [
              0.5555555555555556,
              "#d8576b"
             ],
             [
              0.6666666666666666,
              "#ed7953"
             ],
             [
              0.7777777777777778,
              "#fb9f3a"
             ],
             [
              0.8888888888888888,
              "#fdca26"
             ],
             [
              1,
              "#f0f921"
             ]
            ],
            "type": "heatmap"
           }
          ],
          "heatmapgl": [
           {
            "colorbar": {
             "outlinewidth": 0,
             "ticks": ""
            },
            "colorscale": [
             [
              0,
              "#0d0887"
             ],
             [
              0.1111111111111111,
              "#46039f"
             ],
             [
              0.2222222222222222,
              "#7201a8"
             ],
             [
              0.3333333333333333,
              "#9c179e"
             ],
             [
              0.4444444444444444,
              "#bd3786"
             ],
             [
              0.5555555555555556,
              "#d8576b"
             ],
             [
              0.6666666666666666,
              "#ed7953"
             ],
             [
              0.7777777777777778,
              "#fb9f3a"
             ],
             [
              0.8888888888888888,
              "#fdca26"
             ],
             [
              1,
              "#f0f921"
             ]
            ],
            "type": "heatmapgl"
           }
          ],
          "histogram": [
           {
            "marker": {
             "pattern": {
              "fillmode": "overlay",
              "size": 10,
              "solidity": 0.2
             }
            },
            "type": "histogram"
           }
          ],
          "histogram2d": [
           {
            "colorbar": {
             "outlinewidth": 0,
             "ticks": ""
            },
            "colorscale": [
             [
              0,
              "#0d0887"
             ],
             [
              0.1111111111111111,
              "#46039f"
             ],
             [
              0.2222222222222222,
              "#7201a8"
             ],
             [
              0.3333333333333333,
              "#9c179e"
             ],
             [
              0.4444444444444444,
              "#bd3786"
             ],
             [
              0.5555555555555556,
              "#d8576b"
             ],
             [
              0.6666666666666666,
              "#ed7953"
             ],
             [
              0.7777777777777778,
              "#fb9f3a"
             ],
             [
              0.8888888888888888,
              "#fdca26"
             ],
             [
              1,
              "#f0f921"
             ]
            ],
            "type": "histogram2d"
           }
          ],
          "histogram2dcontour": [
           {
            "colorbar": {
             "outlinewidth": 0,
             "ticks": ""
            },
            "colorscale": [
             [
              0,
              "#0d0887"
             ],
             [
              0.1111111111111111,
              "#46039f"
             ],
             [
              0.2222222222222222,
              "#7201a8"
             ],
             [
              0.3333333333333333,
              "#9c179e"
             ],
             [
              0.4444444444444444,
              "#bd3786"
             ],
             [
              0.5555555555555556,
              "#d8576b"
             ],
             [
              0.6666666666666666,
              "#ed7953"
             ],
             [
              0.7777777777777778,
              "#fb9f3a"
             ],
             [
              0.8888888888888888,
              "#fdca26"
             ],
             [
              1,
              "#f0f921"
             ]
            ],
            "type": "histogram2dcontour"
           }
          ],
          "mesh3d": [
           {
            "colorbar": {
             "outlinewidth": 0,
             "ticks": ""
            },
            "type": "mesh3d"
           }
          ],
          "parcoords": [
           {
            "line": {
             "colorbar": {
              "outlinewidth": 0,
              "ticks": ""
             }
            },
            "type": "parcoords"
           }
          ],
          "pie": [
           {
            "automargin": true,
            "type": "pie"
           }
          ],
          "scatter": [
           {
            "marker": {
             "colorbar": {
              "outlinewidth": 0,
              "ticks": ""
             }
            },
            "type": "scatter"
           }
          ],
          "scatter3d": [
           {
            "line": {
             "colorbar": {
              "outlinewidth": 0,
              "ticks": ""
             }
            },
            "marker": {
             "colorbar": {
              "outlinewidth": 0,
              "ticks": ""
             }
            },
            "type": "scatter3d"
           }
          ],
          "scattercarpet": [
           {
            "marker": {
             "colorbar": {
              "outlinewidth": 0,
              "ticks": ""
             }
            },
            "type": "scattercarpet"
           }
          ],
          "scattergeo": [
           {
            "marker": {
             "colorbar": {
              "outlinewidth": 0,
              "ticks": ""
             }
            },
            "type": "scattergeo"
           }
          ],
          "scattergl": [
           {
            "marker": {
             "colorbar": {
              "outlinewidth": 0,
              "ticks": ""
             }
            },
            "type": "scattergl"
           }
          ],
          "scattermapbox": [
           {
            "marker": {
             "colorbar": {
              "outlinewidth": 0,
              "ticks": ""
             }
            },
            "type": "scattermapbox"
           }
          ],
          "scatterpolar": [
           {
            "marker": {
             "colorbar": {
              "outlinewidth": 0,
              "ticks": ""
             }
            },
            "type": "scatterpolar"
           }
          ],
          "scatterpolargl": [
           {
            "marker": {
             "colorbar": {
              "outlinewidth": 0,
              "ticks": ""
             }
            },
            "type": "scatterpolargl"
           }
          ],
          "scatterternary": [
           {
            "marker": {
             "colorbar": {
              "outlinewidth": 0,
              "ticks": ""
             }
            },
            "type": "scatterternary"
           }
          ],
          "surface": [
           {
            "colorbar": {
             "outlinewidth": 0,
             "ticks": ""
            },
            "colorscale": [
             [
              0,
              "#0d0887"
             ],
             [
              0.1111111111111111,
              "#46039f"
             ],
             [
              0.2222222222222222,
              "#7201a8"
             ],
             [
              0.3333333333333333,
              "#9c179e"
             ],
             [
              0.4444444444444444,
              "#bd3786"
             ],
             [
              0.5555555555555556,
              "#d8576b"
             ],
             [
              0.6666666666666666,
              "#ed7953"
             ],
             [
              0.7777777777777778,
              "#fb9f3a"
             ],
             [
              0.8888888888888888,
              "#fdca26"
             ],
             [
              1,
              "#f0f921"
             ]
            ],
            "type": "surface"
           }
          ],
          "table": [
           {
            "cells": {
             "fill": {
              "color": "#EBF0F8"
             },
             "line": {
              "color": "white"
             }
            },
            "header": {
             "fill": {
              "color": "#C8D4E3"
             },
             "line": {
              "color": "white"
             }
            },
            "type": "table"
           }
          ]
         },
         "layout": {
          "annotationdefaults": {
           "arrowcolor": "#2a3f5f",
           "arrowhead": 0,
           "arrowwidth": 1
          },
          "autotypenumbers": "strict",
          "coloraxis": {
           "colorbar": {
            "outlinewidth": 0,
            "ticks": ""
           }
          },
          "colorscale": {
           "diverging": [
            [
             0,
             "#8e0152"
            ],
            [
             0.1,
             "#c51b7d"
            ],
            [
             0.2,
             "#de77ae"
            ],
            [
             0.3,
             "#f1b6da"
            ],
            [
             0.4,
             "#fde0ef"
            ],
            [
             0.5,
             "#f7f7f7"
            ],
            [
             0.6,
             "#e6f5d0"
            ],
            [
             0.7,
             "#b8e186"
            ],
            [
             0.8,
             "#7fbc41"
            ],
            [
             0.9,
             "#4d9221"
            ],
            [
             1,
             "#276419"
            ]
           ],
           "sequential": [
            [
             0,
             "#0d0887"
            ],
            [
             0.1111111111111111,
             "#46039f"
            ],
            [
             0.2222222222222222,
             "#7201a8"
            ],
            [
             0.3333333333333333,
             "#9c179e"
            ],
            [
             0.4444444444444444,
             "#bd3786"
            ],
            [
             0.5555555555555556,
             "#d8576b"
            ],
            [
             0.6666666666666666,
             "#ed7953"
            ],
            [
             0.7777777777777778,
             "#fb9f3a"
            ],
            [
             0.8888888888888888,
             "#fdca26"
            ],
            [
             1,
             "#f0f921"
            ]
           ],
           "sequentialminus": [
            [
             0,
             "#0d0887"
            ],
            [
             0.1111111111111111,
             "#46039f"
            ],
            [
             0.2222222222222222,
             "#7201a8"
            ],
            [
             0.3333333333333333,
             "#9c179e"
            ],
            [
             0.4444444444444444,
             "#bd3786"
            ],
            [
             0.5555555555555556,
             "#d8576b"
            ],
            [
             0.6666666666666666,
             "#ed7953"
            ],
            [
             0.7777777777777778,
             "#fb9f3a"
            ],
            [
             0.8888888888888888,
             "#fdca26"
            ],
            [
             1,
             "#f0f921"
            ]
           ]
          },
          "colorway": [
           "#636efa",
           "#EF553B",
           "#00cc96",
           "#ab63fa",
           "#FFA15A",
           "#19d3f3",
           "#FF6692",
           "#B6E880",
           "#FF97FF",
           "#FECB52"
          ],
          "font": {
           "color": "#2a3f5f"
          },
          "geo": {
           "bgcolor": "white",
           "lakecolor": "white",
           "landcolor": "#E5ECF6",
           "showlakes": true,
           "showland": true,
           "subunitcolor": "white"
          },
          "hoverlabel": {
           "align": "left"
          },
          "hovermode": "closest",
          "mapbox": {
           "style": "light"
          },
          "paper_bgcolor": "white",
          "plot_bgcolor": "#E5ECF6",
          "polar": {
           "angularaxis": {
            "gridcolor": "white",
            "linecolor": "white",
            "ticks": ""
           },
           "bgcolor": "#E5ECF6",
           "radialaxis": {
            "gridcolor": "white",
            "linecolor": "white",
            "ticks": ""
           }
          },
          "scene": {
           "xaxis": {
            "backgroundcolor": "#E5ECF6",
            "gridcolor": "white",
            "gridwidth": 2,
            "linecolor": "white",
            "showbackground": true,
            "ticks": "",
            "zerolinecolor": "white"
           },
           "yaxis": {
            "backgroundcolor": "#E5ECF6",
            "gridcolor": "white",
            "gridwidth": 2,
            "linecolor": "white",
            "showbackground": true,
            "ticks": "",
            "zerolinecolor": "white"
           },
           "zaxis": {
            "backgroundcolor": "#E5ECF6",
            "gridcolor": "white",
            "gridwidth": 2,
            "linecolor": "white",
            "showbackground": true,
            "ticks": "",
            "zerolinecolor": "white"
           }
          },
          "shapedefaults": {
           "line": {
            "color": "#2a3f5f"
           }
          },
          "ternary": {
           "aaxis": {
            "gridcolor": "white",
            "linecolor": "white",
            "ticks": ""
           },
           "baxis": {
            "gridcolor": "white",
            "linecolor": "white",
            "ticks": ""
           },
           "bgcolor": "#E5ECF6",
           "caxis": {
            "gridcolor": "white",
            "linecolor": "white",
            "ticks": ""
           }
          },
          "title": {
           "x": 0.05
          },
          "xaxis": {
           "automargin": true,
           "gridcolor": "white",
           "linecolor": "white",
           "ticks": "",
           "title": {
            "standoff": 15
           },
           "zerolinecolor": "white",
           "zerolinewidth": 2
          },
          "yaxis": {
           "automargin": true,
           "gridcolor": "white",
           "linecolor": "white",
           "ticks": "",
           "title": {
            "standoff": 15
           },
           "zerolinecolor": "white",
           "zerolinewidth": 2
          }
         }
        }
       }
      }
     },
     "metadata": {},
     "output_type": "display_data"
    }
   ],
   "source": [
    "fig = go.Figure()\n",
    "\n",
    "fig.add_trace(go.Scatter(x=df['Intensidade_de_cor'],\n",
    "                        y = df[\"Alcool\"], mode = \"markers\",                      \n",
    "                            marker = dict(color = bundler.labels_.astype(np.float)),\n",
    "                        text = labels))\n"
   ]
  },
  {
   "cell_type": "markdown",
   "metadata": {},
   "source": [
    "Diminuindo o número de grupos para 3 assim ficou melhor a visualização, assim deu para notar que o grupo roxo ficou mais junto, assim como o amarelo e rosa"
   ]
  },
  {
   "cell_type": "code",
   "execution_count": 23,
   "metadata": {},
   "outputs": [
    {
     "name": "stderr",
     "output_type": "stream",
     "text": [
      "C:\\Users\\joaor\\AppData\\Local\\Temp\\ipykernel_11172\\2143115090.py:5: DeprecationWarning:\n",
      "\n",
      "`np.float` is a deprecated alias for the builtin `float`. To silence this warning, use `float` by itself. Doing this will not modify any behavior and is safe. If you specifically wanted the numpy scalar type, use `np.float64` here.\n",
      "Deprecated in NumPy 1.20; for more details and guidance: https://numpy.org/devdocs/release/1.20.0-notes.html#deprecations\n",
      "\n"
     ]
    },
    {
     "data": {
      "application/vnd.plotly.v1+json": {
       "config": {
        "plotlyServerURL": "https://plot.ly"
       },
       "data": [
        {
         "marker": {
          "color": [
           0,
           0,
           0,
           0,
           0,
           0,
           0,
           0,
           0,
           0,
           0,
           0,
           0,
           0,
           0,
           0,
           0,
           0,
           0,
           0,
           0,
           0,
           0,
           0,
           0,
           0,
           0,
           0,
           0,
           0,
           0,
           0,
           0,
           0,
           0,
           0,
           0,
           0,
           0,
           0,
           0,
           0,
           0,
           0,
           0,
           0,
           0,
           0,
           0,
           0,
           0,
           0,
           0,
           0,
           0,
           0,
           0,
           0,
           0,
           1,
           1,
           1,
           1,
           1,
           1,
           1,
           1,
           1,
           1,
           1,
           1,
           1,
           1,
           0,
           1,
           1,
           1,
           1,
           1,
           1,
           1,
           1,
           1,
           2,
           1,
           1,
           1,
           1,
           1,
           1,
           1,
           1,
           1,
           1,
           1,
           1,
           1,
           1,
           1,
           1,
           1,
           1,
           1,
           1,
           1,
           1,
           1,
           1,
           1,
           1,
           1,
           1,
           1,
           1,
           1,
           1,
           1,
           1,
           1,
           1,
           1,
           1,
           1,
           1,
           1,
           1,
           1,
           1,
           1,
           1,
           2,
           2,
           2,
           2,
           2,
           2,
           2,
           2,
           2,
           2,
           2,
           2,
           2,
           2,
           2,
           2,
           2,
           2,
           2,
           2,
           2,
           2,
           2,
           2,
           2,
           2,
           2,
           2,
           2,
           2,
           2,
           2,
           2,
           2,
           2,
           2,
           2,
           2,
           2,
           2,
           2,
           2,
           2,
           2,
           2,
           2,
           2,
           2
          ]
         },
         "mode": "markers",
         "text": [
          "0",
          "1",
          "2"
         ],
         "type": "scatter3d",
         "x": [
          0.37201365187713314,
          0.2645051194539249,
          0.37542662116040953,
          0.5563139931740615,
          0.25938566552901027,
          0.46672354948805467,
          0.33873720136518776,
          0.3216723549488055,
          0.3344709897610922,
          0.506825938566553,
          0.38139931740614336,
          0.3174061433447099,
          0.36860068259385664,
          0.35153583617747447,
          0.5307167235494882,
          0.5136518771331059,
          0.4197952218430035,
          0.45392491467576795,
          0.6331058020477816,
          0.32593856655290104,
          0.3728668941979523,
          0.2747440273037543,
          0.21501706484641636,
          0.22610921501706488,
          0.19112627986348124,
          0.19624573378839594,
          0.3003412969283276,
          0.22781569965870307,
          0.2747440273037543,
          0.2918088737201366,
          0.3771331058020478,
          0.4795221843003414,
          0.2184300341296928,
          0.35153583617747447,
          0.24914675767918093,
          0.32593856655290104,
          0.28327645051194544,
          0.25341296928327645,
          0.20648464163822527,
          0.32593856655290104,
          0.4138225255972697,
          0.2559726962457339,
          0.3540955631399318,
          0.26279863481228677,
          0.3208191126279864,
          0.3378839590443687,
          0.30887372013651887,
          0.41126279863481235,
          0.4197952218430035,
          0.650170648464164,
          0.5051194539249148,
          0.36860068259385664,
          0.492320819112628,
          0.4283276450511945,
          0.3899317406143345,
          0.42406143344709907,
          0.43515358361774753,
          0.4027303754266212,
          0.47098976109215024,
          0.05716723549488054,
          0.16979522184300344,
          0.38139931740614336,
          0.21501706484641636,
          0.27047781569965873,
          0.14249146757679182,
          0.28327645051194544,
          0.34300341296928333,
          0.29010238907849834,
          0.1612627986348123,
          0.1339590443686007,
          0.15102389078498296,
          0.17918088737201365,
          0.20989761092150172,
          0.17662116040955633,
          0.16467576791808874,
          0.21501706484641636,
          0.28327645051194544,
          0.11689419795221843,
          0.1808873720136519,
          0.11006825938566552,
          0.10409556313993175,
          0.2235494880546075,
          0.07849829351535838,
          0.3003412969283276,
          0.15102389078498296,
          0.11433447098976111,
          0.0998293515358362,
          0.11262798634812289,
          0.12969283276450513,
          0.03924914675767919,
          0.0955631399317406,
          0.19795221843003413,
          0.15102389078498296,
          0.0742320819112628,
          0.1680887372013652,
          0.11262798634812289,
          0.10409556313993175,
          0.13822525597269625,
          0.2747440273037543,
          0.08703071672354949,
          0.17235494880546076,
          0.0998293515358362,
          0.12969283276450513,
          0.06655290102389079,
          0.1416382252559727,
          0.121160409556314,
          0.1808873720136519,
          0.17235494880546076,
          0.121160409556314,
          0.11689419795221843,
          0.13822525597269625,
          0.061433447098976114,
          0.21501706484641636,
          0.15358361774744028,
          0.13822525597269625,
          0.05290102389078497,
          0.05716723549488054,
          0.06655290102389079,
          0.1808873720136519,
          0,
          0.1680887372013652,
          0.4027303754266212,
          0.06825938566552904,
          0.11262798634812289,
          0.12969283276450513,
          0.12627986348122866,
          0.22696245733788395,
          0.1467576791808874,
          0.07167235494880549,
          0.11262798634812289,
          0.24061433447098973,
          0.35153583617747447,
          0.3771331058020478,
          0.3174061433447099,
          0.35580204778157004,
          0.49658703071672355,
          0.219283276450512,
          0.3174061433447099,
          0.3771331058020478,
          0.310580204778157,
          0.28327645051194544,
          0.36860068259385664,
          0.2619453924914676,
          0.26621160409556316,
          0.5912969283276452,
          0.23208191126279865,
          0.30887372013651887,
          0.5435153583617749,
          0.6092150170648465,
          0.6928327645051195,
          0.6245733788395905,
          0.8122866894197953,
          0.49658703071672355,
          0.7883959044368601,
          0.5392491467576792,
          0.5648464163822526,
          0.6595563139931742,
          0.5307167235494882,
          1,
          0.8933447098976111,
          0.5435153583617749,
          0.3924914675767918,
          0.3668941979522185,
          0.3412969283276451,
          0.7081911262798636,
          0.4556313993174062,
          0.8020477815699659,
          0.7662116040955632,
          0.6296928327645053,
          0.6160409556313994,
          0.3600682593856656,
          0.735494795221843,
          0.7184300341296929,
          0.5477815699658705,
          0.5136518771331059,
          0.7610921501706485,
          0.6843003412969285,
          0.6757679180887373
         ],
         "y": [
          0.8421052631578951,
          0.5710526315789473,
          0.560526315789474,
          0.8789473684210525,
          0.5815789473684214,
          0.8342105263157893,
          0.8842105263157896,
          0.797368421052632,
          1,
          0.7447368421052629,
          0.8078947368421052,
          0.8131578947368419,
          0.7157894736842105,
          0.9789473684210526,
          0.8815789473684212,
          0.6842105263157898,
          0.8605263157894738,
          0.736842105263158,
          0.831578947368421,
          0.6868421052631581,
          0.797368421052632,
          0.5,
          0.7052631578947373,
          0.47894736842105257,
          0.6499999999999999,
          0.5315789473684216,
          0.6210526315789475,
          0.5973684210526318,
          0.7473684210526317,
          0.7868421052631578,
          0.7105263157894739,
          0.6710526315789473,
          0.6973684210526314,
          0.7184210526315788,
          0.6526315789473687,
          0.6447368421052633,
          0.5921052631578947,
          0.5315789473684216,
          0.5368421052631582,
          0.8394736842105264,
          0.6657894736842107,
          0.6263157894736846,
          0.7500000000000004,
          0.5815789473684214,
          0.5315789473684216,
          0.836842105263158,
          0.8815789473684212,
          0.7552631578947371,
          0.8078947368421052,
          0.7657894736842104,
          0.5315789473684216,
          0.736842105263158,
          0.7342105263157896,
          0.7210526315789472,
          0.7131578947368422,
          0.6657894736842107,
          0.8394736842105264,
          0.594736842105263,
          0.7078947368421056,
          0.3526315789473684,
          0.34210526315789513,
          0.4236842105263161,
          0.6947368421052631,
          0.3526315789473684,
          0.30000000000000027,
          0.3526315789473684,
          0.5473684210526315,
          0.3526315789473684,
          0.6078947368421055,
          0.310526315789474,
          0.331578947368421,
          0.7447368421052629,
          0.6473684210526316,
          0.5157894736842108,
          0.2447368421052638,
          0.1657894736842107,
          0.5263157894736841,
          0.2131578947368422,
          0.34210526315789513,
          0.43947368421052646,
          0.2552631578947371,
          0.44473684210526354,
          0.2763157894736845,
          0.5315789473684216,
          0.2131578947368422,
          0.43157894736842106,
          0.29736842105263195,
          0.1631578947368424,
          0.16052631578947407,
          0.2763157894736845,
          0.2763157894736845,
          0.2552631578947371,
          0.43684210526315814,
          0.331578947368421,
          0.155263157894737,
          0.3789473684210529,
          0.20526315789473726,
          0.331578947368421,
          0.3526315789473684,
          0.331578947368421,
          0.2763157894736845,
          0.4131578947368424,
          0.34473684210526345,
          0.20789473684210558,
          0.38947368421052664,
          0.3657894736842109,
          0.3210526315789477,
          0.44473684210526354,
          0.3131578947368423,
          0.15263157894736867,
          0.11315789473684257,
          0.39210526315789496,
          0.19210526315789478,
          0.10000000000000053,
          0.2763157894736845,
          0,
          0.20789473684210558,
          0.3657894736842109,
          0.45789473684210513,
          0.2552631578947371,
          0.1105263157894738,
          0.13947368421052664,
          0.3657894736842109,
          0.5315789473684216,
          0.2210526315789476,
          0.2736842105263162,
          0.3684210526315792,
          0.20000000000000018,
          0.3526315789473684,
          0.26578947368421035,
          0.4815789473684209,
          0.4868421052631584,
          0.4684210526315793,
          0.43947368421052646,
          0.38947368421052664,
          0.4131578947368424,
          0.3210526315789477,
          0.3947368421052633,
          0.6473684210526316,
          0.47631578947368425,
          0.5,
          0.6131578947368421,
          0.655263157894737,
          0.6815789473684211,
          0.3210526315789477,
          0.560526315789474,
          0.7500000000000004,
          0.48421052631578965,
          0.6026315789473689,
          0.5394736842105265,
          0.6499999999999999,
          0.4631578947368422,
          0.5473684210526315,
          0.5789473684210531,
          0.4078947368421053,
          0.5631578947368423,
          0.7394736842105263,
          0.37368421052631584,
          0.8710526315789475,
          0.6447368421052633,
          0.3500000000000001,
          0.7000000000000002,
          0.47894736842105257,
          0.5078947368421058,
          0.7236842105263159,
          0.7105263157894739,
          0.6368421052631579,
          0.4710526315789476,
          0.6710526315789473,
          0.6236842105263158,
          0.3078947368421052,
          0.45789473684210513,
          0.823684210526316,
          0.7052631578947373,
          0.6236842105263158,
          0.5894736842105264,
          0.5631578947368423,
          0.8157894736842106
         ],
         "z": [
          0.5613409415121255,
          0.5506419400855921,
          0.6469329529243938,
          0.8573466476462198,
          0.3259629101283881,
          0.8359486447931527,
          0.7218259629101285,
          0.725392296718973,
          0.5470756062767476,
          0.5470756062767476,
          0.8787446504992867,
          0.7146932952924394,
          0.7432239657631955,
          0.6219686162624822,
          0.9051355206847361,
          0.7360912981455064,
          0.7146932952924394,
          0.6077032810271041,
          1,
          0.40442225392296727,
          0.35805991440798857,
          0.35092724679029963,
          0.5399429386590585,
          0.5256776034236805,
          0.40442225392296727,
          0.3937232524964337,
          0.6540656205420827,
          0.7182596291012839,
          0.4543509272467904,
          0.5399429386590585,
          0.7182596291012839,
          0.8823109843081313,
          0.5078459343794579,
          0.6825962910128388,
          0.5827389443651926,
          0.4579172610556348,
          0.4293865905848788,
          0.5898716119828816,
          0.529243937232525,
          0.3437945791726106,
          0.36875891583452214,
          0.5399429386590585,
          0.5827389443651926,
          0.2867332382310984,
          0.43295292439372324,
          0.5720399429386591,
          0.5613409415121255,
          0.5042796005706135,
          0.557774607703281,
          0.7004279600570614,
          0.6219686162624822,
          0.7039942938659058,
          0.6504992867332383,
          0.782453637660485,
          0.557774607703281,
          0.6005706134094152,
          0.4935805991440799,
          0.7075606276747504,
          0.7182596291012839,
          0.17261055634807418,
          0.2867332382310984,
          0.12268188302425106,
          0.2510699001426534,
          0.10128388017118403,
          0.054921540656205386,
          0.2853067047075606,
          0.15977175463623397,
          0.1654778887303852,
          0.33666191155492153,
          0.31383737517831667,
          0.4222539229671898,
          0.09415121255349498,
          0.13837375178316688,
          0.5042796005706135,
          0.4336661911554922,
          0.10699001426533525,
          0.08131241084165478,
          0.15834522111269614,
          0.33666191155492153,
          0.1319543509272468,
          0,
          0.3109843081312411,
          0.2510699001426534,
          0.16904422253922965,
          0.17261055634807418,
          0.12268188302425106,
          0.15477888730385161,
          0.20256776034236804,
          0.2867332382310984,
          0.24750356633380885,
          0.1440798858773181,
          0.12268188302425106,
          0.15477888730385161,
          0.008559201141226797,
          0.047788873038516394,
          0.4700427960057062,
          0.24750356633380885,
          0.10699001426533525,
          0.27246790299572043,
          0.09129814550641938,
          0.30813124108416545,
          0.20256776034236804,
          0.11412268188302424,
          0.09771754636233951,
          0.2810271041369472,
          0.02639087018544936,
          0.1654778887303852,
          0.14978601997146931,
          0.02425106990014264,
          0.2867332382310984,
          0.20256776034236804,
          0.033523537803138354,
          0.23466476462196864,
          0.11126961483594863,
          0.07631954350927247,
          0.09201141226818829,
          0.15477888730385161,
          0.047788873038516394,
          0.06704707560627673,
          0.20399429386590587,
          0.24750356633380885,
          0.13338088445078458,
          0.062054208273894434,
          0.07275320970042795,
          0.07275320970042795,
          0.07132667617689017,
          0.052781740370898694,
          0.1340941512125535,
          0.0456490727532097,
          0.21540656205420824,
          0.2510699001426534,
          0.17974322396576317,
          0.20114122681883026,
          0.22967189728958629,
          0.2653352353780314,
          0.297432239657632,
          0.3152639087018545,
          0.16904422253922965,
          0.21540656205420824,
          0.2225392296718973,
          0.22967189728958629,
          0.35805991440798857,
          0.17261055634807418,
          0.1940085592011412,
          0.4115549215406562,
          0.3937232524964337,
          0.09771754636233951,
          0.24750356633380885,
          0.2653352353780314,
          0.1940085592011412,
          0.15834522111269614,
          0.1440798858773181,
          0.1048502139800285,
          0.2831669044222539,
          0.25820256776034234,
          0.318830242510699,
          0.1440798858773181,
          0.4293865905848788,
          0.27246790299572043,
          0.24393723252496433,
          0.17261055634807418,
          0.2867332382310984,
          0.20827389443651925,
          0.2831669044222539,
          0.2403708987161198,
          0.17261055634807418,
          0.297432239657632,
          0.29029957203994294,
          0.33666191155492153,
          0.2510699001426534,
          0.1654778887303852,
          0.1369472182596291,
          0.27246790299572043,
          0.3295292439372326,
          0.33666191155492153,
          0.3972895863052782,
          0.40085592011412274,
          0.20114122681883026
         ]
        }
       ],
       "layout": {
        "template": {
         "data": {
          "bar": [
           {
            "error_x": {
             "color": "#2a3f5f"
            },
            "error_y": {
             "color": "#2a3f5f"
            },
            "marker": {
             "line": {
              "color": "#E5ECF6",
              "width": 0.5
             },
             "pattern": {
              "fillmode": "overlay",
              "size": 10,
              "solidity": 0.2
             }
            },
            "type": "bar"
           }
          ],
          "barpolar": [
           {
            "marker": {
             "line": {
              "color": "#E5ECF6",
              "width": 0.5
             },
             "pattern": {
              "fillmode": "overlay",
              "size": 10,
              "solidity": 0.2
             }
            },
            "type": "barpolar"
           }
          ],
          "carpet": [
           {
            "aaxis": {
             "endlinecolor": "#2a3f5f",
             "gridcolor": "white",
             "linecolor": "white",
             "minorgridcolor": "white",
             "startlinecolor": "#2a3f5f"
            },
            "baxis": {
             "endlinecolor": "#2a3f5f",
             "gridcolor": "white",
             "linecolor": "white",
             "minorgridcolor": "white",
             "startlinecolor": "#2a3f5f"
            },
            "type": "carpet"
           }
          ],
          "choropleth": [
           {
            "colorbar": {
             "outlinewidth": 0,
             "ticks": ""
            },
            "type": "choropleth"
           }
          ],
          "contour": [
           {
            "colorbar": {
             "outlinewidth": 0,
             "ticks": ""
            },
            "colorscale": [
             [
              0,
              "#0d0887"
             ],
             [
              0.1111111111111111,
              "#46039f"
             ],
             [
              0.2222222222222222,
              "#7201a8"
             ],
             [
              0.3333333333333333,
              "#9c179e"
             ],
             [
              0.4444444444444444,
              "#bd3786"
             ],
             [
              0.5555555555555556,
              "#d8576b"
             ],
             [
              0.6666666666666666,
              "#ed7953"
             ],
             [
              0.7777777777777778,
              "#fb9f3a"
             ],
             [
              0.8888888888888888,
              "#fdca26"
             ],
             [
              1,
              "#f0f921"
             ]
            ],
            "type": "contour"
           }
          ],
          "contourcarpet": [
           {
            "colorbar": {
             "outlinewidth": 0,
             "ticks": ""
            },
            "type": "contourcarpet"
           }
          ],
          "heatmap": [
           {
            "colorbar": {
             "outlinewidth": 0,
             "ticks": ""
            },
            "colorscale": [
             [
              0,
              "#0d0887"
             ],
             [
              0.1111111111111111,
              "#46039f"
             ],
             [
              0.2222222222222222,
              "#7201a8"
             ],
             [
              0.3333333333333333,
              "#9c179e"
             ],
             [
              0.4444444444444444,
              "#bd3786"
             ],
             [
              0.5555555555555556,
              "#d8576b"
             ],
             [
              0.6666666666666666,
              "#ed7953"
             ],
             [
              0.7777777777777778,
              "#fb9f3a"
             ],
             [
              0.8888888888888888,
              "#fdca26"
             ],
             [
              1,
              "#f0f921"
             ]
            ],
            "type": "heatmap"
           }
          ],
          "heatmapgl": [
           {
            "colorbar": {
             "outlinewidth": 0,
             "ticks": ""
            },
            "colorscale": [
             [
              0,
              "#0d0887"
             ],
             [
              0.1111111111111111,
              "#46039f"
             ],
             [
              0.2222222222222222,
              "#7201a8"
             ],
             [
              0.3333333333333333,
              "#9c179e"
             ],
             [
              0.4444444444444444,
              "#bd3786"
             ],
             [
              0.5555555555555556,
              "#d8576b"
             ],
             [
              0.6666666666666666,
              "#ed7953"
             ],
             [
              0.7777777777777778,
              "#fb9f3a"
             ],
             [
              0.8888888888888888,
              "#fdca26"
             ],
             [
              1,
              "#f0f921"
             ]
            ],
            "type": "heatmapgl"
           }
          ],
          "histogram": [
           {
            "marker": {
             "pattern": {
              "fillmode": "overlay",
              "size": 10,
              "solidity": 0.2
             }
            },
            "type": "histogram"
           }
          ],
          "histogram2d": [
           {
            "colorbar": {
             "outlinewidth": 0,
             "ticks": ""
            },
            "colorscale": [
             [
              0,
              "#0d0887"
             ],
             [
              0.1111111111111111,
              "#46039f"
             ],
             [
              0.2222222222222222,
              "#7201a8"
             ],
             [
              0.3333333333333333,
              "#9c179e"
             ],
             [
              0.4444444444444444,
              "#bd3786"
             ],
             [
              0.5555555555555556,
              "#d8576b"
             ],
             [
              0.6666666666666666,
              "#ed7953"
             ],
             [
              0.7777777777777778,
              "#fb9f3a"
             ],
             [
              0.8888888888888888,
              "#fdca26"
             ],
             [
              1,
              "#f0f921"
             ]
            ],
            "type": "histogram2d"
           }
          ],
          "histogram2dcontour": [
           {
            "colorbar": {
             "outlinewidth": 0,
             "ticks": ""
            },
            "colorscale": [
             [
              0,
              "#0d0887"
             ],
             [
              0.1111111111111111,
              "#46039f"
             ],
             [
              0.2222222222222222,
              "#7201a8"
             ],
             [
              0.3333333333333333,
              "#9c179e"
             ],
             [
              0.4444444444444444,
              "#bd3786"
             ],
             [
              0.5555555555555556,
              "#d8576b"
             ],
             [
              0.6666666666666666,
              "#ed7953"
             ],
             [
              0.7777777777777778,
              "#fb9f3a"
             ],
             [
              0.8888888888888888,
              "#fdca26"
             ],
             [
              1,
              "#f0f921"
             ]
            ],
            "type": "histogram2dcontour"
           }
          ],
          "mesh3d": [
           {
            "colorbar": {
             "outlinewidth": 0,
             "ticks": ""
            },
            "type": "mesh3d"
           }
          ],
          "parcoords": [
           {
            "line": {
             "colorbar": {
              "outlinewidth": 0,
              "ticks": ""
             }
            },
            "type": "parcoords"
           }
          ],
          "pie": [
           {
            "automargin": true,
            "type": "pie"
           }
          ],
          "scatter": [
           {
            "marker": {
             "colorbar": {
              "outlinewidth": 0,
              "ticks": ""
             }
            },
            "type": "scatter"
           }
          ],
          "scatter3d": [
           {
            "line": {
             "colorbar": {
              "outlinewidth": 0,
              "ticks": ""
             }
            },
            "marker": {
             "colorbar": {
              "outlinewidth": 0,
              "ticks": ""
             }
            },
            "type": "scatter3d"
           }
          ],
          "scattercarpet": [
           {
            "marker": {
             "colorbar": {
              "outlinewidth": 0,
              "ticks": ""
             }
            },
            "type": "scattercarpet"
           }
          ],
          "scattergeo": [
           {
            "marker": {
             "colorbar": {
              "outlinewidth": 0,
              "ticks": ""
             }
            },
            "type": "scattergeo"
           }
          ],
          "scattergl": [
           {
            "marker": {
             "colorbar": {
              "outlinewidth": 0,
              "ticks": ""
             }
            },
            "type": "scattergl"
           }
          ],
          "scattermapbox": [
           {
            "marker": {
             "colorbar": {
              "outlinewidth": 0,
              "ticks": ""
             }
            },
            "type": "scattermapbox"
           }
          ],
          "scatterpolar": [
           {
            "marker": {
             "colorbar": {
              "outlinewidth": 0,
              "ticks": ""
             }
            },
            "type": "scatterpolar"
           }
          ],
          "scatterpolargl": [
           {
            "marker": {
             "colorbar": {
              "outlinewidth": 0,
              "ticks": ""
             }
            },
            "type": "scatterpolargl"
           }
          ],
          "scatterternary": [
           {
            "marker": {
             "colorbar": {
              "outlinewidth": 0,
              "ticks": ""
             }
            },
            "type": "scatterternary"
           }
          ],
          "surface": [
           {
            "colorbar": {
             "outlinewidth": 0,
             "ticks": ""
            },
            "colorscale": [
             [
              0,
              "#0d0887"
             ],
             [
              0.1111111111111111,
              "#46039f"
             ],
             [
              0.2222222222222222,
              "#7201a8"
             ],
             [
              0.3333333333333333,
              "#9c179e"
             ],
             [
              0.4444444444444444,
              "#bd3786"
             ],
             [
              0.5555555555555556,
              "#d8576b"
             ],
             [
              0.6666666666666666,
              "#ed7953"
             ],
             [
              0.7777777777777778,
              "#fb9f3a"
             ],
             [
              0.8888888888888888,
              "#fdca26"
             ],
             [
              1,
              "#f0f921"
             ]
            ],
            "type": "surface"
           }
          ],
          "table": [
           {
            "cells": {
             "fill": {
              "color": "#EBF0F8"
             },
             "line": {
              "color": "white"
             }
            },
            "header": {
             "fill": {
              "color": "#C8D4E3"
             },
             "line": {
              "color": "white"
             }
            },
            "type": "table"
           }
          ]
         },
         "layout": {
          "annotationdefaults": {
           "arrowcolor": "#2a3f5f",
           "arrowhead": 0,
           "arrowwidth": 1
          },
          "autotypenumbers": "strict",
          "coloraxis": {
           "colorbar": {
            "outlinewidth": 0,
            "ticks": ""
           }
          },
          "colorscale": {
           "diverging": [
            [
             0,
             "#8e0152"
            ],
            [
             0.1,
             "#c51b7d"
            ],
            [
             0.2,
             "#de77ae"
            ],
            [
             0.3,
             "#f1b6da"
            ],
            [
             0.4,
             "#fde0ef"
            ],
            [
             0.5,
             "#f7f7f7"
            ],
            [
             0.6,
             "#e6f5d0"
            ],
            [
             0.7,
             "#b8e186"
            ],
            [
             0.8,
             "#7fbc41"
            ],
            [
             0.9,
             "#4d9221"
            ],
            [
             1,
             "#276419"
            ]
           ],
           "sequential": [
            [
             0,
             "#0d0887"
            ],
            [
             0.1111111111111111,
             "#46039f"
            ],
            [
             0.2222222222222222,
             "#7201a8"
            ],
            [
             0.3333333333333333,
             "#9c179e"
            ],
            [
             0.4444444444444444,
             "#bd3786"
            ],
            [
             0.5555555555555556,
             "#d8576b"
            ],
            [
             0.6666666666666666,
             "#ed7953"
            ],
            [
             0.7777777777777778,
             "#fb9f3a"
            ],
            [
             0.8888888888888888,
             "#fdca26"
            ],
            [
             1,
             "#f0f921"
            ]
           ],
           "sequentialminus": [
            [
             0,
             "#0d0887"
            ],
            [
             0.1111111111111111,
             "#46039f"
            ],
            [
             0.2222222222222222,
             "#7201a8"
            ],
            [
             0.3333333333333333,
             "#9c179e"
            ],
            [
             0.4444444444444444,
             "#bd3786"
            ],
            [
             0.5555555555555556,
             "#d8576b"
            ],
            [
             0.6666666666666666,
             "#ed7953"
            ],
            [
             0.7777777777777778,
             "#fb9f3a"
            ],
            [
             0.8888888888888888,
             "#fdca26"
            ],
            [
             1,
             "#f0f921"
            ]
           ]
          },
          "colorway": [
           "#636efa",
           "#EF553B",
           "#00cc96",
           "#ab63fa",
           "#FFA15A",
           "#19d3f3",
           "#FF6692",
           "#B6E880",
           "#FF97FF",
           "#FECB52"
          ],
          "font": {
           "color": "#2a3f5f"
          },
          "geo": {
           "bgcolor": "white",
           "lakecolor": "white",
           "landcolor": "#E5ECF6",
           "showlakes": true,
           "showland": true,
           "subunitcolor": "white"
          },
          "hoverlabel": {
           "align": "left"
          },
          "hovermode": "closest",
          "mapbox": {
           "style": "light"
          },
          "paper_bgcolor": "white",
          "plot_bgcolor": "#E5ECF6",
          "polar": {
           "angularaxis": {
            "gridcolor": "white",
            "linecolor": "white",
            "ticks": ""
           },
           "bgcolor": "#E5ECF6",
           "radialaxis": {
            "gridcolor": "white",
            "linecolor": "white",
            "ticks": ""
           }
          },
          "scene": {
           "xaxis": {
            "backgroundcolor": "#E5ECF6",
            "gridcolor": "white",
            "gridwidth": 2,
            "linecolor": "white",
            "showbackground": true,
            "ticks": "",
            "zerolinecolor": "white"
           },
           "yaxis": {
            "backgroundcolor": "#E5ECF6",
            "gridcolor": "white",
            "gridwidth": 2,
            "linecolor": "white",
            "showbackground": true,
            "ticks": "",
            "zerolinecolor": "white"
           },
           "zaxis": {
            "backgroundcolor": "#E5ECF6",
            "gridcolor": "white",
            "gridwidth": 2,
            "linecolor": "white",
            "showbackground": true,
            "ticks": "",
            "zerolinecolor": "white"
           }
          },
          "shapedefaults": {
           "line": {
            "color": "#2a3f5f"
           }
          },
          "ternary": {
           "aaxis": {
            "gridcolor": "white",
            "linecolor": "white",
            "ticks": ""
           },
           "baxis": {
            "gridcolor": "white",
            "linecolor": "white",
            "ticks": ""
           },
           "bgcolor": "#E5ECF6",
           "caxis": {
            "gridcolor": "white",
            "linecolor": "white",
            "ticks": ""
           }
          },
          "title": {
           "x": 0.05
          },
          "xaxis": {
           "automargin": true,
           "gridcolor": "white",
           "linecolor": "white",
           "ticks": "",
           "title": {
            "standoff": 15
           },
           "zerolinecolor": "white",
           "zerolinewidth": 2
          },
          "yaxis": {
           "automargin": true,
           "gridcolor": "white",
           "linecolor": "white",
           "ticks": "",
           "title": {
            "standoff": 15
           },
           "zerolinecolor": "white",
           "zerolinewidth": 2
          }
         }
        }
       }
      }
     },
     "metadata": {},
     "output_type": "display_data"
    }
   ],
   "source": [
    "fig = go.Figure()\n",
    "\n",
    "fig.add_trace(go.Scatter3d(x=df['Intensidade_de_cor'],\n",
    "                        y = df[\"Alcool\"], z = df[\"Proline\"] ,mode = \"markers\",                      \n",
    "                            marker = dict(color = bundler.labels_.astype(np.float)),\n",
    "                        text = [0, 1, 2]))\n",
    "\n",
    "\n",
    "\n",
    "\n"
   ]
  },
  {
   "cell_type": "markdown",
   "metadata": {},
   "source": [
    "Apos coloca o \"Scatter3d\" isso fez com que nosso grafico de bolinhas fica se mais organizado assim podendo facilitar melhor a fizualização, e por conter apenas 3 grupos foram classificadas como [0, 1, 2]"
   ]
  },
  {
   "cell_type": "code",
   "execution_count": 24,
   "metadata": {},
   "outputs": [
    {
     "data": {
      "application/vnd.plotly.v1+json": {
       "config": {
        "plotlyServerURL": "https://plot.ly"
       },
       "data": [
        {
         "marker": {
          "color": [
           0,
           0,
           0,
           0,
           0,
           0,
           0,
           0,
           0,
           0,
           0,
           0,
           0,
           0,
           0,
           0,
           0,
           0,
           0,
           0,
           0,
           0,
           0,
           0,
           0,
           0,
           0,
           0,
           0,
           0,
           0,
           0,
           0,
           0,
           0,
           0,
           0,
           0,
           0,
           0,
           0,
           0,
           0,
           0,
           0,
           0,
           0,
           0,
           0,
           0,
           0,
           0,
           0,
           0,
           0,
           0,
           0,
           0,
           0,
           1,
           1,
           1,
           1,
           1,
           1,
           1,
           1,
           1,
           1,
           1,
           1,
           1,
           1,
           0,
           1,
           1,
           1,
           1,
           1,
           1,
           1,
           1,
           1,
           2,
           1,
           1,
           1,
           1,
           1,
           1,
           1,
           1,
           1,
           1,
           1,
           1,
           1,
           1,
           1,
           1,
           1,
           1,
           1,
           1,
           1,
           1,
           1,
           1,
           1,
           1,
           1,
           1,
           1,
           1,
           1,
           1,
           1,
           1,
           1,
           1,
           1,
           1,
           1,
           1,
           1,
           1,
           1,
           1,
           1,
           1,
           2,
           2,
           2,
           2,
           2,
           2,
           2,
           2,
           2,
           2,
           2,
           2,
           2,
           2,
           2,
           2,
           2,
           2,
           2,
           2,
           2,
           2,
           2,
           2,
           2,
           2,
           2,
           2,
           2,
           2,
           2,
           2,
           2,
           2,
           2,
           2,
           2,
           2,
           2,
           2,
           2,
           2,
           2,
           2,
           2,
           2,
           2,
           2
          ]
         },
         "mode": "markers",
         "text": [
          "0",
          "1",
          "2"
         ],
         "type": "scatter3d",
         "x": [
          0.37201365187713314,
          0.2645051194539249,
          0.37542662116040953,
          0.5563139931740615,
          0.25938566552901027,
          0.46672354948805467,
          0.33873720136518776,
          0.3216723549488055,
          0.3344709897610922,
          0.506825938566553,
          0.38139931740614336,
          0.3174061433447099,
          0.36860068259385664,
          0.35153583617747447,
          0.5307167235494882,
          0.5136518771331059,
          0.4197952218430035,
          0.45392491467576795,
          0.6331058020477816,
          0.32593856655290104,
          0.3728668941979523,
          0.2747440273037543,
          0.21501706484641636,
          0.22610921501706488,
          0.19112627986348124,
          0.19624573378839594,
          0.3003412969283276,
          0.22781569965870307,
          0.2747440273037543,
          0.2918088737201366,
          0.3771331058020478,
          0.4795221843003414,
          0.2184300341296928,
          0.35153583617747447,
          0.24914675767918093,
          0.32593856655290104,
          0.28327645051194544,
          0.25341296928327645,
          0.20648464163822527,
          0.32593856655290104,
          0.4138225255972697,
          0.2559726962457339,
          0.3540955631399318,
          0.26279863481228677,
          0.3208191126279864,
          0.3378839590443687,
          0.30887372013651887,
          0.41126279863481235,
          0.4197952218430035,
          0.650170648464164,
          0.5051194539249148,
          0.36860068259385664,
          0.492320819112628,
          0.4283276450511945,
          0.3899317406143345,
          0.42406143344709907,
          0.43515358361774753,
          0.4027303754266212,
          0.47098976109215024,
          0.05716723549488054,
          0.16979522184300344,
          0.38139931740614336,
          0.21501706484641636,
          0.27047781569965873,
          0.14249146757679182,
          0.28327645051194544,
          0.34300341296928333,
          0.29010238907849834,
          0.1612627986348123,
          0.1339590443686007,
          0.15102389078498296,
          0.17918088737201365,
          0.20989761092150172,
          0.17662116040955633,
          0.16467576791808874,
          0.21501706484641636,
          0.28327645051194544,
          0.11689419795221843,
          0.1808873720136519,
          0.11006825938566552,
          0.10409556313993175,
          0.2235494880546075,
          0.07849829351535838,
          0.3003412969283276,
          0.15102389078498296,
          0.11433447098976111,
          0.0998293515358362,
          0.11262798634812289,
          0.12969283276450513,
          0.03924914675767919,
          0.0955631399317406,
          0.19795221843003413,
          0.15102389078498296,
          0.0742320819112628,
          0.1680887372013652,
          0.11262798634812289,
          0.10409556313993175,
          0.13822525597269625,
          0.2747440273037543,
          0.08703071672354949,
          0.17235494880546076,
          0.0998293515358362,
          0.12969283276450513,
          0.06655290102389079,
          0.1416382252559727,
          0.121160409556314,
          0.1808873720136519,
          0.17235494880546076,
          0.121160409556314,
          0.11689419795221843,
          0.13822525597269625,
          0.061433447098976114,
          0.21501706484641636,
          0.15358361774744028,
          0.13822525597269625,
          0.05290102389078497,
          0.05716723549488054,
          0.06655290102389079,
          0.1808873720136519,
          0,
          0.1680887372013652,
          0.4027303754266212,
          0.06825938566552904,
          0.11262798634812289,
          0.12969283276450513,
          0.12627986348122866,
          0.22696245733788395,
          0.1467576791808874,
          0.07167235494880549,
          0.11262798634812289,
          0.24061433447098973,
          0.35153583617747447,
          0.3771331058020478,
          0.3174061433447099,
          0.35580204778157004,
          0.49658703071672355,
          0.219283276450512,
          0.3174061433447099,
          0.3771331058020478,
          0.310580204778157,
          0.28327645051194544,
          0.36860068259385664,
          0.2619453924914676,
          0.26621160409556316,
          0.5912969283276452,
          0.23208191126279865,
          0.30887372013651887,
          0.5435153583617749,
          0.6092150170648465,
          0.6928327645051195,
          0.6245733788395905,
          0.8122866894197953,
          0.49658703071672355,
          0.7883959044368601,
          0.5392491467576792,
          0.5648464163822526,
          0.6595563139931742,
          0.5307167235494882,
          1,
          0.8933447098976111,
          0.5435153583617749,
          0.3924914675767918,
          0.3668941979522185,
          0.3412969283276451,
          0.7081911262798636,
          0.4556313993174062,
          0.8020477815699659,
          0.7662116040955632,
          0.6296928327645053,
          0.6160409556313994,
          0.3600682593856656,
          0.735494795221843,
          0.7184300341296929,
          0.5477815699658705,
          0.5136518771331059,
          0.7610921501706485,
          0.6843003412969285,
          0.6757679180887373
         ],
         "y": [
          0.8421052631578951,
          0.5710526315789473,
          0.560526315789474,
          0.8789473684210525,
          0.5815789473684214,
          0.8342105263157893,
          0.8842105263157896,
          0.797368421052632,
          1,
          0.7447368421052629,
          0.8078947368421052,
          0.8131578947368419,
          0.7157894736842105,
          0.9789473684210526,
          0.8815789473684212,
          0.6842105263157898,
          0.8605263157894738,
          0.736842105263158,
          0.831578947368421,
          0.6868421052631581,
          0.797368421052632,
          0.5,
          0.7052631578947373,
          0.47894736842105257,
          0.6499999999999999,
          0.5315789473684216,
          0.6210526315789475,
          0.5973684210526318,
          0.7473684210526317,
          0.7868421052631578,
          0.7105263157894739,
          0.6710526315789473,
          0.6973684210526314,
          0.7184210526315788,
          0.6526315789473687,
          0.6447368421052633,
          0.5921052631578947,
          0.5315789473684216,
          0.5368421052631582,
          0.8394736842105264,
          0.6657894736842107,
          0.6263157894736846,
          0.7500000000000004,
          0.5815789473684214,
          0.5315789473684216,
          0.836842105263158,
          0.8815789473684212,
          0.7552631578947371,
          0.8078947368421052,
          0.7657894736842104,
          0.5315789473684216,
          0.736842105263158,
          0.7342105263157896,
          0.7210526315789472,
          0.7131578947368422,
          0.6657894736842107,
          0.8394736842105264,
          0.594736842105263,
          0.7078947368421056,
          0.3526315789473684,
          0.34210526315789513,
          0.4236842105263161,
          0.6947368421052631,
          0.3526315789473684,
          0.30000000000000027,
          0.3526315789473684,
          0.5473684210526315,
          0.3526315789473684,
          0.6078947368421055,
          0.310526315789474,
          0.331578947368421,
          0.7447368421052629,
          0.6473684210526316,
          0.5157894736842108,
          0.2447368421052638,
          0.1657894736842107,
          0.5263157894736841,
          0.2131578947368422,
          0.34210526315789513,
          0.43947368421052646,
          0.2552631578947371,
          0.44473684210526354,
          0.2763157894736845,
          0.5315789473684216,
          0.2131578947368422,
          0.43157894736842106,
          0.29736842105263195,
          0.1631578947368424,
          0.16052631578947407,
          0.2763157894736845,
          0.2763157894736845,
          0.2552631578947371,
          0.43684210526315814,
          0.331578947368421,
          0.155263157894737,
          0.3789473684210529,
          0.20526315789473726,
          0.331578947368421,
          0.3526315789473684,
          0.331578947368421,
          0.2763157894736845,
          0.4131578947368424,
          0.34473684210526345,
          0.20789473684210558,
          0.38947368421052664,
          0.3657894736842109,
          0.3210526315789477,
          0.44473684210526354,
          0.3131578947368423,
          0.15263157894736867,
          0.11315789473684257,
          0.39210526315789496,
          0.19210526315789478,
          0.10000000000000053,
          0.2763157894736845,
          0,
          0.20789473684210558,
          0.3657894736842109,
          0.45789473684210513,
          0.2552631578947371,
          0.1105263157894738,
          0.13947368421052664,
          0.3657894736842109,
          0.5315789473684216,
          0.2210526315789476,
          0.2736842105263162,
          0.3684210526315792,
          0.20000000000000018,
          0.3526315789473684,
          0.26578947368421035,
          0.4815789473684209,
          0.4868421052631584,
          0.4684210526315793,
          0.43947368421052646,
          0.38947368421052664,
          0.4131578947368424,
          0.3210526315789477,
          0.3947368421052633,
          0.6473684210526316,
          0.47631578947368425,
          0.5,
          0.6131578947368421,
          0.655263157894737,
          0.6815789473684211,
          0.3210526315789477,
          0.560526315789474,
          0.7500000000000004,
          0.48421052631578965,
          0.6026315789473689,
          0.5394736842105265,
          0.6499999999999999,
          0.4631578947368422,
          0.5473684210526315,
          0.5789473684210531,
          0.4078947368421053,
          0.5631578947368423,
          0.7394736842105263,
          0.37368421052631584,
          0.8710526315789475,
          0.6447368421052633,
          0.3500000000000001,
          0.7000000000000002,
          0.47894736842105257,
          0.5078947368421058,
          0.7236842105263159,
          0.7105263157894739,
          0.6368421052631579,
          0.4710526315789476,
          0.6710526315789473,
          0.6236842105263158,
          0.3078947368421052,
          0.45789473684210513,
          0.823684210526316,
          0.7052631578947373,
          0.6236842105263158,
          0.5894736842105264,
          0.5631578947368423,
          0.8157894736842106
         ],
         "z": [
          0.5613409415121255,
          0.5506419400855921,
          0.6469329529243938,
          0.8573466476462198,
          0.3259629101283881,
          0.8359486447931527,
          0.7218259629101285,
          0.725392296718973,
          0.5470756062767476,
          0.5470756062767476,
          0.8787446504992867,
          0.7146932952924394,
          0.7432239657631955,
          0.6219686162624822,
          0.9051355206847361,
          0.7360912981455064,
          0.7146932952924394,
          0.6077032810271041,
          1,
          0.40442225392296727,
          0.35805991440798857,
          0.35092724679029963,
          0.5399429386590585,
          0.5256776034236805,
          0.40442225392296727,
          0.3937232524964337,
          0.6540656205420827,
          0.7182596291012839,
          0.4543509272467904,
          0.5399429386590585,
          0.7182596291012839,
          0.8823109843081313,
          0.5078459343794579,
          0.6825962910128388,
          0.5827389443651926,
          0.4579172610556348,
          0.4293865905848788,
          0.5898716119828816,
          0.529243937232525,
          0.3437945791726106,
          0.36875891583452214,
          0.5399429386590585,
          0.5827389443651926,
          0.2867332382310984,
          0.43295292439372324,
          0.5720399429386591,
          0.5613409415121255,
          0.5042796005706135,
          0.557774607703281,
          0.7004279600570614,
          0.6219686162624822,
          0.7039942938659058,
          0.6504992867332383,
          0.782453637660485,
          0.557774607703281,
          0.6005706134094152,
          0.4935805991440799,
          0.7075606276747504,
          0.7182596291012839,
          0.17261055634807418,
          0.2867332382310984,
          0.12268188302425106,
          0.2510699001426534,
          0.10128388017118403,
          0.054921540656205386,
          0.2853067047075606,
          0.15977175463623397,
          0.1654778887303852,
          0.33666191155492153,
          0.31383737517831667,
          0.4222539229671898,
          0.09415121255349498,
          0.13837375178316688,
          0.5042796005706135,
          0.4336661911554922,
          0.10699001426533525,
          0.08131241084165478,
          0.15834522111269614,
          0.33666191155492153,
          0.1319543509272468,
          0,
          0.3109843081312411,
          0.2510699001426534,
          0.16904422253922965,
          0.17261055634807418,
          0.12268188302425106,
          0.15477888730385161,
          0.20256776034236804,
          0.2867332382310984,
          0.24750356633380885,
          0.1440798858773181,
          0.12268188302425106,
          0.15477888730385161,
          0.008559201141226797,
          0.047788873038516394,
          0.4700427960057062,
          0.24750356633380885,
          0.10699001426533525,
          0.27246790299572043,
          0.09129814550641938,
          0.30813124108416545,
          0.20256776034236804,
          0.11412268188302424,
          0.09771754636233951,
          0.2810271041369472,
          0.02639087018544936,
          0.1654778887303852,
          0.14978601997146931,
          0.02425106990014264,
          0.2867332382310984,
          0.20256776034236804,
          0.033523537803138354,
          0.23466476462196864,
          0.11126961483594863,
          0.07631954350927247,
          0.09201141226818829,
          0.15477888730385161,
          0.047788873038516394,
          0.06704707560627673,
          0.20399429386590587,
          0.24750356633380885,
          0.13338088445078458,
          0.062054208273894434,
          0.07275320970042795,
          0.07275320970042795,
          0.07132667617689017,
          0.052781740370898694,
          0.1340941512125535,
          0.0456490727532097,
          0.21540656205420824,
          0.2510699001426534,
          0.17974322396576317,
          0.20114122681883026,
          0.22967189728958629,
          0.2653352353780314,
          0.297432239657632,
          0.3152639087018545,
          0.16904422253922965,
          0.21540656205420824,
          0.2225392296718973,
          0.22967189728958629,
          0.35805991440798857,
          0.17261055634807418,
          0.1940085592011412,
          0.4115549215406562,
          0.3937232524964337,
          0.09771754636233951,
          0.24750356633380885,
          0.2653352353780314,
          0.1940085592011412,
          0.15834522111269614,
          0.1440798858773181,
          0.1048502139800285,
          0.2831669044222539,
          0.25820256776034234,
          0.318830242510699,
          0.1440798858773181,
          0.4293865905848788,
          0.27246790299572043,
          0.24393723252496433,
          0.17261055634807418,
          0.2867332382310984,
          0.20827389443651925,
          0.2831669044222539,
          0.2403708987161198,
          0.17261055634807418,
          0.297432239657632,
          0.29029957203994294,
          0.33666191155492153,
          0.2510699001426534,
          0.1654778887303852,
          0.1369472182596291,
          0.27246790299572043,
          0.3295292439372326,
          0.33666191155492153,
          0.3972895863052782,
          0.40085592011412274,
          0.20114122681883026
         ]
        }
       ],
       "layout": {
        "scene": {
         "xaxis": {
          "title": {
           "text": "Intensidade de cor"
          }
         },
         "yaxis": {
          "title": {
           "text": " Álcool"
          }
         },
         "zaxis": {
          "title": {
           "text": "Proline"
          }
         }
        },
        "template": {
         "data": {
          "bar": [
           {
            "error_x": {
             "color": "#2a3f5f"
            },
            "error_y": {
             "color": "#2a3f5f"
            },
            "marker": {
             "line": {
              "color": "#E5ECF6",
              "width": 0.5
             },
             "pattern": {
              "fillmode": "overlay",
              "size": 10,
              "solidity": 0.2
             }
            },
            "type": "bar"
           }
          ],
          "barpolar": [
           {
            "marker": {
             "line": {
              "color": "#E5ECF6",
              "width": 0.5
             },
             "pattern": {
              "fillmode": "overlay",
              "size": 10,
              "solidity": 0.2
             }
            },
            "type": "barpolar"
           }
          ],
          "carpet": [
           {
            "aaxis": {
             "endlinecolor": "#2a3f5f",
             "gridcolor": "white",
             "linecolor": "white",
             "minorgridcolor": "white",
             "startlinecolor": "#2a3f5f"
            },
            "baxis": {
             "endlinecolor": "#2a3f5f",
             "gridcolor": "white",
             "linecolor": "white",
             "minorgridcolor": "white",
             "startlinecolor": "#2a3f5f"
            },
            "type": "carpet"
           }
          ],
          "choropleth": [
           {
            "colorbar": {
             "outlinewidth": 0,
             "ticks": ""
            },
            "type": "choropleth"
           }
          ],
          "contour": [
           {
            "colorbar": {
             "outlinewidth": 0,
             "ticks": ""
            },
            "colorscale": [
             [
              0,
              "#0d0887"
             ],
             [
              0.1111111111111111,
              "#46039f"
             ],
             [
              0.2222222222222222,
              "#7201a8"
             ],
             [
              0.3333333333333333,
              "#9c179e"
             ],
             [
              0.4444444444444444,
              "#bd3786"
             ],
             [
              0.5555555555555556,
              "#d8576b"
             ],
             [
              0.6666666666666666,
              "#ed7953"
             ],
             [
              0.7777777777777778,
              "#fb9f3a"
             ],
             [
              0.8888888888888888,
              "#fdca26"
             ],
             [
              1,
              "#f0f921"
             ]
            ],
            "type": "contour"
           }
          ],
          "contourcarpet": [
           {
            "colorbar": {
             "outlinewidth": 0,
             "ticks": ""
            },
            "type": "contourcarpet"
           }
          ],
          "heatmap": [
           {
            "colorbar": {
             "outlinewidth": 0,
             "ticks": ""
            },
            "colorscale": [
             [
              0,
              "#0d0887"
             ],
             [
              0.1111111111111111,
              "#46039f"
             ],
             [
              0.2222222222222222,
              "#7201a8"
             ],
             [
              0.3333333333333333,
              "#9c179e"
             ],
             [
              0.4444444444444444,
              "#bd3786"
             ],
             [
              0.5555555555555556,
              "#d8576b"
             ],
             [
              0.6666666666666666,
              "#ed7953"
             ],
             [
              0.7777777777777778,
              "#fb9f3a"
             ],
             [
              0.8888888888888888,
              "#fdca26"
             ],
             [
              1,
              "#f0f921"
             ]
            ],
            "type": "heatmap"
           }
          ],
          "heatmapgl": [
           {
            "colorbar": {
             "outlinewidth": 0,
             "ticks": ""
            },
            "colorscale": [
             [
              0,
              "#0d0887"
             ],
             [
              0.1111111111111111,
              "#46039f"
             ],
             [
              0.2222222222222222,
              "#7201a8"
             ],
             [
              0.3333333333333333,
              "#9c179e"
             ],
             [
              0.4444444444444444,
              "#bd3786"
             ],
             [
              0.5555555555555556,
              "#d8576b"
             ],
             [
              0.6666666666666666,
              "#ed7953"
             ],
             [
              0.7777777777777778,
              "#fb9f3a"
             ],
             [
              0.8888888888888888,
              "#fdca26"
             ],
             [
              1,
              "#f0f921"
             ]
            ],
            "type": "heatmapgl"
           }
          ],
          "histogram": [
           {
            "marker": {
             "pattern": {
              "fillmode": "overlay",
              "size": 10,
              "solidity": 0.2
             }
            },
            "type": "histogram"
           }
          ],
          "histogram2d": [
           {
            "colorbar": {
             "outlinewidth": 0,
             "ticks": ""
            },
            "colorscale": [
             [
              0,
              "#0d0887"
             ],
             [
              0.1111111111111111,
              "#46039f"
             ],
             [
              0.2222222222222222,
              "#7201a8"
             ],
             [
              0.3333333333333333,
              "#9c179e"
             ],
             [
              0.4444444444444444,
              "#bd3786"
             ],
             [
              0.5555555555555556,
              "#d8576b"
             ],
             [
              0.6666666666666666,
              "#ed7953"
             ],
             [
              0.7777777777777778,
              "#fb9f3a"
             ],
             [
              0.8888888888888888,
              "#fdca26"
             ],
             [
              1,
              "#f0f921"
             ]
            ],
            "type": "histogram2d"
           }
          ],
          "histogram2dcontour": [
           {
            "colorbar": {
             "outlinewidth": 0,
             "ticks": ""
            },
            "colorscale": [
             [
              0,
              "#0d0887"
             ],
             [
              0.1111111111111111,
              "#46039f"
             ],
             [
              0.2222222222222222,
              "#7201a8"
             ],
             [
              0.3333333333333333,
              "#9c179e"
             ],
             [
              0.4444444444444444,
              "#bd3786"
             ],
             [
              0.5555555555555556,
              "#d8576b"
             ],
             [
              0.6666666666666666,
              "#ed7953"
             ],
             [
              0.7777777777777778,
              "#fb9f3a"
             ],
             [
              0.8888888888888888,
              "#fdca26"
             ],
             [
              1,
              "#f0f921"
             ]
            ],
            "type": "histogram2dcontour"
           }
          ],
          "mesh3d": [
           {
            "colorbar": {
             "outlinewidth": 0,
             "ticks": ""
            },
            "type": "mesh3d"
           }
          ],
          "parcoords": [
           {
            "line": {
             "colorbar": {
              "outlinewidth": 0,
              "ticks": ""
             }
            },
            "type": "parcoords"
           }
          ],
          "pie": [
           {
            "automargin": true,
            "type": "pie"
           }
          ],
          "scatter": [
           {
            "marker": {
             "colorbar": {
              "outlinewidth": 0,
              "ticks": ""
             }
            },
            "type": "scatter"
           }
          ],
          "scatter3d": [
           {
            "line": {
             "colorbar": {
              "outlinewidth": 0,
              "ticks": ""
             }
            },
            "marker": {
             "colorbar": {
              "outlinewidth": 0,
              "ticks": ""
             }
            },
            "type": "scatter3d"
           }
          ],
          "scattercarpet": [
           {
            "marker": {
             "colorbar": {
              "outlinewidth": 0,
              "ticks": ""
             }
            },
            "type": "scattercarpet"
           }
          ],
          "scattergeo": [
           {
            "marker": {
             "colorbar": {
              "outlinewidth": 0,
              "ticks": ""
             }
            },
            "type": "scattergeo"
           }
          ],
          "scattergl": [
           {
            "marker": {
             "colorbar": {
              "outlinewidth": 0,
              "ticks": ""
             }
            },
            "type": "scattergl"
           }
          ],
          "scattermapbox": [
           {
            "marker": {
             "colorbar": {
              "outlinewidth": 0,
              "ticks": ""
             }
            },
            "type": "scattermapbox"
           }
          ],
          "scatterpolar": [
           {
            "marker": {
             "colorbar": {
              "outlinewidth": 0,
              "ticks": ""
             }
            },
            "type": "scatterpolar"
           }
          ],
          "scatterpolargl": [
           {
            "marker": {
             "colorbar": {
              "outlinewidth": 0,
              "ticks": ""
             }
            },
            "type": "scatterpolargl"
           }
          ],
          "scatterternary": [
           {
            "marker": {
             "colorbar": {
              "outlinewidth": 0,
              "ticks": ""
             }
            },
            "type": "scatterternary"
           }
          ],
          "surface": [
           {
            "colorbar": {
             "outlinewidth": 0,
             "ticks": ""
            },
            "colorscale": [
             [
              0,
              "#0d0887"
             ],
             [
              0.1111111111111111,
              "#46039f"
             ],
             [
              0.2222222222222222,
              "#7201a8"
             ],
             [
              0.3333333333333333,
              "#9c179e"
             ],
             [
              0.4444444444444444,
              "#bd3786"
             ],
             [
              0.5555555555555556,
              "#d8576b"
             ],
             [
              0.6666666666666666,
              "#ed7953"
             ],
             [
              0.7777777777777778,
              "#fb9f3a"
             ],
             [
              0.8888888888888888,
              "#fdca26"
             ],
             [
              1,
              "#f0f921"
             ]
            ],
            "type": "surface"
           }
          ],
          "table": [
           {
            "cells": {
             "fill": {
              "color": "#EBF0F8"
             },
             "line": {
              "color": "white"
             }
            },
            "header": {
             "fill": {
              "color": "#C8D4E3"
             },
             "line": {
              "color": "white"
             }
            },
            "type": "table"
           }
          ]
         },
         "layout": {
          "annotationdefaults": {
           "arrowcolor": "#2a3f5f",
           "arrowhead": 0,
           "arrowwidth": 1
          },
          "autotypenumbers": "strict",
          "coloraxis": {
           "colorbar": {
            "outlinewidth": 0,
            "ticks": ""
           }
          },
          "colorscale": {
           "diverging": [
            [
             0,
             "#8e0152"
            ],
            [
             0.1,
             "#c51b7d"
            ],
            [
             0.2,
             "#de77ae"
            ],
            [
             0.3,
             "#f1b6da"
            ],
            [
             0.4,
             "#fde0ef"
            ],
            [
             0.5,
             "#f7f7f7"
            ],
            [
             0.6,
             "#e6f5d0"
            ],
            [
             0.7,
             "#b8e186"
            ],
            [
             0.8,
             "#7fbc41"
            ],
            [
             0.9,
             "#4d9221"
            ],
            [
             1,
             "#276419"
            ]
           ],
           "sequential": [
            [
             0,
             "#0d0887"
            ],
            [
             0.1111111111111111,
             "#46039f"
            ],
            [
             0.2222222222222222,
             "#7201a8"
            ],
            [
             0.3333333333333333,
             "#9c179e"
            ],
            [
             0.4444444444444444,
             "#bd3786"
            ],
            [
             0.5555555555555556,
             "#d8576b"
            ],
            [
             0.6666666666666666,
             "#ed7953"
            ],
            [
             0.7777777777777778,
             "#fb9f3a"
            ],
            [
             0.8888888888888888,
             "#fdca26"
            ],
            [
             1,
             "#f0f921"
            ]
           ],
           "sequentialminus": [
            [
             0,
             "#0d0887"
            ],
            [
             0.1111111111111111,
             "#46039f"
            ],
            [
             0.2222222222222222,
             "#7201a8"
            ],
            [
             0.3333333333333333,
             "#9c179e"
            ],
            [
             0.4444444444444444,
             "#bd3786"
            ],
            [
             0.5555555555555556,
             "#d8576b"
            ],
            [
             0.6666666666666666,
             "#ed7953"
            ],
            [
             0.7777777777777778,
             "#fb9f3a"
            ],
            [
             0.8888888888888888,
             "#fdca26"
            ],
            [
             1,
             "#f0f921"
            ]
           ]
          },
          "colorway": [
           "#636efa",
           "#EF553B",
           "#00cc96",
           "#ab63fa",
           "#FFA15A",
           "#19d3f3",
           "#FF6692",
           "#B6E880",
           "#FF97FF",
           "#FECB52"
          ],
          "font": {
           "color": "#2a3f5f"
          },
          "geo": {
           "bgcolor": "white",
           "lakecolor": "white",
           "landcolor": "#E5ECF6",
           "showlakes": true,
           "showland": true,
           "subunitcolor": "white"
          },
          "hoverlabel": {
           "align": "left"
          },
          "hovermode": "closest",
          "mapbox": {
           "style": "light"
          },
          "paper_bgcolor": "white",
          "plot_bgcolor": "#E5ECF6",
          "polar": {
           "angularaxis": {
            "gridcolor": "white",
            "linecolor": "white",
            "ticks": ""
           },
           "bgcolor": "#E5ECF6",
           "radialaxis": {
            "gridcolor": "white",
            "linecolor": "white",
            "ticks": ""
           }
          },
          "scene": {
           "xaxis": {
            "backgroundcolor": "#E5ECF6",
            "gridcolor": "white",
            "gridwidth": 2,
            "linecolor": "white",
            "showbackground": true,
            "ticks": "",
            "zerolinecolor": "white"
           },
           "yaxis": {
            "backgroundcolor": "#E5ECF6",
            "gridcolor": "white",
            "gridwidth": 2,
            "linecolor": "white",
            "showbackground": true,
            "ticks": "",
            "zerolinecolor": "white"
           },
           "zaxis": {
            "backgroundcolor": "#E5ECF6",
            "gridcolor": "white",
            "gridwidth": 2,
            "linecolor": "white",
            "showbackground": true,
            "ticks": "",
            "zerolinecolor": "white"
           }
          },
          "shapedefaults": {
           "line": {
            "color": "#2a3f5f"
           }
          },
          "ternary": {
           "aaxis": {
            "gridcolor": "white",
            "linecolor": "white",
            "ticks": ""
           },
           "baxis": {
            "gridcolor": "white",
            "linecolor": "white",
            "ticks": ""
           },
           "bgcolor": "#E5ECF6",
           "caxis": {
            "gridcolor": "white",
            "linecolor": "white",
            "ticks": ""
           }
          },
          "title": {
           "x": 0.05
          },
          "xaxis": {
           "automargin": true,
           "gridcolor": "white",
           "linecolor": "white",
           "ticks": "",
           "title": {
            "standoff": 15
           },
           "zerolinecolor": "white",
           "zerolinewidth": 2
          },
          "yaxis": {
           "automargin": true,
           "gridcolor": "white",
           "linecolor": "white",
           "ticks": "",
           "title": {
            "standoff": 15
           },
           "zerolinecolor": "white",
           "zerolinewidth": 2
          }
         }
        }
       }
      }
     },
     "metadata": {},
     "output_type": "display_data"
    }
   ],
   "source": [
    "fig.update_layout(scene = dict(\n",
    "    xaxis_title = \"Intensidade de cor\",\n",
    "    yaxis_title = \" Álcool\",\n",
    "    zaxis_title = \"Proline\"\n",
    "))\n",
    "fig.show()"
   ]
  },
  {
   "cell_type": "markdown",
   "metadata": {},
   "source": [
    "Apos coloca o \"fig.update_layout\" conseguimos fazer com que nosso gráfico fica se mais arrumando trocando as letras x,y e z para \"Intensidade de cor\", \"Álcool\" e \"Proline\""
   ]
  },
  {
   "cell_type": "code",
   "execution_count": 25,
   "metadata": {},
   "outputs": [
    {
     "data": {
      "text/html": [
       "<div>\n",
       "<style scoped>\n",
       "    .dataframe tbody tr th:only-of-type {\n",
       "        vertical-align: middle;\n",
       "    }\n",
       "\n",
       "    .dataframe tbody tr th {\n",
       "        vertical-align: top;\n",
       "    }\n",
       "\n",
       "    .dataframe thead th {\n",
       "        text-align: right;\n",
       "    }\n",
       "</style>\n",
       "<table border=\"1\" class=\"dataframe\">\n",
       "  <thead>\n",
       "    <tr style=\"text-align: right;\">\n",
       "      <th></th>\n",
       "      <th>Alcool</th>\n",
       "      <th>Malic_Acid</th>\n",
       "      <th>Po</th>\n",
       "      <th>Ash_Alcanity</th>\n",
       "      <th>Magnesio</th>\n",
       "      <th>Total_Fenois</th>\n",
       "      <th>Flavanoids</th>\n",
       "      <th>Fenois_nao_flavalonoides</th>\n",
       "      <th>Proanthocyanins</th>\n",
       "      <th>Intensidade_de_cor</th>\n",
       "      <th>Hue</th>\n",
       "      <th>OD280</th>\n",
       "      <th>Proline</th>\n",
       "      <th>Customer_Segment</th>\n",
       "    </tr>\n",
       "  </thead>\n",
       "  <tbody>\n",
       "    <tr>\n",
       "      <th>0</th>\n",
       "      <td>0.711096</td>\n",
       "      <td>0.250000</td>\n",
       "      <td>0.587166</td>\n",
       "      <td>0.342955</td>\n",
       "      <td>0.400906</td>\n",
       "      <td>0.644080</td>\n",
       "      <td>0.557138</td>\n",
       "      <td>0.299371</td>\n",
       "      <td>0.470137</td>\n",
       "      <td>0.359386</td>\n",
       "      <td>0.476558</td>\n",
       "      <td>0.693590</td>\n",
       "      <td>0.595958</td>\n",
       "      <td>0.008333</td>\n",
       "    </tr>\n",
       "    <tr>\n",
       "      <th>1</th>\n",
       "      <td>0.322960</td>\n",
       "      <td>0.230939</td>\n",
       "      <td>0.469813</td>\n",
       "      <td>0.487823</td>\n",
       "      <td>0.261342</td>\n",
       "      <td>0.438831</td>\n",
       "      <td>0.366294</td>\n",
       "      <td>0.438337</td>\n",
       "      <td>0.383486</td>\n",
       "      <td>0.151704</td>\n",
       "      <td>0.468081</td>\n",
       "      <td>0.555396</td>\n",
       "      <td>0.167494</td>\n",
       "      <td>0.500000</td>\n",
       "    </tr>\n",
       "    <tr>\n",
       "      <th>2</th>\n",
       "      <td>0.558324</td>\n",
       "      <td>0.514721</td>\n",
       "      <td>0.574703</td>\n",
       "      <td>0.558700</td>\n",
       "      <td>0.315439</td>\n",
       "      <td>0.240746</td>\n",
       "      <td>0.096616</td>\n",
       "      <td>0.605314</td>\n",
       "      <td>0.237559</td>\n",
       "      <td>0.517343</td>\n",
       "      <td>0.167413</td>\n",
       "      <td>0.153921</td>\n",
       "      <td>0.249323</td>\n",
       "      <td>0.989796</td>\n",
       "    </tr>\n",
       "  </tbody>\n",
       "</table>\n",
       "</div>"
      ],
      "text/plain": [
       "     Alcool  Malic_Acid        Po  Ash_Alcanity  Magnesio  Total_Fenois  \\\n",
       "0  0.711096    0.250000  0.587166      0.342955  0.400906      0.644080   \n",
       "1  0.322960    0.230939  0.469813      0.487823  0.261342      0.438831   \n",
       "2  0.558324    0.514721  0.574703      0.558700  0.315439      0.240746   \n",
       "\n",
       "   Flavanoids  Fenois_nao_flavalonoides  Proanthocyanins  Intensidade_de_cor  \\\n",
       "0    0.557138                  0.299371         0.470137            0.359386   \n",
       "1    0.366294                  0.438337         0.383486            0.151704   \n",
       "2    0.096616                  0.605314         0.237559            0.517343   \n",
       "\n",
       "        Hue     OD280   Proline  Customer_Segment  \n",
       "0  0.476558  0.693590  0.595958          0.008333  \n",
       "1  0.468081  0.555396  0.167494          0.500000  \n",
       "2  0.167413  0.153921  0.249323          0.989796  "
      ]
     },
     "execution_count": 25,
     "metadata": {},
     "output_type": "execute_result"
    }
   ],
   "source": [
    "center = pd.DataFrame(bundler.cluster_centers_)\n",
    "center.columns = columnsC\n",
    "center.head()"
   ]
  },
  {
   "cell_type": "code",
   "execution_count": 26,
   "metadata": {},
   "outputs": [
    {
     "data": {
      "application/vnd.plotly.v1+json": {
       "config": {
        "plotlyServerURL": "https://plot.ly"
       },
       "data": [
        {
         "marker": {
          "color": [
           0,
           0,
           0,
           0,
           0,
           0,
           0,
           0,
           0,
           0,
           0,
           0,
           0,
           0,
           0,
           0,
           0,
           0,
           0,
           0,
           0,
           0,
           0,
           0,
           0,
           0,
           0,
           0,
           0,
           0,
           0,
           0,
           0,
           0,
           0,
           0,
           0,
           0,
           0,
           0,
           0,
           0,
           0,
           0,
           0,
           0,
           0,
           0,
           0,
           0,
           0,
           0,
           0,
           0,
           0,
           0,
           0,
           0,
           0,
           1,
           1,
           1,
           1,
           1,
           1,
           1,
           1,
           1,
           1,
           1,
           1,
           1,
           1,
           0,
           1,
           1,
           1,
           1,
           1,
           1,
           1,
           1,
           1,
           2,
           1,
           1,
           1,
           1,
           1,
           1,
           1,
           1,
           1,
           1,
           1,
           1,
           1,
           1,
           1,
           1,
           1,
           1,
           1,
           1,
           1,
           1,
           1,
           1,
           1,
           1,
           1,
           1,
           1,
           1,
           1,
           1,
           1,
           1,
           1,
           1,
           1,
           1,
           1,
           1,
           1,
           1,
           1,
           1,
           1,
           1,
           2,
           2,
           2,
           2,
           2,
           2,
           2,
           2,
           2,
           2,
           2,
           2,
           2,
           2,
           2,
           2,
           2,
           2,
           2,
           2,
           2,
           2,
           2,
           2,
           2,
           2,
           2,
           2,
           2,
           2,
           2,
           2,
           2,
           2,
           2,
           2,
           2,
           2,
           2,
           2,
           2,
           2,
           2,
           2,
           2,
           2,
           2,
           2
          ]
         },
         "mode": "markers",
         "text": [
          "0",
          "1",
          "2"
         ],
         "type": "scatter3d",
         "x": [
          0.37201365187713314,
          0.2645051194539249,
          0.37542662116040953,
          0.5563139931740615,
          0.25938566552901027,
          0.46672354948805467,
          0.33873720136518776,
          0.3216723549488055,
          0.3344709897610922,
          0.506825938566553,
          0.38139931740614336,
          0.3174061433447099,
          0.36860068259385664,
          0.35153583617747447,
          0.5307167235494882,
          0.5136518771331059,
          0.4197952218430035,
          0.45392491467576795,
          0.6331058020477816,
          0.32593856655290104,
          0.3728668941979523,
          0.2747440273037543,
          0.21501706484641636,
          0.22610921501706488,
          0.19112627986348124,
          0.19624573378839594,
          0.3003412969283276,
          0.22781569965870307,
          0.2747440273037543,
          0.2918088737201366,
          0.3771331058020478,
          0.4795221843003414,
          0.2184300341296928,
          0.35153583617747447,
          0.24914675767918093,
          0.32593856655290104,
          0.28327645051194544,
          0.25341296928327645,
          0.20648464163822527,
          0.32593856655290104,
          0.4138225255972697,
          0.2559726962457339,
          0.3540955631399318,
          0.26279863481228677,
          0.3208191126279864,
          0.3378839590443687,
          0.30887372013651887,
          0.41126279863481235,
          0.4197952218430035,
          0.650170648464164,
          0.5051194539249148,
          0.36860068259385664,
          0.492320819112628,
          0.4283276450511945,
          0.3899317406143345,
          0.42406143344709907,
          0.43515358361774753,
          0.4027303754266212,
          0.47098976109215024,
          0.05716723549488054,
          0.16979522184300344,
          0.38139931740614336,
          0.21501706484641636,
          0.27047781569965873,
          0.14249146757679182,
          0.28327645051194544,
          0.34300341296928333,
          0.29010238907849834,
          0.1612627986348123,
          0.1339590443686007,
          0.15102389078498296,
          0.17918088737201365,
          0.20989761092150172,
          0.17662116040955633,
          0.16467576791808874,
          0.21501706484641636,
          0.28327645051194544,
          0.11689419795221843,
          0.1808873720136519,
          0.11006825938566552,
          0.10409556313993175,
          0.2235494880546075,
          0.07849829351535838,
          0.3003412969283276,
          0.15102389078498296,
          0.11433447098976111,
          0.0998293515358362,
          0.11262798634812289,
          0.12969283276450513,
          0.03924914675767919,
          0.0955631399317406,
          0.19795221843003413,
          0.15102389078498296,
          0.0742320819112628,
          0.1680887372013652,
          0.11262798634812289,
          0.10409556313993175,
          0.13822525597269625,
          0.2747440273037543,
          0.08703071672354949,
          0.17235494880546076,
          0.0998293515358362,
          0.12969283276450513,
          0.06655290102389079,
          0.1416382252559727,
          0.121160409556314,
          0.1808873720136519,
          0.17235494880546076,
          0.121160409556314,
          0.11689419795221843,
          0.13822525597269625,
          0.061433447098976114,
          0.21501706484641636,
          0.15358361774744028,
          0.13822525597269625,
          0.05290102389078497,
          0.05716723549488054,
          0.06655290102389079,
          0.1808873720136519,
          0,
          0.1680887372013652,
          0.4027303754266212,
          0.06825938566552904,
          0.11262798634812289,
          0.12969283276450513,
          0.12627986348122866,
          0.22696245733788395,
          0.1467576791808874,
          0.07167235494880549,
          0.11262798634812289,
          0.24061433447098973,
          0.35153583617747447,
          0.3771331058020478,
          0.3174061433447099,
          0.35580204778157004,
          0.49658703071672355,
          0.219283276450512,
          0.3174061433447099,
          0.3771331058020478,
          0.310580204778157,
          0.28327645051194544,
          0.36860068259385664,
          0.2619453924914676,
          0.26621160409556316,
          0.5912969283276452,
          0.23208191126279865,
          0.30887372013651887,
          0.5435153583617749,
          0.6092150170648465,
          0.6928327645051195,
          0.6245733788395905,
          0.8122866894197953,
          0.49658703071672355,
          0.7883959044368601,
          0.5392491467576792,
          0.5648464163822526,
          0.6595563139931742,
          0.5307167235494882,
          1,
          0.8933447098976111,
          0.5435153583617749,
          0.3924914675767918,
          0.3668941979522185,
          0.3412969283276451,
          0.7081911262798636,
          0.4556313993174062,
          0.8020477815699659,
          0.7662116040955632,
          0.6296928327645053,
          0.6160409556313994,
          0.3600682593856656,
          0.735494795221843,
          0.7184300341296929,
          0.5477815699658705,
          0.5136518771331059,
          0.7610921501706485,
          0.6843003412969285,
          0.6757679180887373
         ],
         "y": [
          0.8421052631578951,
          0.5710526315789473,
          0.560526315789474,
          0.8789473684210525,
          0.5815789473684214,
          0.8342105263157893,
          0.8842105263157896,
          0.797368421052632,
          1,
          0.7447368421052629,
          0.8078947368421052,
          0.8131578947368419,
          0.7157894736842105,
          0.9789473684210526,
          0.8815789473684212,
          0.6842105263157898,
          0.8605263157894738,
          0.736842105263158,
          0.831578947368421,
          0.6868421052631581,
          0.797368421052632,
          0.5,
          0.7052631578947373,
          0.47894736842105257,
          0.6499999999999999,
          0.5315789473684216,
          0.6210526315789475,
          0.5973684210526318,
          0.7473684210526317,
          0.7868421052631578,
          0.7105263157894739,
          0.6710526315789473,
          0.6973684210526314,
          0.7184210526315788,
          0.6526315789473687,
          0.6447368421052633,
          0.5921052631578947,
          0.5315789473684216,
          0.5368421052631582,
          0.8394736842105264,
          0.6657894736842107,
          0.6263157894736846,
          0.7500000000000004,
          0.5815789473684214,
          0.5315789473684216,
          0.836842105263158,
          0.8815789473684212,
          0.7552631578947371,
          0.8078947368421052,
          0.7657894736842104,
          0.5315789473684216,
          0.736842105263158,
          0.7342105263157896,
          0.7210526315789472,
          0.7131578947368422,
          0.6657894736842107,
          0.8394736842105264,
          0.594736842105263,
          0.7078947368421056,
          0.3526315789473684,
          0.34210526315789513,
          0.4236842105263161,
          0.6947368421052631,
          0.3526315789473684,
          0.30000000000000027,
          0.3526315789473684,
          0.5473684210526315,
          0.3526315789473684,
          0.6078947368421055,
          0.310526315789474,
          0.331578947368421,
          0.7447368421052629,
          0.6473684210526316,
          0.5157894736842108,
          0.2447368421052638,
          0.1657894736842107,
          0.5263157894736841,
          0.2131578947368422,
          0.34210526315789513,
          0.43947368421052646,
          0.2552631578947371,
          0.44473684210526354,
          0.2763157894736845,
          0.5315789473684216,
          0.2131578947368422,
          0.43157894736842106,
          0.29736842105263195,
          0.1631578947368424,
          0.16052631578947407,
          0.2763157894736845,
          0.2763157894736845,
          0.2552631578947371,
          0.43684210526315814,
          0.331578947368421,
          0.155263157894737,
          0.3789473684210529,
          0.20526315789473726,
          0.331578947368421,
          0.3526315789473684,
          0.331578947368421,
          0.2763157894736845,
          0.4131578947368424,
          0.34473684210526345,
          0.20789473684210558,
          0.38947368421052664,
          0.3657894736842109,
          0.3210526315789477,
          0.44473684210526354,
          0.3131578947368423,
          0.15263157894736867,
          0.11315789473684257,
          0.39210526315789496,
          0.19210526315789478,
          0.10000000000000053,
          0.2763157894736845,
          0,
          0.20789473684210558,
          0.3657894736842109,
          0.45789473684210513,
          0.2552631578947371,
          0.1105263157894738,
          0.13947368421052664,
          0.3657894736842109,
          0.5315789473684216,
          0.2210526315789476,
          0.2736842105263162,
          0.3684210526315792,
          0.20000000000000018,
          0.3526315789473684,
          0.26578947368421035,
          0.4815789473684209,
          0.4868421052631584,
          0.4684210526315793,
          0.43947368421052646,
          0.38947368421052664,
          0.4131578947368424,
          0.3210526315789477,
          0.3947368421052633,
          0.6473684210526316,
          0.47631578947368425,
          0.5,
          0.6131578947368421,
          0.655263157894737,
          0.6815789473684211,
          0.3210526315789477,
          0.560526315789474,
          0.7500000000000004,
          0.48421052631578965,
          0.6026315789473689,
          0.5394736842105265,
          0.6499999999999999,
          0.4631578947368422,
          0.5473684210526315,
          0.5789473684210531,
          0.4078947368421053,
          0.5631578947368423,
          0.7394736842105263,
          0.37368421052631584,
          0.8710526315789475,
          0.6447368421052633,
          0.3500000000000001,
          0.7000000000000002,
          0.47894736842105257,
          0.5078947368421058,
          0.7236842105263159,
          0.7105263157894739,
          0.6368421052631579,
          0.4710526315789476,
          0.6710526315789473,
          0.6236842105263158,
          0.3078947368421052,
          0.45789473684210513,
          0.823684210526316,
          0.7052631578947373,
          0.6236842105263158,
          0.5894736842105264,
          0.5631578947368423,
          0.8157894736842106
         ],
         "z": [
          0.5613409415121255,
          0.5506419400855921,
          0.6469329529243938,
          0.8573466476462198,
          0.3259629101283881,
          0.8359486447931527,
          0.7218259629101285,
          0.725392296718973,
          0.5470756062767476,
          0.5470756062767476,
          0.8787446504992867,
          0.7146932952924394,
          0.7432239657631955,
          0.6219686162624822,
          0.9051355206847361,
          0.7360912981455064,
          0.7146932952924394,
          0.6077032810271041,
          1,
          0.40442225392296727,
          0.35805991440798857,
          0.35092724679029963,
          0.5399429386590585,
          0.5256776034236805,
          0.40442225392296727,
          0.3937232524964337,
          0.6540656205420827,
          0.7182596291012839,
          0.4543509272467904,
          0.5399429386590585,
          0.7182596291012839,
          0.8823109843081313,
          0.5078459343794579,
          0.6825962910128388,
          0.5827389443651926,
          0.4579172610556348,
          0.4293865905848788,
          0.5898716119828816,
          0.529243937232525,
          0.3437945791726106,
          0.36875891583452214,
          0.5399429386590585,
          0.5827389443651926,
          0.2867332382310984,
          0.43295292439372324,
          0.5720399429386591,
          0.5613409415121255,
          0.5042796005706135,
          0.557774607703281,
          0.7004279600570614,
          0.6219686162624822,
          0.7039942938659058,
          0.6504992867332383,
          0.782453637660485,
          0.557774607703281,
          0.6005706134094152,
          0.4935805991440799,
          0.7075606276747504,
          0.7182596291012839,
          0.17261055634807418,
          0.2867332382310984,
          0.12268188302425106,
          0.2510699001426534,
          0.10128388017118403,
          0.054921540656205386,
          0.2853067047075606,
          0.15977175463623397,
          0.1654778887303852,
          0.33666191155492153,
          0.31383737517831667,
          0.4222539229671898,
          0.09415121255349498,
          0.13837375178316688,
          0.5042796005706135,
          0.4336661911554922,
          0.10699001426533525,
          0.08131241084165478,
          0.15834522111269614,
          0.33666191155492153,
          0.1319543509272468,
          0,
          0.3109843081312411,
          0.2510699001426534,
          0.16904422253922965,
          0.17261055634807418,
          0.12268188302425106,
          0.15477888730385161,
          0.20256776034236804,
          0.2867332382310984,
          0.24750356633380885,
          0.1440798858773181,
          0.12268188302425106,
          0.15477888730385161,
          0.008559201141226797,
          0.047788873038516394,
          0.4700427960057062,
          0.24750356633380885,
          0.10699001426533525,
          0.27246790299572043,
          0.09129814550641938,
          0.30813124108416545,
          0.20256776034236804,
          0.11412268188302424,
          0.09771754636233951,
          0.2810271041369472,
          0.02639087018544936,
          0.1654778887303852,
          0.14978601997146931,
          0.02425106990014264,
          0.2867332382310984,
          0.20256776034236804,
          0.033523537803138354,
          0.23466476462196864,
          0.11126961483594863,
          0.07631954350927247,
          0.09201141226818829,
          0.15477888730385161,
          0.047788873038516394,
          0.06704707560627673,
          0.20399429386590587,
          0.24750356633380885,
          0.13338088445078458,
          0.062054208273894434,
          0.07275320970042795,
          0.07275320970042795,
          0.07132667617689017,
          0.052781740370898694,
          0.1340941512125535,
          0.0456490727532097,
          0.21540656205420824,
          0.2510699001426534,
          0.17974322396576317,
          0.20114122681883026,
          0.22967189728958629,
          0.2653352353780314,
          0.297432239657632,
          0.3152639087018545,
          0.16904422253922965,
          0.21540656205420824,
          0.2225392296718973,
          0.22967189728958629,
          0.35805991440798857,
          0.17261055634807418,
          0.1940085592011412,
          0.4115549215406562,
          0.3937232524964337,
          0.09771754636233951,
          0.24750356633380885,
          0.2653352353780314,
          0.1940085592011412,
          0.15834522111269614,
          0.1440798858773181,
          0.1048502139800285,
          0.2831669044222539,
          0.25820256776034234,
          0.318830242510699,
          0.1440798858773181,
          0.4293865905848788,
          0.27246790299572043,
          0.24393723252496433,
          0.17261055634807418,
          0.2867332382310984,
          0.20827389443651925,
          0.2831669044222539,
          0.2403708987161198,
          0.17261055634807418,
          0.297432239657632,
          0.29029957203994294,
          0.33666191155492153,
          0.2510699001426534,
          0.1654778887303852,
          0.1369472182596291,
          0.27246790299572043,
          0.3295292439372326,
          0.33666191155492153,
          0.3972895863052782,
          0.40085592011412274,
          0.20114122681883026
         ]
        },
        {
         "marker": {
          "color": "red"
         },
         "mode": "markers",
         "text": [
          "0",
          "1",
          "2"
         ],
         "type": "scatter3d",
         "x": [
          0.35938566552901025,
          0.15170401147549095,
          0.5173434544124818
         ],
         "y": [
          0.7110964912280704,
          0.32295957284515664,
          0.5583243823845329
         ],
         "z": [
          0.5959581550166431,
          0.1674936426223408,
          0.24932312439954585
         ]
        }
       ],
       "layout": {
        "scene": {
         "xaxis": {
          "title": {
           "text": "Intensidade de cor"
          }
         },
         "yaxis": {
          "title": {
           "text": " Álcool"
          }
         },
         "zaxis": {
          "title": {
           "text": "Proline"
          }
         }
        },
        "template": {
         "data": {
          "bar": [
           {
            "error_x": {
             "color": "#2a3f5f"
            },
            "error_y": {
             "color": "#2a3f5f"
            },
            "marker": {
             "line": {
              "color": "#E5ECF6",
              "width": 0.5
             },
             "pattern": {
              "fillmode": "overlay",
              "size": 10,
              "solidity": 0.2
             }
            },
            "type": "bar"
           }
          ],
          "barpolar": [
           {
            "marker": {
             "line": {
              "color": "#E5ECF6",
              "width": 0.5
             },
             "pattern": {
              "fillmode": "overlay",
              "size": 10,
              "solidity": 0.2
             }
            },
            "type": "barpolar"
           }
          ],
          "carpet": [
           {
            "aaxis": {
             "endlinecolor": "#2a3f5f",
             "gridcolor": "white",
             "linecolor": "white",
             "minorgridcolor": "white",
             "startlinecolor": "#2a3f5f"
            },
            "baxis": {
             "endlinecolor": "#2a3f5f",
             "gridcolor": "white",
             "linecolor": "white",
             "minorgridcolor": "white",
             "startlinecolor": "#2a3f5f"
            },
            "type": "carpet"
           }
          ],
          "choropleth": [
           {
            "colorbar": {
             "outlinewidth": 0,
             "ticks": ""
            },
            "type": "choropleth"
           }
          ],
          "contour": [
           {
            "colorbar": {
             "outlinewidth": 0,
             "ticks": ""
            },
            "colorscale": [
             [
              0,
              "#0d0887"
             ],
             [
              0.1111111111111111,
              "#46039f"
             ],
             [
              0.2222222222222222,
              "#7201a8"
             ],
             [
              0.3333333333333333,
              "#9c179e"
             ],
             [
              0.4444444444444444,
              "#bd3786"
             ],
             [
              0.5555555555555556,
              "#d8576b"
             ],
             [
              0.6666666666666666,
              "#ed7953"
             ],
             [
              0.7777777777777778,
              "#fb9f3a"
             ],
             [
              0.8888888888888888,
              "#fdca26"
             ],
             [
              1,
              "#f0f921"
             ]
            ],
            "type": "contour"
           }
          ],
          "contourcarpet": [
           {
            "colorbar": {
             "outlinewidth": 0,
             "ticks": ""
            },
            "type": "contourcarpet"
           }
          ],
          "heatmap": [
           {
            "colorbar": {
             "outlinewidth": 0,
             "ticks": ""
            },
            "colorscale": [
             [
              0,
              "#0d0887"
             ],
             [
              0.1111111111111111,
              "#46039f"
             ],
             [
              0.2222222222222222,
              "#7201a8"
             ],
             [
              0.3333333333333333,
              "#9c179e"
             ],
             [
              0.4444444444444444,
              "#bd3786"
             ],
             [
              0.5555555555555556,
              "#d8576b"
             ],
             [
              0.6666666666666666,
              "#ed7953"
             ],
             [
              0.7777777777777778,
              "#fb9f3a"
             ],
             [
              0.8888888888888888,
              "#fdca26"
             ],
             [
              1,
              "#f0f921"
             ]
            ],
            "type": "heatmap"
           }
          ],
          "heatmapgl": [
           {
            "colorbar": {
             "outlinewidth": 0,
             "ticks": ""
            },
            "colorscale": [
             [
              0,
              "#0d0887"
             ],
             [
              0.1111111111111111,
              "#46039f"
             ],
             [
              0.2222222222222222,
              "#7201a8"
             ],
             [
              0.3333333333333333,
              "#9c179e"
             ],
             [
              0.4444444444444444,
              "#bd3786"
             ],
             [
              0.5555555555555556,
              "#d8576b"
             ],
             [
              0.6666666666666666,
              "#ed7953"
             ],
             [
              0.7777777777777778,
              "#fb9f3a"
             ],
             [
              0.8888888888888888,
              "#fdca26"
             ],
             [
              1,
              "#f0f921"
             ]
            ],
            "type": "heatmapgl"
           }
          ],
          "histogram": [
           {
            "marker": {
             "pattern": {
              "fillmode": "overlay",
              "size": 10,
              "solidity": 0.2
             }
            },
            "type": "histogram"
           }
          ],
          "histogram2d": [
           {
            "colorbar": {
             "outlinewidth": 0,
             "ticks": ""
            },
            "colorscale": [
             [
              0,
              "#0d0887"
             ],
             [
              0.1111111111111111,
              "#46039f"
             ],
             [
              0.2222222222222222,
              "#7201a8"
             ],
             [
              0.3333333333333333,
              "#9c179e"
             ],
             [
              0.4444444444444444,
              "#bd3786"
             ],
             [
              0.5555555555555556,
              "#d8576b"
             ],
             [
              0.6666666666666666,
              "#ed7953"
             ],
             [
              0.7777777777777778,
              "#fb9f3a"
             ],
             [
              0.8888888888888888,
              "#fdca26"
             ],
             [
              1,
              "#f0f921"
             ]
            ],
            "type": "histogram2d"
           }
          ],
          "histogram2dcontour": [
           {
            "colorbar": {
             "outlinewidth": 0,
             "ticks": ""
            },
            "colorscale": [
             [
              0,
              "#0d0887"
             ],
             [
              0.1111111111111111,
              "#46039f"
             ],
             [
              0.2222222222222222,
              "#7201a8"
             ],
             [
              0.3333333333333333,
              "#9c179e"
             ],
             [
              0.4444444444444444,
              "#bd3786"
             ],
             [
              0.5555555555555556,
              "#d8576b"
             ],
             [
              0.6666666666666666,
              "#ed7953"
             ],
             [
              0.7777777777777778,
              "#fb9f3a"
             ],
             [
              0.8888888888888888,
              "#fdca26"
             ],
             [
              1,
              "#f0f921"
             ]
            ],
            "type": "histogram2dcontour"
           }
          ],
          "mesh3d": [
           {
            "colorbar": {
             "outlinewidth": 0,
             "ticks": ""
            },
            "type": "mesh3d"
           }
          ],
          "parcoords": [
           {
            "line": {
             "colorbar": {
              "outlinewidth": 0,
              "ticks": ""
             }
            },
            "type": "parcoords"
           }
          ],
          "pie": [
           {
            "automargin": true,
            "type": "pie"
           }
          ],
          "scatter": [
           {
            "marker": {
             "colorbar": {
              "outlinewidth": 0,
              "ticks": ""
             }
            },
            "type": "scatter"
           }
          ],
          "scatter3d": [
           {
            "line": {
             "colorbar": {
              "outlinewidth": 0,
              "ticks": ""
             }
            },
            "marker": {
             "colorbar": {
              "outlinewidth": 0,
              "ticks": ""
             }
            },
            "type": "scatter3d"
           }
          ],
          "scattercarpet": [
           {
            "marker": {
             "colorbar": {
              "outlinewidth": 0,
              "ticks": ""
             }
            },
            "type": "scattercarpet"
           }
          ],
          "scattergeo": [
           {
            "marker": {
             "colorbar": {
              "outlinewidth": 0,
              "ticks": ""
             }
            },
            "type": "scattergeo"
           }
          ],
          "scattergl": [
           {
            "marker": {
             "colorbar": {
              "outlinewidth": 0,
              "ticks": ""
             }
            },
            "type": "scattergl"
           }
          ],
          "scattermapbox": [
           {
            "marker": {
             "colorbar": {
              "outlinewidth": 0,
              "ticks": ""
             }
            },
            "type": "scattermapbox"
           }
          ],
          "scatterpolar": [
           {
            "marker": {
             "colorbar": {
              "outlinewidth": 0,
              "ticks": ""
             }
            },
            "type": "scatterpolar"
           }
          ],
          "scatterpolargl": [
           {
            "marker": {
             "colorbar": {
              "outlinewidth": 0,
              "ticks": ""
             }
            },
            "type": "scatterpolargl"
           }
          ],
          "scatterternary": [
           {
            "marker": {
             "colorbar": {
              "outlinewidth": 0,
              "ticks": ""
             }
            },
            "type": "scatterternary"
           }
          ],
          "surface": [
           {
            "colorbar": {
             "outlinewidth": 0,
             "ticks": ""
            },
            "colorscale": [
             [
              0,
              "#0d0887"
             ],
             [
              0.1111111111111111,
              "#46039f"
             ],
             [
              0.2222222222222222,
              "#7201a8"
             ],
             [
              0.3333333333333333,
              "#9c179e"
             ],
             [
              0.4444444444444444,
              "#bd3786"
             ],
             [
              0.5555555555555556,
              "#d8576b"
             ],
             [
              0.6666666666666666,
              "#ed7953"
             ],
             [
              0.7777777777777778,
              "#fb9f3a"
             ],
             [
              0.8888888888888888,
              "#fdca26"
             ],
             [
              1,
              "#f0f921"
             ]
            ],
            "type": "surface"
           }
          ],
          "table": [
           {
            "cells": {
             "fill": {
              "color": "#EBF0F8"
             },
             "line": {
              "color": "white"
             }
            },
            "header": {
             "fill": {
              "color": "#C8D4E3"
             },
             "line": {
              "color": "white"
             }
            },
            "type": "table"
           }
          ]
         },
         "layout": {
          "annotationdefaults": {
           "arrowcolor": "#2a3f5f",
           "arrowhead": 0,
           "arrowwidth": 1
          },
          "autotypenumbers": "strict",
          "coloraxis": {
           "colorbar": {
            "outlinewidth": 0,
            "ticks": ""
           }
          },
          "colorscale": {
           "diverging": [
            [
             0,
             "#8e0152"
            ],
            [
             0.1,
             "#c51b7d"
            ],
            [
             0.2,
             "#de77ae"
            ],
            [
             0.3,
             "#f1b6da"
            ],
            [
             0.4,
             "#fde0ef"
            ],
            [
             0.5,
             "#f7f7f7"
            ],
            [
             0.6,
             "#e6f5d0"
            ],
            [
             0.7,
             "#b8e186"
            ],
            [
             0.8,
             "#7fbc41"
            ],
            [
             0.9,
             "#4d9221"
            ],
            [
             1,
             "#276419"
            ]
           ],
           "sequential": [
            [
             0,
             "#0d0887"
            ],
            [
             0.1111111111111111,
             "#46039f"
            ],
            [
             0.2222222222222222,
             "#7201a8"
            ],
            [
             0.3333333333333333,
             "#9c179e"
            ],
            [
             0.4444444444444444,
             "#bd3786"
            ],
            [
             0.5555555555555556,
             "#d8576b"
            ],
            [
             0.6666666666666666,
             "#ed7953"
            ],
            [
             0.7777777777777778,
             "#fb9f3a"
            ],
            [
             0.8888888888888888,
             "#fdca26"
            ],
            [
             1,
             "#f0f921"
            ]
           ],
           "sequentialminus": [
            [
             0,
             "#0d0887"
            ],
            [
             0.1111111111111111,
             "#46039f"
            ],
            [
             0.2222222222222222,
             "#7201a8"
            ],
            [
             0.3333333333333333,
             "#9c179e"
            ],
            [
             0.4444444444444444,
             "#bd3786"
            ],
            [
             0.5555555555555556,
             "#d8576b"
            ],
            [
             0.6666666666666666,
             "#ed7953"
            ],
            [
             0.7777777777777778,
             "#fb9f3a"
            ],
            [
             0.8888888888888888,
             "#fdca26"
            ],
            [
             1,
             "#f0f921"
            ]
           ]
          },
          "colorway": [
           "#636efa",
           "#EF553B",
           "#00cc96",
           "#ab63fa",
           "#FFA15A",
           "#19d3f3",
           "#FF6692",
           "#B6E880",
           "#FF97FF",
           "#FECB52"
          ],
          "font": {
           "color": "#2a3f5f"
          },
          "geo": {
           "bgcolor": "white",
           "lakecolor": "white",
           "landcolor": "#E5ECF6",
           "showlakes": true,
           "showland": true,
           "subunitcolor": "white"
          },
          "hoverlabel": {
           "align": "left"
          },
          "hovermode": "closest",
          "mapbox": {
           "style": "light"
          },
          "paper_bgcolor": "white",
          "plot_bgcolor": "#E5ECF6",
          "polar": {
           "angularaxis": {
            "gridcolor": "white",
            "linecolor": "white",
            "ticks": ""
           },
           "bgcolor": "#E5ECF6",
           "radialaxis": {
            "gridcolor": "white",
            "linecolor": "white",
            "ticks": ""
           }
          },
          "scene": {
           "xaxis": {
            "backgroundcolor": "#E5ECF6",
            "gridcolor": "white",
            "gridwidth": 2,
            "linecolor": "white",
            "showbackground": true,
            "ticks": "",
            "zerolinecolor": "white"
           },
           "yaxis": {
            "backgroundcolor": "#E5ECF6",
            "gridcolor": "white",
            "gridwidth": 2,
            "linecolor": "white",
            "showbackground": true,
            "ticks": "",
            "zerolinecolor": "white"
           },
           "zaxis": {
            "backgroundcolor": "#E5ECF6",
            "gridcolor": "white",
            "gridwidth": 2,
            "linecolor": "white",
            "showbackground": true,
            "ticks": "",
            "zerolinecolor": "white"
           }
          },
          "shapedefaults": {
           "line": {
            "color": "#2a3f5f"
           }
          },
          "ternary": {
           "aaxis": {
            "gridcolor": "white",
            "linecolor": "white",
            "ticks": ""
           },
           "baxis": {
            "gridcolor": "white",
            "linecolor": "white",
            "ticks": ""
           },
           "bgcolor": "#E5ECF6",
           "caxis": {
            "gridcolor": "white",
            "linecolor": "white",
            "ticks": ""
           }
          },
          "title": {
           "x": 0.05
          },
          "xaxis": {
           "automargin": true,
           "gridcolor": "white",
           "linecolor": "white",
           "ticks": "",
           "title": {
            "standoff": 15
           },
           "zerolinecolor": "white",
           "zerolinewidth": 2
          },
          "yaxis": {
           "automargin": true,
           "gridcolor": "white",
           "linecolor": "white",
           "ticks": "",
           "title": {
            "standoff": 15
           },
           "zerolinecolor": "white",
           "zerolinewidth": 2
          }
         }
        }
       }
      }
     },
     "metadata": {},
     "output_type": "display_data"
    }
   ],
   "source": [
    "fig.add_trace(go.Scatter3d(x=center['Intensidade_de_cor'],\n",
    "                        y = center[\"Alcool\"], z = center[\"Proline\"] ,mode = \"markers\",                      \n",
    "                            marker = dict(color = \"red\"),\n",
    "                        text = [0, 1, 2]))\n",
    "\n",
    "fig.show()"
   ]
  },
  {
   "cell_type": "markdown",
   "metadata": {},
   "source": [
    "Como pode notar as bolinhas vermelhas são os centros(0, 1, 2). Assim dá para percebermos que, por exemplo, o centro do cluster 1 está bem definido com três atributos, do cluster 2 e do cluster 3 já estão bem próximos, o que mostra que três atributos não são o suficiente para visualizamos bem a clusterização, mas já é melhor que dois. Ele dá uma ideia muito legal de como ficou."
   ]
  },
  {
   "cell_type": "code",
   "execution_count": 27,
   "metadata": {},
   "outputs": [
    {
     "data": {
      "text/plain": [
       "DBSCAN(eps=1.31, metric='manhattan', min_samples=15)"
      ]
     },
     "execution_count": 27,
     "metadata": {},
     "output_type": "execute_result"
    }
   ],
   "source": [
    "from sklearn.cluster import DBSCAN\n",
    "\n",
    "bundler = DBSCAN(eps = 1.31, min_samples = 15, metric = 'manhattan')\n",
    "bundler.fit(df)"
   ]
  },
  {
   "cell_type": "markdown",
   "metadata": {},
   "source": [
    "Usaremos agora outro agrupador é um outro algoritmo de clusterização bastante conhecido é um algoritmo chamado DBSCAN, que é a sigla em inglês para “agrupamento espacial baseado em densidade de aplicações com ruídos”."
   ]
  },
  {
   "cell_type": "markdown",
   "metadata": {},
   "source": [
    "Logo teremos que coloca alguns parametros \"eps = 1.31\", que significa a distância máxima entre dois pontos para que eles possam ser considerados vizinhos ou pertencentes ao mesmo cluster. Outra informação interessante que sera passada é o \"min_samples\" que é o número mínimo de pontos para que eu possa formar um cluster. Além disso sera necessario passa uma métrica de distância, em outras palvras uma forma de avaliar a distância entre os pontos. Nesse caso sera usado o 'manhattan'."
   ]
  },
  {
   "cell_type": "markdown",
   "metadata": {},
   "source": [
    "Após isso é so ver o \"bundler.labels_\""
   ]
  },
  {
   "cell_type": "code",
   "execution_count": 28,
   "metadata": {},
   "outputs": [
    {
     "data": {
      "text/plain": [
       "array([ 0,  0,  0,  0, -1,  0,  0,  0,  0,  0,  0,  0,  0, -1,  0,  0,  0,\n",
       "        0,  0,  0,  0,  0,  0,  0,  0, -1,  0,  0,  0,  0,  0,  0,  0,  0,\n",
       "        0,  0,  0,  0,  0, -1,  0, -1,  0, -1,  0, -1,  0,  0,  0,  0, -1,\n",
       "        0,  0,  0,  0,  0,  0,  0,  0, -1, -1, -1, -1, -1, -1, -1, -1,  1,\n",
       "       -1, -1, -1, -1, -1, -1, -1, -1, -1, -1, -1, -1, -1,  1, -1, -1, -1,\n",
       "        1, -1, -1, -1, -1,  1,  1, -1, -1, -1, -1, -1, -1, -1, -1, -1,  1,\n",
       "       -1,  1,  1, -1,  1,  1,  1, -1, -1, -1, -1, -1, -1, -1,  1,  1, -1,\n",
       "        1, -1, -1, -1, -1, -1,  1, -1, -1, -1, -1, -1,  2, -1,  2, -1,  2,\n",
       "       -1, -1,  2, -1, -1,  2, -1, -1,  2,  2, -1,  2,  2,  2, -1, -1, -1,\n",
       "        2, -1,  2,  2, -1, -1, -1,  2,  2,  2,  2,  2, -1,  2,  2,  2, -1,\n",
       "        2,  2,  2,  2,  2,  2,  2,  2], dtype=int64)"
      ]
     },
     "execution_count": 28,
     "metadata": {},
     "output_type": "execute_result"
    }
   ],
   "source": [
    "bundler.labels_"
   ]
  },
  {
   "cell_type": "markdown",
   "metadata": {},
   "source": [
    "Após isso é possivel perceber que o DBSCAN acresentou o número \"-1\", pois o DBSCAN é feito para **aplicações com ruido** ele considera que qualquer ponto que não esteja dentro dessa distância de 1.31, que é a máxima dos grupos, ele considera que isso é um ruído."
   ]
  },
  {
   "cell_type": "markdown",
   "metadata": {},
   "source": [
    "Logo teremos que coloca alguns parametros \"eps = 1.31\", que significa a distância máxima entre dois pontos para que eles possam ser considerados vizinhos ou pertencentes ao mesmo cluster. Outra informação interessante que sera passada é o \"min_samples\" que é o número mínimo de pontos para que eu possa formar um cluster. Além disso sera necessario passa uma métrica de distância, em outras palvras uma forma de avaliar a distância entre os pontos. Nesse caso sera usado o 'manhattan'."
   ]
  },
  {
   "cell_type": "code",
   "execution_count": 29,
   "metadata": {},
   "outputs": [
    {
     "data": {
      "text/plain": [
       "array([-1,  0,  1,  2], dtype=int64)"
      ]
     },
     "execution_count": 29,
     "metadata": {},
     "output_type": "execute_result"
    }
   ],
   "source": [
    "np.unique(bundler.labels_)"
   ]
  },
  {
   "cell_type": "markdown",
   "metadata": {},
   "source": [
    "Para vermos o número total de clusters foi ultilizado a função NumPy chama unique()"
   ]
  },
  {
   "cell_type": "markdown",
   "metadata": {},
   "source": [
    "Quando foi utilizados isso, percebe se que temos -1, 0, 1 e 2. É interessante que diferentemente do KMeans nós não passamos o número de cluster, o algoritmo automaticamente define quantos grupos ele acha que são necessários, respeitando essas duas regras que foram colocadas."
   ]
  },
  {
   "cell_type": "markdown",
   "metadata": {},
   "source": [
    "OBS: O eps, que é a distância máxima entre dois pontos, e o min_samples, que é 15, que é o número mínimo de amostras para um grupo.\n",
    "\n",
    "Umaa grande dificuldade do DBSCAN, muitas vezes é definir o eps e min_samples, porque varia bastante de acordo com a densidade dos dados."
   ]
  },
  {
   "cell_type": "code",
   "execution_count": 30,
   "metadata": {},
   "outputs": [
    {
     "data": {
      "text/plain": [
       "array([ 0,  0,  0,  0,  0,  0,  0,  0,  0,  0,  0,  0,  0,  0,  0,  0,  0,\n",
       "        0,  0,  0,  0,  0,  0,  0,  0, -1,  0,  0,  0,  0,  0,  0,  0,  0,\n",
       "        0,  0,  0,  0,  0,  0,  0,  0,  0,  0,  0,  0,  0,  0,  0,  0, -1,\n",
       "        0,  0,  0,  0,  0,  0,  0,  0, -1, -1, -1,  1,  1,  1,  1, -1,  1,\n",
       "       -1, -1, -1, -1,  1, -1, -1,  1,  1,  1, -1, -1,  1,  1,  1, -1,  1,\n",
       "        1,  1,  1,  1,  1,  1,  1,  1,  1,  1, -1, -1,  1,  1, -1,  1,  1,\n",
       "        1,  1,  1,  1,  1,  1,  1, -1, -1,  1, -1,  1,  1, -1,  1,  1, -1,\n",
       "        1,  1, -1,  1, -1, -1,  1,  1,  1,  1,  1, -1,  2,  2,  2,  2,  2,\n",
       "        2,  2,  2, -1,  2,  2,  2,  2,  2,  2,  2,  2,  2,  2,  2,  2, -1,\n",
       "        2,  2,  2,  2,  2, -1, -1,  2,  2,  2,  2,  2,  2,  2,  2,  2,  2,\n",
       "        2,  2,  2,  2,  2,  2,  2,  2], dtype=int64)"
      ]
     },
     "execution_count": 30,
     "metadata": {},
     "output_type": "execute_result"
    }
   ],
   "source": [
    "bundler = DBSCAN(eps = 1.5, min_samples = 15, metric = 'manhattan')\n",
    "bundler.fit(df)\n",
    "bundler.labels_"
   ]
  },
  {
   "cell_type": "markdown",
   "metadata": {},
   "source": [
    " Lembrando: a distância de 'manhattan', basicamente é uma distância que vai sempre seguindo em linha reta, linhas horizontais e linhas verticais. Se eu mudar isso aqui para distância euclidiana vamos ver o que acontece, euclidean de distância euclidiana."
   ]
  },
  {
   "cell_type": "code",
   "execution_count": 31,
   "metadata": {},
   "outputs": [],
   "source": [
    "#bundler = DBSCAN(eps = 1.5, min_samples = 15, metric = 'euclidean')\n",
    "#bundler.fit(df)\n",
    "#bundler.labels_"
   ]
  },
  {
   "cell_type": "markdown",
   "metadata": {},
   "source": [
    "bem diferente da 'manhattan'. Se nós lembrarmos da manhattan vai ter apenas dois clusters. Se for colocado a distância euclidean, o que acontece? Temos apenas um cluster, ou seja, a métrica de distância importa muito. Porque ela influência em como eu avalio o eps."
   ]
  },
  {
   "cell_type": "markdown",
   "metadata": {},
   "source": [
    "OBS: **O eps é sempre calculado em cima de uma métrica de distância.** A métrica de distância é extremamente importante na hora da minha clusterização.\n",
    "\n",
    "Repare que como todos os nossos pontos ficaram no mesmo cluster, significa que o nosso eps está muito grande."
   ]
  },
  {
   "cell_type": "markdown",
   "metadata": {},
   "source": []
  },
  {
   "cell_type": "markdown",
   "metadata": {},
   "source": [
    "Se for colocar um número de eps menor por ecemplo 0.7"
   ]
  },
  {
   "cell_type": "code",
   "execution_count": 32,
   "metadata": {},
   "outputs": [],
   "source": [
    "#bundler = DBSCAN(eps = 0.7, min_samples = 15, metric = 'euclidean')\n",
    "#bundler.fit(df)\n",
    "#bundler.labels_"
   ]
  },
  {
   "cell_type": "markdown",
   "metadata": {},
   "source": [
    "Se for colocar 0.5, teremos dois clusters e ruído. Uma situação um pouco semelhante a qual estávamos antes."
   ]
  },
  {
   "cell_type": "code",
   "execution_count": 33,
   "metadata": {},
   "outputs": [],
   "source": [
    "#bundler = DBSCAN(eps = 0.5, min_samples = 15, metric = 'euclidean')\n",
    "#bundler.fit(df)\n",
    "#bundler.labels_"
   ]
  },
  {
   "cell_type": "markdown",
   "metadata": {},
   "source": [
    "OBS:Basicamente, o que nós pudemos perceber através disso? O eps e o min_samples variam de maneira inversamente proporcional, ou seja, o efeito que eu causo aumentando o eps é o mesmo efeito que eu causo diminuindo o min_samples. O efeito que eu causo aumentando o min_samples é o mesmo efeito que eu causo diminuindo o eps."
   ]
  },
  {
   "cell_type": "markdown",
   "metadata": {},
   "source": [
    "A métrica de distância influencia bastante. Por quê? Porque ela influencia na forma como eu calculo o eps."
   ]
  },
  {
   "cell_type": "markdown",
   "metadata": {},
   "source": [
    "Outras metricas que podem ser ultilizadas são: Do scikit-learn: [‘cityblock’, ‘cosine’, ‘euclidean’, ‘l1’, ‘l2’, ‘manhattan’]"
   ]
  },
  {
   "cell_type": "code",
   "execution_count": 34,
   "metadata": {},
   "outputs": [],
   "source": [
    "from sklearn.cluster import MeanShift\n"
   ]
  },
  {
   "cell_type": "code",
   "execution_count": 35,
   "metadata": {},
   "outputs": [
    {
     "data": {
      "text/plain": [
       "array([0, 0, 0, 0, 0, 0, 0, 0, 0, 0, 0, 0, 0, 0, 0, 0, 0, 0, 0, 0, 0, 0,\n",
       "       0, 0, 0, 0, 0, 0, 0, 0, 0, 0, 0, 0, 0, 0, 0, 0, 0, 0, 0, 0, 0, 0,\n",
       "       0, 0, 0, 0, 0, 0, 0, 0, 0, 0, 0, 0, 0, 0, 0, 0, 0, 0, 0, 0, 0, 0,\n",
       "       0, 0, 0, 0, 0, 0, 0, 0, 0, 0, 0, 0, 0, 0, 0, 0, 0, 0, 0, 0, 0, 0,\n",
       "       0, 0, 0, 0, 0, 0, 0, 0, 0, 0, 0, 0, 0, 0, 0, 0, 0, 0, 0, 0, 0, 0,\n",
       "       0, 0, 0, 0, 0, 0, 0, 0, 0, 0, 0, 1, 0, 0, 0, 0, 0, 0, 0, 0, 0, 0,\n",
       "       0, 0, 0, 0, 0, 0, 0, 0, 0, 0, 0, 0, 0, 0, 0, 0, 0, 0, 0, 0, 0, 0,\n",
       "       0, 0, 0, 0, 0, 0, 0, 0, 0, 0, 0, 0, 0, 0, 0, 0, 0, 0, 0, 0, 0, 0,\n",
       "       0, 0], dtype=int64)"
      ]
     },
     "execution_count": 35,
     "metadata": {},
     "output_type": "execute_result"
    }
   ],
   "source": [
    "bundler = MeanShift()\n",
    "bundler.fit(df)\n",
    "bundler.labels_"
   ]
  },
  {
   "cell_type": "markdown",
   "metadata": {},
   "source": [
    "Todos os nossos clurster foram agrupados "
   ]
  },
  {
   "cell_type": "code",
   "execution_count": 36,
   "metadata": {},
   "outputs": [],
   "source": [
    "from sklearn.cluster import estimate_bandwidth"
   ]
  },
  {
   "cell_type": "code",
   "execution_count": 37,
   "metadata": {},
   "outputs": [
    {
     "data": {
      "text/plain": [
       "array([0, 0, 0, 0, 0, 0, 0, 0, 0, 0, 0, 0, 0, 0, 0, 0, 0, 0, 0, 0, 0, 0,\n",
       "       0, 0, 0, 0, 0, 0, 0, 0, 0, 0, 0, 0, 0, 0, 0, 0, 0, 0, 0, 0, 0, 0,\n",
       "       0, 0, 0, 0, 0, 0, 0, 0, 0, 0, 0, 0, 0, 0, 0, 0, 0, 0, 0, 0, 0, 0,\n",
       "       0, 0, 0, 0, 0, 0, 0, 0, 0, 0, 0, 0, 0, 0, 0, 0, 0, 0, 0, 0, 0, 0,\n",
       "       0, 0, 0, 0, 0, 0, 0, 0, 0, 0, 0, 0, 0, 0, 0, 0, 0, 0, 0, 0, 0, 0,\n",
       "       0, 0, 0, 0, 0, 0, 0, 0, 0, 0, 0, 1, 0, 0, 0, 0, 0, 0, 0, 0, 0, 0,\n",
       "       0, 0, 0, 0, 0, 0, 0, 0, 0, 0, 0, 0, 0, 0, 0, 0, 0, 0, 0, 0, 0, 0,\n",
       "       0, 0, 0, 0, 0, 0, 0, 0, 0, 0, 0, 0, 0, 0, 0, 0, 0, 0, 0, 0, 0, 0,\n",
       "       0, 0], dtype=int64)"
      ]
     },
     "execution_count": 37,
     "metadata": {},
     "output_type": "execute_result"
    }
   ],
   "source": [
    "BW = estimate_bandwidth(df, quantile= 0.2)\n",
    "bundler = MeanShift()\n",
    "bundler.fit(df)\n",
    "bundler.labels_"
   ]
  },
  {
   "cell_type": "markdown",
   "metadata": {},
   "source": [
    "Ajustando o agrupamento dos clusters"
   ]
  },
  {
   "cell_type": "code",
   "execution_count": 38,
   "metadata": {},
   "outputs": [
    {
     "data": {
      "application/vnd.plotly.v1+json": {
       "config": {
        "plotlyServerURL": "https://plot.ly"
       },
       "data": [
        {
         "marker": {
          "color": [
           0,
           0,
           0,
           0,
           0,
           0,
           0,
           0,
           0,
           0,
           0,
           0,
           0,
           0,
           0,
           0,
           0,
           0,
           0,
           0,
           0,
           0,
           0,
           0,
           0,
           0,
           0,
           0,
           0,
           0,
           0,
           0,
           0,
           0,
           0,
           0,
           0,
           0,
           0,
           0,
           0,
           0,
           0,
           0,
           0,
           0,
           0,
           0,
           0,
           0,
           0,
           0,
           0,
           0,
           0,
           0,
           0,
           0,
           0,
           1,
           1,
           1,
           1,
           1,
           1,
           1,
           1,
           1,
           1,
           1,
           1,
           1,
           1,
           0,
           1,
           1,
           1,
           1,
           1,
           1,
           1,
           1,
           1,
           2,
           1,
           1,
           1,
           1,
           1,
           1,
           1,
           1,
           1,
           1,
           1,
           1,
           1,
           1,
           1,
           1,
           1,
           1,
           1,
           1,
           1,
           1,
           1,
           1,
           1,
           1,
           1,
           1,
           1,
           1,
           1,
           1,
           1,
           1,
           1,
           1,
           1,
           1,
           1,
           1,
           1,
           1,
           1,
           1,
           1,
           1,
           2,
           2,
           2,
           2,
           2,
           2,
           2,
           2,
           2,
           2,
           2,
           2,
           2,
           2,
           2,
           2,
           2,
           2,
           2,
           2,
           2,
           2,
           2,
           2,
           2,
           2,
           2,
           2,
           2,
           2,
           2,
           2,
           2,
           2,
           2,
           2,
           2,
           2,
           2,
           2,
           2,
           2,
           2,
           2,
           2,
           2,
           2,
           2
          ]
         },
         "mode": "markers",
         "text": [
          0,
          0,
          0,
          0,
          0,
          0,
          0,
          0,
          0,
          0,
          0,
          0,
          0,
          0,
          0,
          0,
          0,
          0,
          0,
          0,
          0,
          0,
          0,
          0,
          0,
          0,
          0,
          0,
          0,
          0,
          0,
          0,
          0,
          0,
          0,
          0,
          0,
          0,
          0,
          0,
          0,
          0,
          0,
          0,
          0,
          0,
          0,
          0,
          0,
          0,
          0,
          0,
          0,
          0,
          0,
          0,
          0,
          0,
          0,
          1,
          1,
          1,
          1,
          1,
          1,
          1,
          1,
          1,
          1,
          1,
          1,
          1,
          1,
          0,
          1,
          1,
          1,
          1,
          1,
          1,
          1,
          1,
          1,
          2,
          1,
          1,
          1,
          1,
          1,
          1,
          1,
          1,
          1,
          1,
          1,
          1,
          1,
          1,
          1,
          1,
          1,
          1,
          1,
          1,
          1,
          1,
          1,
          1,
          1,
          1,
          1,
          1,
          1,
          1,
          1,
          1,
          1,
          1,
          1,
          1,
          1,
          1,
          1,
          1,
          1,
          1,
          1,
          1,
          1,
          1,
          2,
          2,
          2,
          2,
          2,
          2,
          2,
          2,
          2,
          2,
          2,
          2,
          2,
          2,
          2,
          2,
          2,
          2,
          2,
          2,
          2,
          2,
          2,
          2,
          2,
          2,
          2,
          2,
          2,
          2,
          2,
          2,
          2,
          2,
          2,
          2,
          2,
          2,
          2,
          2,
          2,
          2,
          2,
          2,
          2,
          2,
          2,
          2
         ],
         "type": "scatter3d",
         "x": [
          0.37201365187713314,
          0.2645051194539249,
          0.37542662116040953,
          0.5563139931740615,
          0.25938566552901027,
          0.46672354948805467,
          0.33873720136518776,
          0.3216723549488055,
          0.3344709897610922,
          0.506825938566553,
          0.38139931740614336,
          0.3174061433447099,
          0.36860068259385664,
          0.35153583617747447,
          0.5307167235494882,
          0.5136518771331059,
          0.4197952218430035,
          0.45392491467576795,
          0.6331058020477816,
          0.32593856655290104,
          0.3728668941979523,
          0.2747440273037543,
          0.21501706484641636,
          0.22610921501706488,
          0.19112627986348124,
          0.19624573378839594,
          0.3003412969283276,
          0.22781569965870307,
          0.2747440273037543,
          0.2918088737201366,
          0.3771331058020478,
          0.4795221843003414,
          0.2184300341296928,
          0.35153583617747447,
          0.24914675767918093,
          0.32593856655290104,
          0.28327645051194544,
          0.25341296928327645,
          0.20648464163822527,
          0.32593856655290104,
          0.4138225255972697,
          0.2559726962457339,
          0.3540955631399318,
          0.26279863481228677,
          0.3208191126279864,
          0.3378839590443687,
          0.30887372013651887,
          0.41126279863481235,
          0.4197952218430035,
          0.650170648464164,
          0.5051194539249148,
          0.36860068259385664,
          0.492320819112628,
          0.4283276450511945,
          0.3899317406143345,
          0.42406143344709907,
          0.43515358361774753,
          0.4027303754266212,
          0.47098976109215024,
          0.05716723549488054,
          0.16979522184300344,
          0.38139931740614336,
          0.21501706484641636,
          0.27047781569965873,
          0.14249146757679182,
          0.28327645051194544,
          0.34300341296928333,
          0.29010238907849834,
          0.1612627986348123,
          0.1339590443686007,
          0.15102389078498296,
          0.17918088737201365,
          0.20989761092150172,
          0.17662116040955633,
          0.16467576791808874,
          0.21501706484641636,
          0.28327645051194544,
          0.11689419795221843,
          0.1808873720136519,
          0.11006825938566552,
          0.10409556313993175,
          0.2235494880546075,
          0.07849829351535838,
          0.3003412969283276,
          0.15102389078498296,
          0.11433447098976111,
          0.0998293515358362,
          0.11262798634812289,
          0.12969283276450513,
          0.03924914675767919,
          0.0955631399317406,
          0.19795221843003413,
          0.15102389078498296,
          0.0742320819112628,
          0.1680887372013652,
          0.11262798634812289,
          0.10409556313993175,
          0.13822525597269625,
          0.2747440273037543,
          0.08703071672354949,
          0.17235494880546076,
          0.0998293515358362,
          0.12969283276450513,
          0.06655290102389079,
          0.1416382252559727,
          0.121160409556314,
          0.1808873720136519,
          0.17235494880546076,
          0.121160409556314,
          0.11689419795221843,
          0.13822525597269625,
          0.061433447098976114,
          0.21501706484641636,
          0.15358361774744028,
          0.13822525597269625,
          0.05290102389078497,
          0.05716723549488054,
          0.06655290102389079,
          0.1808873720136519,
          0,
          0.1680887372013652,
          0.4027303754266212,
          0.06825938566552904,
          0.11262798634812289,
          0.12969283276450513,
          0.12627986348122866,
          0.22696245733788395,
          0.1467576791808874,
          0.07167235494880549,
          0.11262798634812289,
          0.24061433447098973,
          0.35153583617747447,
          0.3771331058020478,
          0.3174061433447099,
          0.35580204778157004,
          0.49658703071672355,
          0.219283276450512,
          0.3174061433447099,
          0.3771331058020478,
          0.310580204778157,
          0.28327645051194544,
          0.36860068259385664,
          0.2619453924914676,
          0.26621160409556316,
          0.5912969283276452,
          0.23208191126279865,
          0.30887372013651887,
          0.5435153583617749,
          0.6092150170648465,
          0.6928327645051195,
          0.6245733788395905,
          0.8122866894197953,
          0.49658703071672355,
          0.7883959044368601,
          0.5392491467576792,
          0.5648464163822526,
          0.6595563139931742,
          0.5307167235494882,
          1,
          0.8933447098976111,
          0.5435153583617749,
          0.3924914675767918,
          0.3668941979522185,
          0.3412969283276451,
          0.7081911262798636,
          0.4556313993174062,
          0.8020477815699659,
          0.7662116040955632,
          0.6296928327645053,
          0.6160409556313994,
          0.3600682593856656,
          0.735494795221843,
          0.7184300341296929,
          0.5477815699658705,
          0.5136518771331059,
          0.7610921501706485,
          0.6843003412969285,
          0.6757679180887373
         ],
         "y": [
          0.8421052631578951,
          0.5710526315789473,
          0.560526315789474,
          0.8789473684210525,
          0.5815789473684214,
          0.8342105263157893,
          0.8842105263157896,
          0.797368421052632,
          1,
          0.7447368421052629,
          0.8078947368421052,
          0.8131578947368419,
          0.7157894736842105,
          0.9789473684210526,
          0.8815789473684212,
          0.6842105263157898,
          0.8605263157894738,
          0.736842105263158,
          0.831578947368421,
          0.6868421052631581,
          0.797368421052632,
          0.5,
          0.7052631578947373,
          0.47894736842105257,
          0.6499999999999999,
          0.5315789473684216,
          0.6210526315789475,
          0.5973684210526318,
          0.7473684210526317,
          0.7868421052631578,
          0.7105263157894739,
          0.6710526315789473,
          0.6973684210526314,
          0.7184210526315788,
          0.6526315789473687,
          0.6447368421052633,
          0.5921052631578947,
          0.5315789473684216,
          0.5368421052631582,
          0.8394736842105264,
          0.6657894736842107,
          0.6263157894736846,
          0.7500000000000004,
          0.5815789473684214,
          0.5315789473684216,
          0.836842105263158,
          0.8815789473684212,
          0.7552631578947371,
          0.8078947368421052,
          0.7657894736842104,
          0.5315789473684216,
          0.736842105263158,
          0.7342105263157896,
          0.7210526315789472,
          0.7131578947368422,
          0.6657894736842107,
          0.8394736842105264,
          0.594736842105263,
          0.7078947368421056,
          0.3526315789473684,
          0.34210526315789513,
          0.4236842105263161,
          0.6947368421052631,
          0.3526315789473684,
          0.30000000000000027,
          0.3526315789473684,
          0.5473684210526315,
          0.3526315789473684,
          0.6078947368421055,
          0.310526315789474,
          0.331578947368421,
          0.7447368421052629,
          0.6473684210526316,
          0.5157894736842108,
          0.2447368421052638,
          0.1657894736842107,
          0.5263157894736841,
          0.2131578947368422,
          0.34210526315789513,
          0.43947368421052646,
          0.2552631578947371,
          0.44473684210526354,
          0.2763157894736845,
          0.5315789473684216,
          0.2131578947368422,
          0.43157894736842106,
          0.29736842105263195,
          0.1631578947368424,
          0.16052631578947407,
          0.2763157894736845,
          0.2763157894736845,
          0.2552631578947371,
          0.43684210526315814,
          0.331578947368421,
          0.155263157894737,
          0.3789473684210529,
          0.20526315789473726,
          0.331578947368421,
          0.3526315789473684,
          0.331578947368421,
          0.2763157894736845,
          0.4131578947368424,
          0.34473684210526345,
          0.20789473684210558,
          0.38947368421052664,
          0.3657894736842109,
          0.3210526315789477,
          0.44473684210526354,
          0.3131578947368423,
          0.15263157894736867,
          0.11315789473684257,
          0.39210526315789496,
          0.19210526315789478,
          0.10000000000000053,
          0.2763157894736845,
          0,
          0.20789473684210558,
          0.3657894736842109,
          0.45789473684210513,
          0.2552631578947371,
          0.1105263157894738,
          0.13947368421052664,
          0.3657894736842109,
          0.5315789473684216,
          0.2210526315789476,
          0.2736842105263162,
          0.3684210526315792,
          0.20000000000000018,
          0.3526315789473684,
          0.26578947368421035,
          0.4815789473684209,
          0.4868421052631584,
          0.4684210526315793,
          0.43947368421052646,
          0.38947368421052664,
          0.4131578947368424,
          0.3210526315789477,
          0.3947368421052633,
          0.6473684210526316,
          0.47631578947368425,
          0.5,
          0.6131578947368421,
          0.655263157894737,
          0.6815789473684211,
          0.3210526315789477,
          0.560526315789474,
          0.7500000000000004,
          0.48421052631578965,
          0.6026315789473689,
          0.5394736842105265,
          0.6499999999999999,
          0.4631578947368422,
          0.5473684210526315,
          0.5789473684210531,
          0.4078947368421053,
          0.5631578947368423,
          0.7394736842105263,
          0.37368421052631584,
          0.8710526315789475,
          0.6447368421052633,
          0.3500000000000001,
          0.7000000000000002,
          0.47894736842105257,
          0.5078947368421058,
          0.7236842105263159,
          0.7105263157894739,
          0.6368421052631579,
          0.4710526315789476,
          0.6710526315789473,
          0.6236842105263158,
          0.3078947368421052,
          0.45789473684210513,
          0.823684210526316,
          0.7052631578947373,
          0.6236842105263158,
          0.5894736842105264,
          0.5631578947368423,
          0.8157894736842106
         ],
         "z": [
          0.5613409415121255,
          0.5506419400855921,
          0.6469329529243938,
          0.8573466476462198,
          0.3259629101283881,
          0.8359486447931527,
          0.7218259629101285,
          0.725392296718973,
          0.5470756062767476,
          0.5470756062767476,
          0.8787446504992867,
          0.7146932952924394,
          0.7432239657631955,
          0.6219686162624822,
          0.9051355206847361,
          0.7360912981455064,
          0.7146932952924394,
          0.6077032810271041,
          1,
          0.40442225392296727,
          0.35805991440798857,
          0.35092724679029963,
          0.5399429386590585,
          0.5256776034236805,
          0.40442225392296727,
          0.3937232524964337,
          0.6540656205420827,
          0.7182596291012839,
          0.4543509272467904,
          0.5399429386590585,
          0.7182596291012839,
          0.8823109843081313,
          0.5078459343794579,
          0.6825962910128388,
          0.5827389443651926,
          0.4579172610556348,
          0.4293865905848788,
          0.5898716119828816,
          0.529243937232525,
          0.3437945791726106,
          0.36875891583452214,
          0.5399429386590585,
          0.5827389443651926,
          0.2867332382310984,
          0.43295292439372324,
          0.5720399429386591,
          0.5613409415121255,
          0.5042796005706135,
          0.557774607703281,
          0.7004279600570614,
          0.6219686162624822,
          0.7039942938659058,
          0.6504992867332383,
          0.782453637660485,
          0.557774607703281,
          0.6005706134094152,
          0.4935805991440799,
          0.7075606276747504,
          0.7182596291012839,
          0.17261055634807418,
          0.2867332382310984,
          0.12268188302425106,
          0.2510699001426534,
          0.10128388017118403,
          0.054921540656205386,
          0.2853067047075606,
          0.15977175463623397,
          0.1654778887303852,
          0.33666191155492153,
          0.31383737517831667,
          0.4222539229671898,
          0.09415121255349498,
          0.13837375178316688,
          0.5042796005706135,
          0.4336661911554922,
          0.10699001426533525,
          0.08131241084165478,
          0.15834522111269614,
          0.33666191155492153,
          0.1319543509272468,
          0,
          0.3109843081312411,
          0.2510699001426534,
          0.16904422253922965,
          0.17261055634807418,
          0.12268188302425106,
          0.15477888730385161,
          0.20256776034236804,
          0.2867332382310984,
          0.24750356633380885,
          0.1440798858773181,
          0.12268188302425106,
          0.15477888730385161,
          0.008559201141226797,
          0.047788873038516394,
          0.4700427960057062,
          0.24750356633380885,
          0.10699001426533525,
          0.27246790299572043,
          0.09129814550641938,
          0.30813124108416545,
          0.20256776034236804,
          0.11412268188302424,
          0.09771754636233951,
          0.2810271041369472,
          0.02639087018544936,
          0.1654778887303852,
          0.14978601997146931,
          0.02425106990014264,
          0.2867332382310984,
          0.20256776034236804,
          0.033523537803138354,
          0.23466476462196864,
          0.11126961483594863,
          0.07631954350927247,
          0.09201141226818829,
          0.15477888730385161,
          0.047788873038516394,
          0.06704707560627673,
          0.20399429386590587,
          0.24750356633380885,
          0.13338088445078458,
          0.062054208273894434,
          0.07275320970042795,
          0.07275320970042795,
          0.07132667617689017,
          0.052781740370898694,
          0.1340941512125535,
          0.0456490727532097,
          0.21540656205420824,
          0.2510699001426534,
          0.17974322396576317,
          0.20114122681883026,
          0.22967189728958629,
          0.2653352353780314,
          0.297432239657632,
          0.3152639087018545,
          0.16904422253922965,
          0.21540656205420824,
          0.2225392296718973,
          0.22967189728958629,
          0.35805991440798857,
          0.17261055634807418,
          0.1940085592011412,
          0.4115549215406562,
          0.3937232524964337,
          0.09771754636233951,
          0.24750356633380885,
          0.2653352353780314,
          0.1940085592011412,
          0.15834522111269614,
          0.1440798858773181,
          0.1048502139800285,
          0.2831669044222539,
          0.25820256776034234,
          0.318830242510699,
          0.1440798858773181,
          0.4293865905848788,
          0.27246790299572043,
          0.24393723252496433,
          0.17261055634807418,
          0.2867332382310984,
          0.20827389443651925,
          0.2831669044222539,
          0.2403708987161198,
          0.17261055634807418,
          0.297432239657632,
          0.29029957203994294,
          0.33666191155492153,
          0.2510699001426534,
          0.1654778887303852,
          0.1369472182596291,
          0.27246790299572043,
          0.3295292439372326,
          0.33666191155492153,
          0.3972895863052782,
          0.40085592011412274,
          0.20114122681883026
         ]
        }
       ],
       "layout": {
        "template": {
         "data": {
          "bar": [
           {
            "error_x": {
             "color": "#2a3f5f"
            },
            "error_y": {
             "color": "#2a3f5f"
            },
            "marker": {
             "line": {
              "color": "#E5ECF6",
              "width": 0.5
             },
             "pattern": {
              "fillmode": "overlay",
              "size": 10,
              "solidity": 0.2
             }
            },
            "type": "bar"
           }
          ],
          "barpolar": [
           {
            "marker": {
             "line": {
              "color": "#E5ECF6",
              "width": 0.5
             },
             "pattern": {
              "fillmode": "overlay",
              "size": 10,
              "solidity": 0.2
             }
            },
            "type": "barpolar"
           }
          ],
          "carpet": [
           {
            "aaxis": {
             "endlinecolor": "#2a3f5f",
             "gridcolor": "white",
             "linecolor": "white",
             "minorgridcolor": "white",
             "startlinecolor": "#2a3f5f"
            },
            "baxis": {
             "endlinecolor": "#2a3f5f",
             "gridcolor": "white",
             "linecolor": "white",
             "minorgridcolor": "white",
             "startlinecolor": "#2a3f5f"
            },
            "type": "carpet"
           }
          ],
          "choropleth": [
           {
            "colorbar": {
             "outlinewidth": 0,
             "ticks": ""
            },
            "type": "choropleth"
           }
          ],
          "contour": [
           {
            "colorbar": {
             "outlinewidth": 0,
             "ticks": ""
            },
            "colorscale": [
             [
              0,
              "#0d0887"
             ],
             [
              0.1111111111111111,
              "#46039f"
             ],
             [
              0.2222222222222222,
              "#7201a8"
             ],
             [
              0.3333333333333333,
              "#9c179e"
             ],
             [
              0.4444444444444444,
              "#bd3786"
             ],
             [
              0.5555555555555556,
              "#d8576b"
             ],
             [
              0.6666666666666666,
              "#ed7953"
             ],
             [
              0.7777777777777778,
              "#fb9f3a"
             ],
             [
              0.8888888888888888,
              "#fdca26"
             ],
             [
              1,
              "#f0f921"
             ]
            ],
            "type": "contour"
           }
          ],
          "contourcarpet": [
           {
            "colorbar": {
             "outlinewidth": 0,
             "ticks": ""
            },
            "type": "contourcarpet"
           }
          ],
          "heatmap": [
           {
            "colorbar": {
             "outlinewidth": 0,
             "ticks": ""
            },
            "colorscale": [
             [
              0,
              "#0d0887"
             ],
             [
              0.1111111111111111,
              "#46039f"
             ],
             [
              0.2222222222222222,
              "#7201a8"
             ],
             [
              0.3333333333333333,
              "#9c179e"
             ],
             [
              0.4444444444444444,
              "#bd3786"
             ],
             [
              0.5555555555555556,
              "#d8576b"
             ],
             [
              0.6666666666666666,
              "#ed7953"
             ],
             [
              0.7777777777777778,
              "#fb9f3a"
             ],
             [
              0.8888888888888888,
              "#fdca26"
             ],
             [
              1,
              "#f0f921"
             ]
            ],
            "type": "heatmap"
           }
          ],
          "heatmapgl": [
           {
            "colorbar": {
             "outlinewidth": 0,
             "ticks": ""
            },
            "colorscale": [
             [
              0,
              "#0d0887"
             ],
             [
              0.1111111111111111,
              "#46039f"
             ],
             [
              0.2222222222222222,
              "#7201a8"
             ],
             [
              0.3333333333333333,
              "#9c179e"
             ],
             [
              0.4444444444444444,
              "#bd3786"
             ],
             [
              0.5555555555555556,
              "#d8576b"
             ],
             [
              0.6666666666666666,
              "#ed7953"
             ],
             [
              0.7777777777777778,
              "#fb9f3a"
             ],
             [
              0.8888888888888888,
              "#fdca26"
             ],
             [
              1,
              "#f0f921"
             ]
            ],
            "type": "heatmapgl"
           }
          ],
          "histogram": [
           {
            "marker": {
             "pattern": {
              "fillmode": "overlay",
              "size": 10,
              "solidity": 0.2
             }
            },
            "type": "histogram"
           }
          ],
          "histogram2d": [
           {
            "colorbar": {
             "outlinewidth": 0,
             "ticks": ""
            },
            "colorscale": [
             [
              0,
              "#0d0887"
             ],
             [
              0.1111111111111111,
              "#46039f"
             ],
             [
              0.2222222222222222,
              "#7201a8"
             ],
             [
              0.3333333333333333,
              "#9c179e"
             ],
             [
              0.4444444444444444,
              "#bd3786"
             ],
             [
              0.5555555555555556,
              "#d8576b"
             ],
             [
              0.6666666666666666,
              "#ed7953"
             ],
             [
              0.7777777777777778,
              "#fb9f3a"
             ],
             [
              0.8888888888888888,
              "#fdca26"
             ],
             [
              1,
              "#f0f921"
             ]
            ],
            "type": "histogram2d"
           }
          ],
          "histogram2dcontour": [
           {
            "colorbar": {
             "outlinewidth": 0,
             "ticks": ""
            },
            "colorscale": [
             [
              0,
              "#0d0887"
             ],
             [
              0.1111111111111111,
              "#46039f"
             ],
             [
              0.2222222222222222,
              "#7201a8"
             ],
             [
              0.3333333333333333,
              "#9c179e"
             ],
             [
              0.4444444444444444,
              "#bd3786"
             ],
             [
              0.5555555555555556,
              "#d8576b"
             ],
             [
              0.6666666666666666,
              "#ed7953"
             ],
             [
              0.7777777777777778,
              "#fb9f3a"
             ],
             [
              0.8888888888888888,
              "#fdca26"
             ],
             [
              1,
              "#f0f921"
             ]
            ],
            "type": "histogram2dcontour"
           }
          ],
          "mesh3d": [
           {
            "colorbar": {
             "outlinewidth": 0,
             "ticks": ""
            },
            "type": "mesh3d"
           }
          ],
          "parcoords": [
           {
            "line": {
             "colorbar": {
              "outlinewidth": 0,
              "ticks": ""
             }
            },
            "type": "parcoords"
           }
          ],
          "pie": [
           {
            "automargin": true,
            "type": "pie"
           }
          ],
          "scatter": [
           {
            "marker": {
             "colorbar": {
              "outlinewidth": 0,
              "ticks": ""
             }
            },
            "type": "scatter"
           }
          ],
          "scatter3d": [
           {
            "line": {
             "colorbar": {
              "outlinewidth": 0,
              "ticks": ""
             }
            },
            "marker": {
             "colorbar": {
              "outlinewidth": 0,
              "ticks": ""
             }
            },
            "type": "scatter3d"
           }
          ],
          "scattercarpet": [
           {
            "marker": {
             "colorbar": {
              "outlinewidth": 0,
              "ticks": ""
             }
            },
            "type": "scattercarpet"
           }
          ],
          "scattergeo": [
           {
            "marker": {
             "colorbar": {
              "outlinewidth": 0,
              "ticks": ""
             }
            },
            "type": "scattergeo"
           }
          ],
          "scattergl": [
           {
            "marker": {
             "colorbar": {
              "outlinewidth": 0,
              "ticks": ""
             }
            },
            "type": "scattergl"
           }
          ],
          "scattermapbox": [
           {
            "marker": {
             "colorbar": {
              "outlinewidth": 0,
              "ticks": ""
             }
            },
            "type": "scattermapbox"
           }
          ],
          "scatterpolar": [
           {
            "marker": {
             "colorbar": {
              "outlinewidth": 0,
              "ticks": ""
             }
            },
            "type": "scatterpolar"
           }
          ],
          "scatterpolargl": [
           {
            "marker": {
             "colorbar": {
              "outlinewidth": 0,
              "ticks": ""
             }
            },
            "type": "scatterpolargl"
           }
          ],
          "scatterternary": [
           {
            "marker": {
             "colorbar": {
              "outlinewidth": 0,
              "ticks": ""
             }
            },
            "type": "scatterternary"
           }
          ],
          "surface": [
           {
            "colorbar": {
             "outlinewidth": 0,
             "ticks": ""
            },
            "colorscale": [
             [
              0,
              "#0d0887"
             ],
             [
              0.1111111111111111,
              "#46039f"
             ],
             [
              0.2222222222222222,
              "#7201a8"
             ],
             [
              0.3333333333333333,
              "#9c179e"
             ],
             [
              0.4444444444444444,
              "#bd3786"
             ],
             [
              0.5555555555555556,
              "#d8576b"
             ],
             [
              0.6666666666666666,
              "#ed7953"
             ],
             [
              0.7777777777777778,
              "#fb9f3a"
             ],
             [
              0.8888888888888888,
              "#fdca26"
             ],
             [
              1,
              "#f0f921"
             ]
            ],
            "type": "surface"
           }
          ],
          "table": [
           {
            "cells": {
             "fill": {
              "color": "#EBF0F8"
             },
             "line": {
              "color": "white"
             }
            },
            "header": {
             "fill": {
              "color": "#C8D4E3"
             },
             "line": {
              "color": "white"
             }
            },
            "type": "table"
           }
          ]
         },
         "layout": {
          "annotationdefaults": {
           "arrowcolor": "#2a3f5f",
           "arrowhead": 0,
           "arrowwidth": 1
          },
          "autotypenumbers": "strict",
          "coloraxis": {
           "colorbar": {
            "outlinewidth": 0,
            "ticks": ""
           }
          },
          "colorscale": {
           "diverging": [
            [
             0,
             "#8e0152"
            ],
            [
             0.1,
             "#c51b7d"
            ],
            [
             0.2,
             "#de77ae"
            ],
            [
             0.3,
             "#f1b6da"
            ],
            [
             0.4,
             "#fde0ef"
            ],
            [
             0.5,
             "#f7f7f7"
            ],
            [
             0.6,
             "#e6f5d0"
            ],
            [
             0.7,
             "#b8e186"
            ],
            [
             0.8,
             "#7fbc41"
            ],
            [
             0.9,
             "#4d9221"
            ],
            [
             1,
             "#276419"
            ]
           ],
           "sequential": [
            [
             0,
             "#0d0887"
            ],
            [
             0.1111111111111111,
             "#46039f"
            ],
            [
             0.2222222222222222,
             "#7201a8"
            ],
            [
             0.3333333333333333,
             "#9c179e"
            ],
            [
             0.4444444444444444,
             "#bd3786"
            ],
            [
             0.5555555555555556,
             "#d8576b"
            ],
            [
             0.6666666666666666,
             "#ed7953"
            ],
            [
             0.7777777777777778,
             "#fb9f3a"
            ],
            [
             0.8888888888888888,
             "#fdca26"
            ],
            [
             1,
             "#f0f921"
            ]
           ],
           "sequentialminus": [
            [
             0,
             "#0d0887"
            ],
            [
             0.1111111111111111,
             "#46039f"
            ],
            [
             0.2222222222222222,
             "#7201a8"
            ],
            [
             0.3333333333333333,
             "#9c179e"
            ],
            [
             0.4444444444444444,
             "#bd3786"
            ],
            [
             0.5555555555555556,
             "#d8576b"
            ],
            [
             0.6666666666666666,
             "#ed7953"
            ],
            [
             0.7777777777777778,
             "#fb9f3a"
            ],
            [
             0.8888888888888888,
             "#fdca26"
            ],
            [
             1,
             "#f0f921"
            ]
           ]
          },
          "colorway": [
           "#636efa",
           "#EF553B",
           "#00cc96",
           "#ab63fa",
           "#FFA15A",
           "#19d3f3",
           "#FF6692",
           "#B6E880",
           "#FF97FF",
           "#FECB52"
          ],
          "font": {
           "color": "#2a3f5f"
          },
          "geo": {
           "bgcolor": "white",
           "lakecolor": "white",
           "landcolor": "#E5ECF6",
           "showlakes": true,
           "showland": true,
           "subunitcolor": "white"
          },
          "hoverlabel": {
           "align": "left"
          },
          "hovermode": "closest",
          "mapbox": {
           "style": "light"
          },
          "paper_bgcolor": "white",
          "plot_bgcolor": "#E5ECF6",
          "polar": {
           "angularaxis": {
            "gridcolor": "white",
            "linecolor": "white",
            "ticks": ""
           },
           "bgcolor": "#E5ECF6",
           "radialaxis": {
            "gridcolor": "white",
            "linecolor": "white",
            "ticks": ""
           }
          },
          "scene": {
           "xaxis": {
            "backgroundcolor": "#E5ECF6",
            "gridcolor": "white",
            "gridwidth": 2,
            "linecolor": "white",
            "showbackground": true,
            "ticks": "",
            "zerolinecolor": "white"
           },
           "yaxis": {
            "backgroundcolor": "#E5ECF6",
            "gridcolor": "white",
            "gridwidth": 2,
            "linecolor": "white",
            "showbackground": true,
            "ticks": "",
            "zerolinecolor": "white"
           },
           "zaxis": {
            "backgroundcolor": "#E5ECF6",
            "gridcolor": "white",
            "gridwidth": 2,
            "linecolor": "white",
            "showbackground": true,
            "ticks": "",
            "zerolinecolor": "white"
           }
          },
          "shapedefaults": {
           "line": {
            "color": "#2a3f5f"
           }
          },
          "ternary": {
           "aaxis": {
            "gridcolor": "white",
            "linecolor": "white",
            "ticks": ""
           },
           "baxis": {
            "gridcolor": "white",
            "linecolor": "white",
            "ticks": ""
           },
           "bgcolor": "#E5ECF6",
           "caxis": {
            "gridcolor": "white",
            "linecolor": "white",
            "ticks": ""
           }
          },
          "title": {
           "x": 0.05
          },
          "xaxis": {
           "automargin": true,
           "gridcolor": "white",
           "linecolor": "white",
           "ticks": "",
           "title": {
            "standoff": 15
           },
           "zerolinecolor": "white",
           "zerolinewidth": 2
          },
          "yaxis": {
           "automargin": true,
           "gridcolor": "white",
           "linecolor": "white",
           "ticks": "",
           "title": {
            "standoff": 15
           },
           "zerolinecolor": "white",
           "zerolinewidth": 2
          }
         }
        }
       }
      }
     },
     "metadata": {},
     "output_type": "display_data"
    }
   ],
   "source": [
    "fig = go.Figure()\n",
    "fig.add_trace(go.Scatter3d(x = df['Intensidade_de_cor'], \n",
    "                           y = df['Alcool'], \n",
    "                           z = df['Proline'], \n",
    "                           mode = 'markers', \n",
    "                           marker = dict(color = labels.astype(float)), \n",
    "                           text = labels))\n",
    "\n",
    "fig.show()"
   ]
  },
  {
   "cell_type": "code",
   "execution_count": 39,
   "metadata": {},
   "outputs": [],
   "source": [
    "from sklearn.metrics import silhouette_samples, silhouette_score"
   ]
  },
  {
   "cell_type": "code",
   "execution_count": 40,
   "metadata": {},
   "outputs": [
    {
     "name": "stdout",
     "output_type": "stream",
     "text": [
      "[2, 3, 4, 5, 6, 7, 8, 9]\n"
     ]
    }
   ],
   "source": [
    "range_not_clusters = [i for i in range(2,10)]\n",
    "print(range_not_clusters)"
   ]
  },
  {
   "cell_type": "markdown",
   "metadata": {},
   "source": [
    "criamos uma linha de codigo para variar o numero de clusters"
   ]
  },
  {
   "cell_type": "code",
   "execution_count": 41,
   "metadata": {},
   "outputs": [],
   "source": [
    "from sklearn.cluster import KMeans"
   ]
  },
  {
   "cell_type": "code",
   "execution_count": 42,
   "metadata": {},
   "outputs": [],
   "source": [
    "silhouette_values = []\n",
    "for k in range_not_clusters:\n",
    "    bundler = KMeans(n_clusters=k) \n",
    "    labels = bundler.fit_predict(df)\n",
    "    silhouette_average = silhouette_score(df, labels)\n",
    "    silhouette_values.append(silhouette_average)\n"
   ]
  },
  {
   "cell_type": "markdown",
   "metadata": {},
   "source": [
    "OBS:O silhouette_score nos devolve o valor da média do coeficiente de silhueta médio das nossas amostras"
   ]
  },
  {
   "cell_type": "code",
   "execution_count": 43,
   "metadata": {},
   "outputs": [
    {
     "data": {
      "application/vnd.plotly.v1+json": {
       "config": {
        "plotlyServerURL": "https://plot.ly"
       },
       "data": [
        {
         "type": "scatter",
         "x": [
          2,
          3,
          4,
          5,
          6,
          7,
          8,
          9
         ],
         "y": [
          0.34459725087706367,
          0.36950618492736303,
          0.3044798706404522,
          0.2939313755513785,
          0.24808281796895604,
          0.14367621176911033,
          0.1642507276748383,
          0.138195932727994
         ]
        }
       ],
       "layout": {
        "template": {
         "data": {
          "bar": [
           {
            "error_x": {
             "color": "#2a3f5f"
            },
            "error_y": {
             "color": "#2a3f5f"
            },
            "marker": {
             "line": {
              "color": "#E5ECF6",
              "width": 0.5
             },
             "pattern": {
              "fillmode": "overlay",
              "size": 10,
              "solidity": 0.2
             }
            },
            "type": "bar"
           }
          ],
          "barpolar": [
           {
            "marker": {
             "line": {
              "color": "#E5ECF6",
              "width": 0.5
             },
             "pattern": {
              "fillmode": "overlay",
              "size": 10,
              "solidity": 0.2
             }
            },
            "type": "barpolar"
           }
          ],
          "carpet": [
           {
            "aaxis": {
             "endlinecolor": "#2a3f5f",
             "gridcolor": "white",
             "linecolor": "white",
             "minorgridcolor": "white",
             "startlinecolor": "#2a3f5f"
            },
            "baxis": {
             "endlinecolor": "#2a3f5f",
             "gridcolor": "white",
             "linecolor": "white",
             "minorgridcolor": "white",
             "startlinecolor": "#2a3f5f"
            },
            "type": "carpet"
           }
          ],
          "choropleth": [
           {
            "colorbar": {
             "outlinewidth": 0,
             "ticks": ""
            },
            "type": "choropleth"
           }
          ],
          "contour": [
           {
            "colorbar": {
             "outlinewidth": 0,
             "ticks": ""
            },
            "colorscale": [
             [
              0,
              "#0d0887"
             ],
             [
              0.1111111111111111,
              "#46039f"
             ],
             [
              0.2222222222222222,
              "#7201a8"
             ],
             [
              0.3333333333333333,
              "#9c179e"
             ],
             [
              0.4444444444444444,
              "#bd3786"
             ],
             [
              0.5555555555555556,
              "#d8576b"
             ],
             [
              0.6666666666666666,
              "#ed7953"
             ],
             [
              0.7777777777777778,
              "#fb9f3a"
             ],
             [
              0.8888888888888888,
              "#fdca26"
             ],
             [
              1,
              "#f0f921"
             ]
            ],
            "type": "contour"
           }
          ],
          "contourcarpet": [
           {
            "colorbar": {
             "outlinewidth": 0,
             "ticks": ""
            },
            "type": "contourcarpet"
           }
          ],
          "heatmap": [
           {
            "colorbar": {
             "outlinewidth": 0,
             "ticks": ""
            },
            "colorscale": [
             [
              0,
              "#0d0887"
             ],
             [
              0.1111111111111111,
              "#46039f"
             ],
             [
              0.2222222222222222,
              "#7201a8"
             ],
             [
              0.3333333333333333,
              "#9c179e"
             ],
             [
              0.4444444444444444,
              "#bd3786"
             ],
             [
              0.5555555555555556,
              "#d8576b"
             ],
             [
              0.6666666666666666,
              "#ed7953"
             ],
             [
              0.7777777777777778,
              "#fb9f3a"
             ],
             [
              0.8888888888888888,
              "#fdca26"
             ],
             [
              1,
              "#f0f921"
             ]
            ],
            "type": "heatmap"
           }
          ],
          "heatmapgl": [
           {
            "colorbar": {
             "outlinewidth": 0,
             "ticks": ""
            },
            "colorscale": [
             [
              0,
              "#0d0887"
             ],
             [
              0.1111111111111111,
              "#46039f"
             ],
             [
              0.2222222222222222,
              "#7201a8"
             ],
             [
              0.3333333333333333,
              "#9c179e"
             ],
             [
              0.4444444444444444,
              "#bd3786"
             ],
             [
              0.5555555555555556,
              "#d8576b"
             ],
             [
              0.6666666666666666,
              "#ed7953"
             ],
             [
              0.7777777777777778,
              "#fb9f3a"
             ],
             [
              0.8888888888888888,
              "#fdca26"
             ],
             [
              1,
              "#f0f921"
             ]
            ],
            "type": "heatmapgl"
           }
          ],
          "histogram": [
           {
            "marker": {
             "pattern": {
              "fillmode": "overlay",
              "size": 10,
              "solidity": 0.2
             }
            },
            "type": "histogram"
           }
          ],
          "histogram2d": [
           {
            "colorbar": {
             "outlinewidth": 0,
             "ticks": ""
            },
            "colorscale": [
             [
              0,
              "#0d0887"
             ],
             [
              0.1111111111111111,
              "#46039f"
             ],
             [
              0.2222222222222222,
              "#7201a8"
             ],
             [
              0.3333333333333333,
              "#9c179e"
             ],
             [
              0.4444444444444444,
              "#bd3786"
             ],
             [
              0.5555555555555556,
              "#d8576b"
             ],
             [
              0.6666666666666666,
              "#ed7953"
             ],
             [
              0.7777777777777778,
              "#fb9f3a"
             ],
             [
              0.8888888888888888,
              "#fdca26"
             ],
             [
              1,
              "#f0f921"
             ]
            ],
            "type": "histogram2d"
           }
          ],
          "histogram2dcontour": [
           {
            "colorbar": {
             "outlinewidth": 0,
             "ticks": ""
            },
            "colorscale": [
             [
              0,
              "#0d0887"
             ],
             [
              0.1111111111111111,
              "#46039f"
             ],
             [
              0.2222222222222222,
              "#7201a8"
             ],
             [
              0.3333333333333333,
              "#9c179e"
             ],
             [
              0.4444444444444444,
              "#bd3786"
             ],
             [
              0.5555555555555556,
              "#d8576b"
             ],
             [
              0.6666666666666666,
              "#ed7953"
             ],
             [
              0.7777777777777778,
              "#fb9f3a"
             ],
             [
              0.8888888888888888,
              "#fdca26"
             ],
             [
              1,
              "#f0f921"
             ]
            ],
            "type": "histogram2dcontour"
           }
          ],
          "mesh3d": [
           {
            "colorbar": {
             "outlinewidth": 0,
             "ticks": ""
            },
            "type": "mesh3d"
           }
          ],
          "parcoords": [
           {
            "line": {
             "colorbar": {
              "outlinewidth": 0,
              "ticks": ""
             }
            },
            "type": "parcoords"
           }
          ],
          "pie": [
           {
            "automargin": true,
            "type": "pie"
           }
          ],
          "scatter": [
           {
            "marker": {
             "colorbar": {
              "outlinewidth": 0,
              "ticks": ""
             }
            },
            "type": "scatter"
           }
          ],
          "scatter3d": [
           {
            "line": {
             "colorbar": {
              "outlinewidth": 0,
              "ticks": ""
             }
            },
            "marker": {
             "colorbar": {
              "outlinewidth": 0,
              "ticks": ""
             }
            },
            "type": "scatter3d"
           }
          ],
          "scattercarpet": [
           {
            "marker": {
             "colorbar": {
              "outlinewidth": 0,
              "ticks": ""
             }
            },
            "type": "scattercarpet"
           }
          ],
          "scattergeo": [
           {
            "marker": {
             "colorbar": {
              "outlinewidth": 0,
              "ticks": ""
             }
            },
            "type": "scattergeo"
           }
          ],
          "scattergl": [
           {
            "marker": {
             "colorbar": {
              "outlinewidth": 0,
              "ticks": ""
             }
            },
            "type": "scattergl"
           }
          ],
          "scattermapbox": [
           {
            "marker": {
             "colorbar": {
              "outlinewidth": 0,
              "ticks": ""
             }
            },
            "type": "scattermapbox"
           }
          ],
          "scatterpolar": [
           {
            "marker": {
             "colorbar": {
              "outlinewidth": 0,
              "ticks": ""
             }
            },
            "type": "scatterpolar"
           }
          ],
          "scatterpolargl": [
           {
            "marker": {
             "colorbar": {
              "outlinewidth": 0,
              "ticks": ""
             }
            },
            "type": "scatterpolargl"
           }
          ],
          "scatterternary": [
           {
            "marker": {
             "colorbar": {
              "outlinewidth": 0,
              "ticks": ""
             }
            },
            "type": "scatterternary"
           }
          ],
          "surface": [
           {
            "colorbar": {
             "outlinewidth": 0,
             "ticks": ""
            },
            "colorscale": [
             [
              0,
              "#0d0887"
             ],
             [
              0.1111111111111111,
              "#46039f"
             ],
             [
              0.2222222222222222,
              "#7201a8"
             ],
             [
              0.3333333333333333,
              "#9c179e"
             ],
             [
              0.4444444444444444,
              "#bd3786"
             ],
             [
              0.5555555555555556,
              "#d8576b"
             ],
             [
              0.6666666666666666,
              "#ed7953"
             ],
             [
              0.7777777777777778,
              "#fb9f3a"
             ],
             [
              0.8888888888888888,
              "#fdca26"
             ],
             [
              1,
              "#f0f921"
             ]
            ],
            "type": "surface"
           }
          ],
          "table": [
           {
            "cells": {
             "fill": {
              "color": "#EBF0F8"
             },
             "line": {
              "color": "white"
             }
            },
            "header": {
             "fill": {
              "color": "#C8D4E3"
             },
             "line": {
              "color": "white"
             }
            },
            "type": "table"
           }
          ]
         },
         "layout": {
          "annotationdefaults": {
           "arrowcolor": "#2a3f5f",
           "arrowhead": 0,
           "arrowwidth": 1
          },
          "autotypenumbers": "strict",
          "coloraxis": {
           "colorbar": {
            "outlinewidth": 0,
            "ticks": ""
           }
          },
          "colorscale": {
           "diverging": [
            [
             0,
             "#8e0152"
            ],
            [
             0.1,
             "#c51b7d"
            ],
            [
             0.2,
             "#de77ae"
            ],
            [
             0.3,
             "#f1b6da"
            ],
            [
             0.4,
             "#fde0ef"
            ],
            [
             0.5,
             "#f7f7f7"
            ],
            [
             0.6,
             "#e6f5d0"
            ],
            [
             0.7,
             "#b8e186"
            ],
            [
             0.8,
             "#7fbc41"
            ],
            [
             0.9,
             "#4d9221"
            ],
            [
             1,
             "#276419"
            ]
           ],
           "sequential": [
            [
             0,
             "#0d0887"
            ],
            [
             0.1111111111111111,
             "#46039f"
            ],
            [
             0.2222222222222222,
             "#7201a8"
            ],
            [
             0.3333333333333333,
             "#9c179e"
            ],
            [
             0.4444444444444444,
             "#bd3786"
            ],
            [
             0.5555555555555556,
             "#d8576b"
            ],
            [
             0.6666666666666666,
             "#ed7953"
            ],
            [
             0.7777777777777778,
             "#fb9f3a"
            ],
            [
             0.8888888888888888,
             "#fdca26"
            ],
            [
             1,
             "#f0f921"
            ]
           ],
           "sequentialminus": [
            [
             0,
             "#0d0887"
            ],
            [
             0.1111111111111111,
             "#46039f"
            ],
            [
             0.2222222222222222,
             "#7201a8"
            ],
            [
             0.3333333333333333,
             "#9c179e"
            ],
            [
             0.4444444444444444,
             "#bd3786"
            ],
            [
             0.5555555555555556,
             "#d8576b"
            ],
            [
             0.6666666666666666,
             "#ed7953"
            ],
            [
             0.7777777777777778,
             "#fb9f3a"
            ],
            [
             0.8888888888888888,
             "#fdca26"
            ],
            [
             1,
             "#f0f921"
            ]
           ]
          },
          "colorway": [
           "#636efa",
           "#EF553B",
           "#00cc96",
           "#ab63fa",
           "#FFA15A",
           "#19d3f3",
           "#FF6692",
           "#B6E880",
           "#FF97FF",
           "#FECB52"
          ],
          "font": {
           "color": "#2a3f5f"
          },
          "geo": {
           "bgcolor": "white",
           "lakecolor": "white",
           "landcolor": "#E5ECF6",
           "showlakes": true,
           "showland": true,
           "subunitcolor": "white"
          },
          "hoverlabel": {
           "align": "left"
          },
          "hovermode": "closest",
          "mapbox": {
           "style": "light"
          },
          "paper_bgcolor": "white",
          "plot_bgcolor": "#E5ECF6",
          "polar": {
           "angularaxis": {
            "gridcolor": "white",
            "linecolor": "white",
            "ticks": ""
           },
           "bgcolor": "#E5ECF6",
           "radialaxis": {
            "gridcolor": "white",
            "linecolor": "white",
            "ticks": ""
           }
          },
          "scene": {
           "xaxis": {
            "backgroundcolor": "#E5ECF6",
            "gridcolor": "white",
            "gridwidth": 2,
            "linecolor": "white",
            "showbackground": true,
            "ticks": "",
            "zerolinecolor": "white"
           },
           "yaxis": {
            "backgroundcolor": "#E5ECF6",
            "gridcolor": "white",
            "gridwidth": 2,
            "linecolor": "white",
            "showbackground": true,
            "ticks": "",
            "zerolinecolor": "white"
           },
           "zaxis": {
            "backgroundcolor": "#E5ECF6",
            "gridcolor": "white",
            "gridwidth": 2,
            "linecolor": "white",
            "showbackground": true,
            "ticks": "",
            "zerolinecolor": "white"
           }
          },
          "shapedefaults": {
           "line": {
            "color": "#2a3f5f"
           }
          },
          "ternary": {
           "aaxis": {
            "gridcolor": "white",
            "linecolor": "white",
            "ticks": ""
           },
           "baxis": {
            "gridcolor": "white",
            "linecolor": "white",
            "ticks": ""
           },
           "bgcolor": "#E5ECF6",
           "caxis": {
            "gridcolor": "white",
            "linecolor": "white",
            "ticks": ""
           }
          },
          "title": {
           "x": 0.05
          },
          "xaxis": {
           "automargin": true,
           "gridcolor": "white",
           "linecolor": "white",
           "ticks": "",
           "title": {
            "standoff": 15
           },
           "zerolinecolor": "white",
           "zerolinewidth": 2
          },
          "yaxis": {
           "automargin": true,
           "gridcolor": "white",
           "linecolor": "white",
           "ticks": "",
           "title": {
            "standoff": 15
           },
           "zerolinecolor": "white",
           "zerolinewidth": 2
          }
         }
        },
        "title": {
         "text": "Valores de Silhueta Médio"
        },
        "xaxis": {
         "title": {
          "text": "Número de Clústeres"
         }
        },
        "yaxis": {
         "title": {
          "text": "Valor médio silhueta"
         }
        }
       }
      }
     },
     "metadata": {},
     "output_type": "display_data"
    }
   ],
   "source": [
    "fig = go.Figure()\n",
    "fig.add_trace(go.Scatter(x = range_not_clusters, y = silhouette_values))\n",
    "fig.update_layout(\n",
    "    title = \"Valores de Silhueta Médio\",\n",
    "    xaxis_title = \"Número de Clústeres\",\n",
    "    yaxis_title = \"Valor médio silhueta\",\n",
    ")"
   ]
  },
  {
   "cell_type": "markdown",
   "metadata": {},
   "source": [
    "OBS:Como se podemos perceber o maior valor de coeficiente de silhueta que se tem é quando o valor de K, que é o número de clusters, é igual a 3."
   ]
  },
  {
   "cell_type": "code",
   "execution_count": 44,
   "metadata": {},
   "outputs": [
    {
     "data": {
      "text/plain": [
       "array([0.02      , 0.03655172, 0.05310345, 0.06965517, 0.0862069 ,\n",
       "       0.10275862, 0.11931034, 0.13586207, 0.15241379, 0.16896552,\n",
       "       0.18551724, 0.20206897, 0.21862069, 0.23517241, 0.25172414,\n",
       "       0.26827586, 0.28482759, 0.30137931, 0.31793103, 0.33448276,\n",
       "       0.35103448, 0.36758621, 0.38413793, 0.40068966, 0.41724138,\n",
       "       0.4337931 , 0.45034483, 0.46689655, 0.48344828, 0.5       ])"
      ]
     },
     "execution_count": 44,
     "metadata": {},
     "output_type": "execute_result"
    }
   ],
   "source": [
    "range_quantile = np.linspace(0.02, 0.5, 30)\n",
    "range_quantile"
   ]
  },
  {
   "cell_type": "markdown",
   "metadata": {},
   "source": [
    "isso ira nos ajudar a criar 15 posições "
   ]
  },
  {
   "cell_type": "code",
   "execution_count": 45,
   "metadata": {},
   "outputs": [],
   "source": [
    "silhouette_values = []\n",
    "quantil_plot = []\n",
    "\n",
    "for quantile in range_quantile:\n",
    "    bandwidth = estimate_bandwidth(df, quantile= quantile)\n",
    "    bundler = MeanShift(bandwidth = bandwidth)\n",
    "    labels = bundler.fit_predict(df)\n",
    "    \n",
    "    if (len(np.unique(labels)) < len(df) and len(np.unique(labels)) > 1):\n",
    "        silhouette_average = silhouette_score(df, labels)\n",
    "        silhouette_values.append(silhouette_average)\n",
    "        quantil_plot.append(quantile)"
   ]
  },
  {
   "cell_type": "markdown",
   "metadata": {},
   "source": [
    "Todo esse codigo criado ira nos ajuda a a gera o quantil de clusters"
   ]
  },
  {
   "cell_type": "code",
   "execution_count": 46,
   "metadata": {},
   "outputs": [
    {
     "data": {
      "application/vnd.plotly.v1+json": {
       "config": {
        "plotlyServerURL": "https://plot.ly"
       },
       "data": [
        {
         "type": "scatter",
         "x": [
          0.02,
          0.036551724137931035,
          0.05310344827586207,
          0.06965517241379311,
          0.08620689655172414,
          0.10275862068965518,
          0.11931034482758622,
          0.13586206896551725,
          0.15241379310344827,
          0.16896551724137931,
          0.18551724137931033,
          0.20206896551724138,
          0.21862068965517242,
          0.23517241379310344,
          0.2517241379310345,
          0.26827586206896553,
          0.2848275862068966,
          0.3013793103448276,
          0.31793103448275867
         ],
         "y": [
          0.0688577221871855,
          0.12695730208514433,
          0.21222500077088088,
          0.2286093688267214,
          0.2317584058145143,
          0.24240075989450527,
          0.24150478830604163,
          0.28061084874032294,
          0.29012683820901647,
          0.3145807263039277,
          0.34482478134958633,
          0.3435317354353203,
          0.3435317354353203,
          0.20305945108914147,
          0.2279176455210267,
          0.30638538825691175,
          0.30672378482144286,
          0.20758352839192923,
          0.20758352839192923
         ]
        }
       ],
       "layout": {
        "template": {
         "data": {
          "bar": [
           {
            "error_x": {
             "color": "#2a3f5f"
            },
            "error_y": {
             "color": "#2a3f5f"
            },
            "marker": {
             "line": {
              "color": "#E5ECF6",
              "width": 0.5
             },
             "pattern": {
              "fillmode": "overlay",
              "size": 10,
              "solidity": 0.2
             }
            },
            "type": "bar"
           }
          ],
          "barpolar": [
           {
            "marker": {
             "line": {
              "color": "#E5ECF6",
              "width": 0.5
             },
             "pattern": {
              "fillmode": "overlay",
              "size": 10,
              "solidity": 0.2
             }
            },
            "type": "barpolar"
           }
          ],
          "carpet": [
           {
            "aaxis": {
             "endlinecolor": "#2a3f5f",
             "gridcolor": "white",
             "linecolor": "white",
             "minorgridcolor": "white",
             "startlinecolor": "#2a3f5f"
            },
            "baxis": {
             "endlinecolor": "#2a3f5f",
             "gridcolor": "white",
             "linecolor": "white",
             "minorgridcolor": "white",
             "startlinecolor": "#2a3f5f"
            },
            "type": "carpet"
           }
          ],
          "choropleth": [
           {
            "colorbar": {
             "outlinewidth": 0,
             "ticks": ""
            },
            "type": "choropleth"
           }
          ],
          "contour": [
           {
            "colorbar": {
             "outlinewidth": 0,
             "ticks": ""
            },
            "colorscale": [
             [
              0,
              "#0d0887"
             ],
             [
              0.1111111111111111,
              "#46039f"
             ],
             [
              0.2222222222222222,
              "#7201a8"
             ],
             [
              0.3333333333333333,
              "#9c179e"
             ],
             [
              0.4444444444444444,
              "#bd3786"
             ],
             [
              0.5555555555555556,
              "#d8576b"
             ],
             [
              0.6666666666666666,
              "#ed7953"
             ],
             [
              0.7777777777777778,
              "#fb9f3a"
             ],
             [
              0.8888888888888888,
              "#fdca26"
             ],
             [
              1,
              "#f0f921"
             ]
            ],
            "type": "contour"
           }
          ],
          "contourcarpet": [
           {
            "colorbar": {
             "outlinewidth": 0,
             "ticks": ""
            },
            "type": "contourcarpet"
           }
          ],
          "heatmap": [
           {
            "colorbar": {
             "outlinewidth": 0,
             "ticks": ""
            },
            "colorscale": [
             [
              0,
              "#0d0887"
             ],
             [
              0.1111111111111111,
              "#46039f"
             ],
             [
              0.2222222222222222,
              "#7201a8"
             ],
             [
              0.3333333333333333,
              "#9c179e"
             ],
             [
              0.4444444444444444,
              "#bd3786"
             ],
             [
              0.5555555555555556,
              "#d8576b"
             ],
             [
              0.6666666666666666,
              "#ed7953"
             ],
             [
              0.7777777777777778,
              "#fb9f3a"
             ],
             [
              0.8888888888888888,
              "#fdca26"
             ],
             [
              1,
              "#f0f921"
             ]
            ],
            "type": "heatmap"
           }
          ],
          "heatmapgl": [
           {
            "colorbar": {
             "outlinewidth": 0,
             "ticks": ""
            },
            "colorscale": [
             [
              0,
              "#0d0887"
             ],
             [
              0.1111111111111111,
              "#46039f"
             ],
             [
              0.2222222222222222,
              "#7201a8"
             ],
             [
              0.3333333333333333,
              "#9c179e"
             ],
             [
              0.4444444444444444,
              "#bd3786"
             ],
             [
              0.5555555555555556,
              "#d8576b"
             ],
             [
              0.6666666666666666,
              "#ed7953"
             ],
             [
              0.7777777777777778,
              "#fb9f3a"
             ],
             [
              0.8888888888888888,
              "#fdca26"
             ],
             [
              1,
              "#f0f921"
             ]
            ],
            "type": "heatmapgl"
           }
          ],
          "histogram": [
           {
            "marker": {
             "pattern": {
              "fillmode": "overlay",
              "size": 10,
              "solidity": 0.2
             }
            },
            "type": "histogram"
           }
          ],
          "histogram2d": [
           {
            "colorbar": {
             "outlinewidth": 0,
             "ticks": ""
            },
            "colorscale": [
             [
              0,
              "#0d0887"
             ],
             [
              0.1111111111111111,
              "#46039f"
             ],
             [
              0.2222222222222222,
              "#7201a8"
             ],
             [
              0.3333333333333333,
              "#9c179e"
             ],
             [
              0.4444444444444444,
              "#bd3786"
             ],
             [
              0.5555555555555556,
              "#d8576b"
             ],
             [
              0.6666666666666666,
              "#ed7953"
             ],
             [
              0.7777777777777778,
              "#fb9f3a"
             ],
             [
              0.8888888888888888,
              "#fdca26"
             ],
             [
              1,
              "#f0f921"
             ]
            ],
            "type": "histogram2d"
           }
          ],
          "histogram2dcontour": [
           {
            "colorbar": {
             "outlinewidth": 0,
             "ticks": ""
            },
            "colorscale": [
             [
              0,
              "#0d0887"
             ],
             [
              0.1111111111111111,
              "#46039f"
             ],
             [
              0.2222222222222222,
              "#7201a8"
             ],
             [
              0.3333333333333333,
              "#9c179e"
             ],
             [
              0.4444444444444444,
              "#bd3786"
             ],
             [
              0.5555555555555556,
              "#d8576b"
             ],
             [
              0.6666666666666666,
              "#ed7953"
             ],
             [
              0.7777777777777778,
              "#fb9f3a"
             ],
             [
              0.8888888888888888,
              "#fdca26"
             ],
             [
              1,
              "#f0f921"
             ]
            ],
            "type": "histogram2dcontour"
           }
          ],
          "mesh3d": [
           {
            "colorbar": {
             "outlinewidth": 0,
             "ticks": ""
            },
            "type": "mesh3d"
           }
          ],
          "parcoords": [
           {
            "line": {
             "colorbar": {
              "outlinewidth": 0,
              "ticks": ""
             }
            },
            "type": "parcoords"
           }
          ],
          "pie": [
           {
            "automargin": true,
            "type": "pie"
           }
          ],
          "scatter": [
           {
            "marker": {
             "colorbar": {
              "outlinewidth": 0,
              "ticks": ""
             }
            },
            "type": "scatter"
           }
          ],
          "scatter3d": [
           {
            "line": {
             "colorbar": {
              "outlinewidth": 0,
              "ticks": ""
             }
            },
            "marker": {
             "colorbar": {
              "outlinewidth": 0,
              "ticks": ""
             }
            },
            "type": "scatter3d"
           }
          ],
          "scattercarpet": [
           {
            "marker": {
             "colorbar": {
              "outlinewidth": 0,
              "ticks": ""
             }
            },
            "type": "scattercarpet"
           }
          ],
          "scattergeo": [
           {
            "marker": {
             "colorbar": {
              "outlinewidth": 0,
              "ticks": ""
             }
            },
            "type": "scattergeo"
           }
          ],
          "scattergl": [
           {
            "marker": {
             "colorbar": {
              "outlinewidth": 0,
              "ticks": ""
             }
            },
            "type": "scattergl"
           }
          ],
          "scattermapbox": [
           {
            "marker": {
             "colorbar": {
              "outlinewidth": 0,
              "ticks": ""
             }
            },
            "type": "scattermapbox"
           }
          ],
          "scatterpolar": [
           {
            "marker": {
             "colorbar": {
              "outlinewidth": 0,
              "ticks": ""
             }
            },
            "type": "scatterpolar"
           }
          ],
          "scatterpolargl": [
           {
            "marker": {
             "colorbar": {
              "outlinewidth": 0,
              "ticks": ""
             }
            },
            "type": "scatterpolargl"
           }
          ],
          "scatterternary": [
           {
            "marker": {
             "colorbar": {
              "outlinewidth": 0,
              "ticks": ""
             }
            },
            "type": "scatterternary"
           }
          ],
          "surface": [
           {
            "colorbar": {
             "outlinewidth": 0,
             "ticks": ""
            },
            "colorscale": [
             [
              0,
              "#0d0887"
             ],
             [
              0.1111111111111111,
              "#46039f"
             ],
             [
              0.2222222222222222,
              "#7201a8"
             ],
             [
              0.3333333333333333,
              "#9c179e"
             ],
             [
              0.4444444444444444,
              "#bd3786"
             ],
             [
              0.5555555555555556,
              "#d8576b"
             ],
             [
              0.6666666666666666,
              "#ed7953"
             ],
             [
              0.7777777777777778,
              "#fb9f3a"
             ],
             [
              0.8888888888888888,
              "#fdca26"
             ],
             [
              1,
              "#f0f921"
             ]
            ],
            "type": "surface"
           }
          ],
          "table": [
           {
            "cells": {
             "fill": {
              "color": "#EBF0F8"
             },
             "line": {
              "color": "white"
             }
            },
            "header": {
             "fill": {
              "color": "#C8D4E3"
             },
             "line": {
              "color": "white"
             }
            },
            "type": "table"
           }
          ]
         },
         "layout": {
          "annotationdefaults": {
           "arrowcolor": "#2a3f5f",
           "arrowhead": 0,
           "arrowwidth": 1
          },
          "autotypenumbers": "strict",
          "coloraxis": {
           "colorbar": {
            "outlinewidth": 0,
            "ticks": ""
           }
          },
          "colorscale": {
           "diverging": [
            [
             0,
             "#8e0152"
            ],
            [
             0.1,
             "#c51b7d"
            ],
            [
             0.2,
             "#de77ae"
            ],
            [
             0.3,
             "#f1b6da"
            ],
            [
             0.4,
             "#fde0ef"
            ],
            [
             0.5,
             "#f7f7f7"
            ],
            [
             0.6,
             "#e6f5d0"
            ],
            [
             0.7,
             "#b8e186"
            ],
            [
             0.8,
             "#7fbc41"
            ],
            [
             0.9,
             "#4d9221"
            ],
            [
             1,
             "#276419"
            ]
           ],
           "sequential": [
            [
             0,
             "#0d0887"
            ],
            [
             0.1111111111111111,
             "#46039f"
            ],
            [
             0.2222222222222222,
             "#7201a8"
            ],
            [
             0.3333333333333333,
             "#9c179e"
            ],
            [
             0.4444444444444444,
             "#bd3786"
            ],
            [
             0.5555555555555556,
             "#d8576b"
            ],
            [
             0.6666666666666666,
             "#ed7953"
            ],
            [
             0.7777777777777778,
             "#fb9f3a"
            ],
            [
             0.8888888888888888,
             "#fdca26"
            ],
            [
             1,
             "#f0f921"
            ]
           ],
           "sequentialminus": [
            [
             0,
             "#0d0887"
            ],
            [
             0.1111111111111111,
             "#46039f"
            ],
            [
             0.2222222222222222,
             "#7201a8"
            ],
            [
             0.3333333333333333,
             "#9c179e"
            ],
            [
             0.4444444444444444,
             "#bd3786"
            ],
            [
             0.5555555555555556,
             "#d8576b"
            ],
            [
             0.6666666666666666,
             "#ed7953"
            ],
            [
             0.7777777777777778,
             "#fb9f3a"
            ],
            [
             0.8888888888888888,
             "#fdca26"
            ],
            [
             1,
             "#f0f921"
            ]
           ]
          },
          "colorway": [
           "#636efa",
           "#EF553B",
           "#00cc96",
           "#ab63fa",
           "#FFA15A",
           "#19d3f3",
           "#FF6692",
           "#B6E880",
           "#FF97FF",
           "#FECB52"
          ],
          "font": {
           "color": "#2a3f5f"
          },
          "geo": {
           "bgcolor": "white",
           "lakecolor": "white",
           "landcolor": "#E5ECF6",
           "showlakes": true,
           "showland": true,
           "subunitcolor": "white"
          },
          "hoverlabel": {
           "align": "left"
          },
          "hovermode": "closest",
          "mapbox": {
           "style": "light"
          },
          "paper_bgcolor": "white",
          "plot_bgcolor": "#E5ECF6",
          "polar": {
           "angularaxis": {
            "gridcolor": "white",
            "linecolor": "white",
            "ticks": ""
           },
           "bgcolor": "#E5ECF6",
           "radialaxis": {
            "gridcolor": "white",
            "linecolor": "white",
            "ticks": ""
           }
          },
          "scene": {
           "xaxis": {
            "backgroundcolor": "#E5ECF6",
            "gridcolor": "white",
            "gridwidth": 2,
            "linecolor": "white",
            "showbackground": true,
            "ticks": "",
            "zerolinecolor": "white"
           },
           "yaxis": {
            "backgroundcolor": "#E5ECF6",
            "gridcolor": "white",
            "gridwidth": 2,
            "linecolor": "white",
            "showbackground": true,
            "ticks": "",
            "zerolinecolor": "white"
           },
           "zaxis": {
            "backgroundcolor": "#E5ECF6",
            "gridcolor": "white",
            "gridwidth": 2,
            "linecolor": "white",
            "showbackground": true,
            "ticks": "",
            "zerolinecolor": "white"
           }
          },
          "shapedefaults": {
           "line": {
            "color": "#2a3f5f"
           }
          },
          "ternary": {
           "aaxis": {
            "gridcolor": "white",
            "linecolor": "white",
            "ticks": ""
           },
           "baxis": {
            "gridcolor": "white",
            "linecolor": "white",
            "ticks": ""
           },
           "bgcolor": "#E5ECF6",
           "caxis": {
            "gridcolor": "white",
            "linecolor": "white",
            "ticks": ""
           }
          },
          "title": {
           "x": 0.05
          },
          "xaxis": {
           "automargin": true,
           "gridcolor": "white",
           "linecolor": "white",
           "ticks": "",
           "title": {
            "standoff": 15
           },
           "zerolinecolor": "white",
           "zerolinewidth": 2
          },
          "yaxis": {
           "automargin": true,
           "gridcolor": "white",
           "linecolor": "white",
           "ticks": "",
           "title": {
            "standoff": 15
           },
           "zerolinecolor": "white",
           "zerolinewidth": 2
          }
         }
        },
        "xaxis": {
         "title": {
          "text": "Quantil"
         }
        },
        "yaxis": {
         "title": {
          "text": "Média Silhueta"
         }
        }
       }
      }
     },
     "metadata": {},
     "output_type": "display_data"
    }
   ],
   "source": [
    "fig = go.Figure()\n",
    "fig.add_trace(go.Scatter(x = quantil_plot,\n",
    "                         y = silhouette_values))\n",
    "fig.update_layout(dict(xaxis_title = \"Quantil\",\n",
    "                       yaxis_title = \"Média Silhueta\")),\n",
    "fig.show()"
   ]
  },
  {
   "cell_type": "markdown",
   "metadata": {},
   "source": [
    "OBS:Mais uma vez, é um valor um pouco longe do 1. É um valor ótimo do ponto de vista do MeanShift, mas isso nos indica que talvez o MeanShift não seja o melhor método para agruparmos os nossos dados, uma vez que o valor de coeficiente de silhueta deu um valor bom, mas não foi tão bom assim, pensando que ele poderia chegar até em 1."
   ]
  },
  {
   "cell_type": "code",
   "execution_count": 47,
   "metadata": {},
   "outputs": [],
   "source": [
    "from sklearn.cluster import KMeans, MeanShift, DBSCAN, estimate_bandwidth\n",
    "from sklearn.metrics import silhouette_score"
   ]
  },
  {
   "cell_type": "code",
   "execution_count": 48,
   "metadata": {},
   "outputs": [
    {
     "name": "stdout",
     "output_type": "stream",
     "text": [
      "Labels K-means:  [2 2 2 2 2 2 2 2 2 2 2 2 2 2 2 2 2 2 2 2 2 2 2 2 2 2 2 2 2 2 2 2 2 2 2 2 2\n",
      " 2 2 2 2 2 2 2 2 2 2 2 2 2 2 2 2 2 2 2 2 2 2 0 0 0 0 0 0 0 0 0 0 0 0 0 0 2\n",
      " 0 0 0 0 0 0 0 0 0 1 0 0 0 0 0 0 0 0 0 0 0 0 0 0 0 0 0 0 0 0 0 0 0 0 0 0 0\n",
      " 0 0 0 0 0 0 0 0 0 0 0 0 0 0 0 0 0 0 0 1 1 1 1 1 1 1 1 1 1 1 1 1 1 1 1 1 1\n",
      " 1 1 1 1 1 1 1 1 1 1 1 1 1 1 1 1 1 1 1 1 1 1 1 1 1 1 1 1 1 1]\n",
      "Labels DBSCAN:  [ 0  0  0  0  0  0  0  0  0  0  0  0  0  0  0  0  0  0  0  0  0  0  0  0\n",
      "  0  0  0  0  0  0  0  0  0  0  0  0  0  0  0  0  0  0  0  0  0  0  0  0\n",
      "  0  0  0  0  0  0  0  0  0  0  0 -1 -1 -1  0  0 -1  0  0  0 -1 -1 -1  0\n",
      "  0 -1  0  0  0 -1 -1  0  0  0  0 -1  0  0  0  0  0  0  0  0 -1  0  0 -1\n",
      " -1  0  0 -1  0  0  0  0  0 -1  0  0  0  0 -1  0 -1  0  0 -1  0  0 -1  0\n",
      "  0 -1 -1  0 -1  0  0 -1  0 -1 -1 -1 -1 -1 -1 -1 -1 -1 -1 -1 -1 -1 -1 -1\n",
      " -1 -1 -1 -1 -1 -1 -1 -1 -1 -1 -1 -1 -1 -1 -1 -1 -1 -1 -1 -1 -1 -1 -1 -1\n",
      " -1 -1 -1 -1 -1 -1 -1 -1 -1 -1]\n",
      "Labels MeanShift:  [0 0 0 0 0 0 0 0 0 0 0 0 0 0 0 0 0 0 0 0 0 0 0 0 0 0 0 0 0 0 0 0 0 0 0 0 0\n",
      " 0 0 0 0 0 0 0 0 0 0 0 0 0 0 0 0 0 0 0 0 0 0 0 1 1 0 0 0 0 0 0 0 0 1 0 0 0\n",
      " 0 0 0 1 0 0 0 0 0 1 0 0 0 0 0 0 0 0 1 0 0 0 0 0 0 0 0 0 0 0 0 1 0 1 0 0 0\n",
      " 0 1 0 0 0 0 0 1 0 0 2 0 0 0 0 0 1 0 1 1 1 1 1 1 1 1 1 1 1 1 1 1 1 1 1 1 1\n",
      " 1 1 1 1 1 1 1 1 1 1 1 1 1 1 1 1 1 1 1 1 1 1 1 1 1 1 1 1 1 1]\n"
     ]
    }
   ],
   "source": [
    "bundler_kmeans = KMeans(n_clusters=3)\n",
    "bundler_DBSCAN = DBSCAN(eps=2.1, min_samples=56, metric=\"manhattan\")\n",
    "\n",
    "BW = estimate_bandwidth(df, quantile= 0.28)\n",
    "bundler_MeanShift = MeanShift(bandwidth=BW)\n",
    "\n",
    "labels_kmeans = bundler_kmeans.fit_predict(df)\n",
    "labels_dbscan = bundler_DBSCAN.fit_predict(df)\n",
    "labels_meanshift = bundler_MeanShift.fit_predict(df)\n",
    "\n",
    "print(\"Labels K-means: \",labels_kmeans)\n",
    "print(\"Labels DBSCAN: \",labels_dbscan)\n",
    "print(\"Labels MeanShift: \",labels_meanshift)"
   ]
  },
  {
   "cell_type": "markdown",
   "metadata": {},
   "source": [
    "Para evitar qualquer porblema foi importados todas as bibliotecas novamentes;\n",
    "Para podemos analisar os 3 metodos que foram ultilizados printamos cada um deles para termos uma ideia dos sues clusters,o kmeans nos deu 3 clusters, o dbscan nos deu apenas um cluster e varios ruidos e meanshift apenas 0 ou seja 1 cluster"
   ]
  },
  {
   "cell_type": "code",
   "execution_count": 49,
   "metadata": {},
   "outputs": [
    {
     "name": "stdout",
     "output_type": "stream",
     "text": [
      "O coeficiente de silhueta do k-means é:  0.36950618492736303\n",
      "O coeficiente de silhueta do DBSCAN é:  0.3016232115094375\n",
      "O coeficiente de silhueta do MeanShift é:  0.3059152866115628\n"
     ]
    }
   ],
   "source": [
    "print(\"O coeficiente de silhueta do k-means é: \",silhouette_score(df, labels_kmeans))\n",
    "print(\"O coeficiente de silhueta do DBSCAN é: \",silhouette_score(df, labels_dbscan))\n",
    "print(\"O coeficiente de silhueta do MeanShift é: \",silhouette_score(df, labels_meanshift))"
   ]
  },
  {
   "cell_type": "markdown",
   "metadata": {},
   "source": [
    "com isso pode se analisar que o K-means é o melhor metodo para poder analisar esse tipo de dado, além disso para da pra se perceber que para esse tipo de dados o K-means é a melhor opção. Assim sempre que for aplicar alguma coisa relacionada clusterização, não se deve utilizar apenas uma técnica, mas várias e depois avaliarmos qual delas produziu o melhor resultado segundo algum tipo de análise, que no caso foi o coeficiente de silhueta. Uma vez analisado isso, você define a melhor técnica e utiliza essa para agrupar os seus dados."
   ]
  },
  {
   "cell_type": "code",
   "execution_count": null,
   "metadata": {},
   "outputs": [],
   "source": []
  },
  {
   "cell_type": "markdown",
   "metadata": {},
   "source": []
  }
 ],
 "metadata": {
  "kernelspec": {
   "display_name": "Python 3.10.4 64-bit",
   "language": "python",
   "name": "python3"
  },
  "language_info": {
   "codemirror_mode": {
    "name": "ipython",
    "version": 3
   },
   "file_extension": ".py",
   "mimetype": "text/x-python",
   "name": "python",
   "nbconvert_exporter": "python",
   "pygments_lexer": "ipython3",
   "version": "3.10.4 (tags/v3.10.4:9d38120, Mar 23 2022, 23:13:41) [MSC v.1929 64 bit (AMD64)]"
  },
  "orig_nbformat": 4,
  "vscode": {
   "interpreter": {
    "hash": "f41d9494b1dabc6bee9690aa020ba7723cac66a972fce0f2f4db6a4ab802059d"
   }
  }
 },
 "nbformat": 4,
 "nbformat_minor": 2
}
